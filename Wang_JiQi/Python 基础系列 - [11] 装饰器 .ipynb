{
 "cells": [
  {
   "cell_type": "markdown",
   "metadata": {},
   "source": [
    "# <div style=\"text-align: center\"><font color='#dc2624' face='微软雅黑'>Python 基础系列</font></div>\n",
    "## <div style=\"text-align: center\"><font color='#dc2624' face='微软雅黑'>装饰器</font></div>\n",
    "\n",
    "## <font color='#dc2624' face='微软雅黑'>目录</font><a name='toc'></a>\n",
    "### 1. [**<font color='#dc2624' face='微软雅黑'>装饰器 101</font>**](#1)\n",
    "1. [<font color='#2b4750' face='微软雅黑'>简单例子</font>](#1.1)\n",
    "2. [<font color='#2b4750' face='微软雅黑'>闭包</font>](#1.2)\n",
    "3. [<font color='#2b4750' face='微软雅黑'>第一个装饰器</font>](#1.3)\n",
    "\n",
    "### 2. [**<font color='#dc2624' face='微软雅黑'>装饰器知识点</font>**](#2)\n",
    "1. [<font color='#2b4750' face='微软雅黑'>多个装饰器</font>](#2.1)\n",
    "2. [<font color='#2b4750' face='微软雅黑'>装饰函数传入参数</font>](#2.2)\n",
    "3. [<font color='#2b4750' face='微软雅黑'>重新找回身份</font>](#2.3)\n",
    "4. [<font color='#2b4750' face='微软雅黑'>装饰器传入参数</font>](#2.4)\n",
    "\n",
    "### 3. [**<font color='#dc2624' face='微软雅黑'>装饰器实际案例</font>**](#3)\n",
    "1. [<font color='#2b4750' face='微软雅黑'>查错</font>](#3.1)\n",
    "2. [<font color='#2b4750' face='微软雅黑'>计时</font>](#3.2)\n",
    "3. [<font color='#2b4750' face='微软雅黑'>日志</font>](#3.3)\n",
    "---"
   ]
  },
  {
   "cell_type": "markdown",
   "metadata": {},
   "source": [
    "# <font color='#dc2624' face='微软雅黑'>1. 装饰器 101</font><a name='1'></a>\n",
    "[<font color='black' face='微软雅黑'>回到目录</font>](#toc)\n",
    "\n",
    "### <font color='#2b4750' face='微软雅黑'>1.1 简单例子</font><a name='1.1'></a>\n",
    "[<font color='black' face='微软雅黑'>回到章首</font>](#1)\n",
    "\n",
    "用鸡肉饼做汉堡。"
   ]
  },
  {
   "cell_type": "code",
   "execution_count": 1,
   "metadata": {},
   "outputs": [],
   "source": [
    "def meat(food='--鸡肉饼--'):\n",
    "    print(food)"
   ]
  },
  {
   "cell_type": "code",
   "execution_count": 2,
   "metadata": {},
   "outputs": [
    {
     "name": "stdout",
     "output_type": "stream",
     "text": [
      "--鸡肉饼--\n"
     ]
    }
   ],
   "source": [
    "burger = meat\n",
    "burger()"
   ]
  },
  {
   "cell_type": "markdown",
   "metadata": {},
   "source": [
    "哪有只是肉的汉堡？再加个加点蔬菜，用西红柿和沙拉菜来包着鸡肉。"
   ]
  },
  {
   "cell_type": "code",
   "execution_count": 3,
   "metadata": {},
   "outputs": [],
   "source": [
    "def vegetable(func):\n",
    "    def wrapper():\n",
    "        print(' #西红柿# ')\n",
    "        func()\n",
    "        print(' ~沙拉菜~ ')\n",
    "    return wrapper"
   ]
  },
  {
   "cell_type": "code",
   "execution_count": 4,
   "metadata": {},
   "outputs": [
    {
     "name": "stdout",
     "output_type": "stream",
     "text": [
      " #西红柿# \n",
      "--鸡肉饼--\n",
      " ~沙拉菜~ \n"
     ]
    }
   ],
   "source": [
    "burger = vegetable(meat)\n",
    "burger()"
   ]
  },
  {
   "cell_type": "markdown",
   "metadata": {},
   "source": [
    "再加两层面包就做成了汉堡了。"
   ]
  },
  {
   "cell_type": "code",
   "execution_count": 5,
   "metadata": {},
   "outputs": [],
   "source": [
    "def bread(func):\n",
    "    def wrapper():\n",
    "        print('</------\\>')\n",
    "        func()\n",
    "        print('<\\------/>')\n",
    "    return wrapper"
   ]
  },
  {
   "cell_type": "code",
   "execution_count": 6,
   "metadata": {},
   "outputs": [
    {
     "name": "stdout",
     "output_type": "stream",
     "text": [
      "</------\\>\n",
      " #西红柿# \n",
      "--鸡肉饼--\n",
      " ~沙拉菜~ \n",
      "<\\------/>\n"
     ]
    }
   ],
   "source": [
    "burger = bread(vegetable(meat))\n",
    "burger()"
   ]
  },
  {
   "cell_type": "markdown",
   "metadata": {},
   "source": [
    "由上面例子可知，面包和蔬菜「装饰」着鸡肉饼，`bread()` 和 `vegatable()` 这两个函数起着「装饰器」的作用，它们没有改变 `meat()` 函数，只在它的基础上添砖加瓦，最后把鸡肉饼装饰成汉堡。\n",
    "\n",
    "如果用装饰器的正规语法，用 `@func` 语法，将 `@bread` 和 `@vegatable` 放在被装饰的函数上面。"
   ]
  },
  {
   "cell_type": "code",
   "execution_count": 11,
   "metadata": {},
   "outputs": [],
   "source": [
    "@bread\n",
    "@vegetable\n",
    "def meat(food='--鸡肉饼--'):\n",
    "    print(food)"
   ]
  },
  {
   "cell_type": "code",
   "execution_count": 12,
   "metadata": {},
   "outputs": [
    {
     "name": "stdout",
     "output_type": "stream",
     "text": [
      "</------\\>\n",
      " #西红柿# \n",
      "--鸡肉饼--\n",
      " ~沙拉菜~ \n",
      "<\\------/>\n"
     ]
    }
   ],
   "source": [
    "burger = meat\n",
    "burger()"
   ]
  },
  {
   "cell_type": "markdown",
   "metadata": {},
   "source": [
    "装饰器是有序的，如果互换 `bread()` 和 `vegatable()` 这两函数的位置，那么这汉堡最外层是蔬菜，中间是面包，里面是鸡肉饼，就不像汉堡了。"
   ]
  },
  {
   "cell_type": "code",
   "execution_count": 13,
   "metadata": {},
   "outputs": [],
   "source": [
    "@vegetable\n",
    "@bread\n",
    "def meat(food='--鸡肉饼--'):\n",
    "    print(food)"
   ]
  },
  {
   "cell_type": "code",
   "execution_count": 14,
   "metadata": {},
   "outputs": [
    {
     "name": "stdout",
     "output_type": "stream",
     "text": [
      " #西红柿# \n",
      "</------\\>\n",
      "--鸡肉饼--\n",
      "<\\------/>\n",
      " ~沙拉菜~ \n"
     ]
    }
   ],
   "source": [
    "burger = meat\n",
    "burger()"
   ]
  },
  {
   "cell_type": "markdown",
   "metadata": {},
   "source": [
    "### <font color='#2b4750' face='微软雅黑'>1.2 闭包</font><a name='1.2'></a>\n",
    "[<font color='black' face='微软雅黑'>回到章首</font>](#1)\n",
    "\n",
    "在正式了解装饰器之前，我们回顾之前函数的知识点：\n",
    "\n",
    "- **一等公民函数**：函数是可以赋值给变量，可以当成**参数**传给另一个函数，也可以在另一个函数中**返回**\n",
    "- **闭包**：在嵌套函数 (外函数嵌套内函数) 中，内函数引用外函数的**非本地变量**，然后外函数返回内函数。\n",
    "\n",
    "首先看一个闭包。内函数 `inner()` 可以使用外函数 `outer()` 的参数 `msg`, 注意 `msg` 不在内函数的定义范围内，而来自外函数的参数。最后外函数返回**内函数对象** `inner`。"
   ]
  },
  {
   "cell_type": "code",
   "execution_count": 23,
   "metadata": {},
   "outputs": [],
   "source": [
    "def outer(msg):\n",
    "    def inner():\n",
    "        print(msg)\n",
    "    return inner"
   ]
  },
  {
   "cell_type": "markdown",
   "metadata": {},
   "source": [
    "在 `outer()` 中传递不同的参数 'Hi' 和 'Bye' 来定义不同的函数：\n",
    "\n",
    "- `hi_func()` 输出 'Hi'\n",
    "- `bye_func()` 输出 'Bye'"
   ]
  },
  {
   "cell_type": "code",
   "execution_count": 24,
   "metadata": {},
   "outputs": [
    {
     "name": "stdout",
     "output_type": "stream",
     "text": [
      "<function outer.<locals>.inner at 0x000001D529B282F0>\n",
      "Hi\n"
     ]
    }
   ],
   "source": [
    "hi_func = outer('Hi')\n",
    "print(hi_func)\n",
    "hi_func()"
   ]
  },
  {
   "cell_type": "code",
   "execution_count": 25,
   "metadata": {},
   "outputs": [
    {
     "name": "stdout",
     "output_type": "stream",
     "text": [
      "<function outer.<locals>.inner at 0x000001D529B289D8>\n",
      "Bye\n"
     ]
    }
   ],
   "source": [
    "bye_func = outer('Bye')\n",
    "print(bye_func)\n",
    "bye_func()"
   ]
  },
  {
   "cell_type": "markdown",
   "metadata": {},
   "source": [
    "接下来，在上面函数中，\n",
    "\n",
    "- 将 `outer()` 用 `decorator()` 来替换\n",
    "- 将 `inner()` 用 `wrapper()` 来替换"
   ]
  },
  {
   "cell_type": "code",
   "execution_count": 26,
   "metadata": {},
   "outputs": [],
   "source": [
    "def decorator(msg):\n",
    "    def wrapper():\n",
    "        print(msg)\n",
    "    return wrapper"
   ]
  },
  {
   "cell_type": "markdown",
   "metadata": {},
   "source": [
    "函数 `decorator()` 就**几乎**可当成装饰器了，返回 `wrapper` **函数对象** 等着被调用，一旦被调用就运行 `print(msg)` 而打印出 `msg`。\n",
    "\n",
    "为什么说**几乎**呢？因为真正装饰器的参数是函数，而不是不同变量。将上面 `msg` 改成 `func`, `print(msg)` 改成 `return func()` 就是装饰器了。"
   ]
  },
  {
   "cell_type": "code",
   "execution_count": 27,
   "metadata": {},
   "outputs": [],
   "source": [
    "def decorator(func):\n",
    "    def wrapper():\n",
    "        return func()\n",
    "    return wrapper"
   ]
  },
  {
   "cell_type": "markdown",
   "metadata": {},
   "source": [
    "### 因此，装饰器就是一个高阶函数，其输入是函数，其输出也是函数。"
   ]
  },
  {
   "cell_type": "markdown",
   "metadata": {},
   "source": [
    "### <font color='#2b4750' face='微软雅黑'>1.3 第一个装饰器</font><a name='1.3'></a>\n",
    "[<font color='black' face='微软雅黑'>回到章首</font>](#1)"
   ]
  },
  {
   "cell_type": "code",
   "execution_count": 57,
   "metadata": {},
   "outputs": [],
   "source": [
    "def greet():\n",
    "    print('Hello!')"
   ]
  },
  {
   "cell_type": "code",
   "execution_count": 58,
   "metadata": {},
   "outputs": [],
   "source": [
    "def decorator(func):\n",
    "    def wrapper():\n",
    "        print(f\"Executed before function '{func.__name__}'\")\n",
    "        func()\n",
    "        print(f\"Executed after function '{func.__name__}'\")\n",
    "    return wrapper"
   ]
  },
  {
   "cell_type": "code",
   "execution_count": 59,
   "metadata": {},
   "outputs": [
    {
     "name": "stdout",
     "output_type": "stream",
     "text": [
      "Hello!\n"
     ]
    }
   ],
   "source": [
    "greet()"
   ]
  },
  {
   "cell_type": "code",
   "execution_count": 60,
   "metadata": {},
   "outputs": [
    {
     "name": "stdout",
     "output_type": "stream",
     "text": [
      "Executed before function 'greet'\n",
      "Hello!\n",
      "Executed after function 'greet'\n"
     ]
    }
   ],
   "source": [
    "decorate_greet = decorator(greet)\n",
    "decorate_greet()"
   ]
  },
  {
   "cell_type": "markdown",
   "metadata": {},
   "source": [
    "这样调用装饰器太过繁琐。将 `@decorator` 语法写在被装饰的函数上面，可以等价实现装饰函数的用法。"
   ]
  },
  {
   "cell_type": "code",
   "execution_count": 61,
   "metadata": {},
   "outputs": [],
   "source": [
    "@decorator\n",
    "def greet():\n",
    "    print('Hello!')"
   ]
  },
  {
   "cell_type": "code",
   "execution_count": 62,
   "metadata": {},
   "outputs": [
    {
     "name": "stdout",
     "output_type": "stream",
     "text": [
      "Executed before function 'greet'\n",
      "Hello!\n",
      "Executed after function 'greet'\n"
     ]
    }
   ],
   "source": [
    "greet()"
   ]
  },
  {
   "cell_type": "markdown",
   "metadata": {},
   "source": [
    "上面装饰器的等价用法\n",
    "\n",
    "    greet = decorator(greet)\n",
    "    \n",
    "语法 `@decorator` 也称为是上面语句的语法糖。"
   ]
  },
  {
   "cell_type": "markdown",
   "metadata": {},
   "source": [
    "# <font color='#dc2624' face='微软雅黑'>2. 装饰器知识点</font><a name='2'></a>\n",
    "[<font color='black' face='微软雅黑'>回到目录</font>](#toc)\n",
    "\n",
    "### <font color='#2b4750' face='微软雅黑'>2.1 多个装饰器</font><a name='2.1'></a>\n",
    "[<font color='black' face='微软雅黑'>回到章首</font>](#2)\n",
    "\n",
    "可从多个方面装饰一个函数，而这需要多个装饰器来完成。"
   ]
  },
  {
   "cell_type": "code",
   "execution_count": 63,
   "metadata": {},
   "outputs": [],
   "source": [
    "def slogan():\n",
    "    return 'I love Python'"
   ]
  },
  {
   "cell_type": "markdown",
   "metadata": {},
   "source": [
    "我们希望这句话\n",
    "\n",
    "- 大写化 (定义个 `uppercase_decorator` 装饰器)\n",
    "- 被分词 (定一个 `split_decorator` 装饰器)\n",
    "\n",
    "代码如下："
   ]
  },
  {
   "cell_type": "code",
   "execution_count": 64,
   "metadata": {},
   "outputs": [],
   "source": [
    "def uppercase_decorator(func):\n",
    "    def wrapper():\n",
    "        return func().upper()\n",
    "    return wrapper"
   ]
  },
  {
   "cell_type": "code",
   "execution_count": 65,
   "metadata": {},
   "outputs": [],
   "source": [
    "def split_decorator(func):\n",
    "    def wrapper():\n",
    "        return func().split()\n",
    "    return wrapper"
   ]
  },
  {
   "cell_type": "markdown",
   "metadata": {},
   "source": [
    "按先「大写」再「分词」的顺序装饰 `slogan()`，注意装饰器是按**从下往上**的顺序。 "
   ]
  },
  {
   "cell_type": "code",
   "execution_count": 66,
   "metadata": {},
   "outputs": [],
   "source": [
    "@split_decorator\n",
    "@uppercase_decorator\n",
    "def slogan():\n",
    "    return 'I love Python'"
   ]
  },
  {
   "cell_type": "code",
   "execution_count": 67,
   "metadata": {},
   "outputs": [
    {
     "data": {
      "text/plain": [
       "['I', 'LOVE', 'PYTHON']"
      ]
     },
     "execution_count": 67,
     "metadata": {},
     "output_type": "execute_result"
    }
   ],
   "source": [
    "# slogan = split_decorator(uppercase_decorator(slogan))\n",
    "slogan()"
   ]
  },
  {
   "cell_type": "markdown",
   "metadata": {},
   "source": [
    "但如果按先「分词」再「大写」的顺序装饰 `slogan()`，就报错了，因为先用 `split()` 将句子分成列表，而列表中没有 `upper()` 方法。"
   ]
  },
  {
   "cell_type": "code",
   "execution_count": 68,
   "metadata": {},
   "outputs": [],
   "source": [
    "@uppercase_decorator\n",
    "@split_decorator\n",
    "def slogan():\n",
    "    return 'I love Python'"
   ]
  },
  {
   "cell_type": "code",
   "execution_count": 69,
   "metadata": {},
   "outputs": [
    {
     "ename": "AttributeError",
     "evalue": "'list' object has no attribute 'upper'",
     "output_type": "error",
     "traceback": [
      "\u001b[1;31m---------------------------------------------------------------------------\u001b[0m",
      "\u001b[1;31mAttributeError\u001b[0m                            Traceback (most recent call last)",
      "\u001b[1;32m<ipython-input-69-33597d495a8f>\u001b[0m in \u001b[0;36m<module>\u001b[1;34m\u001b[0m\n\u001b[0;32m      1\u001b[0m \u001b[1;31m# slogan = uppercase_decorator(split_decorator(slogan))\u001b[0m\u001b[1;33m\u001b[0m\u001b[1;33m\u001b[0m\u001b[1;33m\u001b[0m\u001b[0m\n\u001b[1;32m----> 2\u001b[1;33m \u001b[0mslogan\u001b[0m\u001b[1;33m(\u001b[0m\u001b[1;33m)\u001b[0m\u001b[1;33m\u001b[0m\u001b[1;33m\u001b[0m\u001b[0m\n\u001b[0m",
      "\u001b[1;32m<ipython-input-64-73d9e0768f06>\u001b[0m in \u001b[0;36mwrapper\u001b[1;34m()\u001b[0m\n\u001b[0;32m      1\u001b[0m \u001b[1;32mdef\u001b[0m \u001b[0muppercase_decorator\u001b[0m\u001b[1;33m(\u001b[0m\u001b[0mfunc\u001b[0m\u001b[1;33m)\u001b[0m\u001b[1;33m:\u001b[0m\u001b[1;33m\u001b[0m\u001b[1;33m\u001b[0m\u001b[0m\n\u001b[0;32m      2\u001b[0m     \u001b[1;32mdef\u001b[0m \u001b[0mwrapper\u001b[0m\u001b[1;33m(\u001b[0m\u001b[1;33m)\u001b[0m\u001b[1;33m:\u001b[0m\u001b[1;33m\u001b[0m\u001b[1;33m\u001b[0m\u001b[0m\n\u001b[1;32m----> 3\u001b[1;33m         \u001b[1;32mreturn\u001b[0m \u001b[0mfunc\u001b[0m\u001b[1;33m(\u001b[0m\u001b[1;33m)\u001b[0m\u001b[1;33m.\u001b[0m\u001b[0mupper\u001b[0m\u001b[1;33m(\u001b[0m\u001b[1;33m)\u001b[0m\u001b[1;33m\u001b[0m\u001b[1;33m\u001b[0m\u001b[0m\n\u001b[0m\u001b[0;32m      4\u001b[0m     \u001b[1;32mreturn\u001b[0m \u001b[0mwrapper\u001b[0m\u001b[1;33m\u001b[0m\u001b[1;33m\u001b[0m\u001b[0m\n",
      "\u001b[1;31mAttributeError\u001b[0m: 'list' object has no attribute 'upper'"
     ]
    }
   ],
   "source": [
    "# slogan = uppercase_decorator(split_decorator(slogan))\n",
    "slogan()"
   ]
  },
  {
   "cell_type": "markdown",
   "metadata": {},
   "source": [
    "### <font color='#2b4750' face='微软雅黑'>2.2 装饰函数接受参数</font><a name='2.2'></a>\n",
    "[<font color='black' face='微软雅黑'>回到章首</font>](#2)"
   ]
  },
  {
   "cell_type": "markdown",
   "metadata": {},
   "source": [
    "回顾上面装饰器的例子，首先明晰几个概念：\n",
    "\n",
    "- `decorator(func)` 称为**装饰器**\n",
    "- `wrapper()` 称为**装饰函数**\n",
    "- `func` 称为**被装饰的函数**\n",
    "\n",
    "在下面代码中，装饰函数 `wrapper()` 没有接受任何参数。"
   ]
  },
  {
   "cell_type": "code",
   "execution_count": 71,
   "metadata": {},
   "outputs": [],
   "source": [
    "def decorator(func):\n",
    "    def wrapper():\n",
    "        print(f\"Executed before function '{func.__name__}'\")\n",
    "        func()\n",
    "        print(f\"Executed after function '{func.__name__}'\")\n",
    "    return wrapper"
   ]
  },
  {
   "cell_type": "markdown",
   "metadata": {},
   "source": [
    "那么该装饰器中被装饰的函数 `func()` 也一定没有参数，就像下面的 `greet()` 一样。"
   ]
  },
  {
   "cell_type": "code",
   "execution_count": 72,
   "metadata": {},
   "outputs": [],
   "source": [
    "@decorator\n",
    "def greet():\n",
    "    print('Hello!')"
   ]
  },
  {
   "cell_type": "code",
   "execution_count": 73,
   "metadata": {},
   "outputs": [
    {
     "name": "stdout",
     "output_type": "stream",
     "text": [
      "Executed before function 'greet'\n",
      "Hello!\n",
      "Executed after function 'greet'\n"
     ]
    }
   ],
   "source": [
    "greet()"
   ]
  },
  {
   "cell_type": "markdown",
   "metadata": {},
   "source": [
    "如果被装饰的函数有参数，那么用装饰器 `decorator` 来装饰它会报错。"
   ]
  },
  {
   "cell_type": "code",
   "execution_count": 74,
   "metadata": {},
   "outputs": [],
   "source": [
    "@decorator\n",
    "def add(a,b):\n",
    "    return a+b"
   ]
  },
  {
   "cell_type": "code",
   "execution_count": 75,
   "metadata": {},
   "outputs": [
    {
     "ename": "TypeError",
     "evalue": "wrapper() takes 0 positional arguments but 2 were given",
     "output_type": "error",
     "traceback": [
      "\u001b[1;31m---------------------------------------------------------------------------\u001b[0m",
      "\u001b[1;31mTypeError\u001b[0m                                 Traceback (most recent call last)",
      "\u001b[1;32m<ipython-input-75-944f4051a32c>\u001b[0m in \u001b[0;36m<module>\u001b[1;34m\u001b[0m\n\u001b[1;32m----> 1\u001b[1;33m \u001b[0madd\u001b[0m\u001b[1;33m(\u001b[0m\u001b[1;36m1\u001b[0m\u001b[1;33m,\u001b[0m\u001b[1;36m2\u001b[0m\u001b[1;33m)\u001b[0m\u001b[1;33m\u001b[0m\u001b[1;33m\u001b[0m\u001b[0m\n\u001b[0m",
      "\u001b[1;31mTypeError\u001b[0m: wrapper() takes 0 positional arguments but 2 were given"
     ]
    }
   ],
   "source": [
    "add(1,2)"
   ]
  },
  {
   "cell_type": "markdown",
   "metadata": {},
   "source": [
    "在装饰函数 `wrapper()` 里面定义两个参数，对应着被装饰的函数 `add(a,b)` 里面的 `a` 和 `b`，在里面调用原函数 `func(arg1,arg2)` 就没问题了。"
   ]
  },
  {
   "cell_type": "code",
   "execution_count": 83,
   "metadata": {},
   "outputs": [],
   "source": [
    "def decorator(func):\n",
    "    def wrapper( arg1, arg2 ):\n",
    "        print(f\"Executed before function '{func.__name__}'\")\n",
    "        print( func( arg1, arg2 ) )\n",
    "        print(f\"Executed after function '{func.__name__}'\")\n",
    "    return wrapper"
   ]
  },
  {
   "cell_type": "code",
   "execution_count": 84,
   "metadata": {},
   "outputs": [
    {
     "name": "stdout",
     "output_type": "stream",
     "text": [
      "Executed before function 'add'\n",
      "3\n",
      "Executed after function 'add'\n"
     ]
    }
   ],
   "source": [
    "@decorator\n",
    "def add(a,b):\n",
    "    return a+b\n",
    "\n",
    "add(1,2)"
   ]
  },
  {
   "cell_type": "markdown",
   "metadata": {},
   "source": [
    "但是当 `add()` 有 3 个参数就又会报错了。"
   ]
  },
  {
   "cell_type": "code",
   "execution_count": 85,
   "metadata": {},
   "outputs": [
    {
     "ename": "TypeError",
     "evalue": "wrapper() takes 2 positional arguments but 3 were given",
     "output_type": "error",
     "traceback": [
      "\u001b[1;31m---------------------------------------------------------------------------\u001b[0m",
      "\u001b[1;31mTypeError\u001b[0m                                 Traceback (most recent call last)",
      "\u001b[1;32m<ipython-input-85-e2cf1cf7cf28>\u001b[0m in \u001b[0;36m<module>\u001b[1;34m\u001b[0m\n\u001b[0;32m      3\u001b[0m     \u001b[1;32mreturn\u001b[0m \u001b[0ma\u001b[0m\u001b[1;33m+\u001b[0m\u001b[0mb\u001b[0m\u001b[1;33m+\u001b[0m\u001b[0mc\u001b[0m\u001b[1;33m\u001b[0m\u001b[1;33m\u001b[0m\u001b[0m\n\u001b[0;32m      4\u001b[0m \u001b[1;33m\u001b[0m\u001b[0m\n\u001b[1;32m----> 5\u001b[1;33m \u001b[0madd\u001b[0m\u001b[1;33m(\u001b[0m\u001b[1;36m1\u001b[0m\u001b[1;33m,\u001b[0m\u001b[1;36m2\u001b[0m\u001b[1;33m,\u001b[0m\u001b[1;36m3\u001b[0m\u001b[1;33m)\u001b[0m\u001b[1;33m\u001b[0m\u001b[1;33m\u001b[0m\u001b[0m\n\u001b[0m",
      "\u001b[1;31mTypeError\u001b[0m: wrapper() takes 2 positional arguments but 3 were given"
     ]
    }
   ],
   "source": [
    "@decorator\n",
    "def add(a,b,c):\n",
    "    return a+b+c\n",
    "\n",
    "add(1,2,3)"
   ]
  },
  {
   "cell_type": "markdown",
   "metadata": {},
   "source": [
    "我们不能把参数写这么死。还记得 `*args` 和 `**kwargs` 可以接受无限个**位置参数**和**关键词参数**吗？"
   ]
  },
  {
   "cell_type": "code",
   "execution_count": 86,
   "metadata": {},
   "outputs": [],
   "source": [
    "def decorator(func):\n",
    "    def wrapper( *args, **kwargs ):\n",
    "        print(f\"Executed before function '{func.__name__}'\")\n",
    "        print( func( *args, **kwargs ) )\n",
    "        print(f\"Executed after function '{func.__name__}'\")\n",
    "    return wrapper"
   ]
  },
  {
   "cell_type": "markdown",
   "metadata": {},
   "source": [
    "这样我们可以用装饰器 `decorator` 装饰任何函数了，拿 `add()` 小试牛刀一下。"
   ]
  },
  {
   "cell_type": "code",
   "execution_count": 87,
   "metadata": {},
   "outputs": [
    {
     "name": "stdout",
     "output_type": "stream",
     "text": [
      "Executed before function 'add'\n",
      "6\n",
      "Executed after function 'add'\n"
     ]
    }
   ],
   "source": [
    "@decorator\n",
    "def add(a,b,c):\n",
    "    return a+b+c\n",
    "\n",
    "add(1,2,3)"
   ]
  },
  {
   "cell_type": "code",
   "execution_count": 88,
   "metadata": {},
   "outputs": [
    {
     "name": "stdout",
     "output_type": "stream",
     "text": [
      "Executed before function 'add'\n",
      "15\n",
      "Executed after function 'add'\n"
     ]
    }
   ],
   "source": [
    "@decorator\n",
    "def add(a,b,c,d,f):\n",
    "    return a+b+c+d+f\n",
    "\n",
    "add(1,2,3,4,5)"
   ]
  },
  {
   "cell_type": "markdown",
   "metadata": {},
   "source": [
    "### <font color='#2b4750' face='微软雅黑'>2.3 重新找回身份</font><a name='2.3'></a>\n",
    "[<font color='black' face='微软雅黑'>回到章首</font>](#2)\n",
    "\n",
    "Python 里所有对象和函数在运行时可知自身 (introspect) 的属性，拿内置函数 `print` 举例，用 `__name__` 可以获取函数名称。"
   ]
  },
  {
   "cell_type": "code",
   "execution_count": 89,
   "metadata": {},
   "outputs": [
    {
     "data": {
      "text/plain": [
       "<function print>"
      ]
     },
     "execution_count": 89,
     "metadata": {},
     "output_type": "execute_result"
    }
   ],
   "source": [
    "print"
   ]
  },
  {
   "cell_type": "code",
   "execution_count": 90,
   "metadata": {},
   "outputs": [
    {
     "data": {
      "text/plain": [
       "'print'"
      ]
     },
     "execution_count": 90,
     "metadata": {},
     "output_type": "execute_result"
    }
   ],
   "source": [
    "print.__name__"
   ]
  },
  {
   "cell_type": "markdown",
   "metadata": {},
   "source": [
    "上面描述对自定义的函数也成立，举例如下。"
   ]
  },
  {
   "cell_type": "code",
   "execution_count": 94,
   "metadata": {},
   "outputs": [
    {
     "name": "stdout",
     "output_type": "stream",
     "text": [
      "greet\n"
     ]
    }
   ],
   "source": [
    "def greet():\n",
    "    print('Hello!')\n",
    "\n",
    "print(greet.__name__)"
   ]
  },
  {
   "cell_type": "markdown",
   "metadata": {},
   "source": [
    "然而当 `greet()` 函数被装饰之后，它的“身份”就丢了，看下面代码。"
   ]
  },
  {
   "cell_type": "code",
   "execution_count": 95,
   "metadata": {},
   "outputs": [],
   "source": [
    "def decorator(func):\n",
    "    def wrapper( *args, **kwargs ):\n",
    "        print(f\"Executed before function '{func.__name__}'\")\n",
    "        print( func( *args, **kwargs ) )\n",
    "        print(f\"Executed after function '{func.__name__}'\")\n",
    "    return wrapper\n",
    "\n",
    "@decorator\n",
    "def greet():\n",
    "    print('Hello!')"
   ]
  },
  {
   "cell_type": "code",
   "execution_count": 96,
   "metadata": {},
   "outputs": [
    {
     "name": "stdout",
     "output_type": "stream",
     "text": [
      "wrapper\n"
     ]
    }
   ],
   "source": [
    "print(greet.__name__)"
   ]
  },
  {
   "cell_type": "markdown",
   "metadata": {},
   "source": [
    "用 `@decorator` 装饰后的 greet()，再看它的名称已经变成了 `wrapper`。原因很简单，因为我们调用的是 `decorator(greet)`，而这个函数返回的确是 `wrapper()` 函数，因此名称是 `wrapper`。\n",
    "\n",
    "上面的逻辑虽然没错，但打印出的 `wrapper` 信息通常没有什么用，我们还是希望原来的最开始的函数名称 - `greet`。\n",
    "\n",
    "怎么操作？用 `functools` 包里的 `wraps`。"
   ]
  },
  {
   "cell_type": "code",
   "execution_count": 98,
   "metadata": {},
   "outputs": [],
   "source": [
    "import functools"
   ]
  },
  {
   "cell_type": "code",
   "execution_count": 99,
   "metadata": {},
   "outputs": [],
   "source": [
    "def decorator(func):\n",
    "    @functools.wraps(func)\n",
    "    def wrapper( *args, **kwargs ):\n",
    "        print(f\"Executed before function '{func.__name__}'\")\n",
    "        print( func( *args, **kwargs ) )\n",
    "        print(f\"Executed after function '{func.__name__}'\")\n",
    "    return wrapper\n",
    "\n",
    "@decorator\n",
    "def greet():\n",
    "    print('Hello!')"
   ]
  },
  {
   "cell_type": "code",
   "execution_count": 100,
   "metadata": {},
   "outputs": [
    {
     "name": "stdout",
     "output_type": "stream",
     "text": [
      "greet\n"
     ]
    }
   ],
   "source": [
    "print(greet.__name__)"
   ]
  },
  {
   "cell_type": "markdown",
   "metadata": {},
   "source": [
    "现在 `greet()` 函数的名称又变成了 `greet`。\n",
    "\n",
    "### 最佳做法：在自己编写的所有装饰器中都使用 `functools.wraps`"
   ]
  },
  {
   "cell_type": "markdown",
   "metadata": {},
   "source": [
    "### <font color='#2b4750' face='微软雅黑'>2.4 装饰器接受参数</font><a name='2.4'></a>\n",
    "[<font color='black' face='微软雅黑'>回到章首</font>](#2)\n",
    "\n",
    "除了可以传递参数给装饰函数 `wrapper`，也可以传递参数给装饰器 `decorator`。\n",
    "\n",
    "先看下面“只有装饰函数有参数”的例子，该装饰器 `money_format` 将数值保留到小数点后两位。 "
   ]
  },
  {
   "cell_type": "code",
   "execution_count": 4,
   "metadata": {},
   "outputs": [],
   "source": [
    "def money_format(func):\n",
    "    def wrapper(*args, **kwargs):\n",
    "        return f'{func(*args, **kwargs):.2f}'\n",
    "    return wrapper"
   ]
  },
  {
   "cell_type": "code",
   "execution_count": 5,
   "metadata": {},
   "outputs": [],
   "source": [
    "@money_format\n",
    "def add( PV1, PV2 ):\n",
    "    return PV1 + PV2"
   ]
  },
  {
   "cell_type": "code",
   "execution_count": 6,
   "metadata": {},
   "outputs": [
    {
     "data": {
      "text/plain": [
       "'200.45'"
      ]
     },
     "execution_count": 6,
     "metadata": {},
     "output_type": "execute_result"
    }
   ],
   "source": [
    "add(100, 100.4545)"
   ]
  },
  {
   "cell_type": "markdown",
   "metadata": {},
   "source": [
    "但这个 200.45 是以什么货币为单位呢？美元还是人民币? 这时我们可创建另一个装饰器，称为 `currency_unit`，并传递参数 `curr` 来区分货币单位。"
   ]
  },
  {
   "cell_type": "code",
   "execution_count": 7,
   "metadata": {},
   "outputs": [],
   "source": [
    "def currency_unit(curr):\n",
    "    def money_format(func):\n",
    "        def wrapper(*args, **kwargs):\n",
    "            return f'{func(*args, **kwargs):.2f}' + ' ' + curr\n",
    "        return wrapper\n",
    "    return money_format"
   ]
  },
  {
   "cell_type": "code",
   "execution_count": 8,
   "metadata": {},
   "outputs": [
    {
     "data": {
      "text/plain": [
       "'200.45 USD'"
      ]
     },
     "execution_count": 8,
     "metadata": {},
     "output_type": "execute_result"
    }
   ],
   "source": [
    "@currency_unit('USD')\n",
    "def add( PV1, PV2 ):\n",
    "    return PV1 + PV2\n",
    "\n",
    "add(100, 100.4545)"
   ]
  },
  {
   "cell_type": "code",
   "execution_count": 9,
   "metadata": {},
   "outputs": [
    {
     "data": {
      "text/plain": [
       "'300.45 CNY'"
      ]
     },
     "execution_count": 9,
     "metadata": {},
     "output_type": "execute_result"
    }
   ],
   "source": [
    "@currency_unit('CNY')\n",
    "def add( PV1, PV2, PV3 ):\n",
    "    return PV1 + PV2 + PV3\n",
    "\n",
    "add(100, 100, 100.4545)"
   ]
  },
  {
   "cell_type": "markdown",
   "metadata": {},
   "source": [
    "# <font color='#dc2624' face='微软雅黑'>3. 装饰器实际案例</font><a name='3'></a>\n",
    "[<font color='black' face='微软雅黑'>回到目录</font>](#toc)\n",
    "\n",
    "不管多复杂的实际案例，使用装饰器都符合下面的基本格式。\n",
    "```\n",
    "import functools\n",
    "\n",
    "def decorator(func):\n",
    "    @functools.wraps(func)\n",
    "    def wrapper(*args, **kwargs):\n",
    "        # Do something before\n",
    "        value = func(*args, **kwargs)\n",
    "        # Do something after\n",
    "        return value\n",
    "    return wrapper\n",
    "```\n",
    "\n",
    "### <font color='#2b4750' face='微软雅黑'>3.1 查错</font><a name='3.1'></a>\n",
    "[<font color='black' face='微软雅黑'>回到章首</font>](#3)"
   ]
  },
  {
   "cell_type": "code",
   "execution_count": 112,
   "metadata": {},
   "outputs": [],
   "source": [
    "import functools\n",
    "\n",
    "def my_debugger(func):\n",
    "    @functools.wraps(func)\n",
    "    def wrapper(*args, **kwargs):\n",
    "        args_repr = [ repr(a) for a in args ]                      # 1\n",
    "        kwargs_repr = [ f\"{k}={v!r}\" for k, v in kwargs.items() ]  # 2\n",
    "        signature = \", \".join(args_repr + kwargs_repr)             # 3\n",
    "        print( f\"Calling {func.__name__}({signature})\" )\n",
    "        value = func(*args, **kwargs)\n",
    "        print( f\"{func.__name__!r} returned {value!r}\" )           # 4\n",
    "        return value\n",
    "    return wrapper"
   ]
  },
  {
   "cell_type": "markdown",
   "metadata": {},
   "source": [
    "这个装饰器用来查错 (debugging)，将被装饰函数 `func` 中的所有位置参数和关键字参数的。上面代码标注 #1 #2 #3 #4 的部分解释如下：\n",
    "\n",
    "1. 将所有**位置参数**放在列表中，用 `repr()` 函数可将参数转换成一个漂亮字符串的形式。 \n",
    "2. 将所有**关键字参数**放在列表中，在 f-string 中用 `{k}={v!r}` 得到每组`形参=实参`，`!r` 将实参转换成一个漂亮字符串的形式。\n",
    "3. 用 `\", \".join()` 将所有**位置参数**和**关键字参数**串联起来，中间用逗号分隔。\n",
    "4. 打印出函数名以及返回结果。"
   ]
  },
  {
   "cell_type": "code",
   "execution_count": 134,
   "metadata": {},
   "outputs": [],
   "source": [
    "@my_debugger\n",
    "def instrument( id, ntl=1, curR='CNY', *args, **kwargs ):\n",
    "    PV = 0\n",
    "    for n in args:\n",
    "        PV = PV + n\n",
    "    return str(PV*ntl) + ' ' + curR"
   ]
  },
  {
   "cell_type": "code",
   "execution_count": 135,
   "metadata": {},
   "outputs": [
    {
     "name": "stdout",
     "output_type": "stream",
     "text": [
      "Calling instrument('MM1001', 100, 'EUR', 1, 2, 3, dc='act/365', ctp='GS')\n",
      "'instrument' returned '600 EUR'\n"
     ]
    },
    {
     "data": {
      "text/plain": [
       "'600 EUR'"
      ]
     },
     "execution_count": 135,
     "metadata": {},
     "output_type": "execute_result"
    }
   ],
   "source": [
    "DCF = (1, 2, 3)\n",
    "info = {'dc':'act/365', 'ctp':'GS'}\n",
    "instrument( 'MM1001', 100, 'EUR', *DCF, **info )"
   ]
  },
  {
   "cell_type": "markdown",
   "metadata": {},
   "source": [
    "如果要把装饰器用在内置函数上，用以下格式，拿 `math.factorial` 举例：\n",
    "\n",
    "    math.factorial = my_debugger(math.factorial)"
   ]
  },
  {
   "cell_type": "code",
   "execution_count": 119,
   "metadata": {},
   "outputs": [],
   "source": [
    "import math\n",
    "math.factorial = my_debugger(math.factorial)"
   ]
  },
  {
   "cell_type": "markdown",
   "metadata": {},
   "source": [
    "用泰勒公式来逼近自然指数 e\n",
    "\n",
    "\\begin{equation}\n",
    "e = \\sum_{i=0}^{\\infty}\\frac{1}{i!} = \\frac{1}{0!} + \\frac{1}{1!} + \\frac{1}{2!} + \\frac{1}{3!} + \\cdots   \n",
    "\\end{equation}"
   ]
  },
  {
   "cell_type": "code",
   "execution_count": 120,
   "metadata": {},
   "outputs": [],
   "source": [
    "def approximate_e(n=10):\n",
    "    return sum(1 / math.factorial(i) for i in range(n))"
   ]
  },
  {
   "cell_type": "code",
   "execution_count": 121,
   "metadata": {},
   "outputs": [
    {
     "name": "stdout",
     "output_type": "stream",
     "text": [
      "Calling factorial(0)\n",
      "'factorial' returned 1\n",
      "Calling factorial(1)\n",
      "'factorial' returned 1\n",
      "Calling factorial(2)\n",
      "'factorial' returned 2\n",
      "Calling factorial(3)\n",
      "'factorial' returned 6\n",
      "Calling factorial(4)\n",
      "'factorial' returned 24\n",
      "Calling factorial(5)\n",
      "'factorial' returned 120\n",
      "Calling factorial(6)\n",
      "'factorial' returned 720\n",
      "Calling factorial(7)\n",
      "'factorial' returned 5040\n",
      "Calling factorial(8)\n",
      "'factorial' returned 40320\n",
      "Calling factorial(9)\n",
      "'factorial' returned 362880\n"
     ]
    },
    {
     "data": {
      "text/plain": [
       "2.7182815255731922"
      ]
     },
     "execution_count": 121,
     "metadata": {},
     "output_type": "execute_result"
    }
   ],
   "source": [
    "approximate_e()"
   ]
  },
  {
   "cell_type": "markdown",
   "metadata": {},
   "source": [
    "对比 e 精确值："
   ]
  },
  {
   "cell_type": "code",
   "execution_count": 123,
   "metadata": {},
   "outputs": [
    {
     "data": {
      "text/plain": [
       "2.718281828459045"
      ]
     },
     "execution_count": 123,
     "metadata": {},
     "output_type": "execute_result"
    }
   ],
   "source": [
    "math.exp(1)"
   ]
  },
  {
   "cell_type": "markdown",
   "metadata": {},
   "source": [
    "### <font color='#2b4750' face='微软雅黑'>3.2 计时</font><a name='3.2'></a>\n",
    "[<font color='black' face='微软雅黑'>回到章首</font>](#3)\n",
    "\n",
    "用该装饰器可以计量每个函数运行的时间。"
   ]
  },
  {
   "cell_type": "code",
   "execution_count": 124,
   "metadata": {},
   "outputs": [],
   "source": [
    "import functools\n",
    "import time\n",
    "\n",
    "def my_timer(func):\n",
    "    @functools.wraps(func)\n",
    "    def wrapper(*args, **kwargs):\n",
    "        start_time = time.time()\n",
    "        value = func(*args, **kwargs)\n",
    "        run_time = time.time() - start_time\n",
    "        print(f\"Finished {func.__name__!r} in {run_time:.4f} secs\")\n",
    "        return value\n",
    "    return wrapper"
   ]
  },
  {
   "cell_type": "code",
   "execution_count": 126,
   "metadata": {},
   "outputs": [],
   "source": [
    "@my_timer\n",
    "def tester(num_times=1):\n",
    "    for _ in range(num_times):\n",
    "        sum([i**2 for i in range(10000)])"
   ]
  },
  {
   "cell_type": "code",
   "execution_count": 127,
   "metadata": {},
   "outputs": [
    {
     "name": "stdout",
     "output_type": "stream",
     "text": [
      "Finished 'tester' in 0.0129 secs\n"
     ]
    }
   ],
   "source": [
    "tester()"
   ]
  },
  {
   "cell_type": "code",
   "execution_count": 129,
   "metadata": {},
   "outputs": [
    {
     "name": "stdout",
     "output_type": "stream",
     "text": [
      "Finished 'tester' in 7.7254 secs\n"
     ]
    }
   ],
   "source": [
    "tester(1000)"
   ]
  },
  {
   "cell_type": "markdown",
   "metadata": {},
   "source": [
    "### <font color='#2b4750' face='微软雅黑'>3.3 日志</font><a name='3.3'></a>\n",
    "[<font color='black' face='微软雅黑'>回到章首</font>](#3)"
   ]
  },
  {
   "cell_type": "code",
   "execution_count": 157,
   "metadata": {},
   "outputs": [],
   "source": [
    "import functools\n",
    "import logging\n",
    "from datetime import datetime\n",
    "\n",
    "def my_logger(func):\n",
    "    \n",
    "    logging.basicConfig( filename=f'{func.__name__}.log', level=logging.INFO )\n",
    "    @functools.wraps(func)\n",
    "    def wrapper(*args, **kwargs):\n",
    "        logging.info( f'At {datetime.now()} - Ran with args: {args}, and kwargs: {kwargs}' )\n",
    "        return func(*args, **kwargs)\n",
    "\n",
    "    return wrapper"
   ]
  },
  {
   "cell_type": "code",
   "execution_count": 158,
   "metadata": {},
   "outputs": [],
   "source": [
    "@my_logger\n",
    "@my_timer\n",
    "def display_info(name, age):\n",
    "    time.sleep(1)\n",
    "    print(f\"'display_info' ran with arguments ({name}, {age})\")"
   ]
  },
  {
   "cell_type": "code",
   "execution_count": 159,
   "metadata": {},
   "outputs": [
    {
     "name": "stdout",
     "output_type": "stream",
     "text": [
      "'display_info' ran with arguments (Tom, 22)\n",
      "Finished 'display_info' in 1.0003 secs\n"
     ]
    }
   ],
   "source": [
    "display_info( 'Tom', 22 )"
   ]
  },
  {
   "cell_type": "markdown",
   "metadata": {},
   "source": [
    "点开生成的日志文件 display_info.log，发现它已经记录了 Tom 的个人信息。"
   ]
  },
  {
   "cell_type": "code",
   "execution_count": 160,
   "metadata": {},
   "outputs": [
    {
     "name": "stdout",
     "output_type": "stream",
     "text": [
      "'display_info' ran with arguments (Steven, 18)\n",
      "Finished 'display_info' in 1.0006 secs\n",
      "'display_info' ran with arguments (Sherry, 15)\n",
      "Finished 'display_info' in 1.0007 secs\n"
     ]
    }
   ],
   "source": [
    "display_info( 'Steven', age=18 )\n",
    "display_info( name='Sherry', age=15 )"
   ]
  },
  {
   "cell_type": "markdown",
   "metadata": {},
   "source": [
    "再加两个用户 Steven 和 Sherry，这时日志文件里的记录已经更新了。"
   ]
  }
 ],
 "metadata": {
  "kernelspec": {
   "display_name": "Python 3",
   "language": "python",
   "name": "python3"
  },
  "language_info": {
   "codemirror_mode": {
    "name": "ipython",
    "version": 3
   },
   "file_extension": ".py",
   "mimetype": "text/x-python",
   "name": "python",
   "nbconvert_exporter": "python",
   "pygments_lexer": "ipython3",
   "version": "3.7.3"
  }
 },
 "nbformat": 4,
 "nbformat_minor": 2
}
