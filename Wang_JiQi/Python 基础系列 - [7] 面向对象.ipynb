{
 "cells": [
  {
   "cell_type": "markdown",
   "metadata": {},
   "source": [
    "# <div style=\"text-align: center\"><font color='#dc2624' face='微软雅黑'>Python 基础系列</font></div>\n",
    "## <div style=\"text-align: center\"><font color='#dc2624' face='微软雅黑'>面向对象</font></div>\n",
    "\n",
    "## <font color='#dc2624' face='微软雅黑'>目录</font><a name='toc'></a>\n",
    "### 1. [**<font color='#dc2624' face='微软雅黑'>万物皆对象</font>**](#1)\n",
    "1. [<font color='#2b4750' face='微软雅黑'>`int` 对象</font>](#1.1)\n",
    "2. [<font color='#2b4750' face='微软雅黑'>`str` 对象</font>](#1.2)\n",
    "3. [<font color='#2b4750' face='微软雅黑'>`list` 对象</font>](#1.3)\n",
    "\n",
    "### 2. [**<font color='#dc2624' face='微软雅黑'>三大特点</font>**](#2)\n",
    "1. [<font color='#2b4750' face='微软雅黑'>封装</font>](#2.1)\n",
    "2. [<font color='#2b4750' face='微软雅黑'>继承</font>](#2.2)\n",
    "3. [<font color='#2b4750' face='微软雅黑'>多态</font>](#2.3)\n",
    "4. [<font color='#2b4750' face='微软雅黑'>组合</font>](#2.4)\n",
    "\n",
    "### 3. [**<font color='#dc2624' face='微软雅黑'>实际案例</font>**](#3)\n",
    "1. [<font color='#2b4750' face='微软雅黑'>均线交易</font>](#3.1)\n",
    "2. [<font color='#2b4750' face='微软雅黑'>期权定价</font>](#3.2)\n",
    "---"
   ]
  },
  {
   "cell_type": "markdown",
   "metadata": {},
   "source": [
    "# <font color='#dc2624' face='微软雅黑'>1. 万物皆对象</font><a name='1'></a>\n",
    "[<font color='black' face='微软雅黑'>回到目录</font>](#toc)\n",
    "### <font color='#2b4750' face='微软雅黑'>1.1 `int` 对象</font><a name='1.1'></a>\n",
    "[<font color='black' face='微软雅黑'>回到章首</font>](#1)"
   ]
  },
  {
   "cell_type": "code",
   "execution_count": 110,
   "metadata": {},
   "outputs": [],
   "source": [
    "# int 对象\n",
    "i = 1031"
   ]
  },
  {
   "cell_type": "code",
   "execution_count": 113,
   "metadata": {},
   "outputs": [
    {
     "data": {
      "text/plain": [
       "['__abs__',\n",
       " '__add__',\n",
       " '__and__',\n",
       " '__bool__',\n",
       " '__ceil__',\n",
       " '__class__',\n",
       " '__delattr__',\n",
       " '__dir__',\n",
       " '__divmod__',\n",
       " '__doc__',\n",
       " '__eq__',\n",
       " '__float__',\n",
       " '__floor__',\n",
       " '__floordiv__',\n",
       " '__format__',\n",
       " '__ge__',\n",
       " '__getattribute__',\n",
       " '__getnewargs__',\n",
       " '__gt__',\n",
       " '__hash__',\n",
       " '__index__',\n",
       " '__init__',\n",
       " '__init_subclass__',\n",
       " '__int__',\n",
       " '__invert__',\n",
       " '__le__',\n",
       " '__lshift__',\n",
       " '__lt__',\n",
       " '__mod__',\n",
       " '__mul__',\n",
       " '__ne__',\n",
       " '__neg__',\n",
       " '__new__',\n",
       " '__or__',\n",
       " '__pos__',\n",
       " '__pow__',\n",
       " '__radd__',\n",
       " '__rand__',\n",
       " '__rdivmod__',\n",
       " '__reduce__',\n",
       " '__reduce_ex__',\n",
       " '__repr__',\n",
       " '__rfloordiv__',\n",
       " '__rlshift__',\n",
       " '__rmod__',\n",
       " '__rmul__',\n",
       " '__ror__',\n",
       " '__round__',\n",
       " '__rpow__',\n",
       " '__rrshift__',\n",
       " '__rshift__',\n",
       " '__rsub__',\n",
       " '__rtruediv__',\n",
       " '__rxor__',\n",
       " '__setattr__',\n",
       " '__sizeof__',\n",
       " '__str__',\n",
       " '__sub__',\n",
       " '__subclasshook__',\n",
       " '__truediv__',\n",
       " '__trunc__',\n",
       " '__xor__',\n",
       " 'bit_length',\n",
       " 'conjugate',\n",
       " 'denominator',\n",
       " 'from_bytes',\n",
       " 'imag',\n",
       " 'numerator',\n",
       " 'real',\n",
       " 'to_bytes']"
      ]
     },
     "execution_count": 113,
     "metadata": {},
     "output_type": "execute_result"
    }
   ],
   "source": [
    "# int 类里的 fields 和 methods\n",
    "dir(i) # dir(int)"
   ]
  },
  {
   "cell_type": "code",
   "execution_count": 114,
   "metadata": {},
   "outputs": [
    {
     "data": {
      "text/plain": [
       "int"
      ]
     },
     "execution_count": 114,
     "metadata": {},
     "output_type": "execute_result"
    }
   ],
   "source": [
    "# int 的类型\n",
    "type(i)"
   ]
  },
  {
   "cell_type": "code",
   "execution_count": 115,
   "metadata": {},
   "outputs": [
    {
     "data": {
      "text/plain": [
       "1031"
      ]
     },
     "execution_count": 115,
     "metadata": {},
     "output_type": "execute_result"
    }
   ],
   "source": [
    "# int 的 fields\n",
    "i.numerator"
   ]
  },
  {
   "cell_type": "code",
   "execution_count": 116,
   "metadata": {},
   "outputs": [
    {
     "data": {
      "text/plain": [
       "11"
      ]
     },
     "execution_count": 116,
     "metadata": {},
     "output_type": "execute_result"
    }
   ],
   "source": [
    "# int 的 methods\n",
    "i.bit_length()"
   ]
  },
  {
   "cell_type": "code",
   "execution_count": 137,
   "metadata": {},
   "outputs": [
    {
     "name": "stdout",
     "output_type": "stream",
     "text": [
      "2062\n",
      "2062\n"
     ]
    }
   ],
   "source": [
    "# int 的 +\n",
    "print( i + i )\n",
    "print( i.__add__(i) )"
   ]
  },
  {
   "cell_type": "code",
   "execution_count": 138,
   "metadata": {},
   "outputs": [
    {
     "name": "stdout",
     "output_type": "stream",
     "text": [
      "2062\n",
      "2062\n"
     ]
    }
   ],
   "source": [
    "# int 的 *\n",
    "print( i * 2 )\n",
    "print( i.__mul__(2) )"
   ]
  },
  {
   "cell_type": "code",
   "execution_count": 121,
   "metadata": {},
   "outputs": [
    {
     "data": {
      "text/plain": [
       "False"
      ]
     },
     "execution_count": 121,
     "metadata": {},
     "output_type": "execute_result"
    }
   ],
   "source": [
    "i.__le__(1)"
   ]
  },
  {
   "cell_type": "code",
   "execution_count": 122,
   "metadata": {},
   "outputs": [
    {
     "data": {
      "text/plain": [
       "'1031'"
      ]
     },
     "execution_count": 122,
     "metadata": {},
     "output_type": "execute_result"
    }
   ],
   "source": [
    "i.__repr__()"
   ]
  },
  {
   "cell_type": "code",
   "execution_count": 123,
   "metadata": {},
   "outputs": [
    {
     "data": {
      "text/plain": [
       "'1031'"
      ]
     },
     "execution_count": 123,
     "metadata": {},
     "output_type": "execute_result"
    }
   ],
   "source": [
    "i.__str__()"
   ]
  },
  {
   "cell_type": "markdown",
   "metadata": {},
   "source": [
    "### <font color='#2b4750' face='微软雅黑'>1.2 `str` 对象</font><a name='1.2'></a>\n",
    "[<font color='black' face='微软雅黑'>回到章首</font>](#1)"
   ]
  },
  {
   "cell_type": "code",
   "execution_count": 139,
   "metadata": {},
   "outputs": [],
   "source": [
    "# str 对象\n",
    "s = 'BABA'"
   ]
  },
  {
   "cell_type": "code",
   "execution_count": 140,
   "metadata": {},
   "outputs": [
    {
     "data": {
      "text/plain": [
       "['__add__',\n",
       " '__class__',\n",
       " '__contains__',\n",
       " '__delattr__',\n",
       " '__dir__',\n",
       " '__doc__',\n",
       " '__eq__',\n",
       " '__format__',\n",
       " '__ge__',\n",
       " '__getattribute__',\n",
       " '__getitem__',\n",
       " '__getnewargs__',\n",
       " '__gt__',\n",
       " '__hash__',\n",
       " '__init__',\n",
       " '__init_subclass__',\n",
       " '__iter__',\n",
       " '__le__',\n",
       " '__len__',\n",
       " '__lt__',\n",
       " '__mod__',\n",
       " '__mul__',\n",
       " '__ne__',\n",
       " '__new__',\n",
       " '__reduce__',\n",
       " '__reduce_ex__',\n",
       " '__repr__',\n",
       " '__rmod__',\n",
       " '__rmul__',\n",
       " '__setattr__',\n",
       " '__sizeof__',\n",
       " '__str__',\n",
       " '__subclasshook__',\n",
       " 'capitalize',\n",
       " 'casefold',\n",
       " 'center',\n",
       " 'count',\n",
       " 'encode',\n",
       " 'endswith',\n",
       " 'expandtabs',\n",
       " 'find',\n",
       " 'format',\n",
       " 'format_map',\n",
       " 'index',\n",
       " 'isalnum',\n",
       " 'isalpha',\n",
       " 'isascii',\n",
       " 'isdecimal',\n",
       " 'isdigit',\n",
       " 'isidentifier',\n",
       " 'islower',\n",
       " 'isnumeric',\n",
       " 'isprintable',\n",
       " 'isspace',\n",
       " 'istitle',\n",
       " 'isupper',\n",
       " 'join',\n",
       " 'ljust',\n",
       " 'lower',\n",
       " 'lstrip',\n",
       " 'maketrans',\n",
       " 'partition',\n",
       " 'replace',\n",
       " 'rfind',\n",
       " 'rindex',\n",
       " 'rjust',\n",
       " 'rpartition',\n",
       " 'rsplit',\n",
       " 'rstrip',\n",
       " 'split',\n",
       " 'splitlines',\n",
       " 'startswith',\n",
       " 'strip',\n",
       " 'swapcase',\n",
       " 'title',\n",
       " 'translate',\n",
       " 'upper',\n",
       " 'zfill']"
      ]
     },
     "execution_count": 140,
     "metadata": {},
     "output_type": "execute_result"
    }
   ],
   "source": [
    "# str 类里的 fields 和 methods\n",
    "dir(s) # dir(str)"
   ]
  },
  {
   "cell_type": "code",
   "execution_count": 141,
   "metadata": {},
   "outputs": [
    {
     "data": {
      "text/plain": [
       "str"
      ]
     },
     "execution_count": 141,
     "metadata": {},
     "output_type": "execute_result"
    }
   ],
   "source": [
    "# str 的类型\n",
    "type(s)"
   ]
  },
  {
   "cell_type": "code",
   "execution_count": 143,
   "metadata": {},
   "outputs": [
    {
     "data": {
      "text/plain": [
       "'baba'"
      ]
     },
     "execution_count": 143,
     "metadata": {},
     "output_type": "execute_result"
    }
   ],
   "source": [
    "# str 的 methods\n",
    "s.lower()"
   ]
  },
  {
   "cell_type": "code",
   "execution_count": 144,
   "metadata": {},
   "outputs": [
    {
     "name": "stdout",
     "output_type": "stream",
     "text": [
      "ALIBABA\n",
      "ALIBABA\n"
     ]
    }
   ],
   "source": [
    "# str 的 +\n",
    "print( 'ALI' + s )\n",
    "print( 'ALI'.__add__(s) )"
   ]
  },
  {
   "cell_type": "code",
   "execution_count": 149,
   "metadata": {},
   "outputs": [
    {
     "name": "stdout",
     "output_type": "stream",
     "text": [
      "BABABABA\n",
      "BABABABA\n"
     ]
    }
   ],
   "source": [
    "# str 的 *\n",
    "print( s * 2 )\n",
    "print( s.__mul__(2) )"
   ]
  },
  {
   "cell_type": "code",
   "execution_count": 147,
   "metadata": {},
   "outputs": [
    {
     "data": {
      "text/plain": [
       "\"'BABA'\""
      ]
     },
     "execution_count": 147,
     "metadata": {},
     "output_type": "execute_result"
    }
   ],
   "source": [
    "s.__repr__()"
   ]
  },
  {
   "cell_type": "code",
   "execution_count": 148,
   "metadata": {},
   "outputs": [
    {
     "data": {
      "text/plain": [
       "'BABA'"
      ]
     },
     "execution_count": 148,
     "metadata": {},
     "output_type": "execute_result"
    }
   ],
   "source": [
    "s.__str__()"
   ]
  },
  {
   "cell_type": "markdown",
   "metadata": {},
   "source": [
    "### <font color='#2b4750' face='微软雅黑'>1.3 `list` 对象</font><a name='1.3'></a>\n",
    "[<font color='black' face='微软雅黑'>回到章首</font>](#1)"
   ]
  },
  {
   "cell_type": "code",
   "execution_count": 158,
   "metadata": {},
   "outputs": [],
   "source": [
    "# list 对象\n",
    "l = [1, 2, 3]"
   ]
  },
  {
   "cell_type": "code",
   "execution_count": 159,
   "metadata": {},
   "outputs": [
    {
     "data": {
      "text/plain": [
       "['__add__',\n",
       " '__class__',\n",
       " '__contains__',\n",
       " '__delattr__',\n",
       " '__delitem__',\n",
       " '__dir__',\n",
       " '__doc__',\n",
       " '__eq__',\n",
       " '__format__',\n",
       " '__ge__',\n",
       " '__getattribute__',\n",
       " '__getitem__',\n",
       " '__gt__',\n",
       " '__hash__',\n",
       " '__iadd__',\n",
       " '__imul__',\n",
       " '__init__',\n",
       " '__init_subclass__',\n",
       " '__iter__',\n",
       " '__le__',\n",
       " '__len__',\n",
       " '__lt__',\n",
       " '__mul__',\n",
       " '__ne__',\n",
       " '__new__',\n",
       " '__reduce__',\n",
       " '__reduce_ex__',\n",
       " '__repr__',\n",
       " '__reversed__',\n",
       " '__rmul__',\n",
       " '__setattr__',\n",
       " '__setitem__',\n",
       " '__sizeof__',\n",
       " '__str__',\n",
       " '__subclasshook__',\n",
       " 'append',\n",
       " 'clear',\n",
       " 'copy',\n",
       " 'count',\n",
       " 'extend',\n",
       " 'index',\n",
       " 'insert',\n",
       " 'pop',\n",
       " 'remove',\n",
       " 'reverse',\n",
       " 'sort']"
      ]
     },
     "execution_count": 159,
     "metadata": {},
     "output_type": "execute_result"
    }
   ],
   "source": [
    "# list 类里的 fields 和 methods\n",
    "dir(l) # dir(list)"
   ]
  },
  {
   "cell_type": "code",
   "execution_count": 160,
   "metadata": {},
   "outputs": [
    {
     "data": {
      "text/plain": [
       "list"
      ]
     },
     "execution_count": 160,
     "metadata": {},
     "output_type": "execute_result"
    }
   ],
   "source": [
    "# list 的类型\n",
    "type(l)"
   ]
  },
  {
   "cell_type": "code",
   "execution_count": 161,
   "metadata": {},
   "outputs": [
    {
     "data": {
      "text/plain": [
       "[1, 2, 3, 4]"
      ]
     },
     "execution_count": 161,
     "metadata": {},
     "output_type": "execute_result"
    }
   ],
   "source": [
    "# list 的 methods\n",
    "l.append(4)\n",
    "l"
   ]
  },
  {
   "cell_type": "code",
   "execution_count": 162,
   "metadata": {},
   "outputs": [
    {
     "name": "stdout",
     "output_type": "stream",
     "text": [
      "3\n",
      "3\n"
     ]
    }
   ],
   "source": [
    "# list 的索引\n",
    "print( l[2] )\n",
    "print( l.__getitem__(2) )"
   ]
  },
  {
   "cell_type": "code",
   "execution_count": 163,
   "metadata": {},
   "outputs": [
    {
     "name": "stdout",
     "output_type": "stream",
     "text": [
      "[1, 2, 3, 4, 5, 6]\n",
      "[1, 2, 3, 4, 5, 6]\n"
     ]
    }
   ],
   "source": [
    "# list 的 +\n",
    "print(l + [5, 6])\n",
    "print(l.__add__([5, 6]))"
   ]
  },
  {
   "cell_type": "code",
   "execution_count": 164,
   "metadata": {},
   "outputs": [
    {
     "name": "stdout",
     "output_type": "stream",
     "text": [
      "[1, 2, 3, 4, 1, 2, 3, 4]\n",
      "[1, 2, 3, 4, 1, 2, 3, 4]\n"
     ]
    }
   ],
   "source": [
    "# list 的 *\n",
    "print(l * 2)\n",
    "print(l.__mul__(2))"
   ]
  },
  {
   "cell_type": "code",
   "execution_count": 165,
   "metadata": {},
   "outputs": [
    {
     "data": {
      "text/plain": [
       "'[1, 2, 3, 4]'"
      ]
     },
     "execution_count": 165,
     "metadata": {},
     "output_type": "execute_result"
    }
   ],
   "source": [
    "l.__repr__()"
   ]
  },
  {
   "cell_type": "code",
   "execution_count": 166,
   "metadata": {},
   "outputs": [
    {
     "data": {
      "text/plain": [
       "'[1, 2, 3, 4]'"
      ]
     },
     "execution_count": 166,
     "metadata": {},
     "output_type": "execute_result"
    }
   ],
   "source": [
    "l.__str__()"
   ]
  },
  {
   "cell_type": "markdown",
   "metadata": {},
   "source": [
    "# <font color='#dc2624' face='微软雅黑'>2. 四大特点</font><a name='2'></a>\n",
    "[<font color='black' face='微软雅黑'>回到目录</font>](#toc)\n",
    "### <font color='#2b4750' face='微软雅黑'>2.1 封装</font><a name='2.1'></a>\n",
    "[<font color='black' face='微软雅黑'>回到章首</font>](#2)\n",
    "\n",
    "定义类必须要用关键词 ·`class`，后面跟着类的名字，最后以冒号结尾。"
   ]
  },
  {
   "cell_type": "code",
   "execution_count": 222,
   "metadata": {},
   "outputs": [
    {
     "name": "stdout",
     "output_type": "stream",
     "text": [
      "<__main__.Employee object at 0x00000296C4337B38>\n",
      "<__main__.Employee object at 0x00000296C43377F0>\n"
     ]
    }
   ],
   "source": [
    "class Employee:\n",
    "    pass\n",
    "\n",
    "emp_1 = Employee()\n",
    "emp_2 = Employee()\n",
    "\n",
    "print(emp_1)\n",
    "print(emp_2)"
   ]
  },
  {
   "cell_type": "markdown",
   "metadata": {},
   "source": [
    "### `__init__` 和 `self`\n",
    "\n",
    "类是可聚集属性 (attribute)，即字段 (field) 和方法 (method)。\n",
    "\n",
    "首先用 `__init__()` 方法来聚集字段，第一个参数永远是 `self`，表示创建对象本身，后面的参数都是字段，常见的赋值方式就是\n",
    "```\n",
    "    self.field_name = field_name\n",
    "```"
   ]
  },
  {
   "cell_type": "code",
   "execution_count": 170,
   "metadata": {},
   "outputs": [],
   "source": [
    "class Employee:\n",
    "    \n",
    "    def __init__( self, first, last, pay ):\n",
    "        self.first = first\n",
    "        self.last = last\n",
    "        self.pay = pay\n",
    "        self.email = first + '.' + last + '@gmail.com'"
   ]
  },
  {
   "cell_type": "code",
   "execution_count": 195,
   "metadata": {},
   "outputs": [
    {
     "name": "stdout",
     "output_type": "stream",
     "text": [
      "<__main__.Employee object at 0x000001E98BB86E48>\n",
      "<__main__.Employee object at 0x000001E98BB86390>\n"
     ]
    }
   ],
   "source": [
    "emp_1 = Employee( 'Steven', 'Wang', 200000 )\n",
    "emp_2 = Employee( 'Sherry', 'Zhang', 100000 )\n",
    "\n",
    "print( emp_1 )\n",
    "print( emp_2 )"
   ]
  },
  {
   "cell_type": "markdown",
   "metadata": {},
   "source": [
    "**封装** (encapsulation) 包含两个概念：\n",
    "\n",
    "1. 类将字段和方法集中在一起。\n",
    "2. 隐藏类的内部数据，避免外部代码直接进行访问。\n",
    "\n",
    "现在我们可以在类定义的外面更改对象的字段值，这违背了**封装**的第二个概念。"
   ]
  },
  {
   "cell_type": "code",
   "execution_count": 174,
   "metadata": {},
   "outputs": [
    {
     "name": "stdout",
     "output_type": "stream",
     "text": [
      "Liu\n"
     ]
    }
   ],
   "source": [
    "emp_1.last = 'Liu'\n",
    "print( emp_1.last )"
   ]
  },
  {
   "cell_type": "markdown",
   "metadata": {},
   "source": [
    "Python 中没有私有变量，所有的变量都是可以公开访问的。Python 通过另一种方法解决了私有变量应对的问题：使用命名约定，对于调用者不应该访问的变量或方法，则应在名称前加**双下划线** `__`。"
   ]
  },
  {
   "cell_type": "code",
   "execution_count": 184,
   "metadata": {},
   "outputs": [],
   "source": [
    "class Employee:\n",
    "    \n",
    "    def __init__( self, first, last, pay ):\n",
    "        self.__first = first\n",
    "        self.__last = last\n",
    "        self.__pay = pay\n",
    "        self.__email = first + '.' + last + '@gmail.com'"
   ]
  },
  {
   "cell_type": "code",
   "execution_count": 187,
   "metadata": {},
   "outputs": [
    {
     "ename": "AttributeError",
     "evalue": "'Employee' object has no attribute '__last'",
     "output_type": "error",
     "traceback": [
      "\u001b[1;31m---------------------------------------------------------------------------\u001b[0m",
      "\u001b[1;31mAttributeError\u001b[0m                            Traceback (most recent call last)",
      "\u001b[1;32m<ipython-input-187-e4495ef921c7>\u001b[0m in \u001b[0;36m<module>\u001b[1;34m\u001b[0m\n\u001b[0;32m      1\u001b[0m \u001b[0memp_1\u001b[0m \u001b[1;33m=\u001b[0m \u001b[0mEmployee\u001b[0m\u001b[1;33m(\u001b[0m \u001b[1;34m'Steven'\u001b[0m\u001b[1;33m,\u001b[0m \u001b[1;34m'Wang'\u001b[0m\u001b[1;33m,\u001b[0m \u001b[1;36m200000\u001b[0m \u001b[1;33m)\u001b[0m\u001b[1;33m\u001b[0m\u001b[1;33m\u001b[0m\u001b[0m\n\u001b[1;32m----> 2\u001b[1;33m \u001b[0mprint\u001b[0m\u001b[1;33m(\u001b[0m \u001b[0memp_1\u001b[0m\u001b[1;33m.\u001b[0m\u001b[0m__last\u001b[0m \u001b[1;33m)\u001b[0m\u001b[1;33m\u001b[0m\u001b[1;33m\u001b[0m\u001b[0m\n\u001b[0m",
      "\u001b[1;31mAttributeError\u001b[0m: 'Employee' object has no attribute '__last'"
     ]
    }
   ],
   "source": [
    "emp_1 = Employee( 'Steven', 'Wang', 200000 )\n",
    "print( emp_1.__last )"
   ]
  },
  {
   "cell_type": "markdown",
   "metadata": {},
   "source": [
    "但是 Python 的封装功能做的不是无懈可击的，我们可通用 `obj._className__fieldName` 来获取字段值。"
   ]
  },
  {
   "cell_type": "code",
   "execution_count": 190,
   "metadata": {},
   "outputs": [
    {
     "data": {
      "text/plain": [
       "'Wang'"
      ]
     },
     "execution_count": 190,
     "metadata": {},
     "output_type": "execute_result"
    }
   ],
   "source": [
    " emp_1._Employee__last"
   ]
  },
  {
   "cell_type": "markdown",
   "metadata": {},
   "source": [
    "我们还可以在类中定义方法，拿 `fullname` 举例， 该方法第一个参数同样是 `self`，因为它需要用自身对象的 `first` 和 `last` 字段。"
   ]
  },
  {
   "cell_type": "code",
   "execution_count": 191,
   "metadata": {},
   "outputs": [],
   "source": [
    "class Employee:\n",
    "    \n",
    "    def __init__( self, first, last, pay ):\n",
    "        self.first = first\n",
    "        self.last = last\n",
    "        self.pay = pay\n",
    "        self.email = first + '.' + last + '@gmail.com'\n",
    "    \n",
    "    def fullname( self ):\n",
    "        return f'{self.first} {self.last}'"
   ]
  },
  {
   "cell_type": "code",
   "execution_count": 192,
   "metadata": {},
   "outputs": [
    {
     "name": "stdout",
     "output_type": "stream",
     "text": [
      "Steven Wang\n",
      "Sherry Zhang\n"
     ]
    }
   ],
   "source": [
    "emp_1 = Employee( 'Steven', 'Wang', 200000 )\n",
    "emp_2 = Employee( 'Sherry', 'Zhang', 100000 )"
   ]
  },
  {
   "cell_type": "markdown",
   "metadata": {},
   "source": [
    "第一种方法：用 `object.method()`"
   ]
  },
  {
   "cell_type": "code",
   "execution_count": 194,
   "metadata": {},
   "outputs": [
    {
     "name": "stdout",
     "output_type": "stream",
     "text": [
      "Steven Wang\n",
      "Sherry Zhang\n"
     ]
    }
   ],
   "source": [
    "print( emp_1.fullname() )\n",
    "print( emp_2.fullname() )"
   ]
  },
  {
   "cell_type": "markdown",
   "metadata": {},
   "source": [
    "第二种方法：用 `class.method(object)`"
   ]
  },
  {
   "cell_type": "code",
   "execution_count": 193,
   "metadata": {},
   "outputs": [
    {
     "name": "stdout",
     "output_type": "stream",
     "text": [
      "Steven Wang\n",
      "Sherry Zhang\n"
     ]
    }
   ],
   "source": [
    "print( Employee.fullname(emp_1) )\n",
    "print( Employee.fullname(emp_2) )"
   ]
  },
  {
   "cell_type": "markdown",
   "metadata": {},
   "source": [
    "### 魔法方法\n",
    "\n",
    "魔法方法 (magic method) 的方法名前后被双下划线 (dunder) 所包围，构造函数 `__init__()` 就是最常见的魔法方法。除此之外，我们通常需要实现 `__repr__()` 和 `__str__()` 方法，它们是任何 `object` 子类都继承的方法。\n",
    "\n",
    "- `__str__()` 可打印出关于 Employee 对象**可读性更强**的信息，为用户设计的。\n",
    "- `__repr__()` 可打印出关于 Employee 对象**无歧义**的信息，为开发者设计的。\n",
    "\n",
    "我们还可以定义 `__add__()` 来实现两个 Employee 对象相加的逻辑，一种可能是薪水相加。"
   ]
  },
  {
   "cell_type": "code",
   "execution_count": 207,
   "metadata": {},
   "outputs": [],
   "source": [
    "class Employee:\n",
    "    \n",
    "    def __init__( self, first, last, pay ):\n",
    "        self.first = first\n",
    "        self.last = last\n",
    "        self.pay = pay\n",
    "        self.email = first + '.' + last + '@gmail.com'\n",
    "    \n",
    "    def fullname( self ):\n",
    "        return f'{self.first} {self.last}'\n",
    "        \n",
    "    def __repr__( self ):\n",
    "        return f\"Employee(\\'{self.first}\\', \\'{self.last}\\', {self.pay})\"\n",
    "    \n",
    "    def __str__( self ):\n",
    "        return f'{self.fullname()} - {self.email}'\n",
    "    \n",
    "    def __add__( self, other ):\n",
    "        return self.pay + other.pay"
   ]
  },
  {
   "cell_type": "code",
   "execution_count": 208,
   "metadata": {},
   "outputs": [],
   "source": [
    "emp_1 = Employee( 'Steven', 'Wang', 200000 )\n",
    "emp_2 = Employee( 'Sherry', 'Zhang', 100000 )"
   ]
  },
  {
   "cell_type": "code",
   "execution_count": 209,
   "metadata": {},
   "outputs": [
    {
     "name": "stdout",
     "output_type": "stream",
     "text": [
      "给用户看的： Steven Wang - Steven.Wang@gmail.com\n",
      "给开发者看的： Employee('Steven', 'Wang', 200000)\n",
      "薪水相加： 300000\n"
     ]
    }
   ],
   "source": [
    "print( '给用户看的：', emp_1.__str__() )\n",
    "print( '给开发者看的：',emp_1.__repr__() )\n",
    "print( '薪水相加：',emp_1 + emp_2 )"
   ]
  },
  {
   "cell_type": "markdown",
   "metadata": {},
   "source": [
    "### 千人千面的类字段 (Class Field)\n",
    "\n",
    "对于不同对象有**不同的值**的类字段，比如下例薪水增幅 (`raise_rate`)。"
   ]
  },
  {
   "cell_type": "code",
   "execution_count": 211,
   "metadata": {},
   "outputs": [],
   "source": [
    "class Employee:\n",
    "    \n",
    "    raise_rate = 1.05\n",
    "    \n",
    "    def __init__( self, first, last, pay ):\n",
    "        self.first = first\n",
    "        self.last = last\n",
    "        self.pay = pay\n",
    "        self.email = first + '.' + last + '@gmail.com'\n",
    "    \n",
    "    def fullname( self ):\n",
    "        return f'{self.first} {self.last}'\n",
    "    \n",
    "    def apply_raise( self ):\n",
    "        self.pay = self.pay * self.raise_rate"
   ]
  },
  {
   "cell_type": "code",
   "execution_count": 212,
   "metadata": {},
   "outputs": [
    {
     "name": "stdout",
     "output_type": "stream",
     "text": [
      "200000\n",
      "210000.0\n"
     ]
    }
   ],
   "source": [
    "emp_1 = Employee( 'Steven', 'Wang', 200000 )\n",
    "emp_2 = Employee( 'Sherry', 'Zhang', 100000 )\n",
    "\n",
    "print(emp_1.pay)\n",
    "emp_1.apply_raise()\n",
    "print(emp_1.pay)"
   ]
  },
  {
   "cell_type": "markdown",
   "metadata": {},
   "source": [
    "类字段可以用类 (Employee) 和对象 (emp_1, emp_2) 来访问。"
   ]
  },
  {
   "cell_type": "code",
   "execution_count": 213,
   "metadata": {},
   "outputs": [
    {
     "name": "stdout",
     "output_type": "stream",
     "text": [
      "1.05\n",
      "1.05\n",
      "1.05\n"
     ]
    }
   ],
   "source": [
    "print( Employee.raise_rate )\n",
    "print( emp_1.raise_rate )\n",
    "print( emp_2.raise_rate )"
   ]
  },
  {
   "cell_type": "markdown",
   "metadata": {},
   "source": [
    "如果通过类访问来改变类变量 `raise_rate`，那么类和对象下的 `raise_rate` 值都会变。"
   ]
  },
  {
   "cell_type": "code",
   "execution_count": 237,
   "metadata": {},
   "outputs": [
    {
     "name": "stdout",
     "output_type": "stream",
     "text": [
      "1.1\n",
      "1.1\n",
      "1.1\n"
     ]
    }
   ],
   "source": [
    "Employee.raise_rate = 1.1\n",
    "\n",
    "print( Employee.raise_rate )\n",
    "print( emp_1.raise_rate )\n",
    "print( emp_2.raise_rate )"
   ]
  },
  {
   "cell_type": "markdown",
   "metadata": {},
   "source": [
    "如果通过对象 emp_1 访问来改变类字段 `raise_rate`，那么只会是对象 emp_1 下的 `raise_rate` 值会变，而类下的和对象 emp_2 的 `raise_rate` 值不会变。"
   ]
  },
  {
   "cell_type": "code",
   "execution_count": 238,
   "metadata": {},
   "outputs": [
    {
     "name": "stdout",
     "output_type": "stream",
     "text": [
      "1.1\n",
      "1.05\n",
      "1.1\n"
     ]
    }
   ],
   "source": [
    "emp_1.raise_rate = 1.05\n",
    "\n",
    "print( Employee.raise_rate )\n",
    "print( emp_1.raise_rate )\n",
    "print( emp_2.raise_rate )"
   ]
  },
  {
   "cell_type": "markdown",
   "metadata": {},
   "source": [
    "如果想让类字段千人千面，用\n",
    "```\n",
    "self.class_variable\n",
    "```"
   ]
  },
  {
   "cell_type": "markdown",
   "metadata": {},
   "source": [
    "### 千人一面的类字段 (Class Variable)\n",
    "\n",
    "对于不同对象有**相同的值**的类字段，比如下例雇员总数 (`num_of_emps`)。"
   ]
  },
  {
   "cell_type": "code",
   "execution_count": 214,
   "metadata": {},
   "outputs": [],
   "source": [
    "class Employee:\n",
    "    \n",
    "    num_of_emps = 0\n",
    "    raise_rate = 1.05\n",
    "    \n",
    "    def __init__( self, first, last, pay ):\n",
    "        self.first = first\n",
    "        self.last = last\n",
    "        self.pay = pay\n",
    "        self.email = first + '.' + last + '@gmail.com'\n",
    "        \n",
    "        Employee.num_of_emps += 1\n",
    "    \n",
    "    def fullname( self ):\n",
    "        return f'{self.first} {self.last}'\n",
    "    \n",
    "    def apply_raise( self ):\n",
    "        self.pay = self.pay * self.raise_rate"
   ]
  },
  {
   "cell_type": "code",
   "execution_count": 215,
   "metadata": {},
   "outputs": [
    {
     "name": "stdout",
     "output_type": "stream",
     "text": [
      "0\n",
      "1\n",
      "2\n"
     ]
    }
   ],
   "source": [
    "print( Employee.num_of_emps )\n",
    "\n",
    "emp_1 = Employee( 'Steven', 'Wang', 200000 )\n",
    "\n",
    "print( Employee.num_of_emps )\n",
    "\n",
    "emp_2 = Employee( 'Sherry', 'Zhang', 100000 )\n",
    "\n",
    "print( Employee.num_of_emps )"
   ]
  },
  {
   "cell_type": "markdown",
   "metadata": {},
   "source": [
    "如果想让类字段千人一面，用\n",
    "```\n",
    "class_name.class_variable\n",
    "```"
   ]
  },
  {
   "cell_type": "markdown",
   "metadata": {},
   "source": [
    "### 类方法 (Class Method) 和静态方法 (Static Method)\n",
    "\n",
    "类方法适用于该类，即对该类下的所有对象的作用的相同的。类方法有两个特点：\n",
    "\n",
    "1. 第一行要有装饰器 `@classmethod`\n",
    "2. 函数第一个参数必须是关键词 `clf` (不是关键词 `self`）\n",
    "\n",
    "一个类还会有些效用函数 (utility function)，它们不随对象和类的属性而改变，我们称它们为静态方法。静态方法也有两个特点：\n",
    "\n",
    "1. 第一行要有装饰器 `@staticmethod`\n",
    "2. 函数参数绝对不能有关键词 `clf` 和 `self`"
   ]
  },
  {
   "cell_type": "code",
   "execution_count": 216,
   "metadata": {},
   "outputs": [],
   "source": [
    "class Employee:\n",
    "    \n",
    "    num_of_emps = 0\n",
    "    raise_rate = 1.05\n",
    "    \n",
    "    def __init__( self, first, last, pay ):\n",
    "        self.first = first\n",
    "        self.last = last\n",
    "        self.pay = pay\n",
    "        self.email = first + '.' + last + '@gmail.com'\n",
    "        \n",
    "        Employee.num_of_emps += 1\n",
    "    \n",
    "    def fullname( self ):\n",
    "        return f'{self.first} {self.last}'\n",
    "    \n",
    "    def apply_raise( self ):\n",
    "        self.pay = self.pay * self.raise_rate\n",
    "    \n",
    "    @classmethod\n",
    "    def set_raise_rate( cls, rate ):\n",
    "        cls.raise_rate = rate\n",
    "    \n",
    "    @staticmethod\n",
    "    def is_workday(day):\n",
    "        if day.weekday() == 5 or day.weekday() == 6:\n",
    "            return False\n",
    "        return True"
   ]
  },
  {
   "cell_type": "code",
   "execution_count": 223,
   "metadata": {},
   "outputs": [
    {
     "name": "stdout",
     "output_type": "stream",
     "text": [
      "1.2\n",
      "1.2\n",
      "1.2\n"
     ]
    }
   ],
   "source": [
    "emp_1 = Employee( 'Steven', 'Wang', 200000 )\n",
    "emp_2 = Employee( 'Sherry', 'Zhang', 100000 )\n",
    "\n",
    "print( Employee.raise_rate )\n",
    "print( emp_1.raise_rate )\n",
    "print( emp_2.raise_rate )"
   ]
  },
  {
   "cell_type": "code",
   "execution_count": 218,
   "metadata": {},
   "outputs": [
    {
     "name": "stdout",
     "output_type": "stream",
     "text": [
      "1.1\n",
      "1.1\n",
      "1.1\n"
     ]
    }
   ],
   "source": [
    "Employee.set_raise_rate( 1.1 )\n",
    "\n",
    "print( Employee.raise_rate )\n",
    "print( emp_1.raise_rate )\n",
    "print( emp_2.raise_rate )"
   ]
  },
  {
   "cell_type": "code",
   "execution_count": 219,
   "metadata": {},
   "outputs": [
    {
     "name": "stdout",
     "output_type": "stream",
     "text": [
      "1.2\n",
      "1.2\n",
      "1.2\n"
     ]
    }
   ],
   "source": [
    "emp_1.set_raise_rate( 1.2 )\n",
    "\n",
    "print( Employee.raise_rate )\n",
    "print( emp_1.raise_rate )\n",
    "print( emp_2.raise_rate )"
   ]
  },
  {
   "cell_type": "code",
   "execution_count": 225,
   "metadata": {},
   "outputs": [
    {
     "name": "stdout",
     "output_type": "stream",
     "text": [
      "True\n",
      "True\n",
      "True\n"
     ]
    }
   ],
   "source": [
    "import datetime\n",
    "\n",
    "my_date = datetime.date(2020, 4, 28)\n",
    "\n",
    "print( Employee.is_workday(my_date) )\n",
    "print( emp_1.is_workday(my_date) )\n",
    "print( emp_2.is_workday(my_date) )"
   ]
  },
  {
   "cell_type": "markdown",
   "metadata": {},
   "source": [
    "### <font color='#2b4750' face='微软雅黑'>2.2 继承</font><a name='2.2'></a>\n",
    "[<font color='black' face='微软雅黑'>回到章首</font>](#2)\n",
    "\n",
    "**继承** (inheritance) 是类的一大特征。有继承就必有父类 (parent class) 和子类 (child class)。子类和父类有 **is-a** 这样的关系。\n",
    "\n",
    "首先看父类 Employee。"
   ]
  },
  {
   "cell_type": "code",
   "execution_count": 226,
   "metadata": {},
   "outputs": [],
   "source": [
    "class Employee:\n",
    "    \n",
    "    raise_rate = 1.05\n",
    "    \n",
    "    def __init__( self, first, last, pay ):\n",
    "        self.first = first\n",
    "        self.last = last\n",
    "        self.pay = pay\n",
    "        self.email = first + '.' + last + '@gmail.com'\n",
    "    \n",
    "    def fullname( self ):\n",
    "        return f'{self.first} {self.last}'\n",
    "    \n",
    "    def apply_raise( self ):\n",
    "        self.pay = self.pay * self.raise_rate    "
   ]
  },
  {
   "cell_type": "code",
   "execution_count": 227,
   "metadata": {},
   "outputs": [],
   "source": [
    "class Developer(Employee):\n",
    "    pass"
   ]
  },
  {
   "cell_type": "markdown",
   "metadata": {},
   "source": [
    "构建两个开发者，虽然在 Develop 类里没有定义任何操作，但是他们继承了父类 Employee 里面的邮箱地址的字段。"
   ]
  },
  {
   "cell_type": "code",
   "execution_count": 228,
   "metadata": {},
   "outputs": [
    {
     "name": "stdout",
     "output_type": "stream",
     "text": [
      "Steven.Wang@gmail.com\n",
      "Sherry.Zhang@gmail.com\n"
     ]
    }
   ],
   "source": [
    "dev_1 = Developer( 'Steven', 'Wang', 200000 )\n",
    "dev_2 = Developer( 'Sherry', 'Zhang', 100000 )\n",
    "\n",
    "print( dev_1.email )\n",
    "print( dev_2.email )"
   ]
  },
  {
   "cell_type": "markdown",
   "metadata": {},
   "source": [
    "即便 Developer 类里啥都没做，但确实可用 Employee 类里定义的 `pay` 字段和 `apply_raise()` 方法。"
   ]
  },
  {
   "cell_type": "code",
   "execution_count": 296,
   "metadata": {},
   "outputs": [
    {
     "name": "stdout",
     "output_type": "stream",
     "text": [
      "200000\n",
      "210000\n"
     ]
    }
   ],
   "source": [
    "print(dev_1.pay)\n",
    "dev_1.apply_raise()\n",
    "print(dev_1.pay)"
   ]
  },
  {
   "cell_type": "markdown",
   "metadata": {},
   "source": [
    "开发者薪水涨幅都高，设 `raise_rate` 为 1.1，这样 Developer 就再也不会用父类 Employee 里的 1.05 了。"
   ]
  },
  {
   "cell_type": "code",
   "execution_count": 232,
   "metadata": {},
   "outputs": [],
   "source": [
    "class Developer(Employee):\n",
    "    \n",
    "    raise_rate = 1.1"
   ]
  },
  {
   "cell_type": "code",
   "execution_count": 233,
   "metadata": {},
   "outputs": [
    {
     "name": "stdout",
     "output_type": "stream",
     "text": [
      "200000\n",
      "220000.00000000003\n"
     ]
    }
   ],
   "source": [
    "dev_1 = Developer( 'Steven', 'Wang', 200000 )\n",
    "\n",
    "print(dev_1.pay)\n",
    "dev_1.apply_raise()\n",
    "print(dev_1.pay)"
   ]
  },
  {
   "cell_type": "markdown",
   "metadata": {},
   "source": [
    "现在来完善子类 Developer，但是 `__init__()` 方法里面的代码重复。"
   ]
  },
  {
   "cell_type": "code",
   "execution_count": 299,
   "metadata": {},
   "outputs": [],
   "source": [
    "class Developer(Employee):\n",
    "    \n",
    "    raise_rate = 1.1\n",
    "    \n",
    "    def __init__( self, first, last, pay, prog_lang ):\n",
    "        self.first = first\n",
    "        self.last = last\n",
    "        self.pay = pay\n",
    "        self.prog_lang = prog_lang\n",
    "        self.email = first + '.' + last + '@gmail.com'"
   ]
  },
  {
   "cell_type": "markdown",
   "metadata": {},
   "source": [
    "用 `super()` 方法，具体写法如下\n",
    "```\n",
    "super().__init__()\n",
    "```\n",
    "利用父类 Employee 里的 `__init__()` 函数来创建对象 ，只用处理对于 Developer 对象的新字段 - 编程语言 `prog_lang`。"
   ]
  },
  {
   "cell_type": "code",
   "execution_count": 234,
   "metadata": {},
   "outputs": [],
   "source": [
    "class Developer(Employee):\n",
    "    \n",
    "    raise_rate = 1.1\n",
    "    \n",
    "    def __init__( self, first, last, pay, prog_lang ):\n",
    "        super().__init__(first, last, pay)\n",
    "        self.prog_lang = prog_lang"
   ]
  },
  {
   "cell_type": "code",
   "execution_count": 235,
   "metadata": {},
   "outputs": [
    {
     "name": "stdout",
     "output_type": "stream",
     "text": [
      "Steven.Wang@gmail.com\n",
      "Python\n",
      "Sherry.Zhang@gmail.com\n",
      "SQL\n"
     ]
    }
   ],
   "source": [
    "dev_1 = Developer( 'Steven', 'Wang', 200000, 'Python' )\n",
    "dev_2 = Developer( 'Sherry', 'Zhang', 100000, 'SQL' )\n",
    "\n",
    "print( dev_1.email )\n",
    "print( dev_1.prog_lang )\n",
    "print( dev_2.email )\n",
    "print( dev_2.prog_lang )"
   ]
  },
  {
   "cell_type": "markdown",
   "metadata": {},
   "source": [
    "### <font color='#2b4750' face='微软雅黑'>2.3 多态</font><a name='2.3'></a>\n",
    "[<font color='black' face='微软雅黑'>回到章首</font>](#2)\n",
    "\n",
    "上节构建雇员 Employee 的子类 - 开发者 (Developer)，本节再构建两个子类，合约工 (Contractor) 和销售 (Sales)。由父类衍生出来多个子类称为**多态** (polymorphism)。Poly 和 many 意思相近，多的意思；morphism 和 form 意思相近，形态的意思。多态也是类的一大特征。\n",
    "\n",
    "他们的薪酬结构不同：\n",
    "\n",
    "- 开发者每个月拿**固定月薪**\n",
    "- 合约工每个月拿**日薪乘以工作天数**\n",
    "- 销售每个月拿**固定月薪加上佣金**\n",
    "\n",
    "用多态我们实现**相同的** `calculate_payoff()` 函数来计算以上三种雇员的月薪。"
   ]
  },
  {
   "cell_type": "code",
   "execution_count": 266,
   "metadata": {},
   "outputs": [],
   "source": [
    "class Employee:\n",
    "        \n",
    "    def __init__( self, first, last ):\n",
    "        self.first = first\n",
    "        self.last = last\n",
    "        self.email = first + '.' + last + '@gmail.com'\n",
    "    \n",
    "    def fullname( self ):\n",
    "        return f'{self.first} {self.last}'"
   ]
  },
  {
   "cell_type": "code",
   "execution_count": 267,
   "metadata": {},
   "outputs": [],
   "source": [
    "class Developer(Employee):\n",
    "        \n",
    "    def __init__( self, first, last, monthly_salary ):\n",
    "        super().__init__(first, last)\n",
    "        self.monthly_salary = monthly_salary\n",
    "    \n",
    "    def calculate_payroll(self):\n",
    "        return self.monthly_salary"
   ]
  },
  {
   "cell_type": "code",
   "execution_count": 268,
   "metadata": {},
   "outputs": [],
   "source": [
    "class Contractor(Employee):\n",
    "        \n",
    "    def __init__( self, first, last, days_worked, daily_salary ):\n",
    "        super().__init__(first, last)\n",
    "        self.days_worked = days_worked\n",
    "        self.daily_salary = daily_salary\n",
    "    \n",
    "    def calculate_payroll(self):\n",
    "        return self.days_worked * self.daily_salary"
   ]
  },
  {
   "cell_type": "code",
   "execution_count": 269,
   "metadata": {},
   "outputs": [],
   "source": [
    "class Sales(Employee):\n",
    "        \n",
    "    def __init__( self, first, last, monthly_salary, commission ):\n",
    "        super().__init__(first, last)\n",
    "        self.monthly_salary = monthly_salary\n",
    "        self.commission = commission\n",
    "    \n",
    "    def calculate_payroll(self):\n",
    "        return self.monthly_salary  + self.commission"
   ]
  },
  {
   "cell_type": "code",
   "execution_count": 270,
   "metadata": {},
   "outputs": [],
   "source": [
    "developer = Developer( 'Steven', 'Wang', 20000 )\n",
    "contractor = Contractor( 'Dick', 'Song', 20, 500 )\n",
    "sale = Sales( 'Fiona', 'Liu', 2000, 10000 )"
   ]
  },
  {
   "cell_type": "code",
   "execution_count": 271,
   "metadata": {},
   "outputs": [
    {
     "name": "stdout",
     "output_type": "stream",
     "text": [
      "Steven Wang: 20000\n",
      "Dick Song: 10000\n",
      "Fiona Liu: 12000\n"
     ]
    }
   ],
   "source": [
    "for emp in [developer, contractor, sale]:\n",
    "    print( f'{emp.fullname()}: {emp.calculate_payroll()}')"
   ]
  },
  {
   "cell_type": "markdown",
   "metadata": {},
   "source": [
    "### <font color='#2b4750' face='微软雅黑'>2.4 组合</font><a name='2.4'></a>\n",
    "[<font color='black' face='微软雅黑'>回到章首</font>](#2)\n",
    "\n",
    "本节构建另一个子类 - 经理 (Manager)。经理也是雇员，但经理可以管理开发者，合约工和销售，因此它的构造函数 `__init__()` 有一个参数是 employee。在本例中经理和雇员是**组合** (composition) 的关系，即经理和雇员有 **has-a** 这样的关系。"
   ]
  },
  {
   "cell_type": "code",
   "execution_count": 272,
   "metadata": {},
   "outputs": [],
   "source": [
    "class Manager(Employee):\n",
    "    \n",
    "    def __init__( self, first, last, monthly_salary, employees=None ):\n",
    "        super().__init__(first, last)\n",
    "        self.monthly_salary = monthly_salary\n",
    "        if employees == None:\n",
    "            self.employees = []\n",
    "        else:\n",
    "            self.employees = employees\n",
    "    \n",
    "    def add_emp( self, emp ):\n",
    "        if emp not in self.employees:\n",
    "            self.employees.append(emp)\n",
    "     \n",
    "    def remove_emp( self, emp ):\n",
    "        if emp in self.employees:\n",
    "            self.employees.remove(emp)\n",
    "    \n",
    "    def print_emp( self ):\n",
    "        for emp in self.employees:\n",
    "            print( '-->', emp.fullname() )"
   ]
  },
  {
   "cell_type": "code",
   "execution_count": 273,
   "metadata": {},
   "outputs": [
    {
     "name": "stdout",
     "output_type": "stream",
     "text": [
      "--> Steven Wang\n"
     ]
    }
   ],
   "source": [
    "developer = Developer( 'Steven', 'Wang', 20000 )\n",
    "contractor = Contractor( 'Dick', 'Song', 20, 500 )\n",
    "sale = Sales( 'Fiona', 'Liu', 2000, 10000 )\n",
    "\n",
    "manager = Manager( 'Sherry', 'Zhang', 500000, [developer] )\n",
    "\n",
    "manager.print_emp()"
   ]
  },
  {
   "cell_type": "code",
   "execution_count": 274,
   "metadata": {},
   "outputs": [
    {
     "name": "stdout",
     "output_type": "stream",
     "text": [
      "--> Steven Wang\n",
      "--> Dick Song\n",
      "--> Fiona Liu\n"
     ]
    }
   ],
   "source": [
    "manager.add_emp( contractor )\n",
    "manager.add_emp( sale )\n",
    "\n",
    "manager.print_emp()"
   ]
  },
  {
   "cell_type": "code",
   "execution_count": 275,
   "metadata": {},
   "outputs": [
    {
     "name": "stdout",
     "output_type": "stream",
     "text": [
      "--> Dick Song\n",
      "--> Fiona Liu\n"
     ]
    }
   ],
   "source": [
    "manager.remove_emp( developer )\n",
    "\n",
    "manager.print_emp()"
   ]
  },
  {
   "cell_type": "markdown",
   "metadata": {},
   "source": [
    "# <font color='#dc2624' face='微软雅黑'>3. 实际案例</font><a name='3'></a>\n",
    "[<font color='black' face='微软雅黑'>回到目录</font>](#toc)\n",
    "### <font color='#2b4750' face='微软雅黑'>3.1 均线交易</font><a name='3.1'></a>\n",
    "[<font color='black' face='微软雅黑'>回到章首</font>](#3)\n",
    "\n",
    "在本例中我们需要用到 `yahoofinancials` 包，首先在 Anaconda Prompt 中用 pip 安装，如下：\n",
    "```\n",
    "pip install yahoofinancials\n",
    "```"
   ]
  },
  {
   "cell_type": "code",
   "execution_count": 229,
   "metadata": {},
   "outputs": [],
   "source": [
    "from yahoofinancials import YahooFinancials\n",
    "\n",
    "import pandas as pd\n",
    "import matplotlib.pyplot as plt\n",
    "%matplotlib inline"
   ]
  },
  {
   "cell_type": "code",
   "execution_count": 12,
   "metadata": {},
   "outputs": [],
   "source": [
    "cryptocurrencies = ['BTC-USD', 'ETH-USD']\n",
    "CRX_obj = YahooFinancials( cryptocurrencies )"
   ]
  },
  {
   "cell_type": "code",
   "execution_count": 14,
   "metadata": {},
   "outputs": [],
   "source": [
    "start_date='2019-04-20'\n",
    "end_date='2020-04-20'\n",
    "CFX_daily = CRX_obj.get_historical_price_data( start_date, end_date, 'daily' )"
   ]
  },
  {
   "cell_type": "code",
   "execution_count": 17,
   "metadata": {},
   "outputs": [],
   "source": [
    "def data_converter( price_data, code ):\n",
    "    # convert raw data to dataframe\n",
    "    columns = ['open', 'close', 'low', 'high' ]\n",
    "    price_dict = price_data[code]['prices']\n",
    "    index = [ p['formatted_date'] for p in price_dict ]\n",
    "    price = [ [p[c] for c in columns] for p in price_dict ]\n",
    "\n",
    "    data = pd.DataFrame( price,\n",
    "                         index=pd.Index(index, name='date'),\n",
    "                         columns=pd.Index(columns, name='OHLC') )\n",
    "    return data"
   ]
  },
  {
   "cell_type": "code",
   "execution_count": 18,
   "metadata": {},
   "outputs": [
    {
     "data": {
      "text/html": [
       "<div>\n",
       "<style scoped>\n",
       "    .dataframe tbody tr th:only-of-type {\n",
       "        vertical-align: middle;\n",
       "    }\n",
       "\n",
       "    .dataframe tbody tr th {\n",
       "        vertical-align: top;\n",
       "    }\n",
       "\n",
       "    .dataframe thead th {\n",
       "        text-align: right;\n",
       "    }\n",
       "</style>\n",
       "<table border=\"1\" class=\"dataframe\">\n",
       "  <thead>\n",
       "    <tr style=\"text-align: right;\">\n",
       "      <th>OHLC</th>\n",
       "      <th>open</th>\n",
       "      <th>close</th>\n",
       "      <th>low</th>\n",
       "      <th>high</th>\n",
       "    </tr>\n",
       "    <tr>\n",
       "      <th>date</th>\n",
       "      <th></th>\n",
       "      <th></th>\n",
       "      <th></th>\n",
       "      <th></th>\n",
       "    </tr>\n",
       "  </thead>\n",
       "  <tbody>\n",
       "    <tr>\n",
       "      <th>2019-04-19</th>\n",
       "      <td>5304.160645</td>\n",
       "      <td>5337.886230</td>\n",
       "      <td>5295.877930</td>\n",
       "      <td>5358.490723</td>\n",
       "    </tr>\n",
       "    <tr>\n",
       "      <th>2019-04-20</th>\n",
       "      <td>5335.878906</td>\n",
       "      <td>5314.531250</td>\n",
       "      <td>5257.339355</td>\n",
       "      <td>5359.924805</td>\n",
       "    </tr>\n",
       "    <tr>\n",
       "      <th>2019-04-21</th>\n",
       "      <td>5312.494629</td>\n",
       "      <td>5399.365234</td>\n",
       "      <td>5280.276855</td>\n",
       "      <td>5422.687500</td>\n",
       "    </tr>\n",
       "    <tr>\n",
       "      <th>2019-04-22</th>\n",
       "      <td>5399.365723</td>\n",
       "      <td>5572.361816</td>\n",
       "      <td>5389.408691</td>\n",
       "      <td>5633.802246</td>\n",
       "    </tr>\n",
       "    <tr>\n",
       "      <th>2019-04-23</th>\n",
       "      <td>5571.508301</td>\n",
       "      <td>5464.866699</td>\n",
       "      <td>5418.263184</td>\n",
       "      <td>5642.044434</td>\n",
       "    </tr>\n",
       "  </tbody>\n",
       "</table>\n",
       "</div>"
      ],
      "text/plain": [
       "OHLC               open        close          low         high\n",
       "date                                                          \n",
       "2019-04-19  5304.160645  5337.886230  5295.877930  5358.490723\n",
       "2019-04-20  5335.878906  5314.531250  5257.339355  5359.924805\n",
       "2019-04-21  5312.494629  5399.365234  5280.276855  5422.687500\n",
       "2019-04-22  5399.365723  5572.361816  5389.408691  5633.802246\n",
       "2019-04-23  5571.508301  5464.866699  5418.263184  5642.044434"
      ]
     },
     "execution_count": 18,
     "metadata": {},
     "output_type": "execute_result"
    }
   ],
   "source": [
    "BTC = data_converter( CFX_daily, 'BTC-USD' )\n",
    "BTC.head()"
   ]
  },
  {
   "cell_type": "markdown",
   "metadata": {},
   "source": [
    "### 一步一步写语句"
   ]
  },
  {
   "cell_type": "code",
   "execution_count": 88,
   "metadata": {},
   "outputs": [
    {
     "name": "stdout",
     "output_type": "stream",
     "text": [
      "                  close   short_mavg    long_mavg         s-l  signal\n",
      "date                                                                 \n",
      "2019-04-19  5337.886230  5337.886230  5337.886230    0.000000       0\n",
      "2019-04-20  5314.531250  5326.208740  5326.208740    0.000000       0\n",
      "2019-04-21  5399.365234  5350.594238  5350.594238    0.000000       0\n",
      "2019-04-22  5572.361816  5406.036133  5406.036133    0.000000       0\n",
      "2019-04-23  5464.866699  5417.802246  5417.802246    0.000000       0\n",
      "...                 ...          ...          ...         ...     ...\n",
      "2020-04-15  7116.804199  6883.494238  6802.579956   80.914282       0\n",
      "2020-04-16  7096.184570  6908.512793  6845.279492   63.233301       0\n",
      "2020-04-17  7257.665039  6991.038281  6912.060596   78.977686       0\n",
      "2020-04-18  7189.424805  7060.437695  6950.039746  110.397949       0\n",
      "2020-04-19  6881.958496  7108.407422  6972.205444  136.201978       0\n",
      "\n",
      "[367 rows x 5 columns]\n"
     ]
    }
   ],
   "source": [
    "# Initialize\n",
    "short_window = 5\n",
    "long_window = 20\n",
    "SD = 0.05\n",
    "\n",
    "BTC = data_converter( CFX_daily, 'BTC-USD' )\n",
    "\n",
    "signals = pd.DataFrame()\n",
    "signals['close'] = BTC['close']\n",
    "\n",
    "# Create short simple moving average over the short and long window\n",
    "signals['short_mavg'] = signals['close'].rolling(window=short_window, min_periods=1).mean()\n",
    "signals['long_mavg'] = signals['close'].rolling(window=long_window, min_periods=1).mean()\n",
    "\n",
    "signals['s-l'] = signals['short_mavg'] - signals['long_mavg']\n",
    "\n",
    "# Create signals\n",
    "signals['signal'] = np.where(signals['s-l'] > signals['long_mavg'] * SD, 1, 0)\n",
    "\n",
    "print(signals)"
   ]
  },
  {
   "cell_type": "code",
   "execution_count": 89,
   "metadata": {},
   "outputs": [
    {
     "data": {
      "image/png": "[encoded data removed]",
      "text/plain": [
       "<Figure size 1600x800 with 2 Axes>"
      ]
     },
     "metadata": {
      "needs_background": "light"
     },
     "output_type": "display_data"
    }
   ],
   "source": [
    "fig = plt.figure(figsize=(16,8), dpi=100)\n",
    "x = signals.index\n",
    "\n",
    "ax1 = fig.add_subplot(2,1,1)\n",
    "ax1.set_title( 'BTC Moving Average', fontsize=15 )\n",
    "ax1.set_ylabel( 'Price' )\n",
    "ax1.set_xlim(-1, len(x)+1)\n",
    "ax1.set_xticks( range(0,len(BTC['close']),30) )\n",
    "ax1.plot( BTC['close'], color='black', linewidth=1, label='close', alpha=0.5 )\n",
    "ax1.plot( signals['short_mavg'], color='#dc2624', linewidth=3, label='MA'+str(short_window) )\n",
    "ax1.plot( signals['long_mavg'], color='#2b4750', linewidth=3, label='MA'+str(long_window) )\n",
    "ax1.legend(loc=0);\n",
    "\n",
    "ax2 = fig.add_subplot(2,1,2)\n",
    "ax2.set_xlim(-1, len(x)+1)\n",
    "ax2.set_title( 'Singal', fontsize=15 )\n",
    "ax2.plot( signals['signal'], color='black', linewidth=2 )\n",
    "ax2.set_xticks( range(0,len(BTC['close']),30) );"
   ]
  },
  {
   "cell_type": "markdown",
   "metadata": {},
   "source": [
    "### 面向对象编程"
   ]
  },
  {
   "cell_type": "code",
   "execution_count": 90,
   "metadata": {},
   "outputs": [],
   "source": [
    "class MovingAverage():\n",
    "\n",
    "    def __init__(self, symbol, df, short_window, long_window):\n",
    "        self.symbol = symbol\n",
    "        self.df = df\n",
    "        self.short_window = short_window\n",
    "        self.long_window = long_window\n",
    "\n",
    "    def generate_signals(self):\n",
    "        signals = pd.DataFrame()\n",
    "        signals['close'] = self.df['close']\n",
    "        signals['short_mavg'] = self.df['close'].rolling(window=self.short_window, min_periods=1).mean()\n",
    "        signals['long_mavg'] = self.df['close'].rolling(window=self.long_window, min_periods=1).mean()\n",
    "        signals['s-l'] = signals['short_mavg'] - signals['long_mavg']\n",
    "        signals['signal'] = np.where(signals['s-l'] > signals['long_mavg'] * SD, 1, 0)\n",
    "        \n",
    "        return signals"
   ]
  },
  {
   "cell_type": "code",
   "execution_count": 91,
   "metadata": {},
   "outputs": [
    {
     "data": {
      "text/html": [
       "<div>\n",
       "<style scoped>\n",
       "    .dataframe tbody tr th:only-of-type {\n",
       "        vertical-align: middle;\n",
       "    }\n",
       "\n",
       "    .dataframe tbody tr th {\n",
       "        vertical-align: top;\n",
       "    }\n",
       "\n",
       "    .dataframe thead th {\n",
       "        text-align: right;\n",
       "    }\n",
       "</style>\n",
       "<table border=\"1\" class=\"dataframe\">\n",
       "  <thead>\n",
       "    <tr style=\"text-align: right;\">\n",
       "      <th></th>\n",
       "      <th>close</th>\n",
       "      <th>short_mavg</th>\n",
       "      <th>long_mavg</th>\n",
       "      <th>s-l</th>\n",
       "      <th>signal</th>\n",
       "    </tr>\n",
       "    <tr>\n",
       "      <th>date</th>\n",
       "      <th></th>\n",
       "      <th></th>\n",
       "      <th></th>\n",
       "      <th></th>\n",
       "      <th></th>\n",
       "    </tr>\n",
       "  </thead>\n",
       "  <tbody>\n",
       "    <tr>\n",
       "      <th>2019-04-19</th>\n",
       "      <td>5337.886230</td>\n",
       "      <td>5337.886230</td>\n",
       "      <td>5337.886230</td>\n",
       "      <td>0.000000</td>\n",
       "      <td>0</td>\n",
       "    </tr>\n",
       "    <tr>\n",
       "      <th>2019-04-20</th>\n",
       "      <td>5314.531250</td>\n",
       "      <td>5326.208740</td>\n",
       "      <td>5326.208740</td>\n",
       "      <td>0.000000</td>\n",
       "      <td>0</td>\n",
       "    </tr>\n",
       "    <tr>\n",
       "      <th>2019-04-21</th>\n",
       "      <td>5399.365234</td>\n",
       "      <td>5350.594238</td>\n",
       "      <td>5350.594238</td>\n",
       "      <td>0.000000</td>\n",
       "      <td>0</td>\n",
       "    </tr>\n",
       "    <tr>\n",
       "      <th>2019-04-22</th>\n",
       "      <td>5572.361816</td>\n",
       "      <td>5406.036133</td>\n",
       "      <td>5406.036133</td>\n",
       "      <td>0.000000</td>\n",
       "      <td>0</td>\n",
       "    </tr>\n",
       "    <tr>\n",
       "      <th>2019-04-23</th>\n",
       "      <td>5464.866699</td>\n",
       "      <td>5417.802246</td>\n",
       "      <td>5417.802246</td>\n",
       "      <td>0.000000</td>\n",
       "      <td>0</td>\n",
       "    </tr>\n",
       "    <tr>\n",
       "      <th>...</th>\n",
       "      <td>...</td>\n",
       "      <td>...</td>\n",
       "      <td>...</td>\n",
       "      <td>...</td>\n",
       "      <td>...</td>\n",
       "    </tr>\n",
       "    <tr>\n",
       "      <th>2020-04-15</th>\n",
       "      <td>7116.804199</td>\n",
       "      <td>6883.494238</td>\n",
       "      <td>6802.579956</td>\n",
       "      <td>80.914282</td>\n",
       "      <td>0</td>\n",
       "    </tr>\n",
       "    <tr>\n",
       "      <th>2020-04-16</th>\n",
       "      <td>7096.184570</td>\n",
       "      <td>6908.512793</td>\n",
       "      <td>6845.279492</td>\n",
       "      <td>63.233301</td>\n",
       "      <td>0</td>\n",
       "    </tr>\n",
       "    <tr>\n",
       "      <th>2020-04-17</th>\n",
       "      <td>7257.665039</td>\n",
       "      <td>6991.038281</td>\n",
       "      <td>6912.060596</td>\n",
       "      <td>78.977686</td>\n",
       "      <td>0</td>\n",
       "    </tr>\n",
       "    <tr>\n",
       "      <th>2020-04-18</th>\n",
       "      <td>7189.424805</td>\n",
       "      <td>7060.437695</td>\n",
       "      <td>6950.039746</td>\n",
       "      <td>110.397949</td>\n",
       "      <td>0</td>\n",
       "    </tr>\n",
       "    <tr>\n",
       "      <th>2020-04-19</th>\n",
       "      <td>6881.958496</td>\n",
       "      <td>7108.407422</td>\n",
       "      <td>6972.205444</td>\n",
       "      <td>136.201978</td>\n",
       "      <td>0</td>\n",
       "    </tr>\n",
       "  </tbody>\n",
       "</table>\n",
       "<p>367 rows × 5 columns</p>\n",
       "</div>"
      ],
      "text/plain": [
       "                  close   short_mavg    long_mavg         s-l  signal\n",
       "date                                                                 \n",
       "2019-04-19  5337.886230  5337.886230  5337.886230    0.000000       0\n",
       "2019-04-20  5314.531250  5326.208740  5326.208740    0.000000       0\n",
       "2019-04-21  5399.365234  5350.594238  5350.594238    0.000000       0\n",
       "2019-04-22  5572.361816  5406.036133  5406.036133    0.000000       0\n",
       "2019-04-23  5464.866699  5417.802246  5417.802246    0.000000       0\n",
       "...                 ...          ...          ...         ...     ...\n",
       "2020-04-15  7116.804199  6883.494238  6802.579956   80.914282       0\n",
       "2020-04-16  7096.184570  6908.512793  6845.279492   63.233301       0\n",
       "2020-04-17  7257.665039  6991.038281  6912.060596   78.977686       0\n",
       "2020-04-18  7189.424805  7060.437695  6950.039746  110.397949       0\n",
       "2020-04-19  6881.958496  7108.407422  6972.205444  136.201978       0\n",
       "\n",
       "[367 rows x 5 columns]"
      ]
     },
     "execution_count": 91,
     "metadata": {},
     "output_type": "execute_result"
    }
   ],
   "source": [
    "btc = MovingAverage( 'BTC', BTC, 5, 20 )\n",
    "btc.generate_signals()"
   ]
  },
  {
   "cell_type": "code",
   "execution_count": 92,
   "metadata": {},
   "outputs": [
    {
     "data": {
      "text/html": [
       "<div>\n",
       "<style scoped>\n",
       "    .dataframe tbody tr th:only-of-type {\n",
       "        vertical-align: middle;\n",
       "    }\n",
       "\n",
       "    .dataframe tbody tr th {\n",
       "        vertical-align: top;\n",
       "    }\n",
       "\n",
       "    .dataframe thead th {\n",
       "        text-align: right;\n",
       "    }\n",
       "</style>\n",
       "<table border=\"1\" class=\"dataframe\">\n",
       "  <thead>\n",
       "    <tr style=\"text-align: right;\">\n",
       "      <th></th>\n",
       "      <th>close</th>\n",
       "      <th>short_mavg</th>\n",
       "      <th>long_mavg</th>\n",
       "      <th>s-l</th>\n",
       "      <th>signal</th>\n",
       "    </tr>\n",
       "    <tr>\n",
       "      <th>date</th>\n",
       "      <th></th>\n",
       "      <th></th>\n",
       "      <th></th>\n",
       "      <th></th>\n",
       "      <th></th>\n",
       "    </tr>\n",
       "  </thead>\n",
       "  <tbody>\n",
       "    <tr>\n",
       "      <th>2019-04-19</th>\n",
       "      <td>173.751266</td>\n",
       "      <td>173.751266</td>\n",
       "      <td>173.751266</td>\n",
       "      <td>0.000000</td>\n",
       "      <td>0</td>\n",
       "    </tr>\n",
       "    <tr>\n",
       "      <th>2019-04-20</th>\n",
       "      <td>170.046524</td>\n",
       "      <td>171.898895</td>\n",
       "      <td>171.898895</td>\n",
       "      <td>0.000000</td>\n",
       "      <td>0</td>\n",
       "    </tr>\n",
       "    <tr>\n",
       "      <th>2019-04-21</th>\n",
       "      <td>171.874664</td>\n",
       "      <td>171.890818</td>\n",
       "      <td>171.890818</td>\n",
       "      <td>0.000000</td>\n",
       "      <td>0</td>\n",
       "    </tr>\n",
       "    <tr>\n",
       "      <th>2019-04-22</th>\n",
       "      <td>171.447800</td>\n",
       "      <td>171.780064</td>\n",
       "      <td>171.780064</td>\n",
       "      <td>0.000000</td>\n",
       "      <td>0</td>\n",
       "    </tr>\n",
       "    <tr>\n",
       "      <th>2019-04-23</th>\n",
       "      <td>165.826096</td>\n",
       "      <td>170.589270</td>\n",
       "      <td>170.589270</td>\n",
       "      <td>0.000000</td>\n",
       "      <td>0</td>\n",
       "    </tr>\n",
       "    <tr>\n",
       "      <th>...</th>\n",
       "      <td>...</td>\n",
       "      <td>...</td>\n",
       "      <td>...</td>\n",
       "      <td>...</td>\n",
       "      <td>...</td>\n",
       "    </tr>\n",
       "    <tr>\n",
       "      <th>2020-04-15</th>\n",
       "      <td>172.157379</td>\n",
       "      <td>151.318360</td>\n",
       "      <td>179.245784</td>\n",
       "      <td>-27.927424</td>\n",
       "      <td>0</td>\n",
       "    </tr>\n",
       "    <tr>\n",
       "      <th>2020-04-16</th>\n",
       "      <td>171.638580</td>\n",
       "      <td>153.350964</td>\n",
       "      <td>177.667036</td>\n",
       "      <td>-24.316072</td>\n",
       "      <td>0</td>\n",
       "    </tr>\n",
       "    <tr>\n",
       "      <th>2020-04-17</th>\n",
       "      <td>186.914001</td>\n",
       "      <td>156.417477</td>\n",
       "      <td>176.083193</td>\n",
       "      <td>-19.665716</td>\n",
       "      <td>0</td>\n",
       "    </tr>\n",
       "    <tr>\n",
       "      <th>2020-04-18</th>\n",
       "      <td>181.614960</td>\n",
       "      <td>158.852998</td>\n",
       "      <td>174.780710</td>\n",
       "      <td>-15.927711</td>\n",
       "      <td>0</td>\n",
       "    </tr>\n",
       "    <tr>\n",
       "      <th>2020-04-19</th>\n",
       "      <td>172.297165</td>\n",
       "      <td>160.788178</td>\n",
       "      <td>173.353171</td>\n",
       "      <td>-12.564993</td>\n",
       "      <td>0</td>\n",
       "    </tr>\n",
       "  </tbody>\n",
       "</table>\n",
       "<p>367 rows × 5 columns</p>\n",
       "</div>"
      ],
      "text/plain": [
       "                 close  short_mavg   long_mavg        s-l  signal\n",
       "date                                                             \n",
       "2019-04-19  173.751266  173.751266  173.751266   0.000000       0\n",
       "2019-04-20  170.046524  171.898895  171.898895   0.000000       0\n",
       "2019-04-21  171.874664  171.890818  171.890818   0.000000       0\n",
       "2019-04-22  171.447800  171.780064  171.780064   0.000000       0\n",
       "2019-04-23  165.826096  170.589270  170.589270   0.000000       0\n",
       "...                ...         ...         ...        ...     ...\n",
       "2020-04-15  172.157379  151.318360  179.245784 -27.927424       0\n",
       "2020-04-16  171.638580  153.350964  177.667036 -24.316072       0\n",
       "2020-04-17  186.914001  156.417477  176.083193 -19.665716       0\n",
       "2020-04-18  181.614960  158.852998  174.780710 -15.927711       0\n",
       "2020-04-19  172.297165  160.788178  173.353171 -12.564993       0\n",
       "\n",
       "[367 rows x 5 columns]"
      ]
     },
     "execution_count": 92,
     "metadata": {},
     "output_type": "execute_result"
    }
   ],
   "source": [
    "ETH = data_converter( CFX_daily, 'ETH-USD' )\n",
    "eth = MovingAverage( 'ETH', ETH, 20, 60 )\n",
    "eth.generate_signals()"
   ]
  },
  {
   "cell_type": "markdown",
   "metadata": {},
   "source": [
    "### <font color='#2b4750' face='微软雅黑'>3.2 期权定价</font><a name='3.2'></a>\n",
    "[<font color='black' face='微软雅黑'>回到章首</font>](#3)"
   ]
  },
  {
   "cell_type": "code",
   "execution_count": 9,
   "metadata": {},
   "outputs": [],
   "source": [
    "from numpy import log, sqrt, exp\n",
    "from scipy.stats import norm"
   ]
  },
  {
   "cell_type": "code",
   "execution_count": 104,
   "metadata": {},
   "outputs": [],
   "source": [
    "class BSM:\n",
    "    \n",
    "    def __init__(self, flag, S0, K, r, q, T, sig):\n",
    "        self.flag = flag.lower()[0]\n",
    "        self.S0 = S0\n",
    "        self.K = K;\n",
    "        self.r = r;\n",
    "        self.q = q;\n",
    "        self.T = T\n",
    "        self.sig = sig\n",
    "        self.omega = 1 if self.flag=='c' else -1 if self.flag=='p' else np.nan\n",
    "    \n",
    "    def d1(self):\n",
    "        return (log(self.S0/self.K) + ((self.r-self.q)+self.sig**2/2)*self.T) \\\n",
    "                / (self.sig*sqrt(self.T))\n",
    "\n",
    "    def d2(self):\n",
    "        return self.d1() - self.sig*sqrt(self.T)\n",
    "\n",
    "    def value(self):\n",
    "        return self.omega * (self.S0*exp(-self.q*self.T)*norm.cdf(self.omega*self.d1()) \\\n",
    "                             - self.K*exp(-self.r*self.T)*norm.cdf(self.omega*self.d2()))"
   ]
  },
  {
   "cell_type": "code",
   "execution_count": 105,
   "metadata": {},
   "outputs": [
    {
     "data": {
      "text/plain": [
       "<__main__.BSM at 0x1e98bb55908>"
      ]
     },
     "execution_count": 105,
     "metadata": {},
     "output_type": "execute_result"
    }
   ],
   "source": [
    "opt = BSM('Call', 100, 100, 0.05, 0, 1, 0.2)\n",
    "opt"
   ]
  },
  {
   "cell_type": "code",
   "execution_count": 106,
   "metadata": {},
   "outputs": [
    {
     "data": {
      "text/plain": [
       "10.450583572185565"
      ]
     },
     "execution_count": 106,
     "metadata": {},
     "output_type": "execute_result"
    }
   ],
   "source": [
    "opt.value()"
   ]
  },
  {
   "cell_type": "code",
   "execution_count": 107,
   "metadata": {},
   "outputs": [
    {
     "data": {
      "text/plain": [
       "[<__main__.BSM at 0x1e98bb5abe0>,\n",
       " <__main__.BSM at 0x1e98bb5a240>,\n",
       " <__main__.BSM at 0x1e98bb5a080>,\n",
       " <__main__.BSM at 0x1e98bb5ada0>,\n",
       " <__main__.BSM at 0x1e98bb5a6a0>]"
      ]
     },
     "execution_count": 107,
     "metadata": {},
     "output_type": "execute_result"
    }
   ],
   "source": [
    "S_vec = [80, 90, 100, 105, 110]\n",
    "opt_portfolio = [ BSM('Call', S, 100, 0.05, 0, 1, 0.2) for S in S_vec ]\n",
    "opt_portfolio"
   ]
  },
  {
   "cell_type": "code",
   "execution_count": 108,
   "metadata": {},
   "outputs": [
    {
     "data": {
      "text/plain": [
       "[1.8594195728121825,\n",
       " 5.091222078817552,\n",
       " 10.450583572185565,\n",
       " 13.857906267073105,\n",
       " 17.66295374059044]"
      ]
     },
     "execution_count": 108,
     "metadata": {},
     "output_type": "execute_result"
    }
   ],
   "source": [
    "[ opt.value() for opt in opt_portfolio ]"
   ]
  }
 ],
 "metadata": {
  "kernelspec": {
   "display_name": "Python 3",
   "language": "python",
   "name": "python3"
  },
  "language_info": {
   "codemirror_mode": {
    "name": "ipython",
    "version": 3
   },
   "file_extension": ".py",
   "mimetype": "text/x-python",
   "name": "python",
   "nbconvert_exporter": "python",
   "pygments_lexer": "ipython3",
   "version": "3.7.3"
  }
 },
 "nbformat": 4,
 "nbformat_minor": 2
}
