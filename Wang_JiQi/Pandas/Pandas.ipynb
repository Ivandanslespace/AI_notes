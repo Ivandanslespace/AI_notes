{
 "cells": [
  {
   "cell_type": "markdown",
   "metadata": {
    "source_collapsed": false
   },
   "source": [
    "# <div style=\"text-align: center\"><font color='#dc2624' face='微软雅黑'>Pandas</font></div>\n",
    "\n",
    "## <font color='#dc2624' face='微软雅黑'>目录</font><a name='toc'></a>\n",
    "### 1. [**<font color='#dc2624' face='微软雅黑'>Pandas 101</font>**](#1)\n",
    "\n",
    "### 2. [**<font color='#dc2624' face='微软雅黑'>数据创建</font>**](#2)\n",
    "1. [<font color='#2b4750' face='微软雅黑'>序列 `Series`</font>](#2.1)\n",
    "2. [<font color='#2b4750' face='微软雅黑'>数据帧 `DataFrame`</font>](#2.2)\n",
    "\n",
    "### 3. [**<font color='#dc2624' face='微软雅黑'>数据存载</font>**](#3)\n",
    "1. [<font color='#2b4750' face='微软雅黑'>文本 excel 格式</font>](#3.1)\n",
    "2. [<font color='#2b4750' face='微软雅黑'>文本 csv 格式</font>](#3.2)\n",
    "\n",
    "### 4. [**<font color='#dc2624' face='微软雅黑'>数据获取</font>**](#4)\n",
    "1. [<font color='#2b4750' face='微软雅黑'>元素获取</font>](#4.1)\n",
    "2. [<font color='#2b4750' face='微软雅黑'>列状获取</font>](#4.2)\n",
    "3. [<font color='#2b4750' face='微软雅黑'>行状获取</font>](#4.3)\n",
    "4. [<font color='#2b4750' face='微软雅黑'>块状获取</font>](#4.4)\n",
    "5. [<font color='#2b4750' face='微软雅黑'>高级获取</font>](#4.5)\n",
    "6. [<font color='#2b4750' face='微软雅黑'>层级获取</font>](#4.6)\n",
    "\n",
    "### 5. [**<font color='#dc2624' face='微软雅黑'>数据结合</font>**](#5)\n",
    "1. [<font color='#2b4750' face='微软雅黑'>按「键」合并</font>](#5.1)\n",
    "2. [<font color='#2b4750' face='微软雅黑'>按「轴」连接</font>](#5.2)\n",
    "\n",
    "### 6. [**<font color='#dc2624' face='微软雅黑'>数据重塑</font>**](#6)\n",
    "1. [<font color='#2b4750' face='微软雅黑'>行列互转</font>](#6.1)\n",
    "2. [<font color='#2b4750' face='微软雅黑'>长宽互转</font>](#6.2)\n",
    "\n",
    "### 7. [**<font color='#dc2624' face='微软雅黑'>数据分析</font>**](#7)\n",
    "1. [<font color='#2b4750' face='微软雅黑'>单维整体分析</font>](#7.1)\n",
    "2. [<font color='#2b4750' face='微软雅黑'>单维分组分析</font>](#7.2)\n",
    "3. [<font color='#2b4750' face='微软雅黑'>多维透视分析</font>](#7.3)\n",
    "4. [<font color='#2b4750' face='微软雅黑'>多维交叉分析</font>](#7.4)\n",
    "\n",
    "### 8. [**<font color='#dc2624' face='微软雅黑'>数据可视</font>**](#8)\n",
    "1. [<font color='#2b4750' face='微软雅黑'>线状图</font>](#8.1)\n",
    "2. [<font color='#2b4750' face='微软雅黑'>散点图</font>](#8.2)\n",
    "3. [<font color='#2b4750' face='微软雅黑'>柱状图</font>](#8.3)\n",
    "4. [<font color='#2b4750' face='微软雅黑'>箱形图</font>](#8.4)\n",
    "5. [<font color='#2b4750' face='微软雅黑'>直方图</font>](#8.5)\n",
    "6. [<font color='#2b4750' face='微软雅黑'>饼状图</font>](#8.6)\n",
    "\n",
    "### 9. [**<font color='#dc2624' face='微软雅黑'>数据处理</font>**](#9)\n",
    "1. [<font color='#2b4750' face='微软雅黑'>数据清洗</font>](#9.1)\n",
    "2. [<font color='#2b4750' face='微软雅黑'>数据转换</font>](#9.2)\n",
    "\n",
    "### [**<font color='#dc2624' face='微软雅黑'>Pandas Cheatsheet</font>**](#cs)\n",
    "---"
   ]
  },
  {
   "cell_type": "markdown",
   "metadata": {
    "source_collapsed": false
   },
   "source": [
    "# <font color='#dc2624' face='微软雅黑'>1. Pandas 101</font><a name='1'></a>\n",
    "[<font color='black' face='微软雅黑'>回到目录</font>](#toc)\n",
    "\n",
    "**Pandas** 是 **Pan**el **d**ata **a**nalysi**s** 的缩写，顾名思义它是 Python 里处理数据分析 (data analysis) 的工具包，其官网是 https://pandas.pydata.org/\n",
    "\n",
    "在使用 pandas 之前，需要引进它，语法如下："
   ]
  },
  {
   "cell_type": "code",
   "execution_count": 1,
   "metadata": {
    "source_collapsed": false
   },
   "outputs": [
    {
     "data": {
      "text/plain": [
       "'1.0.4'"
      ]
     },
     "execution_count": 1,
     "metadata": {},
     "output_type": "execute_result"
    }
   ],
   "source": [
    "import pandas\n",
    "pandas.__version__"
   ]
  },
  {
   "cell_type": "markdown",
   "metadata": {
    "source_collapsed": false
   },
   "source": [
    "这样就可以用 Pandas 里面所有的内置方法 (build-in methods) 了，比如创建序列和数据帧 `pandas.Series()` 与均值 `pandas.DataFrame()`。\n",
    "\n",
    "但这样每次写 Pandas 字数有点多，通常给 Pandas 起个别名 pd，语法如下："
   ]
  },
  {
   "cell_type": "code",
   "execution_count": 2,
   "metadata": {
    "source_collapsed": false
   },
   "outputs": [],
   "source": [
    "import pandas as pd"
   ]
  },
  {
   "cell_type": "markdown",
   "metadata": {
    "source_collapsed": false
   },
   "source": [
    "这样所有出现 Pandas 的地方都可以用 pd 替代，上面的序列和数据帧可写成 `pd.Series()` 和 `pd.DataFrame()`。\n",
    "\n",
    "Pandas 里面的数据结构是「数据表」，学习它可以类比这 NumPy 里的「数组」：\n",
    "\n",
    "<img src=\"NumPy vs Pandas.png\" style=\"width:700px; height:400px;\">\n",
    "\n",
    "对比 NumPy 和 Pandas 每个维度下的数据结构，不难看出\n",
    "\n",
    "    数据表 = 数组 + 描述\n",
    "\n",
    "其中\n",
    "\n",
    "    一维数据表 = 一维数组 + 行索引\n",
    "    二维数据表 = 二维数组 + 行索引 + 列索引\n",
    "    三维数据表 = 三维数组 + 行索引 + 列索引 + 项索引\n",
    "\n",
    "一维、二维和三维的「数据表」分别叫做系列 (Series)、数据帧 (DataFrame) 和面板 (Panel)，上面关系可写成\n",
    "\n",
    "    序列 = 一维数组 + 行索引\n",
    "    数据帧 = 二维数组 + 行索引 + 列索引\n",
    "    面板 = 三维数组 + 行索引 + 列索引 + 项索引\n",
    "\n",
    "如果觉得中文直译太绕口，可保留原英文术语\n",
    "    \n",
    "    Series = 1darray + index\n",
    "    DataFrame = 2darray + index + columns\n",
    "    Panel = 3darray + index + columns + item\n",
    "    \n",
    "面板在 Pandas 1.0 已经被废除了，因为它可以被多层索引的数据帧来表示，因此不研究面板了。"
   ]
  },
  {
   "cell_type": "markdown",
   "metadata": {},
   "source": [
    "### <div style=\"text-align: center\"><font color='#2b4750' face='微软雅黑'>对比数据帧和 numpy 数组</font></div>\n",
    "\n",
    "下图左边的「二维数组」 仅仅储存了一组数值 (具体代表什么意思却不知道)，而右边的「数据帧」一看就知道这是平安银行和茅台从 2018-1-3 到 2019-1-3 的价格。\n",
    "\n",
    "<img src=\"2d ndarray vs dataframe.jpg\" style=\"width:450px; height:350px;\">\n",
    "\n",
    "Pandas 的数据结构在每个维度上都有可读性强的**标签**，比起 NumPy 的数据结构涵盖了更多信息。\n",
    "\n",
    "此外 Pandas 主要是为**异质** (heterogeneous) 的**表格** (tabular) 数据而设计的，而 NumPy 主要是为**同质** (homogeneous) 的**数值** (numerical) 数据而设计的，但结构性数组 (structured array) 除外。\n",
    "\n",
    "大多情况 Pandas 通常是跟 NumPy 一起使用的，引入 `numpy` 起名为 `np`。"
   ]
  },
  {
   "cell_type": "code",
   "execution_count": 3,
   "metadata": {
    "source_collapsed": false
   },
   "outputs": [],
   "source": [
    "import numpy as np"
   ]
  },
  {
   "cell_type": "markdown",
   "metadata": {
    "source_collapsed": false
   },
   "source": [
    "# <font color='#dc2624' face='微软雅黑'>2. 数据创建</font><a name='2'></a>\n",
    "[<font color='black' face='微软雅黑'>回到目录</font>](#toc)\n",
    "\n",
    "数据表有两大类型，根据维度划分有一维的序列 (Series) 和二维的数据帧 (DataFrame)。**三维的面板 (Panel) 已经在 Pandas 1.0 被废除。**\n",
    "\n",
    "- **Series**: 一维数据，类似于 python 中的基本数据的 list 或 NumPy 中的 1D array。Pandas 里最基本的数据结构。\n",
    "- **DataFrame**: 二维数据，类似于 Excel 中的 sheet，R 中的 data.frame 或 Matlab 中的 Tables。DataFrame 是 Series 的容器。\n",
    "\n",
    "### <font color='#2b4750' face='微软雅黑'>2.1 序列 `Series`</font><a name='2.1'></a>\n",
    "[<font color='black' face='微软雅黑'>回到章首</font>](#2)\n",
    "\n",
    "创建**序列**只需用下面一行代码\n",
    "\n",
    "    pd.Series( x, index=idx )\n",
    "\n",
    "其中 x 可以是\n",
    "\n",
    "- 列表 (`list`)\n",
    "- numpy 数组 (`ndarray`)\n",
    "- 字典 (`dict`)\n",
    "\n",
    "函数 `Series()` 中有两个参数：\n",
    "\n",
    "- `x` 是位置参数，称为数据值\n",
    "- `index` 是默认参数，称为行标签\n",
    "    - 如果不设定，行标签为 `idx = range(0, len(x))`\n",
    "    - 如果设定，可以用整数 (integer)、字符串 (string) 和时间对象 (datetime) \n",
    "\n",
    "### <font color='blue' face='微软雅黑'>用列表创建序列</font>"
   ]
  },
  {
   "cell_type": "code",
   "execution_count": 9,
   "metadata": {
    "source_collapsed": false
   },
   "outputs": [
    {
     "data": {
      "text/plain": [
       "0    27.20\n",
       "1    27.65\n",
       "2    27.70\n",
       "3    28.00\n",
       "dtype: float64"
      ]
     },
     "execution_count": 9,
     "metadata": {},
     "output_type": "execute_result"
    }
   ],
   "source": [
    "s = pd.Series([27.2, 27.65, 27.70, 28])\n",
    "s"
   ]
  },
  {
   "cell_type": "markdown",
   "metadata": {
    "source_collapsed": false
   },
   "source": [
    "打印出来并不仅仅是列表里面的浮点数，每个浮点数前面还有一个索引，在本例中是 0, 1, 2, 3。\n",
    "\n",
    "因此在创建**序列**时，如果不显性设定 `index`，那么 Python 给定一个默认从 0 到 N-1 的值，其中 N 是 x 的长度。\n",
    "\n",
    "**序列**`s` 也是一个对象，用 `dir(s)` 可看出关于**序列**所有的属性和内置函数，其中最重要的是\n",
    "\n",
    "- 用 `s.values` 打印 `s` 中的元素\n",
    "- 用 `s.index` 打印 `s` 中的元素对应的行标签"
   ]
  },
  {
   "cell_type": "code",
   "execution_count": 5,
   "metadata": {
    "source_collapsed": false
   },
   "outputs": [
    {
     "data": {
      "text/plain": [
       "array([27.2 , 27.65, 27.7 , 28.  ])"
      ]
     },
     "execution_count": 5,
     "metadata": {},
     "output_type": "execute_result"
    }
   ],
   "source": [
    "s.values"
   ]
  },
  {
   "cell_type": "code",
   "execution_count": 6,
   "metadata": {
    "source_collapsed": false
   },
   "outputs": [
    {
     "data": {
      "text/plain": [
       "RangeIndex(start=0, stop=4, step=1)"
      ]
     },
     "execution_count": 6,
     "metadata": {},
     "output_type": "execute_result"
    }
   ],
   "source": [
    "s.index"
   ]
  },
  {
   "cell_type": "markdown",
   "metadata": {
    "source_collapsed": false
   },
   "source": [
    "不难发现，以上创建的**序列** 比 `ndarray` 多了**行标签**，但这种 0,1,2,3 的行标签可读性不强。实际上定义的 s 是海底捞在 2019 年 4 月 1 日到 2019 年 4 月 4 日的股价，那么用日期来当行标签更好些。"
   ]
  },
  {
   "cell_type": "code",
   "execution_count": 10,
   "metadata": {
    "source_collapsed": false
   },
   "outputs": [
    {
     "data": {
      "text/plain": [
       "2019-04-01    27.20\n",
       "2019-04-02    27.65\n",
       "2019-04-03    27.70\n",
       "2019-04-04    28.00\n",
       "Freq: D, dtype: float64"
      ]
     },
     "execution_count": 10,
     "metadata": {},
     "output_type": "execute_result"
    }
   ],
   "source": [
    "dates = pd.date_range('20190401',periods=4)\n",
    "s2 = pd.Series( [27.2, 27.65, 27.70, 28], index=dates )\n",
    "s2"
   ]
  },
  {
   "cell_type": "markdown",
   "metadata": {},
   "source": [
    "显然，`s2` 比 `s` 包含的信息更多，这是 `s2` 的行标签是一组日期对象，数据类型是 `datetime64`，频率是 D，即每日。"
   ]
  },
  {
   "cell_type": "code",
   "execution_count": 11,
   "metadata": {
    "source_collapsed": false
   },
   "outputs": [
    {
     "data": {
      "text/plain": [
       "DatetimeIndex(['2019-04-01', '2019-04-02', '2019-04-03', '2019-04-04'], dtype='datetime64[ns]', freq='D')"
      ]
     },
     "execution_count": 11,
     "metadata": {},
     "output_type": "execute_result"
    }
   ],
   "source": [
    "s2.index"
   ]
  },
  {
   "cell_type": "markdown",
   "metadata": {},
   "source": [
    "此外还可以给 `s2` 命名，比如**海底捞股价**。"
   ]
  },
  {
   "cell_type": "code",
   "execution_count": 12,
   "metadata": {},
   "outputs": [
    {
     "data": {
      "text/plain": [
       "2019-04-01    27.20\n",
       "2019-04-02    27.65\n",
       "2019-04-03    27.70\n",
       "2019-04-04    28.00\n",
       "Freq: D, Name: 海底捞股价, dtype: float64"
      ]
     },
     "execution_count": 12,
     "metadata": {},
     "output_type": "execute_result"
    }
   ],
   "source": [
    "s2.name = '海底捞股价'\n",
    "s2"
   ]
  },
  {
   "cell_type": "markdown",
   "metadata": {
    "source_collapsed": false
   },
   "source": [
    "除了像 numpy 数组一样用位置索引来获取元素 (前闭后开)，**序列**还可以用行标签来获取元素 (前闭后闭)。"
   ]
  },
  {
   "cell_type": "code",
   "execution_count": 33,
   "metadata": {},
   "outputs": [
    {
     "name": "stdout",
     "output_type": "stream",
     "text": [
      "27.2\n",
      "27.2\n"
     ]
    }
   ],
   "source": [
    "# 单值索引\n",
    "print( s2[0] )\n",
    "print( s2['2019-04-01'] )"
   ]
  },
  {
   "cell_type": "code",
   "execution_count": 34,
   "metadata": {
    "source_collapsed": false
   },
   "outputs": [
    {
     "name": "stdout",
     "output_type": "stream",
     "text": [
      "2019-04-01    27.2\n",
      "Freq: D, Name: 海底捞股价, dtype: float64\n",
      "2019-04-01    27.2\n",
      "Freq: D, Name: 海底捞股价, dtype: float64\n"
     ]
    }
   ],
   "source": [
    "# 单值切片\n",
    "print( s2[0:1] )\n",
    "print( s2['2019-04-01':'2019-04-01'] )"
   ]
  },
  {
   "cell_type": "code",
   "execution_count": 36,
   "metadata": {},
   "outputs": [
    {
     "name": "stdout",
     "output_type": "stream",
     "text": [
      "2019-04-01    27.20\n",
      "2019-04-02    27.65\n",
      "2019-04-03    27.70\n",
      "Freq: D, Name: 海底捞股价, dtype: float64\n",
      "2019-04-01    27.20\n",
      "2019-04-02    27.65\n",
      "2019-04-03    27.70\n",
      "Freq: D, Name: 海底捞股价, dtype: float64\n"
     ]
    }
   ],
   "source": [
    "# 多值切片\n",
    "print( s2[0:3] )\n",
    "print( s2['2019-04-01':'2019-04-03'] )"
   ]
  },
  {
   "cell_type": "markdown",
   "metadata": {
    "source_collapsed": false
   },
   "source": [
    "**序列**可以 \n",
    "\n",
    "- 用布尔数组来筛选 (filter)\n",
    "- 和标量做常见的算术运算\n",
    "- 在元素层面 (element-wise) 上做转换\n",
    "\n",
    "以上操作都没有改变**序列**的行标签。"
   ]
  },
  {
   "cell_type": "code",
   "execution_count": 13,
   "metadata": {
    "source_collapsed": false
   },
   "outputs": [
    {
     "data": {
      "text/plain": [
       "2019-04-02    27.65\n",
       "2019-04-03    27.70\n",
       "2019-04-04    28.00\n",
       "Freq: D, Name: 海底捞股价, dtype: float64"
      ]
     },
     "execution_count": 13,
     "metadata": {},
     "output_type": "execute_result"
    }
   ],
   "source": [
    "# filtering with a Boolean array\n",
    "s2[s2 > 27.5]"
   ]
  },
  {
   "cell_type": "code",
   "execution_count": 14,
   "metadata": {
    "source_collapsed": false
   },
   "outputs": [
    {
     "data": {
      "text/plain": [
       "2019-04-01    57.4\n",
       "2019-04-02    58.3\n",
       "2019-04-03    58.4\n",
       "2019-04-04    59.0\n",
       "Freq: D, Name: 海底捞股价, dtype: float64"
      ]
     },
     "execution_count": 14,
     "metadata": {},
     "output_type": "execute_result"
    }
   ],
   "source": [
    "# scalar operation\n",
    "s2 * 2 + 3"
   ]
  },
  {
   "cell_type": "code",
   "execution_count": 15,
   "metadata": {
    "source_collapsed": false
   },
   "outputs": [
    {
     "data": {
      "text/plain": [
       "2019-04-01    3.303217\n",
       "2019-04-02    3.319626\n",
       "2019-04-03    3.321432\n",
       "2019-04-04    3.332205\n",
       "Freq: D, Name: 海底捞股价, dtype: float64"
      ]
     },
     "execution_count": 15,
     "metadata": {},
     "output_type": "execute_result"
    }
   ],
   "source": [
    "# element-wise operation\n",
    "np.log(s2)"
   ]
  },
  {
   "cell_type": "markdown",
   "metadata": {
    "source_collapsed": false
   },
   "source": [
    "### <font color='blue' face='微软雅黑'>用 `ndarray` 创建序列</font>\n",
    "\n",
    "除了用列表，还可以用 numpy 数组来生成序列。在下例中，我们加入缺失值 `np.nan`，并分析一下 `Series` 中另外 5 个属性或内置函数的用法：\n",
    "\n",
    "- `len`: `s` 里的元素个数\n",
    "- `shape`: `s` 的形状 (用元组表示)\n",
    "- `count`: `s` 里不含 `nan` 的元素个数\n",
    "- `unique`: 返回 `s` 里不重复的元素\n",
    "- `value_counts`: 统计 `s` 里非 `nan` 元素的出现次数"
   ]
  },
  {
   "cell_type": "code",
   "execution_count": 16,
   "metadata": {
    "source_collapsed": false
   },
   "outputs": [
    {
     "name": "stdout",
     "output_type": "stream",
     "text": [
      "The length is 6\n",
      "The shape is (6,)\n",
      "The count is 5\n"
     ]
    }
   ],
   "source": [
    "s = pd.Series( np.array([27.2, 27.65, 27.70, 28, 28, np.nan]) )\n",
    "print( 'The length is', len(s) )\n",
    "print( 'The shape is', s.shape )\n",
    "print( 'The count is', s.count() )"
   ]
  },
  {
   "cell_type": "code",
   "execution_count": 17,
   "metadata": {
    "source_collapsed": false
   },
   "outputs": [
    {
     "name": "stdout",
     "output_type": "stream",
     "text": [
      "[27.2  27.65 27.7  28.     nan]\n"
     ]
    }
   ],
   "source": [
    "print( s.unique() )"
   ]
  },
  {
   "cell_type": "code",
   "execution_count": 18,
   "metadata": {
    "scrolled": true,
    "source_collapsed": false
   },
   "outputs": [
    {
     "data": {
      "text/plain": [
       "28.00    2\n",
       "27.70    1\n",
       "27.65    1\n",
       "27.20    1\n",
       "dtype: int64"
      ]
     },
     "execution_count": 18,
     "metadata": {},
     "output_type": "execute_result"
    }
   ],
   "source": [
    "s.value_counts()"
   ]
  },
  {
   "cell_type": "markdown",
   "metadata": {
    "source_collapsed": false
   },
   "source": [
    "### <font color='blue' face='微软雅黑'>用字典创建序列</font>\n",
    "\n",
    "从上面可以看出**序列**和字典很相似，行标签就像是字典的键，值就像是字典的值。\n",
    "\n",
    "那么很自然的，用字典创建序列再合适不过了。字典的「键值对」的「键」自动变成了**序列**的行标签 (index)，而「值」自动变成了**序列**的值 (values)。"
   ]
  },
  {
   "cell_type": "code",
   "execution_count": 37,
   "metadata": {
    "source_collapsed": false
   },
   "outputs": [
    {
     "data": {
      "text/plain": [
       "股票代号\n",
       "BABA    187.07\n",
       "PDD      21.83\n",
       "JD       30.79\n",
       "BIDU    184.77\n",
       "Name: 中概股, dtype: float64"
      ]
     },
     "execution_count": 37,
     "metadata": {},
     "output_type": "execute_result"
    }
   ],
   "source": [
    "data = { 'BABA': 187.07, 'PDD': 21.83, 'JD': 30.79, 'BIDU': 184.77 }\n",
    "s3 = pd.Series( data, name='中概股' )\n",
    "s3.index.name = '股票代号'\n",
    "s3"
   ]
  },
  {
   "cell_type": "markdown",
   "metadata": {
    "source_collapsed": false
   },
   "source": [
    "给 `s3` 起名中概股是因为阿里巴巴 (BABA)、拼多多 (PDD)、京东 (JD) 和百度 (BIDU) 都是中国公司但在美国上市的。此外还可给行标签起名为 '股票代号'。\n",
    "\n",
    "现在假设我们的股票代号为 `['FB', 'BABA', 'PDD', 'JD']`"
   ]
  },
  {
   "cell_type": "code",
   "execution_count": 38,
   "metadata": {
    "source_collapsed": false
   },
   "outputs": [
    {
     "data": {
      "text/plain": [
       "FB         NaN\n",
       "BABA    187.07\n",
       "PDD      21.83\n",
       "JD       30.79\n",
       "dtype: float64"
      ]
     },
     "execution_count": 38,
     "metadata": {},
     "output_type": "execute_result"
    }
   ],
   "source": [
    "stock = ['FB', 'BABA', 'PDD', 'JD']\n",
    "s4 = pd.Series( data, index=stock )\n",
    "s4"
   ]
  },
  {
   "cell_type": "markdown",
   "metadata": {
    "source_collapsed": false
   },
   "source": [
    "股票代号里多加了脸书 (FB)，但原字典 `data` 中没有 FB 这个键，因此生成的 s4 在 FB 行标签下对应的值为 NaN。再者，股票代号里没有百度 (BIDU)，因此 `s4` 里面没有 BIDU 对应的值，即便 data 里面有。\n",
    "\n",
    "当两个**序列**进行某种操作时，以加法为例，它们的行标签会自动对齐，如下面代码所示："
   ]
  },
  {
   "cell_type": "code",
   "execution_count": 39,
   "metadata": {
    "source_collapsed": false
   },
   "outputs": [
    {
     "data": {
      "text/plain": [
       "BABA    374.14\n",
       "BIDU       NaN\n",
       "FB         NaN\n",
       "JD       61.58\n",
       "PDD      43.66\n",
       "dtype: float64"
      ]
     },
     "execution_count": 39,
     "metadata": {},
     "output_type": "execute_result"
    }
   ],
   "source": [
    "s3 + s4"
   ]
  },
  {
   "cell_type": "markdown",
   "metadata": {
    "source_collapsed": false
   },
   "source": [
    "### <font color='#2b4750' face='微软雅黑'>2.2 数据帧 `DataFrame`</font><a name='2.2'></a>\n",
    "[<font color='black' face='微软雅黑'>回到章首</font>](#2)\n",
    "\n",
    "**序列**是 Pandas 里面最基本的数据结构，但是对应每个行标签只对应着一个元素 (比如一个日期对应一个股价)，因此**序列**处理不了每个行标签对应多个元素 (比如一个日期对应一个开盘价、收盘价、交易量等等)。而数据帧 (DataFrame) 可以解决这个问题。\n",
    "\n",
    "创建 DataFrame 只需用下面一行代码\n",
    "\n",
    "    pd.DataFrame( x, index=idx, columns=col )\n",
    "\n",
    "其中 x 可以是\n",
    "\n",
    "- 二维列表 (`2d list`)\n",
    "- 二维 numpy 数组 (`ndarray`)\n",
    "- 字典 (`dict`)，其值是一维列表、numpy 数组或序列\n",
    "- 另外一个数据帧 (`DataFrame`)\n",
    "\n",
    "函数 `DataFrame()` 中有三个参数：\n",
    "\n",
    "- `x` 是位置参数，称为数据值\n",
    "- `index` 是默认参数，称为行标签\n",
    "    - 如果不设定，行标签为 `idx = range(0, x.shape[0])`\n",
    "    - 如果设定，可以用整数 (integer)、字符串 (string) 和时间对象 (datetime) \n",
    "- `columns` 是默认参数，称为列标签\n",
    "    - 如果不设定，列标签为 `col = range(0, x.shape[1])`\n",
    "    - 如果设定，只能用字符串 (string)\n",
    "\n",
    "\n",
    "### <font color='blue' face='微软雅黑'>用列表或 `ndarray` 创建数据帧</font>"
   ]
  },
  {
   "cell_type": "code",
   "execution_count": 20,
   "metadata": {
    "source_collapsed": false
   },
   "outputs": [
    {
     "data": {
      "text/html": [
       "<div>\n",
       "<style scoped>\n",
       "    .dataframe tbody tr th:only-of-type {\n",
       "        vertical-align: middle;\n",
       "    }\n",
       "\n",
       "    .dataframe tbody tr th {\n",
       "        vertical-align: top;\n",
       "    }\n",
       "\n",
       "    .dataframe thead th {\n",
       "        text-align: right;\n",
       "    }\n",
       "</style>\n",
       "<table border=\"1\" class=\"dataframe\">\n",
       "  <thead>\n",
       "    <tr style=\"text-align: right;\">\n",
       "      <th></th>\n",
       "      <th>0</th>\n",
       "      <th>1</th>\n",
       "      <th>2</th>\n",
       "    </tr>\n",
       "  </thead>\n",
       "  <tbody>\n",
       "    <tr>\n",
       "      <th>0</th>\n",
       "      <td>1</td>\n",
       "      <td>2</td>\n",
       "      <td>3</td>\n",
       "    </tr>\n",
       "    <tr>\n",
       "      <th>1</th>\n",
       "      <td>4</td>\n",
       "      <td>5</td>\n",
       "      <td>6</td>\n",
       "    </tr>\n",
       "  </tbody>\n",
       "</table>\n",
       "</div>"
      ],
      "text/plain": [
       "   0  1  2\n",
       "0  1  2  3\n",
       "1  4  5  6"
      ]
     },
     "execution_count": 20,
     "metadata": {},
     "output_type": "execute_result"
    }
   ],
   "source": [
    "df1 = pd.DataFrame( [[1, 2, 3], [4, 5, 6]] )\n",
    "df1 "
   ]
  },
  {
   "cell_type": "code",
   "execution_count": 21,
   "metadata": {},
   "outputs": [
    {
     "data": {
      "text/html": [
       "<div>\n",
       "<style scoped>\n",
       "    .dataframe tbody tr th:only-of-type {\n",
       "        vertical-align: middle;\n",
       "    }\n",
       "\n",
       "    .dataframe tbody tr th {\n",
       "        vertical-align: top;\n",
       "    }\n",
       "\n",
       "    .dataframe thead th {\n",
       "        text-align: right;\n",
       "    }\n",
       "</style>\n",
       "<table border=\"1\" class=\"dataframe\">\n",
       "  <thead>\n",
       "    <tr style=\"text-align: right;\">\n",
       "      <th></th>\n",
       "      <th>0</th>\n",
       "      <th>1</th>\n",
       "      <th>2</th>\n",
       "    </tr>\n",
       "  </thead>\n",
       "  <tbody>\n",
       "    <tr>\n",
       "      <th>0</th>\n",
       "      <td>1</td>\n",
       "      <td>2</td>\n",
       "      <td>3</td>\n",
       "    </tr>\n",
       "    <tr>\n",
       "      <th>1</th>\n",
       "      <td>4</td>\n",
       "      <td>5</td>\n",
       "      <td>6</td>\n",
       "    </tr>\n",
       "  </tbody>\n",
       "</table>\n",
       "</div>"
      ],
      "text/plain": [
       "   0  1  2\n",
       "0  1  2  3\n",
       "1  4  5  6"
      ]
     },
     "execution_count": 21,
     "metadata": {},
     "output_type": "execute_result"
    }
   ],
   "source": [
    "df1 = pd.DataFrame( np.array([[1, 2, 3], [4, 5, 6]]) )\n",
    "df1"
   ]
  },
  {
   "cell_type": "markdown",
   "metadata": {
    "source_collapsed": false
   },
   "source": [
    "在创建**数据帧**时，如果不显性设定 `index` 和 `columns` 时，那么被设定成默认值，其中\n",
    "\n",
    "- index = 0 到 r-1，r 是 x 的行数\n",
    "- colmns = 0 到 c-1，c 是 x 的列数\n",
    "\n",
    "### <font color='blue' face='微软雅黑'>用字典创建数据帧</font>\n",
    "\n",
    "字典的「键值对」的「键」自动变成了**数据帧**的列标签，而「值」自动变成了**数据帧**的值，而行标签需要另外定义。"
   ]
  },
  {
   "cell_type": "code",
   "execution_count": 6,
   "metadata": {
    "source_collapsed": false
   },
   "outputs": [
    {
     "data": {
      "text/html": [
       "<div>\n",
       "<style scoped>\n",
       "    .dataframe tbody tr th:only-of-type {\n",
       "        vertical-align: middle;\n",
       "    }\n",
       "\n",
       "    .dataframe tbody tr th {\n",
       "        vertical-align: top;\n",
       "    }\n",
       "\n",
       "    .dataframe thead th {\n",
       "        text-align: right;\n",
       "    }\n",
       "</style>\n",
       "<table border=\"1\" class=\"dataframe\">\n",
       "  <thead>\n",
       "    <tr style=\"text-align: right;\">\n",
       "      <th>特征</th>\n",
       "      <th>行业</th>\n",
       "      <th>价格</th>\n",
       "      <th>交易量</th>\n",
       "      <th>雇员</th>\n",
       "    </tr>\n",
       "    <tr>\n",
       "      <th>代号</th>\n",
       "      <th></th>\n",
       "      <th></th>\n",
       "      <th></th>\n",
       "      <th></th>\n",
       "    </tr>\n",
       "  </thead>\n",
       "  <tbody>\n",
       "    <tr>\n",
       "      <th>BABA</th>\n",
       "      <td>电商</td>\n",
       "      <td>176.92</td>\n",
       "      <td>16175610</td>\n",
       "      <td>101550</td>\n",
       "    </tr>\n",
       "    <tr>\n",
       "      <th>JD</th>\n",
       "      <td>电商</td>\n",
       "      <td>25.95</td>\n",
       "      <td>27113291</td>\n",
       "      <td>175336</td>\n",
       "    </tr>\n",
       "    <tr>\n",
       "      <th>AAPL</th>\n",
       "      <td>科技</td>\n",
       "      <td>172.97</td>\n",
       "      <td>18913154</td>\n",
       "      <td>100000</td>\n",
       "    </tr>\n",
       "    <tr>\n",
       "      <th>MS</th>\n",
       "      <td>金融</td>\n",
       "      <td>41.79</td>\n",
       "      <td>10132145</td>\n",
       "      <td>60348</td>\n",
       "    </tr>\n",
       "    <tr>\n",
       "      <th>GS</th>\n",
       "      <td>金融</td>\n",
       "      <td>196.00</td>\n",
       "      <td>2626634</td>\n",
       "      <td>36600</td>\n",
       "    </tr>\n",
       "    <tr>\n",
       "      <th>WMT</th>\n",
       "      <td>零售</td>\n",
       "      <td>99.55</td>\n",
       "      <td>8086946</td>\n",
       "      <td>2200000</td>\n",
       "    </tr>\n",
       "  </tbody>\n",
       "</table>\n",
       "</div>"
      ],
      "text/plain": [
       "特征    行业      价格       交易量       雇员\n",
       "代号                                 \n",
       "BABA  电商  176.92  16175610   101550\n",
       "JD    电商   25.95  27113291   175336\n",
       "AAPL  科技  172.97  18913154   100000\n",
       "MS    金融   41.79  10132145    60348\n",
       "GS    金融  196.00   2626634    36600\n",
       "WMT   零售   99.55   8086946  2200000"
      ]
     },
     "execution_count": 6,
     "metadata": {},
     "output_type": "execute_result"
    }
   ],
   "source": [
    "symbol = ['BABA', 'JD', 'AAPL', 'MS', 'GS', 'WMT']\n",
    "data = {'行业': ['电商', '电商', '科技', '金融', '金融', '零售'],\n",
    "        '价格': [176.92, 25.95, 172.97, 41.79, 196.00, 99.55],\n",
    "        '交易量': [16175610, 27113291, 18913154, 10132145, 2626634, 8086946],\n",
    "        '雇员': [101550, 175336, 100000, 60348, 36600, 2200000]}\n",
    "df2 = pd.DataFrame( data, index=symbol )\n",
    "df2.name = '美股'\n",
    "df2.index.name = '代号'\n",
    "df2.columns.name = '特征'\n",
    "df2"
   ]
  },
  {
   "cell_type": "markdown",
   "metadata": {},
   "source": [
    "用 `values`, `columns` 和 `index` 来看 `df2` 的值、列标签和行标签。 "
   ]
  },
  {
   "cell_type": "code",
   "execution_count": 41,
   "metadata": {
    "source_collapsed": false
   },
   "outputs": [
    {
     "data": {
      "text/plain": [
       "array([['电商', 176.92, 16175610, 101550],\n",
       "       ['电商', 25.95, 27113291, 175336],\n",
       "       ['科技', 172.97, 18913154, 100000],\n",
       "       ['金融', 41.79, 10132145, 60348],\n",
       "       ['金融', 196.0, 2626634, 36600],\n",
       "       ['零售', 99.55, 8086946, 2200000]], dtype=object)"
      ]
     },
     "execution_count": 41,
     "metadata": {},
     "output_type": "execute_result"
    }
   ],
   "source": [
    "df2.values"
   ]
  },
  {
   "cell_type": "code",
   "execution_count": 42,
   "metadata": {
    "source_collapsed": false
   },
   "outputs": [
    {
     "data": {
      "text/plain": [
       "Index(['行业', '价格', '交易量', '雇员'], dtype='object', name='特征')"
      ]
     },
     "execution_count": 42,
     "metadata": {},
     "output_type": "execute_result"
    }
   ],
   "source": [
    "df2.columns"
   ]
  },
  {
   "cell_type": "code",
   "execution_count": 43,
   "metadata": {
    "source_collapsed": false
   },
   "outputs": [
    {
     "data": {
      "text/plain": [
       "Index(['BABA', 'JD', 'AAPL', 'MS', 'GS', 'WMT'], dtype='object', name='代号')"
      ]
     },
     "execution_count": 43,
     "metadata": {},
     "output_type": "execute_result"
    }
   ],
   "source": [
    "df2.index"
   ]
  },
  {
   "cell_type": "markdown",
   "metadata": {
    "source_collapsed": false
   },
   "source": [
    "### 查看数据帧\n",
    "\n",
    "要查看数据帧的前后 n 行，分别用 `head(n)` 和 `tail(n)`，如果没有设定 n，默认值为 5。"
   ]
  },
  {
   "cell_type": "code",
   "execution_count": 44,
   "metadata": {
    "source_collapsed": false
   },
   "outputs": [
    {
     "data": {
      "text/html": [
       "<div>\n",
       "<style scoped>\n",
       "    .dataframe tbody tr th:only-of-type {\n",
       "        vertical-align: middle;\n",
       "    }\n",
       "\n",
       "    .dataframe tbody tr th {\n",
       "        vertical-align: top;\n",
       "    }\n",
       "\n",
       "    .dataframe thead th {\n",
       "        text-align: right;\n",
       "    }\n",
       "</style>\n",
       "<table border=\"1\" class=\"dataframe\">\n",
       "  <thead>\n",
       "    <tr style=\"text-align: right;\">\n",
       "      <th>特征</th>\n",
       "      <th>行业</th>\n",
       "      <th>价格</th>\n",
       "      <th>交易量</th>\n",
       "      <th>雇员</th>\n",
       "    </tr>\n",
       "    <tr>\n",
       "      <th>代号</th>\n",
       "      <th></th>\n",
       "      <th></th>\n",
       "      <th></th>\n",
       "      <th></th>\n",
       "    </tr>\n",
       "  </thead>\n",
       "  <tbody>\n",
       "    <tr>\n",
       "      <th>BABA</th>\n",
       "      <td>电商</td>\n",
       "      <td>176.92</td>\n",
       "      <td>16175610</td>\n",
       "      <td>101550</td>\n",
       "    </tr>\n",
       "    <tr>\n",
       "      <th>JD</th>\n",
       "      <td>电商</td>\n",
       "      <td>25.95</td>\n",
       "      <td>27113291</td>\n",
       "      <td>175336</td>\n",
       "    </tr>\n",
       "    <tr>\n",
       "      <th>AAPL</th>\n",
       "      <td>科技</td>\n",
       "      <td>172.97</td>\n",
       "      <td>18913154</td>\n",
       "      <td>100000</td>\n",
       "    </tr>\n",
       "    <tr>\n",
       "      <th>MS</th>\n",
       "      <td>金融</td>\n",
       "      <td>41.79</td>\n",
       "      <td>10132145</td>\n",
       "      <td>60348</td>\n",
       "    </tr>\n",
       "    <tr>\n",
       "      <th>GS</th>\n",
       "      <td>金融</td>\n",
       "      <td>196.00</td>\n",
       "      <td>2626634</td>\n",
       "      <td>36600</td>\n",
       "    </tr>\n",
       "  </tbody>\n",
       "</table>\n",
       "</div>"
      ],
      "text/plain": [
       "特征    行业      价格       交易量      雇员\n",
       "代号                                \n",
       "BABA  电商  176.92  16175610  101550\n",
       "JD    电商   25.95  27113291  175336\n",
       "AAPL  科技  172.97  18913154  100000\n",
       "MS    金融   41.79  10132145   60348\n",
       "GS    金融  196.00   2626634   36600"
      ]
     },
     "execution_count": 44,
     "metadata": {},
     "output_type": "execute_result"
    }
   ],
   "source": [
    "df2.head()"
   ]
  },
  {
   "cell_type": "code",
   "execution_count": 45,
   "metadata": {
    "source_collapsed": false
   },
   "outputs": [
    {
     "data": {
      "text/html": [
       "<div>\n",
       "<style scoped>\n",
       "    .dataframe tbody tr th:only-of-type {\n",
       "        vertical-align: middle;\n",
       "    }\n",
       "\n",
       "    .dataframe tbody tr th {\n",
       "        vertical-align: top;\n",
       "    }\n",
       "\n",
       "    .dataframe thead th {\n",
       "        text-align: right;\n",
       "    }\n",
       "</style>\n",
       "<table border=\"1\" class=\"dataframe\">\n",
       "  <thead>\n",
       "    <tr style=\"text-align: right;\">\n",
       "      <th>特征</th>\n",
       "      <th>行业</th>\n",
       "      <th>价格</th>\n",
       "      <th>交易量</th>\n",
       "      <th>雇员</th>\n",
       "    </tr>\n",
       "    <tr>\n",
       "      <th>代号</th>\n",
       "      <th></th>\n",
       "      <th></th>\n",
       "      <th></th>\n",
       "      <th></th>\n",
       "    </tr>\n",
       "  </thead>\n",
       "  <tbody>\n",
       "    <tr>\n",
       "      <th>MS</th>\n",
       "      <td>金融</td>\n",
       "      <td>41.79</td>\n",
       "      <td>10132145</td>\n",
       "      <td>60348</td>\n",
       "    </tr>\n",
       "    <tr>\n",
       "      <th>GS</th>\n",
       "      <td>金融</td>\n",
       "      <td>196.00</td>\n",
       "      <td>2626634</td>\n",
       "      <td>36600</td>\n",
       "    </tr>\n",
       "    <tr>\n",
       "      <th>WMT</th>\n",
       "      <td>零售</td>\n",
       "      <td>99.55</td>\n",
       "      <td>8086946</td>\n",
       "      <td>2200000</td>\n",
       "    </tr>\n",
       "  </tbody>\n",
       "</table>\n",
       "</div>"
      ],
      "text/plain": [
       "特征   行业      价格       交易量       雇员\n",
       "代号                                \n",
       "MS   金融   41.79  10132145    60348\n",
       "GS   金融  196.00   2626634    36600\n",
       "WMT  零售   99.55   8086946  2200000"
      ]
     },
     "execution_count": 45,
     "metadata": {},
     "output_type": "execute_result"
    }
   ],
   "source": [
    "df2.tail(3)"
   ]
  },
  {
   "cell_type": "markdown",
   "metadata": {
    "source_collapsed": false
   },
   "source": [
    "### 数据帧的统计值\n",
    "\n",
    "用 `describe()` 还可以看数据帧含有数值型的每列 (不包括分类型) 的统计数据。"
   ]
  },
  {
   "cell_type": "code",
   "execution_count": 46,
   "metadata": {
    "source_collapsed": false
   },
   "outputs": [
    {
     "data": {
      "text/html": [
       "<div>\n",
       "<style scoped>\n",
       "    .dataframe tbody tr th:only-of-type {\n",
       "        vertical-align: middle;\n",
       "    }\n",
       "\n",
       "    .dataframe tbody tr th {\n",
       "        vertical-align: top;\n",
       "    }\n",
       "\n",
       "    .dataframe thead th {\n",
       "        text-align: right;\n",
       "    }\n",
       "</style>\n",
       "<table border=\"1\" class=\"dataframe\">\n",
       "  <thead>\n",
       "    <tr style=\"text-align: right;\">\n",
       "      <th>特征</th>\n",
       "      <th>价格</th>\n",
       "      <th>交易量</th>\n",
       "      <th>雇员</th>\n",
       "    </tr>\n",
       "  </thead>\n",
       "  <tbody>\n",
       "    <tr>\n",
       "      <th>count</th>\n",
       "      <td>6.000000</td>\n",
       "      <td>6.000000e+00</td>\n",
       "      <td>6.000000e+00</td>\n",
       "    </tr>\n",
       "    <tr>\n",
       "      <th>mean</th>\n",
       "      <td>118.863333</td>\n",
       "      <td>1.384130e+07</td>\n",
       "      <td>4.456390e+05</td>\n",
       "    </tr>\n",
       "    <tr>\n",
       "      <th>std</th>\n",
       "      <td>73.748714</td>\n",
       "      <td>8.717312e+06</td>\n",
       "      <td>8.607522e+05</td>\n",
       "    </tr>\n",
       "    <tr>\n",
       "      <th>min</th>\n",
       "      <td>25.950000</td>\n",
       "      <td>2.626634e+06</td>\n",
       "      <td>3.660000e+04</td>\n",
       "    </tr>\n",
       "    <tr>\n",
       "      <th>25%</th>\n",
       "      <td>56.230000</td>\n",
       "      <td>8.598246e+06</td>\n",
       "      <td>7.026100e+04</td>\n",
       "    </tr>\n",
       "    <tr>\n",
       "      <th>50%</th>\n",
       "      <td>136.260000</td>\n",
       "      <td>1.315388e+07</td>\n",
       "      <td>1.007750e+05</td>\n",
       "    </tr>\n",
       "    <tr>\n",
       "      <th>75%</th>\n",
       "      <td>175.932500</td>\n",
       "      <td>1.822877e+07</td>\n",
       "      <td>1.568895e+05</td>\n",
       "    </tr>\n",
       "    <tr>\n",
       "      <th>max</th>\n",
       "      <td>196.000000</td>\n",
       "      <td>2.711329e+07</td>\n",
       "      <td>2.200000e+06</td>\n",
       "    </tr>\n",
       "  </tbody>\n",
       "</table>\n",
       "</div>"
      ],
      "text/plain": [
       "特征             价格           交易量            雇员\n",
       "count    6.000000  6.000000e+00  6.000000e+00\n",
       "mean   118.863333  1.384130e+07  4.456390e+05\n",
       "std     73.748714  8.717312e+06  8.607522e+05\n",
       "min     25.950000  2.626634e+06  3.660000e+04\n",
       "25%     56.230000  8.598246e+06  7.026100e+04\n",
       "50%    136.260000  1.315388e+07  1.007750e+05\n",
       "75%    175.932500  1.822877e+07  1.568895e+05\n",
       "max    196.000000  2.711329e+07  2.200000e+06"
      ]
     },
     "execution_count": 46,
     "metadata": {},
     "output_type": "execute_result"
    }
   ],
   "source": [
    "df2.describe()"
   ]
  },
  {
   "cell_type": "markdown",
   "metadata": {},
   "source": [
    "`行业`一列的结果没有出现在上表。统计量分别包括个数、均值、标准差、最小值，25-50-75 百分数值，最大值。一般数据分析第一步会用这个表来检查\n",
    "\n",
    "- 数据是否有缺失值 (每个栏下的 `count` 是否相等)\n",
    "- 数据是否有异常值 (最小值 `min` 和最大值 `max` 是否太极端)\n",
    "\n",
    "### 数据帧的信息\n",
    "\n",
    "用 `info()` 可查看更加详尽的信息。"
   ]
  },
  {
   "cell_type": "code",
   "execution_count": 116,
   "metadata": {},
   "outputs": [
    {
     "name": "stdout",
     "output_type": "stream",
     "text": [
      "<class 'pandas.core.frame.DataFrame'>\n",
      "Index: 6 entries, BABA to WMT\n",
      "Data columns (total 4 columns):\n",
      " #   Column  Non-Null Count  Dtype  \n",
      "---  ------  --------------  -----  \n",
      " 0   行业      6 non-null      object \n",
      " 1   价格      6 non-null      float64\n",
      " 2   交易量     6 non-null      int64  \n",
      " 3   雇员      6 non-null      int64  \n",
      "dtypes: float64(1), int64(2), object(1)\n",
      "memory usage: 240.0+ bytes\n"
     ]
    }
   ],
   "source": [
    "df2.info()"
   ]
  },
  {
   "cell_type": "markdown",
   "metadata": {
    "source_collapsed": false
   },
   "source": [
    "### 数据帧升维\n",
    "\n",
    "用 `MultiIndex.from_tuples()` 可赋予数据帧多层**标签**，实际上给数据帧增加了维度。该函数中的参数是一个「含有元组的列表」，每个元组，比如 `('中国公司', 'BABA')`\n",
    "\n",
    "- 第一个元素`中国公司`是第一层行标签\n",
    "- 第二个元素 `BABA` 是第二层行标签"
   ]
  },
  {
   "cell_type": "code",
   "execution_count": 47,
   "metadata": {
    "source_collapsed": false
   },
   "outputs": [
    {
     "data": {
      "text/html": [
       "<div>\n",
       "<style scoped>\n",
       "    .dataframe tbody tr th:only-of-type {\n",
       "        vertical-align: middle;\n",
       "    }\n",
       "\n",
       "    .dataframe tbody tr th {\n",
       "        vertical-align: top;\n",
       "    }\n",
       "\n",
       "    .dataframe thead th {\n",
       "        text-align: right;\n",
       "    }\n",
       "</style>\n",
       "<table border=\"1\" class=\"dataframe\">\n",
       "  <thead>\n",
       "    <tr style=\"text-align: right;\">\n",
       "      <th></th>\n",
       "      <th>特征</th>\n",
       "      <th>行业</th>\n",
       "      <th>价格</th>\n",
       "      <th>交易量</th>\n",
       "      <th>雇员</th>\n",
       "    </tr>\n",
       "  </thead>\n",
       "  <tbody>\n",
       "    <tr>\n",
       "      <th rowspan=\"2\" valign=\"top\">中国公司</th>\n",
       "      <th>BABA</th>\n",
       "      <td>电商</td>\n",
       "      <td>176.92</td>\n",
       "      <td>16175610</td>\n",
       "      <td>101550</td>\n",
       "    </tr>\n",
       "    <tr>\n",
       "      <th>JD</th>\n",
       "      <td>电商</td>\n",
       "      <td>25.95</td>\n",
       "      <td>27113291</td>\n",
       "      <td>175336</td>\n",
       "    </tr>\n",
       "    <tr>\n",
       "      <th rowspan=\"4\" valign=\"top\">美国公司</th>\n",
       "      <th>AAPL</th>\n",
       "      <td>科技</td>\n",
       "      <td>172.97</td>\n",
       "      <td>18913154</td>\n",
       "      <td>100000</td>\n",
       "    </tr>\n",
       "    <tr>\n",
       "      <th>MS</th>\n",
       "      <td>金融</td>\n",
       "      <td>41.79</td>\n",
       "      <td>10132145</td>\n",
       "      <td>60348</td>\n",
       "    </tr>\n",
       "    <tr>\n",
       "      <th>GS</th>\n",
       "      <td>金融</td>\n",
       "      <td>196.00</td>\n",
       "      <td>2626634</td>\n",
       "      <td>36600</td>\n",
       "    </tr>\n",
       "    <tr>\n",
       "      <th>WMT</th>\n",
       "      <td>零售</td>\n",
       "      <td>99.55</td>\n",
       "      <td>8086946</td>\n",
       "      <td>2200000</td>\n",
       "    </tr>\n",
       "  </tbody>\n",
       "</table>\n",
       "</div>"
      ],
      "text/plain": [
       "特征         行业      价格       交易量       雇员\n",
       "中国公司 BABA  电商  176.92  16175610   101550\n",
       "     JD    电商   25.95  27113291   175336\n",
       "美国公司 AAPL  科技  172.97  18913154   100000\n",
       "     MS    金融   41.79  10132145    60348\n",
       "     GS    金融  196.00   2626634    36600\n",
       "     WMT   零售   99.55   8086946  2200000"
      ]
     },
     "execution_count": 47,
     "metadata": {},
     "output_type": "execute_result"
    }
   ],
   "source": [
    "df2.index = pd.MultiIndex.from_tuples( [('中国公司','BABA'), ('中国公司','JD'), \n",
    "                                        ('美国公司','AAPL'), ('美国公司','MS'), \n",
    "                                        ('美国公司','GS'), ('美国公司','WMT')] )\n",
    "df2"
   ]
  },
  {
   "cell_type": "markdown",
   "metadata": {
    "source_collapsed": false
   },
   "source": [
    "# <font color='#dc2624' face='微软雅黑'>3. 数据存载</font><a name='3'></a>\n",
    "[<font color='black' face='微软雅黑'>回到目录</font>](#toc)\n",
    "\n",
    "存载包括**保存** (save) 和**加载** (load) 数据表：\n",
    "\n",
    "- 为下一次加载而储存\n",
    "- 从上一次存储来加载\n",
    "\n",
    "以数据帧 `df` 为例，它可以被保存为 Excel, csv, SQL 和 HDF5 格式，其语句一看就懂，用 **`df.to_format()`**，具体如下：\n",
    "\n",
    "    df.to_excel()\n",
    "    df.to_csv()\n",
    "    df.to_sql()\n",
    "    df.to_hdf()\n",
    "\n",
    "如果要加载某种格式的数据到数据帧里，用 **`pd.read_format()`**，具体如下：\n",
    "\n",
    "    pd.read_excel()\n",
    "    pd.read_csv()\n",
    "    pd.read_sql()\n",
    "    pd.read_hdf()\n",
    "\n",
    "下面只用 excel 和 csv 格式举例。\n",
    "\n",
    "### <font color='#2b4750' face='微软雅黑'>3.1 文本 excel 格式</font><a name='3.1'></a>\n",
    "[<font color='black' face='微软雅黑'>回到章首</font>](#3)\n",
    "\n",
    "用 `df.to_excel()` 函数将数据帧保存为 .xlsx 格式，并保存到 Sheet1 中，具体写法如下：\n",
    "\n",
    "    df.to_excel( file_name，sheet_name )\n",
    "    \n",
    "### 从单张 Sheet 中读写"
   ]
  },
  {
   "cell_type": "code",
   "execution_count": 7,
   "metadata": {
    "source_collapsed": false
   },
   "outputs": [],
   "source": [
    "df = pd.DataFrame(np.array([[1, 2, 3], [4, 5, 6]]))\n",
    "df.to_excel('pd_excel.xlsx', sheet_name='Sheet1')"
   ]
  },
  {
   "cell_type": "markdown",
   "metadata": {
    "source_collapsed": false
   },
   "source": [
    "用 `pd.read_excel( file_name，sheet_name )` 即可加载该文件并存成数据帧形式"
   ]
  },
  {
   "cell_type": "code",
   "execution_count": 53,
   "metadata": {
    "source_collapsed": false
   },
   "outputs": [
    {
     "data": {
      "text/html": [
       "<div>\n",
       "<style scoped>\n",
       "    .dataframe tbody tr th:only-of-type {\n",
       "        vertical-align: middle;\n",
       "    }\n",
       "\n",
       "    .dataframe tbody tr th {\n",
       "        vertical-align: top;\n",
       "    }\n",
       "\n",
       "    .dataframe thead th {\n",
       "        text-align: right;\n",
       "    }\n",
       "</style>\n",
       "<table border=\"1\" class=\"dataframe\">\n",
       "  <thead>\n",
       "    <tr style=\"text-align: right;\">\n",
       "      <th></th>\n",
       "      <th>Unnamed: 0</th>\n",
       "      <th>0</th>\n",
       "      <th>1</th>\n",
       "      <th>2</th>\n",
       "    </tr>\n",
       "  </thead>\n",
       "  <tbody>\n",
       "    <tr>\n",
       "      <th>0</th>\n",
       "      <td>0</td>\n",
       "      <td>1</td>\n",
       "      <td>2</td>\n",
       "      <td>3</td>\n",
       "    </tr>\n",
       "    <tr>\n",
       "      <th>1</th>\n",
       "      <td>1</td>\n",
       "      <td>4</td>\n",
       "      <td>5</td>\n",
       "      <td>6</td>\n",
       "    </tr>\n",
       "  </tbody>\n",
       "</table>\n",
       "</div>"
      ],
      "text/plain": [
       "   Unnamed: 0  0  1  2\n",
       "0           0  1  2  3\n",
       "1           1  4  5  6"
      ]
     },
     "execution_count": 53,
     "metadata": {},
     "output_type": "execute_result"
    }
   ],
   "source": [
    "df1 = pd.read_excel('pd_excel.xlsx', sheet_name='Sheet1')\n",
    "df1"
   ]
  },
  {
   "cell_type": "markdown",
   "metadata": {},
   "source": [
    "我们发现结果有 Unnamed: 0，这是因为存储 df 去 excel 的时候，默认的行标签被误当成第一个列标签，因此在存储时要 `index=False`。"
   ]
  },
  {
   "cell_type": "code",
   "execution_count": 54,
   "metadata": {},
   "outputs": [
    {
     "data": {
      "text/html": [
       "<div>\n",
       "<style scoped>\n",
       "    .dataframe tbody tr th:only-of-type {\n",
       "        vertical-align: middle;\n",
       "    }\n",
       "\n",
       "    .dataframe tbody tr th {\n",
       "        vertical-align: top;\n",
       "    }\n",
       "\n",
       "    .dataframe thead th {\n",
       "        text-align: right;\n",
       "    }\n",
       "</style>\n",
       "<table border=\"1\" class=\"dataframe\">\n",
       "  <thead>\n",
       "    <tr style=\"text-align: right;\">\n",
       "      <th></th>\n",
       "      <th>0</th>\n",
       "      <th>1</th>\n",
       "      <th>2</th>\n",
       "    </tr>\n",
       "  </thead>\n",
       "  <tbody>\n",
       "    <tr>\n",
       "      <th>0</th>\n",
       "      <td>1</td>\n",
       "      <td>2</td>\n",
       "      <td>3</td>\n",
       "    </tr>\n",
       "    <tr>\n",
       "      <th>1</th>\n",
       "      <td>4</td>\n",
       "      <td>5</td>\n",
       "      <td>6</td>\n",
       "    </tr>\n",
       "  </tbody>\n",
       "</table>\n",
       "</div>"
      ],
      "text/plain": [
       "   0  1  2\n",
       "0  1  2  3\n",
       "1  4  5  6"
      ]
     },
     "execution_count": 54,
     "metadata": {},
     "output_type": "execute_result"
    }
   ],
   "source": [
    "df.to_excel('pd_excel.xlsx', sheet_name='Sheet2', index=False)\n",
    "df1 = pd.read_excel('pd_excel.xlsx', sheet_name='Sheet2')\n",
    "df1"
   ]
  },
  {
   "cell_type": "markdown",
   "metadata": {},
   "source": [
    "### 从多张 Sheet 中读写\n",
    "\n",
    "从一个工作表多张 sheet 中读数据，只需设置 `sheet_name =`**`None`** 即可。"
   ]
  },
  {
   "cell_type": "code",
   "execution_count": 8,
   "metadata": {},
   "outputs": [],
   "source": [
    "path = 'Stock (multiple sheets).xlsx'\n",
    "all_dfs = pd.read_excel( path, sheet_name=None )"
   ]
  },
  {
   "cell_type": "markdown",
   "metadata": {},
   "source": [
    "Pandas 里的 `read_excel()` 函数会返回一个**有序字典**对象，即 `collections.OrderedDict`。"
   ]
  },
  {
   "cell_type": "code",
   "execution_count": 158,
   "metadata": {},
   "outputs": [
    {
     "name": "stdout",
     "output_type": "stream",
     "text": [
      "<class 'dict'>\n"
     ]
    },
    {
     "data": {
      "text/plain": [
       "dict_keys(['Sheet1', 'Sheet2', 'Sheet3', 'Sheet4'])"
      ]
     },
     "execution_count": 158,
     "metadata": {},
     "output_type": "execute_result"
    }
   ],
   "source": [
    "print(type(all_dfs))\n",
    "all_dfs.keys()"
   ]
  },
  {
   "cell_type": "code",
   "execution_count": 160,
   "metadata": {},
   "outputs": [
    {
     "data": {
      "text/html": [
       "<div>\n",
       "<style scoped>\n",
       "    .dataframe tbody tr th:only-of-type {\n",
       "        vertical-align: middle;\n",
       "    }\n",
       "\n",
       "    .dataframe tbody tr th {\n",
       "        vertical-align: top;\n",
       "    }\n",
       "\n",
       "    .dataframe thead th {\n",
       "        text-align: right;\n",
       "    }\n",
       "</style>\n",
       "<table border=\"1\" class=\"dataframe\">\n",
       "  <thead>\n",
       "    <tr style=\"text-align: right;\">\n",
       "      <th></th>\n",
       "      <th>Date</th>\n",
       "      <th>Symbol</th>\n",
       "      <th>Open</th>\n",
       "      <th>High</th>\n",
       "      <th>Low</th>\n",
       "      <th>Close</th>\n",
       "      <th>Adj Close</th>\n",
       "      <th>Volume</th>\n",
       "    </tr>\n",
       "  </thead>\n",
       "  <tbody>\n",
       "    <tr>\n",
       "      <th>0</th>\n",
       "      <td>2019-02-21</td>\n",
       "      <td>AAPL</td>\n",
       "      <td>171.800003</td>\n",
       "      <td>172.369995</td>\n",
       "      <td>170.300003</td>\n",
       "      <td>171.059998</td>\n",
       "      <td>171.059998</td>\n",
       "      <td>17249700</td>\n",
       "    </tr>\n",
       "    <tr>\n",
       "      <th>1</th>\n",
       "      <td>2019-02-21</td>\n",
       "      <td>JD</td>\n",
       "      <td>24.820000</td>\n",
       "      <td>24.879999</td>\n",
       "      <td>24.010000</td>\n",
       "      <td>24.270000</td>\n",
       "      <td>24.270000</td>\n",
       "      <td>13542600</td>\n",
       "    </tr>\n",
       "    <tr>\n",
       "      <th>2</th>\n",
       "      <td>2019-02-21</td>\n",
       "      <td>BABA</td>\n",
       "      <td>171.000000</td>\n",
       "      <td>171.779999</td>\n",
       "      <td>169.800003</td>\n",
       "      <td>171.660004</td>\n",
       "      <td>171.660004</td>\n",
       "      <td>8434800</td>\n",
       "    </tr>\n",
       "    <tr>\n",
       "      <th>3</th>\n",
       "      <td>2019-02-21</td>\n",
       "      <td>GS</td>\n",
       "      <td>198.970001</td>\n",
       "      <td>199.449997</td>\n",
       "      <td>195.050003</td>\n",
       "      <td>196.360001</td>\n",
       "      <td>196.360001</td>\n",
       "      <td>2785900</td>\n",
       "    </tr>\n",
       "    <tr>\n",
       "      <th>4</th>\n",
       "      <td>2019-02-21</td>\n",
       "      <td>FB</td>\n",
       "      <td>161.929993</td>\n",
       "      <td>162.240005</td>\n",
       "      <td>159.589996</td>\n",
       "      <td>160.039993</td>\n",
       "      <td>160.039993</td>\n",
       "      <td>15607800</td>\n",
       "    </tr>\n",
       "  </tbody>\n",
       "</table>\n",
       "</div>"
      ],
      "text/plain": [
       "        Date Symbol        Open        High         Low       Close  \\\n",
       "0 2019-02-21   AAPL  171.800003  172.369995  170.300003  171.059998   \n",
       "1 2019-02-21     JD   24.820000   24.879999   24.010000   24.270000   \n",
       "2 2019-02-21   BABA  171.000000  171.779999  169.800003  171.660004   \n",
       "3 2019-02-21     GS  198.970001  199.449997  195.050003  196.360001   \n",
       "4 2019-02-21     FB  161.929993  162.240005  159.589996  160.039993   \n",
       "\n",
       "    Adj Close    Volume  \n",
       "0  171.059998  17249700  \n",
       "1   24.270000  13542600  \n",
       "2  171.660004   8434800  \n",
       "3  196.360001   2785900  \n",
       "4  160.039993  15607800  "
      ]
     },
     "execution_count": 160,
     "metadata": {},
     "output_type": "execute_result"
    }
   ],
   "source": [
    "all_dfs['Sheet1'].head()"
   ]
  },
  {
   "cell_type": "markdown",
   "metadata": {},
   "source": [
    "用 `concat()` 函数将所有数据帧连接起来，设置 `ignore_index =`**`True`** 因为 Sheet1, Sheet2 这些索引没有具体的意义。"
   ]
  },
  {
   "cell_type": "code",
   "execution_count": 161,
   "metadata": {},
   "outputs": [
    {
     "data": {
      "text/html": [
       "<div>\n",
       "<style scoped>\n",
       "    .dataframe tbody tr th:only-of-type {\n",
       "        vertical-align: middle;\n",
       "    }\n",
       "\n",
       "    .dataframe tbody tr th {\n",
       "        vertical-align: top;\n",
       "    }\n",
       "\n",
       "    .dataframe thead th {\n",
       "        text-align: right;\n",
       "    }\n",
       "</style>\n",
       "<table border=\"1\" class=\"dataframe\">\n",
       "  <thead>\n",
       "    <tr style=\"text-align: right;\">\n",
       "      <th></th>\n",
       "      <th>Date</th>\n",
       "      <th>Symbol</th>\n",
       "      <th>Open</th>\n",
       "      <th>High</th>\n",
       "      <th>Low</th>\n",
       "      <th>Close</th>\n",
       "      <th>Adj Close</th>\n",
       "      <th>Volume</th>\n",
       "    </tr>\n",
       "  </thead>\n",
       "  <tbody>\n",
       "    <tr>\n",
       "      <th>0</th>\n",
       "      <td>2019-02-21</td>\n",
       "      <td>AAPL</td>\n",
       "      <td>171.800003</td>\n",
       "      <td>172.369995</td>\n",
       "      <td>170.300003</td>\n",
       "      <td>171.059998</td>\n",
       "      <td>171.059998</td>\n",
       "      <td>17249700</td>\n",
       "    </tr>\n",
       "    <tr>\n",
       "      <th>1</th>\n",
       "      <td>2019-02-21</td>\n",
       "      <td>JD</td>\n",
       "      <td>24.820000</td>\n",
       "      <td>24.879999</td>\n",
       "      <td>24.010000</td>\n",
       "      <td>24.270000</td>\n",
       "      <td>24.270000</td>\n",
       "      <td>13542600</td>\n",
       "    </tr>\n",
       "    <tr>\n",
       "      <th>2</th>\n",
       "      <td>2019-02-21</td>\n",
       "      <td>BABA</td>\n",
       "      <td>171.000000</td>\n",
       "      <td>171.779999</td>\n",
       "      <td>169.800003</td>\n",
       "      <td>171.660004</td>\n",
       "      <td>171.660004</td>\n",
       "      <td>8434800</td>\n",
       "    </tr>\n",
       "    <tr>\n",
       "      <th>17</th>\n",
       "      <td>2019-02-26</td>\n",
       "      <td>BABA</td>\n",
       "      <td>179.789993</td>\n",
       "      <td>184.350006</td>\n",
       "      <td>179.369995</td>\n",
       "      <td>183.539993</td>\n",
       "      <td>183.539993</td>\n",
       "      <td>13857900</td>\n",
       "    </tr>\n",
       "    <tr>\n",
       "      <th>18</th>\n",
       "      <td>2019-02-26</td>\n",
       "      <td>GS</td>\n",
       "      <td>198.470001</td>\n",
       "      <td>200.559998</td>\n",
       "      <td>196.550003</td>\n",
       "      <td>198.899994</td>\n",
       "      <td>198.899994</td>\n",
       "      <td>2498000</td>\n",
       "    </tr>\n",
       "    <tr>\n",
       "      <th>19</th>\n",
       "      <td>2019-02-26</td>\n",
       "      <td>FB</td>\n",
       "      <td>164.339996</td>\n",
       "      <td>166.240005</td>\n",
       "      <td>163.800003</td>\n",
       "      <td>164.130005</td>\n",
       "      <td>164.130005</td>\n",
       "      <td>13645200</td>\n",
       "    </tr>\n",
       "  </tbody>\n",
       "</table>\n",
       "</div>"
      ],
      "text/plain": [
       "         Date Symbol        Open        High         Low       Close  \\\n",
       "0  2019-02-21   AAPL  171.800003  172.369995  170.300003  171.059998   \n",
       "1  2019-02-21     JD   24.820000   24.879999   24.010000   24.270000   \n",
       "2  2019-02-21   BABA  171.000000  171.779999  169.800003  171.660004   \n",
       "17 2019-02-26   BABA  179.789993  184.350006  179.369995  183.539993   \n",
       "18 2019-02-26     GS  198.470001  200.559998  196.550003  198.899994   \n",
       "19 2019-02-26     FB  164.339996  166.240005  163.800003  164.130005   \n",
       "\n",
       "     Adj Close    Volume  \n",
       "0   171.059998  17249700  \n",
       "1    24.270000  13542600  \n",
       "2   171.660004   8434800  \n",
       "17  183.539993  13857900  \n",
       "18  198.899994   2498000  \n",
       "19  164.130005  13645200  "
      ]
     },
     "execution_count": 161,
     "metadata": {},
     "output_type": "execute_result"
    }
   ],
   "source": [
    "df = pd.concat( all_dfs, ignore_index=True )\n",
    "df.head(3).append(df.tail(3))"
   ]
  },
  {
   "cell_type": "code",
   "execution_count": 162,
   "metadata": {},
   "outputs": [
    {
     "data": {
      "text/html": [
       "<div>\n",
       "<style scoped>\n",
       "    .dataframe tbody tr th:only-of-type {\n",
       "        vertical-align: middle;\n",
       "    }\n",
       "\n",
       "    .dataframe tbody tr th {\n",
       "        vertical-align: top;\n",
       "    }\n",
       "\n",
       "    .dataframe thead th {\n",
       "        text-align: right;\n",
       "    }\n",
       "</style>\n",
       "<table border=\"1\" class=\"dataframe\">\n",
       "  <thead>\n",
       "    <tr style=\"text-align: right;\">\n",
       "      <th></th>\n",
       "      <th>Date</th>\n",
       "      <th>Symbol</th>\n",
       "      <th>Open</th>\n",
       "      <th>High</th>\n",
       "      <th>Low</th>\n",
       "      <th>Close</th>\n",
       "      <th>Adj Close</th>\n",
       "      <th>Volume</th>\n",
       "    </tr>\n",
       "  </thead>\n",
       "  <tbody>\n",
       "    <tr>\n",
       "      <th>0</th>\n",
       "      <td>2019-02-21</td>\n",
       "      <td>AAPL</td>\n",
       "      <td>171.800003</td>\n",
       "      <td>172.369995</td>\n",
       "      <td>170.300003</td>\n",
       "      <td>171.059998</td>\n",
       "      <td>171.059998</td>\n",
       "      <td>17249700</td>\n",
       "    </tr>\n",
       "    <tr>\n",
       "      <th>1</th>\n",
       "      <td>2019-02-21</td>\n",
       "      <td>JD</td>\n",
       "      <td>24.820000</td>\n",
       "      <td>24.879999</td>\n",
       "      <td>24.010000</td>\n",
       "      <td>24.270000</td>\n",
       "      <td>24.270000</td>\n",
       "      <td>13542600</td>\n",
       "    </tr>\n",
       "    <tr>\n",
       "      <th>2</th>\n",
       "      <td>2019-02-21</td>\n",
       "      <td>BABA</td>\n",
       "      <td>171.000000</td>\n",
       "      <td>171.779999</td>\n",
       "      <td>169.800003</td>\n",
       "      <td>171.660004</td>\n",
       "      <td>171.660004</td>\n",
       "      <td>8434800</td>\n",
       "    </tr>\n",
       "    <tr>\n",
       "      <th>17</th>\n",
       "      <td>2019-02-26</td>\n",
       "      <td>BABA</td>\n",
       "      <td>179.789993</td>\n",
       "      <td>184.350006</td>\n",
       "      <td>179.369995</td>\n",
       "      <td>183.539993</td>\n",
       "      <td>183.539993</td>\n",
       "      <td>13857900</td>\n",
       "    </tr>\n",
       "    <tr>\n",
       "      <th>18</th>\n",
       "      <td>2019-02-26</td>\n",
       "      <td>GS</td>\n",
       "      <td>198.470001</td>\n",
       "      <td>200.559998</td>\n",
       "      <td>196.550003</td>\n",
       "      <td>198.899994</td>\n",
       "      <td>198.899994</td>\n",
       "      <td>2498000</td>\n",
       "    </tr>\n",
       "    <tr>\n",
       "      <th>19</th>\n",
       "      <td>2019-02-26</td>\n",
       "      <td>FB</td>\n",
       "      <td>164.339996</td>\n",
       "      <td>166.240005</td>\n",
       "      <td>163.800003</td>\n",
       "      <td>164.130005</td>\n",
       "      <td>164.130005</td>\n",
       "      <td>13645200</td>\n",
       "    </tr>\n",
       "  </tbody>\n",
       "</table>\n",
       "</div>"
      ],
      "text/plain": [
       "         Date Symbol        Open        High         Low       Close  \\\n",
       "0  2019-02-21   AAPL  171.800003  172.369995  170.300003  171.059998   \n",
       "1  2019-02-21     JD   24.820000   24.879999   24.010000   24.270000   \n",
       "2  2019-02-21   BABA  171.000000  171.779999  169.800003  171.660004   \n",
       "17 2019-02-26   BABA  179.789993  184.350006  179.369995  183.539993   \n",
       "18 2019-02-26     GS  198.470001  200.559998  196.550003  198.899994   \n",
       "19 2019-02-26     FB  164.339996  166.240005  163.800003  164.130005   \n",
       "\n",
       "     Adj Close    Volume  \n",
       "0   171.059998  17249700  \n",
       "1    24.270000  13542600  \n",
       "2   171.660004   8434800  \n",
       "17  183.539993  13857900  \n",
       "18  198.899994   2498000  \n",
       "19  164.130005  13645200  "
      ]
     },
     "execution_count": 162,
     "metadata": {},
     "output_type": "execute_result"
    }
   ],
   "source": [
    "df = pd.concat(pd.read_excel(path, sheet_name=None), ignore_index=True)\n",
    "df.head(3).append(df.tail(3))"
   ]
  },
  {
   "cell_type": "markdown",
   "metadata": {},
   "source": [
    "将数据写入一张工作表不同 sheet 中也很简单，首先用 `ExcelWrite` 创建对象 `write`，再用\n",
    "\n",
    "    nth_df.to_excel( writer, sheet_name=nth_sheet )"
   ]
  },
  {
   "cell_type": "code",
   "execution_count": 10,
   "metadata": {},
   "outputs": [],
   "source": [
    "writer = pd.ExcelWriter('Stock (multiple sheets) for write.xlsx', engine='xlsxwriter')\n",
    "\n",
    "for sheet_name, df in all_dfs.items():\n",
    "    df.to_excel( writer, sheet_name=sheet_name, index=False )\n",
    "    \n",
    "writer.save()"
   ]
  },
  {
   "cell_type": "markdown",
   "metadata": {
    "source_collapsed": false
   },
   "source": [
    "### <font color='#2b4750' face='微软雅黑'>3.2 文本 csv 格式</font><a name='3.2'></a>\n",
    "[<font color='black' face='微软雅黑'>回到章首</font>](#3)\n",
    "\n",
    "数据帧也可以存储成 csv 格式，设定 `index=False`，并且设定 `encoding='utf_8_sig'`，要不然在 csv 显示中文成乱码。\n",
    "\n",
    "### 从单个 csv 中读写"
   ]
  },
  {
   "cell_type": "code",
   "execution_count": 64,
   "metadata": {
    "source_collapsed": false
   },
   "outputs": [
    {
     "data": {
      "text/html": [
       "<div>\n",
       "<style scoped>\n",
       "    .dataframe tbody tr th:only-of-type {\n",
       "        vertical-align: middle;\n",
       "    }\n",
       "\n",
       "    .dataframe tbody tr th {\n",
       "        vertical-align: top;\n",
       "    }\n",
       "\n",
       "    .dataframe thead th {\n",
       "        text-align: right;\n",
       "    }\n",
       "</style>\n",
       "<table border=\"1\" class=\"dataframe\">\n",
       "  <thead>\n",
       "    <tr style=\"text-align: right;\">\n",
       "      <th></th>\n",
       "      <th>代码</th>\n",
       "      <th>名称</th>\n",
       "      <th>市场</th>\n",
       "      <th>价格</th>\n",
       "      <th>货币</th>\n",
       "    </tr>\n",
       "  </thead>\n",
       "  <tbody>\n",
       "    <tr>\n",
       "      <th>0</th>\n",
       "      <td>00700.HK</td>\n",
       "      <td>腾讯</td>\n",
       "      <td>HK</td>\n",
       "      <td>380.2</td>\n",
       "      <td>HKD</td>\n",
       "    </tr>\n",
       "    <tr>\n",
       "      <th>1</th>\n",
       "      <td>600519.SH</td>\n",
       "      <td>茅台</td>\n",
       "      <td>SH</td>\n",
       "      <td>900.2</td>\n",
       "      <td>CNY</td>\n",
       "    </tr>\n",
       "  </tbody>\n",
       "</table>\n",
       "</div>"
      ],
      "text/plain": [
       "          代码  名称  市场     价格   货币\n",
       "0   00700.HK  腾讯  HK  380.2  HKD\n",
       "1  600519.SH  茅台  SH  900.2  CNY"
      ]
     },
     "execution_count": 64,
     "metadata": {},
     "output_type": "execute_result"
    }
   ],
   "source": [
    "data = {'代码': ['00700.HK', '600519.SH'],\n",
    "        '名称': ['腾讯', '茅台'],\n",
    "        '市场': ['HK', 'SH'],\n",
    "        '价格': [380.2, 900.2],\n",
    "        '货币': ['HKD', 'CNY']}\n",
    "df = pd.DataFrame(data)\n",
    "df"
   ]
  },
  {
   "cell_type": "code",
   "execution_count": 62,
   "metadata": {},
   "outputs": [],
   "source": [
    "df.to_csv('pd_csv.csv', index=False, encoding='utf_8_sig')"
   ]
  },
  {
   "cell_type": "code",
   "execution_count": 63,
   "metadata": {
    "source_collapsed": false
   },
   "outputs": [
    {
     "data": {
      "text/html": [
       "<div>\n",
       "<style scoped>\n",
       "    .dataframe tbody tr th:only-of-type {\n",
       "        vertical-align: middle;\n",
       "    }\n",
       "\n",
       "    .dataframe tbody tr th {\n",
       "        vertical-align: top;\n",
       "    }\n",
       "\n",
       "    .dataframe thead th {\n",
       "        text-align: right;\n",
       "    }\n",
       "</style>\n",
       "<table border=\"1\" class=\"dataframe\">\n",
       "  <thead>\n",
       "    <tr style=\"text-align: right;\">\n",
       "      <th></th>\n",
       "      <th>代码</th>\n",
       "      <th>名称</th>\n",
       "      <th>市场</th>\n",
       "      <th>价格</th>\n",
       "      <th>货币</th>\n",
       "    </tr>\n",
       "  </thead>\n",
       "  <tbody>\n",
       "    <tr>\n",
       "      <th>0</th>\n",
       "      <td>00700.HK</td>\n",
       "      <td>腾讯</td>\n",
       "      <td>HK</td>\n",
       "      <td>380.2</td>\n",
       "      <td>HKD</td>\n",
       "    </tr>\n",
       "    <tr>\n",
       "      <th>1</th>\n",
       "      <td>600519.SH</td>\n",
       "      <td>茅台</td>\n",
       "      <td>SH</td>\n",
       "      <td>900.2</td>\n",
       "      <td>CNY</td>\n",
       "    </tr>\n",
       "  </tbody>\n",
       "</table>\n",
       "</div>"
      ],
      "text/plain": [
       "          代码  名称  市场     价格   货币\n",
       "0   00700.HK  腾讯  HK  380.2  HKD\n",
       "1  600519.SH  茅台  SH  900.2  CNY"
      ]
     },
     "execution_count": 63,
     "metadata": {},
     "output_type": "execute_result"
    }
   ],
   "source": [
    "df2 = pd.read_csv('pd_csv.csv')\n",
    "df2"
   ]
  },
  {
   "cell_type": "markdown",
   "metadata": {},
   "source": [
    "### 从多个 csv 中读写\n",
    "\n",
    "五只股票分别存在不同的 csv 文件中，从五个 csv 中读数据。"
   ]
  },
  {
   "cell_type": "code",
   "execution_count": 185,
   "metadata": {},
   "outputs": [
    {
     "data": {
      "text/plain": [
       "['Stock 1.csv', 'Stock 2.csv', 'Stock 3.csv', 'Stock 4.csv', 'Stock 5.csv']"
      ]
     },
     "execution_count": 185,
     "metadata": {},
     "output_type": "execute_result"
    }
   ],
   "source": [
    "N = 5\n",
    "files = [ x + ' ' + str(y) + '.csv' for x, y in zip(['Stock']*N, np.arange(1,N+1)) ]\n",
    "files"
   ]
  },
  {
   "cell_type": "markdown",
   "metadata": {},
   "source": [
    "用列表解析式将读进的数据帧存成一个大列表，再用 `concat()` 函数把每个小数据帧连接起来。"
   ]
  },
  {
   "cell_type": "code",
   "execution_count": 186,
   "metadata": {},
   "outputs": [],
   "source": [
    "all_dfs = [ pd.read_csv(f) for f in files]"
   ]
  },
  {
   "cell_type": "code",
   "execution_count": 184,
   "metadata": {},
   "outputs": [
    {
     "data": {
      "text/html": [
       "<div>\n",
       "<style scoped>\n",
       "    .dataframe tbody tr th:only-of-type {\n",
       "        vertical-align: middle;\n",
       "    }\n",
       "\n",
       "    .dataframe tbody tr th {\n",
       "        vertical-align: top;\n",
       "    }\n",
       "\n",
       "    .dataframe thead th {\n",
       "        text-align: right;\n",
       "    }\n",
       "</style>\n",
       "<table border=\"1\" class=\"dataframe\">\n",
       "  <thead>\n",
       "    <tr style=\"text-align: right;\">\n",
       "      <th></th>\n",
       "      <th>Date</th>\n",
       "      <th>Symbol</th>\n",
       "      <th>Open</th>\n",
       "      <th>High</th>\n",
       "      <th>Low</th>\n",
       "      <th>Close</th>\n",
       "      <th>Adj Close</th>\n",
       "      <th>Volume</th>\n",
       "    </tr>\n",
       "  </thead>\n",
       "  <tbody>\n",
       "    <tr>\n",
       "      <th>0</th>\n",
       "      <td>21/02/2019</td>\n",
       "      <td>AAPL</td>\n",
       "      <td>171.800003</td>\n",
       "      <td>172.369995</td>\n",
       "      <td>170.300003</td>\n",
       "      <td>171.059998</td>\n",
       "      <td>171.059998</td>\n",
       "      <td>17249700</td>\n",
       "    </tr>\n",
       "    <tr>\n",
       "      <th>1</th>\n",
       "      <td>22/02/2019</td>\n",
       "      <td>AAPL</td>\n",
       "      <td>171.580002</td>\n",
       "      <td>173.000000</td>\n",
       "      <td>171.380005</td>\n",
       "      <td>172.970001</td>\n",
       "      <td>172.970001</td>\n",
       "      <td>18913200</td>\n",
       "    </tr>\n",
       "    <tr>\n",
       "      <th>2</th>\n",
       "      <td>25/02/2019</td>\n",
       "      <td>AAPL</td>\n",
       "      <td>174.160004</td>\n",
       "      <td>175.869995</td>\n",
       "      <td>173.949997</td>\n",
       "      <td>174.229996</td>\n",
       "      <td>174.229996</td>\n",
       "      <td>21873400</td>\n",
       "    </tr>\n",
       "    <tr>\n",
       "      <th>17</th>\n",
       "      <td>22/02/2019</td>\n",
       "      <td>FB</td>\n",
       "      <td>160.580002</td>\n",
       "      <td>162.410004</td>\n",
       "      <td>160.309998</td>\n",
       "      <td>161.889999</td>\n",
       "      <td>161.889999</td>\n",
       "      <td>15858500</td>\n",
       "    </tr>\n",
       "    <tr>\n",
       "      <th>18</th>\n",
       "      <td>25/02/2019</td>\n",
       "      <td>FB</td>\n",
       "      <td>163.070007</td>\n",
       "      <td>166.070007</td>\n",
       "      <td>162.899994</td>\n",
       "      <td>164.619995</td>\n",
       "      <td>164.619995</td>\n",
       "      <td>18737100</td>\n",
       "    </tr>\n",
       "    <tr>\n",
       "      <th>19</th>\n",
       "      <td>26/02/2019</td>\n",
       "      <td>FB</td>\n",
       "      <td>164.339996</td>\n",
       "      <td>166.240005</td>\n",
       "      <td>163.800003</td>\n",
       "      <td>164.130005</td>\n",
       "      <td>164.130005</td>\n",
       "      <td>13645200</td>\n",
       "    </tr>\n",
       "  </tbody>\n",
       "</table>\n",
       "</div>"
      ],
      "text/plain": [
       "          Date Symbol        Open        High         Low       Close  \\\n",
       "0   21/02/2019   AAPL  171.800003  172.369995  170.300003  171.059998   \n",
       "1   22/02/2019   AAPL  171.580002  173.000000  171.380005  172.970001   \n",
       "2   25/02/2019   AAPL  174.160004  175.869995  173.949997  174.229996   \n",
       "17  22/02/2019     FB  160.580002  162.410004  160.309998  161.889999   \n",
       "18  25/02/2019     FB  163.070007  166.070007  162.899994  164.619995   \n",
       "19  26/02/2019     FB  164.339996  166.240005  163.800003  164.130005   \n",
       "\n",
       "     Adj Close    Volume  \n",
       "0   171.059998  17249700  \n",
       "1   172.970001  18913200  \n",
       "2   174.229996  21873400  \n",
       "17  161.889999  15858500  \n",
       "18  164.619995  18737100  \n",
       "19  164.130005  13645200  "
      ]
     },
     "execution_count": 184,
     "metadata": {},
     "output_type": "execute_result"
    }
   ],
   "source": [
    "df = pd.concat(all_dfs).reset_index().drop(columns='index')\n",
    "df.head(3).append(df.tail(3))"
   ]
  },
  {
   "cell_type": "markdown",
   "metadata": {
    "source_collapsed": false
   },
   "source": [
    "# <font color='#dc2624' face='微软雅黑'>4. 数据获取</font><a name='4'></a>\n",
    "[<font color='black' face='微软雅黑'>回到目录</font>](#toc)\n",
    "\n",
    "从数据帧中获取数据可用索引操作 (indexing) 和切片操作 (slicing)，和 numpy 数组基于位置 (position-based) 的获取方式不同的是，数据帧的获取方式即可以基于标签 (label-based) ，也可以基于位置 (position-based)，总体有四大类：\n",
    "\n",
    "- **元素获取**：\n",
    "\n",
    "    - 基于标签的 `at`\n",
    "    - 基于位置的 `iat`\n",
    "\n",
    "\n",
    "- **列获取**：\n",
    "\n",
    "    - 用 `.` 来切片单列\n",
    "    - 用 `[]` 来切片单列或多列\n",
    "    - 基于标签的 `loc`\n",
    "    - 基于位置的 `iloc`\n",
    "\n",
    "\n",
    "- **行获取**：：\n",
    "\n",
    "    - 用 `[]` 来切片单行或多行\n",
    "    - 基于标签的 `loc`\n",
    "    - 基于位置的 `iloc`\n",
    "\n",
    "\n",
    "- **块获取**：\n",
    "\n",
    "    - 基于标签的 `loc`\n",
    "    - 基于位置的 `iloc`\n",
    "\n",
    "总结规律，基于标签就用 `at` 和 `loc`，基于位置就用 `iat` 和 `iloc`。下面我们用股票信息的数据来分析以上的各种获取操作。"
   ]
  },
  {
   "cell_type": "code",
   "execution_count": 65,
   "metadata": {
    "source_collapsed": false
   },
   "outputs": [
    {
     "data": {
      "text/html": [
       "<div>\n",
       "<style scoped>\n",
       "    .dataframe tbody tr th:only-of-type {\n",
       "        vertical-align: middle;\n",
       "    }\n",
       "\n",
       "    .dataframe tbody tr th {\n",
       "        vertical-align: top;\n",
       "    }\n",
       "\n",
       "    .dataframe thead th {\n",
       "        text-align: right;\n",
       "    }\n",
       "</style>\n",
       "<table border=\"1\" class=\"dataframe\">\n",
       "  <thead>\n",
       "    <tr style=\"text-align: right;\">\n",
       "      <th></th>\n",
       "      <th>行业</th>\n",
       "      <th>价格</th>\n",
       "      <th>交易量</th>\n",
       "      <th>雇员</th>\n",
       "    </tr>\n",
       "    <tr>\n",
       "      <th>代号</th>\n",
       "      <th></th>\n",
       "      <th></th>\n",
       "      <th></th>\n",
       "      <th></th>\n",
       "    </tr>\n",
       "  </thead>\n",
       "  <tbody>\n",
       "    <tr>\n",
       "      <th>BABA</th>\n",
       "      <td>电商</td>\n",
       "      <td>176.92</td>\n",
       "      <td>16175610</td>\n",
       "      <td>101550</td>\n",
       "    </tr>\n",
       "    <tr>\n",
       "      <th>JD</th>\n",
       "      <td>电商</td>\n",
       "      <td>25.95</td>\n",
       "      <td>27113291</td>\n",
       "      <td>175336</td>\n",
       "    </tr>\n",
       "    <tr>\n",
       "      <th>AAPL</th>\n",
       "      <td>科技</td>\n",
       "      <td>172.97</td>\n",
       "      <td>18913154</td>\n",
       "      <td>100000</td>\n",
       "    </tr>\n",
       "    <tr>\n",
       "      <th>MS</th>\n",
       "      <td>金融</td>\n",
       "      <td>41.79</td>\n",
       "      <td>10132145</td>\n",
       "      <td>60348</td>\n",
       "    </tr>\n",
       "    <tr>\n",
       "      <th>GS</th>\n",
       "      <td>金融</td>\n",
       "      <td>196.00</td>\n",
       "      <td>2626634</td>\n",
       "      <td>36600</td>\n",
       "    </tr>\n",
       "    <tr>\n",
       "      <th>WMT</th>\n",
       "      <td>零售</td>\n",
       "      <td>99.55</td>\n",
       "      <td>8086946</td>\n",
       "      <td>2200000</td>\n",
       "    </tr>\n",
       "  </tbody>\n",
       "</table>\n",
       "</div>"
      ],
      "text/plain": [
       "      行业      价格       交易量       雇员\n",
       "代号                                 \n",
       "BABA  电商  176.92  16175610   101550\n",
       "JD    电商   25.95  27113291   175336\n",
       "AAPL  科技  172.97  18913154   100000\n",
       "MS    金融   41.79  10132145    60348\n",
       "GS    金融  196.00   2626634    36600\n",
       "WMT   零售   99.55   8086946  2200000"
      ]
     },
     "execution_count": 65,
     "metadata": {},
     "output_type": "execute_result"
    }
   ],
   "source": [
    "symbol = ['BABA', 'JD', 'AAPL', 'MS', 'GS', 'WMT']\n",
    "data = {'行业': ['电商', '电商', '科技', '金融', '金融', '零售'],\n",
    "        '价格': [176.92, 25.95, 172.97, 41.79, 196.00, 99.55],\n",
    "        '交易量': [16175610, 27113291, 18913154, 10132145, 2626634, 8086946],\n",
    "        '雇员': [101550, 175336, 100000, 60348, 36600, 2200000]}\n",
    "df = pd.DataFrame( data, index=symbol )\n",
    "df.name = '美股'\n",
    "df.index.name = '代号'\n",
    "df"
   ]
  },
  {
   "cell_type": "markdown",
   "metadata": {
    "source_collapsed": false
   },
   "source": [
    "用不同颜色标注了 `df` 的 `index`, `columns` 和 `values`，可视图如下：\n",
    "\n",
    "<img src=\"df data.PNG\" style=\"width:400px; height:250px;\">"
   ]
  },
  {
   "cell_type": "markdown",
   "metadata": {
    "source_collapsed": false
   },
   "source": [
    "### <font color='#2b4750' face='微软雅黑'>4.1 元素获取</font><a name='4.1'></a>\n",
    "[<font color='black' face='微软雅黑'>回到章首</font>](#4)\n",
    "\n",
    "两种方法来获取单元素，情况 1 基于标签 `at`，情况 2 基于位置 `iat`。\n",
    "\n",
    "- **情况 1** - `df.at[ 'index_i', 'attribute_j' ]`\n",
    "- **情况 2** - `df.iat[ i, j ]`\n",
    "\n",
    "Python 里的中括号 `[]` 会代表很多意思，比如单元素索引，多元素切片，布尔索引等等，这样用 `[]` 会很低效。如果你想索引单元素，明明白白的用 `at` 和 `iat` 效率最高。"
   ]
  },
  {
   "cell_type": "code",
   "execution_count": 66,
   "metadata": {
    "source_collapsed": false
   },
   "outputs": [
    {
     "data": {
      "text/plain": [
       "172.97"
      ]
     },
     "execution_count": 66,
     "metadata": {},
     "output_type": "execute_result"
    }
   ],
   "source": [
    "# 情况 1 - 基于标签\n",
    "df.at['AAPL','价格']"
   ]
  },
  {
   "cell_type": "code",
   "execution_count": 67,
   "metadata": {
    "source_collapsed": false
   },
   "outputs": [
    {
     "data": {
      "text/plain": [
       "172.97"
      ]
     },
     "execution_count": 67,
     "metadata": {},
     "output_type": "execute_result"
    }
   ],
   "source": [
    "# 情况 2 - 基于位置\n",
    "df.iat[2,1]"
   ]
  },
  {
   "cell_type": "markdown",
   "metadata": {},
   "source": [
    "两种**元素获取**方式的总结图如下：\n",
    "\n",
    "<img src=\"Select Scalar.png\" style=\"width:500px; height:350px;\">"
   ]
  },
  {
   "cell_type": "markdown",
   "metadata": {
    "source_collapsed": false
   },
   "source": [
    "### <font color='#2b4750' face='微软雅黑'>4.2 列获取</font><a name='4.2'></a>\n",
    "[<font color='black' face='微软雅黑'>回到章首</font>](#4)\n",
    "\n",
    "### <font color='blue' face='微软雅黑'>单列获取</font>\n",
    "\n",
    "单列获取会返回一个**序列 (Series)**，有以下四种情况。情况 1 用点 `.`；情况 2 用中括号 `[]`；情况 3 基于标签 `loc`，情况 4 基于位置 `iloc`。\n",
    "\n",
    "- **情况 1** - `df.attribute_i`\n",
    "- **情况 2** - `df['attribute_i']`\n",
    "- **情况 3** - `df.loc[ :, 'attribute_i' ]`\n",
    "- **情况 4** - `df.iloc[ :, i ]`\n",
    "\n",
    "情况 1 记住就可以了，但要列标签的字符串不能带空格，比如 `df.stock price` 会报错。 \n",
    "\n",
    "情况 2 非常像二维 numpy 数组的切片，用 `arr[i]` 就能获取 `arr` 在「轴 0」上的第 i-1 个元素 (一个 `1darray`)，同理 `df['attr_i']` 也能获取 `df` 的第 i-1 个序列。\n",
    "\n",
    "情况 3 和 4 的 `loc` 和 `iloc` 可类比于元素获取的 `at` 和 `iat`。带 i 的基于位置 (位置用整数表示，i 也泛指整数)，不带 i 的基于标签。里面的冒号 : 代表所有的行数 (和 numpy 数组里的冒号意思相同)。\n",
    "\n",
    "**个人建议，如果追求简洁和方便，用 `.` 和 `[]`；如果追求一致和清晰，用 `loc` 和 `iloc`。**"
   ]
  },
  {
   "cell_type": "code",
   "execution_count": 72,
   "metadata": {
    "source_collapsed": false
   },
   "outputs": [
    {
     "data": {
      "text/plain": [
       "代号\n",
       "BABA    176.92\n",
       "JD       25.95\n",
       "AAPL    172.97\n",
       "MS       41.79\n",
       "GS      196.00\n",
       "WMT      99.55\n",
       "Name: 价格, dtype: float64"
      ]
     },
     "execution_count": 72,
     "metadata": {},
     "output_type": "execute_result"
    }
   ],
   "source": [
    "# 情况 1 - 基于标签\n",
    "df.价格"
   ]
  },
  {
   "cell_type": "code",
   "execution_count": 69,
   "metadata": {
    "source_collapsed": false
   },
   "outputs": [
    {
     "data": {
      "text/plain": [
       "代号\n",
       "BABA    176.92\n",
       "JD       25.95\n",
       "AAPL    172.97\n",
       "MS       41.79\n",
       "GS      196.00\n",
       "WMT      99.55\n",
       "Name: 价格, dtype: float64"
      ]
     },
     "execution_count": 69,
     "metadata": {},
     "output_type": "execute_result"
    }
   ],
   "source": [
    "# 情况 2 - 基于标签\n",
    "df['价格']"
   ]
  },
  {
   "cell_type": "code",
   "execution_count": 70,
   "metadata": {
    "source_collapsed": false
   },
   "outputs": [
    {
     "data": {
      "text/plain": [
       "代号\n",
       "BABA    16175610\n",
       "JD      27113291\n",
       "AAPL    18913154\n",
       "MS      10132145\n",
       "GS       2626634\n",
       "WMT      8086946\n",
       "Name: 交易量, dtype: int64"
      ]
     },
     "execution_count": 70,
     "metadata": {},
     "output_type": "execute_result"
    }
   ],
   "source": [
    "# 情况 3 - 基于标签\n",
    "df.loc[:, '交易量']"
   ]
  },
  {
   "cell_type": "code",
   "execution_count": 71,
   "metadata": {
    "source_collapsed": false
   },
   "outputs": [
    {
     "data": {
      "text/plain": [
       "代号\n",
       "BABA    电商\n",
       "JD      电商\n",
       "AAPL    科技\n",
       "MS      金融\n",
       "GS      金融\n",
       "WMT     零售\n",
       "Name: 行业, dtype: object"
      ]
     },
     "execution_count": 71,
     "metadata": {},
     "output_type": "execute_result"
    }
   ],
   "source": [
    "# 情况 4 - 基于位置\n",
    "df.iloc[:, 0]"
   ]
  },
  {
   "cell_type": "markdown",
   "metadata": {},
   "source": [
    "四种**单列获取**方式的总结图如下：\n",
    "\n",
    "<img src=\"Select Single Variable.PNG\" style=\"width:800px; height:400px;\">"
   ]
  },
  {
   "cell_type": "markdown",
   "metadata": {
    "source_collapsed": false
   },
   "source": [
    "### <font color='blue' face='微软雅黑'>多列获取</font>\n",
    "\n",
    "多列获取会返回一个**子数据帧 (sub-DataFrame)**，有以下三种情况。情况 1 用中括号 `[]`；情况 2 基于标签 `loc`，情况 3 基于位置 `iloc`。\n",
    "\n",
    "- **情况 1** - `df[ ['attribute_i', 'attribute_j'] ]`\n",
    "- **情况 2** - `df.loc[ :, 'attribute_i':'attribute_j' ]`\n",
    "- **情况 3** - `df.iloc[ :, i:j ]`\n",
    "\n",
    "和单列获取相比：\n",
    "\n",
    "- 情况 1 用一个列表来储存一组列标签 `'attribute_i', 'attribute_j'`，然后在放进中括号 `[]` 里获取它们\n",
    "\n",
    "- 情况 2 用 `'attribute_i':'attribute_j'` 来获取从列标签 i 到 j 的子数据帧，里面的冒号 : 代表所有的行数。\n",
    "\n",
    "- 情况 3 用 `i:j` 来获取从第 i+1 到 j 列的子数据帧，里面的冒号 : 代表所有的行数。\n",
    "\n",
    "**个人建议，如果追求简洁和方便，用 `[]`；如果追求一致和清晰，用 `loc` 和 `iloc`。**"
   ]
  },
  {
   "cell_type": "code",
   "execution_count": 73,
   "metadata": {
    "source_collapsed": false
   },
   "outputs": [
    {
     "data": {
      "text/html": [
       "<div>\n",
       "<style scoped>\n",
       "    .dataframe tbody tr th:only-of-type {\n",
       "        vertical-align: middle;\n",
       "    }\n",
       "\n",
       "    .dataframe tbody tr th {\n",
       "        vertical-align: top;\n",
       "    }\n",
       "\n",
       "    .dataframe thead th {\n",
       "        text-align: right;\n",
       "    }\n",
       "</style>\n",
       "<table border=\"1\" class=\"dataframe\">\n",
       "  <thead>\n",
       "    <tr style=\"text-align: right;\">\n",
       "      <th></th>\n",
       "      <th>雇员</th>\n",
       "      <th>价格</th>\n",
       "    </tr>\n",
       "    <tr>\n",
       "      <th>代号</th>\n",
       "      <th></th>\n",
       "      <th></th>\n",
       "    </tr>\n",
       "  </thead>\n",
       "  <tbody>\n",
       "    <tr>\n",
       "      <th>BABA</th>\n",
       "      <td>101550</td>\n",
       "      <td>176.92</td>\n",
       "    </tr>\n",
       "    <tr>\n",
       "      <th>JD</th>\n",
       "      <td>175336</td>\n",
       "      <td>25.95</td>\n",
       "    </tr>\n",
       "    <tr>\n",
       "      <th>AAPL</th>\n",
       "      <td>100000</td>\n",
       "      <td>172.97</td>\n",
       "    </tr>\n",
       "    <tr>\n",
       "      <th>MS</th>\n",
       "      <td>60348</td>\n",
       "      <td>41.79</td>\n",
       "    </tr>\n",
       "    <tr>\n",
       "      <th>GS</th>\n",
       "      <td>36600</td>\n",
       "      <td>196.00</td>\n",
       "    </tr>\n",
       "    <tr>\n",
       "      <th>WMT</th>\n",
       "      <td>2200000</td>\n",
       "      <td>99.55</td>\n",
       "    </tr>\n",
       "  </tbody>\n",
       "</table>\n",
       "</div>"
      ],
      "text/plain": [
       "           雇员      价格\n",
       "代号                   \n",
       "BABA   101550  176.92\n",
       "JD     175336   25.95\n",
       "AAPL   100000  172.97\n",
       "MS      60348   41.79\n",
       "GS      36600  196.00\n",
       "WMT   2200000   99.55"
      ]
     },
     "execution_count": 73,
     "metadata": {},
     "output_type": "execute_result"
    }
   ],
   "source": [
    "# 情况 1 - 基于标签\n",
    "df[ ['雇员','价格'] ]"
   ]
  },
  {
   "cell_type": "code",
   "execution_count": 74,
   "metadata": {
    "source_collapsed": false
   },
   "outputs": [
    {
     "data": {
      "text/html": [
       "<div>\n",
       "<style scoped>\n",
       "    .dataframe tbody tr th:only-of-type {\n",
       "        vertical-align: middle;\n",
       "    }\n",
       "\n",
       "    .dataframe tbody tr th {\n",
       "        vertical-align: top;\n",
       "    }\n",
       "\n",
       "    .dataframe thead th {\n",
       "        text-align: right;\n",
       "    }\n",
       "</style>\n",
       "<table border=\"1\" class=\"dataframe\">\n",
       "  <thead>\n",
       "    <tr style=\"text-align: right;\">\n",
       "      <th></th>\n",
       "      <th>行业</th>\n",
       "      <th>价格</th>\n",
       "      <th>交易量</th>\n",
       "    </tr>\n",
       "    <tr>\n",
       "      <th>代号</th>\n",
       "      <th></th>\n",
       "      <th></th>\n",
       "      <th></th>\n",
       "    </tr>\n",
       "  </thead>\n",
       "  <tbody>\n",
       "    <tr>\n",
       "      <th>BABA</th>\n",
       "      <td>电商</td>\n",
       "      <td>176.92</td>\n",
       "      <td>16175610</td>\n",
       "    </tr>\n",
       "    <tr>\n",
       "      <th>JD</th>\n",
       "      <td>电商</td>\n",
       "      <td>25.95</td>\n",
       "      <td>27113291</td>\n",
       "    </tr>\n",
       "    <tr>\n",
       "      <th>AAPL</th>\n",
       "      <td>科技</td>\n",
       "      <td>172.97</td>\n",
       "      <td>18913154</td>\n",
       "    </tr>\n",
       "    <tr>\n",
       "      <th>MS</th>\n",
       "      <td>金融</td>\n",
       "      <td>41.79</td>\n",
       "      <td>10132145</td>\n",
       "    </tr>\n",
       "    <tr>\n",
       "      <th>GS</th>\n",
       "      <td>金融</td>\n",
       "      <td>196.00</td>\n",
       "      <td>2626634</td>\n",
       "    </tr>\n",
       "    <tr>\n",
       "      <th>WMT</th>\n",
       "      <td>零售</td>\n",
       "      <td>99.55</td>\n",
       "      <td>8086946</td>\n",
       "    </tr>\n",
       "  </tbody>\n",
       "</table>\n",
       "</div>"
      ],
      "text/plain": [
       "      行业      价格       交易量\n",
       "代号                        \n",
       "BABA  电商  176.92  16175610\n",
       "JD    电商   25.95  27113291\n",
       "AAPL  科技  172.97  18913154\n",
       "MS    金融   41.79  10132145\n",
       "GS    金融  196.00   2626634\n",
       "WMT   零售   99.55   8086946"
      ]
     },
     "execution_count": 74,
     "metadata": {},
     "output_type": "execute_result"
    }
   ],
   "source": [
    "# 情况 2 - 基于标签\n",
    "df.loc[:, '行业':'交易量']"
   ]
  },
  {
   "cell_type": "code",
   "execution_count": 75,
   "metadata": {
    "source_collapsed": false
   },
   "outputs": [
    {
     "data": {
      "text/html": [
       "<div>\n",
       "<style scoped>\n",
       "    .dataframe tbody tr th:only-of-type {\n",
       "        vertical-align: middle;\n",
       "    }\n",
       "\n",
       "    .dataframe tbody tr th {\n",
       "        vertical-align: top;\n",
       "    }\n",
       "\n",
       "    .dataframe thead th {\n",
       "        text-align: right;\n",
       "    }\n",
       "</style>\n",
       "<table border=\"1\" class=\"dataframe\">\n",
       "  <thead>\n",
       "    <tr style=\"text-align: right;\">\n",
       "      <th></th>\n",
       "      <th>行业</th>\n",
       "      <th>价格</th>\n",
       "    </tr>\n",
       "    <tr>\n",
       "      <th>代号</th>\n",
       "      <th></th>\n",
       "      <th></th>\n",
       "    </tr>\n",
       "  </thead>\n",
       "  <tbody>\n",
       "    <tr>\n",
       "      <th>BABA</th>\n",
       "      <td>电商</td>\n",
       "      <td>176.92</td>\n",
       "    </tr>\n",
       "    <tr>\n",
       "      <th>JD</th>\n",
       "      <td>电商</td>\n",
       "      <td>25.95</td>\n",
       "    </tr>\n",
       "    <tr>\n",
       "      <th>AAPL</th>\n",
       "      <td>科技</td>\n",
       "      <td>172.97</td>\n",
       "    </tr>\n",
       "    <tr>\n",
       "      <th>MS</th>\n",
       "      <td>金融</td>\n",
       "      <td>41.79</td>\n",
       "    </tr>\n",
       "    <tr>\n",
       "      <th>GS</th>\n",
       "      <td>金融</td>\n",
       "      <td>196.00</td>\n",
       "    </tr>\n",
       "    <tr>\n",
       "      <th>WMT</th>\n",
       "      <td>零售</td>\n",
       "      <td>99.55</td>\n",
       "    </tr>\n",
       "  </tbody>\n",
       "</table>\n",
       "</div>"
      ],
      "text/plain": [
       "      行业      价格\n",
       "代号              \n",
       "BABA  电商  176.92\n",
       "JD    电商   25.95\n",
       "AAPL  科技  172.97\n",
       "MS    金融   41.79\n",
       "GS    金融  196.00\n",
       "WMT   零售   99.55"
      ]
     },
     "execution_count": 75,
     "metadata": {},
     "output_type": "execute_result"
    }
   ],
   "source": [
    "# 情况 3 - 基于位置\n",
    "df.iloc[:, 0:2]"
   ]
  },
  {
   "cell_type": "markdown",
   "metadata": {},
   "source": [
    "三种**多列获取**方式的总结图如下：\n",
    "\n",
    "<img src=\"Select Multiple Variables.PNG\" style=\"width:800px; height:400px;\">"
   ]
  },
  {
   "cell_type": "markdown",
   "metadata": {
    "source_collapsed": false
   },
   "source": [
    "### <font color='#2b4750' face='微软雅黑'>4.3 行获取</font><a name='4.3'></a>\n",
    "[<font color='black' face='微软雅黑'>回到章首</font>](#4)\n",
    "\n",
    "### <font color='blue' face='微软雅黑'>单行获取</font>\n",
    "\n",
    "单行获取有时会返回**序列**，有以下两种情况。情况 1 基于标签 `loc`，情况 2 基于位置 `iloc`。\n",
    "\n",
    "- **情况 1** - `df.loc[ 'index_i', : ]`\n",
    "- **情况 2** - `df.iloc[ i, : ]`\n",
    "\n",
    "单行获取有时会返回只有一行的**数据帧**，有以下两种情况。情况 3 用中括号 `[]` 加「行标签」，情况 4 用中括号 `[]` 加「行位置」。\n",
    "\n",
    "- **情况 3** - `df[ 'index_i':'index_i' ]`\n",
    "- **情况 4** - `df[ i:i+1 ]`\n",
    "\n",
    "情况 1 和 2 的 `loc` 和 `iloc` 可类比于元素获取的 `at` 和 `iat`。带 i 的基于位置 (位置用整数表示，i 也泛指整数)，不带 i 的基于标签。里面的冒号 : 代表所有的列数 (和 numpy 数组里的冒号意思相同)。\n",
    "\n",
    "情况 3 用中括号 `[]` 加「行标签」，标签没有前闭后开的性质。如果要获取标签 i，只需要用 `'idx_i':'idx_i'`。为什么不能只用 `'idx_i'` 呢？原因是 Python 会把 `df['idx_i']` 优先当成**单列获取**的操作，发现列标签中没有 `'idx_i'` 这一字符串进而报错。\n",
    "\n",
    "情况 4 用中括号 `[]` 加「行位置」，位置 i:i+1 有前闭后开的性质。如果要获取第 i+1 行，需要用 i:i+1。\n",
    "\n",
    "**个人建议，只用 `loc` 和 `iloc`。情况 3 的 `df['idx_i']` 很容易和单列获取的语句 `df['attribute_j']` 混淆。情况 4 太麻烦，获取一行还要用 `i:i+1`。**"
   ]
  },
  {
   "cell_type": "code",
   "execution_count": 81,
   "metadata": {
    "source_collapsed": false
   },
   "outputs": [
    {
     "data": {
      "text/plain": [
       "行业          金融\n",
       "价格         196\n",
       "交易量    2626634\n",
       "雇员       36600\n",
       "Name: GS, dtype: object"
      ]
     },
     "execution_count": 81,
     "metadata": {},
     "output_type": "execute_result"
    }
   ],
   "source": [
    "# 情况 1 - 基于标签\n",
    "df.loc[ 'GS', : ]"
   ]
  },
  {
   "cell_type": "code",
   "execution_count": 82,
   "metadata": {},
   "outputs": [
    {
     "name": "stdout",
     "output_type": "stream",
     "text": [
      "<class 'pandas.core.series.Series'>\n"
     ]
    }
   ],
   "source": [
    "print( type(df.loc[ 'GS', : ]) )"
   ]
  },
  {
   "cell_type": "code",
   "execution_count": 77,
   "metadata": {
    "source_collapsed": false
   },
   "outputs": [
    {
     "data": {
      "text/plain": [
       "行业           金融\n",
       "价格        41.79\n",
       "交易量    10132145\n",
       "雇员        60348\n",
       "Name: MS, dtype: object"
      ]
     },
     "execution_count": 77,
     "metadata": {},
     "output_type": "execute_result"
    }
   ],
   "source": [
    "# 情况 2 - 基于位置\n",
    "df.iloc[ 3, : ]"
   ]
  },
  {
   "cell_type": "code",
   "execution_count": 83,
   "metadata": {},
   "outputs": [
    {
     "name": "stdout",
     "output_type": "stream",
     "text": [
      "<class 'pandas.core.series.Series'>\n"
     ]
    }
   ],
   "source": [
    "print( type(df.iloc[ 3, : ]) )"
   ]
  },
  {
   "cell_type": "code",
   "execution_count": 79,
   "metadata": {
    "source_collapsed": false
   },
   "outputs": [
    {
     "data": {
      "text/html": [
       "<div>\n",
       "<style scoped>\n",
       "    .dataframe tbody tr th:only-of-type {\n",
       "        vertical-align: middle;\n",
       "    }\n",
       "\n",
       "    .dataframe tbody tr th {\n",
       "        vertical-align: top;\n",
       "    }\n",
       "\n",
       "    .dataframe thead th {\n",
       "        text-align: right;\n",
       "    }\n",
       "</style>\n",
       "<table border=\"1\" class=\"dataframe\">\n",
       "  <thead>\n",
       "    <tr style=\"text-align: right;\">\n",
       "      <th></th>\n",
       "      <th>行业</th>\n",
       "      <th>价格</th>\n",
       "      <th>交易量</th>\n",
       "      <th>雇员</th>\n",
       "    </tr>\n",
       "    <tr>\n",
       "      <th>代号</th>\n",
       "      <th></th>\n",
       "      <th></th>\n",
       "      <th></th>\n",
       "      <th></th>\n",
       "    </tr>\n",
       "  </thead>\n",
       "  <tbody>\n",
       "    <tr>\n",
       "      <th>JD</th>\n",
       "      <td>电商</td>\n",
       "      <td>25.95</td>\n",
       "      <td>27113291</td>\n",
       "      <td>175336</td>\n",
       "    </tr>\n",
       "  </tbody>\n",
       "</table>\n",
       "</div>"
      ],
      "text/plain": [
       "    行业     价格       交易量      雇员\n",
       "代号                             \n",
       "JD  电商  25.95  27113291  175336"
      ]
     },
     "execution_count": 79,
     "metadata": {},
     "output_type": "execute_result"
    }
   ],
   "source": [
    "# 情况 3 - 基于标签\n",
    "df['JD':'JD']"
   ]
  },
  {
   "cell_type": "code",
   "execution_count": 85,
   "metadata": {},
   "outputs": [
    {
     "name": "stdout",
     "output_type": "stream",
     "text": [
      "<class 'pandas.core.frame.DataFrame'>\n"
     ]
    }
   ],
   "source": [
    "print( type(df['JD':'JD']) )"
   ]
  },
  {
   "cell_type": "code",
   "execution_count": 78,
   "metadata": {
    "source_collapsed": false
   },
   "outputs": [
    {
     "data": {
      "text/html": [
       "<div>\n",
       "<style scoped>\n",
       "    .dataframe tbody tr th:only-of-type {\n",
       "        vertical-align: middle;\n",
       "    }\n",
       "\n",
       "    .dataframe tbody tr th {\n",
       "        vertical-align: top;\n",
       "    }\n",
       "\n",
       "    .dataframe thead th {\n",
       "        text-align: right;\n",
       "    }\n",
       "</style>\n",
       "<table border=\"1\" class=\"dataframe\">\n",
       "  <thead>\n",
       "    <tr style=\"text-align: right;\">\n",
       "      <th></th>\n",
       "      <th>行业</th>\n",
       "      <th>价格</th>\n",
       "      <th>交易量</th>\n",
       "      <th>雇员</th>\n",
       "    </tr>\n",
       "    <tr>\n",
       "      <th>代号</th>\n",
       "      <th></th>\n",
       "      <th></th>\n",
       "      <th></th>\n",
       "      <th></th>\n",
       "    </tr>\n",
       "  </thead>\n",
       "  <tbody>\n",
       "    <tr>\n",
       "      <th>JD</th>\n",
       "      <td>电商</td>\n",
       "      <td>25.95</td>\n",
       "      <td>27113291</td>\n",
       "      <td>175336</td>\n",
       "    </tr>\n",
       "  </tbody>\n",
       "</table>\n",
       "</div>"
      ],
      "text/plain": [
       "    行业     价格       交易量      雇员\n",
       "代号                             \n",
       "JD  电商  25.95  27113291  175336"
      ]
     },
     "execution_count": 78,
     "metadata": {},
     "output_type": "execute_result"
    }
   ],
   "source": [
    "# 情况 4 - 基于位置\n",
    "df[1:2]"
   ]
  },
  {
   "cell_type": "code",
   "execution_count": 84,
   "metadata": {},
   "outputs": [
    {
     "name": "stdout",
     "output_type": "stream",
     "text": [
      "<class 'pandas.core.frame.DataFrame'>\n"
     ]
    }
   ],
   "source": [
    "print( type(df[1:2]) )"
   ]
  },
  {
   "cell_type": "markdown",
   "metadata": {},
   "source": [
    "四种**单行获取**方式的总结图如下：\n",
    "\n",
    "<img src=\"Select Single Observation.PNG\" style=\"width:800px; height:400px;\">"
   ]
  },
  {
   "cell_type": "markdown",
   "metadata": {
    "source_collapsed": false
   },
   "source": [
    "### <font color='blue' face='微软雅黑'>多行获取</font>\n",
    "\n",
    "多行获取会返回一个**子数据帧 (sub-DataFrame)**，有以下四种情况。情况 1 基于标签 `loc`，情况 2 基于位置 `iloc`，情况 3 用中括号 `[]` 加「行标签」，情况 4 用中括号 `[]` 加「行位置」。\n",
    "\n",
    "- **情况 1** - `df.loc[ 'index_i':'index_j', : ]`\n",
    "- **情况 2** - `df.iloc[ i:j, : ]`\n",
    "- **情况 3** - `df[ 'index_i':'index_j' ]`\n",
    "- **情况 4** - `df[ i:j ]`\n",
    "\n",
    "和单行获取相比：\n",
    "\n",
    "- 情况 1 用 `loc` 加 `'index_i':'index_j'` 来获取从行标签 i 到 j 的子数据帧\n",
    "- 情况 2 用 `iloc` 加 `i:j` 来获取第 i+1 到 j 行的子数据帧\n",
    "- 情况 3 用 `['index_i':'index_j']` 来获取行标签 i 到 j 的子数据帧\n",
    "- 情况 4 用 `[i:j]` 来获取第 i+1 到 j 行的子数据帧\n",
    "\n",
    "**个人建议，只用 `loc` 和 `iloc`。情况 1 和 2 的 `df[]` 很容易混淆中括号 `[]` 里的到底是在做行获取还是列获取。**"
   ]
  },
  {
   "cell_type": "code",
   "execution_count": 61,
   "metadata": {
    "source_collapsed": false
   },
   "outputs": [
    {
     "data": {
      "text/html": [
       "<div>\n",
       "<style scoped>\n",
       "    .dataframe tbody tr th:only-of-type {\n",
       "        vertical-align: middle;\n",
       "    }\n",
       "\n",
       "    .dataframe tbody tr th {\n",
       "        vertical-align: top;\n",
       "    }\n",
       "\n",
       "    .dataframe thead th {\n",
       "        text-align: right;\n",
       "    }\n",
       "</style>\n",
       "<table border=\"1\" class=\"dataframe\">\n",
       "  <thead>\n",
       "    <tr style=\"text-align: right;\">\n",
       "      <th></th>\n",
       "      <th>行业</th>\n",
       "      <th>价格</th>\n",
       "      <th>交易量</th>\n",
       "      <th>雇员</th>\n",
       "    </tr>\n",
       "    <tr>\n",
       "      <th>代号</th>\n",
       "      <th></th>\n",
       "      <th></th>\n",
       "      <th></th>\n",
       "      <th></th>\n",
       "    </tr>\n",
       "  </thead>\n",
       "  <tbody>\n",
       "    <tr>\n",
       "      <th>MS</th>\n",
       "      <td>金融</td>\n",
       "      <td>41.79</td>\n",
       "      <td>10132145</td>\n",
       "      <td>60348</td>\n",
       "    </tr>\n",
       "    <tr>\n",
       "      <th>GS</th>\n",
       "      <td>金融</td>\n",
       "      <td>196.00</td>\n",
       "      <td>2626634</td>\n",
       "      <td>36600</td>\n",
       "    </tr>\n",
       "  </tbody>\n",
       "</table>\n",
       "</div>"
      ],
      "text/plain": [
       "    行业      价格       交易量     雇员\n",
       "代号                             \n",
       "MS  金融   41.79  10132145  60348\n",
       "GS  金融  196.00   2626634  36600"
      ]
     },
     "execution_count": 61,
     "metadata": {},
     "output_type": "execute_result"
    }
   ],
   "source": [
    "# 情况 1 - 基于标签\n",
    "df.loc[ 'MS':'GS', : ]"
   ]
  },
  {
   "cell_type": "code",
   "execution_count": 62,
   "metadata": {
    "source_collapsed": false
   },
   "outputs": [
    {
     "data": {
      "text/html": [
       "<div>\n",
       "<style scoped>\n",
       "    .dataframe tbody tr th:only-of-type {\n",
       "        vertical-align: middle;\n",
       "    }\n",
       "\n",
       "    .dataframe tbody tr th {\n",
       "        vertical-align: top;\n",
       "    }\n",
       "\n",
       "    .dataframe thead th {\n",
       "        text-align: right;\n",
       "    }\n",
       "</style>\n",
       "<table border=\"1\" class=\"dataframe\">\n",
       "  <thead>\n",
       "    <tr style=\"text-align: right;\">\n",
       "      <th></th>\n",
       "      <th>行业</th>\n",
       "      <th>价格</th>\n",
       "      <th>交易量</th>\n",
       "      <th>雇员</th>\n",
       "    </tr>\n",
       "    <tr>\n",
       "      <th>代号</th>\n",
       "      <th></th>\n",
       "      <th></th>\n",
       "      <th></th>\n",
       "      <th></th>\n",
       "    </tr>\n",
       "  </thead>\n",
       "  <tbody>\n",
       "    <tr>\n",
       "      <th>JD</th>\n",
       "      <td>电商</td>\n",
       "      <td>25.95</td>\n",
       "      <td>27113291</td>\n",
       "      <td>175336</td>\n",
       "    </tr>\n",
       "    <tr>\n",
       "      <th>AAPL</th>\n",
       "      <td>科技</td>\n",
       "      <td>172.97</td>\n",
       "      <td>18913154</td>\n",
       "      <td>100000</td>\n",
       "    </tr>\n",
       "  </tbody>\n",
       "</table>\n",
       "</div>"
      ],
      "text/plain": [
       "      行业      价格       交易量      雇员\n",
       "代号                                \n",
       "JD    电商   25.95  27113291  175336\n",
       "AAPL  科技  172.97  18913154  100000"
      ]
     },
     "execution_count": 62,
     "metadata": {},
     "output_type": "execute_result"
    }
   ],
   "source": [
    "# 情况 2 - 基于位置\n",
    "df.iloc[ 1:3, : ]"
   ]
  },
  {
   "cell_type": "code",
   "execution_count": 60,
   "metadata": {
    "source_collapsed": false
   },
   "outputs": [
    {
     "data": {
      "text/html": [
       "<div>\n",
       "<style scoped>\n",
       "    .dataframe tbody tr th:only-of-type {\n",
       "        vertical-align: middle;\n",
       "    }\n",
       "\n",
       "    .dataframe tbody tr th {\n",
       "        vertical-align: top;\n",
       "    }\n",
       "\n",
       "    .dataframe thead th {\n",
       "        text-align: right;\n",
       "    }\n",
       "</style>\n",
       "<table border=\"1\" class=\"dataframe\">\n",
       "  <thead>\n",
       "    <tr style=\"text-align: right;\">\n",
       "      <th></th>\n",
       "      <th>行业</th>\n",
       "      <th>价格</th>\n",
       "      <th>交易量</th>\n",
       "      <th>雇员</th>\n",
       "    </tr>\n",
       "    <tr>\n",
       "      <th>代号</th>\n",
       "      <th></th>\n",
       "      <th></th>\n",
       "      <th></th>\n",
       "      <th></th>\n",
       "    </tr>\n",
       "  </thead>\n",
       "  <tbody>\n",
       "    <tr>\n",
       "      <th>GS</th>\n",
       "      <td>金融</td>\n",
       "      <td>196.00</td>\n",
       "      <td>2626634</td>\n",
       "      <td>36600</td>\n",
       "    </tr>\n",
       "    <tr>\n",
       "      <th>WMT</th>\n",
       "      <td>零售</td>\n",
       "      <td>99.55</td>\n",
       "      <td>8086946</td>\n",
       "      <td>2200000</td>\n",
       "    </tr>\n",
       "  </tbody>\n",
       "</table>\n",
       "</div>"
      ],
      "text/plain": [
       "     行业      价格      交易量       雇员\n",
       "代号                               \n",
       "GS   金融  196.00  2626634    36600\n",
       "WMT  零售   99.55  8086946  2200000"
      ]
     },
     "execution_count": 60,
     "metadata": {},
     "output_type": "execute_result"
    }
   ],
   "source": [
    "# 情况 3 - 基于标签\n",
    "df[ 'GS':'WMT' ]"
   ]
  },
  {
   "cell_type": "code",
   "execution_count": 59,
   "metadata": {
    "source_collapsed": false
   },
   "outputs": [
    {
     "data": {
      "text/html": [
       "<div>\n",
       "<style scoped>\n",
       "    .dataframe tbody tr th:only-of-type {\n",
       "        vertical-align: middle;\n",
       "    }\n",
       "\n",
       "    .dataframe tbody tr th {\n",
       "        vertical-align: top;\n",
       "    }\n",
       "\n",
       "    .dataframe thead th {\n",
       "        text-align: right;\n",
       "    }\n",
       "</style>\n",
       "<table border=\"1\" class=\"dataframe\">\n",
       "  <thead>\n",
       "    <tr style=\"text-align: right;\">\n",
       "      <th></th>\n",
       "      <th>行业</th>\n",
       "      <th>价格</th>\n",
       "      <th>交易量</th>\n",
       "      <th>雇员</th>\n",
       "    </tr>\n",
       "    <tr>\n",
       "      <th>代号</th>\n",
       "      <th></th>\n",
       "      <th></th>\n",
       "      <th></th>\n",
       "      <th></th>\n",
       "    </tr>\n",
       "  </thead>\n",
       "  <tbody>\n",
       "    <tr>\n",
       "      <th>JD</th>\n",
       "      <td>电商</td>\n",
       "      <td>25.95</td>\n",
       "      <td>27113291</td>\n",
       "      <td>175336</td>\n",
       "    </tr>\n",
       "    <tr>\n",
       "      <th>AAPL</th>\n",
       "      <td>科技</td>\n",
       "      <td>172.97</td>\n",
       "      <td>18913154</td>\n",
       "      <td>100000</td>\n",
       "    </tr>\n",
       "    <tr>\n",
       "      <th>MS</th>\n",
       "      <td>金融</td>\n",
       "      <td>41.79</td>\n",
       "      <td>10132145</td>\n",
       "      <td>60348</td>\n",
       "    </tr>\n",
       "  </tbody>\n",
       "</table>\n",
       "</div>"
      ],
      "text/plain": [
       "      行业      价格       交易量      雇员\n",
       "代号                                \n",
       "JD    电商   25.95  27113291  175336\n",
       "AAPL  科技  172.97  18913154  100000\n",
       "MS    金融   41.79  10132145   60348"
      ]
     },
     "execution_count": 59,
     "metadata": {},
     "output_type": "execute_result"
    }
   ],
   "source": [
    "# 情况 4 - 基于位置\n",
    "df[ 1:4 ]"
   ]
  },
  {
   "cell_type": "markdown",
   "metadata": {},
   "source": [
    "四种**多行获取**方式的总结图如下：\n",
    "\n",
    "<img src=\"Select Multiple Observations.PNG\" style=\"width:900px; height:450px;\">"
   ]
  },
  {
   "cell_type": "markdown",
   "metadata": {
    "source_collapsed": false
   },
   "source": [
    "### <font color='#2b4750' face='微软雅黑'>4.4 块获取</font><a name='4.4'></a>\n",
    "[<font color='black' face='微软雅黑'>回到章首</font>](#4)\n",
    "\n",
    "块获取会返回一个**子数据帧 (sub-DataFrame)**，有以下两种情况。情况 1 基于标签 `loc`，情况 2 基于位置 `iloc`。\n",
    "\n",
    "- **情况 1** - `df.loc[ 'index_i':'index_j', 'attribute_k':'attribute_l' ]`\n",
    "- **情况 2** - `df.iloc[ i:j, k:l ]`\n",
    "\n",
    "情况 1 用 `loc` 加 `'index_i':'index_j', 'attribute_k':'attribute_l'` 来获取从行标签 i 到 j 和列标签 k 到 l 的子数据帧。\n",
    "\n",
    "情况 2 用 `iloc` 加 `i:j, k:l` 来获取第 i+1 到 j 行和第 k+1 到 l 列的子数据帧。"
   ]
  },
  {
   "cell_type": "code",
   "execution_count": 63,
   "metadata": {
    "source_collapsed": false
   },
   "outputs": [
    {
     "data": {
      "text/html": [
       "<div>\n",
       "<style scoped>\n",
       "    .dataframe tbody tr th:only-of-type {\n",
       "        vertical-align: middle;\n",
       "    }\n",
       "\n",
       "    .dataframe tbody tr th {\n",
       "        vertical-align: top;\n",
       "    }\n",
       "\n",
       "    .dataframe thead th {\n",
       "        text-align: right;\n",
       "    }\n",
       "</style>\n",
       "<table border=\"1\" class=\"dataframe\">\n",
       "  <thead>\n",
       "    <tr style=\"text-align: right;\">\n",
       "      <th></th>\n",
       "      <th>价格</th>\n",
       "      <th>交易量</th>\n",
       "      <th>雇员</th>\n",
       "    </tr>\n",
       "    <tr>\n",
       "      <th>代号</th>\n",
       "      <th></th>\n",
       "      <th></th>\n",
       "      <th></th>\n",
       "    </tr>\n",
       "  </thead>\n",
       "  <tbody>\n",
       "    <tr>\n",
       "      <th>GS</th>\n",
       "      <td>196.00</td>\n",
       "      <td>2626634</td>\n",
       "      <td>36600</td>\n",
       "    </tr>\n",
       "    <tr>\n",
       "      <th>WMT</th>\n",
       "      <td>99.55</td>\n",
       "      <td>8086946</td>\n",
       "      <td>2200000</td>\n",
       "    </tr>\n",
       "  </tbody>\n",
       "</table>\n",
       "</div>"
      ],
      "text/plain": [
       "         价格      交易量       雇员\n",
       "代号                           \n",
       "GS   196.00  2626634    36600\n",
       "WMT   99.55  8086946  2200000"
      ]
     },
     "execution_count": 63,
     "metadata": {},
     "output_type": "execute_result"
    }
   ],
   "source": [
    "# 情况 1 - 基于标签\n",
    "df.loc[ 'GS':'WMT', '价格': ]"
   ]
  },
  {
   "cell_type": "code",
   "execution_count": 64,
   "metadata": {
    "source_collapsed": false
   },
   "outputs": [
    {
     "data": {
      "text/html": [
       "<div>\n",
       "<style scoped>\n",
       "    .dataframe tbody tr th:only-of-type {\n",
       "        vertical-align: middle;\n",
       "    }\n",
       "\n",
       "    .dataframe tbody tr th {\n",
       "        vertical-align: top;\n",
       "    }\n",
       "\n",
       "    .dataframe thead th {\n",
       "        text-align: right;\n",
       "    }\n",
       "</style>\n",
       "<table border=\"1\" class=\"dataframe\">\n",
       "  <thead>\n",
       "    <tr style=\"text-align: right;\">\n",
       "      <th></th>\n",
       "      <th>价格</th>\n",
       "      <th>交易量</th>\n",
       "    </tr>\n",
       "    <tr>\n",
       "      <th>代号</th>\n",
       "      <th></th>\n",
       "      <th></th>\n",
       "    </tr>\n",
       "  </thead>\n",
       "  <tbody>\n",
       "    <tr>\n",
       "      <th>BABA</th>\n",
       "      <td>176.92</td>\n",
       "      <td>16175610</td>\n",
       "    </tr>\n",
       "    <tr>\n",
       "      <th>JD</th>\n",
       "      <td>25.95</td>\n",
       "      <td>27113291</td>\n",
       "    </tr>\n",
       "  </tbody>\n",
       "</table>\n",
       "</div>"
      ],
      "text/plain": [
       "          价格       交易量\n",
       "代号                    \n",
       "BABA  176.92  16175610\n",
       "JD     25.95  27113291"
      ]
     },
     "execution_count": 64,
     "metadata": {},
     "output_type": "execute_result"
    }
   ],
   "source": [
    "# 情况 2 - 基于位置\n",
    "df.iloc[ :2, 1:3 ]"
   ]
  },
  {
   "cell_type": "markdown",
   "metadata": {},
   "source": [
    "两种**块获取**方式的总结图如下：\n",
    "\n",
    "<img src=\"Select Variables and Observations.PNG\" style=\"width:800px; height:350px;\">"
   ]
  },
  {
   "cell_type": "markdown",
   "metadata": {
    "source_collapsed": false
   },
   "source": [
    "### <font color='#2b4750' face='微软雅黑'>4.5 高级获取</font><a name='4.5'></a>\n",
    "[<font color='black' face='微软雅黑'>回到章首</font>](#4)\n",
    "\n",
    "高级获取方式可以用**布尔索引** (boolean indexing) 和**调用对象** (callable object) 来实现，两种方法都返回一组“正确”的索引，而且可以和 `loc`, `iloc`, `[]` 一起套用，具体形式有以下常见几种：\n",
    "\n",
    "    df.loc[ bool_index, : ] \n",
    "    df.iloc [bool_index, : ] \n",
    "    df[ bool_index ] \n",
    "    df.loc[ callable_obj, : ]  \n",
    "    df.iloc[ callable_obj, : ] \n",
    "    df[ callable_obj ] \n",
    "\n",
    "还有以下罕见几种：\n",
    "\n",
    "    df.loc[ :, bool_index ] \n",
    "    df.iloc[ :, bool_index ] \n",
    "    df.loc[ :, callable_obj ]  \n",
    "    df.iloc[ :, callable_obj ] \n",
    "\n",
    "为什么第一组形式「常见」而第二组形式「罕见」呢？ 看看两组里冒号 `:` 在不同位置，再想想数据帧每一行和每一列中数据的特点。\n",
    "\n",
    "### <font color='blue' face='微软雅黑'>用布尔索引来获取</font>\n",
    "\n",
    "假设要筛选出雇员大于 100,000 人的公司，可以用 `loc` 加上布尔索引 `df.Employee >= 100000`。"
   ]
  },
  {
   "cell_type": "code",
   "execution_count": 86,
   "metadata": {
    "source_collapsed": false
   },
   "outputs": [
    {
     "name": "stdout",
     "output_type": "stream",
     "text": [
      "代号\n",
      "BABA     True\n",
      "JD       True\n",
      "AAPL     True\n",
      "MS      False\n",
      "GS      False\n",
      "WMT      True\n",
      "Name: 雇员, dtype: bool\n"
     ]
    },
    {
     "data": {
      "text/html": [
       "<div>\n",
       "<style scoped>\n",
       "    .dataframe tbody tr th:only-of-type {\n",
       "        vertical-align: middle;\n",
       "    }\n",
       "\n",
       "    .dataframe tbody tr th {\n",
       "        vertical-align: top;\n",
       "    }\n",
       "\n",
       "    .dataframe thead th {\n",
       "        text-align: right;\n",
       "    }\n",
       "</style>\n",
       "<table border=\"1\" class=\"dataframe\">\n",
       "  <thead>\n",
       "    <tr style=\"text-align: right;\">\n",
       "      <th></th>\n",
       "      <th>行业</th>\n",
       "      <th>价格</th>\n",
       "      <th>交易量</th>\n",
       "      <th>雇员</th>\n",
       "    </tr>\n",
       "    <tr>\n",
       "      <th>代号</th>\n",
       "      <th></th>\n",
       "      <th></th>\n",
       "      <th></th>\n",
       "      <th></th>\n",
       "    </tr>\n",
       "  </thead>\n",
       "  <tbody>\n",
       "    <tr>\n",
       "      <th>BABA</th>\n",
       "      <td>电商</td>\n",
       "      <td>176.92</td>\n",
       "      <td>16175610</td>\n",
       "      <td>101550</td>\n",
       "    </tr>\n",
       "    <tr>\n",
       "      <th>JD</th>\n",
       "      <td>电商</td>\n",
       "      <td>25.95</td>\n",
       "      <td>27113291</td>\n",
       "      <td>175336</td>\n",
       "    </tr>\n",
       "    <tr>\n",
       "      <th>AAPL</th>\n",
       "      <td>科技</td>\n",
       "      <td>172.97</td>\n",
       "      <td>18913154</td>\n",
       "      <td>100000</td>\n",
       "    </tr>\n",
       "    <tr>\n",
       "      <th>WMT</th>\n",
       "      <td>零售</td>\n",
       "      <td>99.55</td>\n",
       "      <td>8086946</td>\n",
       "      <td>2200000</td>\n",
       "    </tr>\n",
       "  </tbody>\n",
       "</table>\n",
       "</div>"
      ],
      "text/plain": [
       "      行业      价格       交易量       雇员\n",
       "代号                                 \n",
       "BABA  电商  176.92  16175610   101550\n",
       "JD    电商   25.95  27113291   175336\n",
       "AAPL  科技  172.97  18913154   100000\n",
       "WMT   零售   99.55   8086946  2200000"
      ]
     },
     "execution_count": 86,
     "metadata": {},
     "output_type": "execute_result"
    }
   ],
   "source": [
    "print( df.雇员 >= 100000 )\n",
    "df.loc[ df.雇员 >= 100000, : ]"
   ]
  },
  {
   "cell_type": "markdown",
   "metadata": {},
   "source": [
    "一种更简便的表达形式是用 `df[]`，但使用的时候心里要明确这是在做「列获取」而不是「行获取」。"
   ]
  },
  {
   "cell_type": "code",
   "execution_count": 87,
   "metadata": {
    "source_collapsed": false
   },
   "outputs": [
    {
     "data": {
      "text/html": [
       "<div>\n",
       "<style scoped>\n",
       "    .dataframe tbody tr th:only-of-type {\n",
       "        vertical-align: middle;\n",
       "    }\n",
       "\n",
       "    .dataframe tbody tr th {\n",
       "        vertical-align: top;\n",
       "    }\n",
       "\n",
       "    .dataframe thead th {\n",
       "        text-align: right;\n",
       "    }\n",
       "</style>\n",
       "<table border=\"1\" class=\"dataframe\">\n",
       "  <thead>\n",
       "    <tr style=\"text-align: right;\">\n",
       "      <th></th>\n",
       "      <th>行业</th>\n",
       "      <th>价格</th>\n",
       "      <th>交易量</th>\n",
       "      <th>雇员</th>\n",
       "    </tr>\n",
       "    <tr>\n",
       "      <th>代号</th>\n",
       "      <th></th>\n",
       "      <th></th>\n",
       "      <th></th>\n",
       "      <th></th>\n",
       "    </tr>\n",
       "  </thead>\n",
       "  <tbody>\n",
       "    <tr>\n",
       "      <th>BABA</th>\n",
       "      <td>电商</td>\n",
       "      <td>176.92</td>\n",
       "      <td>16175610</td>\n",
       "      <td>101550</td>\n",
       "    </tr>\n",
       "    <tr>\n",
       "      <th>JD</th>\n",
       "      <td>电商</td>\n",
       "      <td>25.95</td>\n",
       "      <td>27113291</td>\n",
       "      <td>175336</td>\n",
       "    </tr>\n",
       "    <tr>\n",
       "      <th>AAPL</th>\n",
       "      <td>科技</td>\n",
       "      <td>172.97</td>\n",
       "      <td>18913154</td>\n",
       "      <td>100000</td>\n",
       "    </tr>\n",
       "    <tr>\n",
       "      <th>WMT</th>\n",
       "      <td>零售</td>\n",
       "      <td>99.55</td>\n",
       "      <td>8086946</td>\n",
       "      <td>2200000</td>\n",
       "    </tr>\n",
       "  </tbody>\n",
       "</table>\n",
       "</div>"
      ],
      "text/plain": [
       "      行业      价格       交易量       雇员\n",
       "代号                                 \n",
       "BABA  电商  176.92  16175610   101550\n",
       "JD    电商   25.95  27113291   175336\n",
       "AAPL  科技  172.97  18913154   100000\n",
       "WMT   零售   99.55   8086946  2200000"
      ]
     },
     "execution_count": 87,
     "metadata": {},
     "output_type": "execute_result"
    }
   ],
   "source": [
    "df[ df.雇员 >= 100000 ]"
   ]
  },
  {
   "cell_type": "markdown",
   "metadata": {
    "source_collapsed": false
   },
   "source": [
    "再来看一个「罕见」例子，假如想找到包含整数类型的值的所有列，用布尔索引 `df.dtypes == 'int64'`。"
   ]
  },
  {
   "cell_type": "code",
   "execution_count": 88,
   "metadata": {
    "source_collapsed": false
   },
   "outputs": [
    {
     "name": "stdout",
     "output_type": "stream",
     "text": [
      "行业     False\n",
      "价格     False\n",
      "交易量     True\n",
      "雇员      True\n",
      "dtype: bool\n"
     ]
    },
    {
     "data": {
      "text/html": [
       "<div>\n",
       "<style scoped>\n",
       "    .dataframe tbody tr th:only-of-type {\n",
       "        vertical-align: middle;\n",
       "    }\n",
       "\n",
       "    .dataframe tbody tr th {\n",
       "        vertical-align: top;\n",
       "    }\n",
       "\n",
       "    .dataframe thead th {\n",
       "        text-align: right;\n",
       "    }\n",
       "</style>\n",
       "<table border=\"1\" class=\"dataframe\">\n",
       "  <thead>\n",
       "    <tr style=\"text-align: right;\">\n",
       "      <th></th>\n",
       "      <th>交易量</th>\n",
       "      <th>雇员</th>\n",
       "    </tr>\n",
       "    <tr>\n",
       "      <th>代号</th>\n",
       "      <th></th>\n",
       "      <th></th>\n",
       "    </tr>\n",
       "  </thead>\n",
       "  <tbody>\n",
       "    <tr>\n",
       "      <th>BABA</th>\n",
       "      <td>16175610</td>\n",
       "      <td>101550</td>\n",
       "    </tr>\n",
       "    <tr>\n",
       "      <th>JD</th>\n",
       "      <td>27113291</td>\n",
       "      <td>175336</td>\n",
       "    </tr>\n",
       "    <tr>\n",
       "      <th>AAPL</th>\n",
       "      <td>18913154</td>\n",
       "      <td>100000</td>\n",
       "    </tr>\n",
       "    <tr>\n",
       "      <th>MS</th>\n",
       "      <td>10132145</td>\n",
       "      <td>60348</td>\n",
       "    </tr>\n",
       "    <tr>\n",
       "      <th>GS</th>\n",
       "      <td>2626634</td>\n",
       "      <td>36600</td>\n",
       "    </tr>\n",
       "    <tr>\n",
       "      <th>WMT</th>\n",
       "      <td>8086946</td>\n",
       "      <td>2200000</td>\n",
       "    </tr>\n",
       "  </tbody>\n",
       "</table>\n",
       "</div>"
      ],
      "text/plain": [
       "           交易量       雇员\n",
       "代号                     \n",
       "BABA  16175610   101550\n",
       "JD    27113291   175336\n",
       "AAPL  18913154   100000\n",
       "MS    10132145    60348\n",
       "GS     2626634    36600\n",
       "WMT    8086946  2200000"
      ]
     },
     "execution_count": 88,
     "metadata": {},
     "output_type": "execute_result"
    }
   ],
   "source": [
    "print( df.dtypes == 'int64' )\n",
    "df.loc[ :, df.dtypes == 'int64' ]"
   ]
  },
  {
   "cell_type": "markdown",
   "metadata": {
    "source_collapsed": false
   },
   "source": [
    "**布尔索引**的总结图如下：\n",
    "\n",
    "<img src=\"Select Using Boolean Indexing.PNG\" style=\"width:700px; height:350px;\">\n",
    "\n",
    "### <font color='blue' face='微软雅黑'>用调用对象来获取</font>\n",
    "\n",
    "调用对象可看成函数，在这里用匿名函数来实现，由于是在数据帧或是数据帧上的行和列上操作，因此该匿名函数只能**有 1 个参数**。\n",
    "\n",
    "首先对比一下**布尔索引**和**调用对象**："
   ]
  },
  {
   "cell_type": "code",
   "execution_count": 94,
   "metadata": {},
   "outputs": [
    {
     "data": {
      "text/html": [
       "<div>\n",
       "<style scoped>\n",
       "    .dataframe tbody tr th:only-of-type {\n",
       "        vertical-align: middle;\n",
       "    }\n",
       "\n",
       "    .dataframe tbody tr th {\n",
       "        vertical-align: top;\n",
       "    }\n",
       "\n",
       "    .dataframe thead th {\n",
       "        text-align: right;\n",
       "    }\n",
       "</style>\n",
       "<table border=\"1\" class=\"dataframe\">\n",
       "  <thead>\n",
       "    <tr style=\"text-align: right;\">\n",
       "      <th></th>\n",
       "      <th>行业</th>\n",
       "      <th>价格</th>\n",
       "      <th>交易量</th>\n",
       "      <th>雇员</th>\n",
       "    </tr>\n",
       "    <tr>\n",
       "      <th>代号</th>\n",
       "      <th></th>\n",
       "      <th></th>\n",
       "      <th></th>\n",
       "      <th></th>\n",
       "    </tr>\n",
       "  </thead>\n",
       "  <tbody>\n",
       "    <tr>\n",
       "      <th>BABA</th>\n",
       "      <td>电商</td>\n",
       "      <td>176.92</td>\n",
       "      <td>16175610</td>\n",
       "      <td>101550</td>\n",
       "    </tr>\n",
       "    <tr>\n",
       "      <th>JD</th>\n",
       "      <td>电商</td>\n",
       "      <td>25.95</td>\n",
       "      <td>27113291</td>\n",
       "      <td>175336</td>\n",
       "    </tr>\n",
       "    <tr>\n",
       "      <th>AAPL</th>\n",
       "      <td>科技</td>\n",
       "      <td>172.97</td>\n",
       "      <td>18913154</td>\n",
       "      <td>100000</td>\n",
       "    </tr>\n",
       "    <tr>\n",
       "      <th>WMT</th>\n",
       "      <td>零售</td>\n",
       "      <td>99.55</td>\n",
       "      <td>8086946</td>\n",
       "      <td>2200000</td>\n",
       "    </tr>\n",
       "  </tbody>\n",
       "</table>\n",
       "</div>"
      ],
      "text/plain": [
       "      行业      价格       交易量       雇员\n",
       "代号                                 \n",
       "BABA  电商  176.92  16175610   101550\n",
       "JD    电商   25.95  27113291   175336\n",
       "AAPL  科技  172.97  18913154   100000\n",
       "WMT   零售   99.55   8086946  2200000"
      ]
     },
     "execution_count": 94,
     "metadata": {},
     "output_type": "execute_result"
    }
   ],
   "source": [
    "bool_index = (df.雇员 >= 100000)\n",
    "df[ bool_index ]"
   ]
  },
  {
   "cell_type": "code",
   "execution_count": 95,
   "metadata": {},
   "outputs": [
    {
     "data": {
      "text/html": [
       "<div>\n",
       "<style scoped>\n",
       "    .dataframe tbody tr th:only-of-type {\n",
       "        vertical-align: middle;\n",
       "    }\n",
       "\n",
       "    .dataframe tbody tr th {\n",
       "        vertical-align: top;\n",
       "    }\n",
       "\n",
       "    .dataframe thead th {\n",
       "        text-align: right;\n",
       "    }\n",
       "</style>\n",
       "<table border=\"1\" class=\"dataframe\">\n",
       "  <thead>\n",
       "    <tr style=\"text-align: right;\">\n",
       "      <th></th>\n",
       "      <th>行业</th>\n",
       "      <th>价格</th>\n",
       "      <th>交易量</th>\n",
       "      <th>雇员</th>\n",
       "    </tr>\n",
       "    <tr>\n",
       "      <th>代号</th>\n",
       "      <th></th>\n",
       "      <th></th>\n",
       "      <th></th>\n",
       "      <th></th>\n",
       "    </tr>\n",
       "  </thead>\n",
       "  <tbody>\n",
       "    <tr>\n",
       "      <th>BABA</th>\n",
       "      <td>电商</td>\n",
       "      <td>176.92</td>\n",
       "      <td>16175610</td>\n",
       "      <td>101550</td>\n",
       "    </tr>\n",
       "    <tr>\n",
       "      <th>JD</th>\n",
       "      <td>电商</td>\n",
       "      <td>25.95</td>\n",
       "      <td>27113291</td>\n",
       "      <td>175336</td>\n",
       "    </tr>\n",
       "    <tr>\n",
       "      <th>AAPL</th>\n",
       "      <td>科技</td>\n",
       "      <td>172.97</td>\n",
       "      <td>18913154</td>\n",
       "      <td>100000</td>\n",
       "    </tr>\n",
       "    <tr>\n",
       "      <th>WMT</th>\n",
       "      <td>零售</td>\n",
       "      <td>99.55</td>\n",
       "      <td>8086946</td>\n",
       "      <td>2200000</td>\n",
       "    </tr>\n",
       "  </tbody>\n",
       "</table>\n",
       "</div>"
      ],
      "text/plain": [
       "      行业      价格       交易量       雇员\n",
       "代号                                 \n",
       "BABA  电商  176.92  16175610   101550\n",
       "JD    电商   25.95  27113291   175336\n",
       "AAPL  科技  172.97  18913154   100000\n",
       "WMT   零售   99.55   8086946  2200000"
      ]
     },
     "execution_count": 95,
     "metadata": {},
     "output_type": "execute_result"
    }
   ],
   "source": [
    "callable_obj = lambda x: x.雇员 >= 100000\n",
    "df[ callable_obj ]"
   ]
  },
  {
   "cell_type": "markdown",
   "metadata": {},
   "source": [
    "要找出交易量大于**平均交易量**的所有公司"
   ]
  },
  {
   "cell_type": "code",
   "execution_count": 96,
   "metadata": {
    "source_collapsed": false
   },
   "outputs": [
    {
     "data": {
      "text/html": [
       "<div>\n",
       "<style scoped>\n",
       "    .dataframe tbody tr th:only-of-type {\n",
       "        vertical-align: middle;\n",
       "    }\n",
       "\n",
       "    .dataframe tbody tr th {\n",
       "        vertical-align: top;\n",
       "    }\n",
       "\n",
       "    .dataframe thead th {\n",
       "        text-align: right;\n",
       "    }\n",
       "</style>\n",
       "<table border=\"1\" class=\"dataframe\">\n",
       "  <thead>\n",
       "    <tr style=\"text-align: right;\">\n",
       "      <th></th>\n",
       "      <th>行业</th>\n",
       "      <th>价格</th>\n",
       "      <th>交易量</th>\n",
       "      <th>雇员</th>\n",
       "    </tr>\n",
       "    <tr>\n",
       "      <th>代号</th>\n",
       "      <th></th>\n",
       "      <th></th>\n",
       "      <th></th>\n",
       "      <th></th>\n",
       "    </tr>\n",
       "  </thead>\n",
       "  <tbody>\n",
       "    <tr>\n",
       "      <th>BABA</th>\n",
       "      <td>电商</td>\n",
       "      <td>176.92</td>\n",
       "      <td>16175610</td>\n",
       "      <td>101550</td>\n",
       "    </tr>\n",
       "    <tr>\n",
       "      <th>JD</th>\n",
       "      <td>电商</td>\n",
       "      <td>25.95</td>\n",
       "      <td>27113291</td>\n",
       "      <td>175336</td>\n",
       "    </tr>\n",
       "    <tr>\n",
       "      <th>AAPL</th>\n",
       "      <td>科技</td>\n",
       "      <td>172.97</td>\n",
       "      <td>18913154</td>\n",
       "      <td>100000</td>\n",
       "    </tr>\n",
       "  </tbody>\n",
       "</table>\n",
       "</div>"
      ],
      "text/plain": [
       "      行业      价格       交易量      雇员\n",
       "代号                                \n",
       "BABA  电商  176.92  16175610  101550\n",
       "JD    电商   25.95  27113291  175336\n",
       "AAPL  科技  172.97  18913154  100000"
      ]
     },
     "execution_count": 96,
     "metadata": {},
     "output_type": "execute_result"
    }
   ],
   "source": [
    "# x = df\n",
    "df.loc[ lambda x: x.交易量 > x.交易量.mean() , : ]"
   ]
  },
  {
   "cell_type": "markdown",
   "metadata": {},
   "source": [
    "在上面结果再加一个条件 - 价格要在 100 之上"
   ]
  },
  {
   "cell_type": "code",
   "execution_count": 97,
   "metadata": {
    "source_collapsed": false
   },
   "outputs": [
    {
     "data": {
      "text/html": [
       "<div>\n",
       "<style scoped>\n",
       "    .dataframe tbody tr th:only-of-type {\n",
       "        vertical-align: middle;\n",
       "    }\n",
       "\n",
       "    .dataframe tbody tr th {\n",
       "        vertical-align: top;\n",
       "    }\n",
       "\n",
       "    .dataframe thead th {\n",
       "        text-align: right;\n",
       "    }\n",
       "</style>\n",
       "<table border=\"1\" class=\"dataframe\">\n",
       "  <thead>\n",
       "    <tr style=\"text-align: right;\">\n",
       "      <th></th>\n",
       "      <th>行业</th>\n",
       "      <th>价格</th>\n",
       "      <th>交易量</th>\n",
       "      <th>雇员</th>\n",
       "    </tr>\n",
       "    <tr>\n",
       "      <th>代号</th>\n",
       "      <th></th>\n",
       "      <th></th>\n",
       "      <th></th>\n",
       "      <th></th>\n",
       "    </tr>\n",
       "  </thead>\n",
       "  <tbody>\n",
       "    <tr>\n",
       "      <th>BABA</th>\n",
       "      <td>电商</td>\n",
       "      <td>176.92</td>\n",
       "      <td>16175610</td>\n",
       "      <td>101550</td>\n",
       "    </tr>\n",
       "    <tr>\n",
       "      <th>AAPL</th>\n",
       "      <td>科技</td>\n",
       "      <td>172.97</td>\n",
       "      <td>18913154</td>\n",
       "      <td>100000</td>\n",
       "    </tr>\n",
       "  </tbody>\n",
       "</table>\n",
       "</div>"
      ],
      "text/plain": [
       "      行业      价格       交易量      雇员\n",
       "代号                                \n",
       "BABA  电商  176.92  16175610  101550\n",
       "AAPL  科技  172.97  18913154  100000"
      ]
     },
     "execution_count": 97,
     "metadata": {},
     "output_type": "execute_result"
    }
   ],
   "source": [
    "# x = df\n",
    "df.loc[ lambda x: (x.交易量 > x.交易量.mean()) & (x.价格 > 100), : ]"
   ]
  },
  {
   "cell_type": "markdown",
   "metadata": {},
   "source": [
    "筛选出价格大于 100 的股票"
   ]
  },
  {
   "cell_type": "code",
   "execution_count": 98,
   "metadata": {
    "source_collapsed": false
   },
   "outputs": [
    {
     "data": {
      "text/plain": [
       "代号\n",
       "BABA    176.92\n",
       "AAPL    172.97\n",
       "GS      196.00\n",
       "Name: 价格, dtype: float64"
      ]
     },
     "execution_count": 98,
     "metadata": {},
     "output_type": "execute_result"
    }
   ],
   "source": [
    "# x = df.Price\n",
    "df.价格.loc[ lambda x: x > 100 ]"
   ]
  },
  {
   "cell_type": "markdown",
   "metadata": {},
   "source": [
    "**调用对象**的总结图如下：\n",
    "\n",
    "<img src=\"Select Using Callable.PNG\" style=\"width:800px; height:350px;\">"
   ]
  },
  {
   "cell_type": "markdown",
   "metadata": {
    "source_collapsed": false
   },
   "source": [
    "### <font color='#2b4750' face='微软雅黑'>4.6 层级获取</font><a name='4.6'></a>\n",
    "[<font color='black' face='微软雅黑'>回到章首</font>](#4)\n",
    "\n",
    "当序列或数据帧有多层索引时，获取方式也变成相应的**层级获取**。\n",
    "\n",
    "### <font color='blue' face='微软雅黑'>层级获取序列</font>\n",
    "\n",
    "序列只有行索引，它可以是多层的。下面定义一个多层索引的序列，注意它的 index 是一个二维列表，列表第一行 dates 作为第一层索引，第二行 codes 作为第二层索引。"
   ]
  },
  {
   "cell_type": "code",
   "execution_count": 101,
   "metadata": {
    "source_collapsed": false
   },
   "outputs": [
    {
     "data": {
      "text/plain": [
       "2019-04-01  BABA    190\n",
       "            JD       32\n",
       "            GS      196\n",
       "2019-04-02  BABA    192\n",
       "            GS      200\n",
       "2019-04-03  BABA    189\n",
       "            JD       31\n",
       "2019-04-04  JD       30\n",
       "            GS      199\n",
       "dtype: int64"
      ]
     },
     "execution_count": 101,
     "metadata": {},
     "output_type": "execute_result"
    }
   ],
   "source": [
    "price = [190,32,196,192,200,189,31,30,199]\n",
    "dates = ['2019-04-01']*3 +['2019-04-02']*2+['2019-04-03']*2+['2019-04-04']*2\n",
    "codes = ['BABA','JD','GS','BABA','GS','BABA','JD','JD','GS']\n",
    "\n",
    "data = pd.Series( price,\n",
    "                  index=[ dates, codes ])\n",
    "data"
   ]
  },
  {
   "cell_type": "markdown",
   "metadata": {},
   "source": [
    "这个序列存储了四天里若干股票的价格，2019-04-01 储存了阿里巴巴、京东和高盛的股价，2019-04-04 只储存了京东和高盛的股价。如果不用多层索引的序列，那么则需要用数据帧来存储在这样的二维数据 (设置 `index= dates, columns = codes`)。\n",
    "\n",
    "查看多层索引对象是如何表示的。"
   ]
  },
  {
   "cell_type": "code",
   "execution_count": 103,
   "metadata": {
    "source_collapsed": false
   },
   "outputs": [
    {
     "data": {
      "text/plain": [
       "MultiIndex([('2019-04-01', 'BABA'),\n",
       "            ('2019-04-01',   'JD'),\n",
       "            ('2019-04-01',   'GS'),\n",
       "            ('2019-04-02', 'BABA'),\n",
       "            ('2019-04-02',   'GS'),\n",
       "            ('2019-04-03', 'BABA'),\n",
       "            ('2019-04-03',   'JD'),\n",
       "            ('2019-04-04',   'JD'),\n",
       "            ('2019-04-04',   'GS')],\n",
       "           )"
      ]
     },
     "execution_count": 103,
     "metadata": {},
     "output_type": "execute_result"
    }
   ],
   "source": [
    "data.index"
   ]
  },
  {
   "cell_type": "markdown",
   "metadata": {},
   "source": [
    "结果是一个**每个元素为元组的列表**。\n",
    "\n",
    "- 元组的第一个元素是第一层索引 `dates`\n",
    "- 元组的第二个元素是第二层索引 `codes`"
   ]
  },
  {
   "cell_type": "markdown",
   "metadata": {
    "source_collapsed": false
   },
   "source": [
    "用 `[]` 加第一层索引可以获取第一层信息 (level 0)。"
   ]
  },
  {
   "cell_type": "code",
   "execution_count": 104,
   "metadata": {
    "source_collapsed": false
   },
   "outputs": [
    {
     "data": {
      "text/plain": [
       "BABA    192\n",
       "GS      200\n",
       "dtype: int64"
      ]
     },
     "execution_count": 104,
     "metadata": {},
     "output_type": "execute_result"
    }
   ],
   "source": [
    "data['2019-04-02']"
   ]
  },
  {
   "cell_type": "markdown",
   "metadata": {},
   "source": [
    "用 `loc` 加第一层索引也可以获取第一层信息。"
   ]
  },
  {
   "cell_type": "code",
   "execution_count": 105,
   "metadata": {
    "source_collapsed": false
   },
   "outputs": [
    {
     "data": {
      "text/plain": [
       "2019-04-02  BABA    192\n",
       "            GS      200\n",
       "2019-04-03  BABA    189\n",
       "            JD       31\n",
       "2019-04-04  JD       30\n",
       "            GS      199\n",
       "dtype: int64"
      ]
     },
     "execution_count": 105,
     "metadata": {},
     "output_type": "execute_result"
    }
   ],
   "source": [
    "data.loc['2019-04-02':'2019-04-04']"
   ]
  },
  {
   "cell_type": "markdown",
   "metadata": {
    "source_collapsed": false
   },
   "source": [
    "获取还可以在不同层上进行。下面 `loc` 中\n",
    "\n",
    "- 冒号 `:` 表示第一层所有元素\n",
    "- `'GS'` 表示第二层标签为 'GS' 的元素"
   ]
  },
  {
   "cell_type": "code",
   "execution_count": 106,
   "metadata": {
    "source_collapsed": false
   },
   "outputs": [
    {
     "data": {
      "text/plain": [
       "2019-04-01    196\n",
       "2019-04-02    200\n",
       "2019-04-04    199\n",
       "dtype: int64"
      ]
     },
     "execution_count": 106,
     "metadata": {},
     "output_type": "execute_result"
    }
   ],
   "source": [
    "data.loc[ :, 'GS' ]"
   ]
  },
  {
   "cell_type": "markdown",
   "metadata": {
    "source_collapsed": false
   },
   "source": [
    "### <font color='blue' face='微软雅黑'>层级获取数据帧</font>\n",
    "\n",
    "数据帧的行索引和列索引都可以是多层的。"
   ]
  },
  {
   "cell_type": "code",
   "execution_count": 186,
   "metadata": {
    "source_collapsed": false
   },
   "outputs": [
    {
     "data": {
      "text/html": [
       "<div>\n",
       "<style scoped>\n",
       "    .dataframe tbody tr th:only-of-type {\n",
       "        vertical-align: middle;\n",
       "    }\n",
       "\n",
       "    .dataframe tbody tr th {\n",
       "        vertical-align: top;\n",
       "    }\n",
       "\n",
       "    .dataframe thead tr th {\n",
       "        text-align: left;\n",
       "    }\n",
       "\n",
       "    .dataframe thead tr:last-of-type th {\n",
       "        text-align: right;\n",
       "    }\n",
       "</style>\n",
       "<table border=\"1\" class=\"dataframe\">\n",
       "  <thead>\n",
       "    <tr>\n",
       "      <th></th>\n",
       "      <th>概括</th>\n",
       "      <th colspan=\"2\" halign=\"left\">公司数据</th>\n",
       "      <th colspan=\"2\" halign=\"left\">交易数据</th>\n",
       "    </tr>\n",
       "    <tr>\n",
       "      <th></th>\n",
       "      <th>细分</th>\n",
       "      <th>行业</th>\n",
       "      <th>雇员</th>\n",
       "      <th>价格</th>\n",
       "      <th>交易量</th>\n",
       "    </tr>\n",
       "    <tr>\n",
       "      <th>地区</th>\n",
       "      <th>代号</th>\n",
       "      <th></th>\n",
       "      <th></th>\n",
       "      <th></th>\n",
       "      <th></th>\n",
       "    </tr>\n",
       "  </thead>\n",
       "  <tbody>\n",
       "    <tr>\n",
       "      <th rowspan=\"2\" valign=\"top\">中国</th>\n",
       "      <th>BABA</th>\n",
       "      <td>电商</td>\n",
       "      <td>101550</td>\n",
       "      <td>176.92</td>\n",
       "      <td>16175610</td>\n",
       "    </tr>\n",
       "    <tr>\n",
       "      <th>JD</th>\n",
       "      <td>电商</td>\n",
       "      <td>175336</td>\n",
       "      <td>25.95</td>\n",
       "      <td>27113291</td>\n",
       "    </tr>\n",
       "    <tr>\n",
       "      <th rowspan=\"2\" valign=\"top\">美国</th>\n",
       "      <th>GS</th>\n",
       "      <td>金融</td>\n",
       "      <td>60348</td>\n",
       "      <td>41.79</td>\n",
       "      <td>10132145</td>\n",
       "    </tr>\n",
       "    <tr>\n",
       "      <th>MS</th>\n",
       "      <td>金融</td>\n",
       "      <td>36600</td>\n",
       "      <td>196.00</td>\n",
       "      <td>2626634</td>\n",
       "    </tr>\n",
       "  </tbody>\n",
       "</table>\n",
       "</div>"
      ],
      "text/plain": [
       "概括      公司数据            交易数据          \n",
       "细分        行业      雇员      价格       交易量\n",
       "地区 代号                                 \n",
       "中国 BABA   电商  101550  176.92  16175610\n",
       "   JD     电商  175336   25.95  27113291\n",
       "美国 GS     金融   60348   41.79  10132145\n",
       "   MS     金融   36600  196.00   2626634"
      ]
     },
     "execution_count": 186,
     "metadata": {},
     "output_type": "execute_result"
    }
   ],
   "source": [
    "data = [ ['电商', 101550, 176.92, 16175610], \n",
    "         ['电商', 175336, 25.95, 27113291], \n",
    "         ['金融', 60348, 41.79, 10132145], \n",
    "         ['金融', 36600, 196.00, 2626634] ]\n",
    "\n",
    "midx = pd.MultiIndex( levels=[['中国','美国'],\n",
    "                              ['BABA', 'JD', 'GS', 'MS']], \n",
    "                      codes=[[0,0,1,1],[0,1,2,3]],\n",
    "                      names=['地区','代号'])\n",
    "\n",
    "mcol = pd.MultiIndex( levels=[['公司数据','交易数据'],\n",
    "                              ['行业','雇员','价格','交易量']], \n",
    "                      codes=[[0,0,1,1],[0,1,2,3]],\n",
    "                      names=['概括','细分'])\n",
    "\n",
    "df = pd.DataFrame(data, index=midx, columns=mcol)\n",
    "df"
   ]
  },
  {
   "cell_type": "code",
   "execution_count": 161,
   "metadata": {
    "source_collapsed": false
   },
   "outputs": [
    {
     "data": {
      "text/plain": [
       "MultiIndex([('中国', 'BABA'),\n",
       "            ('中国',   'JD'),\n",
       "            ('美国',   'GS'),\n",
       "            ('美国',   'MS')],\n",
       "           names=['地区', '代号'])"
      ]
     },
     "execution_count": 161,
     "metadata": {},
     "output_type": "execute_result"
    }
   ],
   "source": [
    "df.index"
   ]
  },
  {
   "cell_type": "code",
   "execution_count": 162,
   "metadata": {
    "source_collapsed": false
   },
   "outputs": [
    {
     "data": {
      "text/plain": [
       "MultiIndex([('公司数据',  '行业'),\n",
       "            ('公司数据',  '雇员'),\n",
       "            ('交易数据',  '价格'),\n",
       "            ('交易数据', '交易量')],\n",
       "           names=['概括', '细分'])"
      ]
     },
     "execution_count": 162,
     "metadata": {},
     "output_type": "execute_result"
    }
   ],
   "source": [
    "df.columns"
   ]
  },
  {
   "cell_type": "markdown",
   "metadata": {
    "source_collapsed": false
   },
   "source": [
    "这个数据帧的行索引和列索引都有两层，严格来说是四维数据。下面看看如何进行「多层索引」的操作吧。\n",
    "\n",
    "选定第一层列标签为 `'公司数据'` 和第二层列标签为 `'行业'`，得到一个含两层索引的序列。"
   ]
  },
  {
   "cell_type": "code",
   "execution_count": 163,
   "metadata": {
    "source_collapsed": false
   },
   "outputs": [
    {
     "data": {
      "text/plain": [
       "地区  代号  \n",
       "中国  BABA    电商\n",
       "    JD      电商\n",
       "美国  GS      金融\n",
       "    MS      金融\n",
       "Name: (公司数据, 行业), dtype: object"
      ]
     },
     "execution_count": 163,
     "metadata": {},
     "output_type": "execute_result"
    }
   ],
   "source": [
    "df['公司数据','行业']"
   ]
  },
  {
   "cell_type": "markdown",
   "metadata": {},
   "source": [
    "选定**行标签**为 `'中国'`，用 `df.loc[level1_row_label, :]` 得到一个含**一层行索引两层列索引**的数据帧。\n",
    "\n",
    "- 再选定**行标签**为 'BABA'，后面再接上 `.loc[level2_row_label, :]` 得到一个含两层列索引的序列。\n",
    "- 再选定**行位置**为 1，后面在接上 `.iloc[level2_row_position, :]` 得到一个含两层列索引的序列。"
   ]
  },
  {
   "cell_type": "code",
   "execution_count": 200,
   "metadata": {},
   "outputs": [
    {
     "data": {
      "text/html": [
       "<div>\n",
       "<style scoped>\n",
       "    .dataframe tbody tr th:only-of-type {\n",
       "        vertical-align: middle;\n",
       "    }\n",
       "\n",
       "    .dataframe tbody tr th {\n",
       "        vertical-align: top;\n",
       "    }\n",
       "\n",
       "    .dataframe thead tr th {\n",
       "        text-align: left;\n",
       "    }\n",
       "\n",
       "    .dataframe thead tr:last-of-type th {\n",
       "        text-align: right;\n",
       "    }\n",
       "</style>\n",
       "<table border=\"1\" class=\"dataframe\">\n",
       "  <thead>\n",
       "    <tr>\n",
       "      <th>概括</th>\n",
       "      <th colspan=\"2\" halign=\"left\">公司数据</th>\n",
       "      <th colspan=\"2\" halign=\"left\">交易数据</th>\n",
       "    </tr>\n",
       "    <tr>\n",
       "      <th>细分</th>\n",
       "      <th>行业</th>\n",
       "      <th>雇员</th>\n",
       "      <th>价格</th>\n",
       "      <th>交易量</th>\n",
       "    </tr>\n",
       "    <tr>\n",
       "      <th>代号</th>\n",
       "      <th></th>\n",
       "      <th></th>\n",
       "      <th></th>\n",
       "      <th></th>\n",
       "    </tr>\n",
       "  </thead>\n",
       "  <tbody>\n",
       "    <tr>\n",
       "      <th>BABA</th>\n",
       "      <td>电商</td>\n",
       "      <td>101550</td>\n",
       "      <td>176.92</td>\n",
       "      <td>16175610</td>\n",
       "    </tr>\n",
       "    <tr>\n",
       "      <th>JD</th>\n",
       "      <td>电商</td>\n",
       "      <td>175336</td>\n",
       "      <td>25.95</td>\n",
       "      <td>27113291</td>\n",
       "    </tr>\n",
       "  </tbody>\n",
       "</table>\n",
       "</div>"
      ],
      "text/plain": [
       "概括   公司数据            交易数据          \n",
       "细分     行业      雇员      价格       交易量\n",
       "代号                                 \n",
       "BABA   电商  101550  176.92  16175610\n",
       "JD     电商  175336   25.95  27113291"
      ]
     },
     "execution_count": 200,
     "metadata": {},
     "output_type": "execute_result"
    }
   ],
   "source": [
    "df.loc['中国', :]"
   ]
  },
  {
   "cell_type": "code",
   "execution_count": 201,
   "metadata": {
    "source_collapsed": false
   },
   "outputs": [
    {
     "data": {
      "text/plain": [
       "概括    细分 \n",
       "公司数据  行业           电商\n",
       "      雇员       101550\n",
       "交易数据  价格       176.92\n",
       "      交易量    16175610\n",
       "Name: BABA, dtype: object"
      ]
     },
     "execution_count": 201,
     "metadata": {},
     "output_type": "execute_result"
    }
   ],
   "source": [
    "df.loc['中国', :].loc['BABA',:]"
   ]
  },
  {
   "cell_type": "code",
   "execution_count": 202,
   "metadata": {},
   "outputs": [
    {
     "data": {
      "text/plain": [
       "概括    细分 \n",
       "公司数据  行业           电商\n",
       "      雇员       175336\n",
       "交易数据  价格        25.95\n",
       "      交易量    27113291\n",
       "Name: JD, dtype: object"
      ]
     },
     "execution_count": 202,
     "metadata": {},
     "output_type": "execute_result"
    }
   ],
   "source": [
    "df.loc['中国', :].iloc[1,:]"
   ]
  },
  {
   "cell_type": "markdown",
   "metadata": {},
   "source": [
    "选定**列标签**为 `'公司数据'`，用 `loc[:, level1_col_label]` 得到一个含**两层行索引一层列索引**的数据帧。\n",
    "\n",
    "- 再选定**列位置**为 1，后面再接上 `.iloc[:, level2_col_position]` 得到一个含两层索引的序列。\n",
    "- 再选定**行位置**为 1，后面再接上 `.iloc[level2_row_position, :]` 得到一个含一层索引的序列。"
   ]
  },
  {
   "cell_type": "code",
   "execution_count": 204,
   "metadata": {},
   "outputs": [
    {
     "data": {
      "text/html": [
       "<div>\n",
       "<style scoped>\n",
       "    .dataframe tbody tr th:only-of-type {\n",
       "        vertical-align: middle;\n",
       "    }\n",
       "\n",
       "    .dataframe tbody tr th {\n",
       "        vertical-align: top;\n",
       "    }\n",
       "\n",
       "    .dataframe thead th {\n",
       "        text-align: right;\n",
       "    }\n",
       "</style>\n",
       "<table border=\"1\" class=\"dataframe\">\n",
       "  <thead>\n",
       "    <tr style=\"text-align: right;\">\n",
       "      <th></th>\n",
       "      <th>细分</th>\n",
       "      <th>行业</th>\n",
       "      <th>雇员</th>\n",
       "    </tr>\n",
       "    <tr>\n",
       "      <th>地区</th>\n",
       "      <th>代号</th>\n",
       "      <th></th>\n",
       "      <th></th>\n",
       "    </tr>\n",
       "  </thead>\n",
       "  <tbody>\n",
       "    <tr>\n",
       "      <th rowspan=\"2\" valign=\"top\">中国</th>\n",
       "      <th>BABA</th>\n",
       "      <td>电商</td>\n",
       "      <td>101550</td>\n",
       "    </tr>\n",
       "    <tr>\n",
       "      <th>JD</th>\n",
       "      <td>电商</td>\n",
       "      <td>175336</td>\n",
       "    </tr>\n",
       "    <tr>\n",
       "      <th rowspan=\"2\" valign=\"top\">美国</th>\n",
       "      <th>GS</th>\n",
       "      <td>金融</td>\n",
       "      <td>60348</td>\n",
       "    </tr>\n",
       "    <tr>\n",
       "      <th>MS</th>\n",
       "      <td>金融</td>\n",
       "      <td>36600</td>\n",
       "    </tr>\n",
       "  </tbody>\n",
       "</table>\n",
       "</div>"
      ],
      "text/plain": [
       "细分       行业      雇员\n",
       "地区 代号              \n",
       "中国 BABA  电商  101550\n",
       "   JD    电商  175336\n",
       "美国 GS    金融   60348\n",
       "   MS    金融   36600"
      ]
     },
     "execution_count": 204,
     "metadata": {},
     "output_type": "execute_result"
    }
   ],
   "source": [
    "df.loc[:,'公司数据']"
   ]
  },
  {
   "cell_type": "code",
   "execution_count": 205,
   "metadata": {
    "source_collapsed": false
   },
   "outputs": [
    {
     "data": {
      "text/plain": [
       "地区  代号  \n",
       "中国  BABA    101550\n",
       "    JD      175336\n",
       "美国  GS       60348\n",
       "    MS       36600\n",
       "Name: 雇员, dtype: int64"
      ]
     },
     "execution_count": 205,
     "metadata": {},
     "output_type": "execute_result"
    }
   ],
   "source": [
    "df.loc[:,'公司数据'].iloc[:,1]"
   ]
  },
  {
   "cell_type": "code",
   "execution_count": 206,
   "metadata": {},
   "outputs": [
    {
     "data": {
      "text/plain": [
       "细分\n",
       "行业        电商\n",
       "雇员    175336\n",
       "Name: (中国, JD), dtype: object"
      ]
     },
     "execution_count": 206,
     "metadata": {},
     "output_type": "execute_result"
    }
   ],
   "source": [
    "df.loc[:,'公司数据'].iloc[1,:]"
   ]
  },
  {
   "cell_type": "markdown",
   "metadata": {},
   "source": [
    "选定**列位置**为 [1, 3]， 用 `loc[:, level1_col_position]` 得到一个**两层行索引两层列索引**的序列。\n",
    "\n",
    "- 再选定**列位置**为 0，`.iloc[:, level2_col_position]` 得到一个含两层索引的序列。\n",
    "- 再选定**行标签**为 '中国'，用 `.loc[level2_row_label, :]` 得到一个含两层列索引的数据帧。"
   ]
  },
  {
   "cell_type": "code",
   "execution_count": 207,
   "metadata": {},
   "outputs": [
    {
     "data": {
      "text/html": [
       "<div>\n",
       "<style scoped>\n",
       "    .dataframe tbody tr th:only-of-type {\n",
       "        vertical-align: middle;\n",
       "    }\n",
       "\n",
       "    .dataframe tbody tr th {\n",
       "        vertical-align: top;\n",
       "    }\n",
       "\n",
       "    .dataframe thead tr th {\n",
       "        text-align: left;\n",
       "    }\n",
       "\n",
       "    .dataframe thead tr:last-of-type th {\n",
       "        text-align: right;\n",
       "    }\n",
       "</style>\n",
       "<table border=\"1\" class=\"dataframe\">\n",
       "  <thead>\n",
       "    <tr>\n",
       "      <th></th>\n",
       "      <th>概括</th>\n",
       "      <th>公司数据</th>\n",
       "      <th>交易数据</th>\n",
       "    </tr>\n",
       "    <tr>\n",
       "      <th></th>\n",
       "      <th>细分</th>\n",
       "      <th>雇员</th>\n",
       "      <th>价格</th>\n",
       "    </tr>\n",
       "    <tr>\n",
       "      <th>地区</th>\n",
       "      <th>代号</th>\n",
       "      <th></th>\n",
       "      <th></th>\n",
       "    </tr>\n",
       "  </thead>\n",
       "  <tbody>\n",
       "    <tr>\n",
       "      <th rowspan=\"2\" valign=\"top\">中国</th>\n",
       "      <th>BABA</th>\n",
       "      <td>101550</td>\n",
       "      <td>176.92</td>\n",
       "    </tr>\n",
       "    <tr>\n",
       "      <th>JD</th>\n",
       "      <td>175336</td>\n",
       "      <td>25.95</td>\n",
       "    </tr>\n",
       "    <tr>\n",
       "      <th rowspan=\"2\" valign=\"top\">美国</th>\n",
       "      <th>GS</th>\n",
       "      <td>60348</td>\n",
       "      <td>41.79</td>\n",
       "    </tr>\n",
       "    <tr>\n",
       "      <th>MS</th>\n",
       "      <td>36600</td>\n",
       "      <td>196.00</td>\n",
       "    </tr>\n",
       "  </tbody>\n",
       "</table>\n",
       "</div>"
      ],
      "text/plain": [
       "概括         公司数据    交易数据\n",
       "细分           雇员      价格\n",
       "地区 代号                  \n",
       "中国 BABA  101550  176.92\n",
       "   JD    175336   25.95\n",
       "美国 GS     60348   41.79\n",
       "   MS     36600  196.00"
      ]
     },
     "execution_count": 207,
     "metadata": {},
     "output_type": "execute_result"
    }
   ],
   "source": [
    "df.iloc[:, 1:3]"
   ]
  },
  {
   "cell_type": "code",
   "execution_count": 208,
   "metadata": {},
   "outputs": [
    {
     "data": {
      "text/plain": [
       "地区  代号  \n",
       "中国  BABA    101550\n",
       "    JD      175336\n",
       "美国  GS       60348\n",
       "    MS       36600\n",
       "Name: (公司数据, 雇员), dtype: int64"
      ]
     },
     "execution_count": 208,
     "metadata": {},
     "output_type": "execute_result"
    }
   ],
   "source": [
    "df.iloc[:, 1:3].iloc[:, 0]"
   ]
  },
  {
   "cell_type": "code",
   "execution_count": 209,
   "metadata": {},
   "outputs": [
    {
     "data": {
      "text/html": [
       "<div>\n",
       "<style scoped>\n",
       "    .dataframe tbody tr th:only-of-type {\n",
       "        vertical-align: middle;\n",
       "    }\n",
       "\n",
       "    .dataframe tbody tr th {\n",
       "        vertical-align: top;\n",
       "    }\n",
       "\n",
       "    .dataframe thead tr th {\n",
       "        text-align: left;\n",
       "    }\n",
       "\n",
       "    .dataframe thead tr:last-of-type th {\n",
       "        text-align: right;\n",
       "    }\n",
       "</style>\n",
       "<table border=\"1\" class=\"dataframe\">\n",
       "  <thead>\n",
       "    <tr>\n",
       "      <th>概括</th>\n",
       "      <th>公司数据</th>\n",
       "      <th>交易数据</th>\n",
       "    </tr>\n",
       "    <tr>\n",
       "      <th>细分</th>\n",
       "      <th>雇员</th>\n",
       "      <th>价格</th>\n",
       "    </tr>\n",
       "    <tr>\n",
       "      <th>代号</th>\n",
       "      <th></th>\n",
       "      <th></th>\n",
       "    </tr>\n",
       "  </thead>\n",
       "  <tbody>\n",
       "    <tr>\n",
       "      <th>BABA</th>\n",
       "      <td>101550</td>\n",
       "      <td>176.92</td>\n",
       "    </tr>\n",
       "    <tr>\n",
       "      <th>JD</th>\n",
       "      <td>175336</td>\n",
       "      <td>25.95</td>\n",
       "    </tr>\n",
       "  </tbody>\n",
       "</table>\n",
       "</div>"
      ],
      "text/plain": [
       "概括      公司数据    交易数据\n",
       "细分        雇员      价格\n",
       "代号                  \n",
       "BABA  101550  176.92\n",
       "JD    175336   25.95"
      ]
     },
     "execution_count": 209,
     "metadata": {},
     "output_type": "execute_result"
    }
   ],
   "source": [
    "df.iloc[:, 1:3].loc['中国', :]"
   ]
  },
  {
   "cell_type": "markdown",
   "metadata": {
    "source_collapsed": false
   },
   "source": [
    "### <font color='blue' face='微软雅黑'>索引其他玩法</font>\n",
    "\n",
    "对于数据帧的行索引\n",
    "\n",
    "- 可用 `set_index()` 将某些列设置为 (多层) 行索引\n",
    "- 可用 `reset_index()` 将行索引还原成列\n",
    "- 可用 `sort_index()` 来排序\n",
    "- 可用 `swaplevel()` 来互换，有四种写法：\n",
    "\n",
    "    - `df.swaplevel( level_0_row_name, level_1_row_name )`\n",
    "    - `df.swaplevel( 0, 1 )`\n",
    "    - `df.index = df.index.swaplevel( level_0_row_name, level_1_row_name )`\n",
    "    - `df.index = df.index.swaplevel( 0, 1 )`\n",
    "\n",
    "此外用 `swaplevel()` 还互换列索引，有两种写法：\n",
    "\n",
    "- `df.columns = df.columns.swaplevel( level_0_col_name, level_1_col_name )`\n",
    "- `df.columns = df.columns.swaplevel( 0, 1 )`\n",
    "\n",
    "### 互换索引"
   ]
  },
  {
   "cell_type": "code",
   "execution_count": 210,
   "metadata": {
    "source_collapsed": false
   },
   "outputs": [
    {
     "data": {
      "text/html": [
       "<div>\n",
       "<style scoped>\n",
       "    .dataframe tbody tr th:only-of-type {\n",
       "        vertical-align: middle;\n",
       "    }\n",
       "\n",
       "    .dataframe tbody tr th {\n",
       "        vertical-align: top;\n",
       "    }\n",
       "\n",
       "    .dataframe thead tr th {\n",
       "        text-align: left;\n",
       "    }\n",
       "\n",
       "    .dataframe thead tr:last-of-type th {\n",
       "        text-align: right;\n",
       "    }\n",
       "</style>\n",
       "<table border=\"1\" class=\"dataframe\">\n",
       "  <thead>\n",
       "    <tr>\n",
       "      <th></th>\n",
       "      <th>概括</th>\n",
       "      <th colspan=\"2\" halign=\"left\">公司数据</th>\n",
       "      <th colspan=\"2\" halign=\"left\">交易数据</th>\n",
       "    </tr>\n",
       "    <tr>\n",
       "      <th></th>\n",
       "      <th>细分</th>\n",
       "      <th>行业</th>\n",
       "      <th>雇员</th>\n",
       "      <th>价格</th>\n",
       "      <th>交易量</th>\n",
       "    </tr>\n",
       "    <tr>\n",
       "      <th>代号</th>\n",
       "      <th>地区</th>\n",
       "      <th></th>\n",
       "      <th></th>\n",
       "      <th></th>\n",
       "      <th></th>\n",
       "    </tr>\n",
       "  </thead>\n",
       "  <tbody>\n",
       "    <tr>\n",
       "      <th>BABA</th>\n",
       "      <th>中国</th>\n",
       "      <td>电商</td>\n",
       "      <td>101550</td>\n",
       "      <td>176.92</td>\n",
       "      <td>16175610</td>\n",
       "    </tr>\n",
       "    <tr>\n",
       "      <th>JD</th>\n",
       "      <th>中国</th>\n",
       "      <td>电商</td>\n",
       "      <td>175336</td>\n",
       "      <td>25.95</td>\n",
       "      <td>27113291</td>\n",
       "    </tr>\n",
       "    <tr>\n",
       "      <th>GS</th>\n",
       "      <th>美国</th>\n",
       "      <td>金融</td>\n",
       "      <td>60348</td>\n",
       "      <td>41.79</td>\n",
       "      <td>10132145</td>\n",
       "    </tr>\n",
       "    <tr>\n",
       "      <th>MS</th>\n",
       "      <th>美国</th>\n",
       "      <td>金融</td>\n",
       "      <td>36600</td>\n",
       "      <td>196.00</td>\n",
       "      <td>2626634</td>\n",
       "    </tr>\n",
       "  </tbody>\n",
       "</table>\n",
       "</div>"
      ],
      "text/plain": [
       "概括      公司数据            交易数据          \n",
       "细分        行业      雇员      价格       交易量\n",
       "代号   地区                               \n",
       "BABA 中国   电商  101550  176.92  16175610\n",
       "JD   中国   电商  175336   25.95  27113291\n",
       "GS   美国   金融   60348   41.79  10132145\n",
       "MS   美国   金融   36600  196.00   2626634"
      ]
     },
     "execution_count": 210,
     "metadata": {},
     "output_type": "execute_result"
    }
   ],
   "source": [
    "df.swaplevel('地区', '代号')"
   ]
  },
  {
   "cell_type": "code",
   "execution_count": 211,
   "metadata": {},
   "outputs": [
    {
     "data": {
      "text/html": [
       "<div>\n",
       "<style scoped>\n",
       "    .dataframe tbody tr th:only-of-type {\n",
       "        vertical-align: middle;\n",
       "    }\n",
       "\n",
       "    .dataframe tbody tr th {\n",
       "        vertical-align: top;\n",
       "    }\n",
       "\n",
       "    .dataframe thead tr th {\n",
       "        text-align: left;\n",
       "    }\n",
       "\n",
       "    .dataframe thead tr:last-of-type th {\n",
       "        text-align: right;\n",
       "    }\n",
       "</style>\n",
       "<table border=\"1\" class=\"dataframe\">\n",
       "  <thead>\n",
       "    <tr>\n",
       "      <th></th>\n",
       "      <th>概括</th>\n",
       "      <th colspan=\"2\" halign=\"left\">公司数据</th>\n",
       "      <th colspan=\"2\" halign=\"left\">交易数据</th>\n",
       "    </tr>\n",
       "    <tr>\n",
       "      <th></th>\n",
       "      <th>细分</th>\n",
       "      <th>行业</th>\n",
       "      <th>雇员</th>\n",
       "      <th>价格</th>\n",
       "      <th>交易量</th>\n",
       "    </tr>\n",
       "    <tr>\n",
       "      <th>代号</th>\n",
       "      <th>地区</th>\n",
       "      <th></th>\n",
       "      <th></th>\n",
       "      <th></th>\n",
       "      <th></th>\n",
       "    </tr>\n",
       "  </thead>\n",
       "  <tbody>\n",
       "    <tr>\n",
       "      <th>BABA</th>\n",
       "      <th>中国</th>\n",
       "      <td>电商</td>\n",
       "      <td>101550</td>\n",
       "      <td>176.92</td>\n",
       "      <td>16175610</td>\n",
       "    </tr>\n",
       "    <tr>\n",
       "      <th>JD</th>\n",
       "      <th>中国</th>\n",
       "      <td>电商</td>\n",
       "      <td>175336</td>\n",
       "      <td>25.95</td>\n",
       "      <td>27113291</td>\n",
       "    </tr>\n",
       "    <tr>\n",
       "      <th>GS</th>\n",
       "      <th>美国</th>\n",
       "      <td>金融</td>\n",
       "      <td>60348</td>\n",
       "      <td>41.79</td>\n",
       "      <td>10132145</td>\n",
       "    </tr>\n",
       "    <tr>\n",
       "      <th>MS</th>\n",
       "      <th>美国</th>\n",
       "      <td>金融</td>\n",
       "      <td>36600</td>\n",
       "      <td>196.00</td>\n",
       "      <td>2626634</td>\n",
       "    </tr>\n",
       "  </tbody>\n",
       "</table>\n",
       "</div>"
      ],
      "text/plain": [
       "概括      公司数据            交易数据          \n",
       "细分        行业      雇员      价格       交易量\n",
       "代号   地区                               \n",
       "BABA 中国   电商  101550  176.92  16175610\n",
       "JD   中国   电商  175336   25.95  27113291\n",
       "GS   美国   金融   60348   41.79  10132145\n",
       "MS   美国   金融   36600  196.00   2626634"
      ]
     },
     "execution_count": 211,
     "metadata": {},
     "output_type": "execute_result"
    }
   ],
   "source": [
    "df1 = df.copy()\n",
    "df1.index = df1.index.swaplevel(0, 1)\n",
    "df1"
   ]
  },
  {
   "cell_type": "code",
   "execution_count": 212,
   "metadata": {
    "source_collapsed": false
   },
   "outputs": [
    {
     "data": {
      "text/html": [
       "<div>\n",
       "<style scoped>\n",
       "    .dataframe tbody tr th:only-of-type {\n",
       "        vertical-align: middle;\n",
       "    }\n",
       "\n",
       "    .dataframe tbody tr th {\n",
       "        vertical-align: top;\n",
       "    }\n",
       "\n",
       "    .dataframe thead tr th {\n",
       "        text-align: left;\n",
       "    }\n",
       "\n",
       "    .dataframe thead tr:last-of-type th {\n",
       "        text-align: right;\n",
       "    }\n",
       "</style>\n",
       "<table border=\"1\" class=\"dataframe\">\n",
       "  <thead>\n",
       "    <tr>\n",
       "      <th></th>\n",
       "      <th>细分</th>\n",
       "      <th>行业</th>\n",
       "      <th>雇员</th>\n",
       "      <th>价格</th>\n",
       "      <th>交易量</th>\n",
       "    </tr>\n",
       "    <tr>\n",
       "      <th></th>\n",
       "      <th>概括</th>\n",
       "      <th>公司数据</th>\n",
       "      <th>公司数据</th>\n",
       "      <th>交易数据</th>\n",
       "      <th>交易数据</th>\n",
       "    </tr>\n",
       "    <tr>\n",
       "      <th>地区</th>\n",
       "      <th>代号</th>\n",
       "      <th></th>\n",
       "      <th></th>\n",
       "      <th></th>\n",
       "      <th></th>\n",
       "    </tr>\n",
       "  </thead>\n",
       "  <tbody>\n",
       "    <tr>\n",
       "      <th rowspan=\"2\" valign=\"top\">中国</th>\n",
       "      <th>BABA</th>\n",
       "      <td>电商</td>\n",
       "      <td>101550</td>\n",
       "      <td>176.92</td>\n",
       "      <td>16175610</td>\n",
       "    </tr>\n",
       "    <tr>\n",
       "      <th>JD</th>\n",
       "      <td>电商</td>\n",
       "      <td>175336</td>\n",
       "      <td>25.95</td>\n",
       "      <td>27113291</td>\n",
       "    </tr>\n",
       "    <tr>\n",
       "      <th rowspan=\"2\" valign=\"top\">美国</th>\n",
       "      <th>GS</th>\n",
       "      <td>金融</td>\n",
       "      <td>60348</td>\n",
       "      <td>41.79</td>\n",
       "      <td>10132145</td>\n",
       "    </tr>\n",
       "    <tr>\n",
       "      <th>MS</th>\n",
       "      <td>金融</td>\n",
       "      <td>36600</td>\n",
       "      <td>196.00</td>\n",
       "      <td>2626634</td>\n",
       "    </tr>\n",
       "  </tbody>\n",
       "</table>\n",
       "</div>"
      ],
      "text/plain": [
       "细分        行业      雇员      价格       交易量\n",
       "概括      公司数据    公司数据    交易数据      交易数据\n",
       "地区 代号                                 \n",
       "中国 BABA   电商  101550  176.92  16175610\n",
       "   JD     电商  175336   25.95  27113291\n",
       "美国 GS     金融   60348   41.79  10132145\n",
       "   MS     金融   36600  196.00   2626634"
      ]
     },
     "execution_count": 212,
     "metadata": {},
     "output_type": "execute_result"
    }
   ],
   "source": [
    "df1 = df.copy()\n",
    "df1.columns = df1.columns.swaplevel('细分', '概括')\n",
    "df1"
   ]
  },
  {
   "cell_type": "code",
   "execution_count": 213,
   "metadata": {},
   "outputs": [
    {
     "data": {
      "text/html": [
       "<div>\n",
       "<style scoped>\n",
       "    .dataframe tbody tr th:only-of-type {\n",
       "        vertical-align: middle;\n",
       "    }\n",
       "\n",
       "    .dataframe tbody tr th {\n",
       "        vertical-align: top;\n",
       "    }\n",
       "\n",
       "    .dataframe thead tr th {\n",
       "        text-align: left;\n",
       "    }\n",
       "\n",
       "    .dataframe thead tr:last-of-type th {\n",
       "        text-align: right;\n",
       "    }\n",
       "</style>\n",
       "<table border=\"1\" class=\"dataframe\">\n",
       "  <thead>\n",
       "    <tr>\n",
       "      <th></th>\n",
       "      <th>细分</th>\n",
       "      <th>行业</th>\n",
       "      <th>雇员</th>\n",
       "      <th>价格</th>\n",
       "      <th>交易量</th>\n",
       "    </tr>\n",
       "    <tr>\n",
       "      <th></th>\n",
       "      <th>概括</th>\n",
       "      <th>公司数据</th>\n",
       "      <th>公司数据</th>\n",
       "      <th>交易数据</th>\n",
       "      <th>交易数据</th>\n",
       "    </tr>\n",
       "    <tr>\n",
       "      <th>地区</th>\n",
       "      <th>代号</th>\n",
       "      <th></th>\n",
       "      <th></th>\n",
       "      <th></th>\n",
       "      <th></th>\n",
       "    </tr>\n",
       "  </thead>\n",
       "  <tbody>\n",
       "    <tr>\n",
       "      <th rowspan=\"2\" valign=\"top\">中国</th>\n",
       "      <th>BABA</th>\n",
       "      <td>电商</td>\n",
       "      <td>101550</td>\n",
       "      <td>176.92</td>\n",
       "      <td>16175610</td>\n",
       "    </tr>\n",
       "    <tr>\n",
       "      <th>JD</th>\n",
       "      <td>电商</td>\n",
       "      <td>175336</td>\n",
       "      <td>25.95</td>\n",
       "      <td>27113291</td>\n",
       "    </tr>\n",
       "    <tr>\n",
       "      <th rowspan=\"2\" valign=\"top\">美国</th>\n",
       "      <th>GS</th>\n",
       "      <td>金融</td>\n",
       "      <td>60348</td>\n",
       "      <td>41.79</td>\n",
       "      <td>10132145</td>\n",
       "    </tr>\n",
       "    <tr>\n",
       "      <th>MS</th>\n",
       "      <td>金融</td>\n",
       "      <td>36600</td>\n",
       "      <td>196.00</td>\n",
       "      <td>2626634</td>\n",
       "    </tr>\n",
       "  </tbody>\n",
       "</table>\n",
       "</div>"
      ],
      "text/plain": [
       "细分        行业      雇员      价格       交易量\n",
       "概括      公司数据    公司数据    交易数据      交易数据\n",
       "地区 代号                                 \n",
       "中国 BABA   电商  101550  176.92  16175610\n",
       "   JD     电商  175336   25.95  27113291\n",
       "美国 GS     金融   60348   41.79  10132145\n",
       "   MS     金融   36600  196.00   2626634"
      ]
     },
     "execution_count": 213,
     "metadata": {},
     "output_type": "execute_result"
    }
   ],
   "source": [
    "df1 = df.copy()\n",
    "df1.columns = df1.columns.swaplevel(0, 1)\n",
    "df1"
   ]
  },
  {
   "cell_type": "markdown",
   "metadata": {
    "source_collapsed": false
   },
   "source": [
    "### 设置行索引"
   ]
  },
  {
   "cell_type": "code",
   "execution_count": 180,
   "metadata": {
    "source_collapsed": false
   },
   "outputs": [
    {
     "data": {
      "text/html": [
       "<div>\n",
       "<style scoped>\n",
       "    .dataframe tbody tr th:only-of-type {\n",
       "        vertical-align: middle;\n",
       "    }\n",
       "\n",
       "    .dataframe tbody tr th {\n",
       "        vertical-align: top;\n",
       "    }\n",
       "\n",
       "    .dataframe thead th {\n",
       "        text-align: right;\n",
       "    }\n",
       "</style>\n",
       "<table border=\"1\" class=\"dataframe\">\n",
       "  <thead>\n",
       "    <tr style=\"text-align: right;\">\n",
       "      <th></th>\n",
       "      <th>地区</th>\n",
       "      <th>代号</th>\n",
       "      <th>行业</th>\n",
       "      <th>价格</th>\n",
       "      <th>交易量</th>\n",
       "      <th>雇员</th>\n",
       "    </tr>\n",
       "  </thead>\n",
       "  <tbody>\n",
       "    <tr>\n",
       "      <th>0</th>\n",
       "      <td>中国</td>\n",
       "      <td>BABA</td>\n",
       "      <td>电商</td>\n",
       "      <td>176.92</td>\n",
       "      <td>16175610</td>\n",
       "      <td>101550</td>\n",
       "    </tr>\n",
       "    <tr>\n",
       "      <th>1</th>\n",
       "      <td>中国</td>\n",
       "      <td>JD</td>\n",
       "      <td>电商</td>\n",
       "      <td>25.95</td>\n",
       "      <td>27113291</td>\n",
       "      <td>175336</td>\n",
       "    </tr>\n",
       "    <tr>\n",
       "      <th>2</th>\n",
       "      <td>美国</td>\n",
       "      <td>MS</td>\n",
       "      <td>金融</td>\n",
       "      <td>41.79</td>\n",
       "      <td>10132145</td>\n",
       "      <td>60348</td>\n",
       "    </tr>\n",
       "    <tr>\n",
       "      <th>3</th>\n",
       "      <td>美国</td>\n",
       "      <td>GS</td>\n",
       "      <td>金融</td>\n",
       "      <td>196.00</td>\n",
       "      <td>2626634</td>\n",
       "      <td>36600</td>\n",
       "    </tr>\n",
       "  </tbody>\n",
       "</table>\n",
       "</div>"
      ],
      "text/plain": [
       "   地区    代号  行业      价格       交易量      雇员\n",
       "0  中国  BABA  电商  176.92  16175610  101550\n",
       "1  中国    JD  电商   25.95  27113291  175336\n",
       "2  美国    MS  金融   41.79  10132145   60348\n",
       "3  美国    GS  金融  196.00   2626634   36600"
      ]
     },
     "execution_count": 180,
     "metadata": {},
     "output_type": "execute_result"
    }
   ],
   "source": [
    "data = {'地区': ['中国', '中国', '美国', '美国'],\n",
    "        '代号': ['BABA', 'JD', 'MS', 'GS'],\n",
    "        '行业': ['电商', '电商', '金融', '金融'],\n",
    "        '价格': [176.92, 25.95, 41.79, 196.00],\n",
    "        '交易量': [16175610, 27113291, 10132145, 2626634],\n",
    "        '雇员': [101550, 175336, 60348, 36600] }\n",
    "df = pd.DataFrame( data )\n",
    "df"
   ]
  },
  {
   "cell_type": "code",
   "execution_count": 181,
   "metadata": {
    "source_collapsed": false
   },
   "outputs": [
    {
     "data": {
      "text/html": [
       "<div>\n",
       "<style scoped>\n",
       "    .dataframe tbody tr th:only-of-type {\n",
       "        vertical-align: middle;\n",
       "    }\n",
       "\n",
       "    .dataframe tbody tr th {\n",
       "        vertical-align: top;\n",
       "    }\n",
       "\n",
       "    .dataframe thead th {\n",
       "        text-align: right;\n",
       "    }\n",
       "</style>\n",
       "<table border=\"1\" class=\"dataframe\">\n",
       "  <thead>\n",
       "    <tr style=\"text-align: right;\">\n",
       "      <th></th>\n",
       "      <th></th>\n",
       "      <th>行业</th>\n",
       "      <th>价格</th>\n",
       "      <th>交易量</th>\n",
       "      <th>雇员</th>\n",
       "    </tr>\n",
       "    <tr>\n",
       "      <th>地区</th>\n",
       "      <th>代号</th>\n",
       "      <th></th>\n",
       "      <th></th>\n",
       "      <th></th>\n",
       "      <th></th>\n",
       "    </tr>\n",
       "  </thead>\n",
       "  <tbody>\n",
       "    <tr>\n",
       "      <th rowspan=\"2\" valign=\"top\">中国</th>\n",
       "      <th>BABA</th>\n",
       "      <td>电商</td>\n",
       "      <td>176.92</td>\n",
       "      <td>16175610</td>\n",
       "      <td>101550</td>\n",
       "    </tr>\n",
       "    <tr>\n",
       "      <th>JD</th>\n",
       "      <td>电商</td>\n",
       "      <td>25.95</td>\n",
       "      <td>27113291</td>\n",
       "      <td>175336</td>\n",
       "    </tr>\n",
       "    <tr>\n",
       "      <th rowspan=\"2\" valign=\"top\">美国</th>\n",
       "      <th>MS</th>\n",
       "      <td>金融</td>\n",
       "      <td>41.79</td>\n",
       "      <td>10132145</td>\n",
       "      <td>60348</td>\n",
       "    </tr>\n",
       "    <tr>\n",
       "      <th>GS</th>\n",
       "      <td>金融</td>\n",
       "      <td>196.00</td>\n",
       "      <td>2626634</td>\n",
       "      <td>36600</td>\n",
       "    </tr>\n",
       "  </tbody>\n",
       "</table>\n",
       "</div>"
      ],
      "text/plain": [
       "         行业      价格       交易量      雇员\n",
       "地区 代号                                \n",
       "中国 BABA  电商  176.92  16175610  101550\n",
       "   JD    电商   25.95  27113291  175336\n",
       "美国 MS    金融   41.79  10132145   60348\n",
       "   GS    金融  196.00   2626634   36600"
      ]
     },
     "execution_count": 181,
     "metadata": {},
     "output_type": "execute_result"
    }
   ],
   "source": [
    "df2 = df.set_index( ['地区','代号'] )\n",
    "df2"
   ]
  },
  {
   "cell_type": "markdown",
   "metadata": {},
   "source": [
    "### 重设行索引"
   ]
  },
  {
   "cell_type": "code",
   "execution_count": 182,
   "metadata": {
    "source_collapsed": false
   },
   "outputs": [
    {
     "data": {
      "text/html": [
       "<div>\n",
       "<style scoped>\n",
       "    .dataframe tbody tr th:only-of-type {\n",
       "        vertical-align: middle;\n",
       "    }\n",
       "\n",
       "    .dataframe tbody tr th {\n",
       "        vertical-align: top;\n",
       "    }\n",
       "\n",
       "    .dataframe thead th {\n",
       "        text-align: right;\n",
       "    }\n",
       "</style>\n",
       "<table border=\"1\" class=\"dataframe\">\n",
       "  <thead>\n",
       "    <tr style=\"text-align: right;\">\n",
       "      <th></th>\n",
       "      <th>地区</th>\n",
       "      <th>代号</th>\n",
       "      <th>行业</th>\n",
       "      <th>价格</th>\n",
       "      <th>交易量</th>\n",
       "      <th>雇员</th>\n",
       "    </tr>\n",
       "  </thead>\n",
       "  <tbody>\n",
       "    <tr>\n",
       "      <th>0</th>\n",
       "      <td>中国</td>\n",
       "      <td>BABA</td>\n",
       "      <td>电商</td>\n",
       "      <td>176.92</td>\n",
       "      <td>16175610</td>\n",
       "      <td>101550</td>\n",
       "    </tr>\n",
       "    <tr>\n",
       "      <th>1</th>\n",
       "      <td>中国</td>\n",
       "      <td>JD</td>\n",
       "      <td>电商</td>\n",
       "      <td>25.95</td>\n",
       "      <td>27113291</td>\n",
       "      <td>175336</td>\n",
       "    </tr>\n",
       "    <tr>\n",
       "      <th>2</th>\n",
       "      <td>美国</td>\n",
       "      <td>MS</td>\n",
       "      <td>金融</td>\n",
       "      <td>41.79</td>\n",
       "      <td>10132145</td>\n",
       "      <td>60348</td>\n",
       "    </tr>\n",
       "    <tr>\n",
       "      <th>3</th>\n",
       "      <td>美国</td>\n",
       "      <td>GS</td>\n",
       "      <td>金融</td>\n",
       "      <td>196.00</td>\n",
       "      <td>2626634</td>\n",
       "      <td>36600</td>\n",
       "    </tr>\n",
       "  </tbody>\n",
       "</table>\n",
       "</div>"
      ],
      "text/plain": [
       "   地区    代号  行业      价格       交易量      雇员\n",
       "0  中国  BABA  电商  176.92  16175610  101550\n",
       "1  中国    JD  电商   25.95  27113291  175336\n",
       "2  美国    MS  金融   41.79  10132145   60348\n",
       "3  美国    GS  金融  196.00   2626634   36600"
      ]
     },
     "execution_count": 182,
     "metadata": {},
     "output_type": "execute_result"
    }
   ],
   "source": [
    "df2.reset_index()"
   ]
  },
  {
   "cell_type": "markdown",
   "metadata": {},
   "source": [
    "### 排序行索引"
   ]
  },
  {
   "cell_type": "code",
   "execution_count": 214,
   "metadata": {
    "source_collapsed": false
   },
   "outputs": [
    {
     "data": {
      "text/html": [
       "<div>\n",
       "<style scoped>\n",
       "    .dataframe tbody tr th:only-of-type {\n",
       "        vertical-align: middle;\n",
       "    }\n",
       "\n",
       "    .dataframe tbody tr th {\n",
       "        vertical-align: top;\n",
       "    }\n",
       "\n",
       "    .dataframe thead th {\n",
       "        text-align: right;\n",
       "    }\n",
       "</style>\n",
       "<table border=\"1\" class=\"dataframe\">\n",
       "  <thead>\n",
       "    <tr style=\"text-align: right;\">\n",
       "      <th></th>\n",
       "      <th></th>\n",
       "      <th>行业</th>\n",
       "      <th>价格</th>\n",
       "      <th>交易量</th>\n",
       "      <th>雇员</th>\n",
       "    </tr>\n",
       "    <tr>\n",
       "      <th>地区</th>\n",
       "      <th>代号</th>\n",
       "      <th></th>\n",
       "      <th></th>\n",
       "      <th></th>\n",
       "      <th></th>\n",
       "    </tr>\n",
       "  </thead>\n",
       "  <tbody>\n",
       "    <tr>\n",
       "      <th rowspan=\"2\" valign=\"top\">中国</th>\n",
       "      <th>BABA</th>\n",
       "      <td>电商</td>\n",
       "      <td>176.92</td>\n",
       "      <td>16175610</td>\n",
       "      <td>101550</td>\n",
       "    </tr>\n",
       "    <tr>\n",
       "      <th>JD</th>\n",
       "      <td>电商</td>\n",
       "      <td>25.95</td>\n",
       "      <td>27113291</td>\n",
       "      <td>175336</td>\n",
       "    </tr>\n",
       "    <tr>\n",
       "      <th rowspan=\"2\" valign=\"top\">美国</th>\n",
       "      <th>GS</th>\n",
       "      <td>金融</td>\n",
       "      <td>196.00</td>\n",
       "      <td>2626634</td>\n",
       "      <td>36600</td>\n",
       "    </tr>\n",
       "    <tr>\n",
       "      <th>MS</th>\n",
       "      <td>金融</td>\n",
       "      <td>41.79</td>\n",
       "      <td>10132145</td>\n",
       "      <td>60348</td>\n",
       "    </tr>\n",
       "  </tbody>\n",
       "</table>\n",
       "</div>"
      ],
      "text/plain": [
       "         行业      价格       交易量      雇员\n",
       "地区 代号                                \n",
       "中国 BABA  电商  176.92  16175610  101550\n",
       "   JD    电商   25.95  27113291  175336\n",
       "美国 GS    金融  196.00   2626634   36600\n",
       "   MS    金融   41.79  10132145   60348"
      ]
     },
     "execution_count": 214,
     "metadata": {},
     "output_type": "execute_result"
    }
   ],
   "source": [
    "df2.sort_index(level=0)"
   ]
  },
  {
   "cell_type": "code",
   "execution_count": 215,
   "metadata": {},
   "outputs": [
    {
     "data": {
      "text/html": [
       "<div>\n",
       "<style scoped>\n",
       "    .dataframe tbody tr th:only-of-type {\n",
       "        vertical-align: middle;\n",
       "    }\n",
       "\n",
       "    .dataframe tbody tr th {\n",
       "        vertical-align: top;\n",
       "    }\n",
       "\n",
       "    .dataframe thead th {\n",
       "        text-align: right;\n",
       "    }\n",
       "</style>\n",
       "<table border=\"1\" class=\"dataframe\">\n",
       "  <thead>\n",
       "    <tr style=\"text-align: right;\">\n",
       "      <th></th>\n",
       "      <th></th>\n",
       "      <th>行业</th>\n",
       "      <th>价格</th>\n",
       "      <th>交易量</th>\n",
       "      <th>雇员</th>\n",
       "    </tr>\n",
       "    <tr>\n",
       "      <th>地区</th>\n",
       "      <th>代号</th>\n",
       "      <th></th>\n",
       "      <th></th>\n",
       "      <th></th>\n",
       "      <th></th>\n",
       "    </tr>\n",
       "  </thead>\n",
       "  <tbody>\n",
       "    <tr>\n",
       "      <th>中国</th>\n",
       "      <th>BABA</th>\n",
       "      <td>电商</td>\n",
       "      <td>176.92</td>\n",
       "      <td>16175610</td>\n",
       "      <td>101550</td>\n",
       "    </tr>\n",
       "    <tr>\n",
       "      <th>美国</th>\n",
       "      <th>GS</th>\n",
       "      <td>金融</td>\n",
       "      <td>196.00</td>\n",
       "      <td>2626634</td>\n",
       "      <td>36600</td>\n",
       "    </tr>\n",
       "    <tr>\n",
       "      <th>中国</th>\n",
       "      <th>JD</th>\n",
       "      <td>电商</td>\n",
       "      <td>25.95</td>\n",
       "      <td>27113291</td>\n",
       "      <td>175336</td>\n",
       "    </tr>\n",
       "    <tr>\n",
       "      <th>美国</th>\n",
       "      <th>MS</th>\n",
       "      <td>金融</td>\n",
       "      <td>41.79</td>\n",
       "      <td>10132145</td>\n",
       "      <td>60348</td>\n",
       "    </tr>\n",
       "  </tbody>\n",
       "</table>\n",
       "</div>"
      ],
      "text/plain": [
       "         行业      价格       交易量      雇员\n",
       "地区 代号                                \n",
       "中国 BABA  电商  176.92  16175610  101550\n",
       "美国 GS    金融  196.00   2626634   36600\n",
       "中国 JD    电商   25.95  27113291  175336\n",
       "美国 MS    金融   41.79  10132145   60348"
      ]
     },
     "execution_count": 215,
     "metadata": {},
     "output_type": "execute_result"
    }
   ],
   "source": [
    "df2.sort_index(level=1)"
   ]
  },
  {
   "cell_type": "markdown",
   "metadata": {
    "source_collapsed": false
   },
   "source": [
    "# <font color='#dc2624' face='微软雅黑'>5. 数据结合</font><a name='5'></a>\n",
    "[<font color='black' face='微软雅黑'>回到目录</font>](#toc)\n",
    "\n",
    "数据结合的方式有两种，具体来说数据表可以\n",
    "\n",
    "- 按「键」合并，用 `merge()` 和 `join()` 函数，后者是前者的特殊情况。\n",
    "- 按「轴」连接，用 `concat()` 和 `append()` 函数，后者是前者的特殊情况。\n",
    "\n",
    "### <font color='#2b4750' face='微软雅黑'>5.1 按「键」合并</font><a name='5.1'></a>\n",
    "[<font color='black' face='微软雅黑'>回到章首</font>](#5)\n",
    "\n",
    "### <div style=\"text-align: center\"><font color='black' face='微软雅黑'>合并 `merge()`</font></div>\n",
    "\n",
    "合并用的 `merge()` 函数，语法如下：\n",
    "\n",
    "    pd.merge( df1, df2, how=s, on=c )\n",
    "\n",
    "其中 `on=c` 是 `df1` 和 `df2` 共有列标签：\n",
    "\n",
    "- 如果 c 有一个，那么是按**单键合并**\n",
    "- 如果 c 有多个，那么是按**多键合并**\n",
    "- 如果不设定 c，那么默认**按 `df1` 和 `df2` 共有列标签合并**\n",
    "\n",
    "合并方式 `how=s` 有四种：\n",
    "\n",
    "- 左连接 (left join)：合并之后显示 **`df1` 的所有行**\n",
    "- 右连接 (right join)：合并之后显示 **`df2` 的所有行**\n",
    "- 外连接 (outer join)：合并 **`df1` 和 `df2`的所有行**\n",
    "- 内连接 (inner join)：合并 **`df1` 和 `df2` 的共有行**\n",
    "\n",
    "<font color='red' face='微软雅黑'>**注意：内连接是默认情况。**</font>\n",
    "\n",
    "### <font color='blue' face='微软雅黑'>单键合并</font>\n",
    "\n",
    "首先创建两个数据帧，共有一个列标签是 Date：\n",
    "\n",
    "- `df_price`：4 天的价格 (2019-01-01 到 2019-01-04)\n",
    "- `df_volume`：5 天的交易量  (2019-01-02 到 2019-01-06)"
   ]
  },
  {
   "cell_type": "code",
   "execution_count": 3,
   "metadata": {
    "source_collapsed": false
   },
   "outputs": [
    {
     "data": {
      "text/html": [
       "<div>\n",
       "<style scoped>\n",
       "    .dataframe tbody tr th:only-of-type {\n",
       "        vertical-align: middle;\n",
       "    }\n",
       "\n",
       "    .dataframe tbody tr th {\n",
       "        vertical-align: top;\n",
       "    }\n",
       "\n",
       "    .dataframe thead th {\n",
       "        text-align: right;\n",
       "    }\n",
       "</style>\n",
       "<table border=\"1\" class=\"dataframe\">\n",
       "  <thead>\n",
       "    <tr style=\"text-align: right;\">\n",
       "      <th></th>\n",
       "      <th>Date</th>\n",
       "      <th>Adj Close</th>\n",
       "    </tr>\n",
       "  </thead>\n",
       "  <tbody>\n",
       "    <tr>\n",
       "      <th>0</th>\n",
       "      <td>2019-01-01</td>\n",
       "      <td>24.42</td>\n",
       "    </tr>\n",
       "    <tr>\n",
       "      <th>1</th>\n",
       "      <td>2019-01-02</td>\n",
       "      <td>25.00</td>\n",
       "    </tr>\n",
       "    <tr>\n",
       "      <th>2</th>\n",
       "      <td>2019-01-03</td>\n",
       "      <td>25.25</td>\n",
       "    </tr>\n",
       "    <tr>\n",
       "      <th>3</th>\n",
       "      <td>2019-01-04</td>\n",
       "      <td>25.64</td>\n",
       "    </tr>\n",
       "  </tbody>\n",
       "</table>\n",
       "</div>"
      ],
      "text/plain": [
       "        Date  Adj Close\n",
       "0 2019-01-01      24.42\n",
       "1 2019-01-02      25.00\n",
       "2 2019-01-03      25.25\n",
       "3 2019-01-04      25.64"
      ]
     },
     "execution_count": 3,
     "metadata": {},
     "output_type": "execute_result"
    }
   ],
   "source": [
    "df_price = pd.DataFrame( {'Date': pd.date_range('2019-1-1', periods=4),\n",
    "                          'Adj Close': [24.42, 25.00, 25.25, 25.64]})\n",
    "df_price"
   ]
  },
  {
   "cell_type": "code",
   "execution_count": 4,
   "metadata": {
    "source_collapsed": false
   },
   "outputs": [
    {
     "data": {
      "text/html": [
       "<div>\n",
       "<style scoped>\n",
       "    .dataframe tbody tr th:only-of-type {\n",
       "        vertical-align: middle;\n",
       "    }\n",
       "\n",
       "    .dataframe tbody tr th {\n",
       "        vertical-align: top;\n",
       "    }\n",
       "\n",
       "    .dataframe thead th {\n",
       "        text-align: right;\n",
       "    }\n",
       "</style>\n",
       "<table border=\"1\" class=\"dataframe\">\n",
       "  <thead>\n",
       "    <tr style=\"text-align: right;\">\n",
       "      <th></th>\n",
       "      <th>Date</th>\n",
       "      <th>Volume</th>\n",
       "    </tr>\n",
       "  </thead>\n",
       "  <tbody>\n",
       "    <tr>\n",
       "      <th>0</th>\n",
       "      <td>2019-01-02</td>\n",
       "      <td>56081400</td>\n",
       "    </tr>\n",
       "    <tr>\n",
       "      <th>1</th>\n",
       "      <td>2019-01-03</td>\n",
       "      <td>99455500</td>\n",
       "    </tr>\n",
       "    <tr>\n",
       "      <th>2</th>\n",
       "      <td>2019-01-04</td>\n",
       "      <td>83028700</td>\n",
       "    </tr>\n",
       "    <tr>\n",
       "      <th>3</th>\n",
       "      <td>2019-01-05</td>\n",
       "      <td>100234000</td>\n",
       "    </tr>\n",
       "    <tr>\n",
       "      <th>4</th>\n",
       "      <td>2019-01-06</td>\n",
       "      <td>73829000</td>\n",
       "    </tr>\n",
       "  </tbody>\n",
       "</table>\n",
       "</div>"
      ],
      "text/plain": [
       "        Date     Volume\n",
       "0 2019-01-02   56081400\n",
       "1 2019-01-03   99455500\n",
       "2 2019-01-04   83028700\n",
       "3 2019-01-05  100234000\n",
       "4 2019-01-06   73829000"
      ]
     },
     "execution_count": 4,
     "metadata": {},
     "output_type": "execute_result"
    }
   ],
   "source": [
    "df_volume = pd.DataFrame( {'Date': pd.date_range('2019-1-2', periods=5),\n",
    "                           'Volume' : [56081400, 99455500, 83028700, 100234000, 73829000]})\n",
    "df_volume"
   ]
  },
  {
   "cell_type": "markdown",
   "metadata": {
    "source_collapsed": false
   },
   "source": [
    "### 左连接"
   ]
  },
  {
   "cell_type": "code",
   "execution_count": 226,
   "metadata": {
    "source_collapsed": false
   },
   "outputs": [
    {
     "data": {
      "text/html": [
       "<div>\n",
       "<style scoped>\n",
       "    .dataframe tbody tr th:only-of-type {\n",
       "        vertical-align: middle;\n",
       "    }\n",
       "\n",
       "    .dataframe tbody tr th {\n",
       "        vertical-align: top;\n",
       "    }\n",
       "\n",
       "    .dataframe thead th {\n",
       "        text-align: right;\n",
       "    }\n",
       "</style>\n",
       "<table border=\"1\" class=\"dataframe\">\n",
       "  <thead>\n",
       "    <tr style=\"text-align: right;\">\n",
       "      <th></th>\n",
       "      <th>Date</th>\n",
       "      <th>Adj Close</th>\n",
       "      <th>Volume</th>\n",
       "    </tr>\n",
       "  </thead>\n",
       "  <tbody>\n",
       "    <tr>\n",
       "      <th>0</th>\n",
       "      <td>2019-01-01</td>\n",
       "      <td>24.42</td>\n",
       "      <td>NaN</td>\n",
       "    </tr>\n",
       "    <tr>\n",
       "      <th>1</th>\n",
       "      <td>2019-01-02</td>\n",
       "      <td>25.00</td>\n",
       "      <td>56081400.0</td>\n",
       "    </tr>\n",
       "    <tr>\n",
       "      <th>2</th>\n",
       "      <td>2019-01-03</td>\n",
       "      <td>25.25</td>\n",
       "      <td>99455500.0</td>\n",
       "    </tr>\n",
       "    <tr>\n",
       "      <th>3</th>\n",
       "      <td>2019-01-04</td>\n",
       "      <td>25.64</td>\n",
       "      <td>83028700.0</td>\n",
       "    </tr>\n",
       "  </tbody>\n",
       "</table>\n",
       "</div>"
      ],
      "text/plain": [
       "        Date  Adj Close      Volume\n",
       "0 2019-01-01      24.42         NaN\n",
       "1 2019-01-02      25.00  56081400.0\n",
       "2 2019-01-03      25.25  99455500.0\n",
       "3 2019-01-04      25.64  83028700.0"
      ]
     },
     "execution_count": 226,
     "metadata": {},
     "output_type": "execute_result"
    }
   ],
   "source": [
    "pd.merge( df_price, df_volume, how='left' )"
   ]
  },
  {
   "cell_type": "markdown",
   "metadata": {
    "source_collapsed": false
   },
   "source": [
    "按 `df_price` 里 Date 栏里的值来合并数据\n",
    "\n",
    "- `df_volume` 里 Date 栏里没有 2019-01-01，因此 Volume 为 NaN\n",
    "- `df_volume` 里 Date 栏里的 2019-01-05 和 2019-01-06 不在 `df_price` 里 Date 栏，因此丢弃\n",
    "\n",
    "### 右连接"
   ]
  },
  {
   "cell_type": "code",
   "execution_count": 219,
   "metadata": {
    "source_collapsed": false
   },
   "outputs": [
    {
     "data": {
      "text/html": [
       "<div>\n",
       "<style scoped>\n",
       "    .dataframe tbody tr th:only-of-type {\n",
       "        vertical-align: middle;\n",
       "    }\n",
       "\n",
       "    .dataframe tbody tr th {\n",
       "        vertical-align: top;\n",
       "    }\n",
       "\n",
       "    .dataframe thead th {\n",
       "        text-align: right;\n",
       "    }\n",
       "</style>\n",
       "<table border=\"1\" class=\"dataframe\">\n",
       "  <thead>\n",
       "    <tr style=\"text-align: right;\">\n",
       "      <th></th>\n",
       "      <th>Date</th>\n",
       "      <th>Adj Close</th>\n",
       "      <th>Volume</th>\n",
       "    </tr>\n",
       "  </thead>\n",
       "  <tbody>\n",
       "    <tr>\n",
       "      <th>0</th>\n",
       "      <td>2019-01-02</td>\n",
       "      <td>25.00</td>\n",
       "      <td>56081400</td>\n",
       "    </tr>\n",
       "    <tr>\n",
       "      <th>1</th>\n",
       "      <td>2019-01-03</td>\n",
       "      <td>25.25</td>\n",
       "      <td>99455500</td>\n",
       "    </tr>\n",
       "    <tr>\n",
       "      <th>2</th>\n",
       "      <td>2019-01-04</td>\n",
       "      <td>25.64</td>\n",
       "      <td>83028700</td>\n",
       "    </tr>\n",
       "    <tr>\n",
       "      <th>3</th>\n",
       "      <td>2019-01-05</td>\n",
       "      <td>NaN</td>\n",
       "      <td>100234000</td>\n",
       "    </tr>\n",
       "    <tr>\n",
       "      <th>4</th>\n",
       "      <td>2019-01-06</td>\n",
       "      <td>NaN</td>\n",
       "      <td>73829000</td>\n",
       "    </tr>\n",
       "  </tbody>\n",
       "</table>\n",
       "</div>"
      ],
      "text/plain": [
       "        Date  Adj Close     Volume\n",
       "0 2019-01-02      25.00   56081400\n",
       "1 2019-01-03      25.25   99455500\n",
       "2 2019-01-04      25.64   83028700\n",
       "3 2019-01-05        NaN  100234000\n",
       "4 2019-01-06        NaN   73829000"
      ]
     },
     "execution_count": 219,
     "metadata": {},
     "output_type": "execute_result"
    }
   ],
   "source": [
    "pd.merge( df_price, df_volume, how='right' )"
   ]
  },
  {
   "cell_type": "markdown",
   "metadata": {
    "source_collapsed": false
   },
   "source": [
    "按 `df_volume` 里 Date 栏里的值来合并数据\n",
    "\n",
    "- `df_price` 里 Date 栏里没有 2019-01-05 和 2019-01-06，因此 Adj Close 为 NaN\n",
    "- `df_price` 里 Date 栏里的 2019-01-01 不在 `df_volume` 里 Date 栏，因此丢弃\n",
    "\n",
    "### 内连接"
   ]
  },
  {
   "cell_type": "code",
   "execution_count": 5,
   "metadata": {
    "source_collapsed": false
   },
   "outputs": [
    {
     "data": {
      "text/html": [
       "<div>\n",
       "<style scoped>\n",
       "    .dataframe tbody tr th:only-of-type {\n",
       "        vertical-align: middle;\n",
       "    }\n",
       "\n",
       "    .dataframe tbody tr th {\n",
       "        vertical-align: top;\n",
       "    }\n",
       "\n",
       "    .dataframe thead th {\n",
       "        text-align: right;\n",
       "    }\n",
       "</style>\n",
       "<table border=\"1\" class=\"dataframe\">\n",
       "  <thead>\n",
       "    <tr style=\"text-align: right;\">\n",
       "      <th></th>\n",
       "      <th>Date</th>\n",
       "      <th>Adj Close</th>\n",
       "      <th>Volume</th>\n",
       "    </tr>\n",
       "  </thead>\n",
       "  <tbody>\n",
       "    <tr>\n",
       "      <th>0</th>\n",
       "      <td>2019-01-02</td>\n",
       "      <td>25.00</td>\n",
       "      <td>56081400</td>\n",
       "    </tr>\n",
       "    <tr>\n",
       "      <th>1</th>\n",
       "      <td>2019-01-03</td>\n",
       "      <td>25.25</td>\n",
       "      <td>99455500</td>\n",
       "    </tr>\n",
       "    <tr>\n",
       "      <th>2</th>\n",
       "      <td>2019-01-04</td>\n",
       "      <td>25.64</td>\n",
       "      <td>83028700</td>\n",
       "    </tr>\n",
       "  </tbody>\n",
       "</table>\n",
       "</div>"
      ],
      "text/plain": [
       "        Date  Adj Close    Volume\n",
       "0 2019-01-02      25.00  56081400\n",
       "1 2019-01-03      25.25  99455500\n",
       "2 2019-01-04      25.64  83028700"
      ]
     },
     "execution_count": 5,
     "metadata": {},
     "output_type": "execute_result"
    }
   ],
   "source": [
    "pd.merge( df_price, df_volume, how='inner' )"
   ]
  },
  {
   "cell_type": "markdown",
   "metadata": {
    "source_collapsed": false
   },
   "source": [
    "按 `df_price` 和 `df_volume` 里 Date 栏里的共有值来合并数据\n",
    "\n",
    "- `df_price 里 Date 栏里的 2019-01-01 不在 `df_volume` 里 Date 栏，因此丢弃\n",
    "- `df_volume 里 Date 栏里的 2019-01-05 和 2019-01-06 不在 `df_price` 里 Date 栏，因此丢弃\n",
    "\n",
    "### 外连接"
   ]
  },
  {
   "cell_type": "code",
   "execution_count": 220,
   "metadata": {
    "source_collapsed": false
   },
   "outputs": [
    {
     "data": {
      "text/html": [
       "<div>\n",
       "<style scoped>\n",
       "    .dataframe tbody tr th:only-of-type {\n",
       "        vertical-align: middle;\n",
       "    }\n",
       "\n",
       "    .dataframe tbody tr th {\n",
       "        vertical-align: top;\n",
       "    }\n",
       "\n",
       "    .dataframe thead th {\n",
       "        text-align: right;\n",
       "    }\n",
       "</style>\n",
       "<table border=\"1\" class=\"dataframe\">\n",
       "  <thead>\n",
       "    <tr style=\"text-align: right;\">\n",
       "      <th></th>\n",
       "      <th>Date</th>\n",
       "      <th>Adj Close</th>\n",
       "      <th>Volume</th>\n",
       "    </tr>\n",
       "  </thead>\n",
       "  <tbody>\n",
       "    <tr>\n",
       "      <th>0</th>\n",
       "      <td>2019-01-01</td>\n",
       "      <td>24.42</td>\n",
       "      <td>NaN</td>\n",
       "    </tr>\n",
       "    <tr>\n",
       "      <th>1</th>\n",
       "      <td>2019-01-02</td>\n",
       "      <td>25.00</td>\n",
       "      <td>56081400.0</td>\n",
       "    </tr>\n",
       "    <tr>\n",
       "      <th>2</th>\n",
       "      <td>2019-01-03</td>\n",
       "      <td>25.25</td>\n",
       "      <td>99455500.0</td>\n",
       "    </tr>\n",
       "    <tr>\n",
       "      <th>3</th>\n",
       "      <td>2019-01-04</td>\n",
       "      <td>25.64</td>\n",
       "      <td>83028700.0</td>\n",
       "    </tr>\n",
       "    <tr>\n",
       "      <th>4</th>\n",
       "      <td>2019-01-05</td>\n",
       "      <td>NaN</td>\n",
       "      <td>100234000.0</td>\n",
       "    </tr>\n",
       "    <tr>\n",
       "      <th>5</th>\n",
       "      <td>2019-01-06</td>\n",
       "      <td>NaN</td>\n",
       "      <td>73829000.0</td>\n",
       "    </tr>\n",
       "  </tbody>\n",
       "</table>\n",
       "</div>"
      ],
      "text/plain": [
       "        Date  Adj Close       Volume\n",
       "0 2019-01-01      24.42          NaN\n",
       "1 2019-01-02      25.00   56081400.0\n",
       "2 2019-01-03      25.25   99455500.0\n",
       "3 2019-01-04      25.64   83028700.0\n",
       "4 2019-01-05        NaN  100234000.0\n",
       "5 2019-01-06        NaN   73829000.0"
      ]
     },
     "execution_count": 220,
     "metadata": {},
     "output_type": "execute_result"
    }
   ],
   "source": [
    "pd.merge( df_price, df_volume, how='outer' )"
   ]
  },
  {
   "cell_type": "markdown",
   "metadata": {
    "source_collapsed": false
   },
   "source": [
    "按 `df_price` 和 `df_volume` 里 Date 栏里的所有值来合并数据\n",
    "\n",
    "- `df_price` 里 Date 栏里没有 2019-01-05 和 2019-01-06，因此 Adj Close 为 NaN\n",
    "- `df_volume` 里 Date 栏里没有 2019-01-01，因此 Volume 为 NaN\n",
    "\n",
    "用 `merge()` 函数合并的四种情况总结于下图：\n",
    "\n",
    "<img src=\"merge.PNG\" style=\"width:800px; height:400px;\">\n",
    "\n",
    "### <font color='blue' face='微软雅黑'>多键合并</font>\n",
    "\n",
    "首先创建两个数据帧，共有三个列标签是 Asset, Instrument 和 Number：\n",
    "\n",
    "- portfolio1：含 3 种产品 FX Option, FX Swap 和 IR Option\n",
    "- portfolio2：含 4 种产品 FX Option (重复), FX Swap 和 IR Swap"
   ]
  },
  {
   "cell_type": "code",
   "execution_count": 227,
   "metadata": {
    "source_collapsed": false
   },
   "outputs": [
    {
     "data": {
      "text/html": [
       "<div>\n",
       "<style scoped>\n",
       "    .dataframe tbody tr th:only-of-type {\n",
       "        vertical-align: middle;\n",
       "    }\n",
       "\n",
       "    .dataframe tbody tr th {\n",
       "        vertical-align: top;\n",
       "    }\n",
       "\n",
       "    .dataframe thead th {\n",
       "        text-align: right;\n",
       "    }\n",
       "</style>\n",
       "<table border=\"1\" class=\"dataframe\">\n",
       "  <thead>\n",
       "    <tr style=\"text-align: right;\">\n",
       "      <th></th>\n",
       "      <th>Asset</th>\n",
       "      <th>Instrument</th>\n",
       "      <th>Number</th>\n",
       "    </tr>\n",
       "  </thead>\n",
       "  <tbody>\n",
       "    <tr>\n",
       "      <th>0</th>\n",
       "      <td>FX</td>\n",
       "      <td>Option</td>\n",
       "      <td>1</td>\n",
       "    </tr>\n",
       "    <tr>\n",
       "      <th>1</th>\n",
       "      <td>FX</td>\n",
       "      <td>Swap</td>\n",
       "      <td>2</td>\n",
       "    </tr>\n",
       "    <tr>\n",
       "      <th>2</th>\n",
       "      <td>IR</td>\n",
       "      <td>Option</td>\n",
       "      <td>3</td>\n",
       "    </tr>\n",
       "  </tbody>\n",
       "</table>\n",
       "</div>"
      ],
      "text/plain": [
       "  Asset Instrument  Number\n",
       "0    FX     Option       1\n",
       "1    FX       Swap       2\n",
       "2    IR     Option       3"
      ]
     },
     "execution_count": 227,
     "metadata": {},
     "output_type": "execute_result"
    }
   ],
   "source": [
    "porfolio1 = pd.DataFrame({'Asset': ['FX', 'FX', 'IR'], \n",
    "                          'Instrument': ['Option', 'Swap', 'Option'], \n",
    "                          'Number': [1, 2, 3]})\n",
    "porfolio1"
   ]
  },
  {
   "cell_type": "code",
   "execution_count": 228,
   "metadata": {
    "source_collapsed": false
   },
   "outputs": [
    {
     "data": {
      "text/html": [
       "<div>\n",
       "<style scoped>\n",
       "    .dataframe tbody tr th:only-of-type {\n",
       "        vertical-align: middle;\n",
       "    }\n",
       "\n",
       "    .dataframe tbody tr th {\n",
       "        vertical-align: top;\n",
       "    }\n",
       "\n",
       "    .dataframe thead th {\n",
       "        text-align: right;\n",
       "    }\n",
       "</style>\n",
       "<table border=\"1\" class=\"dataframe\">\n",
       "  <thead>\n",
       "    <tr style=\"text-align: right;\">\n",
       "      <th></th>\n",
       "      <th>Asset</th>\n",
       "      <th>Instrument</th>\n",
       "      <th>Number</th>\n",
       "    </tr>\n",
       "  </thead>\n",
       "  <tbody>\n",
       "    <tr>\n",
       "      <th>0</th>\n",
       "      <td>FX</td>\n",
       "      <td>Option</td>\n",
       "      <td>4</td>\n",
       "    </tr>\n",
       "    <tr>\n",
       "      <th>1</th>\n",
       "      <td>FX</td>\n",
       "      <td>Option</td>\n",
       "      <td>5</td>\n",
       "    </tr>\n",
       "    <tr>\n",
       "      <th>2</th>\n",
       "      <td>FX</td>\n",
       "      <td>Swap</td>\n",
       "      <td>6</td>\n",
       "    </tr>\n",
       "    <tr>\n",
       "      <th>3</th>\n",
       "      <td>IR</td>\n",
       "      <td>Swap</td>\n",
       "      <td>7</td>\n",
       "    </tr>\n",
       "  </tbody>\n",
       "</table>\n",
       "</div>"
      ],
      "text/plain": [
       "  Asset Instrument  Number\n",
       "0    FX     Option       4\n",
       "1    FX     Option       5\n",
       "2    FX       Swap       6\n",
       "3    IR       Swap       7"
      ]
     },
     "execution_count": 228,
     "metadata": {},
     "output_type": "execute_result"
    }
   ],
   "source": [
    "porfolio2 = pd.DataFrame({'Asset': ['FX', 'FX', 'FX', 'IR'], \n",
    "                          'Instrument': ['Option', 'Option', 'Swap', 'Swap'], \n",
    "                          'Number': [4, 5, 6, 7]})\n",
    "porfolio2"
   ]
  },
  {
   "cell_type": "markdown",
   "metadata": {},
   "source": [
    "在 Asset 和 Instrument 两个键上做外合并。"
   ]
  },
  {
   "cell_type": "code",
   "execution_count": 229,
   "metadata": {
    "source_collapsed": false
   },
   "outputs": [
    {
     "data": {
      "text/html": [
       "<div>\n",
       "<style scoped>\n",
       "    .dataframe tbody tr th:only-of-type {\n",
       "        vertical-align: middle;\n",
       "    }\n",
       "\n",
       "    .dataframe tbody tr th {\n",
       "        vertical-align: top;\n",
       "    }\n",
       "\n",
       "    .dataframe thead th {\n",
       "        text-align: right;\n",
       "    }\n",
       "</style>\n",
       "<table border=\"1\" class=\"dataframe\">\n",
       "  <thead>\n",
       "    <tr style=\"text-align: right;\">\n",
       "      <th></th>\n",
       "      <th>Asset</th>\n",
       "      <th>Instrument</th>\n",
       "      <th>Number_x</th>\n",
       "      <th>Number_y</th>\n",
       "    </tr>\n",
       "  </thead>\n",
       "  <tbody>\n",
       "    <tr>\n",
       "      <th>0</th>\n",
       "      <td>FX</td>\n",
       "      <td>Option</td>\n",
       "      <td>1.0</td>\n",
       "      <td>4.0</td>\n",
       "    </tr>\n",
       "    <tr>\n",
       "      <th>1</th>\n",
       "      <td>FX</td>\n",
       "      <td>Option</td>\n",
       "      <td>1.0</td>\n",
       "      <td>5.0</td>\n",
       "    </tr>\n",
       "    <tr>\n",
       "      <th>2</th>\n",
       "      <td>FX</td>\n",
       "      <td>Swap</td>\n",
       "      <td>2.0</td>\n",
       "      <td>6.0</td>\n",
       "    </tr>\n",
       "    <tr>\n",
       "      <th>3</th>\n",
       "      <td>IR</td>\n",
       "      <td>Option</td>\n",
       "      <td>3.0</td>\n",
       "      <td>NaN</td>\n",
       "    </tr>\n",
       "    <tr>\n",
       "      <th>4</th>\n",
       "      <td>IR</td>\n",
       "      <td>Swap</td>\n",
       "      <td>NaN</td>\n",
       "      <td>7.0</td>\n",
       "    </tr>\n",
       "  </tbody>\n",
       "</table>\n",
       "</div>"
      ],
      "text/plain": [
       "  Asset Instrument  Number_x  Number_y\n",
       "0    FX     Option       1.0       4.0\n",
       "1    FX     Option       1.0       5.0\n",
       "2    FX       Swap       2.0       6.0\n",
       "3    IR     Option       3.0       NaN\n",
       "4    IR       Swap       NaN       7.0"
      ]
     },
     "execution_count": 229,
     "metadata": {},
     "output_type": "execute_result"
    }
   ],
   "source": [
    "pd.merge( porfolio1, porfolio2, \n",
    "          on=['Asset','Instrument'], how='outer')"
   ]
  },
  {
   "cell_type": "markdown",
   "metadata": {
    "source_collapsed": false
   },
   "source": [
    "除了当键的列标签意外，当 `df1` 和 `df2` 还有相同列标签 (Number) 时，合并后会在**重复列标签**价格后缀 `_x`, `_y`。\n",
    "\n",
    "- `df1` 和 `df2` 中都含有 FX Option 和 FX Swap，因此 Number_x 和 Number_y 栏下没有 NaN 值\n",
    "- `df1` 中有 IR Option 而 `df2` 中没有，因此 Number_y 栏下的值为 NaN\n",
    "- `df2` 中有 IR Swap 而 `df1` 中没有，因此 Number_x 栏下的值为 NaN\n",
    "\n",
    "在 Asset 键上做外合并。"
   ]
  },
  {
   "cell_type": "code",
   "execution_count": 230,
   "metadata": {
    "source_collapsed": false
   },
   "outputs": [
    {
     "data": {
      "text/html": [
       "<div>\n",
       "<style scoped>\n",
       "    .dataframe tbody tr th:only-of-type {\n",
       "        vertical-align: middle;\n",
       "    }\n",
       "\n",
       "    .dataframe tbody tr th {\n",
       "        vertical-align: top;\n",
       "    }\n",
       "\n",
       "    .dataframe thead th {\n",
       "        text-align: right;\n",
       "    }\n",
       "</style>\n",
       "<table border=\"1\" class=\"dataframe\">\n",
       "  <thead>\n",
       "    <tr style=\"text-align: right;\">\n",
       "      <th></th>\n",
       "      <th>Asset</th>\n",
       "      <th>Instrument_x</th>\n",
       "      <th>Number_x</th>\n",
       "      <th>Instrument_y</th>\n",
       "      <th>Number_y</th>\n",
       "    </tr>\n",
       "  </thead>\n",
       "  <tbody>\n",
       "    <tr>\n",
       "      <th>0</th>\n",
       "      <td>FX</td>\n",
       "      <td>Option</td>\n",
       "      <td>1</td>\n",
       "      <td>Option</td>\n",
       "      <td>4</td>\n",
       "    </tr>\n",
       "    <tr>\n",
       "      <th>1</th>\n",
       "      <td>FX</td>\n",
       "      <td>Option</td>\n",
       "      <td>1</td>\n",
       "      <td>Option</td>\n",
       "      <td>5</td>\n",
       "    </tr>\n",
       "    <tr>\n",
       "      <th>2</th>\n",
       "      <td>FX</td>\n",
       "      <td>Option</td>\n",
       "      <td>1</td>\n",
       "      <td>Swap</td>\n",
       "      <td>6</td>\n",
       "    </tr>\n",
       "    <tr>\n",
       "      <th>3</th>\n",
       "      <td>FX</td>\n",
       "      <td>Swap</td>\n",
       "      <td>2</td>\n",
       "      <td>Option</td>\n",
       "      <td>4</td>\n",
       "    </tr>\n",
       "    <tr>\n",
       "      <th>4</th>\n",
       "      <td>FX</td>\n",
       "      <td>Swap</td>\n",
       "      <td>2</td>\n",
       "      <td>Option</td>\n",
       "      <td>5</td>\n",
       "    </tr>\n",
       "    <tr>\n",
       "      <th>5</th>\n",
       "      <td>FX</td>\n",
       "      <td>Swap</td>\n",
       "      <td>2</td>\n",
       "      <td>Swap</td>\n",
       "      <td>6</td>\n",
       "    </tr>\n",
       "    <tr>\n",
       "      <th>6</th>\n",
       "      <td>IR</td>\n",
       "      <td>Option</td>\n",
       "      <td>3</td>\n",
       "      <td>Swap</td>\n",
       "      <td>7</td>\n",
       "    </tr>\n",
       "  </tbody>\n",
       "</table>\n",
       "</div>"
      ],
      "text/plain": [
       "  Asset Instrument_x  Number_x Instrument_y  Number_y\n",
       "0    FX       Option         1       Option         4\n",
       "1    FX       Option         1       Option         5\n",
       "2    FX       Option         1         Swap         6\n",
       "3    FX         Swap         2       Option         4\n",
       "4    FX         Swap         2       Option         5\n",
       "5    FX         Swap         2         Swap         6\n",
       "6    IR       Option         3         Swap         7"
      ]
     },
     "execution_count": 230,
     "metadata": {},
     "output_type": "execute_result"
    }
   ],
   "source": [
    "pd.merge( porfolio1, porfolio2, on='Asset' )"
   ]
  },
  {
   "cell_type": "markdown",
   "metadata": {},
   "source": [
    "如果没有设定参数 `how` 时，默认为 outer (外合并)。在 Asset 列下，`df1` 有 2 个 FX 和 1 个 IR，`df2` 有 3 个 FX 和 1 个 IR，外合并完有 7 行 (2×3+1×1)。\n",
    "\n",
    "如果觉得后缀 `_x`, `_y` 没有什么具体含义时，可以设定 `suffixes` 更改后缀。比如 `df1` 和 `df2` 存储的是 portoflio1 和 portfolio2 的产品信息，那么将后缀该成 `_1` 和 `_2` 更贴切。"
   ]
  },
  {
   "cell_type": "code",
   "execution_count": 232,
   "metadata": {
    "source_collapsed": false
   },
   "outputs": [
    {
     "data": {
      "text/html": [
       "<div>\n",
       "<style scoped>\n",
       "    .dataframe tbody tr th:only-of-type {\n",
       "        vertical-align: middle;\n",
       "    }\n",
       "\n",
       "    .dataframe tbody tr th {\n",
       "        vertical-align: top;\n",
       "    }\n",
       "\n",
       "    .dataframe thead th {\n",
       "        text-align: right;\n",
       "    }\n",
       "</style>\n",
       "<table border=\"1\" class=\"dataframe\">\n",
       "  <thead>\n",
       "    <tr style=\"text-align: right;\">\n",
       "      <th></th>\n",
       "      <th>Asset</th>\n",
       "      <th>Instrument_1</th>\n",
       "      <th>Number_1</th>\n",
       "      <th>Instrument_2</th>\n",
       "      <th>Number_2</th>\n",
       "    </tr>\n",
       "  </thead>\n",
       "  <tbody>\n",
       "    <tr>\n",
       "      <th>0</th>\n",
       "      <td>FX</td>\n",
       "      <td>Option</td>\n",
       "      <td>1</td>\n",
       "      <td>Option</td>\n",
       "      <td>4</td>\n",
       "    </tr>\n",
       "    <tr>\n",
       "      <th>1</th>\n",
       "      <td>FX</td>\n",
       "      <td>Option</td>\n",
       "      <td>1</td>\n",
       "      <td>Option</td>\n",
       "      <td>5</td>\n",
       "    </tr>\n",
       "    <tr>\n",
       "      <th>2</th>\n",
       "      <td>FX</td>\n",
       "      <td>Option</td>\n",
       "      <td>1</td>\n",
       "      <td>Swap</td>\n",
       "      <td>6</td>\n",
       "    </tr>\n",
       "    <tr>\n",
       "      <th>3</th>\n",
       "      <td>FX</td>\n",
       "      <td>Swap</td>\n",
       "      <td>2</td>\n",
       "      <td>Option</td>\n",
       "      <td>4</td>\n",
       "    </tr>\n",
       "    <tr>\n",
       "      <th>4</th>\n",
       "      <td>FX</td>\n",
       "      <td>Swap</td>\n",
       "      <td>2</td>\n",
       "      <td>Option</td>\n",
       "      <td>5</td>\n",
       "    </tr>\n",
       "    <tr>\n",
       "      <th>5</th>\n",
       "      <td>FX</td>\n",
       "      <td>Swap</td>\n",
       "      <td>2</td>\n",
       "      <td>Swap</td>\n",
       "      <td>6</td>\n",
       "    </tr>\n",
       "    <tr>\n",
       "      <th>6</th>\n",
       "      <td>IR</td>\n",
       "      <td>Option</td>\n",
       "      <td>3</td>\n",
       "      <td>Swap</td>\n",
       "      <td>7</td>\n",
       "    </tr>\n",
       "  </tbody>\n",
       "</table>\n",
       "</div>"
      ],
      "text/plain": [
       "  Asset Instrument_1  Number_1 Instrument_2  Number_2\n",
       "0    FX       Option         1       Option         4\n",
       "1    FX       Option         1       Option         5\n",
       "2    FX       Option         1         Swap         6\n",
       "3    FX         Swap         2       Option         4\n",
       "4    FX         Swap         2       Option         5\n",
       "5    FX         Swap         2         Swap         6\n",
       "6    IR       Option         3         Swap         7"
      ]
     },
     "execution_count": 232,
     "metadata": {},
     "output_type": "execute_result"
    }
   ],
   "source": [
    "pd.merge( porfolio1, porfolio2, on='Asset', \n",
    "          suffixes=('_1','_2'))"
   ]
  },
  {
   "cell_type": "markdown",
   "metadata": {},
   "source": [
    "### <div style=\"text-align: center\"><font color='black' face='微软雅黑'>合并 `join()`</font></div>\n",
    "\n",
    "合并用的 `join()` 函数，语法如下：\n",
    "\n",
    "    df1.join( df2, how=s, on=c )\n",
    "\n",
    "其中 `on=c` 是 `df1` 和 `df2` 共有列标签：\n",
    "\n",
    "- 如果 c 有一个，那么是按**单键合并**\n",
    "- 如果 c 有多个，那么是按**多键合并**\n",
    "- 如果不设定 c，那么默认**按 `df1` 和 `df2` 共有列标签合并**\n",
    "\n",
    "合并方式 `how=s` 有四种：\n",
    "\n",
    "- 左连接 (left join)：合并之后显示 **`df1` 的所有行**\n",
    "- 右连接 (right join)：合并之后显示 **`df2` 的所有行**\n",
    "- 外连接 (outer join)：合并 **`df1` 和 `df2`的所有行**\n",
    "- 内连接 (inner join)：合并 **`df1` 和 `df2` 的共有行**\n",
    "\n",
    "<font color='red' face='微软雅黑'>**注意：内连接是默认情况。**</font>"
   ]
  },
  {
   "cell_type": "markdown",
   "metadata": {
    "source_collapsed": false
   },
   "source": [
    "### <font color='#2b4750' face='微软雅黑'>5.2 按「轴」连接</font><a name='5.2'></a>\n",
    "[<font color='black' face='微软雅黑'>回到章首</font>](#5)\n",
    "\n",
    "### <div style=\"text-align: center\"><font color='black' face='微软雅黑'>连接 `concat()`</font></div>\n",
    "\n",
    "回顾 numpy 数组可以相互连接，用 `np.concat()`；同理，序列和数据帧也可相互连接，用 `pd.concat()`。\n",
    "\n",
    "### <font color='blue' face='微软雅黑'>连接序列</font> \n",
    "\n",
    "在 `concat()` 函数也可设定参数 `axis`：\n",
    "\n",
    "- `axis = 0` (默认)，沿着轴 0 (行) 连接，得到一个更长的序列\n",
    "- `axis = 1`，沿着轴 1 (列) 连接，得到一个数据帧\n",
    "\n",
    "连接后的序列的行索引可以重复 (overlapping)，也可以不同。\n",
    "\n",
    "先定义三个序列，它们的行索引都不同。"
   ]
  },
  {
   "cell_type": "code",
   "execution_count": 234,
   "metadata": {
    "source_collapsed": false
   },
   "outputs": [],
   "source": [
    "s1 = pd.Series([0, 1], index=['a', 'b'])\n",
    "s2 = pd.Series([2, 3, 4], index=['c', 'd', 'e'])\n",
    "s3 = pd.Series([5, 6], index=['f', 'g'])"
   ]
  },
  {
   "cell_type": "markdown",
   "metadata": {
    "source_collapsed": false
   },
   "source": [
    "沿着「轴 0」连接得到一个更长的序列。"
   ]
  },
  {
   "cell_type": "code",
   "execution_count": 235,
   "metadata": {
    "source_collapsed": false
   },
   "outputs": [
    {
     "data": {
      "text/plain": [
       "a    0\n",
       "b    1\n",
       "c    2\n",
       "d    3\n",
       "e    4\n",
       "f    5\n",
       "g    6\n",
       "dtype: int64"
      ]
     },
     "execution_count": 235,
     "metadata": {},
     "output_type": "execute_result"
    }
   ],
   "source": [
    "pd.concat([s1, s2, s3])"
   ]
  },
  {
   "cell_type": "markdown",
   "metadata": {},
   "source": [
    "沿着「轴 1」连接得到一个数据帧。"
   ]
  },
  {
   "cell_type": "code",
   "execution_count": 236,
   "metadata": {
    "source_collapsed": false
   },
   "outputs": [
    {
     "data": {
      "text/html": [
       "<div>\n",
       "<style scoped>\n",
       "    .dataframe tbody tr th:only-of-type {\n",
       "        vertical-align: middle;\n",
       "    }\n",
       "\n",
       "    .dataframe tbody tr th {\n",
       "        vertical-align: top;\n",
       "    }\n",
       "\n",
       "    .dataframe thead th {\n",
       "        text-align: right;\n",
       "    }\n",
       "</style>\n",
       "<table border=\"1\" class=\"dataframe\">\n",
       "  <thead>\n",
       "    <tr style=\"text-align: right;\">\n",
       "      <th></th>\n",
       "      <th>0</th>\n",
       "      <th>1</th>\n",
       "      <th>2</th>\n",
       "    </tr>\n",
       "  </thead>\n",
       "  <tbody>\n",
       "    <tr>\n",
       "      <th>a</th>\n",
       "      <td>0.0</td>\n",
       "      <td>NaN</td>\n",
       "      <td>NaN</td>\n",
       "    </tr>\n",
       "    <tr>\n",
       "      <th>b</th>\n",
       "      <td>1.0</td>\n",
       "      <td>NaN</td>\n",
       "      <td>NaN</td>\n",
       "    </tr>\n",
       "    <tr>\n",
       "      <th>c</th>\n",
       "      <td>NaN</td>\n",
       "      <td>2.0</td>\n",
       "      <td>NaN</td>\n",
       "    </tr>\n",
       "    <tr>\n",
       "      <th>d</th>\n",
       "      <td>NaN</td>\n",
       "      <td>3.0</td>\n",
       "      <td>NaN</td>\n",
       "    </tr>\n",
       "    <tr>\n",
       "      <th>e</th>\n",
       "      <td>NaN</td>\n",
       "      <td>4.0</td>\n",
       "      <td>NaN</td>\n",
       "    </tr>\n",
       "    <tr>\n",
       "      <th>f</th>\n",
       "      <td>NaN</td>\n",
       "      <td>NaN</td>\n",
       "      <td>5.0</td>\n",
       "    </tr>\n",
       "    <tr>\n",
       "      <th>g</th>\n",
       "      <td>NaN</td>\n",
       "      <td>NaN</td>\n",
       "      <td>6.0</td>\n",
       "    </tr>\n",
       "  </tbody>\n",
       "</table>\n",
       "</div>"
      ],
      "text/plain": [
       "     0    1    2\n",
       "a  0.0  NaN  NaN\n",
       "b  1.0  NaN  NaN\n",
       "c  NaN  2.0  NaN\n",
       "d  NaN  3.0  NaN\n",
       "e  NaN  4.0  NaN\n",
       "f  NaN  NaN  5.0\n",
       "g  NaN  NaN  6.0"
      ]
     },
     "execution_count": 236,
     "metadata": {},
     "output_type": "execute_result"
    }
   ],
   "source": [
    "pd.concat([s1, s2, s3], axis=1)"
   ]
  },
  {
   "cell_type": "markdown",
   "metadata": {
    "source_collapsed": false
   },
   "source": [
    "将 `s1` 和 `s3` 沿「轴 0」连接来创建 `s4`，这样 `s4` 和 `s1` 的行索引是有重复的。"
   ]
  },
  {
   "cell_type": "code",
   "execution_count": 237,
   "metadata": {
    "source_collapsed": false
   },
   "outputs": [
    {
     "data": {
      "text/plain": [
       "a    0\n",
       "b    1\n",
       "f    5\n",
       "g    6\n",
       "dtype: int64"
      ]
     },
     "execution_count": 237,
     "metadata": {},
     "output_type": "execute_result"
    }
   ],
   "source": [
    "s4 = pd.concat([s1, s3])\n",
    "s4"
   ]
  },
  {
   "cell_type": "markdown",
   "metadata": {},
   "source": [
    "将 `s1` 和 `s4` 沿「轴 1」内连接，即只连接它们共有行索引 (`a` 和 `b`) 对应的值。"
   ]
  },
  {
   "cell_type": "code",
   "execution_count": 238,
   "metadata": {
    "source_collapsed": false
   },
   "outputs": [
    {
     "data": {
      "text/html": [
       "<div>\n",
       "<style scoped>\n",
       "    .dataframe tbody tr th:only-of-type {\n",
       "        vertical-align: middle;\n",
       "    }\n",
       "\n",
       "    .dataframe tbody tr th {\n",
       "        vertical-align: top;\n",
       "    }\n",
       "\n",
       "    .dataframe thead th {\n",
       "        text-align: right;\n",
       "    }\n",
       "</style>\n",
       "<table border=\"1\" class=\"dataframe\">\n",
       "  <thead>\n",
       "    <tr style=\"text-align: right;\">\n",
       "      <th></th>\n",
       "      <th>0</th>\n",
       "      <th>1</th>\n",
       "    </tr>\n",
       "  </thead>\n",
       "  <tbody>\n",
       "    <tr>\n",
       "      <th>a</th>\n",
       "      <td>0</td>\n",
       "      <td>0</td>\n",
       "    </tr>\n",
       "    <tr>\n",
       "      <th>b</th>\n",
       "      <td>1</td>\n",
       "      <td>1</td>\n",
       "    </tr>\n",
       "  </tbody>\n",
       "</table>\n",
       "</div>"
      ],
      "text/plain": [
       "   0  1\n",
       "a  0  0\n",
       "b  1  1"
      ]
     },
     "execution_count": 238,
     "metadata": {},
     "output_type": "execute_result"
    }
   ],
   "source": [
    "pd.concat([s1, s4], axis=1, join='inner')"
   ]
  },
  {
   "cell_type": "markdown",
   "metadata": {
    "source_collapsed": false
   },
   "source": [
    "在 `concat()` 函数，还有个参数 `keys`，用来连接而生成多层索引。"
   ]
  },
  {
   "cell_type": "code",
   "execution_count": 239,
   "metadata": {
    "source_collapsed": false
   },
   "outputs": [
    {
     "data": {
      "text/plain": [
       "one    a    0\n",
       "       b    1\n",
       "two    a    0\n",
       "       b    1\n",
       "three  f    5\n",
       "       g    6\n",
       "dtype: int64"
      ]
     },
     "execution_count": 239,
     "metadata": {},
     "output_type": "execute_result"
    }
   ],
   "source": [
    "pd.concat([s1, s1, s3], keys=['one', 'two', 'three'])"
   ]
  },
  {
   "cell_type": "markdown",
   "metadata": {
    "source_collapsed": false
   },
   "source": [
    "### <font color='blue' face='微软雅黑'>连接数据帧</font> \n",
    "\n",
    "连接数据帧的逻辑和连接序列是一样的。\n",
    "\n",
    "先创建两个数据帧，`df1` 和 `df2`。"
   ]
  },
  {
   "cell_type": "code",
   "execution_count": 187,
   "metadata": {
    "source_collapsed": false
   },
   "outputs": [
    {
     "data": {
      "text/html": [
       "<div>\n",
       "<style scoped>\n",
       "    .dataframe tbody tr th:only-of-type {\n",
       "        vertical-align: middle;\n",
       "    }\n",
       "\n",
       "    .dataframe tbody tr th {\n",
       "        vertical-align: top;\n",
       "    }\n",
       "\n",
       "    .dataframe thead th {\n",
       "        text-align: right;\n",
       "    }\n",
       "</style>\n",
       "<table border=\"1\" class=\"dataframe\">\n",
       "  <thead>\n",
       "    <tr style=\"text-align: right;\">\n",
       "      <th></th>\n",
       "      <th>one</th>\n",
       "      <th>two</th>\n",
       "    </tr>\n",
       "  </thead>\n",
       "  <tbody>\n",
       "    <tr>\n",
       "      <th>a</th>\n",
       "      <td>0</td>\n",
       "      <td>1</td>\n",
       "    </tr>\n",
       "    <tr>\n",
       "      <th>b</th>\n",
       "      <td>2</td>\n",
       "      <td>3</td>\n",
       "    </tr>\n",
       "    <tr>\n",
       "      <th>c</th>\n",
       "      <td>4</td>\n",
       "      <td>5</td>\n",
       "    </tr>\n",
       "  </tbody>\n",
       "</table>\n",
       "</div>"
      ],
      "text/plain": [
       "   one  two\n",
       "a    0    1\n",
       "b    2    3\n",
       "c    4    5"
      ]
     },
     "execution_count": 187,
     "metadata": {},
     "output_type": "execute_result"
    }
   ],
   "source": [
    "df1 = pd.DataFrame( np.arange(6).reshape(3,2), \n",
    "                    index=['a','b','c'],\n",
    "                    columns=['one','two'] )\n",
    "df1"
   ]
  },
  {
   "cell_type": "code",
   "execution_count": 188,
   "metadata": {
    "source_collapsed": false
   },
   "outputs": [
    {
     "data": {
      "text/html": [
       "<div>\n",
       "<style scoped>\n",
       "    .dataframe tbody tr th:only-of-type {\n",
       "        vertical-align: middle;\n",
       "    }\n",
       "\n",
       "    .dataframe tbody tr th {\n",
       "        vertical-align: top;\n",
       "    }\n",
       "\n",
       "    .dataframe thead th {\n",
       "        text-align: right;\n",
       "    }\n",
       "</style>\n",
       "<table border=\"1\" class=\"dataframe\">\n",
       "  <thead>\n",
       "    <tr style=\"text-align: right;\">\n",
       "      <th></th>\n",
       "      <th>three</th>\n",
       "      <th>four</th>\n",
       "    </tr>\n",
       "  </thead>\n",
       "  <tbody>\n",
       "    <tr>\n",
       "      <th>a</th>\n",
       "      <td>5</td>\n",
       "      <td>6</td>\n",
       "    </tr>\n",
       "    <tr>\n",
       "      <th>c</th>\n",
       "      <td>7</td>\n",
       "      <td>8</td>\n",
       "    </tr>\n",
       "  </tbody>\n",
       "</table>\n",
       "</div>"
      ],
      "text/plain": [
       "   three  four\n",
       "a      5     6\n",
       "c      7     8"
      ]
     },
     "execution_count": 188,
     "metadata": {},
     "output_type": "execute_result"
    }
   ],
   "source": [
    "df2 = pd.DataFrame( 5 + np.arange(4).reshape(2,2), \n",
    "                    index=['a','c'], \n",
    "                    columns=['three','four'])\n",
    "df2"
   ]
  },
  {
   "cell_type": "markdown",
   "metadata": {},
   "source": [
    "沿着行连接分两步\n",
    "\n",
    "- 先把 `df1` 和 `df2` 的列标签补齐\n",
    "- 再把 `df1` 和 `df2` 的沿行连起来"
   ]
  },
  {
   "cell_type": "code",
   "execution_count": 244,
   "metadata": {},
   "outputs": [
    {
     "data": {
      "text/html": [
       "<div>\n",
       "<style scoped>\n",
       "    .dataframe tbody tr th:only-of-type {\n",
       "        vertical-align: middle;\n",
       "    }\n",
       "\n",
       "    .dataframe tbody tr th {\n",
       "        vertical-align: top;\n",
       "    }\n",
       "\n",
       "    .dataframe thead th {\n",
       "        text-align: right;\n",
       "    }\n",
       "</style>\n",
       "<table border=\"1\" class=\"dataframe\">\n",
       "  <thead>\n",
       "    <tr style=\"text-align: right;\">\n",
       "      <th></th>\n",
       "      <th>one</th>\n",
       "      <th>two</th>\n",
       "      <th>three</th>\n",
       "      <th>four</th>\n",
       "    </tr>\n",
       "  </thead>\n",
       "  <tbody>\n",
       "    <tr>\n",
       "      <th>a</th>\n",
       "      <td>0.0</td>\n",
       "      <td>1.0</td>\n",
       "      <td>NaN</td>\n",
       "      <td>NaN</td>\n",
       "    </tr>\n",
       "    <tr>\n",
       "      <th>b</th>\n",
       "      <td>2.0</td>\n",
       "      <td>3.0</td>\n",
       "      <td>NaN</td>\n",
       "      <td>NaN</td>\n",
       "    </tr>\n",
       "    <tr>\n",
       "      <th>c</th>\n",
       "      <td>4.0</td>\n",
       "      <td>5.0</td>\n",
       "      <td>NaN</td>\n",
       "      <td>NaN</td>\n",
       "    </tr>\n",
       "    <tr>\n",
       "      <th>a</th>\n",
       "      <td>NaN</td>\n",
       "      <td>NaN</td>\n",
       "      <td>5.0</td>\n",
       "      <td>6.0</td>\n",
       "    </tr>\n",
       "    <tr>\n",
       "      <th>c</th>\n",
       "      <td>NaN</td>\n",
       "      <td>NaN</td>\n",
       "      <td>7.0</td>\n",
       "      <td>8.0</td>\n",
       "    </tr>\n",
       "  </tbody>\n",
       "</table>\n",
       "</div>"
      ],
      "text/plain": [
       "   one  two  three  four\n",
       "a  0.0  1.0    NaN   NaN\n",
       "b  2.0  3.0    NaN   NaN\n",
       "c  4.0  5.0    NaN   NaN\n",
       "a  NaN  NaN    5.0   6.0\n",
       "c  NaN  NaN    7.0   8.0"
      ]
     },
     "execution_count": 244,
     "metadata": {},
     "output_type": "execute_result"
    }
   ],
   "source": [
    "pd.concat( [df1, df2] )"
   ]
  },
  {
   "cell_type": "markdown",
   "metadata": {},
   "source": [
    "连接后数据帧的行索引为 [a,b,c,a,c]，有重复值。如果它没什么重要信息，可设置 `ignore_index =`**`True`**，这样就得到默认的不重复的行索引值了。"
   ]
  },
  {
   "cell_type": "code",
   "execution_count": 245,
   "metadata": {},
   "outputs": [
    {
     "data": {
      "text/html": [
       "<div>\n",
       "<style scoped>\n",
       "    .dataframe tbody tr th:only-of-type {\n",
       "        vertical-align: middle;\n",
       "    }\n",
       "\n",
       "    .dataframe tbody tr th {\n",
       "        vertical-align: top;\n",
       "    }\n",
       "\n",
       "    .dataframe thead th {\n",
       "        text-align: right;\n",
       "    }\n",
       "</style>\n",
       "<table border=\"1\" class=\"dataframe\">\n",
       "  <thead>\n",
       "    <tr style=\"text-align: right;\">\n",
       "      <th></th>\n",
       "      <th>one</th>\n",
       "      <th>two</th>\n",
       "      <th>three</th>\n",
       "      <th>four</th>\n",
       "    </tr>\n",
       "  </thead>\n",
       "  <tbody>\n",
       "    <tr>\n",
       "      <th>0</th>\n",
       "      <td>0.0</td>\n",
       "      <td>1.0</td>\n",
       "      <td>NaN</td>\n",
       "      <td>NaN</td>\n",
       "    </tr>\n",
       "    <tr>\n",
       "      <th>1</th>\n",
       "      <td>2.0</td>\n",
       "      <td>3.0</td>\n",
       "      <td>NaN</td>\n",
       "      <td>NaN</td>\n",
       "    </tr>\n",
       "    <tr>\n",
       "      <th>2</th>\n",
       "      <td>4.0</td>\n",
       "      <td>5.0</td>\n",
       "      <td>NaN</td>\n",
       "      <td>NaN</td>\n",
       "    </tr>\n",
       "    <tr>\n",
       "      <th>3</th>\n",
       "      <td>NaN</td>\n",
       "      <td>NaN</td>\n",
       "      <td>5.0</td>\n",
       "      <td>6.0</td>\n",
       "    </tr>\n",
       "    <tr>\n",
       "      <th>4</th>\n",
       "      <td>NaN</td>\n",
       "      <td>NaN</td>\n",
       "      <td>7.0</td>\n",
       "      <td>8.0</td>\n",
       "    </tr>\n",
       "  </tbody>\n",
       "</table>\n",
       "</div>"
      ],
      "text/plain": [
       "   one  two  three  four\n",
       "0  0.0  1.0    NaN   NaN\n",
       "1  2.0  3.0    NaN   NaN\n",
       "2  4.0  5.0    NaN   NaN\n",
       "3  NaN  NaN    5.0   6.0\n",
       "4  NaN  NaN    7.0   8.0"
      ]
     },
     "execution_count": 245,
     "metadata": {},
     "output_type": "execute_result"
    }
   ],
   "source": [
    "pd.concat( [df1, df2], ignore_index=True )"
   ]
  },
  {
   "cell_type": "markdown",
   "metadata": {},
   "source": [
    "沿着列连接分两步\n",
    "\n",
    "- 先把 `df1` 和 `df2` 行标签补齐\n",
    "- 再把 `df1` 和 `df2` 沿列连起来"
   ]
  },
  {
   "cell_type": "code",
   "execution_count": 246,
   "metadata": {
    "source_collapsed": false
   },
   "outputs": [
    {
     "data": {
      "text/html": [
       "<div>\n",
       "<style scoped>\n",
       "    .dataframe tbody tr th:only-of-type {\n",
       "        vertical-align: middle;\n",
       "    }\n",
       "\n",
       "    .dataframe tbody tr th {\n",
       "        vertical-align: top;\n",
       "    }\n",
       "\n",
       "    .dataframe thead th {\n",
       "        text-align: right;\n",
       "    }\n",
       "</style>\n",
       "<table border=\"1\" class=\"dataframe\">\n",
       "  <thead>\n",
       "    <tr style=\"text-align: right;\">\n",
       "      <th></th>\n",
       "      <th>one</th>\n",
       "      <th>two</th>\n",
       "      <th>three</th>\n",
       "      <th>four</th>\n",
       "    </tr>\n",
       "  </thead>\n",
       "  <tbody>\n",
       "    <tr>\n",
       "      <th>a</th>\n",
       "      <td>0</td>\n",
       "      <td>1</td>\n",
       "      <td>5.0</td>\n",
       "      <td>6.0</td>\n",
       "    </tr>\n",
       "    <tr>\n",
       "      <th>b</th>\n",
       "      <td>2</td>\n",
       "      <td>3</td>\n",
       "      <td>NaN</td>\n",
       "      <td>NaN</td>\n",
       "    </tr>\n",
       "    <tr>\n",
       "      <th>c</th>\n",
       "      <td>4</td>\n",
       "      <td>5</td>\n",
       "      <td>7.0</td>\n",
       "      <td>8.0</td>\n",
       "    </tr>\n",
       "  </tbody>\n",
       "</table>\n",
       "</div>"
      ],
      "text/plain": [
       "   one  two  three  four\n",
       "a    0    1    5.0   6.0\n",
       "b    2    3    NaN   NaN\n",
       "c    4    5    7.0   8.0"
      ]
     },
     "execution_count": 246,
     "metadata": {},
     "output_type": "execute_result"
    }
   ],
   "source": [
    "pd.concat( [df1, df2], axis=1 )"
   ]
  },
  {
   "cell_type": "markdown",
   "metadata": {},
   "source": [
    "和上面的序列例子一样，在 `concat()` 函数，还有个参数 `keys`，用来连接而生成多层索引。"
   ]
  },
  {
   "cell_type": "code",
   "execution_count": 248,
   "metadata": {
    "source_collapsed": false
   },
   "outputs": [
    {
     "data": {
      "text/html": [
       "<div>\n",
       "<style scoped>\n",
       "    .dataframe tbody tr th:only-of-type {\n",
       "        vertical-align: middle;\n",
       "    }\n",
       "\n",
       "    .dataframe tbody tr th {\n",
       "        vertical-align: top;\n",
       "    }\n",
       "\n",
       "    .dataframe thead tr th {\n",
       "        text-align: left;\n",
       "    }\n",
       "</style>\n",
       "<table border=\"1\" class=\"dataframe\">\n",
       "  <thead>\n",
       "    <tr>\n",
       "      <th></th>\n",
       "      <th colspan=\"2\" halign=\"left\">key1</th>\n",
       "      <th colspan=\"2\" halign=\"left\">key2</th>\n",
       "    </tr>\n",
       "    <tr>\n",
       "      <th></th>\n",
       "      <th>one</th>\n",
       "      <th>two</th>\n",
       "      <th>three</th>\n",
       "      <th>four</th>\n",
       "    </tr>\n",
       "  </thead>\n",
       "  <tbody>\n",
       "    <tr>\n",
       "      <th>a</th>\n",
       "      <td>0</td>\n",
       "      <td>1</td>\n",
       "      <td>5.0</td>\n",
       "      <td>6.0</td>\n",
       "    </tr>\n",
       "    <tr>\n",
       "      <th>b</th>\n",
       "      <td>2</td>\n",
       "      <td>3</td>\n",
       "      <td>NaN</td>\n",
       "      <td>NaN</td>\n",
       "    </tr>\n",
       "    <tr>\n",
       "      <th>c</th>\n",
       "      <td>4</td>\n",
       "      <td>5</td>\n",
       "      <td>7.0</td>\n",
       "      <td>8.0</td>\n",
       "    </tr>\n",
       "  </tbody>\n",
       "</table>\n",
       "</div>"
      ],
      "text/plain": [
       "  key1      key2     \n",
       "   one two three four\n",
       "a    0   1   5.0  6.0\n",
       "b    2   3   NaN  NaN\n",
       "c    4   5   7.0  8.0"
      ]
     },
     "execution_count": 248,
     "metadata": {},
     "output_type": "execute_result"
    }
   ],
   "source": [
    "pd.concat( [df1, df2], axis=1, keys=['key1','key2'] )"
   ]
  },
  {
   "cell_type": "markdown",
   "metadata": {},
   "source": [
    "### <div style=\"text-align: center\"><font color='black' face='微软雅黑'>连接 `append()`</font></div>\n",
    "\n",
    "沿着行来连接数据帧的操作太常用了，而 `append()` 函数是专门为这种操作设计的，以下两种语法的是等价的：\n",
    "\n",
    "    df1.append(df2)\n",
    "    pd.concat( [df1, df2] )\n",
    "\n",
    "用第一种方式可以少敲点字。"
   ]
  },
  {
   "cell_type": "code",
   "execution_count": 191,
   "metadata": {},
   "outputs": [
    {
     "data": {
      "text/html": [
       "<div>\n",
       "<style scoped>\n",
       "    .dataframe tbody tr th:only-of-type {\n",
       "        vertical-align: middle;\n",
       "    }\n",
       "\n",
       "    .dataframe tbody tr th {\n",
       "        vertical-align: top;\n",
       "    }\n",
       "\n",
       "    .dataframe thead th {\n",
       "        text-align: right;\n",
       "    }\n",
       "</style>\n",
       "<table border=\"1\" class=\"dataframe\">\n",
       "  <thead>\n",
       "    <tr style=\"text-align: right;\">\n",
       "      <th></th>\n",
       "      <th>one</th>\n",
       "      <th>two</th>\n",
       "      <th>three</th>\n",
       "      <th>four</th>\n",
       "    </tr>\n",
       "  </thead>\n",
       "  <tbody>\n",
       "    <tr>\n",
       "      <th>a</th>\n",
       "      <td>0.0</td>\n",
       "      <td>1.0</td>\n",
       "      <td>NaN</td>\n",
       "      <td>NaN</td>\n",
       "    </tr>\n",
       "    <tr>\n",
       "      <th>b</th>\n",
       "      <td>2.0</td>\n",
       "      <td>3.0</td>\n",
       "      <td>NaN</td>\n",
       "      <td>NaN</td>\n",
       "    </tr>\n",
       "    <tr>\n",
       "      <th>c</th>\n",
       "      <td>4.0</td>\n",
       "      <td>5.0</td>\n",
       "      <td>NaN</td>\n",
       "      <td>NaN</td>\n",
       "    </tr>\n",
       "    <tr>\n",
       "      <th>a</th>\n",
       "      <td>NaN</td>\n",
       "      <td>NaN</td>\n",
       "      <td>5.0</td>\n",
       "      <td>6.0</td>\n",
       "    </tr>\n",
       "    <tr>\n",
       "      <th>c</th>\n",
       "      <td>NaN</td>\n",
       "      <td>NaN</td>\n",
       "      <td>7.0</td>\n",
       "      <td>8.0</td>\n",
       "    </tr>\n",
       "  </tbody>\n",
       "</table>\n",
       "</div>"
      ],
      "text/plain": [
       "   one  two  three  four\n",
       "a  0.0  1.0    NaN   NaN\n",
       "b  2.0  3.0    NaN   NaN\n",
       "c  4.0  5.0    NaN   NaN\n",
       "a  NaN  NaN    5.0   6.0\n",
       "c  NaN  NaN    7.0   8.0"
      ]
     },
     "execution_count": 191,
     "metadata": {},
     "output_type": "execute_result"
    }
   ],
   "source": [
    "df1.append(df2)"
   ]
  },
  {
   "cell_type": "markdown",
   "metadata": {},
   "source": [
    "需要注意的是，和列表中 `append()` 函数不同，数据帧中 `append()` 函数没有在原来对象上做更改，而是重新创建对象，这样效率会低下。如果打算要连接大量的数据帧，建议用 `concat()` 函数。"
   ]
  },
  {
   "cell_type": "markdown",
   "metadata": {
    "source_collapsed": false
   },
   "source": [
    "# <font color='#dc2624' face='微软雅黑'>6. 数据重塑</font><a name='6'></a>\n",
    "[<font color='black' face='微软雅黑'>回到目录</font>](#toc)\n",
    "\n",
    "重塑 (reshape) 操作只改变数据的布局 (layout)，并有改变数据的内容，主要根据用户需要展示出相应的样子。\n",
    "\n",
    "- 如果想在行列上互相转换，用 `stack()` 和 `unstack()` 函数，两者为互逆操作\n",
    "- 如果想在长宽上互相转换，用 `pivot()` 和 `melt()` 函数，两者为互逆操作\n",
    "\n",
    "### <font color='#2b4750' face='微软雅黑'>6.1 行列互转</font><a name='6.1'></a>\n",
    "[<font color='black' face='微软雅黑'>回到章首</font>](#6)\n",
    "\n",
    "数据帧和**多层索引的序列**都可以表示二维甚至多维数据，两者只是**展示形式不同**。而 `stack()` 和 `unstack()` 函数就是通过改变数据表里面的「行索引」和「列索引」来改变展示形式。\n",
    "\n",
    "- 列索引 → 行索引，用 `stack()` 函数\n",
    "- 行索引 → 列索引，用 `unstack()` 函数\n",
    "\n",
    "### <font color='blue' face='微软雅黑'>含 1 层行索引，1 层列索引的数据帧</font>"
   ]
  },
  {
   "cell_type": "code",
   "execution_count": 249,
   "metadata": {
    "source_collapsed": false
   },
   "outputs": [
    {
     "data": {
      "text/html": [
       "<div>\n",
       "<style scoped>\n",
       "    .dataframe tbody tr th:only-of-type {\n",
       "        vertical-align: middle;\n",
       "    }\n",
       "\n",
       "    .dataframe tbody tr th {\n",
       "        vertical-align: top;\n",
       "    }\n",
       "\n",
       "    .dataframe thead th {\n",
       "        text-align: right;\n",
       "    }\n",
       "</style>\n",
       "<table border=\"1\" class=\"dataframe\">\n",
       "  <thead>\n",
       "    <tr style=\"text-align: right;\">\n",
       "      <th>特征</th>\n",
       "      <th>行业</th>\n",
       "      <th>价格</th>\n",
       "      <th>交易量</th>\n",
       "    </tr>\n",
       "    <tr>\n",
       "      <th>代号</th>\n",
       "      <th></th>\n",
       "      <th></th>\n",
       "      <th></th>\n",
       "    </tr>\n",
       "  </thead>\n",
       "  <tbody>\n",
       "    <tr>\n",
       "      <th>JD</th>\n",
       "      <td>电商</td>\n",
       "      <td>25.95</td>\n",
       "      <td>27113291</td>\n",
       "    </tr>\n",
       "    <tr>\n",
       "      <th>AAPL</th>\n",
       "      <td>科技</td>\n",
       "      <td>172.97</td>\n",
       "      <td>18913154</td>\n",
       "    </tr>\n",
       "  </tbody>\n",
       "</table>\n",
       "</div>"
      ],
      "text/plain": [
       "特征    行业      价格       交易量\n",
       "代号                        \n",
       "JD    电商   25.95  27113291\n",
       "AAPL  科技  172.97  18913154"
      ]
     },
     "execution_count": 249,
     "metadata": {},
     "output_type": "execute_result"
    }
   ],
   "source": [
    "symbol = ['JD', 'AAPL']\n",
    "data = {'行业': ['电商', '科技'],\n",
    "        '价格': [25.95, 172.97],\n",
    "        '交易量': [27113291, 18913154]}\n",
    "df = pd.DataFrame( data, index=symbol )\n",
    "df.columns.name = '特征'\n",
    "df.index.name = '代号'\n",
    "df"
   ]
  },
  {
   "cell_type": "markdown",
   "metadata": {},
   "source": [
    "从上表中可知：\n",
    "\n",
    "- 行索引 = [JD, AAPL]，名称是代号\n",
    "- 列索引 = [行业, 价格, 交易量]，名称是特征\n",
    "\n",
    "### `stack`: 列索引 → 行索引\n",
    "\n",
    "列索引 (特征) 变成了行索引，`df` 变成了两层序列 (第一层索引是代号，第二层索引是特征)。"
   ]
  },
  {
   "cell_type": "code",
   "execution_count": 253,
   "metadata": {
    "source_collapsed": false
   },
   "outputs": [
    {
     "data": {
      "text/plain": [
       "代号    特征 \n",
       "JD    行业           电商\n",
       "      价格        25.95\n",
       "      交易量    27113291\n",
       "AAPL  行业           科技\n",
       "      价格       172.97\n",
       "      交易量    18913154\n",
       "dtype: object"
      ]
     },
     "execution_count": 253,
     "metadata": {},
     "output_type": "execute_result"
    }
   ],
   "source": [
    "c2i_Series = df.stack()\n",
    "c2i_Series"
   ]
  },
  {
   "cell_type": "markdown",
   "metadata": {},
   "source": [
    "思考：变成**行索引的特征**和原来**行索引的代号**之间的层次是怎么决定的？看起来特征在**内层**，代号在**外层**。\n",
    "\n",
    "### `unstack`: 行索引 → 列索引\n",
    "\n",
    "行索引 (代号) 变成了列索引，`df` 也变成了两层序列 (第一层索引是特征，第二层索引是代号)。"
   ]
  },
  {
   "cell_type": "code",
   "execution_count": 254,
   "metadata": {
    "source_collapsed": false
   },
   "outputs": [
    {
     "data": {
      "text/plain": [
       "特征   代号  \n",
       "行业   JD            电商\n",
       "     AAPL          科技\n",
       "价格   JD         25.95\n",
       "     AAPL      172.97\n",
       "交易量  JD      27113291\n",
       "     AAPL    18913154\n",
       "dtype: object"
      ]
     },
     "execution_count": 254,
     "metadata": {},
     "output_type": "execute_result"
    }
   ],
   "source": [
    "i2c_Series = df.unstack()\n",
    "i2c_Series"
   ]
  },
  {
   "cell_type": "markdown",
   "metadata": {},
   "source": [
    "思考：变成**列索引的特征**和原来**列索引的代号**之间的层次是怎么决定的？看起来代号在**内层**，特征在**外层**。\n",
    "\n",
    "### 规律总结：\n",
    "\n",
    "`df.stack()` 和 `df.unstack()` 都得到了「两层序列」，但是索引的层次不同，背后的规律是什么？首先来看两个「两层序列」的索引包含哪些信息 (以及 df 的行索引和列索引)。"
   ]
  },
  {
   "cell_type": "code",
   "execution_count": 255,
   "metadata": {
    "source_collapsed": false
   },
   "outputs": [
    {
     "data": {
      "text/plain": [
       "(Index(['JD', 'AAPL'], dtype='object', name='代号'),\n",
       " Index(['行业', '价格', '交易量'], dtype='object', name='特征'))"
      ]
     },
     "execution_count": 255,
     "metadata": {},
     "output_type": "execute_result"
    }
   ],
   "source": [
    "df.index, df.columns"
   ]
  },
  {
   "cell_type": "code",
   "execution_count": 256,
   "metadata": {
    "source_collapsed": false
   },
   "outputs": [
    {
     "data": {
      "text/plain": [
       "MultiIndex([(  'JD',  '行业'),\n",
       "            (  'JD',  '价格'),\n",
       "            (  'JD', '交易量'),\n",
       "            ('AAPL',  '行业'),\n",
       "            ('AAPL',  '价格'),\n",
       "            ('AAPL', '交易量')],\n",
       "           names=['代号', '特征'])"
      ]
     },
     "execution_count": 256,
     "metadata": {},
     "output_type": "execute_result"
    }
   ],
   "source": [
    "c2i_Series.index"
   ]
  },
  {
   "cell_type": "code",
   "execution_count": 257,
   "metadata": {
    "source_collapsed": false
   },
   "outputs": [
    {
     "data": {
      "text/plain": [
       "MultiIndex([( '行业',   'JD'),\n",
       "            ( '行业', 'AAPL'),\n",
       "            ( '价格',   'JD'),\n",
       "            ( '价格', 'AAPL'),\n",
       "            ('交易量',   'JD'),\n",
       "            ('交易量', 'AAPL')],\n",
       "           names=['特征', '代号'])"
      ]
     },
     "execution_count": 257,
     "metadata": {},
     "output_type": "execute_result"
    }
   ],
   "source": [
    "i2c_Series.index"
   ]
  },
  {
   "cell_type": "markdown",
   "metadata": {},
   "source": [
    "定义\n",
    "\n",
    "- **r** = [JD, AAPL]，名称是代号\n",
    "- **c** = [行业, 价格, 交易量]，名称是特征\n",
    "\n",
    "那么\n",
    "\n",
    "- `df` 的行索引 = **r**\n",
    "- `df` 的列索引 = **c**\n",
    "- `c2i_Series` 的索引 = [**r**, **c**]\n",
    "- `i2c_Series` 的索引 = [**c**, **r**]\n",
    "\n",
    "现在可以总结规律：\n",
    "\n",
    "- 当用 `df.stack()` 变成 `c2i_Series` 时，`df` 的列索引 **c** 加在其行索引 **r** 后面得到 [**r**, **c**] 做为 `c2i_Series` 的多层索引\n",
    "- 当用 `df.unstack()` 变成 `i2c_Series` 时，`df` 的行索引 **r** 加在其列索引 **c** 后面得到 [**c**, **r**] 做为 `i2c_Series` 的多层索引\n",
    "\n",
    "\n",
    "对于多层索引的序列，`unstack` 哪一层由两种方法来确定：\n",
    "\n",
    "- 基于层数 (level-based)\n",
    "- 基于名称 (name-based)\n",
    "\n",
    "拿 `c2i_Series` 举例，并查看 `c2i_Series.index`。\n",
    "\n",
    "- 基于层数，第 0 层是 [JD, AAPL]\n",
    "- 基于层数，第 1 层是 [行业, 价格, 交易量]\n",
    "- 基于名称，代号层是 [JD, AAPL]\n",
    "- 基于名称，特征层是 [行业, 价格, 交易量]"
   ]
  },
  {
   "cell_type": "code",
   "execution_count": 259,
   "metadata": {},
   "outputs": [
    {
     "data": {
      "text/plain": [
       "代号    特征 \n",
       "JD    行业           电商\n",
       "      价格        25.95\n",
       "      交易量    27113291\n",
       "AAPL  行业           科技\n",
       "      价格       172.97\n",
       "      交易量    18913154\n",
       "dtype: object"
      ]
     },
     "execution_count": 259,
     "metadata": {},
     "output_type": "execute_result"
    }
   ],
   "source": [
    "c2i_Series"
   ]
  },
  {
   "cell_type": "code",
   "execution_count": 263,
   "metadata": {},
   "outputs": [
    {
     "data": {
      "text/plain": [
       "MultiIndex([(  'JD',  '行业'),\n",
       "            (  'JD',  '价格'),\n",
       "            (  'JD', '交易量'),\n",
       "            ('AAPL',  '行业'),\n",
       "            ('AAPL',  '价格'),\n",
       "            ('AAPL', '交易量')],\n",
       "           names=['代号', '特征'])"
      ]
     },
     "execution_count": 263,
     "metadata": {},
     "output_type": "execute_result"
    }
   ],
   "source": [
    "c2i_Series.index"
   ]
  },
  {
   "cell_type": "markdown",
   "metadata": {},
   "source": [
    "**基于层数**来 `unstack()` 时，没有填**层数**，默认为最后一层。`c2i_Series` 的最后一层是 [行业, 价格, 交易量]，从行索引转成列索引得到下面的数据帧。"
   ]
  },
  {
   "cell_type": "code",
   "execution_count": 118,
   "metadata": {
    "source_collapsed": false
   },
   "outputs": [
    {
     "data": {
      "text/html": [
       "<div>\n",
       "<style scoped>\n",
       "    .dataframe tbody tr th:only-of-type {\n",
       "        vertical-align: middle;\n",
       "    }\n",
       "\n",
       "    .dataframe tbody tr th {\n",
       "        vertical-align: top;\n",
       "    }\n",
       "\n",
       "    .dataframe thead th {\n",
       "        text-align: right;\n",
       "    }\n",
       "</style>\n",
       "<table border=\"1\" class=\"dataframe\">\n",
       "  <thead>\n",
       "    <tr style=\"text-align: right;\">\n",
       "      <th>特征</th>\n",
       "      <th>行业</th>\n",
       "      <th>价格</th>\n",
       "      <th>交易量</th>\n",
       "    </tr>\n",
       "    <tr>\n",
       "      <th>代号</th>\n",
       "      <th></th>\n",
       "      <th></th>\n",
       "      <th></th>\n",
       "    </tr>\n",
       "  </thead>\n",
       "  <tbody>\n",
       "    <tr>\n",
       "      <th>JD</th>\n",
       "      <td>电商</td>\n",
       "      <td>25.95</td>\n",
       "      <td>27113291</td>\n",
       "    </tr>\n",
       "    <tr>\n",
       "      <th>AAPL</th>\n",
       "      <td>科技</td>\n",
       "      <td>172.97</td>\n",
       "      <td>18913154</td>\n",
       "    </tr>\n",
       "  </tbody>\n",
       "</table>\n",
       "</div>"
      ],
      "text/plain": [
       "特征    行业      价格       交易量\n",
       "代号                        \n",
       "JD    电商   25.95  27113291\n",
       "AAPL  科技  172.97  18913154"
      ]
     },
     "execution_count": 118,
     "metadata": {},
     "output_type": "execute_result"
    }
   ],
   "source": [
    "c2i_Series.unstack()"
   ]
  },
  {
   "cell_type": "markdown",
   "metadata": {
    "source_collapsed": false
   },
   "source": [
    "**基于层数**来 `unstack()` 时，选择第零层 (参数放 0)。`c2i_Series` 的第零层是 [JD, AAPL]，从行索引转成列索引得到下面的数据帧。"
   ]
  },
  {
   "cell_type": "code",
   "execution_count": 260,
   "metadata": {
    "source_collapsed": false
   },
   "outputs": [
    {
     "data": {
      "text/html": [
       "<div>\n",
       "<style scoped>\n",
       "    .dataframe tbody tr th:only-of-type {\n",
       "        vertical-align: middle;\n",
       "    }\n",
       "\n",
       "    .dataframe tbody tr th {\n",
       "        vertical-align: top;\n",
       "    }\n",
       "\n",
       "    .dataframe thead th {\n",
       "        text-align: right;\n",
       "    }\n",
       "</style>\n",
       "<table border=\"1\" class=\"dataframe\">\n",
       "  <thead>\n",
       "    <tr style=\"text-align: right;\">\n",
       "      <th>代号</th>\n",
       "      <th>JD</th>\n",
       "      <th>AAPL</th>\n",
       "    </tr>\n",
       "    <tr>\n",
       "      <th>特征</th>\n",
       "      <th></th>\n",
       "      <th></th>\n",
       "    </tr>\n",
       "  </thead>\n",
       "  <tbody>\n",
       "    <tr>\n",
       "      <th>行业</th>\n",
       "      <td>电商</td>\n",
       "      <td>科技</td>\n",
       "    </tr>\n",
       "    <tr>\n",
       "      <th>价格</th>\n",
       "      <td>25.95</td>\n",
       "      <td>172.97</td>\n",
       "    </tr>\n",
       "    <tr>\n",
       "      <th>交易量</th>\n",
       "      <td>27113291</td>\n",
       "      <td>18913154</td>\n",
       "    </tr>\n",
       "  </tbody>\n",
       "</table>\n",
       "</div>"
      ],
      "text/plain": [
       "代号         JD      AAPL\n",
       "特征                     \n",
       "行业         电商        科技\n",
       "价格      25.95    172.97\n",
       "交易量  27113291  18913154"
      ]
     },
     "execution_count": 260,
     "metadata": {},
     "output_type": "execute_result"
    }
   ],
   "source": [
    "c2i_Series.unstack(0)"
   ]
  },
  {
   "cell_type": "markdown",
   "metadata": {},
   "source": [
    "**基于名称**来 `unstack()`。`c2i_Series` 的代号层是 [JD, AAPL]，从行索引转成列索引得到下面的数据帧。"
   ]
  },
  {
   "cell_type": "code",
   "execution_count": 261,
   "metadata": {
    "source_collapsed": false
   },
   "outputs": [
    {
     "data": {
      "text/html": [
       "<div>\n",
       "<style scoped>\n",
       "    .dataframe tbody tr th:only-of-type {\n",
       "        vertical-align: middle;\n",
       "    }\n",
       "\n",
       "    .dataframe tbody tr th {\n",
       "        vertical-align: top;\n",
       "    }\n",
       "\n",
       "    .dataframe thead th {\n",
       "        text-align: right;\n",
       "    }\n",
       "</style>\n",
       "<table border=\"1\" class=\"dataframe\">\n",
       "  <thead>\n",
       "    <tr style=\"text-align: right;\">\n",
       "      <th>代号</th>\n",
       "      <th>JD</th>\n",
       "      <th>AAPL</th>\n",
       "    </tr>\n",
       "    <tr>\n",
       "      <th>特征</th>\n",
       "      <th></th>\n",
       "      <th></th>\n",
       "    </tr>\n",
       "  </thead>\n",
       "  <tbody>\n",
       "    <tr>\n",
       "      <th>行业</th>\n",
       "      <td>电商</td>\n",
       "      <td>科技</td>\n",
       "    </tr>\n",
       "    <tr>\n",
       "      <th>价格</th>\n",
       "      <td>25.95</td>\n",
       "      <td>172.97</td>\n",
       "    </tr>\n",
       "    <tr>\n",
       "      <th>交易量</th>\n",
       "      <td>27113291</td>\n",
       "      <td>18913154</td>\n",
       "    </tr>\n",
       "  </tbody>\n",
       "</table>\n",
       "</div>"
      ],
      "text/plain": [
       "代号         JD      AAPL\n",
       "特征                     \n",
       "行业         电商        科技\n",
       "价格      25.95    172.97\n",
       "交易量  27113291  18913154"
      ]
     },
     "execution_count": 261,
     "metadata": {},
     "output_type": "execute_result"
    }
   ],
   "source": [
    "c2i_Series.unstack('代号')"
   ]
  },
  {
   "cell_type": "markdown",
   "metadata": {},
   "source": [
    "接下来练习一下 `i2c_Series`，用基于层数或基于名称来做 `unstack()`，并查看 `c2i_Series.index`。\n",
    "\n",
    "- 基于层数，第 0 层是 [行业, 价格, 交易量]\n",
    "- 基于层数，第 1 层是 [JD, AAPL]\n",
    "- 基于名称，特征层是 [行业, 价格, 交易量] \n",
    "- 基于名称，代号层是 [JD, AAPL]"
   ]
  },
  {
   "cell_type": "code",
   "execution_count": 266,
   "metadata": {},
   "outputs": [
    {
     "data": {
      "text/plain": [
       "特征   代号  \n",
       "行业   JD            电商\n",
       "     AAPL          科技\n",
       "价格   JD         25.95\n",
       "     AAPL      172.97\n",
       "交易量  JD      27113291\n",
       "     AAPL    18913154\n",
       "dtype: object"
      ]
     },
     "execution_count": 266,
     "metadata": {},
     "output_type": "execute_result"
    }
   ],
   "source": [
    "i2c_Series"
   ]
  },
  {
   "cell_type": "code",
   "execution_count": 267,
   "metadata": {},
   "outputs": [
    {
     "data": {
      "text/plain": [
       "MultiIndex([( '行业',   'JD'),\n",
       "            ( '行业', 'AAPL'),\n",
       "            ( '价格',   'JD'),\n",
       "            ( '价格', 'AAPL'),\n",
       "            ('交易量',   'JD'),\n",
       "            ('交易量', 'AAPL')],\n",
       "           names=['特征', '代号'])"
      ]
     },
     "execution_count": 267,
     "metadata": {},
     "output_type": "execute_result"
    }
   ],
   "source": [
    "i2c_Series.index"
   ]
  },
  {
   "cell_type": "markdown",
   "metadata": {},
   "source": [
    "**基于层数**来 `unstack()` 时，没有填**层数**，默认为最后一层。`i2c_Series` 的最后一层是 [JD, AAPL]，从行索引转成列索引得到下面的数据帧。"
   ]
  },
  {
   "cell_type": "code",
   "execution_count": 122,
   "metadata": {
    "source_collapsed": false
   },
   "outputs": [
    {
     "data": {
      "text/html": [
       "<div>\n",
       "<style scoped>\n",
       "    .dataframe tbody tr th:only-of-type {\n",
       "        vertical-align: middle;\n",
       "    }\n",
       "\n",
       "    .dataframe tbody tr th {\n",
       "        vertical-align: top;\n",
       "    }\n",
       "\n",
       "    .dataframe thead th {\n",
       "        text-align: right;\n",
       "    }\n",
       "</style>\n",
       "<table border=\"1\" class=\"dataframe\">\n",
       "  <thead>\n",
       "    <tr style=\"text-align: right;\">\n",
       "      <th>代号</th>\n",
       "      <th>JD</th>\n",
       "      <th>AAPL</th>\n",
       "    </tr>\n",
       "    <tr>\n",
       "      <th>特征</th>\n",
       "      <th></th>\n",
       "      <th></th>\n",
       "    </tr>\n",
       "  </thead>\n",
       "  <tbody>\n",
       "    <tr>\n",
       "      <th>行业</th>\n",
       "      <td>电商</td>\n",
       "      <td>科技</td>\n",
       "    </tr>\n",
       "    <tr>\n",
       "      <th>价格</th>\n",
       "      <td>25.95</td>\n",
       "      <td>172.97</td>\n",
       "    </tr>\n",
       "    <tr>\n",
       "      <th>交易量</th>\n",
       "      <td>27113291</td>\n",
       "      <td>18913154</td>\n",
       "    </tr>\n",
       "  </tbody>\n",
       "</table>\n",
       "</div>"
      ],
      "text/plain": [
       "代号         JD      AAPL\n",
       "特征                     \n",
       "行业         电商        科技\n",
       "价格      25.95    172.97\n",
       "交易量  27113291  18913154"
      ]
     },
     "execution_count": 122,
     "metadata": {},
     "output_type": "execute_result"
    }
   ],
   "source": [
    "i2c_Series.unstack()"
   ]
  },
  {
   "cell_type": "markdown",
   "metadata": {},
   "source": [
    "**基于层数**来 `unstack()` 时，选择第零层 (参数放 0)。`i2c_Series` 的第零层是 [行业, 价格, 交易量]，从行索引转成列索引得到下面的数据帧。"
   ]
  },
  {
   "cell_type": "code",
   "execution_count": 123,
   "metadata": {
    "source_collapsed": false
   },
   "outputs": [
    {
     "data": {
      "text/html": [
       "<div>\n",
       "<style scoped>\n",
       "    .dataframe tbody tr th:only-of-type {\n",
       "        vertical-align: middle;\n",
       "    }\n",
       "\n",
       "    .dataframe tbody tr th {\n",
       "        vertical-align: top;\n",
       "    }\n",
       "\n",
       "    .dataframe thead th {\n",
       "        text-align: right;\n",
       "    }\n",
       "</style>\n",
       "<table border=\"1\" class=\"dataframe\">\n",
       "  <thead>\n",
       "    <tr style=\"text-align: right;\">\n",
       "      <th>特征</th>\n",
       "      <th>行业</th>\n",
       "      <th>价格</th>\n",
       "      <th>交易量</th>\n",
       "    </tr>\n",
       "    <tr>\n",
       "      <th>代号</th>\n",
       "      <th></th>\n",
       "      <th></th>\n",
       "      <th></th>\n",
       "    </tr>\n",
       "  </thead>\n",
       "  <tbody>\n",
       "    <tr>\n",
       "      <th>JD</th>\n",
       "      <td>电商</td>\n",
       "      <td>25.95</td>\n",
       "      <td>27113291</td>\n",
       "    </tr>\n",
       "    <tr>\n",
       "      <th>AAPL</th>\n",
       "      <td>科技</td>\n",
       "      <td>172.97</td>\n",
       "      <td>18913154</td>\n",
       "    </tr>\n",
       "  </tbody>\n",
       "</table>\n",
       "</div>"
      ],
      "text/plain": [
       "特征    行业      价格       交易量\n",
       "代号                        \n",
       "JD    电商   25.95  27113291\n",
       "AAPL  科技  172.97  18913154"
      ]
     },
     "execution_count": 123,
     "metadata": {},
     "output_type": "execute_result"
    }
   ],
   "source": [
    "i2c_Series.unstack(0)"
   ]
  },
  {
   "cell_type": "markdown",
   "metadata": {},
   "source": [
    "**基于名称**来 `unstack()`。`i2c_Series` 的代号层是 [JD, AAPL]，从行索引转成列索引得到下面的数据帧。"
   ]
  },
  {
   "cell_type": "code",
   "execution_count": 268,
   "metadata": {
    "source_collapsed": false
   },
   "outputs": [
    {
     "data": {
      "text/html": [
       "<div>\n",
       "<style scoped>\n",
       "    .dataframe tbody tr th:only-of-type {\n",
       "        vertical-align: middle;\n",
       "    }\n",
       "\n",
       "    .dataframe tbody tr th {\n",
       "        vertical-align: top;\n",
       "    }\n",
       "\n",
       "    .dataframe thead th {\n",
       "        text-align: right;\n",
       "    }\n",
       "</style>\n",
       "<table border=\"1\" class=\"dataframe\">\n",
       "  <thead>\n",
       "    <tr style=\"text-align: right;\">\n",
       "      <th>代号</th>\n",
       "      <th>JD</th>\n",
       "      <th>AAPL</th>\n",
       "    </tr>\n",
       "    <tr>\n",
       "      <th>特征</th>\n",
       "      <th></th>\n",
       "      <th></th>\n",
       "    </tr>\n",
       "  </thead>\n",
       "  <tbody>\n",
       "    <tr>\n",
       "      <th>行业</th>\n",
       "      <td>电商</td>\n",
       "      <td>科技</td>\n",
       "    </tr>\n",
       "    <tr>\n",
       "      <th>价格</th>\n",
       "      <td>25.95</td>\n",
       "      <td>172.97</td>\n",
       "    </tr>\n",
       "    <tr>\n",
       "      <th>交易量</th>\n",
       "      <td>27113291</td>\n",
       "      <td>18913154</td>\n",
       "    </tr>\n",
       "  </tbody>\n",
       "</table>\n",
       "</div>"
      ],
      "text/plain": [
       "代号         JD      AAPL\n",
       "特征                     \n",
       "行业         电商        科技\n",
       "价格      25.95    172.97\n",
       "交易量  27113291  18913154"
      ]
     },
     "execution_count": 268,
     "metadata": {},
     "output_type": "execute_result"
    }
   ],
   "source": [
    "i2c_Series.unstack('代号')"
   ]
  },
  {
   "cell_type": "markdown",
   "metadata": {},
   "source": [
    "### <font color='blue' face='微软雅黑'>含 2 层行索引，1 层列索引的数据帧</font>"
   ]
  },
  {
   "cell_type": "code",
   "execution_count": 270,
   "metadata": {
    "source_collapsed": false
   },
   "outputs": [
    {
     "data": {
      "text/html": [
       "<div>\n",
       "<style scoped>\n",
       "    .dataframe tbody tr th:only-of-type {\n",
       "        vertical-align: middle;\n",
       "    }\n",
       "\n",
       "    .dataframe tbody tr th {\n",
       "        vertical-align: top;\n",
       "    }\n",
       "\n",
       "    .dataframe thead th {\n",
       "        text-align: right;\n",
       "    }\n",
       "</style>\n",
       "<table border=\"1\" class=\"dataframe\">\n",
       "  <thead>\n",
       "    <tr style=\"text-align: right;\">\n",
       "      <th></th>\n",
       "      <th>特征</th>\n",
       "      <th>行业</th>\n",
       "      <th>雇员</th>\n",
       "      <th>价格</th>\n",
       "    </tr>\n",
       "    <tr>\n",
       "      <th>地区</th>\n",
       "      <th>代号</th>\n",
       "      <th></th>\n",
       "      <th></th>\n",
       "      <th></th>\n",
       "    </tr>\n",
       "  </thead>\n",
       "  <tbody>\n",
       "    <tr>\n",
       "      <th rowspan=\"2\" valign=\"top\">中国</th>\n",
       "      <th>BABA</th>\n",
       "      <td>电商</td>\n",
       "      <td>101550</td>\n",
       "      <td>176.92</td>\n",
       "    </tr>\n",
       "    <tr>\n",
       "      <th>JD</th>\n",
       "      <td>电商</td>\n",
       "      <td>175336</td>\n",
       "      <td>25.95</td>\n",
       "    </tr>\n",
       "    <tr>\n",
       "      <th rowspan=\"2\" valign=\"top\">美国</th>\n",
       "      <th>GS</th>\n",
       "      <td>金融</td>\n",
       "      <td>60348</td>\n",
       "      <td>41.79</td>\n",
       "    </tr>\n",
       "    <tr>\n",
       "      <th>MS</th>\n",
       "      <td>金融</td>\n",
       "      <td>36600</td>\n",
       "      <td>196.00</td>\n",
       "    </tr>\n",
       "  </tbody>\n",
       "</table>\n",
       "</div>"
      ],
      "text/plain": [
       "特征       行业      雇员      价格\n",
       "地区 代号                      \n",
       "中国 BABA  电商  101550  176.92\n",
       "   JD    电商  175336   25.95\n",
       "美国 GS    金融   60348   41.79\n",
       "   MS    金融   36600  196.00"
      ]
     },
     "execution_count": 270,
     "metadata": {},
     "output_type": "execute_result"
    }
   ],
   "source": [
    "data = [ ['电商', 101550, 176.92], \n",
    "         ['电商', 175336, 25.95], \n",
    "         ['金融', 60348, 41.79], \n",
    "         ['金融', 36600, 196.00] ]\n",
    "\n",
    "midx = pd.MultiIndex( levels=[['中国','美国'],\n",
    "                              ['BABA', 'JD', 'GS', 'MS']], \n",
    "                      codes=[[0,0,1,1],[0,1,2,3]],\n",
    "                      names = ['地区', '代号']) \n",
    "\n",
    "mcol = pd.Index(['行业','雇员','价格'], name='特征')\n",
    "\n",
    "df = pd.DataFrame( data, index=midx, columns=mcol )\n",
    "df"
   ]
  },
  {
   "cell_type": "markdown",
   "metadata": {},
   "source": [
    "从上表中可知：\n",
    "\n",
    "- 行索引第一层 = **r1** = [中国, 美国]，名称是地区\n",
    "- 行索引第二层 = **r2** = [BABA, JD, GS, MS]，名称是代号\n",
    "- 列索引 = **c** = [行业, 雇员, 价格]，名称是特征\n",
    "\n",
    "查看 `df` 的行索引和列索引的信息"
   ]
  },
  {
   "cell_type": "code",
   "execution_count": 271,
   "metadata": {
    "source_collapsed": false
   },
   "outputs": [
    {
     "data": {
      "text/plain": [
       "(MultiIndex([('中国', 'BABA'),\n",
       "             ('中国',   'JD'),\n",
       "             ('美国',   'GS'),\n",
       "             ('美国',   'MS')],\n",
       "            names=['地区', '代号']),\n",
       " Index(['行业', '雇员', '价格'], dtype='object', name='特征'))"
      ]
     },
     "execution_count": 271,
     "metadata": {},
     "output_type": "execute_result"
    }
   ],
   "source": [
    "df.index, df.columns"
   ]
  },
  {
   "cell_type": "markdown",
   "metadata": {},
   "source": [
    "那么\n",
    "\n",
    "- `df` 的行索引 = [**r1**, **r2**]\n",
    "- `df` 的列索引 = **c**\n",
    "\n",
    "### 1. 基于层来 `unstack()` 时，选择第零层 (参数放 0)"
   ]
  },
  {
   "cell_type": "code",
   "execution_count": 127,
   "metadata": {
    "source_collapsed": false
   },
   "outputs": [
    {
     "data": {
      "text/html": [
       "<div>\n",
       "<style scoped>\n",
       "    .dataframe tbody tr th:only-of-type {\n",
       "        vertical-align: middle;\n",
       "    }\n",
       "\n",
       "    .dataframe tbody tr th {\n",
       "        vertical-align: top;\n",
       "    }\n",
       "\n",
       "    .dataframe thead tr th {\n",
       "        text-align: left;\n",
       "    }\n",
       "\n",
       "    .dataframe thead tr:last-of-type th {\n",
       "        text-align: right;\n",
       "    }\n",
       "</style>\n",
       "<table border=\"1\" class=\"dataframe\">\n",
       "  <thead>\n",
       "    <tr>\n",
       "      <th>特征</th>\n",
       "      <th colspan=\"2\" halign=\"left\">行业</th>\n",
       "      <th colspan=\"2\" halign=\"left\">雇员</th>\n",
       "      <th colspan=\"2\" halign=\"left\">价格</th>\n",
       "    </tr>\n",
       "    <tr>\n",
       "      <th>地区</th>\n",
       "      <th>中国</th>\n",
       "      <th>美国</th>\n",
       "      <th>中国</th>\n",
       "      <th>美国</th>\n",
       "      <th>中国</th>\n",
       "      <th>美国</th>\n",
       "    </tr>\n",
       "    <tr>\n",
       "      <th>代号</th>\n",
       "      <th></th>\n",
       "      <th></th>\n",
       "      <th></th>\n",
       "      <th></th>\n",
       "      <th></th>\n",
       "      <th></th>\n",
       "    </tr>\n",
       "  </thead>\n",
       "  <tbody>\n",
       "    <tr>\n",
       "      <th>BABA</th>\n",
       "      <td>电商</td>\n",
       "      <td>NaN</td>\n",
       "      <td>101550.0</td>\n",
       "      <td>NaN</td>\n",
       "      <td>176.92</td>\n",
       "      <td>NaN</td>\n",
       "    </tr>\n",
       "    <tr>\n",
       "      <th>JD</th>\n",
       "      <td>电商</td>\n",
       "      <td>NaN</td>\n",
       "      <td>175336.0</td>\n",
       "      <td>NaN</td>\n",
       "      <td>25.95</td>\n",
       "      <td>NaN</td>\n",
       "    </tr>\n",
       "    <tr>\n",
       "      <th>GS</th>\n",
       "      <td>NaN</td>\n",
       "      <td>金融</td>\n",
       "      <td>NaN</td>\n",
       "      <td>60348.0</td>\n",
       "      <td>NaN</td>\n",
       "      <td>41.79</td>\n",
       "    </tr>\n",
       "    <tr>\n",
       "      <th>MS</th>\n",
       "      <td>NaN</td>\n",
       "      <td>金融</td>\n",
       "      <td>NaN</td>\n",
       "      <td>36600.0</td>\n",
       "      <td>NaN</td>\n",
       "      <td>196.00</td>\n",
       "    </tr>\n",
       "  </tbody>\n",
       "</table>\n",
       "</div>"
      ],
      "text/plain": [
       "特征     行业             雇员               价格        \n",
       "地区     中国   美国        中国       美国      中国      美国\n",
       "代号                                               \n",
       "BABA   电商  NaN  101550.0      NaN  176.92     NaN\n",
       "JD     电商  NaN  175336.0      NaN   25.95     NaN\n",
       "GS    NaN   金融       NaN  60348.0     NaN   41.79\n",
       "MS    NaN   金融       NaN  36600.0     NaN  196.00"
      ]
     },
     "execution_count": 127,
     "metadata": {},
     "output_type": "execute_result"
    }
   ],
   "source": [
    "df.unstack(0)"
   ]
  },
  {
   "cell_type": "markdown",
   "metadata": {},
   "source": [
    "`df.unstack(0)` 之后的索引变成 (行 → 列)\n",
    "\n",
    "- 行索引 = **r2**\n",
    "- 列索引 = [**c**, **r1**]\n",
    "\n",
    "重塑后的数据帧的行索引只有一层 (代号)，而列索引有两层，第一层是特征，第二层是地区。\n",
    "\n",
    "### 2. 基于层来 `unstack()` 时，选择第一层 (参数放 1)"
   ]
  },
  {
   "cell_type": "code",
   "execution_count": 128,
   "metadata": {
    "source_collapsed": false
   },
   "outputs": [
    {
     "data": {
      "text/html": [
       "<div>\n",
       "<style scoped>\n",
       "    .dataframe tbody tr th:only-of-type {\n",
       "        vertical-align: middle;\n",
       "    }\n",
       "\n",
       "    .dataframe tbody tr th {\n",
       "        vertical-align: top;\n",
       "    }\n",
       "\n",
       "    .dataframe thead tr th {\n",
       "        text-align: left;\n",
       "    }\n",
       "\n",
       "    .dataframe thead tr:last-of-type th {\n",
       "        text-align: right;\n",
       "    }\n",
       "</style>\n",
       "<table border=\"1\" class=\"dataframe\">\n",
       "  <thead>\n",
       "    <tr>\n",
       "      <th>特征</th>\n",
       "      <th colspan=\"4\" halign=\"left\">行业</th>\n",
       "      <th colspan=\"4\" halign=\"left\">雇员</th>\n",
       "      <th colspan=\"4\" halign=\"left\">价格</th>\n",
       "    </tr>\n",
       "    <tr>\n",
       "      <th>代号</th>\n",
       "      <th>BABA</th>\n",
       "      <th>JD</th>\n",
       "      <th>GS</th>\n",
       "      <th>MS</th>\n",
       "      <th>BABA</th>\n",
       "      <th>JD</th>\n",
       "      <th>GS</th>\n",
       "      <th>MS</th>\n",
       "      <th>BABA</th>\n",
       "      <th>JD</th>\n",
       "      <th>GS</th>\n",
       "      <th>MS</th>\n",
       "    </tr>\n",
       "    <tr>\n",
       "      <th>地区</th>\n",
       "      <th></th>\n",
       "      <th></th>\n",
       "      <th></th>\n",
       "      <th></th>\n",
       "      <th></th>\n",
       "      <th></th>\n",
       "      <th></th>\n",
       "      <th></th>\n",
       "      <th></th>\n",
       "      <th></th>\n",
       "      <th></th>\n",
       "      <th></th>\n",
       "    </tr>\n",
       "  </thead>\n",
       "  <tbody>\n",
       "    <tr>\n",
       "      <th>中国</th>\n",
       "      <td>电商</td>\n",
       "      <td>电商</td>\n",
       "      <td>NaN</td>\n",
       "      <td>NaN</td>\n",
       "      <td>101550.0</td>\n",
       "      <td>175336.0</td>\n",
       "      <td>NaN</td>\n",
       "      <td>NaN</td>\n",
       "      <td>176.92</td>\n",
       "      <td>25.95</td>\n",
       "      <td>NaN</td>\n",
       "      <td>NaN</td>\n",
       "    </tr>\n",
       "    <tr>\n",
       "      <th>美国</th>\n",
       "      <td>NaN</td>\n",
       "      <td>NaN</td>\n",
       "      <td>金融</td>\n",
       "      <td>金融</td>\n",
       "      <td>NaN</td>\n",
       "      <td>NaN</td>\n",
       "      <td>60348.0</td>\n",
       "      <td>36600.0</td>\n",
       "      <td>NaN</td>\n",
       "      <td>NaN</td>\n",
       "      <td>41.79</td>\n",
       "      <td>196.0</td>\n",
       "    </tr>\n",
       "  </tbody>\n",
       "</table>\n",
       "</div>"
      ],
      "text/plain": [
       "特征   行业                       雇员                                  价格         \\\n",
       "代号 BABA   JD   GS   MS      BABA        JD       GS       MS    BABA     JD   \n",
       "地区                                                                            \n",
       "中国   电商   电商  NaN  NaN  101550.0  175336.0      NaN      NaN  176.92  25.95   \n",
       "美国  NaN  NaN   金融   金融       NaN       NaN  60348.0  36600.0     NaN    NaN   \n",
       "\n",
       "特征                \n",
       "代号     GS     MS  \n",
       "地区                \n",
       "中国    NaN    NaN  \n",
       "美国  41.79  196.0  "
      ]
     },
     "execution_count": 128,
     "metadata": {},
     "output_type": "execute_result"
    }
   ],
   "source": [
    "df.unstack(1)"
   ]
  },
  {
   "cell_type": "markdown",
   "metadata": {},
   "source": [
    "`df.unstack(1)` 之后的索引变成 (行 → 列)\n",
    "\n",
    "- 行索引 = **r1**\n",
    "- 列索引 = [**c**, **r2**]\n",
    "\n",
    "重塑后的数据帧的行索引只有一层 (地区)，而列索引有两层，第一层是地区，第二层是代号。\n",
    "\n",
    "### 3. 基于层数先 `unstack(0)` 再 `stack(0)`"
   ]
  },
  {
   "cell_type": "code",
   "execution_count": 129,
   "metadata": {
    "source_collapsed": false
   },
   "outputs": [
    {
     "data": {
      "text/html": [
       "<div>\n",
       "<style scoped>\n",
       "    .dataframe tbody tr th:only-of-type {\n",
       "        vertical-align: middle;\n",
       "    }\n",
       "\n",
       "    .dataframe tbody tr th {\n",
       "        vertical-align: top;\n",
       "    }\n",
       "\n",
       "    .dataframe thead th {\n",
       "        text-align: right;\n",
       "    }\n",
       "</style>\n",
       "<table border=\"1\" class=\"dataframe\">\n",
       "  <thead>\n",
       "    <tr style=\"text-align: right;\">\n",
       "      <th></th>\n",
       "      <th>地区</th>\n",
       "      <th>中国</th>\n",
       "      <th>美国</th>\n",
       "    </tr>\n",
       "    <tr>\n",
       "      <th>代号</th>\n",
       "      <th>特征</th>\n",
       "      <th></th>\n",
       "      <th></th>\n",
       "    </tr>\n",
       "  </thead>\n",
       "  <tbody>\n",
       "    <tr>\n",
       "      <th rowspan=\"3\" valign=\"top\">BABA</th>\n",
       "      <th>价格</th>\n",
       "      <td>176.92</td>\n",
       "      <td>NaN</td>\n",
       "    </tr>\n",
       "    <tr>\n",
       "      <th>行业</th>\n",
       "      <td>电商</td>\n",
       "      <td>NaN</td>\n",
       "    </tr>\n",
       "    <tr>\n",
       "      <th>雇员</th>\n",
       "      <td>101550</td>\n",
       "      <td>NaN</td>\n",
       "    </tr>\n",
       "    <tr>\n",
       "      <th rowspan=\"3\" valign=\"top\">JD</th>\n",
       "      <th>价格</th>\n",
       "      <td>25.95</td>\n",
       "      <td>NaN</td>\n",
       "    </tr>\n",
       "    <tr>\n",
       "      <th>行业</th>\n",
       "      <td>电商</td>\n",
       "      <td>NaN</td>\n",
       "    </tr>\n",
       "    <tr>\n",
       "      <th>雇员</th>\n",
       "      <td>175336</td>\n",
       "      <td>NaN</td>\n",
       "    </tr>\n",
       "    <tr>\n",
       "      <th rowspan=\"3\" valign=\"top\">GS</th>\n",
       "      <th>价格</th>\n",
       "      <td>NaN</td>\n",
       "      <td>41.79</td>\n",
       "    </tr>\n",
       "    <tr>\n",
       "      <th>行业</th>\n",
       "      <td>NaN</td>\n",
       "      <td>金融</td>\n",
       "    </tr>\n",
       "    <tr>\n",
       "      <th>雇员</th>\n",
       "      <td>NaN</td>\n",
       "      <td>60348</td>\n",
       "    </tr>\n",
       "    <tr>\n",
       "      <th rowspan=\"3\" valign=\"top\">MS</th>\n",
       "      <th>价格</th>\n",
       "      <td>NaN</td>\n",
       "      <td>196</td>\n",
       "    </tr>\n",
       "    <tr>\n",
       "      <th>行业</th>\n",
       "      <td>NaN</td>\n",
       "      <td>金融</td>\n",
       "    </tr>\n",
       "    <tr>\n",
       "      <th>雇员</th>\n",
       "      <td>NaN</td>\n",
       "      <td>36600</td>\n",
       "    </tr>\n",
       "  </tbody>\n",
       "</table>\n",
       "</div>"
      ],
      "text/plain": [
       "地区           中国     美国\n",
       "代号   特征               \n",
       "BABA 价格  176.92    NaN\n",
       "     行业      电商    NaN\n",
       "     雇员  101550    NaN\n",
       "JD   价格   25.95    NaN\n",
       "     行业      电商    NaN\n",
       "     雇员  175336    NaN\n",
       "GS   价格     NaN  41.79\n",
       "     行业     NaN     金融\n",
       "     雇员     NaN  60348\n",
       "MS   价格     NaN    196\n",
       "     行业     NaN     金融\n",
       "     雇员     NaN  36600"
      ]
     },
     "execution_count": 129,
     "metadata": {},
     "output_type": "execute_result"
    }
   ],
   "source": [
    "df.unstack(0).stack(0)"
   ]
  },
  {
   "cell_type": "markdown",
   "metadata": {},
   "source": [
    "`df.unstack(0)` 之后的索引变成 (行 → 列)\n",
    "\n",
    "- 行索引 = **r2**\n",
    "- 列索引 = [**c**, **r1**]\n",
    "\n",
    "再被 `stack(0)` 之后的索引变成 (列 → 行)\n",
    "\n",
    "- 行索引 = [**r2**, **c**]\n",
    "- 列索引 = **r1**\n",
    "\n",
    "重塑后的数据帧的行索引有两层，第一层是代号，第二层是特征，而列索引只有一层 (地区)。\n",
    "\n",
    "### 4. 基于层先 unstack(0) 再 stack(1)"
   ]
  },
  {
   "cell_type": "code",
   "execution_count": 130,
   "metadata": {
    "source_collapsed": false
   },
   "outputs": [
    {
     "data": {
      "text/html": [
       "<div>\n",
       "<style scoped>\n",
       "    .dataframe tbody tr th:only-of-type {\n",
       "        vertical-align: middle;\n",
       "    }\n",
       "\n",
       "    .dataframe tbody tr th {\n",
       "        vertical-align: top;\n",
       "    }\n",
       "\n",
       "    .dataframe thead th {\n",
       "        text-align: right;\n",
       "    }\n",
       "</style>\n",
       "<table border=\"1\" class=\"dataframe\">\n",
       "  <thead>\n",
       "    <tr style=\"text-align: right;\">\n",
       "      <th></th>\n",
       "      <th>特征</th>\n",
       "      <th>行业</th>\n",
       "      <th>雇员</th>\n",
       "      <th>价格</th>\n",
       "    </tr>\n",
       "    <tr>\n",
       "      <th>代号</th>\n",
       "      <th>地区</th>\n",
       "      <th></th>\n",
       "      <th></th>\n",
       "      <th></th>\n",
       "    </tr>\n",
       "  </thead>\n",
       "  <tbody>\n",
       "    <tr>\n",
       "      <th>BABA</th>\n",
       "      <th>中国</th>\n",
       "      <td>电商</td>\n",
       "      <td>101550.0</td>\n",
       "      <td>176.92</td>\n",
       "    </tr>\n",
       "    <tr>\n",
       "      <th>JD</th>\n",
       "      <th>中国</th>\n",
       "      <td>电商</td>\n",
       "      <td>175336.0</td>\n",
       "      <td>25.95</td>\n",
       "    </tr>\n",
       "    <tr>\n",
       "      <th>GS</th>\n",
       "      <th>美国</th>\n",
       "      <td>金融</td>\n",
       "      <td>60348.0</td>\n",
       "      <td>41.79</td>\n",
       "    </tr>\n",
       "    <tr>\n",
       "      <th>MS</th>\n",
       "      <th>美国</th>\n",
       "      <td>金融</td>\n",
       "      <td>36600.0</td>\n",
       "      <td>196.00</td>\n",
       "    </tr>\n",
       "  </tbody>\n",
       "</table>\n",
       "</div>"
      ],
      "text/plain": [
       "特征       行业        雇员      价格\n",
       "代号   地区                      \n",
       "BABA 中国  电商  101550.0  176.92\n",
       "JD   中国  电商  175336.0   25.95\n",
       "GS   美国  金融   60348.0   41.79\n",
       "MS   美国  金融   36600.0  196.00"
      ]
     },
     "execution_count": 130,
     "metadata": {},
     "output_type": "execute_result"
    }
   ],
   "source": [
    "df.unstack(0).stack(1)"
   ]
  },
  {
   "cell_type": "markdown",
   "metadata": {},
   "source": [
    "`df.unstack(0)` 之后的索引变成 (行 → 列)\n",
    "\n",
    "- 行索引 = **r2**\n",
    "- 列索引 = [**c**, **r1**]\n",
    "\n",
    "再被 `stack(1)` 之后的索引变成 (列 → 行)\n",
    "\n",
    "- 行索引 = [**r2**, **r1**]\n",
    "- 列索引 = **c**\n",
    "\n",
    "重塑后的数据帧的行索引有两层，第一层是代号，第二层是地区，而列索引只有一层 (特征)。\n",
    "\n",
    "### 5. 基于层先 unstack(1) 再 stack(0)"
   ]
  },
  {
   "cell_type": "code",
   "execution_count": 131,
   "metadata": {
    "source_collapsed": false
   },
   "outputs": [
    {
     "data": {
      "text/html": [
       "<div>\n",
       "<style scoped>\n",
       "    .dataframe tbody tr th:only-of-type {\n",
       "        vertical-align: middle;\n",
       "    }\n",
       "\n",
       "    .dataframe tbody tr th {\n",
       "        vertical-align: top;\n",
       "    }\n",
       "\n",
       "    .dataframe thead th {\n",
       "        text-align: right;\n",
       "    }\n",
       "</style>\n",
       "<table border=\"1\" class=\"dataframe\">\n",
       "  <thead>\n",
       "    <tr style=\"text-align: right;\">\n",
       "      <th></th>\n",
       "      <th>代号</th>\n",
       "      <th>BABA</th>\n",
       "      <th>GS</th>\n",
       "      <th>JD</th>\n",
       "      <th>MS</th>\n",
       "    </tr>\n",
       "    <tr>\n",
       "      <th>地区</th>\n",
       "      <th>特征</th>\n",
       "      <th></th>\n",
       "      <th></th>\n",
       "      <th></th>\n",
       "      <th></th>\n",
       "    </tr>\n",
       "  </thead>\n",
       "  <tbody>\n",
       "    <tr>\n",
       "      <th rowspan=\"3\" valign=\"top\">中国</th>\n",
       "      <th>价格</th>\n",
       "      <td>176.92</td>\n",
       "      <td>NaN</td>\n",
       "      <td>25.95</td>\n",
       "      <td>NaN</td>\n",
       "    </tr>\n",
       "    <tr>\n",
       "      <th>行业</th>\n",
       "      <td>电商</td>\n",
       "      <td>NaN</td>\n",
       "      <td>电商</td>\n",
       "      <td>NaN</td>\n",
       "    </tr>\n",
       "    <tr>\n",
       "      <th>雇员</th>\n",
       "      <td>101550</td>\n",
       "      <td>NaN</td>\n",
       "      <td>175336</td>\n",
       "      <td>NaN</td>\n",
       "    </tr>\n",
       "    <tr>\n",
       "      <th rowspan=\"3\" valign=\"top\">美国</th>\n",
       "      <th>价格</th>\n",
       "      <td>NaN</td>\n",
       "      <td>41.79</td>\n",
       "      <td>NaN</td>\n",
       "      <td>196</td>\n",
       "    </tr>\n",
       "    <tr>\n",
       "      <th>行业</th>\n",
       "      <td>NaN</td>\n",
       "      <td>金融</td>\n",
       "      <td>NaN</td>\n",
       "      <td>金融</td>\n",
       "    </tr>\n",
       "    <tr>\n",
       "      <th>雇员</th>\n",
       "      <td>NaN</td>\n",
       "      <td>60348</td>\n",
       "      <td>NaN</td>\n",
       "      <td>36600</td>\n",
       "    </tr>\n",
       "  </tbody>\n",
       "</table>\n",
       "</div>"
      ],
      "text/plain": [
       "代号       BABA     GS      JD     MS\n",
       "地区 特征                              \n",
       "中国 价格  176.92    NaN   25.95    NaN\n",
       "   行业      电商    NaN      电商    NaN\n",
       "   雇员  101550    NaN  175336    NaN\n",
       "美国 价格     NaN  41.79     NaN    196\n",
       "   行业     NaN     金融     NaN     金融\n",
       "   雇员     NaN  60348     NaN  36600"
      ]
     },
     "execution_count": 131,
     "metadata": {},
     "output_type": "execute_result"
    }
   ],
   "source": [
    "df.unstack(1).stack(0)"
   ]
  },
  {
   "cell_type": "markdown",
   "metadata": {},
   "source": [
    "`df.unstack(1)` 之后的索引变成 (行 → 列)\n",
    "\n",
    "- 行索引 = **r1**\n",
    "- 列索引 = [**c**, **r2**]\n",
    "\n",
    "再被 `stack(0)` 之后的索引变成 (列 → 行)\n",
    "\n",
    "- 行索引 = [**r1**, **c**]\n",
    "- 列索引 = **r2**\n",
    "\n",
    "重塑后的数据帧的行索引有两层，第一层是地区，第二层是特征，而列索引只有一层 (代号)。\n",
    "\n",
    "### 6. 基于层先 unstack(1) 再 stack(1)"
   ]
  },
  {
   "cell_type": "code",
   "execution_count": 132,
   "metadata": {
    "source_collapsed": false
   },
   "outputs": [
    {
     "data": {
      "text/html": [
       "<div>\n",
       "<style scoped>\n",
       "    .dataframe tbody tr th:only-of-type {\n",
       "        vertical-align: middle;\n",
       "    }\n",
       "\n",
       "    .dataframe tbody tr th {\n",
       "        vertical-align: top;\n",
       "    }\n",
       "\n",
       "    .dataframe thead th {\n",
       "        text-align: right;\n",
       "    }\n",
       "</style>\n",
       "<table border=\"1\" class=\"dataframe\">\n",
       "  <thead>\n",
       "    <tr style=\"text-align: right;\">\n",
       "      <th></th>\n",
       "      <th>特征</th>\n",
       "      <th>行业</th>\n",
       "      <th>雇员</th>\n",
       "      <th>价格</th>\n",
       "    </tr>\n",
       "    <tr>\n",
       "      <th>地区</th>\n",
       "      <th>代号</th>\n",
       "      <th></th>\n",
       "      <th></th>\n",
       "      <th></th>\n",
       "    </tr>\n",
       "  </thead>\n",
       "  <tbody>\n",
       "    <tr>\n",
       "      <th rowspan=\"2\" valign=\"top\">中国</th>\n",
       "      <th>BABA</th>\n",
       "      <td>电商</td>\n",
       "      <td>101550.0</td>\n",
       "      <td>176.92</td>\n",
       "    </tr>\n",
       "    <tr>\n",
       "      <th>JD</th>\n",
       "      <td>电商</td>\n",
       "      <td>175336.0</td>\n",
       "      <td>25.95</td>\n",
       "    </tr>\n",
       "    <tr>\n",
       "      <th rowspan=\"2\" valign=\"top\">美国</th>\n",
       "      <th>GS</th>\n",
       "      <td>金融</td>\n",
       "      <td>60348.0</td>\n",
       "      <td>41.79</td>\n",
       "    </tr>\n",
       "    <tr>\n",
       "      <th>MS</th>\n",
       "      <td>金融</td>\n",
       "      <td>36600.0</td>\n",
       "      <td>196.00</td>\n",
       "    </tr>\n",
       "  </tbody>\n",
       "</table>\n",
       "</div>"
      ],
      "text/plain": [
       "特征       行业        雇员      价格\n",
       "地区 代号                        \n",
       "中国 BABA  电商  101550.0  176.92\n",
       "   JD    电商  175336.0   25.95\n",
       "美国 GS    金融   60348.0   41.79\n",
       "   MS    金融   36600.0  196.00"
      ]
     },
     "execution_count": 132,
     "metadata": {},
     "output_type": "execute_result"
    }
   ],
   "source": [
    "df.unstack(1).stack(1)"
   ]
  },
  {
   "cell_type": "markdown",
   "metadata": {},
   "source": [
    "`df.unstack(1)` 之后的索引变成 (行 → 列)\n",
    "\n",
    "- 行索引 = **r1**\n",
    "- 列索引 = [**c**, **r2**]\n",
    "\n",
    "再被 `stack(1)` 之后的索引变成 (列 → 行)\n",
    "\n",
    "- 行索引 = [**r1**, **r2**]\n",
    "- 列索引 = **c**\n",
    "\n",
    "重塑后的数据帧的行索引有两层，第一层是地区，第二层是特征，而列索引只有一层 (代号)。还原成原来的 `df` 了。\n",
    "\n",
    "### 7. 基于层被 stack()，没有填层数，默认为最后一层。"
   ]
  },
  {
   "cell_type": "code",
   "execution_count": 133,
   "metadata": {
    "source_collapsed": false
   },
   "outputs": [
    {
     "data": {
      "text/plain": [
       "地区  代号    特征\n",
       "中国  BABA  行业        电商\n",
       "          雇员    101550\n",
       "          价格    176.92\n",
       "    JD    行业        电商\n",
       "          雇员    175336\n",
       "          价格     25.95\n",
       "美国  GS    行业        金融\n",
       "          雇员     60348\n",
       "          价格     41.79\n",
       "    MS    行业        金融\n",
       "          雇员     36600\n",
       "          价格       196\n",
       "dtype: object"
      ]
     },
     "execution_count": 133,
     "metadata": {},
     "output_type": "execute_result"
    }
   ],
   "source": [
    "df.stack()"
   ]
  },
  {
   "cell_type": "markdown",
   "metadata": {},
   "source": [
    "`df.stack()` 之后的索引变成 (列 → 行)\n",
    "\n",
    "- 行索引 = [**r1**, **r2**, **c**]\n",
    "- 列索引 = []\n",
    "\n",
    "重塑后的序列只有行索引，有三层，第一层是地区，第二层是代号，第三层是特征。\n",
    "\n",
    "### 8. 基于层被 unstack() 两次，没有填层数，默认为最后一层。"
   ]
  },
  {
   "cell_type": "code",
   "execution_count": 134,
   "metadata": {
    "source_collapsed": false
   },
   "outputs": [
    {
     "data": {
      "text/plain": [
       "特征  代号    地区\n",
       "行业  BABA  中国        电商\n",
       "          美国       NaN\n",
       "    JD    中国        电商\n",
       "          美国       NaN\n",
       "    GS    中国       NaN\n",
       "          美国        金融\n",
       "    MS    中国       NaN\n",
       "          美国        金融\n",
       "雇员  BABA  中国    101550\n",
       "          美国       NaN\n",
       "    JD    中国    175336\n",
       "          美国       NaN\n",
       "    GS    中国       NaN\n",
       "          美国     60348\n",
       "    MS    中国       NaN\n",
       "          美国     36600\n",
       "价格  BABA  中国    176.92\n",
       "          美国       NaN\n",
       "    JD    中国     25.95\n",
       "          美国       NaN\n",
       "    GS    中国       NaN\n",
       "          美国     41.79\n",
       "    MS    中国       NaN\n",
       "          美国       196\n",
       "dtype: object"
      ]
     },
     "execution_count": 134,
     "metadata": {},
     "output_type": "execute_result"
    }
   ],
   "source": [
    "df.unstack().unstack()"
   ]
  },
  {
   "cell_type": "markdown",
   "metadata": {},
   "source": [
    "`df.unstack()` 之后的索引变成 (行 → 列)\n",
    "\n",
    "- 行索引 = **r1**\n",
    "- 列索引 = [**c**, **r2**]\n",
    "\n",
    "被第二次 unstack() 之后的索引变成 (行 → 列)\n",
    "\n",
    "- 行索引 = []\n",
    "- 列索引 = [**c**, **r2**, **r1**]\n",
    "\n",
    "重塑后的序列只有列索引 (实际上是个转置的序列)，有三层，第一层是特征，第二层是代号，第三层是地区。"
   ]
  },
  {
   "cell_type": "markdown",
   "metadata": {
    "source_collapsed": false
   },
   "source": [
    "***\n",
    "用 `stack()` 和 `unstack()` 函数总结于下面三图：\n",
    "\n",
    "<img src=\"Reshape stack.PNG\" style=\"width:550px; height:300px;\">\n",
    "<img src=\"Reshape unstack0.PNG\" style=\"width:550px; height:300px;\">\n",
    "<img src=\"Reshape unstack1.PNG\" style=\"width:550px; height:300px;\">"
   ]
  },
  {
   "cell_type": "markdown",
   "metadata": {},
   "source": [
    "### <font color='#2b4750' face='微软雅黑'>6.2 长宽互转</font><a name='6.2'></a>\n",
    "[<font color='black' face='微软雅黑'>回到章首</font>](#6)\n",
    "\n",
    "以下旧表和新表指得都是数据帧。\n",
    "\n",
    "- 对于两个列下有**重复值**的旧表，可将两列值的“支点”作为行索引和列索引生成新表，用 `pivot()` 函数实现。\n",
    "- 对于所有列没有**重复值**的旧表，可设定 id 列 (剩下的列自动归属于 variable 列) 生成新表，用 `melt()` 函数实现。\n",
    "\n",
    "这种将旧表变新表的过程有两种：\n",
    "\n",
    "- 用 `pivot()` 函数将旧表拉宽变新表，长 → 宽\n",
    "- 用 `melt()` 函数将旧表拉长变新表，宽 → 长\n",
    "\n",
    "两者也可称为互逆操作。\n",
    "\n",
    "### <font color='blue' face='微软雅黑'>从长表到宽表</font> \n",
    "\n",
    "对于那些包含多个时间序列的数据表，很多情况下在很多列下有重复值出现。拿下面数据举例，该数据包含 **5 只股票在 4 个交易日**上的信息：\n",
    "\n",
    "- **5 只股票**：AAPL, JD, BABA, FB, GS\n",
    "- **4 个交易日**：21/02/2019, 22/02/2019, 25/02/2019, 26/02/2019\n",
    "\n",
    "用 `read_csv()` 函数从 csv 文件中读取数据，由于文件中\n",
    "\n",
    "- 日期格式是 `dd/mm/yyyy`，因此设置 `dayfirst =`**`True`**，要不然 **05/02/2019** 本来是 **2019 年 2 月 5 日**，会被误以为 **2019 年 5 月 2 日**\n",
    "- 日期是在第一列，因此显性设置 `parse_dates=[0]`，0 代表第一列。"
   ]
  },
  {
   "cell_type": "code",
   "execution_count": 4,
   "metadata": {
    "source_collapsed": false
   },
   "outputs": [
    {
     "data": {
      "text/html": [
       "<div>\n",
       "<style scoped>\n",
       "    .dataframe tbody tr th:only-of-type {\n",
       "        vertical-align: middle;\n",
       "    }\n",
       "\n",
       "    .dataframe tbody tr th {\n",
       "        vertical-align: top;\n",
       "    }\n",
       "\n",
       "    .dataframe thead th {\n",
       "        text-align: right;\n",
       "    }\n",
       "</style>\n",
       "<table border=\"1\" class=\"dataframe\">\n",
       "  <thead>\n",
       "    <tr style=\"text-align: right;\">\n",
       "      <th></th>\n",
       "      <th>Date</th>\n",
       "      <th>Symbol</th>\n",
       "      <th>Open</th>\n",
       "      <th>High</th>\n",
       "      <th>Low</th>\n",
       "      <th>Close</th>\n",
       "      <th>Adj Close</th>\n",
       "      <th>Volume</th>\n",
       "    </tr>\n",
       "  </thead>\n",
       "  <tbody>\n",
       "    <tr>\n",
       "      <th>0</th>\n",
       "      <td>2019-02-21</td>\n",
       "      <td>AAPL</td>\n",
       "      <td>171.800003</td>\n",
       "      <td>172.369995</td>\n",
       "      <td>170.300003</td>\n",
       "      <td>171.059998</td>\n",
       "      <td>171.059998</td>\n",
       "      <td>17249700</td>\n",
       "    </tr>\n",
       "    <tr>\n",
       "      <th>1</th>\n",
       "      <td>2019-02-21</td>\n",
       "      <td>JD</td>\n",
       "      <td>24.820000</td>\n",
       "      <td>24.879999</td>\n",
       "      <td>24.010000</td>\n",
       "      <td>24.270000</td>\n",
       "      <td>24.270000</td>\n",
       "      <td>13542600</td>\n",
       "    </tr>\n",
       "    <tr>\n",
       "      <th>2</th>\n",
       "      <td>2019-02-21</td>\n",
       "      <td>BABA</td>\n",
       "      <td>171.000000</td>\n",
       "      <td>171.779999</td>\n",
       "      <td>169.800003</td>\n",
       "      <td>171.660004</td>\n",
       "      <td>171.660004</td>\n",
       "      <td>8434800</td>\n",
       "    </tr>\n",
       "    <tr>\n",
       "      <th>3</th>\n",
       "      <td>2019-02-21</td>\n",
       "      <td>GS</td>\n",
       "      <td>198.970001</td>\n",
       "      <td>199.449997</td>\n",
       "      <td>195.050003</td>\n",
       "      <td>196.360001</td>\n",
       "      <td>196.360001</td>\n",
       "      <td>2785900</td>\n",
       "    </tr>\n",
       "    <tr>\n",
       "      <th>4</th>\n",
       "      <td>2019-02-21</td>\n",
       "      <td>FB</td>\n",
       "      <td>161.929993</td>\n",
       "      <td>162.240005</td>\n",
       "      <td>159.589996</td>\n",
       "      <td>160.039993</td>\n",
       "      <td>160.039993</td>\n",
       "      <td>15607800</td>\n",
       "    </tr>\n",
       "    <tr>\n",
       "      <th>5</th>\n",
       "      <td>2019-02-22</td>\n",
       "      <td>AAPL</td>\n",
       "      <td>171.580002</td>\n",
       "      <td>173.000000</td>\n",
       "      <td>171.380005</td>\n",
       "      <td>172.970001</td>\n",
       "      <td>172.970001</td>\n",
       "      <td>18913200</td>\n",
       "    </tr>\n",
       "    <tr>\n",
       "      <th>6</th>\n",
       "      <td>2019-02-22</td>\n",
       "      <td>JD</td>\n",
       "      <td>24.549999</td>\n",
       "      <td>25.959999</td>\n",
       "      <td>24.480000</td>\n",
       "      <td>25.950001</td>\n",
       "      <td>25.950001</td>\n",
       "      <td>27113300</td>\n",
       "    </tr>\n",
       "    <tr>\n",
       "      <th>7</th>\n",
       "      <td>2019-02-22</td>\n",
       "      <td>BABA</td>\n",
       "      <td>172.800003</td>\n",
       "      <td>177.020004</td>\n",
       "      <td>172.520004</td>\n",
       "      <td>176.919998</td>\n",
       "      <td>176.919998</td>\n",
       "      <td>16175600</td>\n",
       "    </tr>\n",
       "    <tr>\n",
       "      <th>8</th>\n",
       "      <td>2019-02-22</td>\n",
       "      <td>GS</td>\n",
       "      <td>196.600006</td>\n",
       "      <td>197.750000</td>\n",
       "      <td>195.199997</td>\n",
       "      <td>196.000000</td>\n",
       "      <td>196.000000</td>\n",
       "      <td>2626600</td>\n",
       "    </tr>\n",
       "    <tr>\n",
       "      <th>9</th>\n",
       "      <td>2019-02-22</td>\n",
       "      <td>FB</td>\n",
       "      <td>160.580002</td>\n",
       "      <td>162.410004</td>\n",
       "      <td>160.309998</td>\n",
       "      <td>161.889999</td>\n",
       "      <td>161.889999</td>\n",
       "      <td>15858500</td>\n",
       "    </tr>\n",
       "    <tr>\n",
       "      <th>10</th>\n",
       "      <td>2019-02-25</td>\n",
       "      <td>AAPL</td>\n",
       "      <td>174.160004</td>\n",
       "      <td>175.869995</td>\n",
       "      <td>173.949997</td>\n",
       "      <td>174.229996</td>\n",
       "      <td>174.229996</td>\n",
       "      <td>21873400</td>\n",
       "    </tr>\n",
       "    <tr>\n",
       "      <th>11</th>\n",
       "      <td>2019-02-25</td>\n",
       "      <td>JD</td>\n",
       "      <td>27.110001</td>\n",
       "      <td>27.379999</td>\n",
       "      <td>26.040001</td>\n",
       "      <td>26.190001</td>\n",
       "      <td>26.190001</td>\n",
       "      <td>29338500</td>\n",
       "    </tr>\n",
       "    <tr>\n",
       "      <th>12</th>\n",
       "      <td>2019-02-25</td>\n",
       "      <td>BABA</td>\n",
       "      <td>181.259995</td>\n",
       "      <td>183.720001</td>\n",
       "      <td>180.729996</td>\n",
       "      <td>183.250000</td>\n",
       "      <td>183.250000</td>\n",
       "      <td>22831800</td>\n",
       "    </tr>\n",
       "    <tr>\n",
       "      <th>13</th>\n",
       "      <td>2019-02-25</td>\n",
       "      <td>GS</td>\n",
       "      <td>198.000000</td>\n",
       "      <td>201.500000</td>\n",
       "      <td>197.710007</td>\n",
       "      <td>198.649994</td>\n",
       "      <td>198.649994</td>\n",
       "      <td>3032200</td>\n",
       "    </tr>\n",
       "    <tr>\n",
       "      <th>14</th>\n",
       "      <td>2019-02-25</td>\n",
       "      <td>FB</td>\n",
       "      <td>163.070007</td>\n",
       "      <td>166.070007</td>\n",
       "      <td>162.899994</td>\n",
       "      <td>164.619995</td>\n",
       "      <td>164.619995</td>\n",
       "      <td>18737100</td>\n",
       "    </tr>\n",
       "    <tr>\n",
       "      <th>15</th>\n",
       "      <td>2019-02-26</td>\n",
       "      <td>AAPL</td>\n",
       "      <td>173.710007</td>\n",
       "      <td>175.300003</td>\n",
       "      <td>173.169998</td>\n",
       "      <td>174.330002</td>\n",
       "      <td>174.330002</td>\n",
       "      <td>17006000</td>\n",
       "    </tr>\n",
       "    <tr>\n",
       "      <th>16</th>\n",
       "      <td>2019-02-26</td>\n",
       "      <td>JD</td>\n",
       "      <td>25.980000</td>\n",
       "      <td>26.820000</td>\n",
       "      <td>25.660000</td>\n",
       "      <td>26.590000</td>\n",
       "      <td>26.590000</td>\n",
       "      <td>20264100</td>\n",
       "    </tr>\n",
       "    <tr>\n",
       "      <th>17</th>\n",
       "      <td>2019-02-26</td>\n",
       "      <td>BABA</td>\n",
       "      <td>179.789993</td>\n",
       "      <td>184.350006</td>\n",
       "      <td>179.369995</td>\n",
       "      <td>183.539993</td>\n",
       "      <td>183.539993</td>\n",
       "      <td>13857900</td>\n",
       "    </tr>\n",
       "    <tr>\n",
       "      <th>18</th>\n",
       "      <td>2019-02-26</td>\n",
       "      <td>GS</td>\n",
       "      <td>198.470001</td>\n",
       "      <td>200.559998</td>\n",
       "      <td>196.550003</td>\n",
       "      <td>198.899994</td>\n",
       "      <td>198.899994</td>\n",
       "      <td>2498000</td>\n",
       "    </tr>\n",
       "    <tr>\n",
       "      <th>19</th>\n",
       "      <td>2019-02-26</td>\n",
       "      <td>FB</td>\n",
       "      <td>164.339996</td>\n",
       "      <td>166.240005</td>\n",
       "      <td>163.800003</td>\n",
       "      <td>164.130005</td>\n",
       "      <td>164.130005</td>\n",
       "      <td>13645200</td>\n",
       "    </tr>\n",
       "  </tbody>\n",
       "</table>\n",
       "</div>"
      ],
      "text/plain": [
       "         Date Symbol        Open        High         Low       Close  \\\n",
       "0  2019-02-21   AAPL  171.800003  172.369995  170.300003  171.059998   \n",
       "1  2019-02-21     JD   24.820000   24.879999   24.010000   24.270000   \n",
       "2  2019-02-21   BABA  171.000000  171.779999  169.800003  171.660004   \n",
       "3  2019-02-21     GS  198.970001  199.449997  195.050003  196.360001   \n",
       "4  2019-02-21     FB  161.929993  162.240005  159.589996  160.039993   \n",
       "5  2019-02-22   AAPL  171.580002  173.000000  171.380005  172.970001   \n",
       "6  2019-02-22     JD   24.549999   25.959999   24.480000   25.950001   \n",
       "7  2019-02-22   BABA  172.800003  177.020004  172.520004  176.919998   \n",
       "8  2019-02-22     GS  196.600006  197.750000  195.199997  196.000000   \n",
       "9  2019-02-22     FB  160.580002  162.410004  160.309998  161.889999   \n",
       "10 2019-02-25   AAPL  174.160004  175.869995  173.949997  174.229996   \n",
       "11 2019-02-25     JD   27.110001   27.379999   26.040001   26.190001   \n",
       "12 2019-02-25   BABA  181.259995  183.720001  180.729996  183.250000   \n",
       "13 2019-02-25     GS  198.000000  201.500000  197.710007  198.649994   \n",
       "14 2019-02-25     FB  163.070007  166.070007  162.899994  164.619995   \n",
       "15 2019-02-26   AAPL  173.710007  175.300003  173.169998  174.330002   \n",
       "16 2019-02-26     JD   25.980000   26.820000   25.660000   26.590000   \n",
       "17 2019-02-26   BABA  179.789993  184.350006  179.369995  183.539993   \n",
       "18 2019-02-26     GS  198.470001  200.559998  196.550003  198.899994   \n",
       "19 2019-02-26     FB  164.339996  166.240005  163.800003  164.130005   \n",
       "\n",
       "     Adj Close    Volume  \n",
       "0   171.059998  17249700  \n",
       "1    24.270000  13542600  \n",
       "2   171.660004   8434800  \n",
       "3   196.360001   2785900  \n",
       "4   160.039993  15607800  \n",
       "5   172.970001  18913200  \n",
       "6    25.950001  27113300  \n",
       "7   176.919998  16175600  \n",
       "8   196.000000   2626600  \n",
       "9   161.889999  15858500  \n",
       "10  174.229996  21873400  \n",
       "11   26.190001  29338500  \n",
       "12  183.250000  22831800  \n",
       "13  198.649994   3032200  \n",
       "14  164.619995  18737100  \n",
       "15  174.330002  17006000  \n",
       "16   26.590000  20264100  \n",
       "17  183.539993  13857900  \n",
       "18  198.899994   2498000  \n",
       "19  164.130005  13645200  "
      ]
     },
     "execution_count": 4,
     "metadata": {},
     "output_type": "execute_result"
    }
   ],
   "source": [
    "data = pd.read_csv('Stock.csv', parse_dates=[0], dayfirst=True)\n",
    "data"
   ]
  },
  {
   "cell_type": "markdown",
   "metadata": {
    "source_collapsed": false
   },
   "source": [
    "从上表看出有 20 行 (5 × 4) 和 8 列，在 Date 和 Symbol 那两列下就有重复值，4 个日期和 5 个股票在 20 行中分别出现了 5 次和 4 次。\n",
    "\n",
    "***\n",
    "对于 **“旧表”** 数据帧 `df`，用它的若干列标签作为 **“新表”** 的 `index`、`columns` 和 `values` 的值，语法如下：\n",
    "\n",
    "    df.pivot( index=df_col_label_1, columns=df_col_label_2, values=df_col_label_3 )\n",
    "\n",
    "注意该函数没有**整合**功能，后面介绍的 `pivot_table()` 才有**整合**功能。\n",
    "\n",
    "如果只关注不同股票在不同日期下的 Adj Close，那么可用 `pivot()` 函数可将原始数据「透视」生成一个数据帧，起名为 `close_price`。在 `pivot()` 函数中\n",
    "\n",
    "- 将 `index` 设置成 Date\n",
    "- 将 `columns` 设置成 Symbol\n",
    "- 将 `values` 设置 Adj Close\n",
    "\n",
    "`close_price` 实际上把 data['Date'] 和 data['Symbol'] 里面不重复的值当成支点 (pivot 就是支点的意思)，即行索引和列索引，其中\n",
    "\n",
    "- 行索引= 2019-02-21, 2019-02-22, 2019-02-25, 2019-02-26\n",
    "- 列索引 = AAPL, JD, BABA, FB, GS\n",
    "\n",
    "再把 data['Adj Close'] 的值放在以如上的行索引和列索引创建的 close_price 里来展示。"
   ]
  },
  {
   "cell_type": "code",
   "execution_count": 204,
   "metadata": {
    "source_collapsed": false
   },
   "outputs": [
    {
     "data": {
      "text/html": [
       "<div>\n",
       "<style scoped>\n",
       "    .dataframe tbody tr th:only-of-type {\n",
       "        vertical-align: middle;\n",
       "    }\n",
       "\n",
       "    .dataframe tbody tr th {\n",
       "        vertical-align: top;\n",
       "    }\n",
       "\n",
       "    .dataframe thead th {\n",
       "        text-align: right;\n",
       "    }\n",
       "</style>\n",
       "<table border=\"1\" class=\"dataframe\">\n",
       "  <thead>\n",
       "    <tr style=\"text-align: right;\">\n",
       "      <th>Symbol</th>\n",
       "      <th>AAPL</th>\n",
       "      <th>BABA</th>\n",
       "      <th>FB</th>\n",
       "      <th>GS</th>\n",
       "      <th>JD</th>\n",
       "    </tr>\n",
       "    <tr>\n",
       "      <th>Date</th>\n",
       "      <th></th>\n",
       "      <th></th>\n",
       "      <th></th>\n",
       "      <th></th>\n",
       "      <th></th>\n",
       "    </tr>\n",
       "  </thead>\n",
       "  <tbody>\n",
       "    <tr>\n",
       "      <th>2019-02-21</th>\n",
       "      <td>171.059998</td>\n",
       "      <td>171.660004</td>\n",
       "      <td>160.039993</td>\n",
       "      <td>196.360001</td>\n",
       "      <td>24.270000</td>\n",
       "    </tr>\n",
       "    <tr>\n",
       "      <th>2019-02-22</th>\n",
       "      <td>172.970001</td>\n",
       "      <td>176.919998</td>\n",
       "      <td>161.889999</td>\n",
       "      <td>196.000000</td>\n",
       "      <td>25.950001</td>\n",
       "    </tr>\n",
       "    <tr>\n",
       "      <th>2019-02-25</th>\n",
       "      <td>174.229996</td>\n",
       "      <td>183.250000</td>\n",
       "      <td>164.619995</td>\n",
       "      <td>198.649994</td>\n",
       "      <td>26.190001</td>\n",
       "    </tr>\n",
       "    <tr>\n",
       "      <th>2019-02-26</th>\n",
       "      <td>174.330002</td>\n",
       "      <td>183.539993</td>\n",
       "      <td>164.130005</td>\n",
       "      <td>198.899994</td>\n",
       "      <td>26.590000</td>\n",
       "    </tr>\n",
       "  </tbody>\n",
       "</table>\n",
       "</div>"
      ],
      "text/plain": [
       "Symbol            AAPL        BABA          FB          GS         JD\n",
       "Date                                                                 \n",
       "2019-02-21  171.059998  171.660004  160.039993  196.360001  24.270000\n",
       "2019-02-22  172.970001  176.919998  161.889999  196.000000  25.950001\n",
       "2019-02-25  174.229996  183.250000  164.619995  198.649994  26.190001\n",
       "2019-02-26  174.330002  183.539993  164.130005  198.899994  26.590000"
      ]
     },
     "execution_count": 204,
     "metadata": {},
     "output_type": "execute_result"
    }
   ],
   "source": [
    "close_price = data.pivot( index='Date',\n",
    "                          columns='Symbol',\n",
    "                          values='Adj Close' )\n",
    "close_price"
   ]
  },
  {
   "cell_type": "markdown",
   "metadata": {
    "source_collapsed": false
   },
   "source": [
    "如果觉得 Adj Close 不够，还想加个 Volume 看看，那么就把 `values` 设置成 ['Adj Close', 'Volume']。这时支点还是 data[`Date`] 和 data[`Symbol`]，但是要透视的值增加到 data[['Adj Close', 'Volume']] 了。此时 `pivot()` 函数返回的是两组新表。"
   ]
  },
  {
   "cell_type": "code",
   "execution_count": 205,
   "metadata": {
    "source_collapsed": false
   },
   "outputs": [
    {
     "data": {
      "text/html": [
       "<div>\n",
       "<style scoped>\n",
       "    .dataframe tbody tr th:only-of-type {\n",
       "        vertical-align: middle;\n",
       "    }\n",
       "\n",
       "    .dataframe tbody tr th {\n",
       "        vertical-align: top;\n",
       "    }\n",
       "\n",
       "    .dataframe thead tr th {\n",
       "        text-align: left;\n",
       "    }\n",
       "\n",
       "    .dataframe thead tr:last-of-type th {\n",
       "        text-align: right;\n",
       "    }\n",
       "</style>\n",
       "<table border=\"1\" class=\"dataframe\">\n",
       "  <thead>\n",
       "    <tr>\n",
       "      <th></th>\n",
       "      <th colspan=\"5\" halign=\"left\">Adj Close</th>\n",
       "      <th colspan=\"5\" halign=\"left\">Volume</th>\n",
       "    </tr>\n",
       "    <tr>\n",
       "      <th>Symbol</th>\n",
       "      <th>AAPL</th>\n",
       "      <th>BABA</th>\n",
       "      <th>FB</th>\n",
       "      <th>GS</th>\n",
       "      <th>JD</th>\n",
       "      <th>AAPL</th>\n",
       "      <th>BABA</th>\n",
       "      <th>FB</th>\n",
       "      <th>GS</th>\n",
       "      <th>JD</th>\n",
       "    </tr>\n",
       "    <tr>\n",
       "      <th>Date</th>\n",
       "      <th></th>\n",
       "      <th></th>\n",
       "      <th></th>\n",
       "      <th></th>\n",
       "      <th></th>\n",
       "      <th></th>\n",
       "      <th></th>\n",
       "      <th></th>\n",
       "      <th></th>\n",
       "      <th></th>\n",
       "    </tr>\n",
       "  </thead>\n",
       "  <tbody>\n",
       "    <tr>\n",
       "      <th>2019-02-21</th>\n",
       "      <td>171.059998</td>\n",
       "      <td>171.660004</td>\n",
       "      <td>160.039993</td>\n",
       "      <td>196.360001</td>\n",
       "      <td>24.270000</td>\n",
       "      <td>17249700.0</td>\n",
       "      <td>8434800.0</td>\n",
       "      <td>15607800.0</td>\n",
       "      <td>2785900.0</td>\n",
       "      <td>13542600.0</td>\n",
       "    </tr>\n",
       "    <tr>\n",
       "      <th>2019-02-22</th>\n",
       "      <td>172.970001</td>\n",
       "      <td>176.919998</td>\n",
       "      <td>161.889999</td>\n",
       "      <td>196.000000</td>\n",
       "      <td>25.950001</td>\n",
       "      <td>18913200.0</td>\n",
       "      <td>16175600.0</td>\n",
       "      <td>15858500.0</td>\n",
       "      <td>2626600.0</td>\n",
       "      <td>27113300.0</td>\n",
       "    </tr>\n",
       "    <tr>\n",
       "      <th>2019-02-25</th>\n",
       "      <td>174.229996</td>\n",
       "      <td>183.250000</td>\n",
       "      <td>164.619995</td>\n",
       "      <td>198.649994</td>\n",
       "      <td>26.190001</td>\n",
       "      <td>21873400.0</td>\n",
       "      <td>22831800.0</td>\n",
       "      <td>18737100.0</td>\n",
       "      <td>3032200.0</td>\n",
       "      <td>29338500.0</td>\n",
       "    </tr>\n",
       "    <tr>\n",
       "      <th>2019-02-26</th>\n",
       "      <td>174.330002</td>\n",
       "      <td>183.539993</td>\n",
       "      <td>164.130005</td>\n",
       "      <td>198.899994</td>\n",
       "      <td>26.590000</td>\n",
       "      <td>17006000.0</td>\n",
       "      <td>13857900.0</td>\n",
       "      <td>13645200.0</td>\n",
       "      <td>2498000.0</td>\n",
       "      <td>20264100.0</td>\n",
       "    </tr>\n",
       "  </tbody>\n",
       "</table>\n",
       "</div>"
      ],
      "text/plain": [
       "             Adj Close                                                 \\\n",
       "Symbol            AAPL        BABA          FB          GS         JD   \n",
       "Date                                                                    \n",
       "2019-02-21  171.059998  171.660004  160.039993  196.360001  24.270000   \n",
       "2019-02-22  172.970001  176.919998  161.889999  196.000000  25.950001   \n",
       "2019-02-25  174.229996  183.250000  164.619995  198.649994  26.190001   \n",
       "2019-02-26  174.330002  183.539993  164.130005  198.899994  26.590000   \n",
       "\n",
       "                Volume                                                 \n",
       "Symbol            AAPL        BABA          FB         GS          JD  \n",
       "Date                                                                   \n",
       "2019-02-21  17249700.0   8434800.0  15607800.0  2785900.0  13542600.0  \n",
       "2019-02-22  18913200.0  16175600.0  15858500.0  2626600.0  27113300.0  \n",
       "2019-02-25  21873400.0  22831800.0  18737100.0  3032200.0  29338500.0  \n",
       "2019-02-26  17006000.0  13857900.0  13645200.0  2498000.0  20264100.0  "
      ]
     },
     "execution_count": 205,
     "metadata": {},
     "output_type": "execute_result"
    }
   ],
   "source": [
    "data.pivot( index='Date',\n",
    "            columns='Symbol',\n",
    "            values=['Adj Close','Volume'] )"
   ]
  },
  {
   "cell_type": "markdown",
   "metadata": {
    "source_collapsed": false
   },
   "source": [
    "如果不设置 `values` 参数，那么 `pivot()` 函数返回的是六组新表。(旧表 `data` 有八列，两列当了支点，剩下六列用来透视)"
   ]
  },
  {
   "cell_type": "code",
   "execution_count": 206,
   "metadata": {
    "source_collapsed": false
   },
   "outputs": [
    {
     "data": {
      "text/html": [
       "<div>\n",
       "<style scoped>\n",
       "    .dataframe tbody tr th:only-of-type {\n",
       "        vertical-align: middle;\n",
       "    }\n",
       "\n",
       "    .dataframe tbody tr th {\n",
       "        vertical-align: top;\n",
       "    }\n",
       "\n",
       "    .dataframe thead tr th {\n",
       "        text-align: left;\n",
       "    }\n",
       "\n",
       "    .dataframe thead tr:last-of-type th {\n",
       "        text-align: right;\n",
       "    }\n",
       "</style>\n",
       "<table border=\"1\" class=\"dataframe\">\n",
       "  <thead>\n",
       "    <tr>\n",
       "      <th></th>\n",
       "      <th colspan=\"5\" halign=\"left\">Open</th>\n",
       "      <th colspan=\"5\" halign=\"left\">High</th>\n",
       "      <th>...</th>\n",
       "      <th colspan=\"5\" halign=\"left\">Adj Close</th>\n",
       "      <th colspan=\"5\" halign=\"left\">Volume</th>\n",
       "    </tr>\n",
       "    <tr>\n",
       "      <th>Symbol</th>\n",
       "      <th>AAPL</th>\n",
       "      <th>BABA</th>\n",
       "      <th>FB</th>\n",
       "      <th>GS</th>\n",
       "      <th>JD</th>\n",
       "      <th>AAPL</th>\n",
       "      <th>BABA</th>\n",
       "      <th>FB</th>\n",
       "      <th>GS</th>\n",
       "      <th>JD</th>\n",
       "      <th>...</th>\n",
       "      <th>AAPL</th>\n",
       "      <th>BABA</th>\n",
       "      <th>FB</th>\n",
       "      <th>GS</th>\n",
       "      <th>JD</th>\n",
       "      <th>AAPL</th>\n",
       "      <th>BABA</th>\n",
       "      <th>FB</th>\n",
       "      <th>GS</th>\n",
       "      <th>JD</th>\n",
       "    </tr>\n",
       "    <tr>\n",
       "      <th>Date</th>\n",
       "      <th></th>\n",
       "      <th></th>\n",
       "      <th></th>\n",
       "      <th></th>\n",
       "      <th></th>\n",
       "      <th></th>\n",
       "      <th></th>\n",
       "      <th></th>\n",
       "      <th></th>\n",
       "      <th></th>\n",
       "      <th></th>\n",
       "      <th></th>\n",
       "      <th></th>\n",
       "      <th></th>\n",
       "      <th></th>\n",
       "      <th></th>\n",
       "      <th></th>\n",
       "      <th></th>\n",
       "      <th></th>\n",
       "      <th></th>\n",
       "      <th></th>\n",
       "    </tr>\n",
       "  </thead>\n",
       "  <tbody>\n",
       "    <tr>\n",
       "      <th>2019-02-21</th>\n",
       "      <td>171.800003</td>\n",
       "      <td>171.000000</td>\n",
       "      <td>161.929993</td>\n",
       "      <td>198.970001</td>\n",
       "      <td>24.820000</td>\n",
       "      <td>172.369995</td>\n",
       "      <td>171.779999</td>\n",
       "      <td>162.240005</td>\n",
       "      <td>199.449997</td>\n",
       "      <td>24.879999</td>\n",
       "      <td>...</td>\n",
       "      <td>171.059998</td>\n",
       "      <td>171.660004</td>\n",
       "      <td>160.039993</td>\n",
       "      <td>196.360001</td>\n",
       "      <td>24.270000</td>\n",
       "      <td>17249700</td>\n",
       "      <td>8434800</td>\n",
       "      <td>15607800</td>\n",
       "      <td>2785900</td>\n",
       "      <td>13542600</td>\n",
       "    </tr>\n",
       "    <tr>\n",
       "      <th>2019-02-22</th>\n",
       "      <td>171.580002</td>\n",
       "      <td>172.800003</td>\n",
       "      <td>160.580002</td>\n",
       "      <td>196.600006</td>\n",
       "      <td>24.549999</td>\n",
       "      <td>173.000000</td>\n",
       "      <td>177.020004</td>\n",
       "      <td>162.410004</td>\n",
       "      <td>197.750000</td>\n",
       "      <td>25.959999</td>\n",
       "      <td>...</td>\n",
       "      <td>172.970001</td>\n",
       "      <td>176.919998</td>\n",
       "      <td>161.889999</td>\n",
       "      <td>196.000000</td>\n",
       "      <td>25.950001</td>\n",
       "      <td>18913200</td>\n",
       "      <td>16175600</td>\n",
       "      <td>15858500</td>\n",
       "      <td>2626600</td>\n",
       "      <td>27113300</td>\n",
       "    </tr>\n",
       "    <tr>\n",
       "      <th>2019-02-25</th>\n",
       "      <td>174.160004</td>\n",
       "      <td>181.259995</td>\n",
       "      <td>163.070007</td>\n",
       "      <td>198.000000</td>\n",
       "      <td>27.110001</td>\n",
       "      <td>175.869995</td>\n",
       "      <td>183.720001</td>\n",
       "      <td>166.070007</td>\n",
       "      <td>201.500000</td>\n",
       "      <td>27.379999</td>\n",
       "      <td>...</td>\n",
       "      <td>174.229996</td>\n",
       "      <td>183.250000</td>\n",
       "      <td>164.619995</td>\n",
       "      <td>198.649994</td>\n",
       "      <td>26.190001</td>\n",
       "      <td>21873400</td>\n",
       "      <td>22831800</td>\n",
       "      <td>18737100</td>\n",
       "      <td>3032200</td>\n",
       "      <td>29338500</td>\n",
       "    </tr>\n",
       "    <tr>\n",
       "      <th>2019-02-26</th>\n",
       "      <td>173.710007</td>\n",
       "      <td>179.789993</td>\n",
       "      <td>164.339996</td>\n",
       "      <td>198.470001</td>\n",
       "      <td>25.980000</td>\n",
       "      <td>175.300003</td>\n",
       "      <td>184.350006</td>\n",
       "      <td>166.240005</td>\n",
       "      <td>200.559998</td>\n",
       "      <td>26.820000</td>\n",
       "      <td>...</td>\n",
       "      <td>174.330002</td>\n",
       "      <td>183.539993</td>\n",
       "      <td>164.130005</td>\n",
       "      <td>198.899994</td>\n",
       "      <td>26.590000</td>\n",
       "      <td>17006000</td>\n",
       "      <td>13857900</td>\n",
       "      <td>13645200</td>\n",
       "      <td>2498000</td>\n",
       "      <td>20264100</td>\n",
       "    </tr>\n",
       "  </tbody>\n",
       "</table>\n",
       "<p>4 rows × 30 columns</p>\n",
       "</div>"
      ],
      "text/plain": [
       "                  Open                                                 \\\n",
       "Symbol            AAPL        BABA          FB          GS         JD   \n",
       "Date                                                                    \n",
       "2019-02-21  171.800003  171.000000  161.929993  198.970001  24.820000   \n",
       "2019-02-22  171.580002  172.800003  160.580002  196.600006  24.549999   \n",
       "2019-02-25  174.160004  181.259995  163.070007  198.000000  27.110001   \n",
       "2019-02-26  173.710007  179.789993  164.339996  198.470001  25.980000   \n",
       "\n",
       "                  High                                                 ...  \\\n",
       "Symbol            AAPL        BABA          FB          GS         JD  ...   \n",
       "Date                                                                   ...   \n",
       "2019-02-21  172.369995  171.779999  162.240005  199.449997  24.879999  ...   \n",
       "2019-02-22  173.000000  177.020004  162.410004  197.750000  25.959999  ...   \n",
       "2019-02-25  175.869995  183.720001  166.070007  201.500000  27.379999  ...   \n",
       "2019-02-26  175.300003  184.350006  166.240005  200.559998  26.820000  ...   \n",
       "\n",
       "             Adj Close                                                 \\\n",
       "Symbol            AAPL        BABA          FB          GS         JD   \n",
       "Date                                                                    \n",
       "2019-02-21  171.059998  171.660004  160.039993  196.360001  24.270000   \n",
       "2019-02-22  172.970001  176.919998  161.889999  196.000000  25.950001   \n",
       "2019-02-25  174.229996  183.250000  164.619995  198.649994  26.190001   \n",
       "2019-02-26  174.330002  183.539993  164.130005  198.899994  26.590000   \n",
       "\n",
       "              Volume                                         \n",
       "Symbol          AAPL      BABA        FB       GS        JD  \n",
       "Date                                                         \n",
       "2019-02-21  17249700   8434800  15607800  2785900  13542600  \n",
       "2019-02-22  18913200  16175600  15858500  2626600  27113300  \n",
       "2019-02-25  21873400  22831800  18737100  3032200  29338500  \n",
       "2019-02-26  17006000  13857900  13645200  2498000  20264100  \n",
       "\n",
       "[4 rows x 30 columns]"
      ]
     },
     "execution_count": 206,
     "metadata": {},
     "output_type": "execute_result"
    }
   ],
   "source": [
    "all_pivot = data.pivot( index='Date', \n",
    "                        columns='Symbol' )\n",
    "all_pivot"
   ]
  },
  {
   "cell_type": "markdown",
   "metadata": {
    "source_collapsed": false
   },
   "source": [
    "从上面结果可看出，`all_pivot` 实际上就是含多层列索引的数据帧，那该结果自然也能用 `unstack()` 函数来实现，尽管会麻烦很多。\n",
    "\n",
    "原因是首先要把 Date 和 Symbol 两列转成行索引，然后再把行索引 Symbol 用 `unstack('Symbol')` 转成列索引。"
   ]
  },
  {
   "cell_type": "code",
   "execution_count": 207,
   "metadata": {},
   "outputs": [
    {
     "data": {
      "text/html": [
       "<div>\n",
       "<style scoped>\n",
       "    .dataframe tbody tr th:only-of-type {\n",
       "        vertical-align: middle;\n",
       "    }\n",
       "\n",
       "    .dataframe tbody tr th {\n",
       "        vertical-align: top;\n",
       "    }\n",
       "\n",
       "    .dataframe thead tr th {\n",
       "        text-align: left;\n",
       "    }\n",
       "\n",
       "    .dataframe thead tr:last-of-type th {\n",
       "        text-align: right;\n",
       "    }\n",
       "</style>\n",
       "<table border=\"1\" class=\"dataframe\">\n",
       "  <thead>\n",
       "    <tr>\n",
       "      <th></th>\n",
       "      <th colspan=\"5\" halign=\"left\">Open</th>\n",
       "      <th colspan=\"5\" halign=\"left\">High</th>\n",
       "      <th>...</th>\n",
       "      <th colspan=\"5\" halign=\"left\">Adj Close</th>\n",
       "      <th colspan=\"5\" halign=\"left\">Volume</th>\n",
       "    </tr>\n",
       "    <tr>\n",
       "      <th>Symbol</th>\n",
       "      <th>AAPL</th>\n",
       "      <th>BABA</th>\n",
       "      <th>FB</th>\n",
       "      <th>GS</th>\n",
       "      <th>JD</th>\n",
       "      <th>AAPL</th>\n",
       "      <th>BABA</th>\n",
       "      <th>FB</th>\n",
       "      <th>GS</th>\n",
       "      <th>JD</th>\n",
       "      <th>...</th>\n",
       "      <th>AAPL</th>\n",
       "      <th>BABA</th>\n",
       "      <th>FB</th>\n",
       "      <th>GS</th>\n",
       "      <th>JD</th>\n",
       "      <th>AAPL</th>\n",
       "      <th>BABA</th>\n",
       "      <th>FB</th>\n",
       "      <th>GS</th>\n",
       "      <th>JD</th>\n",
       "    </tr>\n",
       "    <tr>\n",
       "      <th>Date</th>\n",
       "      <th></th>\n",
       "      <th></th>\n",
       "      <th></th>\n",
       "      <th></th>\n",
       "      <th></th>\n",
       "      <th></th>\n",
       "      <th></th>\n",
       "      <th></th>\n",
       "      <th></th>\n",
       "      <th></th>\n",
       "      <th></th>\n",
       "      <th></th>\n",
       "      <th></th>\n",
       "      <th></th>\n",
       "      <th></th>\n",
       "      <th></th>\n",
       "      <th></th>\n",
       "      <th></th>\n",
       "      <th></th>\n",
       "      <th></th>\n",
       "      <th></th>\n",
       "    </tr>\n",
       "  </thead>\n",
       "  <tbody>\n",
       "    <tr>\n",
       "      <th>2019-02-21</th>\n",
       "      <td>171.800003</td>\n",
       "      <td>171.000000</td>\n",
       "      <td>161.929993</td>\n",
       "      <td>198.970001</td>\n",
       "      <td>24.820000</td>\n",
       "      <td>172.369995</td>\n",
       "      <td>171.779999</td>\n",
       "      <td>162.240005</td>\n",
       "      <td>199.449997</td>\n",
       "      <td>24.879999</td>\n",
       "      <td>...</td>\n",
       "      <td>171.059998</td>\n",
       "      <td>171.660004</td>\n",
       "      <td>160.039993</td>\n",
       "      <td>196.360001</td>\n",
       "      <td>24.270000</td>\n",
       "      <td>17249700</td>\n",
       "      <td>8434800</td>\n",
       "      <td>15607800</td>\n",
       "      <td>2785900</td>\n",
       "      <td>13542600</td>\n",
       "    </tr>\n",
       "    <tr>\n",
       "      <th>2019-02-22</th>\n",
       "      <td>171.580002</td>\n",
       "      <td>172.800003</td>\n",
       "      <td>160.580002</td>\n",
       "      <td>196.600006</td>\n",
       "      <td>24.549999</td>\n",
       "      <td>173.000000</td>\n",
       "      <td>177.020004</td>\n",
       "      <td>162.410004</td>\n",
       "      <td>197.750000</td>\n",
       "      <td>25.959999</td>\n",
       "      <td>...</td>\n",
       "      <td>172.970001</td>\n",
       "      <td>176.919998</td>\n",
       "      <td>161.889999</td>\n",
       "      <td>196.000000</td>\n",
       "      <td>25.950001</td>\n",
       "      <td>18913200</td>\n",
       "      <td>16175600</td>\n",
       "      <td>15858500</td>\n",
       "      <td>2626600</td>\n",
       "      <td>27113300</td>\n",
       "    </tr>\n",
       "    <tr>\n",
       "      <th>2019-02-25</th>\n",
       "      <td>174.160004</td>\n",
       "      <td>181.259995</td>\n",
       "      <td>163.070007</td>\n",
       "      <td>198.000000</td>\n",
       "      <td>27.110001</td>\n",
       "      <td>175.869995</td>\n",
       "      <td>183.720001</td>\n",
       "      <td>166.070007</td>\n",
       "      <td>201.500000</td>\n",
       "      <td>27.379999</td>\n",
       "      <td>...</td>\n",
       "      <td>174.229996</td>\n",
       "      <td>183.250000</td>\n",
       "      <td>164.619995</td>\n",
       "      <td>198.649994</td>\n",
       "      <td>26.190001</td>\n",
       "      <td>21873400</td>\n",
       "      <td>22831800</td>\n",
       "      <td>18737100</td>\n",
       "      <td>3032200</td>\n",
       "      <td>29338500</td>\n",
       "    </tr>\n",
       "    <tr>\n",
       "      <th>2019-02-26</th>\n",
       "      <td>173.710007</td>\n",
       "      <td>179.789993</td>\n",
       "      <td>164.339996</td>\n",
       "      <td>198.470001</td>\n",
       "      <td>25.980000</td>\n",
       "      <td>175.300003</td>\n",
       "      <td>184.350006</td>\n",
       "      <td>166.240005</td>\n",
       "      <td>200.559998</td>\n",
       "      <td>26.820000</td>\n",
       "      <td>...</td>\n",
       "      <td>174.330002</td>\n",
       "      <td>183.539993</td>\n",
       "      <td>164.130005</td>\n",
       "      <td>198.899994</td>\n",
       "      <td>26.590000</td>\n",
       "      <td>17006000</td>\n",
       "      <td>13857900</td>\n",
       "      <td>13645200</td>\n",
       "      <td>2498000</td>\n",
       "      <td>20264100</td>\n",
       "    </tr>\n",
       "  </tbody>\n",
       "</table>\n",
       "<p>4 rows × 30 columns</p>\n",
       "</div>"
      ],
      "text/plain": [
       "                  Open                                                 \\\n",
       "Symbol            AAPL        BABA          FB          GS         JD   \n",
       "Date                                                                    \n",
       "2019-02-21  171.800003  171.000000  161.929993  198.970001  24.820000   \n",
       "2019-02-22  171.580002  172.800003  160.580002  196.600006  24.549999   \n",
       "2019-02-25  174.160004  181.259995  163.070007  198.000000  27.110001   \n",
       "2019-02-26  173.710007  179.789993  164.339996  198.470001  25.980000   \n",
       "\n",
       "                  High                                                 ...  \\\n",
       "Symbol            AAPL        BABA          FB          GS         JD  ...   \n",
       "Date                                                                   ...   \n",
       "2019-02-21  172.369995  171.779999  162.240005  199.449997  24.879999  ...   \n",
       "2019-02-22  173.000000  177.020004  162.410004  197.750000  25.959999  ...   \n",
       "2019-02-25  175.869995  183.720001  166.070007  201.500000  27.379999  ...   \n",
       "2019-02-26  175.300003  184.350006  166.240005  200.559998  26.820000  ...   \n",
       "\n",
       "             Adj Close                                                 \\\n",
       "Symbol            AAPL        BABA          FB          GS         JD   \n",
       "Date                                                                    \n",
       "2019-02-21  171.059998  171.660004  160.039993  196.360001  24.270000   \n",
       "2019-02-22  172.970001  176.919998  161.889999  196.000000  25.950001   \n",
       "2019-02-25  174.229996  183.250000  164.619995  198.649994  26.190001   \n",
       "2019-02-26  174.330002  183.539993  164.130005  198.899994  26.590000   \n",
       "\n",
       "              Volume                                         \n",
       "Symbol          AAPL      BABA        FB       GS        JD  \n",
       "Date                                                         \n",
       "2019-02-21  17249700   8434800  15607800  2785900  13542600  \n",
       "2019-02-22  18913200  16175600  15858500  2626600  27113300  \n",
       "2019-02-25  21873400  22831800  18737100  3032200  29338500  \n",
       "2019-02-26  17006000  13857900  13645200  2498000  20264100  \n",
       "\n",
       "[4 rows x 30 columns]"
      ]
     },
     "execution_count": 207,
     "metadata": {},
     "output_type": "execute_result"
    }
   ],
   "source": [
    "data.set_index(['Date','Symbol']).unstack('Symbol')"
   ]
  },
  {
   "cell_type": "markdown",
   "metadata": {},
   "source": [
    "假设我们要获取 2019-02-25 和 2019-02-26 两天的 BABA 和 GS 的开盘价，可用上面讲的**层级索引**的方法。"
   ]
  },
  {
   "cell_type": "code",
   "execution_count": 285,
   "metadata": {
    "source_collapsed": false
   },
   "outputs": [
    {
     "data": {
      "text/html": [
       "<div>\n",
       "<style scoped>\n",
       "    .dataframe tbody tr th:only-of-type {\n",
       "        vertical-align: middle;\n",
       "    }\n",
       "\n",
       "    .dataframe tbody tr th {\n",
       "        vertical-align: top;\n",
       "    }\n",
       "\n",
       "    .dataframe thead th {\n",
       "        text-align: right;\n",
       "    }\n",
       "</style>\n",
       "<table border=\"1\" class=\"dataframe\">\n",
       "  <thead>\n",
       "    <tr style=\"text-align: right;\">\n",
       "      <th>Symbol</th>\n",
       "      <th>BABA</th>\n",
       "      <th>GS</th>\n",
       "    </tr>\n",
       "    <tr>\n",
       "      <th>Date</th>\n",
       "      <th></th>\n",
       "      <th></th>\n",
       "    </tr>\n",
       "  </thead>\n",
       "  <tbody>\n",
       "    <tr>\n",
       "      <th>2019-02-21</th>\n",
       "      <td>171.000000</td>\n",
       "      <td>198.970001</td>\n",
       "    </tr>\n",
       "    <tr>\n",
       "      <th>2019-02-22</th>\n",
       "      <td>172.800003</td>\n",
       "      <td>196.600006</td>\n",
       "    </tr>\n",
       "    <tr>\n",
       "      <th>2019-02-25</th>\n",
       "      <td>181.259995</td>\n",
       "      <td>198.000000</td>\n",
       "    </tr>\n",
       "    <tr>\n",
       "      <th>2019-02-26</th>\n",
       "      <td>179.789993</td>\n",
       "      <td>198.470001</td>\n",
       "    </tr>\n",
       "  </tbody>\n",
       "</table>\n",
       "</div>"
      ],
      "text/plain": [
       "Symbol            BABA          GS\n",
       "Date                              \n",
       "2019-02-21  171.000000  198.970001\n",
       "2019-02-22  172.800003  196.600006\n",
       "2019-02-25  181.259995  198.000000\n",
       "2019-02-26  179.789993  198.470001"
      ]
     },
     "execution_count": 285,
     "metadata": {},
     "output_type": "execute_result"
    }
   ],
   "source": [
    "all_pivot.loc[:,'Open'].loc[:,['BABA','GS']]"
   ]
  },
  {
   "cell_type": "markdown",
   "metadata": {},
   "source": [
    "***\n",
    "下图可视化 `pivot()` 函数：\n",
    "\n",
    "<img src=\"Pivot pivot.PNG\" style=\"width:800px; height:300px;\">"
   ]
  },
  {
   "cell_type": "markdown",
   "metadata": {
    "source_collapsed": false
   },
   "source": [
    "### <font color='blue' face='微软雅黑'>从宽表到长表</font> \n",
    "\n",
    "`pivot` 逆反操作是 `melt`。\n",
    "\n",
    "- 前者将 **“旧表”** 拉宽，因为把旧表中的若干列转换成 **“新表”** 的若干列\n",
    "- 后者将 **“旧表”** 拉长，因为把旧表中的若干列合并成 **“新表”** 的一列\n",
    "\n",
    "选取日期为 **2019-02-01** 当天的数据，存在 `price_df` 中。"
   ]
  },
  {
   "cell_type": "code",
   "execution_count": 241,
   "metadata": {},
   "outputs": [
    {
     "data": {
      "text/html": [
       "<div>\n",
       "<style scoped>\n",
       "    .dataframe tbody tr th:only-of-type {\n",
       "        vertical-align: middle;\n",
       "    }\n",
       "\n",
       "    .dataframe tbody tr th {\n",
       "        vertical-align: top;\n",
       "    }\n",
       "\n",
       "    .dataframe thead th {\n",
       "        text-align: right;\n",
       "    }\n",
       "</style>\n",
       "<table border=\"1\" class=\"dataframe\">\n",
       "  <thead>\n",
       "    <tr style=\"text-align: right;\">\n",
       "      <th></th>\n",
       "      <th>Symbol</th>\n",
       "      <th>Open</th>\n",
       "      <th>High</th>\n",
       "      <th>Low</th>\n",
       "      <th>Close</th>\n",
       "      <th>Adj Close</th>\n",
       "      <th>Volume</th>\n",
       "    </tr>\n",
       "  </thead>\n",
       "  <tbody>\n",
       "    <tr>\n",
       "      <th>0</th>\n",
       "      <td>AAPL</td>\n",
       "      <td>171.800003</td>\n",
       "      <td>172.369995</td>\n",
       "      <td>170.300003</td>\n",
       "      <td>171.059998</td>\n",
       "      <td>171.059998</td>\n",
       "      <td>17249700</td>\n",
       "    </tr>\n",
       "    <tr>\n",
       "      <th>1</th>\n",
       "      <td>JD</td>\n",
       "      <td>24.820000</td>\n",
       "      <td>24.879999</td>\n",
       "      <td>24.010000</td>\n",
       "      <td>24.270000</td>\n",
       "      <td>24.270000</td>\n",
       "      <td>13542600</td>\n",
       "    </tr>\n",
       "    <tr>\n",
       "      <th>2</th>\n",
       "      <td>BABA</td>\n",
       "      <td>171.000000</td>\n",
       "      <td>171.779999</td>\n",
       "      <td>169.800003</td>\n",
       "      <td>171.660004</td>\n",
       "      <td>171.660004</td>\n",
       "      <td>8434800</td>\n",
       "    </tr>\n",
       "    <tr>\n",
       "      <th>3</th>\n",
       "      <td>GS</td>\n",
       "      <td>198.970001</td>\n",
       "      <td>199.449997</td>\n",
       "      <td>195.050003</td>\n",
       "      <td>196.360001</td>\n",
       "      <td>196.360001</td>\n",
       "      <td>2785900</td>\n",
       "    </tr>\n",
       "    <tr>\n",
       "      <th>4</th>\n",
       "      <td>FB</td>\n",
       "      <td>161.929993</td>\n",
       "      <td>162.240005</td>\n",
       "      <td>159.589996</td>\n",
       "      <td>160.039993</td>\n",
       "      <td>160.039993</td>\n",
       "      <td>15607800</td>\n",
       "    </tr>\n",
       "  </tbody>\n",
       "</table>\n",
       "</div>"
      ],
      "text/plain": [
       "  Symbol        Open        High         Low       Close   Adj Close    Volume\n",
       "0   AAPL  171.800003  172.369995  170.300003  171.059998  171.059998  17249700\n",
       "1     JD   24.820000   24.879999   24.010000   24.270000   24.270000  13542600\n",
       "2   BABA  171.000000  171.779999  169.800003  171.660004  171.660004   8434800\n",
       "3     GS  198.970001  199.449997  195.050003  196.360001  196.360001   2785900\n",
       "4     FB  161.929993  162.240005  159.589996  160.039993  160.039993  15607800"
      ]
     },
     "execution_count": 241,
     "metadata": {},
     "output_type": "execute_result"
    }
   ],
   "source": [
    "price_df = data[data['Date']=='2019-02-21'].drop(columns='Date')\n",
    "price_df"
   ]
  },
  {
   "cell_type": "markdown",
   "metadata": {},
   "source": [
    "具体来说，`melt()` 函数实际将 **“旧表”** 转化成 **id-variable** 类型的数据帧，下例将\n",
    "\n",
    "- Symbol 列当成 **id**\n",
    "- 其他列 Open, High, Low, Close, Adj Close 和 Volume 当成 **variable**，而它们对应的值当成 value"
   ]
  },
  {
   "cell_type": "code",
   "execution_count": 255,
   "metadata": {},
   "outputs": [
    {
     "data": {
      "text/html": [
       "<div>\n",
       "<style scoped>\n",
       "    .dataframe tbody tr th:only-of-type {\n",
       "        vertical-align: middle;\n",
       "    }\n",
       "\n",
       "    .dataframe tbody tr th {\n",
       "        vertical-align: top;\n",
       "    }\n",
       "\n",
       "    .dataframe thead th {\n",
       "        text-align: right;\n",
       "    }\n",
       "</style>\n",
       "<table border=\"1\" class=\"dataframe\">\n",
       "  <thead>\n",
       "    <tr style=\"text-align: right;\">\n",
       "      <th></th>\n",
       "      <th>Symbol</th>\n",
       "      <th>variable</th>\n",
       "      <th>value</th>\n",
       "    </tr>\n",
       "  </thead>\n",
       "  <tbody>\n",
       "    <tr>\n",
       "      <th>0</th>\n",
       "      <td>AAPL</td>\n",
       "      <td>Open</td>\n",
       "      <td>1.718000e+02</td>\n",
       "    </tr>\n",
       "    <tr>\n",
       "      <th>1</th>\n",
       "      <td>JD</td>\n",
       "      <td>Open</td>\n",
       "      <td>2.482000e+01</td>\n",
       "    </tr>\n",
       "    <tr>\n",
       "      <th>2</th>\n",
       "      <td>BABA</td>\n",
       "      <td>Open</td>\n",
       "      <td>1.710000e+02</td>\n",
       "    </tr>\n",
       "    <tr>\n",
       "      <th>3</th>\n",
       "      <td>GS</td>\n",
       "      <td>Open</td>\n",
       "      <td>1.989700e+02</td>\n",
       "    </tr>\n",
       "    <tr>\n",
       "      <th>4</th>\n",
       "      <td>FB</td>\n",
       "      <td>Open</td>\n",
       "      <td>1.619300e+02</td>\n",
       "    </tr>\n",
       "    <tr>\n",
       "      <th>25</th>\n",
       "      <td>AAPL</td>\n",
       "      <td>Volume</td>\n",
       "      <td>1.724970e+07</td>\n",
       "    </tr>\n",
       "    <tr>\n",
       "      <th>26</th>\n",
       "      <td>JD</td>\n",
       "      <td>Volume</td>\n",
       "      <td>1.354260e+07</td>\n",
       "    </tr>\n",
       "    <tr>\n",
       "      <th>27</th>\n",
       "      <td>BABA</td>\n",
       "      <td>Volume</td>\n",
       "      <td>8.434800e+06</td>\n",
       "    </tr>\n",
       "    <tr>\n",
       "      <th>28</th>\n",
       "      <td>GS</td>\n",
       "      <td>Volume</td>\n",
       "      <td>2.785900e+06</td>\n",
       "    </tr>\n",
       "    <tr>\n",
       "      <th>29</th>\n",
       "      <td>FB</td>\n",
       "      <td>Volume</td>\n",
       "      <td>1.560780e+07</td>\n",
       "    </tr>\n",
       "  </tbody>\n",
       "</table>\n",
       "</div>"
      ],
      "text/plain": [
       "   Symbol variable         value\n",
       "0    AAPL     Open  1.718000e+02\n",
       "1      JD     Open  2.482000e+01\n",
       "2    BABA     Open  1.710000e+02\n",
       "3      GS     Open  1.989700e+02\n",
       "4      FB     Open  1.619300e+02\n",
       "25   AAPL   Volume  1.724970e+07\n",
       "26     JD   Volume  1.354260e+07\n",
       "27   BABA   Volume  8.434800e+06\n",
       "28     GS   Volume  2.785900e+06\n",
       "29     FB   Volume  1.560780e+07"
      ]
     },
     "execution_count": 255,
     "metadata": {},
     "output_type": "execute_result"
    }
   ],
   "source": [
    "melted_data = pd.melt( price_df, id_vars=['Symbol'] )\n",
    "melted_data.head(5).append(melted_data.tail(5))"
   ]
  },
  {
   "cell_type": "markdown",
   "metadata": {},
   "source": [
    "上表结果第一列是 **id** 列，而后两列是**非 id**列下的值，默认起名为小写的 variable 和 value，如果不满意的话，可以设置 `var_name` 和 `value_name` 为想要的名字。比如 variable 列下面的是 OHLC 和 Volume 的信息，因此可起名为 OHLCV，此外可把小写的 value 想把变成首个字母大写的 Value。"
   ]
  },
  {
   "cell_type": "code",
   "execution_count": 256,
   "metadata": {},
   "outputs": [
    {
     "data": {
      "text/html": [
       "<div>\n",
       "<style scoped>\n",
       "    .dataframe tbody tr th:only-of-type {\n",
       "        vertical-align: middle;\n",
       "    }\n",
       "\n",
       "    .dataframe tbody tr th {\n",
       "        vertical-align: top;\n",
       "    }\n",
       "\n",
       "    .dataframe thead th {\n",
       "        text-align: right;\n",
       "    }\n",
       "</style>\n",
       "<table border=\"1\" class=\"dataframe\">\n",
       "  <thead>\n",
       "    <tr style=\"text-align: right;\">\n",
       "      <th></th>\n",
       "      <th>Symbol</th>\n",
       "      <th>OHLCV</th>\n",
       "      <th>Value</th>\n",
       "    </tr>\n",
       "  </thead>\n",
       "  <tbody>\n",
       "    <tr>\n",
       "      <th>0</th>\n",
       "      <td>AAPL</td>\n",
       "      <td>Open</td>\n",
       "      <td>1.718000e+02</td>\n",
       "    </tr>\n",
       "    <tr>\n",
       "      <th>1</th>\n",
       "      <td>JD</td>\n",
       "      <td>Open</td>\n",
       "      <td>2.482000e+01</td>\n",
       "    </tr>\n",
       "    <tr>\n",
       "      <th>2</th>\n",
       "      <td>BABA</td>\n",
       "      <td>Open</td>\n",
       "      <td>1.710000e+02</td>\n",
       "    </tr>\n",
       "    <tr>\n",
       "      <th>3</th>\n",
       "      <td>GS</td>\n",
       "      <td>Open</td>\n",
       "      <td>1.989700e+02</td>\n",
       "    </tr>\n",
       "    <tr>\n",
       "      <th>4</th>\n",
       "      <td>FB</td>\n",
       "      <td>Open</td>\n",
       "      <td>1.619300e+02</td>\n",
       "    </tr>\n",
       "    <tr>\n",
       "      <th>25</th>\n",
       "      <td>AAPL</td>\n",
       "      <td>Volume</td>\n",
       "      <td>1.724970e+07</td>\n",
       "    </tr>\n",
       "    <tr>\n",
       "      <th>26</th>\n",
       "      <td>JD</td>\n",
       "      <td>Volume</td>\n",
       "      <td>1.354260e+07</td>\n",
       "    </tr>\n",
       "    <tr>\n",
       "      <th>27</th>\n",
       "      <td>BABA</td>\n",
       "      <td>Volume</td>\n",
       "      <td>8.434800e+06</td>\n",
       "    </tr>\n",
       "    <tr>\n",
       "      <th>28</th>\n",
       "      <td>GS</td>\n",
       "      <td>Volume</td>\n",
       "      <td>2.785900e+06</td>\n",
       "    </tr>\n",
       "    <tr>\n",
       "      <th>29</th>\n",
       "      <td>FB</td>\n",
       "      <td>Volume</td>\n",
       "      <td>1.560780e+07</td>\n",
       "    </tr>\n",
       "  </tbody>\n",
       "</table>\n",
       "</div>"
      ],
      "text/plain": [
       "   Symbol   OHLCV         Value\n",
       "0    AAPL    Open  1.718000e+02\n",
       "1      JD    Open  2.482000e+01\n",
       "2    BABA    Open  1.710000e+02\n",
       "3      GS    Open  1.989700e+02\n",
       "4      FB    Open  1.619300e+02\n",
       "25   AAPL  Volume  1.724970e+07\n",
       "26     JD  Volume  1.354260e+07\n",
       "27   BABA  Volume  8.434800e+06\n",
       "28     GS  Volume  2.785900e+06\n",
       "29     FB  Volume  1.560780e+07"
      ]
     },
     "execution_count": 256,
     "metadata": {},
     "output_type": "execute_result"
    }
   ],
   "source": [
    "melted_data = pd.melt( price_df, id_vars=['Symbol'], var_name='OHLCV', value_name='Value' )\n",
    "melted_data.head(5).append(melted_data.tail(5))"
   ]
  },
  {
   "cell_type": "markdown",
   "metadata": {},
   "source": [
    "新生成的数据帧有 30 行 (5 × 6)\n",
    "\n",
    "- 5 = price_df['Symbol'] 有 5 只股票\n",
    "- 6 = Open, High, Low, Close, Adj Close 和 Volume 6 个变量\n",
    "\n",
    "在新表 `melted_data` 中\n",
    "\n",
    "- 在参数 **id_vars** 设置的 Symbol 还保持为**列**\n",
    "\n",
    "- 此外还多出两个列，标签为 variable 和 value\n",
    "\n",
    "    - variable 列下的值为**旧表 `price_df`** 中 Open, High, Low, Close, Adj Close 和 Volume 的列标签\n",
    "\n",
    "    - value 列下的值是前者在**旧表 `price_df`** 中的值\n",
    "\n",
    "\n",
    "观察上表的 Symbol 和 OHLCV 列都有重复值，可用 `pivot()` 函数转成最初 `price_df` 的样子。"
   ]
  },
  {
   "cell_type": "code",
   "execution_count": 258,
   "metadata": {},
   "outputs": [
    {
     "data": {
      "text/html": [
       "<div>\n",
       "<style scoped>\n",
       "    .dataframe tbody tr th:only-of-type {\n",
       "        vertical-align: middle;\n",
       "    }\n",
       "\n",
       "    .dataframe tbody tr th {\n",
       "        vertical-align: top;\n",
       "    }\n",
       "\n",
       "    .dataframe thead th {\n",
       "        text-align: right;\n",
       "    }\n",
       "</style>\n",
       "<table border=\"1\" class=\"dataframe\">\n",
       "  <thead>\n",
       "    <tr style=\"text-align: right;\">\n",
       "      <th>OHLCV</th>\n",
       "      <th>Adj Close</th>\n",
       "      <th>Close</th>\n",
       "      <th>High</th>\n",
       "      <th>Low</th>\n",
       "      <th>Open</th>\n",
       "      <th>Volume</th>\n",
       "    </tr>\n",
       "    <tr>\n",
       "      <th>Symbol</th>\n",
       "      <th></th>\n",
       "      <th></th>\n",
       "      <th></th>\n",
       "      <th></th>\n",
       "      <th></th>\n",
       "      <th></th>\n",
       "    </tr>\n",
       "  </thead>\n",
       "  <tbody>\n",
       "    <tr>\n",
       "      <th>AAPL</th>\n",
       "      <td>171.059998</td>\n",
       "      <td>171.059998</td>\n",
       "      <td>172.369995</td>\n",
       "      <td>170.300003</td>\n",
       "      <td>171.800003</td>\n",
       "      <td>17249700.0</td>\n",
       "    </tr>\n",
       "    <tr>\n",
       "      <th>BABA</th>\n",
       "      <td>171.660004</td>\n",
       "      <td>171.660004</td>\n",
       "      <td>171.779999</td>\n",
       "      <td>169.800003</td>\n",
       "      <td>171.000000</td>\n",
       "      <td>8434800.0</td>\n",
       "    </tr>\n",
       "    <tr>\n",
       "      <th>FB</th>\n",
       "      <td>160.039993</td>\n",
       "      <td>160.039993</td>\n",
       "      <td>162.240005</td>\n",
       "      <td>159.589996</td>\n",
       "      <td>161.929993</td>\n",
       "      <td>15607800.0</td>\n",
       "    </tr>\n",
       "    <tr>\n",
       "      <th>GS</th>\n",
       "      <td>196.360001</td>\n",
       "      <td>196.360001</td>\n",
       "      <td>199.449997</td>\n",
       "      <td>195.050003</td>\n",
       "      <td>198.970001</td>\n",
       "      <td>2785900.0</td>\n",
       "    </tr>\n",
       "    <tr>\n",
       "      <th>JD</th>\n",
       "      <td>24.270000</td>\n",
       "      <td>24.270000</td>\n",
       "      <td>24.879999</td>\n",
       "      <td>24.010000</td>\n",
       "      <td>24.820000</td>\n",
       "      <td>13542600.0</td>\n",
       "    </tr>\n",
       "  </tbody>\n",
       "</table>\n",
       "</div>"
      ],
      "text/plain": [
       "OHLCV    Adj Close       Close        High         Low        Open      Volume\n",
       "Symbol                                                                        \n",
       "AAPL    171.059998  171.059998  172.369995  170.300003  171.800003  17249700.0\n",
       "BABA    171.660004  171.660004  171.779999  169.800003  171.000000   8434800.0\n",
       "FB      160.039993  160.039993  162.240005  159.589996  161.929993  15607800.0\n",
       "GS      196.360001  196.360001  199.449997  195.050003  198.970001   2785900.0\n",
       "JD       24.270000   24.270000   24.879999   24.010000   24.820000  13542600.0"
      ]
     },
     "execution_count": 258,
     "metadata": {},
     "output_type": "execute_result"
    }
   ],
   "source": [
    "melted_data.pivot(index='Symbol', columns='OHLCV', values='Value')"
   ]
  },
  {
   "cell_type": "markdown",
   "metadata": {},
   "source": [
    "在 `pivot()` 操作时将 Symbol 列设置成了行索引，要完全回到 `price_df` 的样子，需要用 `reset_index()` 将 Symbol 转成列，此外还需把列名称 columns.name 从 `OHLCV` 改成 `''`。    "
   ]
  },
  {
   "cell_type": "code",
   "execution_count": 267,
   "metadata": {},
   "outputs": [
    {
     "data": {
      "text/html": [
       "<div>\n",
       "<style scoped>\n",
       "    .dataframe tbody tr th:only-of-type {\n",
       "        vertical-align: middle;\n",
       "    }\n",
       "\n",
       "    .dataframe tbody tr th {\n",
       "        vertical-align: top;\n",
       "    }\n",
       "\n",
       "    .dataframe thead th {\n",
       "        text-align: right;\n",
       "    }\n",
       "</style>\n",
       "<table border=\"1\" class=\"dataframe\">\n",
       "  <thead>\n",
       "    <tr style=\"text-align: right;\">\n",
       "      <th></th>\n",
       "      <th>Symbol</th>\n",
       "      <th>Adj Close</th>\n",
       "      <th>Close</th>\n",
       "      <th>High</th>\n",
       "      <th>Low</th>\n",
       "      <th>Open</th>\n",
       "      <th>Volume</th>\n",
       "    </tr>\n",
       "  </thead>\n",
       "  <tbody>\n",
       "    <tr>\n",
       "      <th>0</th>\n",
       "      <td>AAPL</td>\n",
       "      <td>171.059998</td>\n",
       "      <td>171.059998</td>\n",
       "      <td>172.369995</td>\n",
       "      <td>170.300003</td>\n",
       "      <td>171.800003</td>\n",
       "      <td>17249700.0</td>\n",
       "    </tr>\n",
       "    <tr>\n",
       "      <th>1</th>\n",
       "      <td>BABA</td>\n",
       "      <td>171.660004</td>\n",
       "      <td>171.660004</td>\n",
       "      <td>171.779999</td>\n",
       "      <td>169.800003</td>\n",
       "      <td>171.000000</td>\n",
       "      <td>8434800.0</td>\n",
       "    </tr>\n",
       "    <tr>\n",
       "      <th>2</th>\n",
       "      <td>FB</td>\n",
       "      <td>160.039993</td>\n",
       "      <td>160.039993</td>\n",
       "      <td>162.240005</td>\n",
       "      <td>159.589996</td>\n",
       "      <td>161.929993</td>\n",
       "      <td>15607800.0</td>\n",
       "    </tr>\n",
       "    <tr>\n",
       "      <th>3</th>\n",
       "      <td>GS</td>\n",
       "      <td>196.360001</td>\n",
       "      <td>196.360001</td>\n",
       "      <td>199.449997</td>\n",
       "      <td>195.050003</td>\n",
       "      <td>198.970001</td>\n",
       "      <td>2785900.0</td>\n",
       "    </tr>\n",
       "    <tr>\n",
       "      <th>4</th>\n",
       "      <td>JD</td>\n",
       "      <td>24.270000</td>\n",
       "      <td>24.270000</td>\n",
       "      <td>24.879999</td>\n",
       "      <td>24.010000</td>\n",
       "      <td>24.820000</td>\n",
       "      <td>13542600.0</td>\n",
       "    </tr>\n",
       "  </tbody>\n",
       "</table>\n",
       "</div>"
      ],
      "text/plain": [
       "  Symbol   Adj Close       Close        High         Low        Open  \\\n",
       "0   AAPL  171.059998  171.059998  172.369995  170.300003  171.800003   \n",
       "1   BABA  171.660004  171.660004  171.779999  169.800003  171.000000   \n",
       "2     FB  160.039993  160.039993  162.240005  159.589996  161.929993   \n",
       "3     GS  196.360001  196.360001  199.449997  195.050003  198.970001   \n",
       "4     JD   24.270000   24.270000   24.879999   24.010000   24.820000   \n",
       "\n",
       "       Volume  \n",
       "0  17249700.0  \n",
       "1   8434800.0  \n",
       "2  15607800.0  \n",
       "3   2785900.0  \n",
       "4  13542600.0  "
      ]
     },
     "execution_count": 267,
     "metadata": {},
     "output_type": "execute_result"
    }
   ],
   "source": [
    "new_df = melted_data.pivot(index='Symbol', columns='OHLCV', values='Value').reset_index()\n",
    "new_df.columns.name = ''\n",
    "new_df"
   ]
  },
  {
   "cell_type": "markdown",
   "metadata": {},
   "source": [
    "再看一个复杂一点的例子\n",
    "\n",
    "- Date 和 Symbol 列当成 **id**\n",
    "- 其他列 Open, High, Low, Close, Adj Close 和 Volume 当成 **variable**，而它们对应的值当成 value"
   ]
  },
  {
   "cell_type": "code",
   "execution_count": 5,
   "metadata": {
    "source_collapsed": false
   },
   "outputs": [
    {
     "data": {
      "text/html": [
       "<div>\n",
       "<style scoped>\n",
       "    .dataframe tbody tr th:only-of-type {\n",
       "        vertical-align: middle;\n",
       "    }\n",
       "\n",
       "    .dataframe tbody tr th {\n",
       "        vertical-align: top;\n",
       "    }\n",
       "\n",
       "    .dataframe thead th {\n",
       "        text-align: right;\n",
       "    }\n",
       "</style>\n",
       "<table border=\"1\" class=\"dataframe\">\n",
       "  <thead>\n",
       "    <tr style=\"text-align: right;\">\n",
       "      <th></th>\n",
       "      <th>Date</th>\n",
       "      <th>Symbol</th>\n",
       "      <th>OHLCV</th>\n",
       "      <th>Value</th>\n",
       "    </tr>\n",
       "  </thead>\n",
       "  <tbody>\n",
       "    <tr>\n",
       "      <th>0</th>\n",
       "      <td>2019-02-21</td>\n",
       "      <td>AAPL</td>\n",
       "      <td>Open</td>\n",
       "      <td>1.718000e+02</td>\n",
       "    </tr>\n",
       "    <tr>\n",
       "      <th>1</th>\n",
       "      <td>2019-02-21</td>\n",
       "      <td>JD</td>\n",
       "      <td>Open</td>\n",
       "      <td>2.482000e+01</td>\n",
       "    </tr>\n",
       "    <tr>\n",
       "      <th>2</th>\n",
       "      <td>2019-02-21</td>\n",
       "      <td>BABA</td>\n",
       "      <td>Open</td>\n",
       "      <td>1.710000e+02</td>\n",
       "    </tr>\n",
       "    <tr>\n",
       "      <th>3</th>\n",
       "      <td>2019-02-21</td>\n",
       "      <td>GS</td>\n",
       "      <td>Open</td>\n",
       "      <td>1.989700e+02</td>\n",
       "    </tr>\n",
       "    <tr>\n",
       "      <th>4</th>\n",
       "      <td>2019-02-21</td>\n",
       "      <td>FB</td>\n",
       "      <td>Open</td>\n",
       "      <td>1.619300e+02</td>\n",
       "    </tr>\n",
       "    <tr>\n",
       "      <th>115</th>\n",
       "      <td>2019-02-26</td>\n",
       "      <td>AAPL</td>\n",
       "      <td>Volume</td>\n",
       "      <td>1.700600e+07</td>\n",
       "    </tr>\n",
       "    <tr>\n",
       "      <th>116</th>\n",
       "      <td>2019-02-26</td>\n",
       "      <td>JD</td>\n",
       "      <td>Volume</td>\n",
       "      <td>2.026410e+07</td>\n",
       "    </tr>\n",
       "    <tr>\n",
       "      <th>117</th>\n",
       "      <td>2019-02-26</td>\n",
       "      <td>BABA</td>\n",
       "      <td>Volume</td>\n",
       "      <td>1.385790e+07</td>\n",
       "    </tr>\n",
       "    <tr>\n",
       "      <th>118</th>\n",
       "      <td>2019-02-26</td>\n",
       "      <td>GS</td>\n",
       "      <td>Volume</td>\n",
       "      <td>2.498000e+06</td>\n",
       "    </tr>\n",
       "    <tr>\n",
       "      <th>119</th>\n",
       "      <td>2019-02-26</td>\n",
       "      <td>FB</td>\n",
       "      <td>Volume</td>\n",
       "      <td>1.364520e+07</td>\n",
       "    </tr>\n",
       "  </tbody>\n",
       "</table>\n",
       "</div>"
      ],
      "text/plain": [
       "          Date Symbol   OHLCV         Value\n",
       "0   2019-02-21   AAPL    Open  1.718000e+02\n",
       "1   2019-02-21     JD    Open  2.482000e+01\n",
       "2   2019-02-21   BABA    Open  1.710000e+02\n",
       "3   2019-02-21     GS    Open  1.989700e+02\n",
       "4   2019-02-21     FB    Open  1.619300e+02\n",
       "115 2019-02-26   AAPL  Volume  1.700600e+07\n",
       "116 2019-02-26     JD  Volume  2.026410e+07\n",
       "117 2019-02-26   BABA  Volume  1.385790e+07\n",
       "118 2019-02-26     GS  Volume  2.498000e+06\n",
       "119 2019-02-26     FB  Volume  1.364520e+07"
      ]
     },
     "execution_count": 5,
     "metadata": {},
     "output_type": "execute_result"
    }
   ],
   "source": [
    "melted_data = pd.melt( data, id_vars=['Date','Symbol'], var_name='OHLCV', value_name='Value' )\n",
    "melted_data.head(5).append(melted_data.tail(5))"
   ]
  },
  {
   "cell_type": "markdown",
   "metadata": {
    "source_collapsed": false
   },
   "source": [
    "新生成的数据帧有 120 行 (4 × 5 × 6)\n",
    "\n",
    "- 4 = data['Date'] 有 4 个日期\n",
    "- 5 = data['Symbol'] 有 5 只股票\n",
    "- 6 = Open, High, Low, Close, Adj Close 和 Volume 6 个变量\n",
    "\n",
    "在新表 `melted_data` 中\n",
    "\n",
    "- 在参数 **id_vars** 设置的 Date 和 Symbol 还保持为**列**\n",
    "\n",
    "- 此外还多出两个列，标签为 variable 和 value\n",
    "\n",
    "    - variable 列下的值为**旧表 `data`** 中 Open, High, Low, Close, Adj Close 和 Volume 的列标签\n",
    "\n",
    "    - value 列下的值是前者在**旧表 `data`** 中的值\n",
    "\n",
    "***\n",
    "用 `melt()` 函数可以生成一张含有多个 **id** 的长表，然后可在 **id** 上筛选出想要的信息，比如在 `melted_data` 上使用调用对象 (callable) 做索引，获取在 2019-02-25 那天 BABA 和 FB 的信息。"
   ]
  },
  {
   "cell_type": "code",
   "execution_count": 288,
   "metadata": {
    "source_collapsed": false
   },
   "outputs": [
    {
     "data": {
      "text/html": [
       "<div>\n",
       "<style scoped>\n",
       "    .dataframe tbody tr th:only-of-type {\n",
       "        vertical-align: middle;\n",
       "    }\n",
       "\n",
       "    .dataframe tbody tr th {\n",
       "        vertical-align: top;\n",
       "    }\n",
       "\n",
       "    .dataframe thead th {\n",
       "        text-align: right;\n",
       "    }\n",
       "</style>\n",
       "<table border=\"1\" class=\"dataframe\">\n",
       "  <thead>\n",
       "    <tr style=\"text-align: right;\">\n",
       "      <th></th>\n",
       "      <th>Date</th>\n",
       "      <th>Symbol</th>\n",
       "      <th>variable</th>\n",
       "      <th>value</th>\n",
       "    </tr>\n",
       "  </thead>\n",
       "  <tbody>\n",
       "    <tr>\n",
       "      <th>12</th>\n",
       "      <td>2019-02-25</td>\n",
       "      <td>BABA</td>\n",
       "      <td>Open</td>\n",
       "      <td>1.812600e+02</td>\n",
       "    </tr>\n",
       "    <tr>\n",
       "      <th>14</th>\n",
       "      <td>2019-02-25</td>\n",
       "      <td>FB</td>\n",
       "      <td>Open</td>\n",
       "      <td>1.630700e+02</td>\n",
       "    </tr>\n",
       "    <tr>\n",
       "      <th>32</th>\n",
       "      <td>2019-02-25</td>\n",
       "      <td>BABA</td>\n",
       "      <td>High</td>\n",
       "      <td>1.837200e+02</td>\n",
       "    </tr>\n",
       "    <tr>\n",
       "      <th>34</th>\n",
       "      <td>2019-02-25</td>\n",
       "      <td>FB</td>\n",
       "      <td>High</td>\n",
       "      <td>1.660700e+02</td>\n",
       "    </tr>\n",
       "    <tr>\n",
       "      <th>52</th>\n",
       "      <td>2019-02-25</td>\n",
       "      <td>BABA</td>\n",
       "      <td>Low</td>\n",
       "      <td>1.807300e+02</td>\n",
       "    </tr>\n",
       "    <tr>\n",
       "      <th>54</th>\n",
       "      <td>2019-02-25</td>\n",
       "      <td>FB</td>\n",
       "      <td>Low</td>\n",
       "      <td>1.629000e+02</td>\n",
       "    </tr>\n",
       "    <tr>\n",
       "      <th>72</th>\n",
       "      <td>2019-02-25</td>\n",
       "      <td>BABA</td>\n",
       "      <td>Close</td>\n",
       "      <td>1.832500e+02</td>\n",
       "    </tr>\n",
       "    <tr>\n",
       "      <th>74</th>\n",
       "      <td>2019-02-25</td>\n",
       "      <td>FB</td>\n",
       "      <td>Close</td>\n",
       "      <td>1.646200e+02</td>\n",
       "    </tr>\n",
       "    <tr>\n",
       "      <th>92</th>\n",
       "      <td>2019-02-25</td>\n",
       "      <td>BABA</td>\n",
       "      <td>Adj Close</td>\n",
       "      <td>1.832500e+02</td>\n",
       "    </tr>\n",
       "    <tr>\n",
       "      <th>94</th>\n",
       "      <td>2019-02-25</td>\n",
       "      <td>FB</td>\n",
       "      <td>Adj Close</td>\n",
       "      <td>1.646200e+02</td>\n",
       "    </tr>\n",
       "    <tr>\n",
       "      <th>112</th>\n",
       "      <td>2019-02-25</td>\n",
       "      <td>BABA</td>\n",
       "      <td>Volume</td>\n",
       "      <td>2.283180e+07</td>\n",
       "    </tr>\n",
       "    <tr>\n",
       "      <th>114</th>\n",
       "      <td>2019-02-25</td>\n",
       "      <td>FB</td>\n",
       "      <td>Volume</td>\n",
       "      <td>1.873710e+07</td>\n",
       "    </tr>\n",
       "  </tbody>\n",
       "</table>\n",
       "</div>"
      ],
      "text/plain": [
       "          Date Symbol   variable         value\n",
       "12  2019-02-25   BABA       Open  1.812600e+02\n",
       "14  2019-02-25     FB       Open  1.630700e+02\n",
       "32  2019-02-25   BABA       High  1.837200e+02\n",
       "34  2019-02-25     FB       High  1.660700e+02\n",
       "52  2019-02-25   BABA        Low  1.807300e+02\n",
       "54  2019-02-25     FB        Low  1.629000e+02\n",
       "72  2019-02-25   BABA      Close  1.832500e+02\n",
       "74  2019-02-25     FB      Close  1.646200e+02\n",
       "92  2019-02-25   BABA  Adj Close  1.832500e+02\n",
       "94  2019-02-25     FB  Adj Close  1.646200e+02\n",
       "112 2019-02-25   BABA     Volume  2.283180e+07\n",
       "114 2019-02-25     FB     Volume  1.873710e+07"
      ]
     },
     "execution_count": 288,
     "metadata": {},
     "output_type": "execute_result"
    }
   ],
   "source": [
    "melted_data[ lambda x: (x.Date=='25/02/2019') \n",
    "                     & ((x.Symbol=='BABA')|(x.Symbol=='FB')) ]"
   ]
  },
  {
   "cell_type": "markdown",
   "metadata": {},
   "source": [
    "***\n",
    "下图可视化 `melt()` 函数：\n",
    "\n",
    "<img src=\"Pivot melt.PNG\" style=\"width:800px; height:220px;\">"
   ]
  },
  {
   "cell_type": "markdown",
   "metadata": {},
   "source": [
    "# <font color='#dc2624' face='微软雅黑'>7. 数据分析</font><a name='7'></a>\n",
    "[<font color='black' face='微软雅黑'>回到目录</font>](#toc)\n",
    "\n",
    "本节使用的数据描述如下：\n",
    "\n",
    "- **5 只股票**：AAPL, JD, BABA, FB, GS\n",
    "- **1 年交易日**：从 26/02/2018 到 26/02/2019"
   ]
  },
  {
   "cell_type": "code",
   "execution_count": 3,
   "metadata": {},
   "outputs": [
    {
     "data": {
      "text/html": [
       "<div>\n",
       "<style scoped>\n",
       "    .dataframe tbody tr th:only-of-type {\n",
       "        vertical-align: middle;\n",
       "    }\n",
       "\n",
       "    .dataframe tbody tr th {\n",
       "        vertical-align: top;\n",
       "    }\n",
       "\n",
       "    .dataframe thead th {\n",
       "        text-align: right;\n",
       "    }\n",
       "</style>\n",
       "<table border=\"1\" class=\"dataframe\">\n",
       "  <thead>\n",
       "    <tr style=\"text-align: right;\">\n",
       "      <th></th>\n",
       "      <th>Date</th>\n",
       "      <th>Symbol</th>\n",
       "      <th>Open</th>\n",
       "      <th>High</th>\n",
       "      <th>Low</th>\n",
       "      <th>Close</th>\n",
       "      <th>Adj Close</th>\n",
       "      <th>Volume</th>\n",
       "    </tr>\n",
       "  </thead>\n",
       "  <tbody>\n",
       "    <tr>\n",
       "      <th>0</th>\n",
       "      <td>2018-02-26</td>\n",
       "      <td>AAPL</td>\n",
       "      <td>176.350006</td>\n",
       "      <td>179.389999</td>\n",
       "      <td>176.210007</td>\n",
       "      <td>178.970001</td>\n",
       "      <td>176.285675</td>\n",
       "      <td>38162200</td>\n",
       "    </tr>\n",
       "    <tr>\n",
       "      <th>1</th>\n",
       "      <td>2018-02-27</td>\n",
       "      <td>AAPL</td>\n",
       "      <td>179.100006</td>\n",
       "      <td>180.479996</td>\n",
       "      <td>178.160004</td>\n",
       "      <td>178.389999</td>\n",
       "      <td>175.714386</td>\n",
       "      <td>38928100</td>\n",
       "    </tr>\n",
       "    <tr>\n",
       "      <th>2</th>\n",
       "      <td>2018-02-28</td>\n",
       "      <td>AAPL</td>\n",
       "      <td>179.259995</td>\n",
       "      <td>180.619995</td>\n",
       "      <td>178.050003</td>\n",
       "      <td>178.119995</td>\n",
       "      <td>175.448410</td>\n",
       "      <td>37782100</td>\n",
       "    </tr>\n",
       "    <tr>\n",
       "      <th>1257</th>\n",
       "      <td>2019-02-22</td>\n",
       "      <td>GS</td>\n",
       "      <td>196.600006</td>\n",
       "      <td>197.750000</td>\n",
       "      <td>195.199997</td>\n",
       "      <td>196.000000</td>\n",
       "      <td>196.000000</td>\n",
       "      <td>2626600</td>\n",
       "    </tr>\n",
       "    <tr>\n",
       "      <th>1258</th>\n",
       "      <td>2019-02-25</td>\n",
       "      <td>GS</td>\n",
       "      <td>198.000000</td>\n",
       "      <td>201.500000</td>\n",
       "      <td>197.710007</td>\n",
       "      <td>198.649994</td>\n",
       "      <td>198.649994</td>\n",
       "      <td>3032200</td>\n",
       "    </tr>\n",
       "    <tr>\n",
       "      <th>1259</th>\n",
       "      <td>2019-02-26</td>\n",
       "      <td>GS</td>\n",
       "      <td>198.470001</td>\n",
       "      <td>200.559998</td>\n",
       "      <td>196.550003</td>\n",
       "      <td>198.899994</td>\n",
       "      <td>198.899994</td>\n",
       "      <td>2498000</td>\n",
       "    </tr>\n",
       "  </tbody>\n",
       "</table>\n",
       "</div>"
      ],
      "text/plain": [
       "           Date Symbol        Open        High         Low       Close  \\\n",
       "0    2018-02-26   AAPL  176.350006  179.389999  176.210007  178.970001   \n",
       "1    2018-02-27   AAPL  179.100006  180.479996  178.160004  178.389999   \n",
       "2    2018-02-28   AAPL  179.259995  180.619995  178.050003  178.119995   \n",
       "1257 2019-02-22     GS  196.600006  197.750000  195.199997  196.000000   \n",
       "1258 2019-02-25     GS  198.000000  201.500000  197.710007  198.649994   \n",
       "1259 2019-02-26     GS  198.470001  200.559998  196.550003  198.899994   \n",
       "\n",
       "       Adj Close    Volume  \n",
       "0     176.285675  38162200  \n",
       "1     175.714386  38928100  \n",
       "2     175.448410  37782100  \n",
       "1257  196.000000   2626600  \n",
       "1258  198.649994   3032200  \n",
       "1259  198.899994   2498000  "
      ]
     },
     "execution_count": 3,
     "metadata": {},
     "output_type": "execute_result"
    }
   ],
   "source": [
    "data = pd.read_csv('1Y Stock Data.csv', parse_dates=[0], dayfirst=True)\n",
    "data.head(3).append(data.tail(3))"
   ]
  },
  {
   "cell_type": "markdown",
   "metadata": {},
   "source": [
    "### <font color='#2b4750' face='微软雅黑'>7.1 单维整体分析</font><a name='7.1'></a>\n",
    "[<font color='black' face='微软雅黑'>回到章首</font>](#7)"
   ]
  },
  {
   "cell_type": "code",
   "execution_count": 4,
   "metadata": {},
   "outputs": [],
   "source": [
    "AAPL = data[data.Symbol == 'AAPL'].set_index('Date').drop(columns='Symbol')"
   ]
  },
  {
   "cell_type": "code",
   "execution_count": 243,
   "metadata": {},
   "outputs": [
    {
     "data": {
      "text/html": [
       "<div>\n",
       "<style scoped>\n",
       "    .dataframe tbody tr th:only-of-type {\n",
       "        vertical-align: middle;\n",
       "    }\n",
       "\n",
       "    .dataframe tbody tr th {\n",
       "        vertical-align: top;\n",
       "    }\n",
       "\n",
       "    .dataframe thead th {\n",
       "        text-align: right;\n",
       "    }\n",
       "</style>\n",
       "<table border=\"1\" class=\"dataframe\">\n",
       "  <thead>\n",
       "    <tr style=\"text-align: right;\">\n",
       "      <th></th>\n",
       "      <th>Open</th>\n",
       "      <th>High</th>\n",
       "      <th>Low</th>\n",
       "      <th>Close</th>\n",
       "      <th>Adj Close</th>\n",
       "      <th>Volume</th>\n",
       "    </tr>\n",
       "  </thead>\n",
       "  <tbody>\n",
       "    <tr>\n",
       "      <th>count</th>\n",
       "      <td>252.000000</td>\n",
       "      <td>252.000000</td>\n",
       "      <td>252.000000</td>\n",
       "      <td>252.000000</td>\n",
       "      <td>252.000000</td>\n",
       "      <td>2.520000e+02</td>\n",
       "    </tr>\n",
       "    <tr>\n",
       "      <th>mean</th>\n",
       "      <td>187.697699</td>\n",
       "      <td>189.578770</td>\n",
       "      <td>185.823572</td>\n",
       "      <td>187.702143</td>\n",
       "      <td>186.022309</td>\n",
       "      <td>3.297615e+07</td>\n",
       "    </tr>\n",
       "    <tr>\n",
       "      <th>std</th>\n",
       "      <td>22.072925</td>\n",
       "      <td>22.202101</td>\n",
       "      <td>21.941613</td>\n",
       "      <td>22.094818</td>\n",
       "      <td>21.903124</td>\n",
       "      <td>1.414694e+07</td>\n",
       "    </tr>\n",
       "    <tr>\n",
       "      <th>min</th>\n",
       "      <td>143.979996</td>\n",
       "      <td>145.720001</td>\n",
       "      <td>142.000000</td>\n",
       "      <td>142.190002</td>\n",
       "      <td>141.582779</td>\n",
       "      <td>1.251390e+07</td>\n",
       "    </tr>\n",
       "    <tr>\n",
       "      <th>25%</th>\n",
       "      <td>171.479996</td>\n",
       "      <td>173.067497</td>\n",
       "      <td>169.825005</td>\n",
       "      <td>171.032498</td>\n",
       "      <td>170.217468</td>\n",
       "      <td>2.291938e+07</td>\n",
       "    </tr>\n",
       "    <tr>\n",
       "      <th>50%</th>\n",
       "      <td>186.204994</td>\n",
       "      <td>187.349998</td>\n",
       "      <td>184.845001</td>\n",
       "      <td>185.955002</td>\n",
       "      <td>184.126983</td>\n",
       "      <td>3.022960e+07</td>\n",
       "    </tr>\n",
       "    <tr>\n",
       "      <th>75%</th>\n",
       "      <td>207.300000</td>\n",
       "      <td>209.312500</td>\n",
       "      <td>205.632496</td>\n",
       "      <td>207.645001</td>\n",
       "      <td>205.888015</td>\n",
       "      <td>3.938092e+07</td>\n",
       "    </tr>\n",
       "    <tr>\n",
       "      <th>max</th>\n",
       "      <td>230.779999</td>\n",
       "      <td>233.470001</td>\n",
       "      <td>229.779999</td>\n",
       "      <td>232.070007</td>\n",
       "      <td>230.275482</td>\n",
       "      <td>9.624670e+07</td>\n",
       "    </tr>\n",
       "  </tbody>\n",
       "</table>\n",
       "</div>"
      ],
      "text/plain": [
       "             Open        High         Low       Close   Adj Close  \\\n",
       "count  252.000000  252.000000  252.000000  252.000000  252.000000   \n",
       "mean   187.697699  189.578770  185.823572  187.702143  186.022309   \n",
       "std     22.072925   22.202101   21.941613   22.094818   21.903124   \n",
       "min    143.979996  145.720001  142.000000  142.190002  141.582779   \n",
       "25%    171.479996  173.067497  169.825005  171.032498  170.217468   \n",
       "50%    186.204994  187.349998  184.845001  185.955002  184.126983   \n",
       "75%    207.300000  209.312500  205.632496  207.645001  205.888015   \n",
       "max    230.779999  233.470001  229.779999  232.070007  230.275482   \n",
       "\n",
       "             Volume  \n",
       "count  2.520000e+02  \n",
       "mean   3.297615e+07  \n",
       "std    1.414694e+07  \n",
       "min    1.251390e+07  \n",
       "25%    2.291938e+07  \n",
       "50%    3.022960e+07  \n",
       "75%    3.938092e+07  \n",
       "max    9.624670e+07  "
      ]
     },
     "execution_count": 243,
     "metadata": {},
     "output_type": "execute_result"
    }
   ],
   "source": [
    "AAPL.describe()"
   ]
  },
  {
   "cell_type": "code",
   "execution_count": 249,
   "metadata": {},
   "outputs": [
    {
     "data": {
      "text/html": [
       "<div>\n",
       "<style scoped>\n",
       "    .dataframe tbody tr th:only-of-type {\n",
       "        vertical-align: middle;\n",
       "    }\n",
       "\n",
       "    .dataframe tbody tr th {\n",
       "        vertical-align: top;\n",
       "    }\n",
       "\n",
       "    .dataframe thead th {\n",
       "        text-align: right;\n",
       "    }\n",
       "</style>\n",
       "<table border=\"1\" class=\"dataframe\">\n",
       "  <thead>\n",
       "    <tr style=\"text-align: right;\">\n",
       "      <th></th>\n",
       "      <th>0</th>\n",
       "      <th>1</th>\n",
       "      <th>2</th>\n",
       "      <th>3</th>\n",
       "    </tr>\n",
       "  </thead>\n",
       "  <tbody>\n",
       "    <tr>\n",
       "      <th>Open</th>\n",
       "      <td>1.876977e+02</td>\n",
       "      <td>2.207292e+01</td>\n",
       "      <td>0.262775</td>\n",
       "      <td>-0.896102</td>\n",
       "    </tr>\n",
       "    <tr>\n",
       "      <th>High</th>\n",
       "      <td>1.895788e+02</td>\n",
       "      <td>2.220210e+01</td>\n",
       "      <td>0.303601</td>\n",
       "      <td>-0.906829</td>\n",
       "    </tr>\n",
       "    <tr>\n",
       "      <th>Low</th>\n",
       "      <td>1.858236e+02</td>\n",
       "      <td>2.194161e+01</td>\n",
       "      <td>0.224014</td>\n",
       "      <td>-0.902152</td>\n",
       "    </tr>\n",
       "    <tr>\n",
       "      <th>Close</th>\n",
       "      <td>1.877021e+02</td>\n",
       "      <td>2.209482e+01</td>\n",
       "      <td>0.268927</td>\n",
       "      <td>-0.917416</td>\n",
       "    </tr>\n",
       "    <tr>\n",
       "      <th>Adj Close</th>\n",
       "      <td>1.860223e+02</td>\n",
       "      <td>2.190312e+01</td>\n",
       "      <td>0.308623</td>\n",
       "      <td>-0.926425</td>\n",
       "    </tr>\n",
       "    <tr>\n",
       "      <th>Volume</th>\n",
       "      <td>3.297615e+07</td>\n",
       "      <td>1.414694e+07</td>\n",
       "      <td>1.702479</td>\n",
       "      <td>4.259172</td>\n",
       "    </tr>\n",
       "  </tbody>\n",
       "</table>\n",
       "</div>"
      ],
      "text/plain": [
       "                      0             1         2         3\n",
       "Open       1.876977e+02  2.207292e+01  0.262775 -0.896102\n",
       "High       1.895788e+02  2.220210e+01  0.303601 -0.906829\n",
       "Low        1.858236e+02  2.194161e+01  0.224014 -0.902152\n",
       "Close      1.877021e+02  2.209482e+01  0.268927 -0.917416\n",
       "Adj Close  1.860223e+02  2.190312e+01  0.308623 -0.926425\n",
       "Volume     3.297615e+07  1.414694e+07  1.702479  4.259172"
      ]
     },
     "execution_count": 249,
     "metadata": {},
     "output_type": "execute_result"
    }
   ],
   "source": [
    "pd.concat( [AAPL.mean(), AAPL.std(), AAPL.skew(), AAPL.kurtosis()], axis=1 )"
   ]
  },
  {
   "cell_type": "code",
   "execution_count": 247,
   "metadata": {},
   "outputs": [
    {
     "data": {
      "text/html": [
       "<div>\n",
       "<style scoped>\n",
       "    .dataframe tbody tr th:only-of-type {\n",
       "        vertical-align: middle;\n",
       "    }\n",
       "\n",
       "    .dataframe tbody tr th {\n",
       "        vertical-align: top;\n",
       "    }\n",
       "\n",
       "    .dataframe thead th {\n",
       "        text-align: right;\n",
       "    }\n",
       "</style>\n",
       "<table border=\"1\" class=\"dataframe\">\n",
       "  <thead>\n",
       "    <tr style=\"text-align: right;\">\n",
       "      <th></th>\n",
       "      <th>Open</th>\n",
       "      <th>High</th>\n",
       "      <th>Low</th>\n",
       "      <th>Close</th>\n",
       "      <th>Adj Close</th>\n",
       "      <th>Volume</th>\n",
       "    </tr>\n",
       "  </thead>\n",
       "  <tbody>\n",
       "    <tr>\n",
       "      <th>Open</th>\n",
       "      <td>1.000000</td>\n",
       "      <td>0.997635</td>\n",
       "      <td>0.996458</td>\n",
       "      <td>0.993674</td>\n",
       "      <td>0.993286</td>\n",
       "      <td>-0.125456</td>\n",
       "    </tr>\n",
       "    <tr>\n",
       "      <th>High</th>\n",
       "      <td>0.997635</td>\n",
       "      <td>1.000000</td>\n",
       "      <td>0.996209</td>\n",
       "      <td>0.996861</td>\n",
       "      <td>0.996593</td>\n",
       "      <td>-0.105925</td>\n",
       "    </tr>\n",
       "    <tr>\n",
       "      <th>Low</th>\n",
       "      <td>0.996458</td>\n",
       "      <td>0.996209</td>\n",
       "      <td>1.000000</td>\n",
       "      <td>0.997232</td>\n",
       "      <td>0.996370</td>\n",
       "      <td>-0.162172</td>\n",
       "    </tr>\n",
       "    <tr>\n",
       "      <th>Close</th>\n",
       "      <td>0.993674</td>\n",
       "      <td>0.996861</td>\n",
       "      <td>0.997232</td>\n",
       "      <td>1.000000</td>\n",
       "      <td>0.999416</td>\n",
       "      <td>-0.139433</td>\n",
       "    </tr>\n",
       "    <tr>\n",
       "      <th>Adj Close</th>\n",
       "      <td>0.993286</td>\n",
       "      <td>0.996593</td>\n",
       "      <td>0.996370</td>\n",
       "      <td>0.999416</td>\n",
       "      <td>1.000000</td>\n",
       "      <td>-0.133989</td>\n",
       "    </tr>\n",
       "    <tr>\n",
       "      <th>Volume</th>\n",
       "      <td>-0.125456</td>\n",
       "      <td>-0.105925</td>\n",
       "      <td>-0.162172</td>\n",
       "      <td>-0.139433</td>\n",
       "      <td>-0.133989</td>\n",
       "      <td>1.000000</td>\n",
       "    </tr>\n",
       "  </tbody>\n",
       "</table>\n",
       "</div>"
      ],
      "text/plain": [
       "               Open      High       Low     Close  Adj Close    Volume\n",
       "Open       1.000000  0.997635  0.996458  0.993674   0.993286 -0.125456\n",
       "High       0.997635  1.000000  0.996209  0.996861   0.996593 -0.105925\n",
       "Low        0.996458  0.996209  1.000000  0.997232   0.996370 -0.162172\n",
       "Close      0.993674  0.996861  0.997232  1.000000   0.999416 -0.139433\n",
       "Adj Close  0.993286  0.996593  0.996370  0.999416   1.000000 -0.133989\n",
       "Volume    -0.125456 -0.105925 -0.162172 -0.139433  -0.133989  1.000000"
      ]
     },
     "execution_count": 247,
     "metadata": {},
     "output_type": "execute_result"
    }
   ],
   "source": [
    "AAPL.corr()"
   ]
  },
  {
   "cell_type": "markdown",
   "metadata": {
    "source_collapsed": false
   },
   "source": [
    "### <font color='#2b4750' face='微软雅黑'>7.2 单维分组分析</font><a name='7.2'></a>\n",
    "[<font color='black' face='微软雅黑'>回到章首</font>](#7)\n",
    "\n",
    "数据帧上的 `sum()` 或 `mean()` 函数是将数据**聚合**，但通常我们希望有条件地在某些**标签或索引**上进行聚合。数据可以根据某些规则**分组 (split)**，然后**应用 (apply)** 同样的函数在每个组，最后**结合 (combine)** 成整体。这种三部曲操作称被 Hadley Wickham 称之为 **拆分-应用-结合 (split-apply-combine)**。\n",
    "\n",
    "具体而言，该 **split-apply-combine** 过程有三步：\n",
    "\n",
    "1. 在 **split** 步骤：将数据帧按照指定的“键”分组\n",
    "2. 在 **apply** 步骤：在各组上平行执行四类操作：\n",
    "    - 整合型 `agg()` 函数\n",
    "    - 转换型 `transform()` 函数\n",
    "    - 筛选型 `filter()` 函数\n",
    "    - 通用型 `apply()` 函数\n",
    "\n",
    "\n",
    "3. 在 **combine** 步骤：操作之后的每个数据帧**自动**合并成一个总体数据帧\n",
    "\n",
    "示意图如下：\n",
    "\n",
    "<img src=\"split apply combine.PNG\" style=\"width:800px; height:450px;\">"
   ]
  },
  {
   "cell_type": "markdown",
   "metadata": {},
   "source": [
    "在 `data` 中只对 Adj Close 感兴趣，而且想知道在哪一年份或哪一月份每支股票的 Adj Close 是多少。因此需要做两件事：\n",
    "\n",
    "- 只保留 Date, Symbol, Adj Close 和 Volume\n",
    "- 从 Date 中获取 Year 和 Month 的信息并插入表中\n",
    "\n",
    "将处理过后的数据存在 `data1` 中。"
   ]
  },
  {
   "cell_type": "code",
   "execution_count": 8,
   "metadata": {
    "source_collapsed": false
   },
   "outputs": [
    {
     "data": {
      "text/html": [
       "<div>\n",
       "<style scoped>\n",
       "    .dataframe tbody tr th:only-of-type {\n",
       "        vertical-align: middle;\n",
       "    }\n",
       "\n",
       "    .dataframe tbody tr th {\n",
       "        vertical-align: top;\n",
       "    }\n",
       "\n",
       "    .dataframe thead th {\n",
       "        text-align: right;\n",
       "    }\n",
       "</style>\n",
       "<table border=\"1\" class=\"dataframe\">\n",
       "  <thead>\n",
       "    <tr style=\"text-align: right;\">\n",
       "      <th></th>\n",
       "      <th>Date</th>\n",
       "      <th>Year</th>\n",
       "      <th>Month</th>\n",
       "      <th>Symbol</th>\n",
       "      <th>Adj Close</th>\n",
       "      <th>Volume</th>\n",
       "    </tr>\n",
       "  </thead>\n",
       "  <tbody>\n",
       "    <tr>\n",
       "      <th>0</th>\n",
       "      <td>2019-02-21</td>\n",
       "      <td>2019</td>\n",
       "      <td>2</td>\n",
       "      <td>AAPL</td>\n",
       "      <td>171.059998</td>\n",
       "      <td>17249700</td>\n",
       "    </tr>\n",
       "    <tr>\n",
       "      <th>1</th>\n",
       "      <td>2019-02-21</td>\n",
       "      <td>2019</td>\n",
       "      <td>2</td>\n",
       "      <td>JD</td>\n",
       "      <td>24.270000</td>\n",
       "      <td>13542600</td>\n",
       "    </tr>\n",
       "    <tr>\n",
       "      <th>2</th>\n",
       "      <td>2019-02-21</td>\n",
       "      <td>2019</td>\n",
       "      <td>2</td>\n",
       "      <td>BABA</td>\n",
       "      <td>171.660004</td>\n",
       "      <td>8434800</td>\n",
       "    </tr>\n",
       "    <tr>\n",
       "      <th>17</th>\n",
       "      <td>2019-02-26</td>\n",
       "      <td>2019</td>\n",
       "      <td>2</td>\n",
       "      <td>BABA</td>\n",
       "      <td>183.539993</td>\n",
       "      <td>13857900</td>\n",
       "    </tr>\n",
       "    <tr>\n",
       "      <th>18</th>\n",
       "      <td>2019-02-26</td>\n",
       "      <td>2019</td>\n",
       "      <td>2</td>\n",
       "      <td>GS</td>\n",
       "      <td>198.899994</td>\n",
       "      <td>2498000</td>\n",
       "    </tr>\n",
       "    <tr>\n",
       "      <th>19</th>\n",
       "      <td>2019-02-26</td>\n",
       "      <td>2019</td>\n",
       "      <td>2</td>\n",
       "      <td>FB</td>\n",
       "      <td>164.130005</td>\n",
       "      <td>13645200</td>\n",
       "    </tr>\n",
       "  </tbody>\n",
       "</table>\n",
       "</div>"
      ],
      "text/plain": [
       "         Date  Year  Month Symbol   Adj Close    Volume\n",
       "0  2019-02-21  2019      2   AAPL  171.059998  17249700\n",
       "1  2019-02-21  2019      2     JD   24.270000  13542600\n",
       "2  2019-02-21  2019      2   BABA  171.660004   8434800\n",
       "17 2019-02-26  2019      2   BABA  183.539993  13857900\n",
       "18 2019-02-26  2019      2     GS  198.899994   2498000\n",
       "19 2019-02-26  2019      2     FB  164.130005  13645200"
      ]
     },
     "execution_count": 8,
     "metadata": {},
     "output_type": "execute_result"
    }
   ],
   "source": [
    "data1 = data[['Date', 'Symbol', 'Adj Close', 'Volume']]\n",
    "data1.insert( 1, 'Year', pd.DatetimeIndex(data1['Date']).year )\n",
    "data1.insert( 2, 'Month', pd.DatetimeIndex(data1['Date']).month )\n",
    "data1.head(3).append(data1.tail(3))"
   ]
  },
  {
   "cell_type": "markdown",
   "metadata": {
    "source_collapsed": false
   },
   "source": [
    "### <div style=\"text-align: center\"><font color='black' face='微软雅黑'>拆分 `groupby()`</font></div>\n",
    "\n",
    "将数据帧 `df` 按特定标签 `label` 分组的语法如下：\n",
    "\n",
    "    df.groupBy( label )\n",
    "    \n",
    "这个标签可以是单标签或多标签。\n",
    "\n",
    "### 单标签分组"
   ]
  },
  {
   "cell_type": "code",
   "execution_count": 6,
   "metadata": {
    "source_collapsed": false
   },
   "outputs": [
    {
     "data": {
      "text/plain": [
       "<pandas.core.groupby.generic.DataFrameGroupBy object at 0x0000020ED39F5888>"
      ]
     },
     "execution_count": 6,
     "metadata": {},
     "output_type": "execute_result"
    }
   ],
   "source": [
    "grp = data1.groupby('Symbol')\n",
    "grp"
   ]
  },
  {
   "cell_type": "markdown",
   "metadata": {
    "source_collapsed": false
   },
   "source": [
    "得到的 `grp` 是个对象，用 dir() 来查看它的「属性」和「方法」。以下几个属性和方法是比较常用的：\n",
    "\n",
    "- `ngroups`: 组的个数 (`int`)\n",
    "- `size()`: 每组元素的个数 (`Series`)\n",
    "- `groups`: 每组元素在原数据帧中的索引信息 (`dict`)\n",
    "- `get_groups(label)`: 标签对应的数据 (`DataFrame`)\n",
    "\n",
    "下面看看这些属性和方法的产出结果。\n",
    "\n",
    "数据里有 5 只股票，因此有 5 组。"
   ]
  },
  {
   "cell_type": "code",
   "execution_count": 271,
   "metadata": {
    "source_collapsed": false
   },
   "outputs": [
    {
     "data": {
      "text/plain": [
       "5"
      ]
     },
     "execution_count": 271,
     "metadata": {},
     "output_type": "execute_result"
    }
   ],
   "source": [
    "grp.ngroups"
   ]
  },
  {
   "cell_type": "markdown",
   "metadata": {},
   "source": [
    "一年有 252 个交易日，因此每只股票含 252 条信息。"
   ]
  },
  {
   "cell_type": "code",
   "execution_count": 272,
   "metadata": {
    "source_collapsed": false
   },
   "outputs": [
    {
     "data": {
      "text/plain": [
       "Symbol\n",
       "AAPL    252\n",
       "BABA    252\n",
       "FB      252\n",
       "GS      252\n",
       "JD      252\n",
       "dtype: int64"
      ]
     },
     "execution_count": 272,
     "metadata": {},
     "output_type": "execute_result"
    }
   ],
   "source": [
    "grp.size()"
   ]
  },
  {
   "cell_type": "markdown",
   "metadata": {},
   "source": [
    "苹果股票 (AAPL) 的索引从 0 到 251，...，高盛股票 (GS) 的索引从 1008 到 1259。注意字典中是按键名排序的，JD 第一个字母是 J，排在最后。"
   ]
  },
  {
   "cell_type": "code",
   "execution_count": 273,
   "metadata": {
    "source_collapsed": false
   },
   "outputs": [
    {
     "data": {
      "text/plain": [
       "{'AAPL': Int64Index([  0,   1,   2,   3,   4,   5,   6,   7,   8,   9,\n",
       "             ...\n",
       "             242, 243, 244, 245, 246, 247, 248, 249, 250, 251],\n",
       "            dtype='int64', length=252),\n",
       " 'BABA': Int64Index([252, 253, 254, 255, 256, 257, 258, 259, 260, 261,\n",
       "             ...\n",
       "             494, 495, 496, 497, 498, 499, 500, 501, 502, 503],\n",
       "            dtype='int64', length=252),\n",
       " 'FB': Int64Index([ 756,  757,  758,  759,  760,  761,  762,  763,  764,  765,\n",
       "             ...\n",
       "              998,  999, 1000, 1001, 1002, 1003, 1004, 1005, 1006, 1007],\n",
       "            dtype='int64', length=252),\n",
       " 'GS': Int64Index([1008, 1009, 1010, 1011, 1012, 1013, 1014, 1015, 1016, 1017,\n",
       "             ...\n",
       "             1250, 1251, 1252, 1253, 1254, 1255, 1256, 1257, 1258, 1259],\n",
       "            dtype='int64', length=252),\n",
       " 'JD': Int64Index([504, 505, 506, 507, 508, 509, 510, 511, 512, 513,\n",
       "             ...\n",
       "             746, 747, 748, 749, 750, 751, 752, 753, 754, 755],\n",
       "            dtype='int64', length=252)}"
      ]
     },
     "execution_count": 273,
     "metadata": {},
     "output_type": "execute_result"
    }
   ],
   "source": [
    "grp.groups"
   ]
  },
  {
   "cell_type": "markdown",
   "metadata": {},
   "source": [
    "查查 GS 组里的数据的前五行。"
   ]
  },
  {
   "cell_type": "code",
   "execution_count": 274,
   "metadata": {},
   "outputs": [
    {
     "data": {
      "text/html": [
       "<div>\n",
       "<style scoped>\n",
       "    .dataframe tbody tr th:only-of-type {\n",
       "        vertical-align: middle;\n",
       "    }\n",
       "\n",
       "    .dataframe tbody tr th {\n",
       "        vertical-align: top;\n",
       "    }\n",
       "\n",
       "    .dataframe thead th {\n",
       "        text-align: right;\n",
       "    }\n",
       "</style>\n",
       "<table border=\"1\" class=\"dataframe\">\n",
       "  <thead>\n",
       "    <tr style=\"text-align: right;\">\n",
       "      <th></th>\n",
       "      <th>Date</th>\n",
       "      <th>Year</th>\n",
       "      <th>Month</th>\n",
       "      <th>Symbol</th>\n",
       "      <th>Adj Close</th>\n",
       "      <th>Volume</th>\n",
       "    </tr>\n",
       "  </thead>\n",
       "  <tbody>\n",
       "    <tr>\n",
       "      <th>1008</th>\n",
       "      <td>2018-02-26</td>\n",
       "      <td>2018</td>\n",
       "      <td>2</td>\n",
       "      <td>GS</td>\n",
       "      <td>267.574249</td>\n",
       "      <td>2751400</td>\n",
       "    </tr>\n",
       "    <tr>\n",
       "      <th>1009</th>\n",
       "      <td>2018-02-27</td>\n",
       "      <td>2018</td>\n",
       "      <td>2</td>\n",
       "      <td>GS</td>\n",
       "      <td>264.289459</td>\n",
       "      <td>3140600</td>\n",
       "    </tr>\n",
       "    <tr>\n",
       "      <th>1010</th>\n",
       "      <td>2018-02-28</td>\n",
       "      <td>2018</td>\n",
       "      <td>2</td>\n",
       "      <td>GS</td>\n",
       "      <td>260.085419</td>\n",
       "      <td>3104300</td>\n",
       "    </tr>\n",
       "    <tr>\n",
       "      <th>1011</th>\n",
       "      <td>2018-03-01</td>\n",
       "      <td>2018</td>\n",
       "      <td>3</td>\n",
       "      <td>GS</td>\n",
       "      <td>254.001984</td>\n",
       "      <td>3483500</td>\n",
       "    </tr>\n",
       "    <tr>\n",
       "      <th>1012</th>\n",
       "      <td>2018-03-02</td>\n",
       "      <td>2018</td>\n",
       "      <td>3</td>\n",
       "      <td>GS</td>\n",
       "      <td>255.327515</td>\n",
       "      <td>3122800</td>\n",
       "    </tr>\n",
       "  </tbody>\n",
       "</table>\n",
       "</div>"
      ],
      "text/plain": [
       "           Date  Year  Month Symbol   Adj Close   Volume\n",
       "1008 2018-02-26  2018      2     GS  267.574249  2751400\n",
       "1009 2018-02-27  2018      2     GS  264.289459  3140600\n",
       "1010 2018-02-28  2018      2     GS  260.085419  3104300\n",
       "1011 2018-03-01  2018      3     GS  254.001984  3483500\n",
       "1012 2018-03-02  2018      3     GS  255.327515  3122800"
      ]
     },
     "execution_count": 274,
     "metadata": {},
     "output_type": "execute_result"
    }
   ],
   "source": [
    "grp.get_group('GS').head()"
   ]
  },
  {
   "cell_type": "markdown",
   "metadata": {
    "source_collapsed": false
   },
   "source": [
    "定义个 `print_groups()` 函数便于打印每个组的名字和首尾两行信息。"
   ]
  },
  {
   "cell_type": "code",
   "execution_count": 7,
   "metadata": {
    "source_collapsed": false
   },
   "outputs": [],
   "source": [
    "def print_groups( group_obj ):\n",
    "    for name, group in group_obj:\n",
    "        print( name )\n",
    "        print( group.head(2).append(group.tail(2)) )"
   ]
  },
  {
   "cell_type": "code",
   "execution_count": 8,
   "metadata": {
    "source_collapsed": false
   },
   "outputs": [
    {
     "name": "stdout",
     "output_type": "stream",
     "text": [
      "AAPL\n",
      "          Date  Year  Month Symbol   Adj Close    Volume\n",
      "0   2018-02-26  2018      2   AAPL  176.285675  38162200\n",
      "1   2018-02-27  2018      2   AAPL  175.714386  38928100\n",
      "250 2019-02-25  2019      2   AAPL  174.229996  21873400\n",
      "251 2019-02-26  2019      2   AAPL  174.330002  17006000\n",
      "BABA\n",
      "          Date  Year  Month Symbol   Adj Close    Volume\n",
      "252 2018-02-26  2018      2   BABA  194.190002  19463100\n",
      "253 2018-02-27  2018      2   BABA  188.259995  23218500\n",
      "502 2019-02-25  2019      2   BABA  183.250000  22831800\n",
      "503 2019-02-26  2019      2   BABA  183.539993  13857900\n",
      "FB\n",
      "           Date  Year  Month Symbol   Adj Close    Volume\n",
      "756  2018-02-26  2018      2     FB  184.929993  17599700\n",
      "757  2018-02-27  2018      2     FB  181.460007  15849800\n",
      "1006 2019-02-25  2019      2     FB  164.619995  18737100\n",
      "1007 2019-02-26  2019      2     FB  164.130005  13645200\n",
      "GS\n",
      "           Date  Year  Month Symbol   Adj Close   Volume\n",
      "1008 2018-02-26  2018      2     GS  267.574249  2751400\n",
      "1009 2018-02-27  2018      2     GS  264.289459  3140600\n",
      "1258 2019-02-25  2019      2     GS  198.649994  3032200\n",
      "1259 2019-02-26  2019      2     GS  198.899994  2498000\n",
      "JD\n",
      "          Date  Year  Month Symbol  Adj Close    Volume\n",
      "504 2018-02-26  2018      2     JD  48.799999   9126900\n",
      "505 2018-02-27  2018      2     JD  47.040001  12688600\n",
      "754 2019-02-25  2019      2     JD  26.190001  29338500\n",
      "755 2019-02-26  2019      2     JD  26.590000  20264100\n"
     ]
    }
   ],
   "source": [
    "print_groups(grp)"
   ]
  },
  {
   "cell_type": "markdown",
   "metadata": {},
   "source": [
    "### 多标签分组\n",
    "\n",
    "`groupBy()` 函数除了支持单标签分组，也支持多标签分组 (将标签放入一个列表中)。"
   ]
  },
  {
   "cell_type": "code",
   "execution_count": 9,
   "metadata": {
    "scrolled": true,
    "source_collapsed": false
   },
   "outputs": [
    {
     "name": "stdout",
     "output_type": "stream",
     "text": [
      "('AAPL', 2018, 2)\n",
      "        Date  Year  Month Symbol   Adj Close    Volume\n",
      "0 2018-02-26  2018      2   AAPL  176.285675  38162200\n",
      "1 2018-02-27  2018      2   AAPL  175.714386  38928100\n",
      "1 2018-02-27  2018      2   AAPL  175.714386  38928100\n",
      "2 2018-02-28  2018      2   AAPL  175.448410  37782100\n",
      "('AAPL', 2018, 3)\n",
      "         Date  Year  Month Symbol   Adj Close    Volume\n",
      "3  2018-03-01  2018      3   AAPL  172.375214  48802000\n",
      "4  2018-03-02  2018      3   AAPL  173.567078  38454000\n",
      "22 2018-03-28  2018      3   AAPL  163.983002  41668500\n",
      "23 2018-03-29  2018      3   AAPL  165.263504  38398500\n",
      "('AAPL', 2018, 4)\n",
      "         Date  Year  Month Symbol   Adj Close    Volume\n",
      "24 2018-04-02  2018      4   AAPL  164.180008  37586800\n",
      "25 2018-04-03  2018      4   AAPL  165.864349  30278000\n",
      "43 2018-04-27  2018      4   AAPL  159.885406  35655800\n",
      "44 2018-04-30  2018      4   AAPL  162.781296  42427400\n",
      "('AAPL', 2018, 5)\n",
      "         Date  Year  Month Symbol   Adj Close    Volume\n",
      "45 2018-05-01  2018      5   AAPL  166.563705  53569400\n",
      "46 2018-05-02  2018      5   AAPL  173.921677  66539400\n",
      "65 2018-05-30  2018      5   AAPL  185.399887  18690500\n",
      "66 2018-05-31  2018      5   AAPL  184.776947  27482800\n",
      "('AAPL', 2018, 6)\n",
      "         Date  Year  Month Symbol   Adj Close    Volume\n",
      "67 2018-06-01  2018      6   AAPL  188.109222  23442500\n",
      "68 2018-06-04  2018      6   AAPL  189.681396  26266200\n",
      "86 2018-06-28  2018      6   AAPL  183.422302  17365200\n",
      "87 2018-06-29  2018      6   AAPL  183.036682  22737700\n",
      "('AAPL', 2018, 7)\n",
      "          Date  Year  Month Symbol   Adj Close    Volume\n",
      "88  2018-07-02  2018      7   AAPL  185.083466  17731300\n",
      "89  2018-07-03  2018      7   AAPL  181.859985  13954800\n",
      "107 2018-07-30  2018      7   AAPL  187.782913  21029500\n",
      "108 2018-07-31  2018      7   AAPL  188.158646  39373000\n",
      "('AAPL', 2018, 8)\n",
      "          Date  Year  Month Symbol   Adj Close    Volume\n",
      "109 2018-08-01  2018      8   AAPL  199.243088  67935700\n",
      "110 2018-08-02  2018      8   AAPL  205.067123  62404000\n",
      "130 2018-08-30  2018      8   AAPL  223.289917  48793800\n",
      "131 2018-08-31  2018      8   AAPL  225.869812  43340100\n",
      "('AAPL', 2018, 9)\n",
      "          Date  Year  Month Symbol   Adj Close    Volume\n",
      "132 2018-09-04  2018      9   AAPL  226.594162  27390100\n",
      "133 2018-09-05  2018      9   AAPL  225.115677  33333000\n",
      "149 2018-09-27  2018      9   AAPL  223.210526  30181200\n",
      "150 2018-09-28  2018      9   AAPL  223.994431  22929400\n",
      "('AAPL', 2018, 10)\n",
      "          Date  Year  Month Symbol   Adj Close    Volume\n",
      "151 2018-10-01  2018     10   AAPL  225.502670  23600800\n",
      "152 2018-10-02  2018     10   AAPL  227.507050  24788200\n",
      "172 2018-10-30  2018     10   AAPL  211.650620  36660000\n",
      "173 2018-10-31  2018     10   AAPL  217.167618  38358900\n",
      "('AAPL', 2018, 11)\n",
      "          Date  Year  Month Symbol   Adj Close    Volume\n",
      "174 2018-11-01  2018     11   AAPL  220.501633  58323200\n",
      "175 2018-11-02  2018     11   AAPL  205.875610  91328700\n",
      "193 2018-11-29  2018     11   AAPL  178.783234  41770000\n",
      "194 2018-11-30  2018     11   AAPL  177.817383  39531500\n",
      "('AAPL', 2018, 12)\n",
      "          Date  Year  Month Symbol   Adj Close    Volume\n",
      "195 2018-12-03  2018     12   AAPL  184.030731  40802500\n",
      "196 2018-12-04  2018     12   AAPL  175.935455  41344300\n",
      "212 2018-12-28  2018     12   AAPL  155.562820  42291400\n",
      "213 2018-12-31  2018     12   AAPL  157.066376  35003500\n",
      "('AAPL', 2019, 1)\n",
      "          Date  Year  Month Symbol   Adj Close    Volume\n",
      "214 2019-01-02  2019      1   AAPL  157.245605  37039700\n",
      "215 2019-01-03  2019      1   AAPL  141.582779  91312200\n",
      "233 2019-01-30  2019      1   AAPL  164.544296  61109800\n",
      "234 2019-01-31  2019      1   AAPL  165.729218  40739600\n",
      "('AAPL', 2019, 2)\n",
      "          Date  Year  Month Symbol   Adj Close    Volume\n",
      "235 2019-02-01  2019      2   AAPL  165.808884  32668100\n",
      "236 2019-02-04  2019      2   AAPL  170.518677  31495500\n",
      "250 2019-02-25  2019      2   AAPL  174.229996  21873400\n",
      "251 2019-02-26  2019      2   AAPL  174.330002  17006000\n",
      "('BABA', 2018, 2)\n",
      "          Date  Year  Month Symbol   Adj Close    Volume\n",
      "252 2018-02-26  2018      2   BABA  194.190002  19463100\n",
      "253 2018-02-27  2018      2   BABA  188.259995  23218500\n",
      "253 2018-02-27  2018      2   BABA  188.259995  23218500\n",
      "254 2018-02-28  2018      2   BABA  186.139999  19367600\n",
      "('BABA', 2018, 3)\n",
      "          Date  Year  Month Symbol   Adj Close    Volume\n",
      "255 2018-03-01  2018      3   BABA  181.990005  17286300\n",
      "256 2018-03-02  2018      3   BABA  179.759995  18909100\n",
      "274 2018-03-28  2018      3   BABA  178.910004  20081100\n",
      "275 2018-03-29  2018      3   BABA  183.539993  16378900\n",
      "('BABA', 2018, 4)\n",
      "          Date  Year  Month Symbol   Adj Close    Volume\n",
      "276 2018-04-02  2018      4   BABA  177.610001  16028700\n",
      "277 2018-04-03  2018      4   BABA  174.669998  19975100\n",
      "295 2018-04-27  2018      4   BABA  177.160004  15062500\n",
      "296 2018-04-30  2018      4   BABA  178.539993  14654000\n",
      "('BABA', 2018, 5)\n",
      "          Date  Year  Month Symbol   Adj Close    Volume\n",
      "297 2018-05-01  2018      5   BABA  179.500000  10787700\n",
      "298 2018-05-02  2018      5   BABA  181.449997  20681800\n",
      "317 2018-05-30  2018      5   BABA  197.979996  13930600\n",
      "318 2018-05-31  2018      5   BABA  198.009995  17982500\n",
      "('BABA', 2018, 6)\n",
      "          Date  Year  Month Symbol   Adj Close    Volume\n",
      "319 2018-06-01  2018      6   BABA  204.339996  23131900\n",
      "320 2018-06-04  2018      6   BABA  208.949997  19357000\n",
      "338 2018-06-28  2018      6   BABA  188.380005  19553800\n",
      "339 2018-06-29  2018      6   BABA  185.529999  26023400\n",
      "('BABA', 2018, 7)\n",
      "          Date  Year  Month Symbol   Adj Close    Volume\n",
      "340 2018-07-02  2018      7   BABA  186.360001  17325900\n",
      "341 2018-07-03  2018      7   BABA  184.750000  11673700\n",
      "359 2018-07-30  2018      7   BABA  184.820007  19906300\n",
      "360 2018-07-31  2018      7   BABA  187.229996  17016600\n",
      "('BABA', 2018, 8)\n",
      "          Date  Year  Month Symbol   Adj Close    Volume\n",
      "361 2018-08-01  2018      8   BABA  185.270004  14370700\n",
      "362 2018-08-02  2018      8   BABA  182.600006  20976500\n",
      "382 2018-08-30  2018      8   BABA  174.600006  17086200\n",
      "383 2018-08-31  2018      8   BABA  175.009995  13730800\n",
      "('BABA', 2018, 9)\n",
      "          Date  Year  Month Symbol   Adj Close    Volume\n",
      "384 2018-09-04  2018      9   BABA  170.440002  23450500\n",
      "385 2018-09-05  2018      9   BABA  164.229996  35694700\n",
      "401 2018-09-27  2018      9   BABA  166.320007  12689200\n",
      "402 2018-09-28  2018      9   BABA  164.759995  10486500\n",
      "('BABA', 2018, 10)\n",
      "          Date  Year  Month Symbol   Adj Close    Volume\n",
      "403 2018-10-01  2018     10   BABA  162.000000  10615200\n",
      "404 2018-10-02  2018     10   BABA  160.229996  14730500\n",
      "424 2018-10-30  2018     10   BABA  136.330002  25230000\n",
      "425 2018-10-31  2018     10   BABA  142.279999  23654600\n",
      "('BABA', 2018, 11)\n",
      "          Date  Year  Month Symbol   Adj Close    Volume\n",
      "426 2018-11-01  2018     11   BABA  151.250000  47039300\n",
      "427 2018-11-02  2018     11   BABA  147.589996  45985800\n",
      "445 2018-11-29  2018     11   BABA  156.279999  20532200\n",
      "446 2018-11-30  2018     11   BABA  160.860001  35071200\n",
      "('BABA', 2018, 12)\n",
      "          Date  Year  Month Symbol   Adj Close    Volume\n",
      "447 2018-12-03  2018     12   BABA  163.740005  31174000\n",
      "448 2018-12-04  2018     12   BABA  158.339996  22198600\n",
      "464 2018-12-28  2018     12   BABA  139.089996  11955300\n",
      "465 2018-12-31  2018     12   BABA  137.070007  11186400\n",
      "('BABA', 2019, 1)\n",
      "          Date  Year  Month Symbol   Adj Close    Volume\n",
      "466 2019-01-02  2019      1   BABA  136.699997  16708400\n",
      "467 2019-01-03  2019      1   BABA  130.600006  19531300\n",
      "485 2019-01-30  2019      1   BABA  166.820007  36997700\n",
      "486 2019-01-31  2019      1   BABA  168.490005  21219500\n",
      "('BABA', 2019, 2)\n",
      "          Date  Year  Month Symbol   Adj Close    Volume\n",
      "487 2019-02-01  2019      2   BABA  167.970001  10771500\n",
      "488 2019-02-04  2019      2   BABA  166.699997   7380400\n",
      "502 2019-02-25  2019      2   BABA  183.250000  22831800\n",
      "503 2019-02-26  2019      2   BABA  183.539993  13857900\n",
      "('FB', 2018, 2)\n",
      "          Date  Year  Month Symbol   Adj Close    Volume\n",
      "756 2018-02-26  2018      2     FB  184.929993  17599700\n",
      "757 2018-02-27  2018      2     FB  181.460007  15849800\n",
      "757 2018-02-27  2018      2     FB  181.460007  15849800\n",
      "758 2018-02-28  2018      2     FB  178.320007  18783000\n",
      "('FB', 2018, 3)\n",
      "          Date  Year  Month Symbol   Adj Close    Volume\n",
      "759 2018-03-01  2018      3     FB  175.940002  23201600\n",
      "760 2018-03-02  2018      3     FB  176.619995  20025900\n",
      "778 2018-03-28  2018      3     FB  153.029999  60029200\n",
      "779 2018-03-29  2018      3     FB  159.789993  59434300\n",
      "('FB', 2018, 4)\n",
      "          Date  Year  Month Symbol   Adj Close    Volume\n",
      "780 2018-04-02  2018      4     FB  155.389999  36796000\n",
      "781 2018-04-03  2018      4     FB  156.110001  42543900\n",
      "799 2018-04-27  2018      4     FB  173.589996  29804700\n",
      "800 2018-04-30  2018      4     FB  172.000000  20750500\n",
      "('FB', 2018, 5)\n",
      "          Date  Year  Month Symbol   Adj Close    Volume\n",
      "801 2018-05-01  2018      5     FB  173.860001  26025900\n",
      "802 2018-05-02  2018      5     FB  176.070007  30424500\n",
      "821 2018-05-30  2018      5     FB  187.669998  13736900\n",
      "822 2018-05-31  2018      5     FB  191.779999  30782600\n",
      "('FB', 2018, 6)\n",
      "          Date  Year  Month Symbol   Adj Close    Volume\n",
      "823 2018-06-01  2018      6     FB  193.990005  17307200\n",
      "824 2018-06-04  2018      6     FB  193.279999  18939800\n",
      "842 2018-06-28  2018      6     FB  196.229996  18172400\n",
      "843 2018-06-29  2018      6     FB  194.320007  15811600\n",
      "('FB', 2018, 7)\n",
      "          Date  Year  Month Symbol   Adj Close    Volume\n",
      "844 2018-07-02  2018      7     FB  197.360001  13961600\n",
      "845 2018-07-03  2018      7     FB  192.729996  13489500\n",
      "863 2018-07-30  2018      7     FB  171.059998  65280800\n",
      "864 2018-07-31  2018      7     FB  172.580002  40356500\n",
      "('FB', 2018, 8)\n",
      "          Date  Year  Month Symbol   Adj Close    Volume\n",
      "865 2018-08-01  2018      8     FB  171.649994  34042100\n",
      "866 2018-08-02  2018      8     FB  176.369995  32400000\n",
      "886 2018-08-30  2018      8     FB  177.639999  24216500\n",
      "887 2018-08-31  2018      8     FB  175.729996  18065200\n",
      "('FB', 2018, 9)\n",
      "          Date  Year  Month Symbol   Adj Close    Volume\n",
      "888 2018-09-04  2018      9     FB  171.160004  29809000\n",
      "889 2018-09-05  2018      9     FB  167.179993  31226700\n",
      "905 2018-09-27  2018      9     FB  168.839996  27266900\n",
      "906 2018-09-28  2018      9     FB  164.460007  34265600\n",
      "('FB', 2018, 10)\n",
      "          Date  Year  Month Symbol   Adj Close    Volume\n",
      "907 2018-10-01  2018     10     FB  162.440002  26407700\n",
      "908 2018-10-02  2018     10     FB  159.330002  36031000\n",
      "928 2018-10-30  2018     10     FB  146.220001  50528300\n",
      "929 2018-10-31  2018     10     FB  151.789993  60101300\n",
      "('FB', 2018, 11)\n",
      "          Date  Year  Month Symbol   Adj Close    Volume\n",
      "930 2018-11-01  2018     11     FB  151.750000  25640800\n",
      "931 2018-11-02  2018     11     FB  150.350006  24708700\n",
      "949 2018-11-29  2018     11     FB  138.679993  24238700\n",
      "950 2018-11-30  2018     11     FB  140.610001  25732600\n",
      "('FB', 2018, 12)\n",
      "          Date  Year  Month Symbol   Adj Close    Volume\n",
      "951 2018-12-03  2018     12     FB  141.089996  24819200\n",
      "952 2018-12-04  2018     12     FB  137.929993  30307400\n",
      "968 2018-12-28  2018     12     FB  133.199997  22627600\n",
      "969 2018-12-31  2018     12     FB  131.089996  24625300\n",
      "('FB', 2019, 1)\n",
      "          Date  Year  Month Symbol   Adj Close    Volume\n",
      "970 2019-01-02  2019      1     FB  135.679993  28146200\n",
      "971 2019-01-03  2019      1     FB  131.740005  22717900\n",
      "989 2019-01-30  2019      1     FB  150.419998  44613200\n",
      "990 2019-01-31  2019      1     FB  166.690002  77233600\n",
      "('FB', 2019, 2)\n",
      "           Date  Year  Month Symbol   Adj Close    Volume\n",
      "991  2019-02-01  2019      2     FB  165.710007  30806500\n",
      "992  2019-02-04  2019      2     FB  169.250000  20036000\n",
      "1006 2019-02-25  2019      2     FB  164.619995  18737100\n",
      "1007 2019-02-26  2019      2     FB  164.130005  13645200\n",
      "('GS', 2018, 2)\n",
      "           Date  Year  Month Symbol   Adj Close   Volume\n",
      "1008 2018-02-26  2018      2     GS  267.574249  2751400\n",
      "1009 2018-02-27  2018      2     GS  264.289459  3140600\n",
      "1009 2018-02-27  2018      2     GS  264.289459  3140600\n",
      "1010 2018-02-28  2018      2     GS  260.085419  3104300\n",
      "('GS', 2018, 3)\n",
      "           Date  Year  Month Symbol   Adj Close   Volume\n",
      "1011 2018-03-01  2018      3     GS  254.001984  3483500\n",
      "1012 2018-03-02  2018      3     GS  255.327515  3122800\n",
      "1030 2018-03-28  2018      3     GS  246.672150  2660200\n",
      "1031 2018-03-29  2018      3     GS  249.135208  3073900\n",
      "('GS', 2018, 4)\n",
      "           Date  Year  Month Symbol   Adj Close   Volume\n",
      "1032 2018-04-02  2018      4     GS  244.674026  3429900\n",
      "1033 2018-04-03  2018      4     GS  247.869064  2488200\n",
      "1051 2018-04-27  2018      4     GS  237.205688  2136800\n",
      "1052 2018-04-30  2018      4     GS  235.751602  2790500\n",
      "('GS', 2018, 5)\n",
      "           Date  Year  Month Symbol   Adj Close   Volume\n",
      "1053 2018-05-01  2018      5     GS  234.109558  3269800\n",
      "1054 2018-05-02  2018      5     GS  231.517899  3710900\n",
      "1073 2018-05-30  2018      5     GS  227.482391  3348600\n",
      "1074 2018-05-31  2018      5     GS  224.226410  5334900\n",
      "('GS', 2018, 6)\n",
      "           Date  Year  Month Symbol   Adj Close   Volume\n",
      "1075 2018-06-01  2018      6     GS  226.678329  3330900\n",
      "1076 2018-06-04  2018      6     GS  228.207062  2133600\n",
      "1094 2018-06-28  2018      6     GS  221.784424  3072600\n",
      "1095 2018-06-29  2018      6     GS  218.955292  3393700\n",
      "('GS', 2018, 7)\n",
      "           Date  Year  Month Symbol   Adj Close   Volume\n",
      "1096 2018-07-02  2018      7     GS  221.625580  1723200\n",
      "1097 2018-07-03  2018      7     GS  218.766663  1204400\n",
      "1115 2018-07-30  2018      7     GS  237.200729  2454100\n",
      "1116 2018-07-31  2018      7     GS  235.691849  2503700\n",
      "('GS', 2018, 8)\n",
      "           Date  Year  Month Symbol   Adj Close   Volume\n",
      "1117 2018-08-01  2018      8     GS  234.312027  2510500\n",
      "1118 2018-08-02  2018      8     GS  232.277039  2579700\n",
      "1138 2018-08-30  2018      8     GS  238.434433  1963700\n",
      "1139 2018-08-31  2018      8     GS  236.850845  1965500\n",
      "('GS', 2018, 9)\n",
      "           Date  Year  Month Symbol   Adj Close   Volume\n",
      "1140 2018-09-04  2018      9     GS  236.701462  2083500\n",
      "1141 2018-09-05  2018      9     GS  236.601852  2092000\n",
      "1157 2018-09-27  2018      9     GS  226.821472  2451500\n"
     ]
    },
    {
     "name": "stdout",
     "output_type": "stream",
     "text": [
      "1158 2018-09-28  2018      9     GS  223.335587  3097800\n",
      "('GS', 2018, 10)\n",
      "           Date  Year  Month Symbol   Adj Close   Volume\n",
      "1159 2018-10-01  2018     10     GS  224.421188  2451300\n",
      "1160 2018-10-02  2018     10     GS  225.158203  2272700\n",
      "1180 2018-10-30  2018     10     GS  218.395584  3897400\n",
      "1181 2018-10-31  2018     10     GS  224.461014  4369600\n",
      "('GS', 2018, 11)\n",
      "           Date  Year  Month Symbol   Adj Close   Volume\n",
      "1182 2018-11-01  2018     11     GS  226.054565  2557600\n",
      "1183 2018-11-02  2018     11     GS  228.763596  3699000\n",
      "1201 2018-11-29  2018     11     GS  194.850006  2665700\n",
      "1202 2018-11-30  2018     11     GS  190.690002  6220000\n",
      "('GS', 2018, 12)\n",
      "           Date  Year  Month Symbol   Adj Close   Volume\n",
      "1203 2018-12-03  2018     12     GS  191.630005  4017000\n",
      "1204 2018-12-04  2018     12     GS  184.309998  5797500\n",
      "1220 2018-12-28  2018     12     GS  163.029999  4110500\n",
      "1221 2018-12-31  2018     12     GS  167.050003  4550000\n",
      "('GS', 2019, 1)\n",
      "           Date  Year  Month Symbol   Adj Close   Volume\n",
      "1222 2019-01-02  2019      1     GS  172.029999  3999400\n",
      "1223 2019-01-03  2019      1     GS  169.509995  4060200\n",
      "1241 2019-01-30  2019      1     GS  202.479996  2773300\n",
      "1242 2019-01-31  2019      1     GS  198.009995  5604500\n",
      "('GS', 2019, 2)\n",
      "           Date  Year  Month Symbol   Adj Close   Volume\n",
      "1243 2019-02-01  2019      2     GS  196.539993  3174200\n",
      "1244 2019-02-04  2019      2     GS  197.720001  2400200\n",
      "1258 2019-02-25  2019      2     GS  198.649994  3032200\n",
      "1259 2019-02-26  2019      2     GS  198.899994  2498000\n",
      "('JD', 2018, 2)\n",
      "          Date  Year  Month Symbol  Adj Close    Volume\n",
      "504 2018-02-26  2018      2     JD  48.799999   9126900\n",
      "505 2018-02-27  2018      2     JD  47.040001  12688600\n",
      "505 2018-02-27  2018      2     JD  47.040001  12688600\n",
      "506 2018-02-28  2018      2     JD  47.150002  12227800\n",
      "('JD', 2018, 3)\n",
      "          Date  Year  Month Symbol  Adj Close    Volume\n",
      "507 2018-03-01  2018      3     JD  46.209999  15883200\n",
      "508 2018-03-02  2018      3     JD  43.799999  34897000\n",
      "526 2018-03-28  2018      3     JD  40.009998  21590700\n",
      "527 2018-03-29  2018      3     JD  40.490002  11619600\n",
      "('JD', 2018, 4)\n",
      "          Date  Year  Month Symbol  Adj Close    Volume\n",
      "528 2018-04-02  2018      4     JD  39.080002  14019000\n",
      "529 2018-04-03  2018      4     JD  38.980000   9496700\n",
      "547 2018-04-27  2018      4     JD  36.759998   8360300\n",
      "548 2018-04-30  2018      4     JD  36.509998   8537900\n",
      "('JD', 2018, 5)\n",
      "          Date  Year  Month Symbol  Adj Close    Volume\n",
      "549 2018-05-01  2018      5     JD  37.470001  10001100\n",
      "550 2018-05-02  2018      5     JD  37.080002   8285200\n",
      "569 2018-05-30  2018      5     JD  35.799999  10801600\n",
      "570 2018-05-31  2018      5     JD  35.180000  20143500\n",
      "('JD', 2018, 6)\n",
      "          Date  Year  Month Symbol  Adj Close    Volume\n",
      "571 2018-06-01  2018      6     JD  36.090000  12420400\n",
      "572 2018-06-04  2018      6     JD  38.160000  20428800\n",
      "590 2018-06-28  2018      6     JD  38.930000   9852700\n",
      "591 2018-06-29  2018      6     JD  38.950001  10243900\n",
      "('JD', 2018, 7)\n",
      "          Date  Year  Month Symbol  Adj Close    Volume\n",
      "592 2018-07-02  2018      7     JD  38.790001  12932300\n",
      "593 2018-07-03  2018      7     JD  38.380001   5953300\n",
      "611 2018-07-30  2018      7     JD  35.160000  13689200\n",
      "612 2018-07-31  2018      7     JD  35.860001  14307800\n",
      "('JD', 2018, 8)\n",
      "          Date  Year  Month Symbol  Adj Close    Volume\n",
      "613 2018-08-01  2018      8     JD  36.279999  13061300\n",
      "614 2018-08-02  2018      8     JD  36.290001  12221600\n",
      "634 2018-08-30  2018      8     JD  31.000000  15360700\n",
      "635 2018-08-31  2018      8     JD  31.299999  10738200\n",
      "('JD', 2018, 9)\n",
      "          Date  Year  Month Symbol  Adj Close    Volume\n",
      "636 2018-09-04  2018      9     JD  29.430000  47842200\n",
      "637 2018-09-05  2018      9     JD  26.299999  82488000\n",
      "653 2018-09-27  2018      9     JD  25.430000  15062000\n",
      "654 2018-09-28  2018      9     JD  26.090000  13787600\n",
      "('JD', 2018, 10)\n",
      "          Date  Year  Month Symbol  Adj Close    Volume\n",
      "655 2018-10-01  2018     10     JD  25.490000  11217300\n",
      "656 2018-10-02  2018     10     JD  24.900000  14443500\n",
      "676 2018-10-30  2018     10     JD  22.379999  12069100\n",
      "677 2018-10-31  2018     10     JD  23.520000  19094100\n",
      "('JD', 2018, 11)\n",
      "          Date  Year  Month Symbol  Adj Close    Volume\n",
      "678 2018-11-01  2018     11     JD  25.450001  25744000\n",
      "679 2018-11-02  2018     11     JD  24.049999  26777600\n",
      "697 2018-11-29  2018     11     JD  20.969999  13441400\n",
      "698 2018-11-30  2018     11     JD  21.230000  10591200\n",
      "('JD', 2018, 12)\n",
      "          Date  Year  Month Symbol  Adj Close    Volume\n",
      "699 2018-12-03  2018     12     JD  22.010000  19812700\n",
      "700 2018-12-04  2018     12     JD  21.450001  18051400\n",
      "716 2018-12-28  2018     12     JD  21.709999  16648300\n",
      "717 2018-12-31  2018     12     JD  20.930000  19422400\n",
      "('JD', 2019, 1)\n",
      "          Date  Year  Month Symbol  Adj Close    Volume\n",
      "718 2019-01-02  2019      1     JD  21.270000  15840000\n",
      "719 2019-01-03  2019      1     JD  20.350000  18608000\n",
      "737 2019-01-30  2019      1     JD  24.639999  19832300\n",
      "738 2019-01-31  2019      1     JD  24.850000  19318400\n",
      "('JD', 2019, 2)\n",
      "          Date  Year  Month Symbol  Adj Close    Volume\n",
      "739 2019-02-01  2019      2     JD  24.629999  11938200\n",
      "740 2019-02-04  2019      2     JD  24.290001   9054300\n",
      "754 2019-02-25  2019      2     JD  26.190001  29338500\n",
      "755 2019-02-26  2019      2     JD  26.590000  20264100\n"
     ]
    }
   ],
   "source": [
    "grp2 = data1.groupby(['Symbol', 'Year', 'Month'])\n",
    "print_groups(grp2)"
   ]
  },
  {
   "cell_type": "markdown",
   "metadata": {
    "source_collapsed": false
   },
   "source": [
    "从上面结果可看出在每组左上方，有一个 `(Symbol, Year, Month)` 元组型的标识：\n",
    "\n",
    "- 第一组：`('AAPL', 2018, 2)`\n",
    "- 最后一组：`('JD', 2019, 2)`\n",
    "\n",
    "\n",
    "### 按层数分组\n",
    "\n",
    "首先用 `set_index()` 函数重设索引。"
   ]
  },
  {
   "cell_type": "code",
   "execution_count": 10,
   "metadata": {
    "source_collapsed": false
   },
   "outputs": [
    {
     "data": {
      "text/html": [
       "<div>\n",
       "<style scoped>\n",
       "    .dataframe tbody tr th:only-of-type {\n",
       "        vertical-align: middle;\n",
       "    }\n",
       "\n",
       "    .dataframe tbody tr th {\n",
       "        vertical-align: top;\n",
       "    }\n",
       "\n",
       "    .dataframe thead th {\n",
       "        text-align: right;\n",
       "    }\n",
       "</style>\n",
       "<table border=\"1\" class=\"dataframe\">\n",
       "  <thead>\n",
       "    <tr style=\"text-align: right;\">\n",
       "      <th></th>\n",
       "      <th></th>\n",
       "      <th></th>\n",
       "      <th>Date</th>\n",
       "      <th>Adj Close</th>\n",
       "      <th>Volume</th>\n",
       "    </tr>\n",
       "    <tr>\n",
       "      <th>Symbol</th>\n",
       "      <th>Year</th>\n",
       "      <th>Month</th>\n",
       "      <th></th>\n",
       "      <th></th>\n",
       "      <th></th>\n",
       "    </tr>\n",
       "  </thead>\n",
       "  <tbody>\n",
       "    <tr>\n",
       "      <th rowspan=\"5\" valign=\"top\">AAPL</th>\n",
       "      <th rowspan=\"5\" valign=\"top\">2018</th>\n",
       "      <th>2</th>\n",
       "      <td>2018-02-26</td>\n",
       "      <td>176.285675</td>\n",
       "      <td>38162200</td>\n",
       "    </tr>\n",
       "    <tr>\n",
       "      <th>2</th>\n",
       "      <td>2018-02-27</td>\n",
       "      <td>175.714386</td>\n",
       "      <td>38928100</td>\n",
       "    </tr>\n",
       "    <tr>\n",
       "      <th>2</th>\n",
       "      <td>2018-02-28</td>\n",
       "      <td>175.448410</td>\n",
       "      <td>37782100</td>\n",
       "    </tr>\n",
       "    <tr>\n",
       "      <th>3</th>\n",
       "      <td>2018-03-01</td>\n",
       "      <td>172.375214</td>\n",
       "      <td>48802000</td>\n",
       "    </tr>\n",
       "    <tr>\n",
       "      <th>3</th>\n",
       "      <td>2018-03-02</td>\n",
       "      <td>173.567078</td>\n",
       "      <td>38454000</td>\n",
       "    </tr>\n",
       "    <tr>\n",
       "      <th rowspan=\"5\" valign=\"top\">GS</th>\n",
       "      <th rowspan=\"5\" valign=\"top\">2019</th>\n",
       "      <th>2</th>\n",
       "      <td>2019-02-20</td>\n",
       "      <td>198.600006</td>\n",
       "      <td>2266000</td>\n",
       "    </tr>\n",
       "    <tr>\n",
       "      <th>2</th>\n",
       "      <td>2019-02-21</td>\n",
       "      <td>196.360001</td>\n",
       "      <td>2785900</td>\n",
       "    </tr>\n",
       "    <tr>\n",
       "      <th>2</th>\n",
       "      <td>2019-02-22</td>\n",
       "      <td>196.000000</td>\n",
       "      <td>2626600</td>\n",
       "    </tr>\n",
       "    <tr>\n",
       "      <th>2</th>\n",
       "      <td>2019-02-25</td>\n",
       "      <td>198.649994</td>\n",
       "      <td>3032200</td>\n",
       "    </tr>\n",
       "    <tr>\n",
       "      <th>2</th>\n",
       "      <td>2019-02-26</td>\n",
       "      <td>198.899994</td>\n",
       "      <td>2498000</td>\n",
       "    </tr>\n",
       "  </tbody>\n",
       "</table>\n",
       "</div>"
      ],
      "text/plain": [
       "                        Date   Adj Close    Volume\n",
       "Symbol Year Month                                 \n",
       "AAPL   2018 2     2018-02-26  176.285675  38162200\n",
       "            2     2018-02-27  175.714386  38928100\n",
       "            2     2018-02-28  175.448410  37782100\n",
       "            3     2018-03-01  172.375214  48802000\n",
       "            3     2018-03-02  173.567078  38454000\n",
       "GS     2019 2     2019-02-20  198.600006   2266000\n",
       "            2     2019-02-21  196.360001   2785900\n",
       "            2     2019-02-22  196.000000   2626600\n",
       "            2     2019-02-25  198.649994   3032200\n",
       "            2     2019-02-26  198.899994   2498000"
      ]
     },
     "execution_count": 10,
     "metadata": {},
     "output_type": "execute_result"
    }
   ],
   "source": [
    "data2 = data1.set_index(['Symbol', 'Year', 'Month'])\n",
    "data2.head().append(data2.tail())"
   ]
  },
  {
   "cell_type": "markdown",
   "metadata": {
    "source_collapsed": false
   },
   "source": [
    "这时 `data2` 有三层索引，按照层数分组设置 level = 1，即按第一层标签 Year 来分组 (注意下面每组左上方的标识是 Year)。"
   ]
  },
  {
   "cell_type": "code",
   "execution_count": 11,
   "metadata": {
    "source_collapsed": false
   },
   "outputs": [
    {
     "name": "stdout",
     "output_type": "stream",
     "text": [
      "2018\n",
      "                        Date   Adj Close    Volume\n",
      "Symbol Year Month                                 \n",
      "AAPL   2018 2     2018-02-26  176.285675  38162200\n",
      "            2     2018-02-27  175.714386  38928100\n",
      "GS     2018 12    2018-12-28  163.029999   4110500\n",
      "            12    2018-12-31  167.050003   4550000\n",
      "2019\n",
      "                        Date   Adj Close    Volume\n",
      "Symbol Year Month                                 \n",
      "AAPL   2019 1     2019-01-02  157.245605  37039700\n",
      "            1     2019-01-03  141.582779  91312200\n",
      "GS     2019 2     2019-02-25  198.649994   3032200\n",
      "            2     2019-02-26  198.899994   2498000\n"
     ]
    }
   ],
   "source": [
    "grp3 = data2.groupby(level=1)\n",
    "print_groups(grp3)"
   ]
  },
  {
   "cell_type": "markdown",
   "metadata": {
    "source_collapsed": false
   },
   "source": [
    "此外，还可以设置多个层数来分组，比如设置 level = [0,2] 就是按第零层和第二层标签 (Symbol, Month) 进行分组 (注意下面每组左上方的标识是 (Symbol, Month))。"
   ]
  },
  {
   "cell_type": "code",
   "execution_count": 12,
   "metadata": {
    "source_collapsed": false
   },
   "outputs": [
    {
     "name": "stdout",
     "output_type": "stream",
     "text": [
      "('AAPL', 1)\n",
      "                        Date   Adj Close    Volume\n",
      "Symbol Year Month                                 \n",
      "AAPL   2019 1     2019-01-02  157.245605  37039700\n",
      "            1     2019-01-03  141.582779  91312200\n",
      "            1     2019-01-30  164.544296  61109800\n",
      "            1     2019-01-31  165.729218  40739600\n",
      "('AAPL', 2)\n",
      "                        Date   Adj Close    Volume\n",
      "Symbol Year Month                                 \n",
      "AAPL   2018 2     2018-02-26  176.285675  38162200\n",
      "            2     2018-02-27  175.714386  38928100\n",
      "       2019 2     2019-02-25  174.229996  21873400\n",
      "            2     2019-02-26  174.330002  17006000\n",
      "('AAPL', 3)\n",
      "                        Date   Adj Close    Volume\n",
      "Symbol Year Month                                 \n",
      "AAPL   2018 3     2018-03-01  172.375214  48802000\n",
      "            3     2018-03-02  173.567078  38454000\n",
      "            3     2018-03-28  163.983002  41668500\n",
      "            3     2018-03-29  165.263504  38398500\n",
      "('AAPL', 4)\n",
      "                        Date   Adj Close    Volume\n",
      "Symbol Year Month                                 \n",
      "AAPL   2018 4     2018-04-02  164.180008  37586800\n",
      "            4     2018-04-03  165.864349  30278000\n",
      "            4     2018-04-27  159.885406  35655800\n",
      "            4     2018-04-30  162.781296  42427400\n",
      "('AAPL', 5)\n",
      "                        Date   Adj Close    Volume\n",
      "Symbol Year Month                                 \n",
      "AAPL   2018 5     2018-05-01  166.563705  53569400\n",
      "            5     2018-05-02  173.921677  66539400\n",
      "            5     2018-05-30  185.399887  18690500\n",
      "            5     2018-05-31  184.776947  27482800\n",
      "('AAPL', 6)\n",
      "                        Date   Adj Close    Volume\n",
      "Symbol Year Month                                 \n",
      "AAPL   2018 6     2018-06-01  188.109222  23442500\n",
      "            6     2018-06-04  189.681396  26266200\n",
      "            6     2018-06-28  183.422302  17365200\n",
      "            6     2018-06-29  183.036682  22737700\n",
      "('AAPL', 7)\n",
      "                        Date   Adj Close    Volume\n",
      "Symbol Year Month                                 \n",
      "AAPL   2018 7     2018-07-02  185.083466  17731300\n",
      "            7     2018-07-03  181.859985  13954800\n",
      "            7     2018-07-30  187.782913  21029500\n",
      "            7     2018-07-31  188.158646  39373000\n",
      "('AAPL', 8)\n",
      "                        Date   Adj Close    Volume\n",
      "Symbol Year Month                                 \n",
      "AAPL   2018 8     2018-08-01  199.243088  67935700\n",
      "            8     2018-08-02  205.067123  62404000\n",
      "            8     2018-08-30  223.289917  48793800\n",
      "            8     2018-08-31  225.869812  43340100\n",
      "('AAPL', 9)\n",
      "                        Date   Adj Close    Volume\n",
      "Symbol Year Month                                 \n",
      "AAPL   2018 9     2018-09-04  226.594162  27390100\n",
      "            9     2018-09-05  225.115677  33333000\n",
      "            9     2018-09-27  223.210526  30181200\n",
      "            9     2018-09-28  223.994431  22929400\n",
      "('AAPL', 10)\n",
      "                        Date   Adj Close    Volume\n",
      "Symbol Year Month                                 \n",
      "AAPL   2018 10    2018-10-01  225.502670  23600800\n",
      "            10    2018-10-02  227.507050  24788200\n",
      "            10    2018-10-30  211.650620  36660000\n",
      "            10    2018-10-31  217.167618  38358900\n",
      "('AAPL', 11)\n",
      "                        Date   Adj Close    Volume\n",
      "Symbol Year Month                                 \n",
      "AAPL   2018 11    2018-11-01  220.501633  58323200\n",
      "            11    2018-11-02  205.875610  91328700\n",
      "            11    2018-11-29  178.783234  41770000\n",
      "            11    2018-11-30  177.817383  39531500\n",
      "('AAPL', 12)\n",
      "                        Date   Adj Close    Volume\n",
      "Symbol Year Month                                 \n",
      "AAPL   2018 12    2018-12-03  184.030731  40802500\n",
      "            12    2018-12-04  175.935455  41344300\n",
      "            12    2018-12-28  155.562820  42291400\n",
      "            12    2018-12-31  157.066376  35003500\n",
      "('BABA', 1)\n",
      "                        Date   Adj Close    Volume\n",
      "Symbol Year Month                                 \n",
      "BABA   2019 1     2019-01-02  136.699997  16708400\n",
      "            1     2019-01-03  130.600006  19531300\n",
      "            1     2019-01-30  166.820007  36997700\n",
      "            1     2019-01-31  168.490005  21219500\n",
      "('BABA', 2)\n",
      "                        Date   Adj Close    Volume\n",
      "Symbol Year Month                                 \n",
      "BABA   2018 2     2018-02-26  194.190002  19463100\n",
      "            2     2018-02-27  188.259995  23218500\n",
      "       2019 2     2019-02-25  183.250000  22831800\n",
      "            2     2019-02-26  183.539993  13857900\n",
      "('BABA', 3)\n",
      "                        Date   Adj Close    Volume\n",
      "Symbol Year Month                                 \n",
      "BABA   2018 3     2018-03-01  181.990005  17286300\n",
      "            3     2018-03-02  179.759995  18909100\n",
      "            3     2018-03-28  178.910004  20081100\n",
      "            3     2018-03-29  183.539993  16378900\n",
      "('BABA', 4)\n",
      "                        Date   Adj Close    Volume\n",
      "Symbol Year Month                                 \n",
      "BABA   2018 4     2018-04-02  177.610001  16028700\n",
      "            4     2018-04-03  174.669998  19975100\n",
      "            4     2018-04-27  177.160004  15062500\n",
      "            4     2018-04-30  178.539993  14654000\n",
      "('BABA', 5)\n",
      "                        Date   Adj Close    Volume\n",
      "Symbol Year Month                                 \n",
      "BABA   2018 5     2018-05-01  179.500000  10787700\n",
      "            5     2018-05-02  181.449997  20681800\n",
      "            5     2018-05-30  197.979996  13930600\n",
      "            5     2018-05-31  198.009995  17982500\n",
      "('BABA', 6)\n",
      "                        Date   Adj Close    Volume\n",
      "Symbol Year Month                                 \n",
      "BABA   2018 6     2018-06-01  204.339996  23131900\n",
      "            6     2018-06-04  208.949997  19357000\n",
      "            6     2018-06-28  188.380005  19553800\n",
      "            6     2018-06-29  185.529999  26023400\n",
      "('BABA', 7)\n",
      "                        Date   Adj Close    Volume\n",
      "Symbol Year Month                                 \n",
      "BABA   2018 7     2018-07-02  186.360001  17325900\n",
      "            7     2018-07-03  184.750000  11673700\n",
      "            7     2018-07-30  184.820007  19906300\n",
      "            7     2018-07-31  187.229996  17016600\n",
      "('BABA', 8)\n",
      "                        Date   Adj Close    Volume\n",
      "Symbol Year Month                                 \n",
      "BABA   2018 8     2018-08-01  185.270004  14370700\n",
      "            8     2018-08-02  182.600006  20976500\n",
      "            8     2018-08-30  174.600006  17086200\n",
      "            8     2018-08-31  175.009995  13730800\n",
      "('BABA', 9)\n",
      "                        Date   Adj Close    Volume\n",
      "Symbol Year Month                                 \n",
      "BABA   2018 9     2018-09-04  170.440002  23450500\n",
      "            9     2018-09-05  164.229996  35694700\n",
      "            9     2018-09-27  166.320007  12689200\n",
      "            9     2018-09-28  164.759995  10486500\n",
      "('BABA', 10)\n",
      "                        Date   Adj Close    Volume\n",
      "Symbol Year Month                                 \n",
      "BABA   2018 10    2018-10-01  162.000000  10615200\n",
      "            10    2018-10-02  160.229996  14730500\n",
      "            10    2018-10-30  136.330002  25230000\n",
      "            10    2018-10-31  142.279999  23654600\n",
      "('BABA', 11)\n",
      "                        Date   Adj Close    Volume\n",
      "Symbol Year Month                                 \n",
      "BABA   2018 11    2018-11-01  151.250000  47039300\n",
      "            11    2018-11-02  147.589996  45985800\n",
      "            11    2018-11-29  156.279999  20532200\n",
      "            11    2018-11-30  160.860001  35071200\n",
      "('BABA', 12)\n",
      "                        Date   Adj Close    Volume\n",
      "Symbol Year Month                                 \n",
      "BABA   2018 12    2018-12-03  163.740005  31174000\n",
      "            12    2018-12-04  158.339996  22198600\n",
      "            12    2018-12-28  139.089996  11955300\n",
      "            12    2018-12-31  137.070007  11186400\n",
      "('FB', 1)\n",
      "                        Date   Adj Close    Volume\n",
      "Symbol Year Month                                 \n",
      "FB     2019 1     2019-01-02  135.679993  28146200\n",
      "            1     2019-01-03  131.740005  22717900\n",
      "            1     2019-01-30  150.419998  44613200\n",
      "            1     2019-01-31  166.690002  77233600\n",
      "('FB', 2)\n",
      "                        Date   Adj Close    Volume\n",
      "Symbol Year Month                                 \n",
      "FB     2018 2     2018-02-26  184.929993  17599700\n",
      "            2     2018-02-27  181.460007  15849800\n",
      "       2019 2     2019-02-25  164.619995  18737100\n",
      "            2     2019-02-26  164.130005  13645200\n",
      "('FB', 3)\n",
      "                        Date   Adj Close    Volume\n",
      "Symbol Year Month                                 \n",
      "FB     2018 3     2018-03-01  175.940002  23201600\n",
      "            3     2018-03-02  176.619995  20025900\n",
      "            3     2018-03-28  153.029999  60029200\n",
      "            3     2018-03-29  159.789993  59434300\n",
      "('FB', 4)\n",
      "                        Date   Adj Close    Volume\n",
      "Symbol Year Month                                 \n",
      "FB     2018 4     2018-04-02  155.389999  36796000\n",
      "            4     2018-04-03  156.110001  42543900\n",
      "            4     2018-04-27  173.589996  29804700\n",
      "            4     2018-04-30  172.000000  20750500\n",
      "('FB', 5)\n",
      "                        Date   Adj Close    Volume\n",
      "Symbol Year Month                                 \n",
      "FB     2018 5     2018-05-01  173.860001  26025900\n",
      "            5     2018-05-02  176.070007  30424500\n",
      "            5     2018-05-30  187.669998  13736900\n",
      "            5     2018-05-31  191.779999  30782600\n",
      "('FB', 6)\n",
      "                        Date   Adj Close    Volume\n",
      "Symbol Year Month                                 \n",
      "FB     2018 6     2018-06-01  193.990005  17307200\n",
      "            6     2018-06-04  193.279999  18939800\n",
      "            6     2018-06-28  196.229996  18172400\n",
      "            6     2018-06-29  194.320007  15811600\n",
      "('FB', 7)\n",
      "                        Date   Adj Close    Volume\n",
      "Symbol Year Month                                 \n",
      "FB     2018 7     2018-07-02  197.360001  13961600\n",
      "            7     2018-07-03  192.729996  13489500\n",
      "            7     2018-07-30  171.059998  65280800\n",
      "            7     2018-07-31  172.580002  40356500\n",
      "('FB', 8)\n",
      "                        Date   Adj Close    Volume\n",
      "Symbol Year Month                                 \n",
      "FB     2018 8     2018-08-01  171.649994  34042100\n",
      "            8     2018-08-02  176.369995  32400000\n",
      "            8     2018-08-30  177.639999  24216500\n",
      "            8     2018-08-31  175.729996  18065200\n",
      "('FB', 9)\n",
      "                        Date   Adj Close    Volume\n",
      "Symbol Year Month                                 \n",
      "FB     2018 9     2018-09-04  171.160004  29809000\n",
      "            9     2018-09-05  167.179993  31226700\n",
      "            9     2018-09-27  168.839996  27266900\n",
      "            9     2018-09-28  164.460007  34265600\n",
      "('FB', 10)\n",
      "                        Date   Adj Close    Volume\n",
      "Symbol Year Month                                 \n",
      "FB     2018 10    2018-10-01  162.440002  26407700\n",
      "            10    2018-10-02  159.330002  36031000\n",
      "            10    2018-10-30  146.220001  50528300\n",
      "            10    2018-10-31  151.789993  60101300\n",
      "('FB', 11)\n",
      "                        Date   Adj Close    Volume\n",
      "Symbol Year Month                                 \n",
      "FB     2018 11    2018-11-01  151.750000  25640800\n",
      "            11    2018-11-02  150.350006  24708700\n",
      "            11    2018-11-29  138.679993  24238700\n",
      "            11    2018-11-30  140.610001  25732600\n",
      "('FB', 12)\n",
      "                        Date   Adj Close    Volume\n",
      "Symbol Year Month                                 \n",
      "FB     2018 12    2018-12-03  141.089996  24819200\n",
      "            12    2018-12-04  137.929993  30307400\n",
      "            12    2018-12-28  133.199997  22627600\n",
      "            12    2018-12-31  131.089996  24625300\n",
      "('GS', 1)\n",
      "                        Date   Adj Close   Volume\n",
      "Symbol Year Month                                \n",
      "GS     2019 1     2019-01-02  172.029999  3999400\n",
      "            1     2019-01-03  169.509995  4060200\n",
      "            1     2019-01-30  202.479996  2773300\n",
      "            1     2019-01-31  198.009995  5604500\n",
      "('GS', 2)\n",
      "                        Date   Adj Close   Volume\n",
      "Symbol Year Month                                \n",
      "GS     2018 2     2018-02-26  267.574249  2751400\n",
      "            2     2018-02-27  264.289459  3140600\n",
      "       2019 2     2019-02-25  198.649994  3032200\n",
      "            2     2019-02-26  198.899994  2498000\n",
      "('GS', 3)\n",
      "                        Date   Adj Close   Volume\n",
      "Symbol Year Month                                \n",
      "GS     2018 3     2018-03-01  254.001984  3483500\n",
      "            3     2018-03-02  255.327515  3122800\n",
      "            3     2018-03-28  246.672150  2660200\n",
      "            3     2018-03-29  249.135208  3073900\n",
      "('GS', 4)\n",
      "                        Date   Adj Close   Volume\n",
      "Symbol Year Month                                \n",
      "GS     2018 4     2018-04-02  244.674026  3429900\n",
      "            4     2018-04-03  247.869064  2488200\n",
      "            4     2018-04-27  237.205688  2136800\n",
      "            4     2018-04-30  235.751602  2790500\n",
      "('GS', 5)\n",
      "                        Date   Adj Close   Volume\n",
      "Symbol Year Month                                \n",
      "GS     2018 5     2018-05-01  234.109558  3269800\n",
      "            5     2018-05-02  231.517899  3710900\n",
      "            5     2018-05-30  227.482391  3348600\n",
      "            5     2018-05-31  224.226410  5334900\n",
      "('GS', 6)\n",
      "                        Date   Adj Close   Volume\n",
      "Symbol Year Month                                \n",
      "GS     2018 6     2018-06-01  226.678329  3330900\n",
      "            6     2018-06-04  228.207062  2133600\n",
      "            6     2018-06-28  221.784424  3072600\n",
      "            6     2018-06-29  218.955292  3393700\n",
      "('GS', 7)\n",
      "                        Date   Adj Close   Volume\n",
      "Symbol Year Month                                \n",
      "GS     2018 7     2018-07-02  221.625580  1723200\n",
      "            7     2018-07-03  218.766663  1204400\n",
      "            7     2018-07-30  237.200729  2454100\n"
     ]
    },
    {
     "name": "stdout",
     "output_type": "stream",
     "text": [
      "            7     2018-07-31  235.691849  2503700\n",
      "('GS', 8)\n",
      "                        Date   Adj Close   Volume\n",
      "Symbol Year Month                                \n",
      "GS     2018 8     2018-08-01  234.312027  2510500\n",
      "            8     2018-08-02  232.277039  2579700\n",
      "            8     2018-08-30  238.434433  1963700\n",
      "            8     2018-08-31  236.850845  1965500\n",
      "('GS', 9)\n",
      "                        Date   Adj Close   Volume\n",
      "Symbol Year Month                                \n",
      "GS     2018 9     2018-09-04  236.701462  2083500\n",
      "            9     2018-09-05  236.601852  2092000\n",
      "            9     2018-09-27  226.821472  2451500\n",
      "            9     2018-09-28  223.335587  3097800\n",
      "('GS', 10)\n",
      "                        Date   Adj Close   Volume\n",
      "Symbol Year Month                                \n",
      "GS     2018 10    2018-10-01  224.421188  2451300\n",
      "            10    2018-10-02  225.158203  2272700\n",
      "            10    2018-10-30  218.395584  3897400\n",
      "            10    2018-10-31  224.461014  4369600\n",
      "('GS', 11)\n",
      "                        Date   Adj Close   Volume\n",
      "Symbol Year Month                                \n",
      "GS     2018 11    2018-11-01  226.054565  2557600\n",
      "            11    2018-11-02  228.763596  3699000\n",
      "            11    2018-11-29  194.850006  2665700\n",
      "            11    2018-11-30  190.690002  6220000\n",
      "('GS', 12)\n",
      "                        Date   Adj Close   Volume\n",
      "Symbol Year Month                                \n",
      "GS     2018 12    2018-12-03  191.630005  4017000\n",
      "            12    2018-12-04  184.309998  5797500\n",
      "            12    2018-12-28  163.029999  4110500\n",
      "            12    2018-12-31  167.050003  4550000\n",
      "('JD', 1)\n",
      "                        Date  Adj Close    Volume\n",
      "Symbol Year Month                                \n",
      "JD     2019 1     2019-01-02  21.270000  15840000\n",
      "            1     2019-01-03  20.350000  18608000\n",
      "            1     2019-01-30  24.639999  19832300\n",
      "            1     2019-01-31  24.850000  19318400\n",
      "('JD', 2)\n",
      "                        Date  Adj Close    Volume\n",
      "Symbol Year Month                                \n",
      "JD     2018 2     2018-02-26  48.799999   9126900\n",
      "            2     2018-02-27  47.040001  12688600\n",
      "       2019 2     2019-02-25  26.190001  29338500\n",
      "            2     2019-02-26  26.590000  20264100\n",
      "('JD', 3)\n",
      "                        Date  Adj Close    Volume\n",
      "Symbol Year Month                                \n",
      "JD     2018 3     2018-03-01  46.209999  15883200\n",
      "            3     2018-03-02  43.799999  34897000\n",
      "            3     2018-03-28  40.009998  21590700\n",
      "            3     2018-03-29  40.490002  11619600\n",
      "('JD', 4)\n",
      "                        Date  Adj Close    Volume\n",
      "Symbol Year Month                                \n",
      "JD     2018 4     2018-04-02  39.080002  14019000\n",
      "            4     2018-04-03  38.980000   9496700\n",
      "            4     2018-04-27  36.759998   8360300\n",
      "            4     2018-04-30  36.509998   8537900\n",
      "('JD', 5)\n",
      "                        Date  Adj Close    Volume\n",
      "Symbol Year Month                                \n",
      "JD     2018 5     2018-05-01  37.470001  10001100\n",
      "            5     2018-05-02  37.080002   8285200\n",
      "            5     2018-05-30  35.799999  10801600\n",
      "            5     2018-05-31  35.180000  20143500\n",
      "('JD', 6)\n",
      "                        Date  Adj Close    Volume\n",
      "Symbol Year Month                                \n",
      "JD     2018 6     2018-06-01  36.090000  12420400\n",
      "            6     2018-06-04  38.160000  20428800\n",
      "            6     2018-06-28  38.930000   9852700\n",
      "            6     2018-06-29  38.950001  10243900\n",
      "('JD', 7)\n",
      "                        Date  Adj Close    Volume\n",
      "Symbol Year Month                                \n",
      "JD     2018 7     2018-07-02  38.790001  12932300\n",
      "            7     2018-07-03  38.380001   5953300\n",
      "            7     2018-07-30  35.160000  13689200\n",
      "            7     2018-07-31  35.860001  14307800\n",
      "('JD', 8)\n",
      "                        Date  Adj Close    Volume\n",
      "Symbol Year Month                                \n",
      "JD     2018 8     2018-08-01  36.279999  13061300\n",
      "            8     2018-08-02  36.290001  12221600\n",
      "            8     2018-08-30  31.000000  15360700\n",
      "            8     2018-08-31  31.299999  10738200\n",
      "('JD', 9)\n",
      "                        Date  Adj Close    Volume\n",
      "Symbol Year Month                                \n",
      "JD     2018 9     2018-09-04  29.430000  47842200\n",
      "            9     2018-09-05  26.299999  82488000\n",
      "            9     2018-09-27  25.430000  15062000\n",
      "            9     2018-09-28  26.090000  13787600\n",
      "('JD', 10)\n",
      "                        Date  Adj Close    Volume\n",
      "Symbol Year Month                                \n",
      "JD     2018 10    2018-10-01  25.490000  11217300\n",
      "            10    2018-10-02  24.900000  14443500\n",
      "            10    2018-10-30  22.379999  12069100\n",
      "            10    2018-10-31  23.520000  19094100\n",
      "('JD', 11)\n",
      "                        Date  Adj Close    Volume\n",
      "Symbol Year Month                                \n",
      "JD     2018 11    2018-11-01  25.450001  25744000\n",
      "            11    2018-11-02  24.049999  26777600\n",
      "            11    2018-11-29  20.969999  13441400\n",
      "            11    2018-11-30  21.230000  10591200\n",
      "('JD', 12)\n",
      "                        Date  Adj Close    Volume\n",
      "Symbol Year Month                                \n",
      "JD     2018 12    2018-12-03  22.010000  19812700\n",
      "            12    2018-12-04  21.450001  18051400\n",
      "            12    2018-12-28  21.709999  16648300\n",
      "            12    2018-12-31  20.930000  19422400\n"
     ]
    }
   ],
   "source": [
    "grp4 = data2.groupby(level=[0, 2])\n",
    "print_groups( grp4 )"
   ]
  },
  {
   "cell_type": "markdown",
   "metadata": {
    "source_collapsed": false
   },
   "source": [
    "### <div style=\"text-align: center\"><font color='black' face='微软雅黑'>整合 `agg()`</font></div>\n",
    "\n",
    "最简单的例子就是对上面按 Symbol 分组的 `grp` 求均值，再整合成一个数据帧里。值得注意的是 `mean()` 函数只对数值型变量 (Year, Month, Adj Close, Volume 列下) 有效，对字符串或者分类型变量 (Date 和 Symbol 列下) 无效。"
   ]
  },
  {
   "cell_type": "code",
   "execution_count": 281,
   "metadata": {
    "source_collapsed": false
   },
   "outputs": [
    {
     "data": {
      "text/html": [
       "<div>\n",
       "<style scoped>\n",
       "    .dataframe tbody tr th:only-of-type {\n",
       "        vertical-align: middle;\n",
       "    }\n",
       "\n",
       "    .dataframe tbody tr th {\n",
       "        vertical-align: top;\n",
       "    }\n",
       "\n",
       "    .dataframe thead th {\n",
       "        text-align: right;\n",
       "    }\n",
       "</style>\n",
       "<table border=\"1\" class=\"dataframe\">\n",
       "  <thead>\n",
       "    <tr style=\"text-align: right;\">\n",
       "      <th></th>\n",
       "      <th>Year</th>\n",
       "      <th>Month</th>\n",
       "      <th>Adj Close</th>\n",
       "      <th>Volume</th>\n",
       "    </tr>\n",
       "    <tr>\n",
       "      <th>Symbol</th>\n",
       "      <th></th>\n",
       "      <th></th>\n",
       "      <th></th>\n",
       "      <th></th>\n",
       "    </tr>\n",
       "  </thead>\n",
       "  <tbody>\n",
       "    <tr>\n",
       "      <th>AAPL</th>\n",
       "      <td>2018.150794</td>\n",
       "      <td>6.488095</td>\n",
       "      <td>186.022309</td>\n",
       "      <td>3.297615e+07</td>\n",
       "    </tr>\n",
       "    <tr>\n",
       "      <th>BABA</th>\n",
       "      <td>2018.150794</td>\n",
       "      <td>6.488095</td>\n",
       "      <td>171.780992</td>\n",
       "      <td>1.925213e+07</td>\n",
       "    </tr>\n",
       "    <tr>\n",
       "      <th>FB</th>\n",
       "      <td>2018.150794</td>\n",
       "      <td>6.488095</td>\n",
       "      <td>167.244841</td>\n",
       "      <td>2.693082e+07</td>\n",
       "    </tr>\n",
       "    <tr>\n",
       "      <th>GS</th>\n",
       "      <td>2018.150794</td>\n",
       "      <td>6.488095</td>\n",
       "      <td>221.593412</td>\n",
       "      <td>3.329852e+06</td>\n",
       "    </tr>\n",
       "    <tr>\n",
       "      <th>JD</th>\n",
       "      <td>2018.150794</td>\n",
       "      <td>6.488095</td>\n",
       "      <td>31.340754</td>\n",
       "      <td>1.650348e+07</td>\n",
       "    </tr>\n",
       "  </tbody>\n",
       "</table>\n",
       "</div>"
      ],
      "text/plain": [
       "               Year     Month   Adj Close        Volume\n",
       "Symbol                                                 \n",
       "AAPL    2018.150794  6.488095  186.022309  3.297615e+07\n",
       "BABA    2018.150794  6.488095  171.780992  1.925213e+07\n",
       "FB      2018.150794  6.488095  167.244841  2.693082e+07\n",
       "GS      2018.150794  6.488095  221.593412  3.329852e+06\n",
       "JD      2018.150794  6.488095   31.340754  1.650348e+07"
      ]
     },
     "execution_count": 281,
     "metadata": {},
     "output_type": "execute_result"
    }
   ],
   "source": [
    "grp.mean()"
   ]
  },
  {
   "cell_type": "markdown",
   "metadata": {
    "source_collapsed": false
   },
   "source": [
    "除了上述方法，整合还可以用高阶函数 `agg(func)` 中的函数参数 `func` 作用到「组对象」上。\n",
    "\n",
    "用 `grp4` (上面根据 Symbol, Year, Month 分组得到的) 来举例，对每只股票按月计算价格和交易量均值。"
   ]
  },
  {
   "cell_type": "code",
   "execution_count": 282,
   "metadata": {
    "source_collapsed": false
   },
   "outputs": [
    {
     "data": {
      "text/html": [
       "<div>\n",
       "<style scoped>\n",
       "    .dataframe tbody tr th:only-of-type {\n",
       "        vertical-align: middle;\n",
       "    }\n",
       "\n",
       "    .dataframe tbody tr th {\n",
       "        vertical-align: top;\n",
       "    }\n",
       "\n",
       "    .dataframe thead th {\n",
       "        text-align: right;\n",
       "    }\n",
       "</style>\n",
       "<table border=\"1\" class=\"dataframe\">\n",
       "  <thead>\n",
       "    <tr style=\"text-align: right;\">\n",
       "      <th></th>\n",
       "      <th></th>\n",
       "      <th>Adj Close</th>\n",
       "      <th>Volume</th>\n",
       "    </tr>\n",
       "    <tr>\n",
       "      <th>Symbol</th>\n",
       "      <th>Month</th>\n",
       "      <th></th>\n",
       "      <th></th>\n",
       "    </tr>\n",
       "  </thead>\n",
       "  <tbody>\n",
       "    <tr>\n",
       "      <th rowspan=\"3\" valign=\"top\">AAPL</th>\n",
       "      <th>1</th>\n",
       "      <td>153.507824</td>\n",
       "      <td>3.943273e+07</td>\n",
       "    </tr>\n",
       "    <tr>\n",
       "      <th>2</th>\n",
       "      <td>171.929904</td>\n",
       "      <td>2.656490e+07</td>\n",
       "    </tr>\n",
       "    <tr>\n",
       "      <th>3</th>\n",
       "      <td>171.878962</td>\n",
       "      <td>3.395290e+07</td>\n",
       "    </tr>\n",
       "    <tr>\n",
       "      <th rowspan=\"3\" valign=\"top\">JD</th>\n",
       "      <th>10</th>\n",
       "      <td>23.570435</td>\n",
       "      <td>1.601678e+07</td>\n",
       "    </tr>\n",
       "    <tr>\n",
       "      <th>11</th>\n",
       "      <td>22.139048</td>\n",
       "      <td>1.985150e+07</td>\n",
       "    </tr>\n",
       "    <tr>\n",
       "      <th>12</th>\n",
       "      <td>21.186842</td>\n",
       "      <td>2.072514e+07</td>\n",
       "    </tr>\n",
       "  </tbody>\n",
       "</table>\n",
       "</div>"
      ],
      "text/plain": [
       "               Adj Close        Volume\n",
       "Symbol Month                          \n",
       "AAPL   1      153.507824  3.943273e+07\n",
       "       2      171.929904  2.656490e+07\n",
       "       3      171.878962  3.395290e+07\n",
       "JD     10      23.570435  1.601678e+07\n",
       "       11      22.139048  1.985150e+07\n",
       "       12      21.186842  2.072514e+07"
      ]
     },
     "execution_count": 282,
     "metadata": {},
     "output_type": "execute_result"
    }
   ],
   "source": [
    "result = grp4.agg( np.mean )\n",
    "result.head(3).append(result.tail(3))"
   ]
  },
  {
   "cell_type": "markdown",
   "metadata": {
    "source_collapsed": false
   },
   "source": [
    "在 `agg()` 中设置多个函数参数也是可以的，将它们存储成列表形式传给 `agg()` 即可，对每只股票按月计算价格和交易量均值和标准差。"
   ]
  },
  {
   "cell_type": "code",
   "execution_count": 283,
   "metadata": {
    "source_collapsed": false
   },
   "outputs": [
    {
     "data": {
      "text/html": [
       "<div>\n",
       "<style scoped>\n",
       "    .dataframe tbody tr th:only-of-type {\n",
       "        vertical-align: middle;\n",
       "    }\n",
       "\n",
       "    .dataframe tbody tr th {\n",
       "        vertical-align: top;\n",
       "    }\n",
       "\n",
       "    .dataframe thead tr th {\n",
       "        text-align: left;\n",
       "    }\n",
       "\n",
       "    .dataframe thead tr:last-of-type th {\n",
       "        text-align: right;\n",
       "    }\n",
       "</style>\n",
       "<table border=\"1\" class=\"dataframe\">\n",
       "  <thead>\n",
       "    <tr>\n",
       "      <th></th>\n",
       "      <th></th>\n",
       "      <th colspan=\"2\" halign=\"left\">Adj Close</th>\n",
       "      <th colspan=\"2\" halign=\"left\">Volume</th>\n",
       "    </tr>\n",
       "    <tr>\n",
       "      <th></th>\n",
       "      <th></th>\n",
       "      <th>mean</th>\n",
       "      <th>std</th>\n",
       "      <th>mean</th>\n",
       "      <th>std</th>\n",
       "    </tr>\n",
       "    <tr>\n",
       "      <th>Symbol</th>\n",
       "      <th>Month</th>\n",
       "      <th></th>\n",
       "      <th></th>\n",
       "      <th></th>\n",
       "      <th></th>\n",
       "    </tr>\n",
       "  </thead>\n",
       "  <tbody>\n",
       "    <tr>\n",
       "      <th rowspan=\"3\" valign=\"top\">AAPL</th>\n",
       "      <th>1</th>\n",
       "      <td>153.507824</td>\n",
       "      <td>5.318589</td>\n",
       "      <td>3.943273e+07</td>\n",
       "      <td>1.596707e+07</td>\n",
       "    </tr>\n",
       "    <tr>\n",
       "      <th>2</th>\n",
       "      <td>171.929904</td>\n",
       "      <td>2.544050</td>\n",
       "      <td>2.656490e+07</td>\n",
       "      <td>7.296223e+06</td>\n",
       "    </tr>\n",
       "    <tr>\n",
       "      <th>3</th>\n",
       "      <td>171.878962</td>\n",
       "      <td>4.734514</td>\n",
       "      <td>3.395290e+07</td>\n",
       "      <td>7.514616e+06</td>\n",
       "    </tr>\n",
       "    <tr>\n",
       "      <th rowspan=\"3\" valign=\"top\">JD</th>\n",
       "      <th>10</th>\n",
       "      <td>23.570435</td>\n",
       "      <td>0.984542</td>\n",
       "      <td>1.601678e+07</td>\n",
       "      <td>3.929666e+06</td>\n",
       "    </tr>\n",
       "    <tr>\n",
       "      <th>11</th>\n",
       "      <td>22.139048</td>\n",
       "      <td>1.690337</td>\n",
       "      <td>1.985150e+07</td>\n",
       "      <td>9.302497e+06</td>\n",
       "    </tr>\n",
       "    <tr>\n",
       "      <th>12</th>\n",
       "      <td>21.186842</td>\n",
       "      <td>0.764831</td>\n",
       "      <td>2.072514e+07</td>\n",
       "      <td>8.640047e+06</td>\n",
       "    </tr>\n",
       "  </tbody>\n",
       "</table>\n",
       "</div>"
      ],
      "text/plain": [
       "               Adj Close                  Volume              \n",
       "                    mean       std          mean           std\n",
       "Symbol Month                                                  \n",
       "AAPL   1      153.507824  5.318589  3.943273e+07  1.596707e+07\n",
       "       2      171.929904  2.544050  2.656490e+07  7.296223e+06\n",
       "       3      171.878962  4.734514  3.395290e+07  7.514616e+06\n",
       "JD     10      23.570435  0.984542  1.601678e+07  3.929666e+06\n",
       "       11      22.139048  1.690337  1.985150e+07  9.302497e+06\n",
       "       12      21.186842  0.764831  2.072514e+07  8.640047e+06"
      ]
     },
     "execution_count": 283,
     "metadata": {},
     "output_type": "execute_result"
    }
   ],
   "source": [
    "result = grp4.agg( [np.mean, np.std] )\n",
    "result.head(3).append(result.tail(3))"
   ]
  },
  {
   "cell_type": "markdown",
   "metadata": {},
   "source": [
    "在 `agg()` 中还可对不同列上设置不同函数参数也是可以的，对每只股票按月计算价格均值和标准差，计算交易量的总和。"
   ]
  },
  {
   "cell_type": "code",
   "execution_count": 284,
   "metadata": {},
   "outputs": [
    {
     "data": {
      "text/html": [
       "<div>\n",
       "<style scoped>\n",
       "    .dataframe tbody tr th:only-of-type {\n",
       "        vertical-align: middle;\n",
       "    }\n",
       "\n",
       "    .dataframe tbody tr th {\n",
       "        vertical-align: top;\n",
       "    }\n",
       "\n",
       "    .dataframe thead tr th {\n",
       "        text-align: left;\n",
       "    }\n",
       "\n",
       "    .dataframe thead tr:last-of-type th {\n",
       "        text-align: right;\n",
       "    }\n",
       "</style>\n",
       "<table border=\"1\" class=\"dataframe\">\n",
       "  <thead>\n",
       "    <tr>\n",
       "      <th></th>\n",
       "      <th></th>\n",
       "      <th colspan=\"2\" halign=\"left\">Adj Close</th>\n",
       "      <th>Volume</th>\n",
       "    </tr>\n",
       "    <tr>\n",
       "      <th></th>\n",
       "      <th></th>\n",
       "      <th>mean</th>\n",
       "      <th>std</th>\n",
       "      <th>sum</th>\n",
       "    </tr>\n",
       "    <tr>\n",
       "      <th>Symbol</th>\n",
       "      <th>Month</th>\n",
       "      <th></th>\n",
       "      <th></th>\n",
       "      <th></th>\n",
       "    </tr>\n",
       "  </thead>\n",
       "  <tbody>\n",
       "    <tr>\n",
       "      <th rowspan=\"3\" valign=\"top\">AAPL</th>\n",
       "      <th>1</th>\n",
       "      <td>153.507824</td>\n",
       "      <td>5.318589</td>\n",
       "      <td>828087400</td>\n",
       "    </tr>\n",
       "    <tr>\n",
       "      <th>2</th>\n",
       "      <td>171.929904</td>\n",
       "      <td>2.544050</td>\n",
       "      <td>531298000</td>\n",
       "    </tr>\n",
       "    <tr>\n",
       "      <th>3</th>\n",
       "      <td>171.878962</td>\n",
       "      <td>4.734514</td>\n",
       "      <td>713010900</td>\n",
       "    </tr>\n",
       "    <tr>\n",
       "      <th rowspan=\"3\" valign=\"top\">JD</th>\n",
       "      <th>10</th>\n",
       "      <td>23.570435</td>\n",
       "      <td>0.984542</td>\n",
       "      <td>368386000</td>\n",
       "    </tr>\n",
       "    <tr>\n",
       "      <th>11</th>\n",
       "      <td>22.139048</td>\n",
       "      <td>1.690337</td>\n",
       "      <td>416881500</td>\n",
       "    </tr>\n",
       "    <tr>\n",
       "      <th>12</th>\n",
       "      <td>21.186842</td>\n",
       "      <td>0.764831</td>\n",
       "      <td>393777700</td>\n",
       "    </tr>\n",
       "  </tbody>\n",
       "</table>\n",
       "</div>"
      ],
      "text/plain": [
       "               Adj Close               Volume\n",
       "                    mean       std        sum\n",
       "Symbol Month                                 \n",
       "AAPL   1      153.507824  5.318589  828087400\n",
       "       2      171.929904  2.544050  531298000\n",
       "       3      171.878962  4.734514  713010900\n",
       "JD     10      23.570435  0.984542  368386000\n",
       "       11      22.139048  1.690337  416881500\n",
       "       12      21.186842  0.764831  393777700"
      ]
     },
     "execution_count": 284,
     "metadata": {},
     "output_type": "execute_result"
    }
   ],
   "source": [
    "result = grp4.agg( {'Adj Close': [np.mean, np.std], 'Volume': np.sum} )\n",
    "result.head(3).append(result.tail(3))"
   ]
  },
  {
   "cell_type": "markdown",
   "metadata": {
    "source_collapsed": false
   },
   "source": [
    "高阶函数中的参数可以是内置函数 (`np.mean`)，也可以是普通函数 (用 **`def`** 定义)，还可以是匿名函数 (用 **`lambda`** 定义)。"
   ]
  },
  {
   "cell_type": "code",
   "execution_count": 285,
   "metadata": {
    "source_collapsed": false
   },
   "outputs": [
    {
     "data": {
      "text/html": [
       "<div>\n",
       "<style scoped>\n",
       "    .dataframe tbody tr th:only-of-type {\n",
       "        vertical-align: middle;\n",
       "    }\n",
       "\n",
       "    .dataframe tbody tr th {\n",
       "        vertical-align: top;\n",
       "    }\n",
       "\n",
       "    .dataframe thead th {\n",
       "        text-align: right;\n",
       "    }\n",
       "</style>\n",
       "<table border=\"1\" class=\"dataframe\">\n",
       "  <thead>\n",
       "    <tr style=\"text-align: right;\">\n",
       "      <th></th>\n",
       "      <th>Date</th>\n",
       "      <th>Year</th>\n",
       "      <th>Month</th>\n",
       "      <th>Adj Close</th>\n",
       "      <th>Volume</th>\n",
       "    </tr>\n",
       "    <tr>\n",
       "      <th>Symbol</th>\n",
       "      <th></th>\n",
       "      <th></th>\n",
       "      <th></th>\n",
       "      <th></th>\n",
       "      <th></th>\n",
       "    </tr>\n",
       "  </thead>\n",
       "  <tbody>\n",
       "    <tr>\n",
       "      <th>AAPL</th>\n",
       "      <td>365 days</td>\n",
       "      <td>1</td>\n",
       "      <td>11</td>\n",
       "      <td>88.692703</td>\n",
       "      <td>83732800</td>\n",
       "    </tr>\n",
       "    <tr>\n",
       "      <th>BABA</th>\n",
       "      <td>365 days</td>\n",
       "      <td>1</td>\n",
       "      <td>11</td>\n",
       "      <td>80.259995</td>\n",
       "      <td>71583100</td>\n",
       "    </tr>\n",
       "    <tr>\n",
       "      <th>FB</th>\n",
       "      <td>365 days</td>\n",
       "      <td>1</td>\n",
       "      <td>11</td>\n",
       "      <td>93.440002</td>\n",
       "      <td>158838600</td>\n",
       "    </tr>\n",
       "    <tr>\n",
       "      <th>GS</th>\n",
       "      <td>365 days</td>\n",
       "      <td>1</td>\n",
       "      <td>11</td>\n",
       "      <td>114.072418</td>\n",
       "      <td>13989800</td>\n",
       "    </tr>\n",
       "    <tr>\n",
       "      <th>JD</th>\n",
       "      <td>365 days</td>\n",
       "      <td>1</td>\n",
       "      <td>11</td>\n",
       "      <td>29.529999</td>\n",
       "      <td>77042700</td>\n",
       "    </tr>\n",
       "  </tbody>\n",
       "</table>\n",
       "</div>"
      ],
      "text/plain": [
       "           Date  Year  Month   Adj Close     Volume\n",
       "Symbol                                             \n",
       "AAPL   365 days     1     11   88.692703   83732800\n",
       "BABA   365 days     1     11   80.259995   71583100\n",
       "FB     365 days     1     11   93.440002  158838600\n",
       "GS     365 days     1     11  114.072418   13989800\n",
       "JD     365 days     1     11   29.529999   77042700"
      ]
     },
     "execution_count": 285,
     "metadata": {},
     "output_type": "execute_result"
    }
   ],
   "source": [
    "result = grp.agg( lambda x: np.max(x)-np.min(x) )\n",
    "result"
   ]
  },
  {
   "cell_type": "markdown",
   "metadata": {},
   "source": [
    "在上面代码中的 x 指的是 `grp`，对于 Date, Year, Month 和 Adj Close 列下都可以求「最大值」和「最小值」的差，但是对 Symbol 列下不适用。上面结果真正有价值的信息在 Adj Close 那一栏，即每只股票一年内的最大价差。但不妨来验证一下其他几栏的结果是否合理。\n",
    "\n",
    "- Date: 365 days，合理，取的就是一年数据\n",
    "- Year: 1，合理，数据只包含 2019 年和 2018 年\n",
    "- Month: 11，合理，数据包含了 12 个月"
   ]
  },
  {
   "cell_type": "markdown",
   "metadata": {
    "source_collapsed": false
   },
   "source": [
    "***\n",
    "### <div style=\"text-align: center\"><font color='black' face='微软雅黑'>应用 `Apply()`</font></div>\n",
    "\n",
    "在看具体例子之前，先定义一个 `top()` 函数，返回数据帧 `df` 某一列中 n 个最大值。"
   ]
  },
  {
   "cell_type": "code",
   "execution_count": 286,
   "metadata": {
    "source_collapsed": false
   },
   "outputs": [],
   "source": [
    "def top( df, n=3, column='Volume' ):\n",
    "    return df.sort_values(by=column)[-n:]"
   ]
  },
  {
   "cell_type": "code",
   "execution_count": 287,
   "metadata": {
    "source_collapsed": false
   },
   "outputs": [
    {
     "data": {
      "text/html": [
       "<div>\n",
       "<style scoped>\n",
       "    .dataframe tbody tr th:only-of-type {\n",
       "        vertical-align: middle;\n",
       "    }\n",
       "\n",
       "    .dataframe tbody tr th {\n",
       "        vertical-align: top;\n",
       "    }\n",
       "\n",
       "    .dataframe thead th {\n",
       "        text-align: right;\n",
       "    }\n",
       "</style>\n",
       "<table border=\"1\" class=\"dataframe\">\n",
       "  <thead>\n",
       "    <tr style=\"text-align: right;\">\n",
       "      <th></th>\n",
       "      <th>Date</th>\n",
       "      <th>Year</th>\n",
       "      <th>Month</th>\n",
       "      <th>Symbol</th>\n",
       "      <th>Adj Close</th>\n",
       "      <th>Volume</th>\n",
       "    </tr>\n",
       "  </thead>\n",
       "  <tbody>\n",
       "    <tr>\n",
       "      <th>776</th>\n",
       "      <td>2018-03-26</td>\n",
       "      <td>2018</td>\n",
       "      <td>3</td>\n",
       "      <td>FB</td>\n",
       "      <td>160.059998</td>\n",
       "      <td>126116600</td>\n",
       "    </tr>\n",
       "    <tr>\n",
       "      <th>772</th>\n",
       "      <td>2018-03-20</td>\n",
       "      <td>2018</td>\n",
       "      <td>3</td>\n",
       "      <td>FB</td>\n",
       "      <td>168.149994</td>\n",
       "      <td>129851800</td>\n",
       "    </tr>\n",
       "    <tr>\n",
       "      <th>861</th>\n",
       "      <td>2018-07-26</td>\n",
       "      <td>2018</td>\n",
       "      <td>7</td>\n",
       "      <td>FB</td>\n",
       "      <td>176.259995</td>\n",
       "      <td>169803700</td>\n",
       "    </tr>\n",
       "  </tbody>\n",
       "</table>\n",
       "</div>"
      ],
      "text/plain": [
       "          Date  Year  Month Symbol   Adj Close     Volume\n",
       "776 2018-03-26  2018      3     FB  160.059998  126116600\n",
       "772 2018-03-20  2018      3     FB  168.149994  129851800\n",
       "861 2018-07-26  2018      7     FB  176.259995  169803700"
      ]
     },
     "execution_count": 287,
     "metadata": {},
     "output_type": "execute_result"
    }
   ],
   "source": [
    "top(data1)"
   ]
  },
  {
   "cell_type": "markdown",
   "metadata": {
    "source_collapsed": false
   },
   "source": [
    "从上表可看出，在 Volume 列取最大的 3 个值。\n",
    "\n",
    "在 **split-apply-combine** 三部曲中\n",
    "\n",
    "- 用 `groupby()` 来分组，得到对象 `group_obj`\n",
    "- 用 `apply(func)` 将函数 `func` 应用到每组上，得到中间产出 `group_df`\n",
    "- 若干个 `group_df` 自动连接成最终产出 `combined_df`\n",
    "\n",
    "看下例将 `top()` 函数应用 (apply) 到最原始的数据 (从 csv 中读取出来的) 上，按每个 Symbol 产出 Volume 列下的最大的 3 个值。"
   ]
  },
  {
   "cell_type": "code",
   "execution_count": 288,
   "metadata": {
    "scrolled": true,
    "source_collapsed": false
   },
   "outputs": [
    {
     "data": {
      "text/html": [
       "<div>\n",
       "<style scoped>\n",
       "    .dataframe tbody tr th:only-of-type {\n",
       "        vertical-align: middle;\n",
       "    }\n",
       "\n",
       "    .dataframe tbody tr th {\n",
       "        vertical-align: top;\n",
       "    }\n",
       "\n",
       "    .dataframe thead th {\n",
       "        text-align: right;\n",
       "    }\n",
       "</style>\n",
       "<table border=\"1\" class=\"dataframe\">\n",
       "  <thead>\n",
       "    <tr style=\"text-align: right;\">\n",
       "      <th></th>\n",
       "      <th></th>\n",
       "      <th>Date</th>\n",
       "      <th>Year</th>\n",
       "      <th>Month</th>\n",
       "      <th>Symbol</th>\n",
       "      <th>Adj Close</th>\n",
       "      <th>Volume</th>\n",
       "    </tr>\n",
       "    <tr>\n",
       "      <th>Symbol</th>\n",
       "      <th></th>\n",
       "      <th></th>\n",
       "      <th></th>\n",
       "      <th></th>\n",
       "      <th></th>\n",
       "      <th></th>\n",
       "      <th></th>\n",
       "    </tr>\n",
       "  </thead>\n",
       "  <tbody>\n",
       "    <tr>\n",
       "      <th rowspan=\"3\" valign=\"top\">AAPL</th>\n",
       "      <th>175</th>\n",
       "      <td>2018-11-02</td>\n",
       "      <td>2018</td>\n",
       "      <td>11</td>\n",
       "      <td>AAPL</td>\n",
       "      <td>205.875610</td>\n",
       "      <td>91328700</td>\n",
       "    </tr>\n",
       "    <tr>\n",
       "      <th>208</th>\n",
       "      <td>2018-12-21</td>\n",
       "      <td>2018</td>\n",
       "      <td>12</td>\n",
       "      <td>AAPL</td>\n",
       "      <td>150.086304</td>\n",
       "      <td>95744600</td>\n",
       "    </tr>\n",
       "    <tr>\n",
       "      <th>145</th>\n",
       "      <td>2018-09-21</td>\n",
       "      <td>2018</td>\n",
       "      <td>9</td>\n",
       "      <td>AAPL</td>\n",
       "      <td>215.976913</td>\n",
       "      <td>96246700</td>\n",
       "    </tr>\n",
       "    <tr>\n",
       "      <th rowspan=\"3\" valign=\"top\">BABA</th>\n",
       "      <th>410</th>\n",
       "      <td>2018-10-10</td>\n",
       "      <td>2018</td>\n",
       "      <td>10</td>\n",
       "      <td>BABA</td>\n",
       "      <td>138.289993</td>\n",
       "      <td>55828800</td>\n",
       "    </tr>\n",
       "    <tr>\n",
       "      <th>300</th>\n",
       "      <td>2018-05-04</td>\n",
       "      <td>2018</td>\n",
       "      <td>5</td>\n",
       "      <td>BABA</td>\n",
       "      <td>188.889999</td>\n",
       "      <td>57788300</td>\n",
       "    </tr>\n",
       "    <tr>\n",
       "      <th>377</th>\n",
       "      <td>2018-08-23</td>\n",
       "      <td>2018</td>\n",
       "      <td>8</td>\n",
       "      <td>BABA</td>\n",
       "      <td>172.229996</td>\n",
       "      <td>78843400</td>\n",
       "    </tr>\n",
       "    <tr>\n",
       "      <th rowspan=\"3\" valign=\"top\">FB</th>\n",
       "      <th>776</th>\n",
       "      <td>2018-03-26</td>\n",
       "      <td>2018</td>\n",
       "      <td>3</td>\n",
       "      <td>FB</td>\n",
       "      <td>160.059998</td>\n",
       "      <td>126116600</td>\n",
       "    </tr>\n",
       "    <tr>\n",
       "      <th>772</th>\n",
       "      <td>2018-03-20</td>\n",
       "      <td>2018</td>\n",
       "      <td>3</td>\n",
       "      <td>FB</td>\n",
       "      <td>168.149994</td>\n",
       "      <td>129851800</td>\n",
       "    </tr>\n",
       "    <tr>\n",
       "      <th>861</th>\n",
       "      <td>2018-07-26</td>\n",
       "      <td>2018</td>\n",
       "      <td>7</td>\n",
       "      <td>FB</td>\n",
       "      <td>176.259995</td>\n",
       "      <td>169803700</td>\n",
       "    </tr>\n",
       "    <tr>\n",
       "      <th rowspan=\"3\" valign=\"top\">GS</th>\n",
       "      <th>1043</th>\n",
       "      <td>2018-04-17</td>\n",
       "      <td>2018</td>\n",
       "      <td>4</td>\n",
       "      <td>GS</td>\n",
       "      <td>250.886078</td>\n",
       "      <td>10134400</td>\n",
       "    </tr>\n",
       "    <tr>\n",
       "      <th>1189</th>\n",
       "      <td>2018-11-12</td>\n",
       "      <td>2018</td>\n",
       "      <td>11</td>\n",
       "      <td>GS</td>\n",
       "      <td>205.218948</td>\n",
       "      <td>11019400</td>\n",
       "    </tr>\n",
       "    <tr>\n",
       "      <th>1232</th>\n",
       "      <td>2019-01-16</td>\n",
       "      <td>2019</td>\n",
       "      <td>1</td>\n",
       "      <td>GS</td>\n",
       "      <td>197.080002</td>\n",
       "      <td>15194200</td>\n",
       "    </tr>\n",
       "    <tr>\n",
       "      <th rowspan=\"3\" valign=\"top\">JD</th>\n",
       "      <th>636</th>\n",
       "      <td>2018-09-04</td>\n",
       "      <td>2018</td>\n",
       "      <td>9</td>\n",
       "      <td>JD</td>\n",
       "      <td>29.430000</td>\n",
       "      <td>47842200</td>\n",
       "    </tr>\n",
       "    <tr>\n",
       "      <th>712</th>\n",
       "      <td>2018-12-21</td>\n",
       "      <td>2018</td>\n",
       "      <td>12</td>\n",
       "      <td>JD</td>\n",
       "      <td>21.080000</td>\n",
       "      <td>49686400</td>\n",
       "    </tr>\n",
       "    <tr>\n",
       "      <th>637</th>\n",
       "      <td>2018-09-05</td>\n",
       "      <td>2018</td>\n",
       "      <td>9</td>\n",
       "      <td>JD</td>\n",
       "      <td>26.299999</td>\n",
       "      <td>82488000</td>\n",
       "    </tr>\n",
       "  </tbody>\n",
       "</table>\n",
       "</div>"
      ],
      "text/plain": [
       "                  Date  Year  Month Symbol   Adj Close     Volume\n",
       "Symbol                                                           \n",
       "AAPL   175  2018-11-02  2018     11   AAPL  205.875610   91328700\n",
       "       208  2018-12-21  2018     12   AAPL  150.086304   95744600\n",
       "       145  2018-09-21  2018      9   AAPL  215.976913   96246700\n",
       "BABA   410  2018-10-10  2018     10   BABA  138.289993   55828800\n",
       "       300  2018-05-04  2018      5   BABA  188.889999   57788300\n",
       "       377  2018-08-23  2018      8   BABA  172.229996   78843400\n",
       "FB     776  2018-03-26  2018      3     FB  160.059998  126116600\n",
       "       772  2018-03-20  2018      3     FB  168.149994  129851800\n",
       "       861  2018-07-26  2018      7     FB  176.259995  169803700\n",
       "GS     1043 2018-04-17  2018      4     GS  250.886078   10134400\n",
       "       1189 2018-11-12  2018     11     GS  205.218948   11019400\n",
       "       1232 2019-01-16  2019      1     GS  197.080002   15194200\n",
       "JD     636  2018-09-04  2018      9     JD   29.430000   47842200\n",
       "       712  2018-12-21  2018     12     JD   21.080000   49686400\n",
       "       637  2018-09-05  2018      9     JD   26.299999   82488000"
      ]
     },
     "execution_count": 288,
     "metadata": {},
     "output_type": "execute_result"
    }
   ],
   "source": [
    "data1.groupby('Symbol').apply(top)"
   ]
  },
  {
   "cell_type": "markdown",
   "metadata": {
    "source_collapsed": false
   },
   "source": [
    "上面在使用 `top()` 函数时，没有设定 n 和 column，因此用的默认值 3 和 'Volumn'。如果要用设定的值 n=1, column='Adj Close'，直接："
   ]
  },
  {
   "cell_type": "code",
   "execution_count": 289,
   "metadata": {
    "source_collapsed": false
   },
   "outputs": [
    {
     "data": {
      "text/html": [
       "<div>\n",
       "<style scoped>\n",
       "    .dataframe tbody tr th:only-of-type {\n",
       "        vertical-align: middle;\n",
       "    }\n",
       "\n",
       "    .dataframe tbody tr th {\n",
       "        vertical-align: top;\n",
       "    }\n",
       "\n",
       "    .dataframe thead th {\n",
       "        text-align: right;\n",
       "    }\n",
       "</style>\n",
       "<table border=\"1\" class=\"dataframe\">\n",
       "  <thead>\n",
       "    <tr style=\"text-align: right;\">\n",
       "      <th></th>\n",
       "      <th></th>\n",
       "      <th>Date</th>\n",
       "      <th>Year</th>\n",
       "      <th>Month</th>\n",
       "      <th>Symbol</th>\n",
       "      <th>Adj Close</th>\n",
       "      <th>Volume</th>\n",
       "    </tr>\n",
       "    <tr>\n",
       "      <th>Symbol</th>\n",
       "      <th></th>\n",
       "      <th></th>\n",
       "      <th></th>\n",
       "      <th></th>\n",
       "      <th></th>\n",
       "      <th></th>\n",
       "      <th></th>\n",
       "    </tr>\n",
       "  </thead>\n",
       "  <tbody>\n",
       "    <tr>\n",
       "      <th>AAPL</th>\n",
       "      <th>153</th>\n",
       "      <td>2018-10-03</td>\n",
       "      <td>2018</td>\n",
       "      <td>10</td>\n",
       "      <td>AAPL</td>\n",
       "      <td>230.275482</td>\n",
       "      <td>28654800</td>\n",
       "    </tr>\n",
       "    <tr>\n",
       "      <th>BABA</th>\n",
       "      <th>328</th>\n",
       "      <td>2018-06-14</td>\n",
       "      <td>2018</td>\n",
       "      <td>6</td>\n",
       "      <td>BABA</td>\n",
       "      <td>210.860001</td>\n",
       "      <td>18838300</td>\n",
       "    </tr>\n",
       "    <tr>\n",
       "      <th>FB</th>\n",
       "      <th>860</th>\n",
       "      <td>2018-07-25</td>\n",
       "      <td>2018</td>\n",
       "      <td>7</td>\n",
       "      <td>FB</td>\n",
       "      <td>217.500000</td>\n",
       "      <td>58954200</td>\n",
       "    </tr>\n",
       "    <tr>\n",
       "      <th>GS</th>\n",
       "      <th>1018</th>\n",
       "      <td>2018-03-12</td>\n",
       "      <td>2018</td>\n",
       "      <td>3</td>\n",
       "      <td>GS</td>\n",
       "      <td>270.422424</td>\n",
       "      <td>3065600</td>\n",
       "    </tr>\n",
       "    <tr>\n",
       "      <th>JD</th>\n",
       "      <th>504</th>\n",
       "      <td>2018-02-26</td>\n",
       "      <td>2018</td>\n",
       "      <td>2</td>\n",
       "      <td>JD</td>\n",
       "      <td>48.799999</td>\n",
       "      <td>9126900</td>\n",
       "    </tr>\n",
       "  </tbody>\n",
       "</table>\n",
       "</div>"
      ],
      "text/plain": [
       "                  Date  Year  Month Symbol   Adj Close    Volume\n",
       "Symbol                                                          \n",
       "AAPL   153  2018-10-03  2018     10   AAPL  230.275482  28654800\n",
       "BABA   328  2018-06-14  2018      6   BABA  210.860001  18838300\n",
       "FB     860  2018-07-25  2018      7     FB  217.500000  58954200\n",
       "GS     1018 2018-03-12  2018      3     GS  270.422424   3065600\n",
       "JD     504  2018-02-26  2018      2     JD   48.799999   9126900"
      ]
     },
     "execution_count": 289,
     "metadata": {},
     "output_type": "execute_result"
    }
   ],
   "source": [
    "data1.groupby('Symbol').apply(top, n=1, column='Adj Close')"
   ]
  },
  {
   "cell_type": "markdown",
   "metadata": {},
   "source": [
    "如果觉得 Symbol 这个行标签看起来不美观，可以设置 `group_keys =`**`False`** 去除它："
   ]
  },
  {
   "cell_type": "code",
   "execution_count": 291,
   "metadata": {
    "source_collapsed": false
   },
   "outputs": [
    {
     "data": {
      "text/html": [
       "<div>\n",
       "<style scoped>\n",
       "    .dataframe tbody tr th:only-of-type {\n",
       "        vertical-align: middle;\n",
       "    }\n",
       "\n",
       "    .dataframe tbody tr th {\n",
       "        vertical-align: top;\n",
       "    }\n",
       "\n",
       "    .dataframe thead th {\n",
       "        text-align: right;\n",
       "    }\n",
       "</style>\n",
       "<table border=\"1\" class=\"dataframe\">\n",
       "  <thead>\n",
       "    <tr style=\"text-align: right;\">\n",
       "      <th></th>\n",
       "      <th>Date</th>\n",
       "      <th>Year</th>\n",
       "      <th>Month</th>\n",
       "      <th>Symbol</th>\n",
       "      <th>Adj Close</th>\n",
       "      <th>Volume</th>\n",
       "    </tr>\n",
       "  </thead>\n",
       "  <tbody>\n",
       "    <tr>\n",
       "      <th>0</th>\n",
       "      <td>2018-10-03</td>\n",
       "      <td>2018</td>\n",
       "      <td>10</td>\n",
       "      <td>AAPL</td>\n",
       "      <td>230.275482</td>\n",
       "      <td>28654800</td>\n",
       "    </tr>\n",
       "    <tr>\n",
       "      <th>1</th>\n",
       "      <td>2018-06-14</td>\n",
       "      <td>2018</td>\n",
       "      <td>6</td>\n",
       "      <td>BABA</td>\n",
       "      <td>210.860001</td>\n",
       "      <td>18838300</td>\n",
       "    </tr>\n",
       "    <tr>\n",
       "      <th>2</th>\n",
       "      <td>2018-07-25</td>\n",
       "      <td>2018</td>\n",
       "      <td>7</td>\n",
       "      <td>FB</td>\n",
       "      <td>217.500000</td>\n",
       "      <td>58954200</td>\n",
       "    </tr>\n",
       "    <tr>\n",
       "      <th>3</th>\n",
       "      <td>2018-03-12</td>\n",
       "      <td>2018</td>\n",
       "      <td>3</td>\n",
       "      <td>GS</td>\n",
       "      <td>270.422424</td>\n",
       "      <td>3065600</td>\n",
       "    </tr>\n",
       "    <tr>\n",
       "      <th>4</th>\n",
       "      <td>2018-02-26</td>\n",
       "      <td>2018</td>\n",
       "      <td>2</td>\n",
       "      <td>JD</td>\n",
       "      <td>48.799999</td>\n",
       "      <td>9126900</td>\n",
       "    </tr>\n",
       "  </tbody>\n",
       "</table>\n",
       "</div>"
      ],
      "text/plain": [
       "        Date  Year  Month Symbol   Adj Close    Volume\n",
       "0 2018-10-03  2018     10   AAPL  230.275482  28654800\n",
       "1 2018-06-14  2018      6   BABA  210.860001  18838300\n",
       "2 2018-07-25  2018      7     FB  217.500000  58954200\n",
       "3 2018-03-12  2018      3     GS  270.422424   3065600\n",
       "4 2018-02-26  2018      2     JD   48.799999   9126900"
      ]
     },
     "execution_count": 291,
     "metadata": {},
     "output_type": "execute_result"
    }
   ],
   "source": [
    "data1.groupby('Symbol', group_keys=False) \\\n",
    "     .apply(top, n=1, column='Adj Close') \\\n",
    "     .reset_index() \\\n",
    "     .drop(columns='index')"
   ]
  },
  {
   "cell_type": "markdown",
   "metadata": {},
   "source": [
    "### <div style=\"text-align: center\"><font color='black' face='微软雅黑'>转换 `transform()`</font></div>\n",
    "\n",
    "当 `agg()` 函数整合原数据产出的数据形状要比原数据小，但 `transform()` 函数转换原数据产出的数据形状和原数据一样。\n",
    "\n",
    "按 Symbol 分组计算每只股票一年之前的均价：\n",
    "- `agg()` 函数产出的序列只有 5 行\n",
    "- `transform()` 函数产出的序列却有 1260 行"
   ]
  },
  {
   "cell_type": "code",
   "execution_count": 9,
   "metadata": {},
   "outputs": [
    {
     "data": {
      "text/plain": [
       "<pandas.core.groupby.generic.SeriesGroupBy object at 0x0000020F77F23688>"
      ]
     },
     "execution_count": 9,
     "metadata": {},
     "output_type": "execute_result"
    }
   ],
   "source": [
    "g = data1.groupby('Symbol')['Adj Close']\n",
    "g"
   ]
  },
  {
   "cell_type": "code",
   "execution_count": 315,
   "metadata": {},
   "outputs": [
    {
     "data": {
      "text/plain": [
       "Symbol\n",
       "AAPL    186.022309\n",
       "BABA    171.780992\n",
       "FB      167.244841\n",
       "GS      221.593412\n",
       "JD       31.340754\n",
       "Name: Adj Close, dtype: float64"
      ]
     },
     "execution_count": 315,
     "metadata": {},
     "output_type": "execute_result"
    }
   ],
   "source": [
    "g.agg(lambda x: x.mean())"
   ]
  },
  {
   "cell_type": "code",
   "execution_count": 316,
   "metadata": {},
   "outputs": [
    {
     "data": {
      "text/plain": [
       "0       186.022309\n",
       "1       186.022309\n",
       "2       186.022309\n",
       "3       186.022309\n",
       "4       186.022309\n",
       "           ...    \n",
       "1255    221.593412\n",
       "1256    221.593412\n",
       "1257    221.593412\n",
       "1258    221.593412\n",
       "1259    221.593412\n",
       "Name: Adj Close, Length: 1260, dtype: float64"
      ]
     },
     "execution_count": 316,
     "metadata": {},
     "output_type": "execute_result"
    }
   ],
   "source": [
    "g.transform(lambda x: x.mean())"
   ]
  },
  {
   "cell_type": "markdown",
   "metadata": {},
   "source": [
    "这样可对 Adj Close 去除均值。"
   ]
  },
  {
   "cell_type": "code",
   "execution_count": 297,
   "metadata": {},
   "outputs": [
    {
     "data": {
      "text/plain": [
       "0       -9.736634\n",
       "1      -10.307923\n",
       "2      -10.573899\n",
       "3      -13.647095\n",
       "4      -12.455231\n",
       "          ...    \n",
       "1255   -22.993406\n",
       "1256   -25.233411\n",
       "1257   -25.593412\n",
       "1258   -22.943418\n",
       "1259   -22.693418\n",
       "Name: Adj Close, Length: 1260, dtype: float64"
      ]
     },
     "execution_count": 297,
     "metadata": {},
     "output_type": "execute_result"
    }
   ],
   "source": [
    "g.transform(lambda x: x - x.mean())"
   ]
  },
  {
   "cell_type": "markdown",
   "metadata": {},
   "source": [
    "还可对 Adj Close 标准化，即减去均值再除上标准差。"
   ]
  },
  {
   "cell_type": "code",
   "execution_count": 309,
   "metadata": {},
   "outputs": [
    {
     "data": {
      "text/plain": [
       "0      -0.444532\n",
       "1      -0.470614\n",
       "2      -0.482758\n",
       "3      -0.623066\n",
       "4      -0.568651\n",
       "          ...   \n",
       "1255   -0.916880\n",
       "1256   -1.006202\n",
       "1257   -1.020557\n",
       "1258   -0.914886\n",
       "1259   -0.904917\n",
       "Name: Adj Close, Length: 1260, dtype: float64"
      ]
     },
     "execution_count": 309,
     "metadata": {},
     "output_type": "execute_result"
    }
   ],
   "source": [
    "g.transform(lambda x: (x - x.mean())/x.std())"
   ]
  },
  {
   "cell_type": "code",
   "execution_count": 311,
   "metadata": {},
   "outputs": [
    {
     "data": {
      "text/html": [
       "<div>\n",
       "<style scoped>\n",
       "    .dataframe tbody tr th:only-of-type {\n",
       "        vertical-align: middle;\n",
       "    }\n",
       "\n",
       "    .dataframe tbody tr th {\n",
       "        vertical-align: top;\n",
       "    }\n",
       "\n",
       "    .dataframe thead th {\n",
       "        text-align: right;\n",
       "    }\n",
       "</style>\n",
       "<table border=\"1\" class=\"dataframe\">\n",
       "  <thead>\n",
       "    <tr style=\"text-align: right;\">\n",
       "      <th></th>\n",
       "      <th>Date</th>\n",
       "      <th>Year</th>\n",
       "      <th>Month</th>\n",
       "      <th>Symbol</th>\n",
       "      <th>Adj Close</th>\n",
       "      <th>Volume</th>\n",
       "      <th>Adj Close Standardized</th>\n",
       "    </tr>\n",
       "  </thead>\n",
       "  <tbody>\n",
       "    <tr>\n",
       "      <th>0</th>\n",
       "      <td>2018-02-26</td>\n",
       "      <td>2018</td>\n",
       "      <td>2</td>\n",
       "      <td>AAPL</td>\n",
       "      <td>176.285675</td>\n",
       "      <td>38162200</td>\n",
       "      <td>-0.444532</td>\n",
       "    </tr>\n",
       "    <tr>\n",
       "      <th>1</th>\n",
       "      <td>2018-02-27</td>\n",
       "      <td>2018</td>\n",
       "      <td>2</td>\n",
       "      <td>AAPL</td>\n",
       "      <td>175.714386</td>\n",
       "      <td>38928100</td>\n",
       "      <td>-0.470614</td>\n",
       "    </tr>\n",
       "    <tr>\n",
       "      <th>2</th>\n",
       "      <td>2018-02-28</td>\n",
       "      <td>2018</td>\n",
       "      <td>2</td>\n",
       "      <td>AAPL</td>\n",
       "      <td>175.448410</td>\n",
       "      <td>37782100</td>\n",
       "      <td>-0.482758</td>\n",
       "    </tr>\n",
       "    <tr>\n",
       "      <th>1257</th>\n",
       "      <td>2019-02-22</td>\n",
       "      <td>2019</td>\n",
       "      <td>2</td>\n",
       "      <td>GS</td>\n",
       "      <td>196.000000</td>\n",
       "      <td>2626600</td>\n",
       "      <td>-1.020557</td>\n",
       "    </tr>\n",
       "    <tr>\n",
       "      <th>1258</th>\n",
       "      <td>2019-02-25</td>\n",
       "      <td>2019</td>\n",
       "      <td>2</td>\n",
       "      <td>GS</td>\n",
       "      <td>198.649994</td>\n",
       "      <td>3032200</td>\n",
       "      <td>-0.914886</td>\n",
       "    </tr>\n",
       "    <tr>\n",
       "      <th>1259</th>\n",
       "      <td>2019-02-26</td>\n",
       "      <td>2019</td>\n",
       "      <td>2</td>\n",
       "      <td>GS</td>\n",
       "      <td>198.899994</td>\n",
       "      <td>2498000</td>\n",
       "      <td>-0.904917</td>\n",
       "    </tr>\n",
       "  </tbody>\n",
       "</table>\n",
       "</div>"
      ],
      "text/plain": [
       "           Date  Year  Month Symbol   Adj Close    Volume  \\\n",
       "0    2018-02-26  2018      2   AAPL  176.285675  38162200   \n",
       "1    2018-02-27  2018      2   AAPL  175.714386  38928100   \n",
       "2    2018-02-28  2018      2   AAPL  175.448410  37782100   \n",
       "1257 2019-02-22  2019      2     GS  196.000000   2626600   \n",
       "1258 2019-02-25  2019      2     GS  198.649994   3032200   \n",
       "1259 2019-02-26  2019      2     GS  198.899994   2498000   \n",
       "\n",
       "      Adj Close Standardized  \n",
       "0                  -0.444532  \n",
       "1                  -0.470614  \n",
       "2                  -0.482758  \n",
       "1257               -1.020557  \n",
       "1258               -0.914886  \n",
       "1259               -0.904917  "
      ]
     },
     "execution_count": 311,
     "metadata": {},
     "output_type": "execute_result"
    }
   ],
   "source": [
    "data2 = data1.copy()\n",
    "data2['Adj Close Standardized'] = g.transform(lambda x: (x - x.mean())/x.std())\n",
    "data2.head(3).append(data2.tail(3))"
   ]
  },
  {
   "cell_type": "markdown",
   "metadata": {},
   "source": [
    "### <div style=\"text-align: center\"><font color='black' face='微软雅黑'>筛选 `filter()`</font></div>\n",
    "\n",
    "`filter()` 函数是根据每组是否满足一些条件而返回布尔值，并筛选出返回为 **`True`** 的组对应的所有数据。\n",
    "\n",
    "按 Symbol 分组，获取 Adj Close 和 Volume 列存为 `g1` 和 `g2`。"
   ]
  },
  {
   "cell_type": "code",
   "execution_count": 319,
   "metadata": {},
   "outputs": [],
   "source": [
    "g1 = data1.groupby('Symbol')['Adj Close']\n",
    "g2 = data1.groupby('Symbol')['Volume']"
   ]
  },
  {
   "cell_type": "markdown",
   "metadata": {},
   "source": [
    "筛选出一年内价格波动率小于 20.5 的股票。"
   ]
  },
  {
   "cell_type": "code",
   "execution_count": 329,
   "metadata": {},
   "outputs": [
    {
     "data": {
      "text/plain": [
       "Symbol\n",
       "AAPL    21.903124\n",
       "BABA    20.036237\n",
       "FB      20.505810\n",
       "GS      25.077888\n",
       "JD       8.141232\n",
       "Name: Adj Close, dtype: float64"
      ]
     },
     "execution_count": 329,
     "metadata": {},
     "output_type": "execute_result"
    }
   ],
   "source": [
    "g1.std()"
   ]
  },
  {
   "cell_type": "code",
   "execution_count": 324,
   "metadata": {},
   "outputs": [
    {
     "data": {
      "text/plain": [
       "252    194.190002\n",
       "253    188.259995\n",
       "254    186.139999\n",
       "255    181.990005\n",
       "256    179.759995\n",
       "          ...    \n",
       "751     24.680000\n",
       "752     24.270000\n",
       "753     25.950001\n",
       "754     26.190001\n",
       "755     26.590000\n",
       "Name: Adj Close, Length: 504, dtype: float64"
      ]
     },
     "execution_count": 324,
     "metadata": {},
     "output_type": "execute_result"
    }
   ],
   "source": [
    "g1.filter(lambda x: x.std() < 20.5 )"
   ]
  },
  {
   "cell_type": "markdown",
   "metadata": {},
   "source": [
    "筛选出一年内平均交易量大于所有股票的平均交易量的股票。"
   ]
  },
  {
   "cell_type": "code",
   "execution_count": 340,
   "metadata": {},
   "outputs": [
    {
     "data": {
      "text/plain": [
       "Symbol\n",
       "AAPL    3.297615e+07\n",
       "BABA    1.925213e+07\n",
       "FB      2.693082e+07\n",
       "GS      3.329852e+06\n",
       "JD      1.650348e+07\n",
       "Name: Volume, dtype: float64"
      ]
     },
     "execution_count": 340,
     "metadata": {},
     "output_type": "execute_result"
    }
   ],
   "source": [
    "g2.mean() "
   ]
  },
  {
   "cell_type": "code",
   "execution_count": 349,
   "metadata": {},
   "outputs": [],
   "source": [
    "#print_groups(g2)"
   ]
  },
  {
   "cell_type": "code",
   "execution_count": 342,
   "metadata": {},
   "outputs": [
    {
     "data": {
      "text/plain": [
       "0       38162200\n",
       "1       38928100\n",
       "2       37782100\n",
       "3       48802000\n",
       "4       38454000\n",
       "          ...   \n",
       "1003    11770700\n",
       "1004    15607800\n",
       "1005    15858500\n",
       "1006    18737100\n",
       "1007    13645200\n",
       "Name: Volume, Length: 504, dtype: int64"
      ]
     },
     "execution_count": 342,
     "metadata": {},
     "output_type": "execute_result"
    }
   ],
   "source": [
    "g2.filter(lambda x: x.mean() > data1['Volume'].mean())"
   ]
  },
  {
   "cell_type": "markdown",
   "metadata": {},
   "source": [
    "### <font color='#2b4750' face='微软雅黑'>7.3 多维透视分析</font><a name='7.3'></a>\n",
    "[<font color='black' face='微软雅黑'>回到章首</font>](#7)\n",
    "\n",
    "从功能上讲，Pandas 中用透视表 (pivot table) 和 Excel 里面的透视表是一样的，是一种做多维数据分析的工具。简单来说，透视表讲源表的若干列分组作为终表的**支点** (pivot 的直译)，然后在新行和新列的维度上做整合。\n",
    "\n",
    "这样看透视表和之前讲的“拆分-应用-整合”很相似，只不过前者是后者的多维版本。Pandas 用 `pivot_table()` 函数来创建透视表，通过一行代码，该函数可以：\n",
    "\n",
    "- 设定行 (`index` 参数) 和列 (`columns` 参数) 作为新表的**支点**\n",
    "- 设定被整合的数据 (`values` 参数)\n",
    "- 传递**整合**函数 (`aggfunc` 参数)\n",
    "- 设定 NaN 替代值 (`fill_value` 参数)\n",
    "- 选择是否删除所有值为 NaN 的列 (`dropna` 参数)\n",
    "- 选择是否显示行列总和 (`margins` 参数)\n",
    " \n",
    "根据经验，当多次使用 `groupby()` 函数的时候，就应该考虑使用 `pivot_table()` 了。\n",
    "\n",
    "首先加载数据，它记录着每个账户 (Account) 信息，比如交易员 (Trader) 是谁、交易对手 (Counterparty) 是谁，买卖产品的代码 (Ticker) 和种类 (Category) 是什么，数量 (Quantity) 和价值 (Value) 是多少。"
   ]
  },
  {
   "cell_type": "code",
   "execution_count": 116,
   "metadata": {},
   "outputs": [
    {
     "data": {
      "text/html": [
       "<div>\n",
       "<style scoped>\n",
       "    .dataframe tbody tr th:only-of-type {\n",
       "        vertical-align: middle;\n",
       "    }\n",
       "\n",
       "    .dataframe tbody tr th {\n",
       "        vertical-align: top;\n",
       "    }\n",
       "\n",
       "    .dataframe thead th {\n",
       "        text-align: right;\n",
       "    }\n",
       "</style>\n",
       "<table border=\"1\" class=\"dataframe\">\n",
       "  <thead>\n",
       "    <tr style=\"text-align: right;\">\n",
       "      <th></th>\n",
       "      <th>Account</th>\n",
       "      <th>Trader</th>\n",
       "      <th>Counterparty</th>\n",
       "      <th>Ticker</th>\n",
       "      <th>Quantity</th>\n",
       "      <th>Value</th>\n",
       "      <th>Category</th>\n",
       "    </tr>\n",
       "  </thead>\n",
       "  <tbody>\n",
       "    <tr>\n",
       "      <th>0</th>\n",
       "      <td>MM714466</td>\n",
       "      <td>Steven Wang</td>\n",
       "      <td>Goldman Sachs</td>\n",
       "      <td>AAPL</td>\n",
       "      <td>100</td>\n",
       "      <td>35000</td>\n",
       "      <td>Stock</td>\n",
       "    </tr>\n",
       "    <tr>\n",
       "      <th>1</th>\n",
       "      <td>MM714466</td>\n",
       "      <td>Steven Wang</td>\n",
       "      <td>Goldman Sachs</td>\n",
       "      <td>NDAQ200619P</td>\n",
       "      <td>200</td>\n",
       "      <td>10000</td>\n",
       "      <td>Option</td>\n",
       "    </tr>\n",
       "    <tr>\n",
       "      <th>2</th>\n",
       "      <td>MM714466</td>\n",
       "      <td>Steven Wang</td>\n",
       "      <td>Goldman Sachs</td>\n",
       "      <td>UGEMVPU</td>\n",
       "      <td>200</td>\n",
       "      <td>20000</td>\n",
       "      <td>Fund</td>\n",
       "    </tr>\n",
       "    <tr>\n",
       "      <th>3</th>\n",
       "      <td>MM737550</td>\n",
       "      <td>Steven Wang</td>\n",
       "      <td>Goldman Sachs</td>\n",
       "      <td>AAPL</td>\n",
       "      <td>100</td>\n",
       "      <td>35000</td>\n",
       "      <td>Stock</td>\n",
       "    </tr>\n",
       "    <tr>\n",
       "      <th>4</th>\n",
       "      <td>MM146832</td>\n",
       "      <td>Sherry Zhang</td>\n",
       "      <td>Goldman Sachs</td>\n",
       "      <td>AAPL</td>\n",
       "      <td>200</td>\n",
       "      <td>70000</td>\n",
       "      <td>Stock</td>\n",
       "    </tr>\n",
       "    <tr>\n",
       "      <th>5</th>\n",
       "      <td>MM218895</td>\n",
       "      <td>Sherry Zhang</td>\n",
       "      <td>Goldman Sachs</td>\n",
       "      <td>AAPL</td>\n",
       "      <td>200</td>\n",
       "      <td>70000</td>\n",
       "      <td>Stock</td>\n",
       "    </tr>\n",
       "    <tr>\n",
       "      <th>6</th>\n",
       "      <td>MM218895</td>\n",
       "      <td>Sherry Zhang</td>\n",
       "      <td>Goldman Sachs</td>\n",
       "      <td>NDAQ200619P</td>\n",
       "      <td>200</td>\n",
       "      <td>10000</td>\n",
       "      <td>Option</td>\n",
       "    </tr>\n",
       "    <tr>\n",
       "      <th>7</th>\n",
       "      <td>MM412290</td>\n",
       "      <td>Lily Song</td>\n",
       "      <td>Goldman Sachs</td>\n",
       "      <td>UGEMVPU</td>\n",
       "      <td>200</td>\n",
       "      <td>20000</td>\n",
       "      <td>Fund</td>\n",
       "    </tr>\n",
       "    <tr>\n",
       "      <th>8</th>\n",
       "      <td>MM740150</td>\n",
       "      <td>Lily Song</td>\n",
       "      <td>Goldman Sachs</td>\n",
       "      <td>AAPL</td>\n",
       "      <td>100</td>\n",
       "      <td>35000</td>\n",
       "      <td>Stock</td>\n",
       "    </tr>\n",
       "    <tr>\n",
       "      <th>9</th>\n",
       "      <td>MM141962</td>\n",
       "      <td>Bryan Hu</td>\n",
       "      <td>Morgan Stanley</td>\n",
       "      <td>AAPL</td>\n",
       "      <td>200</td>\n",
       "      <td>70000</td>\n",
       "      <td>Stock</td>\n",
       "    </tr>\n",
       "    <tr>\n",
       "      <th>10</th>\n",
       "      <td>MM163416</td>\n",
       "      <td>Bryan Hu</td>\n",
       "      <td>Morgan Stanley</td>\n",
       "      <td>AAPL</td>\n",
       "      <td>100</td>\n",
       "      <td>35000</td>\n",
       "      <td>Stock</td>\n",
       "    </tr>\n",
       "    <tr>\n",
       "      <th>11</th>\n",
       "      <td>MM239344</td>\n",
       "      <td>Bryan Hu</td>\n",
       "      <td>Morgan Stanley</td>\n",
       "      <td>UGEMVPU</td>\n",
       "      <td>100</td>\n",
       "      <td>10000</td>\n",
       "      <td>Fund</td>\n",
       "    </tr>\n",
       "    <tr>\n",
       "      <th>12</th>\n",
       "      <td>MM239344</td>\n",
       "      <td>Bryan Hu</td>\n",
       "      <td>Morgan Stanley</td>\n",
       "      <td>NDAQ200619P</td>\n",
       "      <td>200</td>\n",
       "      <td>10000</td>\n",
       "      <td>Option</td>\n",
       "    </tr>\n",
       "    <tr>\n",
       "      <th>13</th>\n",
       "      <td>MM307599</td>\n",
       "      <td>Nicolas Liu</td>\n",
       "      <td>Morgan Stanley</td>\n",
       "      <td>UGEMVPU</td>\n",
       "      <td>300</td>\n",
       "      <td>30000</td>\n",
       "      <td>Fund</td>\n",
       "    </tr>\n",
       "    <tr>\n",
       "      <th>14</th>\n",
       "      <td>MM688981</td>\n",
       "      <td>Nicolas Liu</td>\n",
       "      <td>Morgan Stanley</td>\n",
       "      <td>AAPL</td>\n",
       "      <td>500</td>\n",
       "      <td>175000</td>\n",
       "      <td>Stock</td>\n",
       "    </tr>\n",
       "    <tr>\n",
       "      <th>15</th>\n",
       "      <td>MM729833</td>\n",
       "      <td>Nicolas Liu</td>\n",
       "      <td>Morgan Stanley</td>\n",
       "      <td>AAPL</td>\n",
       "      <td>200</td>\n",
       "      <td>70000</td>\n",
       "      <td>Stock</td>\n",
       "    </tr>\n",
       "    <tr>\n",
       "      <th>16</th>\n",
       "      <td>MM729833</td>\n",
       "      <td>Nicolas Liu</td>\n",
       "      <td>Morgan Stanley</td>\n",
       "      <td>LG30TRUU</td>\n",
       "      <td>200</td>\n",
       "      <td>15000</td>\n",
       "      <td>Bond</td>\n",
       "    </tr>\n",
       "  </tbody>\n",
       "</table>\n",
       "</div>"
      ],
      "text/plain": [
       "     Account        Trader    Counterparty       Ticker  Quantity   Value  \\\n",
       "0   MM714466   Steven Wang   Goldman Sachs         AAPL       100   35000   \n",
       "1   MM714466   Steven Wang   Goldman Sachs  NDAQ200619P       200   10000   \n",
       "2   MM714466   Steven Wang   Goldman Sachs      UGEMVPU       200   20000   \n",
       "3   MM737550   Steven Wang   Goldman Sachs         AAPL       100   35000   \n",
       "4   MM146832  Sherry Zhang   Goldman Sachs         AAPL       200   70000   \n",
       "5   MM218895  Sherry Zhang   Goldman Sachs         AAPL       200   70000   \n",
       "6   MM218895  Sherry Zhang   Goldman Sachs  NDAQ200619P       200   10000   \n",
       "7   MM412290     Lily Song   Goldman Sachs      UGEMVPU       200   20000   \n",
       "8   MM740150     Lily Song   Goldman Sachs         AAPL       100   35000   \n",
       "9   MM141962      Bryan Hu  Morgan Stanley         AAPL       200   70000   \n",
       "10  MM163416      Bryan Hu  Morgan Stanley         AAPL       100   35000   \n",
       "11  MM239344      Bryan Hu  Morgan Stanley      UGEMVPU       100   10000   \n",
       "12  MM239344      Bryan Hu  Morgan Stanley  NDAQ200619P       200   10000   \n",
       "13  MM307599   Nicolas Liu  Morgan Stanley      UGEMVPU       300   30000   \n",
       "14  MM688981   Nicolas Liu  Morgan Stanley         AAPL       500  175000   \n",
       "15  MM729833   Nicolas Liu  Morgan Stanley         AAPL       200   70000   \n",
       "16  MM729833   Nicolas Liu  Morgan Stanley     LG30TRUU       200   15000   \n",
       "\n",
       "   Category  \n",
       "0     Stock  \n",
       "1    Option  \n",
       "2      Fund  \n",
       "3     Stock  \n",
       "4     Stock  \n",
       "5     Stock  \n",
       "6    Option  \n",
       "7      Fund  \n",
       "8     Stock  \n",
       "9     Stock  \n",
       "10    Stock  \n",
       "11     Fund  \n",
       "12   Option  \n",
       "13     Fund  \n",
       "14    Stock  \n",
       "15    Stock  \n",
       "16     Bond  "
      ]
     },
     "execution_count": 116,
     "metadata": {},
     "output_type": "execute_result"
    }
   ],
   "source": [
    "df = pd.read_csv('PB Sales.csv')\n",
    "df"
   ]
  },
  {
   "cell_type": "markdown",
   "metadata": {},
   "source": [
    "创建透视表的 `pivot_table()` 函数里面的参数设置很多，学习它最有效的方式是每一步设置一个参数，检查结果是否符合预期。\n",
    "\n",
    "先从最简单的语法开始，只设置 `index='Account'`，通用语法如下：\n",
    "\n",
    "    pd.pivot_table(df, index=label_str)"
   ]
  },
  {
   "cell_type": "code",
   "execution_count": 117,
   "metadata": {},
   "outputs": [
    {
     "data": {
      "text/html": [
       "<div>\n",
       "<style scoped>\n",
       "    .dataframe tbody tr th:only-of-type {\n",
       "        vertical-align: middle;\n",
       "    }\n",
       "\n",
       "    .dataframe tbody tr th {\n",
       "        vertical-align: top;\n",
       "    }\n",
       "\n",
       "    .dataframe thead th {\n",
       "        text-align: right;\n",
       "    }\n",
       "</style>\n",
       "<table border=\"1\" class=\"dataframe\">\n",
       "  <thead>\n",
       "    <tr style=\"text-align: right;\">\n",
       "      <th></th>\n",
       "      <th>Quantity</th>\n",
       "      <th>Value</th>\n",
       "    </tr>\n",
       "    <tr>\n",
       "      <th>Account</th>\n",
       "      <th></th>\n",
       "      <th></th>\n",
       "    </tr>\n",
       "  </thead>\n",
       "  <tbody>\n",
       "    <tr>\n",
       "      <th>MM141962</th>\n",
       "      <td>200.000000</td>\n",
       "      <td>70000.000000</td>\n",
       "    </tr>\n",
       "    <tr>\n",
       "      <th>MM146832</th>\n",
       "      <td>200.000000</td>\n",
       "      <td>70000.000000</td>\n",
       "    </tr>\n",
       "    <tr>\n",
       "      <th>MM163416</th>\n",
       "      <td>100.000000</td>\n",
       "      <td>35000.000000</td>\n",
       "    </tr>\n",
       "    <tr>\n",
       "      <th>MM218895</th>\n",
       "      <td>200.000000</td>\n",
       "      <td>40000.000000</td>\n",
       "    </tr>\n",
       "    <tr>\n",
       "      <th>MM239344</th>\n",
       "      <td>150.000000</td>\n",
       "      <td>10000.000000</td>\n",
       "    </tr>\n",
       "    <tr>\n",
       "      <th>MM307599</th>\n",
       "      <td>300.000000</td>\n",
       "      <td>30000.000000</td>\n",
       "    </tr>\n",
       "    <tr>\n",
       "      <th>MM412290</th>\n",
       "      <td>200.000000</td>\n",
       "      <td>20000.000000</td>\n",
       "    </tr>\n",
       "    <tr>\n",
       "      <th>MM688981</th>\n",
       "      <td>500.000000</td>\n",
       "      <td>175000.000000</td>\n",
       "    </tr>\n",
       "    <tr>\n",
       "      <th>MM714466</th>\n",
       "      <td>166.666667</td>\n",
       "      <td>21666.666667</td>\n",
       "    </tr>\n",
       "    <tr>\n",
       "      <th>MM729833</th>\n",
       "      <td>200.000000</td>\n",
       "      <td>42500.000000</td>\n",
       "    </tr>\n",
       "    <tr>\n",
       "      <th>MM737550</th>\n",
       "      <td>100.000000</td>\n",
       "      <td>35000.000000</td>\n",
       "    </tr>\n",
       "    <tr>\n",
       "      <th>MM740150</th>\n",
       "      <td>100.000000</td>\n",
       "      <td>35000.000000</td>\n",
       "    </tr>\n",
       "  </tbody>\n",
       "</table>\n",
       "</div>"
      ],
      "text/plain": [
       "            Quantity          Value\n",
       "Account                            \n",
       "MM141962  200.000000   70000.000000\n",
       "MM146832  200.000000   70000.000000\n",
       "MM163416  100.000000   35000.000000\n",
       "MM218895  200.000000   40000.000000\n",
       "MM239344  150.000000   10000.000000\n",
       "MM307599  300.000000   30000.000000\n",
       "MM412290  200.000000   20000.000000\n",
       "MM688981  500.000000  175000.000000\n",
       "MM714466  166.666667   21666.666667\n",
       "MM729833  200.000000   42500.000000\n",
       "MM737550  100.000000   35000.000000\n",
       "MM740150  100.000000   35000.000000"
      ]
     },
     "execution_count": 117,
     "metadata": {},
     "output_type": "execute_result"
    }
   ],
   "source": [
    "pd.pivot_table( df, index=\"Account\" )"
   ]
  },
  {
   "cell_type": "markdown",
   "metadata": {},
   "source": [
    "从上表结果看，Price 和 Quantity 两列按照 Account 以**某种**方式合并了。看原 df 最后两行，账户 MM729833 合并成一行，对应的 Price 和 Quantity 是 42500 和 200，看来**某种**方式是求平均。现在大概可以猜出 `pivot_table()` 函数中有个参数用来设置**整合**方式，而默认值为平均。\n",
    "\n",
    "上例设置单个 index，接下来看看设置多个 index 的结果是什么样的。这时用列表来存储多个 index。通用语法如下：\n",
    "\n",
    "    pd.pivot_table(df, index=label_list)"
   ]
  },
  {
   "cell_type": "code",
   "execution_count": 118,
   "metadata": {},
   "outputs": [
    {
     "data": {
      "text/html": [
       "<div>\n",
       "<style scoped>\n",
       "    .dataframe tbody tr th:only-of-type {\n",
       "        vertical-align: middle;\n",
       "    }\n",
       "\n",
       "    .dataframe tbody tr th {\n",
       "        vertical-align: top;\n",
       "    }\n",
       "\n",
       "    .dataframe thead th {\n",
       "        text-align: right;\n",
       "    }\n",
       "</style>\n",
       "<table border=\"1\" class=\"dataframe\">\n",
       "  <thead>\n",
       "    <tr style=\"text-align: right;\">\n",
       "      <th></th>\n",
       "      <th></th>\n",
       "      <th></th>\n",
       "      <th>Quantity</th>\n",
       "      <th>Value</th>\n",
       "    </tr>\n",
       "    <tr>\n",
       "      <th>Account</th>\n",
       "      <th>Trader</th>\n",
       "      <th>Counterparty</th>\n",
       "      <th></th>\n",
       "      <th></th>\n",
       "    </tr>\n",
       "  </thead>\n",
       "  <tbody>\n",
       "    <tr>\n",
       "      <th>MM141962</th>\n",
       "      <th>Bryan Hu</th>\n",
       "      <th>Morgan Stanley</th>\n",
       "      <td>200.000000</td>\n",
       "      <td>70000.000000</td>\n",
       "    </tr>\n",
       "    <tr>\n",
       "      <th>MM146832</th>\n",
       "      <th>Sherry Zhang</th>\n",
       "      <th>Goldman Sachs</th>\n",
       "      <td>200.000000</td>\n",
       "      <td>70000.000000</td>\n",
       "    </tr>\n",
       "    <tr>\n",
       "      <th>MM163416</th>\n",
       "      <th>Bryan Hu</th>\n",
       "      <th>Morgan Stanley</th>\n",
       "      <td>100.000000</td>\n",
       "      <td>35000.000000</td>\n",
       "    </tr>\n",
       "    <tr>\n",
       "      <th>MM218895</th>\n",
       "      <th>Sherry Zhang</th>\n",
       "      <th>Goldman Sachs</th>\n",
       "      <td>200.000000</td>\n",
       "      <td>40000.000000</td>\n",
       "    </tr>\n",
       "    <tr>\n",
       "      <th>MM239344</th>\n",
       "      <th>Bryan Hu</th>\n",
       "      <th>Morgan Stanley</th>\n",
       "      <td>150.000000</td>\n",
       "      <td>10000.000000</td>\n",
       "    </tr>\n",
       "    <tr>\n",
       "      <th>MM307599</th>\n",
       "      <th>Nicolas Liu</th>\n",
       "      <th>Morgan Stanley</th>\n",
       "      <td>300.000000</td>\n",
       "      <td>30000.000000</td>\n",
       "    </tr>\n",
       "    <tr>\n",
       "      <th>MM412290</th>\n",
       "      <th>Lily Song</th>\n",
       "      <th>Goldman Sachs</th>\n",
       "      <td>200.000000</td>\n",
       "      <td>20000.000000</td>\n",
       "    </tr>\n",
       "    <tr>\n",
       "      <th>MM688981</th>\n",
       "      <th>Nicolas Liu</th>\n",
       "      <th>Morgan Stanley</th>\n",
       "      <td>500.000000</td>\n",
       "      <td>175000.000000</td>\n",
       "    </tr>\n",
       "    <tr>\n",
       "      <th>MM714466</th>\n",
       "      <th>Steven Wang</th>\n",
       "      <th>Goldman Sachs</th>\n",
       "      <td>166.666667</td>\n",
       "      <td>21666.666667</td>\n",
       "    </tr>\n",
       "    <tr>\n",
       "      <th>MM729833</th>\n",
       "      <th>Nicolas Liu</th>\n",
       "      <th>Morgan Stanley</th>\n",
       "      <td>200.000000</td>\n",
       "      <td>42500.000000</td>\n",
       "    </tr>\n",
       "    <tr>\n",
       "      <th>MM737550</th>\n",
       "      <th>Steven Wang</th>\n",
       "      <th>Goldman Sachs</th>\n",
       "      <td>100.000000</td>\n",
       "      <td>35000.000000</td>\n",
       "    </tr>\n",
       "    <tr>\n",
       "      <th>MM740150</th>\n",
       "      <th>Lily Song</th>\n",
       "      <th>Goldman Sachs</th>\n",
       "      <td>100.000000</td>\n",
       "      <td>35000.000000</td>\n",
       "    </tr>\n",
       "  </tbody>\n",
       "</table>\n",
       "</div>"
      ],
      "text/plain": [
       "                                        Quantity          Value\n",
       "Account  Trader       Counterparty                             \n",
       "MM141962 Bryan Hu     Morgan Stanley  200.000000   70000.000000\n",
       "MM146832 Sherry Zhang Goldman Sachs   200.000000   70000.000000\n",
       "MM163416 Bryan Hu     Morgan Stanley  100.000000   35000.000000\n",
       "MM218895 Sherry Zhang Goldman Sachs   200.000000   40000.000000\n",
       "MM239344 Bryan Hu     Morgan Stanley  150.000000   10000.000000\n",
       "MM307599 Nicolas Liu  Morgan Stanley  300.000000   30000.000000\n",
       "MM412290 Lily Song    Goldman Sachs   200.000000   20000.000000\n",
       "MM688981 Nicolas Liu  Morgan Stanley  500.000000  175000.000000\n",
       "MM714466 Steven Wang  Goldman Sachs   166.666667   21666.666667\n",
       "MM729833 Nicolas Liu  Morgan Stanley  200.000000   42500.000000\n",
       "MM737550 Steven Wang  Goldman Sachs   100.000000   35000.000000\n",
       "MM740150 Lily Song    Goldman Sachs   100.000000   35000.000000"
      ]
     },
     "execution_count": 118,
     "metadata": {},
     "output_type": "execute_result"
    }
   ],
   "source": [
    "pd.pivot_table( df, index=[\"Account\",\"Trader\",\"Counterparty\"] )"
   ]
  },
  {
   "cell_type": "markdown",
   "metadata": {},
   "source": [
    "上表显示着每个 Account 对应的交易员和交易对手的信息，但有点乱。\n",
    "\n",
    "一个交易员管理一个或多个账户，多个交易员可以和一个交易对手交易，改变 index 里面的标签顺序，先按 Counterparty 合并，再按 Trader 合并。"
   ]
  },
  {
   "cell_type": "code",
   "execution_count": 119,
   "metadata": {},
   "outputs": [
    {
     "data": {
      "text/html": [
       "<div>\n",
       "<style scoped>\n",
       "    .dataframe tbody tr th:only-of-type {\n",
       "        vertical-align: middle;\n",
       "    }\n",
       "\n",
       "    .dataframe tbody tr th {\n",
       "        vertical-align: top;\n",
       "    }\n",
       "\n",
       "    .dataframe thead th {\n",
       "        text-align: right;\n",
       "    }\n",
       "</style>\n",
       "<table border=\"1\" class=\"dataframe\">\n",
       "  <thead>\n",
       "    <tr style=\"text-align: right;\">\n",
       "      <th></th>\n",
       "      <th></th>\n",
       "      <th>Quantity</th>\n",
       "      <th>Value</th>\n",
       "    </tr>\n",
       "    <tr>\n",
       "      <th>Counterparty</th>\n",
       "      <th>Trader</th>\n",
       "      <th></th>\n",
       "      <th></th>\n",
       "    </tr>\n",
       "  </thead>\n",
       "  <tbody>\n",
       "    <tr>\n",
       "      <th rowspan=\"3\" valign=\"top\">Goldman Sachs</th>\n",
       "      <th>Lily Song</th>\n",
       "      <td>150</td>\n",
       "      <td>27500</td>\n",
       "    </tr>\n",
       "    <tr>\n",
       "      <th>Sherry Zhang</th>\n",
       "      <td>200</td>\n",
       "      <td>50000</td>\n",
       "    </tr>\n",
       "    <tr>\n",
       "      <th>Steven Wang</th>\n",
       "      <td>150</td>\n",
       "      <td>25000</td>\n",
       "    </tr>\n",
       "    <tr>\n",
       "      <th rowspan=\"2\" valign=\"top\">Morgan Stanley</th>\n",
       "      <th>Bryan Hu</th>\n",
       "      <td>150</td>\n",
       "      <td>31250</td>\n",
       "    </tr>\n",
       "    <tr>\n",
       "      <th>Nicolas Liu</th>\n",
       "      <td>300</td>\n",
       "      <td>72500</td>\n",
       "    </tr>\n",
       "  </tbody>\n",
       "</table>\n",
       "</div>"
      ],
      "text/plain": [
       "                             Quantity  Value\n",
       "Counterparty   Trader                       \n",
       "Goldman Sachs  Lily Song          150  27500\n",
       "               Sherry Zhang       200  50000\n",
       "               Steven Wang        150  25000\n",
       "Morgan Stanley Bryan Hu           150  31250\n",
       "               Nicolas Liu        300  72500"
      ]
     },
     "execution_count": 119,
     "metadata": {},
     "output_type": "execute_result"
    }
   ],
   "source": [
    "pd.pivot_table( df, index=[\"Counterparty\",\"Trader\"] )"
   ]
  },
  {
   "cell_type": "markdown",
   "metadata": {},
   "source": [
    "到目前为止，我们只设置了 index，那为什么只在 Price 和 Quantity 两列上做整合呢？因为这两列的值是数值型 (`int`, `float`)，而其他例的值是非数值型 (`object`)，用 df.dtypes 就可看出。"
   ]
  },
  {
   "cell_type": "code",
   "execution_count": 120,
   "metadata": {},
   "outputs": [
    {
     "data": {
      "text/plain": [
       "Account         object\n",
       "Trader          object\n",
       "Counterparty    object\n",
       "Ticker          object\n",
       "Quantity         int64\n",
       "Value            int64\n",
       "Category        object\n",
       "dtype: object"
      ]
     },
     "execution_count": 120,
     "metadata": {},
     "output_type": "execute_result"
    }
   ],
   "source": [
    "df.dtypes"
   ]
  },
  {
   "cell_type": "markdown",
   "metadata": {},
   "source": [
    "如果只看 Price 列下的整合结果，只需设置 `values='Price'` 或者 `values=['Price']`，通用语法如下：\n",
    "\n",
    "    pd.pivot_table(df, index=label_list, values=label_list)"
   ]
  },
  {
   "cell_type": "code",
   "execution_count": 121,
   "metadata": {},
   "outputs": [
    {
     "data": {
      "text/html": [
       "<div>\n",
       "<style scoped>\n",
       "    .dataframe tbody tr th:only-of-type {\n",
       "        vertical-align: middle;\n",
       "    }\n",
       "\n",
       "    .dataframe tbody tr th {\n",
       "        vertical-align: top;\n",
       "    }\n",
       "\n",
       "    .dataframe thead th {\n",
       "        text-align: right;\n",
       "    }\n",
       "</style>\n",
       "<table border=\"1\" class=\"dataframe\">\n",
       "  <thead>\n",
       "    <tr style=\"text-align: right;\">\n",
       "      <th></th>\n",
       "      <th></th>\n",
       "      <th>Value</th>\n",
       "    </tr>\n",
       "    <tr>\n",
       "      <th>Counterparty</th>\n",
       "      <th>Trader</th>\n",
       "      <th></th>\n",
       "    </tr>\n",
       "  </thead>\n",
       "  <tbody>\n",
       "    <tr>\n",
       "      <th rowspan=\"3\" valign=\"top\">Goldman Sachs</th>\n",
       "      <th>Lily Song</th>\n",
       "      <td>27500</td>\n",
       "    </tr>\n",
       "    <tr>\n",
       "      <th>Sherry Zhang</th>\n",
       "      <td>50000</td>\n",
       "    </tr>\n",
       "    <tr>\n",
       "      <th>Steven Wang</th>\n",
       "      <td>25000</td>\n",
       "    </tr>\n",
       "    <tr>\n",
       "      <th rowspan=\"2\" valign=\"top\">Morgan Stanley</th>\n",
       "      <th>Bryan Hu</th>\n",
       "      <td>31250</td>\n",
       "    </tr>\n",
       "    <tr>\n",
       "      <th>Nicolas Liu</th>\n",
       "      <td>72500</td>\n",
       "    </tr>\n",
       "  </tbody>\n",
       "</table>\n",
       "</div>"
      ],
      "text/plain": [
       "                             Value\n",
       "Counterparty   Trader             \n",
       "Goldman Sachs  Lily Song     27500\n",
       "               Sherry Zhang  50000\n",
       "               Steven Wang   25000\n",
       "Morgan Stanley Bryan Hu      31250\n",
       "               Nicolas Liu   72500"
      ]
     },
     "execution_count": 121,
     "metadata": {},
     "output_type": "execute_result"
    }
   ],
   "source": [
    "pd.pivot_table( df, index=[\"Counterparty\",\"Trader\"], \n",
    "                    values=\"Value\" )"
   ]
  },
  {
   "cell_type": "markdown",
   "metadata": {},
   "source": [
    "默认整合函数是求平均，如果要用求和的函数需要设置 `aggfunc=np.sum`，通用语法为\n",
    "\n",
    "    pd.pivot_table(df, index=label_list, values=label_list, aggfunc=func)"
   ]
  },
  {
   "cell_type": "code",
   "execution_count": 122,
   "metadata": {},
   "outputs": [
    {
     "data": {
      "text/html": [
       "<div>\n",
       "<style scoped>\n",
       "    .dataframe tbody tr th:only-of-type {\n",
       "        vertical-align: middle;\n",
       "    }\n",
       "\n",
       "    .dataframe tbody tr th {\n",
       "        vertical-align: top;\n",
       "    }\n",
       "\n",
       "    .dataframe thead th {\n",
       "        text-align: right;\n",
       "    }\n",
       "</style>\n",
       "<table border=\"1\" class=\"dataframe\">\n",
       "  <thead>\n",
       "    <tr style=\"text-align: right;\">\n",
       "      <th></th>\n",
       "      <th></th>\n",
       "      <th>Value</th>\n",
       "    </tr>\n",
       "    <tr>\n",
       "      <th>Counterparty</th>\n",
       "      <th>Trader</th>\n",
       "      <th></th>\n",
       "    </tr>\n",
       "  </thead>\n",
       "  <tbody>\n",
       "    <tr>\n",
       "      <th rowspan=\"3\" valign=\"top\">Goldman Sachs</th>\n",
       "      <th>Lily Song</th>\n",
       "      <td>55000</td>\n",
       "    </tr>\n",
       "    <tr>\n",
       "      <th>Sherry Zhang</th>\n",
       "      <td>150000</td>\n",
       "    </tr>\n",
       "    <tr>\n",
       "      <th>Steven Wang</th>\n",
       "      <td>100000</td>\n",
       "    </tr>\n",
       "    <tr>\n",
       "      <th rowspan=\"2\" valign=\"top\">Morgan Stanley</th>\n",
       "      <th>Bryan Hu</th>\n",
       "      <td>125000</td>\n",
       "    </tr>\n",
       "    <tr>\n",
       "      <th>Nicolas Liu</th>\n",
       "      <td>290000</td>\n",
       "    </tr>\n",
       "  </tbody>\n",
       "</table>\n",
       "</div>"
      ],
      "text/plain": [
       "                              Value\n",
       "Counterparty   Trader              \n",
       "Goldman Sachs  Lily Song      55000\n",
       "               Sherry Zhang  150000\n",
       "               Steven Wang   100000\n",
       "Morgan Stanley Bryan Hu      125000\n",
       "               Nicolas Liu   290000"
      ]
     },
     "execution_count": 122,
     "metadata": {},
     "output_type": "execute_result"
    }
   ],
   "source": [
    "pd.pivot_table( df, index=[\"Counterparty\",\"Trader\"], \n",
    "                    values=[\"Value\"], \n",
    "                    aggfunc=np.sum )"
   ]
  },
  {
   "cell_type": "markdown",
   "metadata": {},
   "source": [
    "`aggfunc` 参数可以被设置为多个函数，用列表储存，通用语法为\n",
    "\n",
    "    pd.pivot_table(df, index=label_list, values=label_list, aggfunc=func_list)"
   ]
  },
  {
   "cell_type": "code",
   "execution_count": 123,
   "metadata": {},
   "outputs": [
    {
     "data": {
      "text/html": [
       "<div>\n",
       "<style scoped>\n",
       "    .dataframe tbody tr th:only-of-type {\n",
       "        vertical-align: middle;\n",
       "    }\n",
       "\n",
       "    .dataframe tbody tr th {\n",
       "        vertical-align: top;\n",
       "    }\n",
       "\n",
       "    .dataframe thead tr th {\n",
       "        text-align: left;\n",
       "    }\n",
       "\n",
       "    .dataframe thead tr:last-of-type th {\n",
       "        text-align: right;\n",
       "    }\n",
       "</style>\n",
       "<table border=\"1\" class=\"dataframe\">\n",
       "  <thead>\n",
       "    <tr>\n",
       "      <th></th>\n",
       "      <th></th>\n",
       "      <th>len</th>\n",
       "      <th>sum</th>\n",
       "    </tr>\n",
       "    <tr>\n",
       "      <th></th>\n",
       "      <th></th>\n",
       "      <th>Value</th>\n",
       "      <th>Value</th>\n",
       "    </tr>\n",
       "    <tr>\n",
       "      <th>Counterparty</th>\n",
       "      <th>Trader</th>\n",
       "      <th></th>\n",
       "      <th></th>\n",
       "    </tr>\n",
       "  </thead>\n",
       "  <tbody>\n",
       "    <tr>\n",
       "      <th rowspan=\"3\" valign=\"top\">Goldman Sachs</th>\n",
       "      <th>Lily Song</th>\n",
       "      <td>2</td>\n",
       "      <td>55000</td>\n",
       "    </tr>\n",
       "    <tr>\n",
       "      <th>Sherry Zhang</th>\n",
       "      <td>3</td>\n",
       "      <td>150000</td>\n",
       "    </tr>\n",
       "    <tr>\n",
       "      <th>Steven Wang</th>\n",
       "      <td>4</td>\n",
       "      <td>100000</td>\n",
       "    </tr>\n",
       "    <tr>\n",
       "      <th rowspan=\"2\" valign=\"top\">Morgan Stanley</th>\n",
       "      <th>Bryan Hu</th>\n",
       "      <td>4</td>\n",
       "      <td>125000</td>\n",
       "    </tr>\n",
       "    <tr>\n",
       "      <th>Nicolas Liu</th>\n",
       "      <td>4</td>\n",
       "      <td>290000</td>\n",
       "    </tr>\n",
       "  </tbody>\n",
       "</table>\n",
       "</div>"
      ],
      "text/plain": [
       "                              len     sum\n",
       "                            Value   Value\n",
       "Counterparty   Trader                    \n",
       "Goldman Sachs  Lily Song        2   55000\n",
       "               Sherry Zhang     3  150000\n",
       "               Steven Wang      4  100000\n",
       "Morgan Stanley Bryan Hu         4  125000\n",
       "               Nicolas Liu      4  290000"
      ]
     },
     "execution_count": 123,
     "metadata": {},
     "output_type": "execute_result"
    }
   ],
   "source": [
    "pd.pivot_table( df, index=[\"Counterparty\",\"Trader\"], \n",
    "                    values=[\"Value\"],\n",
    "                    aggfunc=[len, np.sum] )"
   ]
  },
  {
   "cell_type": "markdown",
   "metadata": {},
   "source": [
    "如果进一步想看按产品类别划分后的整合结果，可以设置 `columns=['Category]`，通用语法为，\n",
    "\n",
    "    pd.pivot_table(df, index=label_list, values=label_list, columns=label_list, aggfunc=func_list)"
   ]
  },
  {
   "cell_type": "code",
   "execution_count": 124,
   "metadata": {},
   "outputs": [
    {
     "data": {
      "text/html": [
       "<div>\n",
       "<style scoped>\n",
       "    .dataframe tbody tr th:only-of-type {\n",
       "        vertical-align: middle;\n",
       "    }\n",
       "\n",
       "    .dataframe tbody tr th {\n",
       "        vertical-align: top;\n",
       "    }\n",
       "\n",
       "    .dataframe thead tr th {\n",
       "        text-align: left;\n",
       "    }\n",
       "\n",
       "    .dataframe thead tr:last-of-type th {\n",
       "        text-align: right;\n",
       "    }\n",
       "</style>\n",
       "<table border=\"1\" class=\"dataframe\">\n",
       "  <thead>\n",
       "    <tr>\n",
       "      <th></th>\n",
       "      <th></th>\n",
       "      <th colspan=\"4\" halign=\"left\">len</th>\n",
       "      <th colspan=\"4\" halign=\"left\">sum</th>\n",
       "    </tr>\n",
       "    <tr>\n",
       "      <th></th>\n",
       "      <th></th>\n",
       "      <th colspan=\"4\" halign=\"left\">Value</th>\n",
       "      <th colspan=\"4\" halign=\"left\">Value</th>\n",
       "    </tr>\n",
       "    <tr>\n",
       "      <th></th>\n",
       "      <th>Category</th>\n",
       "      <th>Bond</th>\n",
       "      <th>Fund</th>\n",
       "      <th>Option</th>\n",
       "      <th>Stock</th>\n",
       "      <th>Bond</th>\n",
       "      <th>Fund</th>\n",
       "      <th>Option</th>\n",
       "      <th>Stock</th>\n",
       "    </tr>\n",
       "    <tr>\n",
       "      <th>Counterparty</th>\n",
       "      <th>Trader</th>\n",
       "      <th></th>\n",
       "      <th></th>\n",
       "      <th></th>\n",
       "      <th></th>\n",
       "      <th></th>\n",
       "      <th></th>\n",
       "      <th></th>\n",
       "      <th></th>\n",
       "    </tr>\n",
       "  </thead>\n",
       "  <tbody>\n",
       "    <tr>\n",
       "      <th rowspan=\"3\" valign=\"top\">Goldman Sachs</th>\n",
       "      <th>Lily Song</th>\n",
       "      <td>NaN</td>\n",
       "      <td>1.0</td>\n",
       "      <td>NaN</td>\n",
       "      <td>1.0</td>\n",
       "      <td>NaN</td>\n",
       "      <td>20000.0</td>\n",
       "      <td>NaN</td>\n",
       "      <td>35000.0</td>\n",
       "    </tr>\n",
       "    <tr>\n",
       "      <th>Sherry Zhang</th>\n",
       "      <td>NaN</td>\n",
       "      <td>NaN</td>\n",
       "      <td>1.0</td>\n",
       "      <td>2.0</td>\n",
       "      <td>NaN</td>\n",
       "      <td>NaN</td>\n",
       "      <td>10000.0</td>\n",
       "      <td>140000.0</td>\n",
       "    </tr>\n",
       "    <tr>\n",
       "      <th>Steven Wang</th>\n",
       "      <td>NaN</td>\n",
       "      <td>1.0</td>\n",
       "      <td>1.0</td>\n",
       "      <td>2.0</td>\n",
       "      <td>NaN</td>\n",
       "      <td>20000.0</td>\n",
       "      <td>10000.0</td>\n",
       "      <td>70000.0</td>\n",
       "    </tr>\n",
       "    <tr>\n",
       "      <th rowspan=\"2\" valign=\"top\">Morgan Stanley</th>\n",
       "      <th>Bryan Hu</th>\n",
       "      <td>NaN</td>\n",
       "      <td>1.0</td>\n",
       "      <td>1.0</td>\n",
       "      <td>2.0</td>\n",
       "      <td>NaN</td>\n",
       "      <td>10000.0</td>\n",
       "      <td>10000.0</td>\n",
       "      <td>105000.0</td>\n",
       "    </tr>\n",
       "    <tr>\n",
       "      <th>Nicolas Liu</th>\n",
       "      <td>1.0</td>\n",
       "      <td>1.0</td>\n",
       "      <td>NaN</td>\n",
       "      <td>2.0</td>\n",
       "      <td>15000.0</td>\n",
       "      <td>30000.0</td>\n",
       "      <td>NaN</td>\n",
       "      <td>245000.0</td>\n",
       "    </tr>\n",
       "  </tbody>\n",
       "</table>\n",
       "</div>"
      ],
      "text/plain": [
       "                              len                        sum           \\\n",
       "                            Value                      Value            \n",
       "Category                     Bond Fund Option Stock     Bond     Fund   \n",
       "Counterparty   Trader                                                   \n",
       "Goldman Sachs  Lily Song      NaN  1.0    NaN   1.0      NaN  20000.0   \n",
       "               Sherry Zhang   NaN  NaN    1.0   2.0      NaN      NaN   \n",
       "               Steven Wang    NaN  1.0    1.0   2.0      NaN  20000.0   \n",
       "Morgan Stanley Bryan Hu       NaN  1.0    1.0   2.0      NaN  10000.0   \n",
       "               Nicolas Liu    1.0  1.0    NaN   2.0  15000.0  30000.0   \n",
       "\n",
       "                                                \n",
       "                                                \n",
       "Category                      Option     Stock  \n",
       "Counterparty   Trader                           \n",
       "Goldman Sachs  Lily Song         NaN   35000.0  \n",
       "               Sherry Zhang  10000.0  140000.0  \n",
       "               Steven Wang   10000.0   70000.0  \n",
       "Morgan Stanley Bryan Hu      10000.0  105000.0  \n",
       "               Nicolas Liu       NaN  245000.0  "
      ]
     },
     "execution_count": 124,
     "metadata": {},
     "output_type": "execute_result"
    }
   ],
   "source": [
    "pd.pivot_table( df, index=[\"Counterparty\",\"Trader\"], \n",
    "                    values=[\"Value\"],\n",
    "                    columns=[\"Category\"],\n",
    "                    aggfunc=[len, np.sum] )"
   ]
  },
  {
   "cell_type": "markdown",
   "metadata": {},
   "source": [
    "上表结果中的 `NaN` 不好看，可设置 `fill_value=0` 用零替代。"
   ]
  },
  {
   "cell_type": "code",
   "execution_count": 125,
   "metadata": {},
   "outputs": [
    {
     "data": {
      "text/html": [
       "<div>\n",
       "<style scoped>\n",
       "    .dataframe tbody tr th:only-of-type {\n",
       "        vertical-align: middle;\n",
       "    }\n",
       "\n",
       "    .dataframe tbody tr th {\n",
       "        vertical-align: top;\n",
       "    }\n",
       "\n",
       "    .dataframe thead tr th {\n",
       "        text-align: left;\n",
       "    }\n",
       "\n",
       "    .dataframe thead tr:last-of-type th {\n",
       "        text-align: right;\n",
       "    }\n",
       "</style>\n",
       "<table border=\"1\" class=\"dataframe\">\n",
       "  <thead>\n",
       "    <tr>\n",
       "      <th></th>\n",
       "      <th></th>\n",
       "      <th colspan=\"4\" halign=\"left\">len</th>\n",
       "      <th colspan=\"4\" halign=\"left\">sum</th>\n",
       "    </tr>\n",
       "    <tr>\n",
       "      <th></th>\n",
       "      <th></th>\n",
       "      <th colspan=\"4\" halign=\"left\">Value</th>\n",
       "      <th colspan=\"4\" halign=\"left\">Value</th>\n",
       "    </tr>\n",
       "    <tr>\n",
       "      <th></th>\n",
       "      <th>Category</th>\n",
       "      <th>Bond</th>\n",
       "      <th>Fund</th>\n",
       "      <th>Option</th>\n",
       "      <th>Stock</th>\n",
       "      <th>Bond</th>\n",
       "      <th>Fund</th>\n",
       "      <th>Option</th>\n",
       "      <th>Stock</th>\n",
       "    </tr>\n",
       "    <tr>\n",
       "      <th>Counterparty</th>\n",
       "      <th>Trader</th>\n",
       "      <th></th>\n",
       "      <th></th>\n",
       "      <th></th>\n",
       "      <th></th>\n",
       "      <th></th>\n",
       "      <th></th>\n",
       "      <th></th>\n",
       "      <th></th>\n",
       "    </tr>\n",
       "  </thead>\n",
       "  <tbody>\n",
       "    <tr>\n",
       "      <th rowspan=\"3\" valign=\"top\">Goldman Sachs</th>\n",
       "      <th>Lily Song</th>\n",
       "      <td>0</td>\n",
       "      <td>1</td>\n",
       "      <td>0</td>\n",
       "      <td>1</td>\n",
       "      <td>0</td>\n",
       "      <td>20000</td>\n",
       "      <td>0</td>\n",
       "      <td>35000</td>\n",
       "    </tr>\n",
       "    <tr>\n",
       "      <th>Sherry Zhang</th>\n",
       "      <td>0</td>\n",
       "      <td>0</td>\n",
       "      <td>1</td>\n",
       "      <td>2</td>\n",
       "      <td>0</td>\n",
       "      <td>0</td>\n",
       "      <td>10000</td>\n",
       "      <td>140000</td>\n",
       "    </tr>\n",
       "    <tr>\n",
       "      <th>Steven Wang</th>\n",
       "      <td>0</td>\n",
       "      <td>1</td>\n",
       "      <td>1</td>\n",
       "      <td>2</td>\n",
       "      <td>0</td>\n",
       "      <td>20000</td>\n",
       "      <td>10000</td>\n",
       "      <td>70000</td>\n",
       "    </tr>\n",
       "    <tr>\n",
       "      <th rowspan=\"2\" valign=\"top\">Morgan Stanley</th>\n",
       "      <th>Bryan Hu</th>\n",
       "      <td>0</td>\n",
       "      <td>1</td>\n",
       "      <td>1</td>\n",
       "      <td>2</td>\n",
       "      <td>0</td>\n",
       "      <td>10000</td>\n",
       "      <td>10000</td>\n",
       "      <td>105000</td>\n",
       "    </tr>\n",
       "    <tr>\n",
       "      <th>Nicolas Liu</th>\n",
       "      <td>1</td>\n",
       "      <td>1</td>\n",
       "      <td>0</td>\n",
       "      <td>2</td>\n",
       "      <td>15000</td>\n",
       "      <td>30000</td>\n",
       "      <td>0</td>\n",
       "      <td>245000</td>\n",
       "    </tr>\n",
       "  </tbody>\n",
       "</table>\n",
       "</div>"
      ],
      "text/plain": [
       "                              len                      sum                \\\n",
       "                            Value                    Value                 \n",
       "Category                     Bond Fund Option Stock   Bond   Fund Option   \n",
       "Counterparty   Trader                                                      \n",
       "Goldman Sachs  Lily Song        0    1      0     1      0  20000      0   \n",
       "               Sherry Zhang     0    0      1     2      0      0  10000   \n",
       "               Steven Wang      0    1      1     2      0  20000  10000   \n",
       "Morgan Stanley Bryan Hu         0    1      1     2      0  10000  10000   \n",
       "               Nicolas Liu      1    1      0     2  15000  30000      0   \n",
       "\n",
       "                                     \n",
       "                                     \n",
       "Category                      Stock  \n",
       "Counterparty   Trader                \n",
       "Goldman Sachs  Lily Song      35000  \n",
       "               Sherry Zhang  140000  \n",
       "               Steven Wang    70000  \n",
       "Morgan Stanley Bryan Hu      105000  \n",
       "               Nicolas Liu   245000  "
      ]
     },
     "execution_count": 125,
     "metadata": {},
     "output_type": "execute_result"
    }
   ],
   "source": [
    "pd.pivot_table( df, index=[\"Counterparty\",\"Trader\"], \n",
    "                    values=[\"Value\"],\n",
    "                    columns=[\"Category\"],\n",
    "                    aggfunc=[len, np.sum],\n",
    "                    fill_value=0 )"
   ]
  },
  {
   "cell_type": "markdown",
   "metadata": {},
   "source": [
    "除此之外还可以把产品类别放在 index 中，改变结果的展示方式而已 (那些结果为零都没显示了，看起来更舒服点)。"
   ]
  },
  {
   "cell_type": "code",
   "execution_count": 126,
   "metadata": {},
   "outputs": [
    {
     "data": {
      "text/html": [
       "<div>\n",
       "<style scoped>\n",
       "    .dataframe tbody tr th:only-of-type {\n",
       "        vertical-align: middle;\n",
       "    }\n",
       "\n",
       "    .dataframe tbody tr th {\n",
       "        vertical-align: top;\n",
       "    }\n",
       "\n",
       "    .dataframe thead tr th {\n",
       "        text-align: left;\n",
       "    }\n",
       "\n",
       "    .dataframe thead tr:last-of-type th {\n",
       "        text-align: right;\n",
       "    }\n",
       "</style>\n",
       "<table border=\"1\" class=\"dataframe\">\n",
       "  <thead>\n",
       "    <tr>\n",
       "      <th></th>\n",
       "      <th></th>\n",
       "      <th></th>\n",
       "      <th>len</th>\n",
       "      <th>sum</th>\n",
       "    </tr>\n",
       "    <tr>\n",
       "      <th></th>\n",
       "      <th></th>\n",
       "      <th></th>\n",
       "      <th>Value</th>\n",
       "      <th>Value</th>\n",
       "    </tr>\n",
       "    <tr>\n",
       "      <th>Counterparty</th>\n",
       "      <th>Trader</th>\n",
       "      <th>Category</th>\n",
       "      <th></th>\n",
       "      <th></th>\n",
       "    </tr>\n",
       "  </thead>\n",
       "  <tbody>\n",
       "    <tr>\n",
       "      <th rowspan=\"7\" valign=\"top\">Goldman Sachs</th>\n",
       "      <th rowspan=\"2\" valign=\"top\">Lily Song</th>\n",
       "      <th>Fund</th>\n",
       "      <td>1</td>\n",
       "      <td>20000</td>\n",
       "    </tr>\n",
       "    <tr>\n",
       "      <th>Stock</th>\n",
       "      <td>1</td>\n",
       "      <td>35000</td>\n",
       "    </tr>\n",
       "    <tr>\n",
       "      <th rowspan=\"2\" valign=\"top\">Sherry Zhang</th>\n",
       "      <th>Option</th>\n",
       "      <td>1</td>\n",
       "      <td>10000</td>\n",
       "    </tr>\n",
       "    <tr>\n",
       "      <th>Stock</th>\n",
       "      <td>2</td>\n",
       "      <td>140000</td>\n",
       "    </tr>\n",
       "    <tr>\n",
       "      <th rowspan=\"3\" valign=\"top\">Steven Wang</th>\n",
       "      <th>Fund</th>\n",
       "      <td>1</td>\n",
       "      <td>20000</td>\n",
       "    </tr>\n",
       "    <tr>\n",
       "      <th>Option</th>\n",
       "      <td>1</td>\n",
       "      <td>10000</td>\n",
       "    </tr>\n",
       "    <tr>\n",
       "      <th>Stock</th>\n",
       "      <td>2</td>\n",
       "      <td>70000</td>\n",
       "    </tr>\n",
       "    <tr>\n",
       "      <th rowspan=\"6\" valign=\"top\">Morgan Stanley</th>\n",
       "      <th rowspan=\"3\" valign=\"top\">Bryan Hu</th>\n",
       "      <th>Fund</th>\n",
       "      <td>1</td>\n",
       "      <td>10000</td>\n",
       "    </tr>\n",
       "    <tr>\n",
       "      <th>Option</th>\n",
       "      <td>1</td>\n",
       "      <td>10000</td>\n",
       "    </tr>\n",
       "    <tr>\n",
       "      <th>Stock</th>\n",
       "      <td>2</td>\n",
       "      <td>105000</td>\n",
       "    </tr>\n",
       "    <tr>\n",
       "      <th rowspan=\"3\" valign=\"top\">Nicolas Liu</th>\n",
       "      <th>Bond</th>\n",
       "      <td>1</td>\n",
       "      <td>15000</td>\n",
       "    </tr>\n",
       "    <tr>\n",
       "      <th>Fund</th>\n",
       "      <td>1</td>\n",
       "      <td>30000</td>\n",
       "    </tr>\n",
       "    <tr>\n",
       "      <th>Stock</th>\n",
       "      <td>2</td>\n",
       "      <td>245000</td>\n",
       "    </tr>\n",
       "  </tbody>\n",
       "</table>\n",
       "</div>"
      ],
      "text/plain": [
       "                                       len     sum\n",
       "                                     Value   Value\n",
       "Counterparty   Trader       Category              \n",
       "Goldman Sachs  Lily Song    Fund         1   20000\n",
       "                            Stock        1   35000\n",
       "               Sherry Zhang Option       1   10000\n",
       "                            Stock        2  140000\n",
       "               Steven Wang  Fund         1   20000\n",
       "                            Option       1   10000\n",
       "                            Stock        2   70000\n",
       "Morgan Stanley Bryan Hu     Fund         1   10000\n",
       "                            Option       1   10000\n",
       "                            Stock        2  105000\n",
       "               Nicolas Liu  Bond         1   15000\n",
       "                            Fund         1   30000\n",
       "                            Stock        2  245000"
      ]
     },
     "execution_count": 126,
     "metadata": {},
     "output_type": "execute_result"
    }
   ],
   "source": [
    "pd.pivot_table( df, index=[\"Counterparty\",\"Trader\",\"Category\"], \n",
    "                    values=[\"Value\"],\n",
    "                    aggfunc=[len, np.sum],\n",
    "                    fill_value=0 )"
   ]
  },
  {
   "cell_type": "markdown",
   "metadata": {},
   "source": [
    "要看总计怎么办？设置 `margins=True` 就可以了。"
   ]
  },
  {
   "cell_type": "code",
   "execution_count": 127,
   "metadata": {},
   "outputs": [
    {
     "data": {
      "text/html": [
       "<div>\n",
       "<style scoped>\n",
       "    .dataframe tbody tr th:only-of-type {\n",
       "        vertical-align: middle;\n",
       "    }\n",
       "\n",
       "    .dataframe tbody tr th {\n",
       "        vertical-align: top;\n",
       "    }\n",
       "\n",
       "    .dataframe thead tr th {\n",
       "        text-align: left;\n",
       "    }\n",
       "\n",
       "    .dataframe thead tr:last-of-type th {\n",
       "        text-align: right;\n",
       "    }\n",
       "</style>\n",
       "<table border=\"1\" class=\"dataframe\">\n",
       "  <thead>\n",
       "    <tr>\n",
       "      <th></th>\n",
       "      <th></th>\n",
       "      <th></th>\n",
       "      <th colspan=\"2\" halign=\"left\">len</th>\n",
       "      <th colspan=\"2\" halign=\"left\">sum</th>\n",
       "    </tr>\n",
       "    <tr>\n",
       "      <th></th>\n",
       "      <th></th>\n",
       "      <th></th>\n",
       "      <th>Quantity</th>\n",
       "      <th>Value</th>\n",
       "      <th>Quantity</th>\n",
       "      <th>Value</th>\n",
       "    </tr>\n",
       "    <tr>\n",
       "      <th>Counterparty</th>\n",
       "      <th>Trader</th>\n",
       "      <th>Category</th>\n",
       "      <th></th>\n",
       "      <th></th>\n",
       "      <th></th>\n",
       "      <th></th>\n",
       "    </tr>\n",
       "  </thead>\n",
       "  <tbody>\n",
       "    <tr>\n",
       "      <th rowspan=\"7\" valign=\"top\">Goldman Sachs</th>\n",
       "      <th rowspan=\"2\" valign=\"top\">Lily Song</th>\n",
       "      <th>Fund</th>\n",
       "      <td>1</td>\n",
       "      <td>1</td>\n",
       "      <td>200</td>\n",
       "      <td>20000</td>\n",
       "    </tr>\n",
       "    <tr>\n",
       "      <th>Stock</th>\n",
       "      <td>1</td>\n",
       "      <td>1</td>\n",
       "      <td>100</td>\n",
       "      <td>35000</td>\n",
       "    </tr>\n",
       "    <tr>\n",
       "      <th rowspan=\"2\" valign=\"top\">Sherry Zhang</th>\n",
       "      <th>Option</th>\n",
       "      <td>1</td>\n",
       "      <td>1</td>\n",
       "      <td>200</td>\n",
       "      <td>10000</td>\n",
       "    </tr>\n",
       "    <tr>\n",
       "      <th>Stock</th>\n",
       "      <td>2</td>\n",
       "      <td>2</td>\n",
       "      <td>400</td>\n",
       "      <td>140000</td>\n",
       "    </tr>\n",
       "    <tr>\n",
       "      <th rowspan=\"3\" valign=\"top\">Steven Wang</th>\n",
       "      <th>Fund</th>\n",
       "      <td>1</td>\n",
       "      <td>1</td>\n",
       "      <td>200</td>\n",
       "      <td>20000</td>\n",
       "    </tr>\n",
       "    <tr>\n",
       "      <th>Option</th>\n",
       "      <td>1</td>\n",
       "      <td>1</td>\n",
       "      <td>200</td>\n",
       "      <td>10000</td>\n",
       "    </tr>\n",
       "    <tr>\n",
       "      <th>Stock</th>\n",
       "      <td>2</td>\n",
       "      <td>2</td>\n",
       "      <td>200</td>\n",
       "      <td>70000</td>\n",
       "    </tr>\n",
       "    <tr>\n",
       "      <th rowspan=\"6\" valign=\"top\">Morgan Stanley</th>\n",
       "      <th rowspan=\"3\" valign=\"top\">Bryan Hu</th>\n",
       "      <th>Fund</th>\n",
       "      <td>1</td>\n",
       "      <td>1</td>\n",
       "      <td>100</td>\n",
       "      <td>10000</td>\n",
       "    </tr>\n",
       "    <tr>\n",
       "      <th>Option</th>\n",
       "      <td>1</td>\n",
       "      <td>1</td>\n",
       "      <td>200</td>\n",
       "      <td>10000</td>\n",
       "    </tr>\n",
       "    <tr>\n",
       "      <th>Stock</th>\n",
       "      <td>2</td>\n",
       "      <td>2</td>\n",
       "      <td>300</td>\n",
       "      <td>105000</td>\n",
       "    </tr>\n",
       "    <tr>\n",
       "      <th rowspan=\"3\" valign=\"top\">Nicolas Liu</th>\n",
       "      <th>Bond</th>\n",
       "      <td>1</td>\n",
       "      <td>1</td>\n",
       "      <td>200</td>\n",
       "      <td>15000</td>\n",
       "    </tr>\n",
       "    <tr>\n",
       "      <th>Fund</th>\n",
       "      <td>1</td>\n",
       "      <td>1</td>\n",
       "      <td>300</td>\n",
       "      <td>30000</td>\n",
       "    </tr>\n",
       "    <tr>\n",
       "      <th>Stock</th>\n",
       "      <td>2</td>\n",
       "      <td>2</td>\n",
       "      <td>700</td>\n",
       "      <td>245000</td>\n",
       "    </tr>\n",
       "    <tr>\n",
       "      <th>All</th>\n",
       "      <th></th>\n",
       "      <th></th>\n",
       "      <td>17</td>\n",
       "      <td>17</td>\n",
       "      <td>3300</td>\n",
       "      <td>720000</td>\n",
       "    </tr>\n",
       "  </tbody>\n",
       "</table>\n",
       "</div>"
      ],
      "text/plain": [
       "                                          len            sum        \n",
       "                                     Quantity Value Quantity   Value\n",
       "Counterparty   Trader       Category                                \n",
       "Goldman Sachs  Lily Song    Fund            1     1      200   20000\n",
       "                            Stock           1     1      100   35000\n",
       "               Sherry Zhang Option          1     1      200   10000\n",
       "                            Stock           2     2      400  140000\n",
       "               Steven Wang  Fund            1     1      200   20000\n",
       "                            Option          1     1      200   10000\n",
       "                            Stock           2     2      200   70000\n",
       "Morgan Stanley Bryan Hu     Fund            1     1      100   10000\n",
       "                            Option          1     1      200   10000\n",
       "                            Stock           2     2      300  105000\n",
       "               Nicolas Liu  Bond            1     1      200   15000\n",
       "                            Fund            1     1      300   30000\n",
       "                            Stock           2     2      700  245000\n",
       "All                                        17    17     3300  720000"
      ]
     },
     "execution_count": 127,
     "metadata": {},
     "output_type": "execute_result"
    }
   ],
   "source": [
    "pd.pivot_table( df, index=[\"Counterparty\",\"Trader\",\"Category\"], \n",
    "                    values=[\"Value\",\"Quantity\"],\n",
    "                    aggfunc=[len, np.sum],\n",
    "                    fill_value=0,\n",
    "                    margins=True )"
   ]
  },
  {
   "cell_type": "markdown",
   "metadata": {},
   "source": [
    "`aggfunc` 参数还可以传进一个字典来实现不同列下应用不同的整合函数，语法如下：\n",
    "\n",
    "    aggfunc = {col_1:func_1, col_2:func_2, ... col_n:func_n}"
   ]
  },
  {
   "cell_type": "code",
   "execution_count": 128,
   "metadata": {},
   "outputs": [
    {
     "data": {
      "text/html": [
       "<div>\n",
       "<style scoped>\n",
       "    .dataframe tbody tr th:only-of-type {\n",
       "        vertical-align: middle;\n",
       "    }\n",
       "\n",
       "    .dataframe tbody tr th {\n",
       "        vertical-align: top;\n",
       "    }\n",
       "\n",
       "    .dataframe thead th {\n",
       "        text-align: right;\n",
       "    }\n",
       "</style>\n",
       "<table border=\"1\" class=\"dataframe\">\n",
       "  <thead>\n",
       "    <tr style=\"text-align: right;\">\n",
       "      <th></th>\n",
       "      <th></th>\n",
       "      <th></th>\n",
       "      <th>Quantity</th>\n",
       "      <th>Value</th>\n",
       "    </tr>\n",
       "    <tr>\n",
       "      <th>Counterparty</th>\n",
       "      <th>Trader</th>\n",
       "      <th>Category</th>\n",
       "      <th></th>\n",
       "      <th></th>\n",
       "    </tr>\n",
       "  </thead>\n",
       "  <tbody>\n",
       "    <tr>\n",
       "      <th rowspan=\"7\" valign=\"top\">Goldman Sachs</th>\n",
       "      <th rowspan=\"2\" valign=\"top\">Lily Song</th>\n",
       "      <th>Fund</th>\n",
       "      <td>1</td>\n",
       "      <td>20000</td>\n",
       "    </tr>\n",
       "    <tr>\n",
       "      <th>Stock</th>\n",
       "      <td>1</td>\n",
       "      <td>35000</td>\n",
       "    </tr>\n",
       "    <tr>\n",
       "      <th rowspan=\"2\" valign=\"top\">Sherry Zhang</th>\n",
       "      <th>Option</th>\n",
       "      <td>1</td>\n",
       "      <td>10000</td>\n",
       "    </tr>\n",
       "    <tr>\n",
       "      <th>Stock</th>\n",
       "      <td>2</td>\n",
       "      <td>140000</td>\n",
       "    </tr>\n",
       "    <tr>\n",
       "      <th rowspan=\"3\" valign=\"top\">Steven Wang</th>\n",
       "      <th>Fund</th>\n",
       "      <td>1</td>\n",
       "      <td>20000</td>\n",
       "    </tr>\n",
       "    <tr>\n",
       "      <th>Option</th>\n",
       "      <td>1</td>\n",
       "      <td>10000</td>\n",
       "    </tr>\n",
       "    <tr>\n",
       "      <th>Stock</th>\n",
       "      <td>2</td>\n",
       "      <td>70000</td>\n",
       "    </tr>\n",
       "    <tr>\n",
       "      <th rowspan=\"6\" valign=\"top\">Morgan Stanley</th>\n",
       "      <th rowspan=\"3\" valign=\"top\">Bryan Hu</th>\n",
       "      <th>Fund</th>\n",
       "      <td>1</td>\n",
       "      <td>10000</td>\n",
       "    </tr>\n",
       "    <tr>\n",
       "      <th>Option</th>\n",
       "      <td>1</td>\n",
       "      <td>10000</td>\n",
       "    </tr>\n",
       "    <tr>\n",
       "      <th>Stock</th>\n",
       "      <td>2</td>\n",
       "      <td>105000</td>\n",
       "    </tr>\n",
       "    <tr>\n",
       "      <th rowspan=\"3\" valign=\"top\">Nicolas Liu</th>\n",
       "      <th>Bond</th>\n",
       "      <td>1</td>\n",
       "      <td>15000</td>\n",
       "    </tr>\n",
       "    <tr>\n",
       "      <th>Fund</th>\n",
       "      <td>1</td>\n",
       "      <td>30000</td>\n",
       "    </tr>\n",
       "    <tr>\n",
       "      <th>Stock</th>\n",
       "      <td>2</td>\n",
       "      <td>245000</td>\n",
       "    </tr>\n",
       "    <tr>\n",
       "      <th>All</th>\n",
       "      <th></th>\n",
       "      <th></th>\n",
       "      <td>17</td>\n",
       "      <td>720000</td>\n",
       "    </tr>\n",
       "  </tbody>\n",
       "</table>\n",
       "</div>"
      ],
      "text/plain": [
       "                                      Quantity   Value\n",
       "Counterparty   Trader       Category                  \n",
       "Goldman Sachs  Lily Song    Fund             1   20000\n",
       "                            Stock            1   35000\n",
       "               Sherry Zhang Option           1   10000\n",
       "                            Stock            2  140000\n",
       "               Steven Wang  Fund             1   20000\n",
       "                            Option           1   10000\n",
       "                            Stock            2   70000\n",
       "Morgan Stanley Bryan Hu     Fund             1   10000\n",
       "                            Option           1   10000\n",
       "                            Stock            2  105000\n",
       "               Nicolas Liu  Bond             1   15000\n",
       "                            Fund             1   30000\n",
       "                            Stock            2  245000\n",
       "All                                         17  720000"
      ]
     },
     "execution_count": 128,
     "metadata": {},
     "output_type": "execute_result"
    }
   ],
   "source": [
    "pd.pivot_table( df, index=[\"Counterparty\",\"Trader\",\"Category\"], \n",
    "                    values=[\"Value\",\"Quantity\"],\n",
    "                    aggfunc={\"Value\":np.sum, \"Quantity\":len},\n",
    "                    fill_value=0,\n",
    "                    margins=True )"
   ]
  },
  {
   "cell_type": "markdown",
   "metadata": {},
   "source": [
    "再进一步，不同列还可以应用多个函数，只需把函数名称变成函数列表就可以了。语法如下：\n",
    "\n",
    "    aggfunc = {col_1:func_1, col_2:func_list, ... col_n:func_n}\n",
    "    \n",
    "假设第二列传入一个函数列表。"
   ]
  },
  {
   "cell_type": "code",
   "execution_count": 129,
   "metadata": {},
   "outputs": [
    {
     "data": {
      "text/html": [
       "<div>\n",
       "<style scoped>\n",
       "    .dataframe tbody tr th:only-of-type {\n",
       "        vertical-align: middle;\n",
       "    }\n",
       "\n",
       "    .dataframe tbody tr th {\n",
       "        vertical-align: top;\n",
       "    }\n",
       "\n",
       "    .dataframe thead tr th {\n",
       "        text-align: left;\n",
       "    }\n",
       "\n",
       "    .dataframe thead tr:last-of-type th {\n",
       "        text-align: right;\n",
       "    }\n",
       "</style>\n",
       "<table border=\"1\" class=\"dataframe\">\n",
       "  <thead>\n",
       "    <tr>\n",
       "      <th></th>\n",
       "      <th></th>\n",
       "      <th></th>\n",
       "      <th>Quantity</th>\n",
       "      <th colspan=\"3\" halign=\"left\">Value</th>\n",
       "    </tr>\n",
       "    <tr>\n",
       "      <th></th>\n",
       "      <th></th>\n",
       "      <th></th>\n",
       "      <th>len</th>\n",
       "      <th>max</th>\n",
       "      <th>min</th>\n",
       "      <th>sum</th>\n",
       "    </tr>\n",
       "    <tr>\n",
       "      <th>Counterparty</th>\n",
       "      <th>Trader</th>\n",
       "      <th>Category</th>\n",
       "      <th></th>\n",
       "      <th></th>\n",
       "      <th></th>\n",
       "      <th></th>\n",
       "    </tr>\n",
       "  </thead>\n",
       "  <tbody>\n",
       "    <tr>\n",
       "      <th rowspan=\"7\" valign=\"top\">Goldman Sachs</th>\n",
       "      <th rowspan=\"2\" valign=\"top\">Lily Song</th>\n",
       "      <th>Fund</th>\n",
       "      <td>1</td>\n",
       "      <td>20000</td>\n",
       "      <td>20000</td>\n",
       "      <td>20000</td>\n",
       "    </tr>\n",
       "    <tr>\n",
       "      <th>Stock</th>\n",
       "      <td>1</td>\n",
       "      <td>35000</td>\n",
       "      <td>35000</td>\n",
       "      <td>35000</td>\n",
       "    </tr>\n",
       "    <tr>\n",
       "      <th rowspan=\"2\" valign=\"top\">Sherry Zhang</th>\n",
       "      <th>Option</th>\n",
       "      <td>1</td>\n",
       "      <td>10000</td>\n",
       "      <td>10000</td>\n",
       "      <td>10000</td>\n",
       "    </tr>\n",
       "    <tr>\n",
       "      <th>Stock</th>\n",
       "      <td>2</td>\n",
       "      <td>70000</td>\n",
       "      <td>70000</td>\n",
       "      <td>140000</td>\n",
       "    </tr>\n",
       "    <tr>\n",
       "      <th rowspan=\"3\" valign=\"top\">Steven Wang</th>\n",
       "      <th>Fund</th>\n",
       "      <td>1</td>\n",
       "      <td>20000</td>\n",
       "      <td>20000</td>\n",
       "      <td>20000</td>\n",
       "    </tr>\n",
       "    <tr>\n",
       "      <th>Option</th>\n",
       "      <td>1</td>\n",
       "      <td>10000</td>\n",
       "      <td>10000</td>\n",
       "      <td>10000</td>\n",
       "    </tr>\n",
       "    <tr>\n",
       "      <th>Stock</th>\n",
       "      <td>2</td>\n",
       "      <td>35000</td>\n",
       "      <td>35000</td>\n",
       "      <td>70000</td>\n",
       "    </tr>\n",
       "    <tr>\n",
       "      <th rowspan=\"6\" valign=\"top\">Morgan Stanley</th>\n",
       "      <th rowspan=\"3\" valign=\"top\">Bryan Hu</th>\n",
       "      <th>Fund</th>\n",
       "      <td>1</td>\n",
       "      <td>10000</td>\n",
       "      <td>10000</td>\n",
       "      <td>10000</td>\n",
       "    </tr>\n",
       "    <tr>\n",
       "      <th>Option</th>\n",
       "      <td>1</td>\n",
       "      <td>10000</td>\n",
       "      <td>10000</td>\n",
       "      <td>10000</td>\n",
       "    </tr>\n",
       "    <tr>\n",
       "      <th>Stock</th>\n",
       "      <td>2</td>\n",
       "      <td>70000</td>\n",
       "      <td>35000</td>\n",
       "      <td>105000</td>\n",
       "    </tr>\n",
       "    <tr>\n",
       "      <th rowspan=\"3\" valign=\"top\">Nicolas Liu</th>\n",
       "      <th>Bond</th>\n",
       "      <td>1</td>\n",
       "      <td>15000</td>\n",
       "      <td>15000</td>\n",
       "      <td>15000</td>\n",
       "    </tr>\n",
       "    <tr>\n",
       "      <th>Fund</th>\n",
       "      <td>1</td>\n",
       "      <td>30000</td>\n",
       "      <td>30000</td>\n",
       "      <td>30000</td>\n",
       "    </tr>\n",
       "    <tr>\n",
       "      <th>Stock</th>\n",
       "      <td>2</td>\n",
       "      <td>175000</td>\n",
       "      <td>70000</td>\n",
       "      <td>245000</td>\n",
       "    </tr>\n",
       "  </tbody>\n",
       "</table>\n",
       "</div>"
      ],
      "text/plain": [
       "                                     Quantity   Value               \n",
       "                                          len     max    min     sum\n",
       "Counterparty   Trader       Category                                \n",
       "Goldman Sachs  Lily Song    Fund            1   20000  20000   20000\n",
       "                            Stock           1   35000  35000   35000\n",
       "               Sherry Zhang Option          1   10000  10000   10000\n",
       "                            Stock           2   70000  70000  140000\n",
       "               Steven Wang  Fund            1   20000  20000   20000\n",
       "                            Option          1   10000  10000   10000\n",
       "                            Stock           2   35000  35000   70000\n",
       "Morgan Stanley Bryan Hu     Fund            1   10000  10000   10000\n",
       "                            Option          1   10000  10000   10000\n",
       "                            Stock           2   70000  35000  105000\n",
       "               Nicolas Liu  Bond            1   15000  15000   15000\n",
       "                            Fund            1   30000  30000   30000\n",
       "                            Stock           2  175000  70000  245000"
      ]
     },
     "execution_count": 129,
     "metadata": {},
     "output_type": "execute_result"
    }
   ],
   "source": [
    "pd.pivot_table( df, index=[\"Counterparty\",\"Trader\",\"Category\"], \n",
    "                    values=[\"Value\",\"Quantity\"],\n",
    "                    aggfunc={\"Value\":[np.sum, min, max], \"Quantity\":len},\n",
    "                    fill_value=0 )"
   ]
  },
  {
   "cell_type": "markdown",
   "metadata": {},
   "source": [
    "一次性做出这样的表不容易，但按步摸索 (一次设置一次参数) 的方式却很简单。"
   ]
  },
  {
   "cell_type": "markdown",
   "metadata": {},
   "source": [
    "一旦得到最终结果，它本质还是个数据帧，因此可以使用所有标配函数。下例用 `query()` 函数来查询名叫 Steven Wang 和 Sherry Zhang 的交易员。"
   ]
  },
  {
   "cell_type": "code",
   "execution_count": 130,
   "metadata": {},
   "outputs": [
    {
     "data": {
      "text/html": [
       "<div>\n",
       "<style scoped>\n",
       "    .dataframe tbody tr th:only-of-type {\n",
       "        vertical-align: middle;\n",
       "    }\n",
       "\n",
       "    .dataframe tbody tr th {\n",
       "        vertical-align: top;\n",
       "    }\n",
       "\n",
       "    .dataframe thead th {\n",
       "        text-align: right;\n",
       "    }\n",
       "</style>\n",
       "<table border=\"1\" class=\"dataframe\">\n",
       "  <thead>\n",
       "    <tr style=\"text-align: right;\">\n",
       "      <th></th>\n",
       "      <th></th>\n",
       "      <th></th>\n",
       "      <th>Quantity</th>\n",
       "      <th>Value</th>\n",
       "    </tr>\n",
       "    <tr>\n",
       "      <th>Counterparty</th>\n",
       "      <th>Trader</th>\n",
       "      <th>Category</th>\n",
       "      <th></th>\n",
       "      <th></th>\n",
       "    </tr>\n",
       "  </thead>\n",
       "  <tbody>\n",
       "    <tr>\n",
       "      <th rowspan=\"5\" valign=\"top\">Goldman Sachs</th>\n",
       "      <th rowspan=\"2\" valign=\"top\">Sherry Zhang</th>\n",
       "      <th>Option</th>\n",
       "      <td>1</td>\n",
       "      <td>10000</td>\n",
       "    </tr>\n",
       "    <tr>\n",
       "      <th>Stock</th>\n",
       "      <td>2</td>\n",
       "      <td>140000</td>\n",
       "    </tr>\n",
       "    <tr>\n",
       "      <th rowspan=\"3\" valign=\"top\">Steven Wang</th>\n",
       "      <th>Fund</th>\n",
       "      <td>1</td>\n",
       "      <td>20000</td>\n",
       "    </tr>\n",
       "    <tr>\n",
       "      <th>Option</th>\n",
       "      <td>1</td>\n",
       "      <td>10000</td>\n",
       "    </tr>\n",
       "    <tr>\n",
       "      <th>Stock</th>\n",
       "      <td>2</td>\n",
       "      <td>70000</td>\n",
       "    </tr>\n",
       "  </tbody>\n",
       "</table>\n",
       "</div>"
      ],
      "text/plain": [
       "                                     Quantity   Value\n",
       "Counterparty  Trader       Category                  \n",
       "Goldman Sachs Sherry Zhang Option           1   10000\n",
       "                           Stock            2  140000\n",
       "              Steven Wang  Fund             1   20000\n",
       "                           Option           1   10000\n",
       "                           Stock            2   70000"
      ]
     },
     "execution_count": 130,
     "metadata": {},
     "output_type": "execute_result"
    }
   ],
   "source": [
    "table = pd.pivot_table( df, index=[\"Counterparty\",\"Trader\",\"Category\"], \n",
    "                            values=[\"Value\",\"Quantity\"],\n",
    "                            aggfunc={\"Value\":np.sum, \"Quantity\":len},\n",
    "                            fill_value=0 )\n",
    "table.query('Trader == [\"Steven Wang\", \"Sherry Zhang\"]')"
   ]
  },
  {
   "cell_type": "markdown",
   "metadata": {},
   "source": [
    "查询所有期权和基金产品相关的信息。"
   ]
  },
  {
   "cell_type": "code",
   "execution_count": 131,
   "metadata": {},
   "outputs": [
    {
     "data": {
      "text/html": [
       "<div>\n",
       "<style scoped>\n",
       "    .dataframe tbody tr th:only-of-type {\n",
       "        vertical-align: middle;\n",
       "    }\n",
       "\n",
       "    .dataframe tbody tr th {\n",
       "        vertical-align: top;\n",
       "    }\n",
       "\n",
       "    .dataframe thead th {\n",
       "        text-align: right;\n",
       "    }\n",
       "</style>\n",
       "<table border=\"1\" class=\"dataframe\">\n",
       "  <thead>\n",
       "    <tr style=\"text-align: right;\">\n",
       "      <th></th>\n",
       "      <th></th>\n",
       "      <th></th>\n",
       "      <th>Quantity</th>\n",
       "      <th>Value</th>\n",
       "    </tr>\n",
       "    <tr>\n",
       "      <th>Counterparty</th>\n",
       "      <th>Trader</th>\n",
       "      <th>Category</th>\n",
       "      <th></th>\n",
       "      <th></th>\n",
       "    </tr>\n",
       "  </thead>\n",
       "  <tbody>\n",
       "    <tr>\n",
       "      <th rowspan=\"4\" valign=\"top\">Goldman Sachs</th>\n",
       "      <th>Lily Song</th>\n",
       "      <th>Fund</th>\n",
       "      <td>1</td>\n",
       "      <td>20000</td>\n",
       "    </tr>\n",
       "    <tr>\n",
       "      <th>Sherry Zhang</th>\n",
       "      <th>Option</th>\n",
       "      <td>1</td>\n",
       "      <td>10000</td>\n",
       "    </tr>\n",
       "    <tr>\n",
       "      <th rowspan=\"2\" valign=\"top\">Steven Wang</th>\n",
       "      <th>Fund</th>\n",
       "      <td>1</td>\n",
       "      <td>20000</td>\n",
       "    </tr>\n",
       "    <tr>\n",
       "      <th>Option</th>\n",
       "      <td>1</td>\n",
       "      <td>10000</td>\n",
       "    </tr>\n",
       "    <tr>\n",
       "      <th rowspan=\"3\" valign=\"top\">Morgan Stanley</th>\n",
       "      <th rowspan=\"2\" valign=\"top\">Bryan Hu</th>\n",
       "      <th>Fund</th>\n",
       "      <td>1</td>\n",
       "      <td>10000</td>\n",
       "    </tr>\n",
       "    <tr>\n",
       "      <th>Option</th>\n",
       "      <td>1</td>\n",
       "      <td>10000</td>\n",
       "    </tr>\n",
       "    <tr>\n",
       "      <th>Nicolas Liu</th>\n",
       "      <th>Fund</th>\n",
       "      <td>1</td>\n",
       "      <td>30000</td>\n",
       "    </tr>\n",
       "  </tbody>\n",
       "</table>\n",
       "</div>"
      ],
      "text/plain": [
       "                                      Quantity  Value\n",
       "Counterparty   Trader       Category                 \n",
       "Goldman Sachs  Lily Song    Fund             1  20000\n",
       "               Sherry Zhang Option           1  10000\n",
       "               Steven Wang  Fund             1  20000\n",
       "                            Option           1  10000\n",
       "Morgan Stanley Bryan Hu     Fund             1  10000\n",
       "                            Option           1  10000\n",
       "               Nicolas Liu  Fund             1  30000"
      ]
     },
     "execution_count": 131,
     "metadata": {},
     "output_type": "execute_result"
    }
   ],
   "source": [
    "table.query('Category == [\"Fund\", \"Option\"]')"
   ]
  },
  {
   "cell_type": "markdown",
   "metadata": {},
   "source": [
    "***\n",
    "下图可视化 `pivot_table()` 函数的用法。\n",
    "\n",
    "<img src=\"Pivot Table.PNG\" style=\"width:800px; height:400px;\">"
   ]
  },
  {
   "cell_type": "markdown",
   "metadata": {},
   "source": [
    "### <font color='#2b4750' face='微软雅黑'>7.4 多维交叉分析</font><a name='7.4'></a>\n",
    "[<font color='black' face='微软雅黑'>回到章首</font>](#7)\n",
    "\n",
    "**交叉表** (cross table) 是透视表的特例，其默认的整合函数是计算个数或频率。"
   ]
  },
  {
   "cell_type": "code",
   "execution_count": 237,
   "metadata": {},
   "outputs": [
    {
     "data": {
      "text/html": [
       "<div>\n",
       "<style scoped>\n",
       "    .dataframe tbody tr th:only-of-type {\n",
       "        vertical-align: middle;\n",
       "    }\n",
       "\n",
       "    .dataframe tbody tr th {\n",
       "        vertical-align: top;\n",
       "    }\n",
       "\n",
       "    .dataframe thead th {\n",
       "        text-align: right;\n",
       "    }\n",
       "</style>\n",
       "<table border=\"1\" class=\"dataframe\">\n",
       "  <thead>\n",
       "    <tr style=\"text-align: right;\">\n",
       "      <th></th>\n",
       "      <th>person_age</th>\n",
       "      <th>person_income</th>\n",
       "      <th>person_home_ownership</th>\n",
       "      <th>person_emp_length</th>\n",
       "      <th>loan_intent</th>\n",
       "      <th>loan_grade</th>\n",
       "      <th>loan_amnt</th>\n",
       "      <th>loan_int_rate</th>\n",
       "      <th>loan_status</th>\n",
       "      <th>loan_percent_income</th>\n",
       "      <th>cb_person_default_on_file</th>\n",
       "      <th>cb_person_cred_hist_length</th>\n",
       "    </tr>\n",
       "  </thead>\n",
       "  <tbody>\n",
       "    <tr>\n",
       "      <th>0</th>\n",
       "      <td>22</td>\n",
       "      <td>59000</td>\n",
       "      <td>RENT</td>\n",
       "      <td>123.0</td>\n",
       "      <td>PERSONAL</td>\n",
       "      <td>D</td>\n",
       "      <td>35000</td>\n",
       "      <td>16.02</td>\n",
       "      <td>1</td>\n",
       "      <td>0.59</td>\n",
       "      <td>Y</td>\n",
       "      <td>3</td>\n",
       "    </tr>\n",
       "    <tr>\n",
       "      <th>1</th>\n",
       "      <td>21</td>\n",
       "      <td>9600</td>\n",
       "      <td>OWN</td>\n",
       "      <td>5.0</td>\n",
       "      <td>EDUCATION</td>\n",
       "      <td>B</td>\n",
       "      <td>1000</td>\n",
       "      <td>11.14</td>\n",
       "      <td>0</td>\n",
       "      <td>0.10</td>\n",
       "      <td>N</td>\n",
       "      <td>2</td>\n",
       "    </tr>\n",
       "    <tr>\n",
       "      <th>2</th>\n",
       "      <td>25</td>\n",
       "      <td>9600</td>\n",
       "      <td>MORTGAGE</td>\n",
       "      <td>1.0</td>\n",
       "      <td>MEDICAL</td>\n",
       "      <td>C</td>\n",
       "      <td>5500</td>\n",
       "      <td>12.87</td>\n",
       "      <td>1</td>\n",
       "      <td>0.57</td>\n",
       "      <td>N</td>\n",
       "      <td>3</td>\n",
       "    </tr>\n",
       "    <tr>\n",
       "      <th>32579</th>\n",
       "      <td>56</td>\n",
       "      <td>150000</td>\n",
       "      <td>MORTGAGE</td>\n",
       "      <td>5.0</td>\n",
       "      <td>PERSONAL</td>\n",
       "      <td>B</td>\n",
       "      <td>15000</td>\n",
       "      <td>11.48</td>\n",
       "      <td>0</td>\n",
       "      <td>0.10</td>\n",
       "      <td>N</td>\n",
       "      <td>26</td>\n",
       "    </tr>\n",
       "    <tr>\n",
       "      <th>32580</th>\n",
       "      <td>66</td>\n",
       "      <td>42000</td>\n",
       "      <td>RENT</td>\n",
       "      <td>2.0</td>\n",
       "      <td>MEDICAL</td>\n",
       "      <td>B</td>\n",
       "      <td>6475</td>\n",
       "      <td>9.99</td>\n",
       "      <td>0</td>\n",
       "      <td>0.15</td>\n",
       "      <td>N</td>\n",
       "      <td>30</td>\n",
       "    </tr>\n",
       "  </tbody>\n",
       "</table>\n",
       "</div>"
      ],
      "text/plain": [
       "       person_age  person_income person_home_ownership  person_emp_length  \\\n",
       "0              22          59000                  RENT              123.0   \n",
       "1              21           9600                   OWN                5.0   \n",
       "2              25           9600              MORTGAGE                1.0   \n",
       "32579          56         150000              MORTGAGE                5.0   \n",
       "32580          66          42000                  RENT                2.0   \n",
       "\n",
       "      loan_intent loan_grade  loan_amnt  loan_int_rate  loan_status  \\\n",
       "0        PERSONAL          D      35000          16.02            1   \n",
       "1       EDUCATION          B       1000          11.14            0   \n",
       "2         MEDICAL          C       5500          12.87            1   \n",
       "32579    PERSONAL          B      15000          11.48            0   \n",
       "32580     MEDICAL          B       6475           9.99            0   \n",
       "\n",
       "       loan_percent_income cb_person_default_on_file  \\\n",
       "0                     0.59                         Y   \n",
       "1                     0.10                         N   \n",
       "2                     0.57                         N   \n",
       "32579                 0.10                         N   \n",
       "32580                 0.15                         N   \n",
       "\n",
       "       cb_person_cred_hist_length  \n",
       "0                               3  \n",
       "1                               2  \n",
       "2                               3  \n",
       "32579                          26  \n",
       "32580                          30  "
      ]
     },
     "execution_count": 237,
     "metadata": {},
     "output_type": "execute_result"
    }
   ],
   "source": [
    "loan = pd.read_csv('Loan Data.csv')\n",
    "loan.head(3).append(loan.tail(2))"
   ]
  },
  {
   "cell_type": "code",
   "execution_count": 182,
   "metadata": {},
   "outputs": [
    {
     "name": "stdout",
     "output_type": "stream",
     "text": [
      "<class 'pandas.core.frame.DataFrame'>\n",
      "RangeIndex: 32581 entries, 0 to 32580\n",
      "Data columns (total 12 columns):\n",
      " #   Column                      Non-Null Count  Dtype  \n",
      "---  ------                      --------------  -----  \n",
      " 0   person_age                  32581 non-null  int64  \n",
      " 1   person_income               32581 non-null  int64  \n",
      " 2   person_home_ownership       32581 non-null  object \n",
      " 3   person_emp_length           31686 non-null  float64\n",
      " 4   loan_intent                 32581 non-null  object \n",
      " 5   loan_grade                  32581 non-null  object \n",
      " 6   loan_amnt                   32581 non-null  int64  \n",
      " 7   loan_int_rate               29465 non-null  float64\n",
      " 8   loan_status                 32581 non-null  int64  \n",
      " 9   loan_percent_income         32581 non-null  float64\n",
      " 10  cb_person_default_on_file   32581 non-null  object \n",
      " 11  cb_person_cred_hist_length  32581 non-null  int64  \n",
      "dtypes: float64(3), int64(5), object(4)\n",
      "memory usage: 3.0+ MB\n"
     ]
    }
   ],
   "source": [
    "loan.info()"
   ]
  },
  {
   "cell_type": "markdown",
   "metadata": {},
   "source": [
    "用交叉表来统计 person_home_ownership 列每个类别 (MORTGAGE, OTHER, OWN, RENT) 下面贷款状态的个数，0 代表未违约，1 代表违约。"
   ]
  },
  {
   "cell_type": "code",
   "execution_count": 171,
   "metadata": {},
   "outputs": [
    {
     "data": {
      "text/html": [
       "<div>\n",
       "<style scoped>\n",
       "    .dataframe tbody tr th:only-of-type {\n",
       "        vertical-align: middle;\n",
       "    }\n",
       "\n",
       "    .dataframe tbody tr th {\n",
       "        vertical-align: top;\n",
       "    }\n",
       "\n",
       "    .dataframe thead th {\n",
       "        text-align: right;\n",
       "    }\n",
       "</style>\n",
       "<table border=\"1\" class=\"dataframe\">\n",
       "  <thead>\n",
       "    <tr style=\"text-align: right;\">\n",
       "      <th>loan_status</th>\n",
       "      <th>0</th>\n",
       "      <th>1</th>\n",
       "    </tr>\n",
       "    <tr>\n",
       "      <th>person_home_ownership</th>\n",
       "      <th></th>\n",
       "      <th></th>\n",
       "    </tr>\n",
       "  </thead>\n",
       "  <tbody>\n",
       "    <tr>\n",
       "      <th>MORTGAGE</th>\n",
       "      <td>11754</td>\n",
       "      <td>1690</td>\n",
       "    </tr>\n",
       "    <tr>\n",
       "      <th>OTHER</th>\n",
       "      <td>74</td>\n",
       "      <td>33</td>\n",
       "    </tr>\n",
       "    <tr>\n",
       "      <th>OWN</th>\n",
       "      <td>2391</td>\n",
       "      <td>193</td>\n",
       "    </tr>\n",
       "    <tr>\n",
       "      <th>RENT</th>\n",
       "      <td>11254</td>\n",
       "      <td>5192</td>\n",
       "    </tr>\n",
       "  </tbody>\n",
       "</table>\n",
       "</div>"
      ],
      "text/plain": [
       "loan_status                0     1\n",
       "person_home_ownership             \n",
       "MORTGAGE               11754  1690\n",
       "OTHER                     74    33\n",
       "OWN                     2391   193\n",
       "RENT                   11254  5192"
      ]
     },
     "execution_count": 171,
     "metadata": {},
     "output_type": "execute_result"
    }
   ],
   "source": [
    "pd.crosstab( index=loan['person_home_ownership'], \n",
    "             columns=loan['loan_status'] )"
   ]
  },
  {
   "cell_type": "markdown",
   "metadata": {},
   "source": [
    "用 `pivot_table()` 函数可以等价实现上面用 `crosstab()` 的产出结果。"
   ]
  },
  {
   "cell_type": "code",
   "execution_count": 179,
   "metadata": {},
   "outputs": [
    {
     "data": {
      "text/html": [
       "<div>\n",
       "<style scoped>\n",
       "    .dataframe tbody tr th:only-of-type {\n",
       "        vertical-align: middle;\n",
       "    }\n",
       "\n",
       "    .dataframe tbody tr th {\n",
       "        vertical-align: top;\n",
       "    }\n",
       "\n",
       "    .dataframe thead tr th {\n",
       "        text-align: left;\n",
       "    }\n",
       "\n",
       "    .dataframe thead tr:last-of-type th {\n",
       "        text-align: right;\n",
       "    }\n",
       "</style>\n",
       "<table border=\"1\" class=\"dataframe\">\n",
       "  <thead>\n",
       "    <tr>\n",
       "      <th></th>\n",
       "      <th colspan=\"2\" halign=\"left\">loan_status</th>\n",
       "    </tr>\n",
       "    <tr>\n",
       "      <th>loan_status</th>\n",
       "      <th>0</th>\n",
       "      <th>1</th>\n",
       "    </tr>\n",
       "    <tr>\n",
       "      <th>person_home_ownership</th>\n",
       "      <th></th>\n",
       "      <th></th>\n",
       "    </tr>\n",
       "  </thead>\n",
       "  <tbody>\n",
       "    <tr>\n",
       "      <th>MORTGAGE</th>\n",
       "      <td>11754</td>\n",
       "      <td>1690</td>\n",
       "    </tr>\n",
       "    <tr>\n",
       "      <th>OTHER</th>\n",
       "      <td>74</td>\n",
       "      <td>33</td>\n",
       "    </tr>\n",
       "    <tr>\n",
       "      <th>OWN</th>\n",
       "      <td>2391</td>\n",
       "      <td>193</td>\n",
       "    </tr>\n",
       "    <tr>\n",
       "      <th>RENT</th>\n",
       "      <td>11254</td>\n",
       "      <td>5192</td>\n",
       "    </tr>\n",
       "  </tbody>\n",
       "</table>\n",
       "</div>"
      ],
      "text/plain": [
       "                      loan_status      \n",
       "loan_status                     0     1\n",
       "person_home_ownership                  \n",
       "MORTGAGE                    11754  1690\n",
       "OTHER                          74    33\n",
       "OWN                          2391   193\n",
       "RENT                        11254  5192"
      ]
     },
     "execution_count": 179,
     "metadata": {},
     "output_type": "execute_result"
    }
   ],
   "source": [
    "pd.pivot_table( loan, index='person_home_ownership',\n",
    "                      columns='loan_status',\n",
    "                      aggfunc={'loan_status':len},\n",
    "                      fill_value=0 )"
   ]
  },
  {
   "cell_type": "markdown",
   "metadata": {},
   "source": [
    "用交叉表来统计 loan_grade 列每个类别 (从 A 到 G) 下面贷款状态的个数，显示总数并起名为 Total。"
   ]
  },
  {
   "cell_type": "code",
   "execution_count": 175,
   "metadata": {},
   "outputs": [
    {
     "data": {
      "text/html": [
       "<div>\n",
       "<style scoped>\n",
       "    .dataframe tbody tr th:only-of-type {\n",
       "        vertical-align: middle;\n",
       "    }\n",
       "\n",
       "    .dataframe tbody tr th {\n",
       "        vertical-align: top;\n",
       "    }\n",
       "\n",
       "    .dataframe thead th {\n",
       "        text-align: right;\n",
       "    }\n",
       "</style>\n",
       "<table border=\"1\" class=\"dataframe\">\n",
       "  <thead>\n",
       "    <tr style=\"text-align: right;\">\n",
       "      <th>loan_status</th>\n",
       "      <th>0</th>\n",
       "      <th>1</th>\n",
       "      <th>Total</th>\n",
       "    </tr>\n",
       "    <tr>\n",
       "      <th>loan_grade</th>\n",
       "      <th></th>\n",
       "      <th></th>\n",
       "      <th></th>\n",
       "    </tr>\n",
       "  </thead>\n",
       "  <tbody>\n",
       "    <tr>\n",
       "      <th>A</th>\n",
       "      <td>9704</td>\n",
       "      <td>1073</td>\n",
       "      <td>10777</td>\n",
       "    </tr>\n",
       "    <tr>\n",
       "      <th>B</th>\n",
       "      <td>8750</td>\n",
       "      <td>1701</td>\n",
       "      <td>10451</td>\n",
       "    </tr>\n",
       "    <tr>\n",
       "      <th>C</th>\n",
       "      <td>5119</td>\n",
       "      <td>1339</td>\n",
       "      <td>6458</td>\n",
       "    </tr>\n",
       "    <tr>\n",
       "      <th>D</th>\n",
       "      <td>1485</td>\n",
       "      <td>2141</td>\n",
       "      <td>3626</td>\n",
       "    </tr>\n",
       "    <tr>\n",
       "      <th>E</th>\n",
       "      <td>343</td>\n",
       "      <td>621</td>\n",
       "      <td>964</td>\n",
       "    </tr>\n",
       "    <tr>\n",
       "      <th>F</th>\n",
       "      <td>71</td>\n",
       "      <td>170</td>\n",
       "      <td>241</td>\n",
       "    </tr>\n",
       "    <tr>\n",
       "      <th>G</th>\n",
       "      <td>1</td>\n",
       "      <td>63</td>\n",
       "      <td>64</td>\n",
       "    </tr>\n",
       "    <tr>\n",
       "      <th>Total</th>\n",
       "      <td>25473</td>\n",
       "      <td>7108</td>\n",
       "      <td>32581</td>\n",
       "    </tr>\n",
       "  </tbody>\n",
       "</table>\n",
       "</div>"
      ],
      "text/plain": [
       "loan_status      0     1  Total\n",
       "loan_grade                     \n",
       "A             9704  1073  10777\n",
       "B             8750  1701  10451\n",
       "C             5119  1339   6458\n",
       "D             1485  2141   3626\n",
       "E              343   621    964\n",
       "F               71   170    241\n",
       "G                1    63     64\n",
       "Total        25473  7108  32581"
      ]
     },
     "execution_count": 175,
     "metadata": {},
     "output_type": "execute_result"
    }
   ],
   "source": [
    "pd.crosstab( index=loan['loan_grade'], \n",
    "             columns=loan['loan_status'], margins=True, margins_name='Total' )"
   ]
  },
  {
   "cell_type": "markdown",
   "metadata": {},
   "source": [
    "除了统计个数，交叉表也能做透视表做的事情。下列是在不同的 person_home_ownership 和 loan_status 下计算贷款利率的均值。"
   ]
  },
  {
   "cell_type": "code",
   "execution_count": 180,
   "metadata": {},
   "outputs": [
    {
     "data": {
      "text/html": [
       "<div>\n",
       "<style scoped>\n",
       "    .dataframe tbody tr th:only-of-type {\n",
       "        vertical-align: middle;\n",
       "    }\n",
       "\n",
       "    .dataframe tbody tr th {\n",
       "        vertical-align: top;\n",
       "    }\n",
       "\n",
       "    .dataframe thead th {\n",
       "        text-align: right;\n",
       "    }\n",
       "</style>\n",
       "<table border=\"1\" class=\"dataframe\">\n",
       "  <thead>\n",
       "    <tr style=\"text-align: right;\">\n",
       "      <th>loan_status</th>\n",
       "      <th>0</th>\n",
       "      <th>1</th>\n",
       "    </tr>\n",
       "    <tr>\n",
       "      <th>person_home_ownership</th>\n",
       "      <th></th>\n",
       "      <th></th>\n",
       "    </tr>\n",
       "  </thead>\n",
       "  <tbody>\n",
       "    <tr>\n",
       "      <th>MORTGAGE</th>\n",
       "      <td>10.06</td>\n",
       "      <td>13.43</td>\n",
       "    </tr>\n",
       "    <tr>\n",
       "      <th>OTHER</th>\n",
       "      <td>11.41</td>\n",
       "      <td>13.56</td>\n",
       "    </tr>\n",
       "    <tr>\n",
       "      <th>OWN</th>\n",
       "      <td>10.75</td>\n",
       "      <td>12.24</td>\n",
       "    </tr>\n",
       "    <tr>\n",
       "      <th>RENT</th>\n",
       "      <td>10.75</td>\n",
       "      <td>12.97</td>\n",
       "    </tr>\n",
       "  </tbody>\n",
       "</table>\n",
       "</div>"
      ],
      "text/plain": [
       "loan_status                0      1\n",
       "person_home_ownership              \n",
       "MORTGAGE               10.06  13.43\n",
       "OTHER                  11.41  13.56\n",
       "OWN                    10.75  12.24\n",
       "RENT                   10.75  12.97"
      ]
     },
     "execution_count": 180,
     "metadata": {},
     "output_type": "execute_result"
    }
   ],
   "source": [
    "pd.crosstab( index=loan['person_home_ownership'], \n",
    "             columns=loan['loan_status'],\n",
    "             values=loan['loan_int_rate'], \n",
    "             aggfunc='mean').round(2)"
   ]
  },
  {
   "cell_type": "markdown",
   "metadata": {},
   "source": [
    "在 `crosstab()` 函数中没有 `fill_value` 参数，如果结果有 NaN 值，只能紧接一个 `.fillna()` 函数。"
   ]
  },
  {
   "cell_type": "code",
   "execution_count": 190,
   "metadata": {},
   "outputs": [
    {
     "data": {
      "text/html": [
       "<div>\n",
       "<style scoped>\n",
       "    .dataframe tbody tr th:only-of-type {\n",
       "        vertical-align: middle;\n",
       "    }\n",
       "\n",
       "    .dataframe tbody tr th {\n",
       "        vertical-align: top;\n",
       "    }\n",
       "\n",
       "    .dataframe thead th {\n",
       "        text-align: right;\n",
       "    }\n",
       "</style>\n",
       "<table border=\"1\" class=\"dataframe\">\n",
       "  <thead>\n",
       "    <tr style=\"text-align: right;\">\n",
       "      <th>loan_grade</th>\n",
       "      <th>A</th>\n",
       "      <th>B</th>\n",
       "      <th>C</th>\n",
       "      <th>D</th>\n",
       "      <th>E</th>\n",
       "      <th>F</th>\n",
       "      <th>G</th>\n",
       "    </tr>\n",
       "    <tr>\n",
       "      <th>person_home_ownership</th>\n",
       "      <th></th>\n",
       "      <th></th>\n",
       "      <th></th>\n",
       "      <th></th>\n",
       "      <th></th>\n",
       "      <th></th>\n",
       "      <th></th>\n",
       "    </tr>\n",
       "  </thead>\n",
       "  <tbody>\n",
       "    <tr>\n",
       "      <th>MORTGAGE</th>\n",
       "      <td>7.215221</td>\n",
       "      <td>10.967141</td>\n",
       "      <td>13.461798</td>\n",
       "      <td>15.350553</td>\n",
       "      <td>17.077922</td>\n",
       "      <td>18.418043</td>\n",
       "      <td>20.085357</td>\n",
       "    </tr>\n",
       "    <tr>\n",
       "      <th>OTHER</th>\n",
       "      <td>8.696250</td>\n",
       "      <td>11.454333</td>\n",
       "      <td>12.921250</td>\n",
       "      <td>15.068750</td>\n",
       "      <td>15.961667</td>\n",
       "      <td>17.465000</td>\n",
       "      <td>NaN</td>\n",
       "    </tr>\n",
       "    <tr>\n",
       "      <th>OWN</th>\n",
       "      <td>7.288959</td>\n",
       "      <td>11.073681</td>\n",
       "      <td>13.564615</td>\n",
       "      <td>15.426308</td>\n",
       "      <td>17.251600</td>\n",
       "      <td>18.268000</td>\n",
       "      <td>20.650000</td>\n",
       "    </tr>\n",
       "    <tr>\n",
       "      <th>RENT</th>\n",
       "      <td>7.467690</td>\n",
       "      <td>11.001820</td>\n",
       "      <td>13.453823</td>\n",
       "      <td>15.361370</td>\n",
       "      <td>16.957408</td>\n",
       "      <td>18.847143</td>\n",
       "      <td>20.353846</td>\n",
       "    </tr>\n",
       "  </tbody>\n",
       "</table>\n",
       "</div>"
      ],
      "text/plain": [
       "loan_grade                    A          B          C          D          E  \\\n",
       "person_home_ownership                                                         \n",
       "MORTGAGE               7.215221  10.967141  13.461798  15.350553  17.077922   \n",
       "OTHER                  8.696250  11.454333  12.921250  15.068750  15.961667   \n",
       "OWN                    7.288959  11.073681  13.564615  15.426308  17.251600   \n",
       "RENT                   7.467690  11.001820  13.453823  15.361370  16.957408   \n",
       "\n",
       "loan_grade                     F          G  \n",
       "person_home_ownership                        \n",
       "MORTGAGE               18.418043  20.085357  \n",
       "OTHER                  17.465000        NaN  \n",
       "OWN                    18.268000  20.650000  \n",
       "RENT                   18.847143  20.353846  "
      ]
     },
     "execution_count": 190,
     "metadata": {},
     "output_type": "execute_result"
    }
   ],
   "source": [
    "pd.crosstab( index=loan['person_home_ownership'], \n",
    "             columns=loan['loan_grade'],\n",
    "             values=loan['loan_int_rate'], \n",
    "             aggfunc='mean')"
   ]
  },
  {
   "cell_type": "code",
   "execution_count": 191,
   "metadata": {},
   "outputs": [
    {
     "data": {
      "text/html": [
       "<div>\n",
       "<style scoped>\n",
       "    .dataframe tbody tr th:only-of-type {\n",
       "        vertical-align: middle;\n",
       "    }\n",
       "\n",
       "    .dataframe tbody tr th {\n",
       "        vertical-align: top;\n",
       "    }\n",
       "\n",
       "    .dataframe thead th {\n",
       "        text-align: right;\n",
       "    }\n",
       "</style>\n",
       "<table border=\"1\" class=\"dataframe\">\n",
       "  <thead>\n",
       "    <tr style=\"text-align: right;\">\n",
       "      <th>loan_grade</th>\n",
       "      <th>A</th>\n",
       "      <th>B</th>\n",
       "      <th>C</th>\n",
       "      <th>D</th>\n",
       "      <th>E</th>\n",
       "      <th>F</th>\n",
       "      <th>G</th>\n",
       "    </tr>\n",
       "    <tr>\n",
       "      <th>person_home_ownership</th>\n",
       "      <th></th>\n",
       "      <th></th>\n",
       "      <th></th>\n",
       "      <th></th>\n",
       "      <th></th>\n",
       "      <th></th>\n",
       "      <th></th>\n",
       "    </tr>\n",
       "  </thead>\n",
       "  <tbody>\n",
       "    <tr>\n",
       "      <th>MORTGAGE</th>\n",
       "      <td>7.215221</td>\n",
       "      <td>10.967141</td>\n",
       "      <td>13.461798</td>\n",
       "      <td>15.350553</td>\n",
       "      <td>17.077922</td>\n",
       "      <td>18.418043</td>\n",
       "      <td>20.085357</td>\n",
       "    </tr>\n",
       "    <tr>\n",
       "      <th>OTHER</th>\n",
       "      <td>8.696250</td>\n",
       "      <td>11.454333</td>\n",
       "      <td>12.921250</td>\n",
       "      <td>15.068750</td>\n",
       "      <td>15.961667</td>\n",
       "      <td>17.465000</td>\n",
       "      <td>0.000000</td>\n",
       "    </tr>\n",
       "    <tr>\n",
       "      <th>OWN</th>\n",
       "      <td>7.288959</td>\n",
       "      <td>11.073681</td>\n",
       "      <td>13.564615</td>\n",
       "      <td>15.426308</td>\n",
       "      <td>17.251600</td>\n",
       "      <td>18.268000</td>\n",
       "      <td>20.650000</td>\n",
       "    </tr>\n",
       "    <tr>\n",
       "      <th>RENT</th>\n",
       "      <td>7.467690</td>\n",
       "      <td>11.001820</td>\n",
       "      <td>13.453823</td>\n",
       "      <td>15.361370</td>\n",
       "      <td>16.957408</td>\n",
       "      <td>18.847143</td>\n",
       "      <td>20.353846</td>\n",
       "    </tr>\n",
       "  </tbody>\n",
       "</table>\n",
       "</div>"
      ],
      "text/plain": [
       "loan_grade                    A          B          C          D          E  \\\n",
       "person_home_ownership                                                         \n",
       "MORTGAGE               7.215221  10.967141  13.461798  15.350553  17.077922   \n",
       "OTHER                  8.696250  11.454333  12.921250  15.068750  15.961667   \n",
       "OWN                    7.288959  11.073681  13.564615  15.426308  17.251600   \n",
       "RENT                   7.467690  11.001820  13.453823  15.361370  16.957408   \n",
       "\n",
       "loan_grade                     F          G  \n",
       "person_home_ownership                        \n",
       "MORTGAGE               18.418043  20.085357  \n",
       "OTHER                  17.465000   0.000000  \n",
       "OWN                    18.268000  20.650000  \n",
       "RENT                   18.847143  20.353846  "
      ]
     },
     "execution_count": 191,
     "metadata": {},
     "output_type": "execute_result"
    }
   ],
   "source": [
    "pd.crosstab( index=loan['person_home_ownership'], \n",
    "             columns=loan['loan_grade'],\n",
    "             values=loan['loan_int_rate'], \n",
    "             aggfunc='mean').fillna(0)"
   ]
  },
  {
   "cell_type": "markdown",
   "metadata": {},
   "source": [
    "上面已经展示交叉表的计数功能，如果最终结果想用频率展示的话，可以设置 `normalize` 参数，其中\n",
    "\n",
    "- `normalized =` **`True`** 或者 `all`，在所有元素上做标准化\n",
    "- `normalized = columns`，在列上做标准化\n",
    "- `normalized = index`，在行上做标准化\n",
    "\n",
    "下面在不同的 loan_intent 和 loan_status 下统计贷款状态的百分比。\n",
    "\n",
    "设置 `normalize=`**`True`** 按元素计算百分比，即所有元素下的百分比加起来等于 100%。"
   ]
  },
  {
   "cell_type": "code",
   "execution_count": 227,
   "metadata": {},
   "outputs": [
    {
     "data": {
      "text/html": [
       "<style  type=\"text/css\" >\n",
       "</style><table id=\"T_f9c8087a_ad1f_11ea_a108_f48c504b53b5\" ><thead>    <tr>        <th class=\"index_name level0\" >loan_status</th>        <th class=\"col_heading level0 col0\" >0</th>        <th class=\"col_heading level0 col1\" >1</th>    </tr>    <tr>        <th class=\"index_name level0\" >loan_intent</th>        <th class=\"blank\" ></th>        <th class=\"blank\" ></th>    </tr></thead><tbody>\n",
       "                <tr>\n",
       "                        <th id=\"T_f9c8087a_ad1f_11ea_a108_f48c504b53b5level0_row0\" class=\"row_heading level0 row0\" >DEBTCONSOLIDATION</th>\n",
       "                        <td id=\"T_f9c8087a_ad1f_11ea_a108_f48c504b53b5row0_col0\" class=\"data row0 col0\" >11.42%</td>\n",
       "                        <td id=\"T_f9c8087a_ad1f_11ea_a108_f48c504b53b5row0_col1\" class=\"data row0 col1\" >4.57%</td>\n",
       "            </tr>\n",
       "            <tr>\n",
       "                        <th id=\"T_f9c8087a_ad1f_11ea_a108_f48c504b53b5level0_row1\" class=\"row_heading level0 row1\" >EDUCATION</th>\n",
       "                        <td id=\"T_f9c8087a_ad1f_11ea_a108_f48c504b53b5row1_col0\" class=\"data row1 col0\" >16.40%</td>\n",
       "                        <td id=\"T_f9c8087a_ad1f_11ea_a108_f48c504b53b5row1_col1\" class=\"data row1 col1\" >3.41%</td>\n",
       "            </tr>\n",
       "            <tr>\n",
       "                        <th id=\"T_f9c8087a_ad1f_11ea_a108_f48c504b53b5level0_row2\" class=\"row_heading level0 row2\" >HOMEIMPROVEMENT</th>\n",
       "                        <td id=\"T_f9c8087a_ad1f_11ea_a108_f48c504b53b5row2_col0\" class=\"data row2 col0\" >8.18%</td>\n",
       "                        <td id=\"T_f9c8087a_ad1f_11ea_a108_f48c504b53b5row2_col1\" class=\"data row2 col1\" >2.89%</td>\n",
       "            </tr>\n",
       "            <tr>\n",
       "                        <th id=\"T_f9c8087a_ad1f_11ea_a108_f48c504b53b5level0_row3\" class=\"row_heading level0 row3\" >MEDICAL</th>\n",
       "                        <td id=\"T_f9c8087a_ad1f_11ea_a108_f48c504b53b5row3_col0\" class=\"data row3 col0\" >13.66%</td>\n",
       "                        <td id=\"T_f9c8087a_ad1f_11ea_a108_f48c504b53b5row3_col1\" class=\"data row3 col1\" >4.98%</td>\n",
       "            </tr>\n",
       "            <tr>\n",
       "                        <th id=\"T_f9c8087a_ad1f_11ea_a108_f48c504b53b5level0_row4\" class=\"row_heading level0 row4\" >PERSONAL</th>\n",
       "                        <td id=\"T_f9c8087a_ad1f_11ea_a108_f48c504b53b5row4_col0\" class=\"data row4 col0\" >13.58%</td>\n",
       "                        <td id=\"T_f9c8087a_ad1f_11ea_a108_f48c504b53b5row4_col1\" class=\"data row4 col1\" >3.37%</td>\n",
       "            </tr>\n",
       "            <tr>\n",
       "                        <th id=\"T_f9c8087a_ad1f_11ea_a108_f48c504b53b5level0_row5\" class=\"row_heading level0 row5\" >VENTURE</th>\n",
       "                        <td id=\"T_f9c8087a_ad1f_11ea_a108_f48c504b53b5row5_col0\" class=\"data row5 col0\" >14.95%</td>\n",
       "                        <td id=\"T_f9c8087a_ad1f_11ea_a108_f48c504b53b5row5_col1\" class=\"data row5 col1\" >2.60%</td>\n",
       "            </tr>\n",
       "    </tbody></table>"
      ],
      "text/plain": [
       "<pandas.io.formats.style.Styler at 0x26aca8dd9e8>"
      ]
     },
     "execution_count": 227,
     "metadata": {},
     "output_type": "execute_result"
    }
   ],
   "source": [
    "pd.crosstab( index=loan['loan_intent'], \n",
    "             columns=loan['loan_status'],\n",
    "             normalize=True ).style.format(\"{:.2%}\")"
   ]
  },
  {
   "cell_type": "markdown",
   "metadata": {},
   "source": [
    "设置 `normalize=columns` 按列计算百分比，即在每列的百分比加起来等于 100%。"
   ]
  },
  {
   "cell_type": "code",
   "execution_count": 228,
   "metadata": {},
   "outputs": [
    {
     "data": {
      "text/html": [
       "<style  type=\"text/css\" >\n",
       "</style><table id=\"T_073815ee_ad20_11ea_9ce4_f48c504b53b5\" ><thead>    <tr>        <th class=\"index_name level0\" >loan_status</th>        <th class=\"col_heading level0 col0\" >0</th>        <th class=\"col_heading level0 col1\" >1</th>    </tr>    <tr>        <th class=\"index_name level0\" >loan_intent</th>        <th class=\"blank\" ></th>        <th class=\"blank\" ></th>    </tr></thead><tbody>\n",
       "                <tr>\n",
       "                        <th id=\"T_073815ee_ad20_11ea_9ce4_f48c504b53b5level0_row0\" class=\"row_heading level0 row0\" >DEBTCONSOLIDATION</th>\n",
       "                        <td id=\"T_073815ee_ad20_11ea_9ce4_f48c504b53b5row0_col0\" class=\"data row0 col0\" >14.61%</td>\n",
       "                        <td id=\"T_073815ee_ad20_11ea_9ce4_f48c504b53b5row0_col1\" class=\"data row0 col1\" >20.96%</td>\n",
       "            </tr>\n",
       "            <tr>\n",
       "                        <th id=\"T_073815ee_ad20_11ea_9ce4_f48c504b53b5level0_row1\" class=\"row_heading level0 row1\" >EDUCATION</th>\n",
       "                        <td id=\"T_073815ee_ad20_11ea_9ce4_f48c504b53b5row1_col0\" class=\"data row1 col0\" >20.97%</td>\n",
       "                        <td id=\"T_073815ee_ad20_11ea_9ce4_f48c504b53b5row1_col1\" class=\"data row1 col1\" >15.63%</td>\n",
       "            </tr>\n",
       "            <tr>\n",
       "                        <th id=\"T_073815ee_ad20_11ea_9ce4_f48c504b53b5level0_row2\" class=\"row_heading level0 row2\" >HOMEIMPROVEMENT</th>\n",
       "                        <td id=\"T_073815ee_ad20_11ea_9ce4_f48c504b53b5row2_col0\" class=\"data row2 col0\" >10.46%</td>\n",
       "                        <td id=\"T_073815ee_ad20_11ea_9ce4_f48c504b53b5row2_col1\" class=\"data row2 col1\" >13.24%</td>\n",
       "            </tr>\n",
       "            <tr>\n",
       "                        <th id=\"T_073815ee_ad20_11ea_9ce4_f48c504b53b5level0_row3\" class=\"row_heading level0 row3\" >MEDICAL</th>\n",
       "                        <td id=\"T_073815ee_ad20_11ea_9ce4_f48c504b53b5row3_col0\" class=\"data row3 col0\" >17.47%</td>\n",
       "                        <td id=\"T_073815ee_ad20_11ea_9ce4_f48c504b53b5row3_col1\" class=\"data row3 col1\" >22.81%</td>\n",
       "            </tr>\n",
       "            <tr>\n",
       "                        <th id=\"T_073815ee_ad20_11ea_9ce4_f48c504b53b5level0_row4\" class=\"row_heading level0 row4\" >PERSONAL</th>\n",
       "                        <td id=\"T_073815ee_ad20_11ea_9ce4_f48c504b53b5row4_col0\" class=\"data row4 col0\" >17.36%</td>\n",
       "                        <td id=\"T_073815ee_ad20_11ea_9ce4_f48c504b53b5row4_col1\" class=\"data row4 col1\" >15.45%</td>\n",
       "            </tr>\n",
       "            <tr>\n",
       "                        <th id=\"T_073815ee_ad20_11ea_9ce4_f48c504b53b5level0_row5\" class=\"row_heading level0 row5\" >VENTURE</th>\n",
       "                        <td id=\"T_073815ee_ad20_11ea_9ce4_f48c504b53b5row5_col0\" class=\"data row5 col0\" >19.13%</td>\n",
       "                        <td id=\"T_073815ee_ad20_11ea_9ce4_f48c504b53b5row5_col1\" class=\"data row5 col1\" >11.92%</td>\n",
       "            </tr>\n",
       "    </tbody></table>"
      ],
      "text/plain": [
       "<pandas.io.formats.style.Styler at 0x26aca4a5358>"
      ]
     },
     "execution_count": 228,
     "metadata": {},
     "output_type": "execute_result"
    }
   ],
   "source": [
    "pd.crosstab( index=loan['loan_intent'], \n",
    "             columns=loan['loan_status'],\n",
    "             normalize='columns' ).style.format(\"{:.2%}\")"
   ]
  },
  {
   "cell_type": "markdown",
   "metadata": {},
   "source": [
    "设置 `normalize=index` 按行计算百分比，即在每行的百分比加起来等于 100%。"
   ]
  },
  {
   "cell_type": "code",
   "execution_count": 230,
   "metadata": {},
   "outputs": [
    {
     "data": {
      "text/html": [
       "<style  type=\"text/css\" >\n",
       "</style><table id=\"T_59f0a878_ad29_11ea_bc3d_f48c504b53b5\" ><thead>    <tr>        <th class=\"index_name level0\" >loan_status</th>        <th class=\"col_heading level0 col0\" >0</th>        <th class=\"col_heading level0 col1\" >1</th>    </tr>    <tr>        <th class=\"index_name level0\" >loan_intent</th>        <th class=\"blank\" ></th>        <th class=\"blank\" ></th>    </tr></thead><tbody>\n",
       "                <tr>\n",
       "                        <th id=\"T_59f0a878_ad29_11ea_bc3d_f48c504b53b5level0_row0\" class=\"row_heading level0 row0\" >DEBTCONSOLIDATION</th>\n",
       "                        <td id=\"T_59f0a878_ad29_11ea_bc3d_f48c504b53b5row0_col0\" class=\"data row0 col0\" >71.41%</td>\n",
       "                        <td id=\"T_59f0a878_ad29_11ea_bc3d_f48c504b53b5row0_col1\" class=\"data row0 col1\" >28.59%</td>\n",
       "            </tr>\n",
       "            <tr>\n",
       "                        <th id=\"T_59f0a878_ad29_11ea_bc3d_f48c504b53b5level0_row1\" class=\"row_heading level0 row1\" >EDUCATION</th>\n",
       "                        <td id=\"T_59f0a878_ad29_11ea_bc3d_f48c504b53b5row1_col0\" class=\"data row1 col0\" >82.78%</td>\n",
       "                        <td id=\"T_59f0a878_ad29_11ea_bc3d_f48c504b53b5row1_col1\" class=\"data row1 col1\" >17.22%</td>\n",
       "            </tr>\n",
       "            <tr>\n",
       "                        <th id=\"T_59f0a878_ad29_11ea_bc3d_f48c504b53b5level0_row2\" class=\"row_heading level0 row2\" >HOMEIMPROVEMENT</th>\n",
       "                        <td id=\"T_59f0a878_ad29_11ea_bc3d_f48c504b53b5row2_col0\" class=\"data row2 col0\" >73.90%</td>\n",
       "                        <td id=\"T_59f0a878_ad29_11ea_bc3d_f48c504b53b5row2_col1\" class=\"data row2 col1\" >26.10%</td>\n",
       "            </tr>\n",
       "            <tr>\n",
       "                        <th id=\"T_59f0a878_ad29_11ea_bc3d_f48c504b53b5level0_row3\" class=\"row_heading level0 row3\" >MEDICAL</th>\n",
       "                        <td id=\"T_59f0a878_ad29_11ea_bc3d_f48c504b53b5row3_col0\" class=\"data row3 col0\" >73.30%</td>\n",
       "                        <td id=\"T_59f0a878_ad29_11ea_bc3d_f48c504b53b5row3_col1\" class=\"data row3 col1\" >26.70%</td>\n",
       "            </tr>\n",
       "            <tr>\n",
       "                        <th id=\"T_59f0a878_ad29_11ea_bc3d_f48c504b53b5level0_row4\" class=\"row_heading level0 row4\" >PERSONAL</th>\n",
       "                        <td id=\"T_59f0a878_ad29_11ea_bc3d_f48c504b53b5row4_col0\" class=\"data row4 col0\" >80.11%</td>\n",
       "                        <td id=\"T_59f0a878_ad29_11ea_bc3d_f48c504b53b5row4_col1\" class=\"data row4 col1\" >19.89%</td>\n",
       "            </tr>\n",
       "            <tr>\n",
       "                        <th id=\"T_59f0a878_ad29_11ea_bc3d_f48c504b53b5level0_row5\" class=\"row_heading level0 row5\" >VENTURE</th>\n",
       "                        <td id=\"T_59f0a878_ad29_11ea_bc3d_f48c504b53b5row5_col0\" class=\"data row5 col0\" >85.19%</td>\n",
       "                        <td id=\"T_59f0a878_ad29_11ea_bc3d_f48c504b53b5row5_col1\" class=\"data row5 col1\" >14.81%</td>\n",
       "            </tr>\n",
       "    </tbody></table>"
      ],
      "text/plain": [
       "<pandas.io.formats.style.Styler at 0x26aca492eb8>"
      ]
     },
     "execution_count": 230,
     "metadata": {},
     "output_type": "execute_result"
    }
   ],
   "source": [
    "pd.crosstab( index=loan['loan_intent'], \n",
    "             columns=loan['loan_status'],\n",
    "             normalize='index' ).style.format(\"{:.2%}\")"
   ]
  },
  {
   "cell_type": "markdown",
   "metadata": {},
   "source": [
    "***\n",
    "下图可视化 `crosstab()` 函数的用法。\n",
    "\n",
    "<img src=\"Cross Table.PNG\" style=\"width:1000px; height:550px;\">"
   ]
  },
  {
   "cell_type": "markdown",
   "metadata": {},
   "source": [
    "# <font color='#dc2624' face='微软雅黑'>8. 数据可视</font><a name='8'></a>\n",
    "[<font color='black' face='微软雅黑'>回到目录</font>](#toc)"
   ]
  },
  {
   "cell_type": "code",
   "execution_count": 251,
   "metadata": {},
   "outputs": [
    {
     "data": {
      "text/html": [
       "<div>\n",
       "<style scoped>\n",
       "    .dataframe tbody tr th:only-of-type {\n",
       "        vertical-align: middle;\n",
       "    }\n",
       "\n",
       "    .dataframe tbody tr th {\n",
       "        vertical-align: top;\n",
       "    }\n",
       "\n",
       "    .dataframe thead th {\n",
       "        text-align: right;\n",
       "    }\n",
       "</style>\n",
       "<table border=\"1\" class=\"dataframe\">\n",
       "  <thead>\n",
       "    <tr style=\"text-align: right;\">\n",
       "      <th></th>\n",
       "      <th>Date</th>\n",
       "      <th>Symbol</th>\n",
       "      <th>Open</th>\n",
       "      <th>High</th>\n",
       "      <th>Low</th>\n",
       "      <th>Close</th>\n",
       "      <th>Adj Close</th>\n",
       "      <th>Volume</th>\n",
       "    </tr>\n",
       "  </thead>\n",
       "  <tbody>\n",
       "    <tr>\n",
       "      <th>0</th>\n",
       "      <td>2018-02-26</td>\n",
       "      <td>AAPL</td>\n",
       "      <td>176.350006</td>\n",
       "      <td>179.389999</td>\n",
       "      <td>176.210007</td>\n",
       "      <td>178.970001</td>\n",
       "      <td>176.285675</td>\n",
       "      <td>38162200</td>\n",
       "    </tr>\n",
       "    <tr>\n",
       "      <th>1</th>\n",
       "      <td>2018-02-27</td>\n",
       "      <td>AAPL</td>\n",
       "      <td>179.100006</td>\n",
       "      <td>180.479996</td>\n",
       "      <td>178.160004</td>\n",
       "      <td>178.389999</td>\n",
       "      <td>175.714386</td>\n",
       "      <td>38928100</td>\n",
       "    </tr>\n",
       "    <tr>\n",
       "      <th>2</th>\n",
       "      <td>2018-02-28</td>\n",
       "      <td>AAPL</td>\n",
       "      <td>179.259995</td>\n",
       "      <td>180.619995</td>\n",
       "      <td>178.050003</td>\n",
       "      <td>178.119995</td>\n",
       "      <td>175.448410</td>\n",
       "      <td>37782100</td>\n",
       "    </tr>\n",
       "    <tr>\n",
       "      <th>1257</th>\n",
       "      <td>2019-02-22</td>\n",
       "      <td>GS</td>\n",
       "      <td>196.600006</td>\n",
       "      <td>197.750000</td>\n",
       "      <td>195.199997</td>\n",
       "      <td>196.000000</td>\n",
       "      <td>196.000000</td>\n",
       "      <td>2626600</td>\n",
       "    </tr>\n",
       "    <tr>\n",
       "      <th>1258</th>\n",
       "      <td>2019-02-25</td>\n",
       "      <td>GS</td>\n",
       "      <td>198.000000</td>\n",
       "      <td>201.500000</td>\n",
       "      <td>197.710007</td>\n",
       "      <td>198.649994</td>\n",
       "      <td>198.649994</td>\n",
       "      <td>3032200</td>\n",
       "    </tr>\n",
       "    <tr>\n",
       "      <th>1259</th>\n",
       "      <td>2019-02-26</td>\n",
       "      <td>GS</td>\n",
       "      <td>198.470001</td>\n",
       "      <td>200.559998</td>\n",
       "      <td>196.550003</td>\n",
       "      <td>198.899994</td>\n",
       "      <td>198.899994</td>\n",
       "      <td>2498000</td>\n",
       "    </tr>\n",
       "  </tbody>\n",
       "</table>\n",
       "</div>"
      ],
      "text/plain": [
       "           Date Symbol        Open        High         Low       Close  \\\n",
       "0    2018-02-26   AAPL  176.350006  179.389999  176.210007  178.970001   \n",
       "1    2018-02-27   AAPL  179.100006  180.479996  178.160004  178.389999   \n",
       "2    2018-02-28   AAPL  179.259995  180.619995  178.050003  178.119995   \n",
       "1257 2019-02-22     GS  196.600006  197.750000  195.199997  196.000000   \n",
       "1258 2019-02-25     GS  198.000000  201.500000  197.710007  198.649994   \n",
       "1259 2019-02-26     GS  198.470001  200.559998  196.550003  198.899994   \n",
       "\n",
       "       Adj Close    Volume  \n",
       "0     176.285675  38162200  \n",
       "1     175.714386  38928100  \n",
       "2     175.448410  37782100  \n",
       "1257  196.000000   2626600  \n",
       "1258  198.649994   3032200  \n",
       "1259  198.899994   2498000  "
      ]
     },
     "execution_count": 251,
     "metadata": {},
     "output_type": "execute_result"
    }
   ],
   "source": [
    "data = pd.read_csv('1Y Stock Data.csv', parse_dates=[0], dayfirst=True)\n",
    "data.head(3).append(data.tail(3))"
   ]
  },
  {
   "cell_type": "markdown",
   "metadata": {},
   "source": [
    "### <font color='#2b4750' face='微软雅黑'>8.1 线状图</font><a name='8.1'></a>\n",
    "[<font color='black' face='微软雅黑'>回到章首</font>](#8)"
   ]
  },
  {
   "cell_type": "code",
   "execution_count": 252,
   "metadata": {},
   "outputs": [
    {
     "data": {
      "text/html": [
       "<div>\n",
       "<style scoped>\n",
       "    .dataframe tbody tr th:only-of-type {\n",
       "        vertical-align: middle;\n",
       "    }\n",
       "\n",
       "    .dataframe tbody tr th {\n",
       "        vertical-align: top;\n",
       "    }\n",
       "\n",
       "    .dataframe thead th {\n",
       "        text-align: right;\n",
       "    }\n",
       "</style>\n",
       "<table border=\"1\" class=\"dataframe\">\n",
       "  <thead>\n",
       "    <tr style=\"text-align: right;\">\n",
       "      <th>Symbol</th>\n",
       "      <th>AAPL</th>\n",
       "      <th>BABA</th>\n",
       "      <th>FB</th>\n",
       "      <th>GS</th>\n",
       "      <th>JD</th>\n",
       "    </tr>\n",
       "    <tr>\n",
       "      <th>Date</th>\n",
       "      <th></th>\n",
       "      <th></th>\n",
       "      <th></th>\n",
       "      <th></th>\n",
       "      <th></th>\n",
       "    </tr>\n",
       "  </thead>\n",
       "  <tbody>\n",
       "    <tr>\n",
       "      <th>2018-02-26</th>\n",
       "      <td>176.285675</td>\n",
       "      <td>194.190002</td>\n",
       "      <td>184.929993</td>\n",
       "      <td>267.574249</td>\n",
       "      <td>48.799999</td>\n",
       "    </tr>\n",
       "    <tr>\n",
       "      <th>2018-02-27</th>\n",
       "      <td>175.714386</td>\n",
       "      <td>188.259995</td>\n",
       "      <td>181.460007</td>\n",
       "      <td>264.289459</td>\n",
       "      <td>47.040001</td>\n",
       "    </tr>\n",
       "    <tr>\n",
       "      <th>2018-02-28</th>\n",
       "      <td>175.448410</td>\n",
       "      <td>186.139999</td>\n",
       "      <td>178.320007</td>\n",
       "      <td>260.085419</td>\n",
       "      <td>47.150002</td>\n",
       "    </tr>\n",
       "    <tr>\n",
       "      <th>2019-02-22</th>\n",
       "      <td>172.970001</td>\n",
       "      <td>176.919998</td>\n",
       "      <td>161.889999</td>\n",
       "      <td>196.000000</td>\n",
       "      <td>25.950001</td>\n",
       "    </tr>\n",
       "    <tr>\n",
       "      <th>2019-02-25</th>\n",
       "      <td>174.229996</td>\n",
       "      <td>183.250000</td>\n",
       "      <td>164.619995</td>\n",
       "      <td>198.649994</td>\n",
       "      <td>26.190001</td>\n",
       "    </tr>\n",
       "    <tr>\n",
       "      <th>2019-02-26</th>\n",
       "      <td>174.330002</td>\n",
       "      <td>183.539993</td>\n",
       "      <td>164.130005</td>\n",
       "      <td>198.899994</td>\n",
       "      <td>26.590000</td>\n",
       "    </tr>\n",
       "  </tbody>\n",
       "</table>\n",
       "</div>"
      ],
      "text/plain": [
       "Symbol            AAPL        BABA          FB          GS         JD\n",
       "Date                                                                 \n",
       "2018-02-26  176.285675  194.190002  184.929993  267.574249  48.799999\n",
       "2018-02-27  175.714386  188.259995  181.460007  264.289459  47.040001\n",
       "2018-02-28  175.448410  186.139999  178.320007  260.085419  47.150002\n",
       "2019-02-22  172.970001  176.919998  161.889999  196.000000  25.950001\n",
       "2019-02-25  174.229996  183.250000  164.619995  198.649994  26.190001\n",
       "2019-02-26  174.330002  183.539993  164.130005  198.899994  26.590000"
      ]
     },
     "execution_count": 252,
     "metadata": {},
     "output_type": "execute_result"
    }
   ],
   "source": [
    "close_price = data.pivot( index='Date',\n",
    "                          columns='Symbol',\n",
    "                          values='Adj Close' )\n",
    "close_price.head(3).append(close_price.tail(3))"
   ]
  },
  {
   "cell_type": "code",
   "execution_count": 253,
   "metadata": {},
   "outputs": [
    {
     "data": {
      "image/png": "[encoded data removed]",
      "text/plain": [
       "<Figure size 720x360 with 1 Axes>"
      ]
     },
     "metadata": {
      "needs_background": "light"
     },
     "output_type": "display_data"
    }
   ],
   "source": [
    "close_price['AAPL'].plot(figsize=(10,5));"
   ]
  },
  {
   "cell_type": "code",
   "execution_count": 254,
   "metadata": {},
   "outputs": [
    {
     "data": {
      "image/png": "[encoded data removed]",
      "text/plain": [
       "<Figure size 720x360 with 1 Axes>"
      ]
     },
     "metadata": {
      "needs_background": "light"
     },
     "output_type": "display_data"
    }
   ],
   "source": [
    "close_price.plot(figsize=(10,5));"
   ]
  },
  {
   "cell_type": "markdown",
   "metadata": {},
   "source": [
    "### <font color='#2b4750' face='微软雅黑'>8.2 散点图</font><a name='8.2'></a>\n",
    "[<font color='black' face='微软雅黑'>回到章首</font>](#8)"
   ]
  },
  {
   "cell_type": "code",
   "execution_count": 325,
   "metadata": {},
   "outputs": [
    {
     "data": {
      "image/png": "[encoded data removed]",
      "text/plain": [
       "<Figure size 720x360 with 1 Axes>"
      ]
     },
     "metadata": {
      "needs_background": "light"
     },
     "output_type": "display_data"
    }
   ],
   "source": [
    "close_price.plot(kind='scatter', x='BABA', y='FB', c='red', figsize=(10,5));"
   ]
  },
  {
   "cell_type": "code",
   "execution_count": 326,
   "metadata": {},
   "outputs": [
    {
     "data": {
      "image/png": "[encoded data removed]",
      "text/plain": [
       "<Figure size 720x360 with 1 Axes>"
      ]
     },
     "metadata": {
      "needs_background": "light"
     },
     "output_type": "display_data"
    }
   ],
   "source": [
    "close_price.pct_change().plot(kind='scatter', x='BABA', y='FB', c='red', figsize=(10,5));"
   ]
  },
  {
   "cell_type": "markdown",
   "metadata": {},
   "source": [
    "### <font color='#2b4750' face='微软雅黑'>8.3 柱状图</font><a name='8.3'></a>\n",
    "[<font color='black' face='微软雅黑'>回到章首</font>](#8)"
   ]
  },
  {
   "cell_type": "code",
   "execution_count": 317,
   "metadata": {},
   "outputs": [
    {
     "data": {
      "image/png": "[encoded data removed]",
      "text/plain": [
       "<Figure size 720x360 with 1 Axes>"
      ]
     },
     "metadata": {
      "needs_background": "light"
     },
     "output_type": "display_data"
    }
   ],
   "source": [
    "idx = (data['Symbol'] == 'GS')\n",
    "data.loc[idx,'Volume'].plot(kind='bar', figsize=(10,5), rot=90);"
   ]
  },
  {
   "cell_type": "code",
   "execution_count": 319,
   "metadata": {},
   "outputs": [
    {
     "data": {
      "image/png": "[encoded data removed]",
      "text/plain": [
       "<Figure size 720x360 with 1 Axes>"
      ]
     },
     "metadata": {
      "needs_background": "light"
     },
     "output_type": "display_data"
    }
   ],
   "source": [
    "import matplotlib.pyplot as plt\n",
    "fig = plt.figure(figsize=(10,5))\n",
    "plt.bar( data.loc[idx,'Volume'].index, data.loc[idx,'Volume'] );"
   ]
  },
  {
   "cell_type": "markdown",
   "metadata": {},
   "source": [
    "### <font color='#2b4750' face='微软雅黑'>8.4 箱形图</font><a name='8.4'></a>\n",
    "[<font color='black' face='微软雅黑'>回到章首</font>](#8)"
   ]
  },
  {
   "cell_type": "code",
   "execution_count": 264,
   "metadata": {},
   "outputs": [
    {
     "data": {
      "image/png": "[encoded data removed]",
      "text/plain": [
       "<Figure size 720x360 with 1 Axes>"
      ]
     },
     "metadata": {
      "needs_background": "light"
     },
     "output_type": "display_data"
    }
   ],
   "source": [
    "close_price.plot(kind='box', figsize=(10,5));"
   ]
  },
  {
   "cell_type": "markdown",
   "metadata": {},
   "source": [
    "### <font color='#2b4750' face='微软雅黑'>8.5 直方图</font><a name='8.5'></a>\n",
    "[<font color='black' face='微软雅黑'>回到章首</font>](#8)"
   ]
  },
  {
   "cell_type": "code",
   "execution_count": 314,
   "metadata": {},
   "outputs": [
    {
     "data": {
      "image/png": "[encoded data removed]",
      "text/plain": [
       "<Figure size 720x720 with 5 Axes>"
      ]
     },
     "metadata": {
      "needs_background": "light"
     },
     "output_type": "display_data"
    }
   ],
   "source": [
    "close_price.pct_change().plot(kind='hist', bins=30, subplots=True, figsize=(10,10));"
   ]
  },
  {
   "cell_type": "markdown",
   "metadata": {},
   "source": [
    "### <font color='#2b4750' face='微软雅黑'>8.6 饼状图</font><a name='8.6'></a>\n",
    "[<font color='black' face='微软雅黑'>回到章首</font>](#8)"
   ]
  },
  {
   "cell_type": "code",
   "execution_count": 267,
   "metadata": {},
   "outputs": [
    {
     "data": {
      "text/html": [
       "<div>\n",
       "<style scoped>\n",
       "    .dataframe tbody tr th:only-of-type {\n",
       "        vertical-align: middle;\n",
       "    }\n",
       "\n",
       "    .dataframe tbody tr th {\n",
       "        vertical-align: top;\n",
       "    }\n",
       "\n",
       "    .dataframe thead th {\n",
       "        text-align: right;\n",
       "    }\n",
       "</style>\n",
       "<table border=\"1\" class=\"dataframe\">\n",
       "  <thead>\n",
       "    <tr style=\"text-align: right;\">\n",
       "      <th>Symbol</th>\n",
       "      <th>AAPL</th>\n",
       "      <th>BABA</th>\n",
       "      <th>FB</th>\n",
       "      <th>GS</th>\n",
       "      <th>JD</th>\n",
       "    </tr>\n",
       "    <tr>\n",
       "      <th>Date</th>\n",
       "      <th></th>\n",
       "      <th></th>\n",
       "      <th></th>\n",
       "      <th></th>\n",
       "      <th></th>\n",
       "    </tr>\n",
       "  </thead>\n",
       "  <tbody>\n",
       "    <tr>\n",
       "      <th>2018-02-26</th>\n",
       "      <td>38162200</td>\n",
       "      <td>19463100</td>\n",
       "      <td>17599700</td>\n",
       "      <td>2751400</td>\n",
       "      <td>9126900</td>\n",
       "    </tr>\n",
       "    <tr>\n",
       "      <th>2018-02-27</th>\n",
       "      <td>38928100</td>\n",
       "      <td>23218500</td>\n",
       "      <td>15849800</td>\n",
       "      <td>3140600</td>\n",
       "      <td>12688600</td>\n",
       "    </tr>\n",
       "    <tr>\n",
       "      <th>2018-02-28</th>\n",
       "      <td>37782100</td>\n",
       "      <td>19367600</td>\n",
       "      <td>18783000</td>\n",
       "      <td>3104300</td>\n",
       "      <td>12227800</td>\n",
       "    </tr>\n",
       "    <tr>\n",
       "      <th>2019-02-22</th>\n",
       "      <td>18913200</td>\n",
       "      <td>16175600</td>\n",
       "      <td>15858500</td>\n",
       "      <td>2626600</td>\n",
       "      <td>27113300</td>\n",
       "    </tr>\n",
       "    <tr>\n",
       "      <th>2019-02-25</th>\n",
       "      <td>21873400</td>\n",
       "      <td>22831800</td>\n",
       "      <td>18737100</td>\n",
       "      <td>3032200</td>\n",
       "      <td>29338500</td>\n",
       "    </tr>\n",
       "    <tr>\n",
       "      <th>2019-02-26</th>\n",
       "      <td>17006000</td>\n",
       "      <td>13857900</td>\n",
       "      <td>13645200</td>\n",
       "      <td>2498000</td>\n",
       "      <td>20264100</td>\n",
       "    </tr>\n",
       "  </tbody>\n",
       "</table>\n",
       "</div>"
      ],
      "text/plain": [
       "Symbol          AAPL      BABA        FB       GS        JD\n",
       "Date                                                       \n",
       "2018-02-26  38162200  19463100  17599700  2751400   9126900\n",
       "2018-02-27  38928100  23218500  15849800  3140600  12688600\n",
       "2018-02-28  37782100  19367600  18783000  3104300  12227800\n",
       "2019-02-22  18913200  16175600  15858500  2626600  27113300\n",
       "2019-02-25  21873400  22831800  18737100  3032200  29338500\n",
       "2019-02-26  17006000  13857900  13645200  2498000  20264100"
      ]
     },
     "execution_count": 267,
     "metadata": {},
     "output_type": "execute_result"
    }
   ],
   "source": [
    "volume = data.pivot( index='Date',\n",
    "                     columns='Symbol',\n",
    "                     values='Volume' )\n",
    "volume.head(3).append(volume.tail(3))"
   ]
  },
  {
   "cell_type": "code",
   "execution_count": 320,
   "metadata": {},
   "outputs": [
    {
     "data": {
      "text/html": [
       "<div>\n",
       "<style scoped>\n",
       "    .dataframe tbody tr th:only-of-type {\n",
       "        vertical-align: middle;\n",
       "    }\n",
       "\n",
       "    .dataframe tbody tr th {\n",
       "        vertical-align: top;\n",
       "    }\n",
       "\n",
       "    .dataframe thead th {\n",
       "        text-align: right;\n",
       "    }\n",
       "</style>\n",
       "<table border=\"1\" class=\"dataframe\">\n",
       "  <thead>\n",
       "    <tr style=\"text-align: right;\">\n",
       "      <th>Symbol</th>\n",
       "      <th>AAPL</th>\n",
       "      <th>BABA</th>\n",
       "      <th>FB</th>\n",
       "      <th>GS</th>\n",
       "      <th>JD</th>\n",
       "    </tr>\n",
       "    <tr>\n",
       "      <th>Date</th>\n",
       "      <th></th>\n",
       "      <th></th>\n",
       "      <th></th>\n",
       "      <th></th>\n",
       "      <th></th>\n",
       "    </tr>\n",
       "  </thead>\n",
       "  <tbody>\n",
       "    <tr>\n",
       "      <th>2018-02-26</th>\n",
       "      <td>6.727449e+09</td>\n",
       "      <td>3.779539e+09</td>\n",
       "      <td>3.254712e+09</td>\n",
       "      <td>7.362038e+08</td>\n",
       "      <td>4.453927e+08</td>\n",
       "    </tr>\n",
       "    <tr>\n",
       "      <th>2018-02-27</th>\n",
       "      <td>6.840227e+09</td>\n",
       "      <td>4.371115e+09</td>\n",
       "      <td>2.876105e+09</td>\n",
       "      <td>8.300275e+08</td>\n",
       "      <td>5.968718e+08</td>\n",
       "    </tr>\n",
       "    <tr>\n",
       "      <th>2018-02-28</th>\n",
       "      <td>6.628809e+09</td>\n",
       "      <td>3.605085e+09</td>\n",
       "      <td>3.349385e+09</td>\n",
       "      <td>8.073832e+08</td>\n",
       "      <td>5.765408e+08</td>\n",
       "    </tr>\n",
       "    <tr>\n",
       "      <th>2019-02-22</th>\n",
       "      <td>3.271416e+09</td>\n",
       "      <td>2.861787e+09</td>\n",
       "      <td>2.567333e+09</td>\n",
       "      <td>5.148136e+08</td>\n",
       "      <td>7.035902e+08</td>\n",
       "    </tr>\n",
       "    <tr>\n",
       "      <th>2019-02-25</th>\n",
       "      <td>3.811002e+09</td>\n",
       "      <td>4.183927e+09</td>\n",
       "      <td>3.084501e+09</td>\n",
       "      <td>6.023465e+08</td>\n",
       "      <td>7.683753e+08</td>\n",
       "    </tr>\n",
       "    <tr>\n",
       "      <th>2019-02-26</th>\n",
       "      <td>2.964656e+09</td>\n",
       "      <td>2.543479e+09</td>\n",
       "      <td>2.239587e+09</td>\n",
       "      <td>4.968522e+08</td>\n",
       "      <td>5.388224e+08</td>\n",
       "    </tr>\n",
       "  </tbody>\n",
       "</table>\n",
       "</div>"
      ],
      "text/plain": [
       "Symbol              AAPL          BABA            FB            GS  \\\n",
       "Date                                                                 \n",
       "2018-02-26  6.727449e+09  3.779539e+09  3.254712e+09  7.362038e+08   \n",
       "2018-02-27  6.840227e+09  4.371115e+09  2.876105e+09  8.300275e+08   \n",
       "2018-02-28  6.628809e+09  3.605085e+09  3.349385e+09  8.073832e+08   \n",
       "2019-02-22  3.271416e+09  2.861787e+09  2.567333e+09  5.148136e+08   \n",
       "2019-02-25  3.811002e+09  4.183927e+09  3.084501e+09  6.023465e+08   \n",
       "2019-02-26  2.964656e+09  2.543479e+09  2.239587e+09  4.968522e+08   \n",
       "\n",
       "Symbol                JD  \n",
       "Date                      \n",
       "2018-02-26  4.453927e+08  \n",
       "2018-02-27  5.968718e+08  \n",
       "2018-02-28  5.765408e+08  \n",
       "2019-02-22  7.035902e+08  \n",
       "2019-02-25  7.683753e+08  \n",
       "2019-02-26  5.388224e+08  "
      ]
     },
     "execution_count": 320,
     "metadata": {},
     "output_type": "execute_result"
    }
   ],
   "source": [
    "market_cap = close_price * volume\n",
    "market_cap.head(3).append(market_cap.tail(3))"
   ]
  },
  {
   "cell_type": "code",
   "execution_count": 321,
   "metadata": {},
   "outputs": [
    {
     "data": {
      "text/plain": [
       "<matplotlib.axes._subplots.AxesSubplot at 0x26ace9357f0>"
      ]
     },
     "execution_count": 321,
     "metadata": {},
     "output_type": "execute_result"
    },
    {
     "data": {
      "image/png": "[encoded data removed]",
      "text/plain": [
       "<Figure size 576x576 with 1 Axes>"
      ]
     },
     "metadata": {},
     "output_type": "display_data"
    }
   ],
   "source": [
    "market_cap.mean().to_frame(name='Mkt Cap').plot(kind='pie', y='Mkt Cap', autopct='%1.1f%%', figsize=(8,8))"
   ]
  },
  {
   "cell_type": "code",
   "execution_count": 322,
   "metadata": {},
   "outputs": [
    {
     "data": {
      "image/png": "[encoded data removed]",
      "text/plain": [
       "<Figure size 1440x720 with 3 Axes>"
      ]
     },
     "metadata": {},
     "output_type": "display_data"
    }
   ],
   "source": [
    "df = market_cap.iloc[:3].stack('Symbol').unstack('Date')\n",
    "df.plot(kind='pie', autopct='%1.1f%%', subplots=True, legend=False, figsize=(20,10));"
   ]
  },
  {
   "cell_type": "markdown",
   "metadata": {},
   "source": [
    "# <font color='#dc2624' face='微软雅黑'>9. 数据处理</font><a name='9'></a>\n",
    "[<font color='black' face='微软雅黑'>回到目录</font>](#toc)\n",
    "\n",
    "之前所有的数据都是经过预处理过而“干净”的，但在实际工作做数据一开始都是“杂乱”的。数据处理 (data munging) 包括两个大方面：\n",
    "\n",
    "- 数据清洗 (data cleansing)：缺失值、离群值\n",
    "- 数据转换 (data transforming)：编码、分组\n",
    "\n",
    "数据清洗使用的是从 1993 年到 2018 年标普500 (SPY) 基金历史数据。\n",
    "\n",
    "数据转换使用的是 `crosstab` 那节用的贷款数据。\n",
    "\n",
    "首先读取两个数据起名为 SPY 和 loan。"
   ]
  },
  {
   "cell_type": "code",
   "execution_count": 440,
   "metadata": {},
   "outputs": [],
   "source": [
    "SPY = pd.read_csv('SPY.csv')\n",
    "loan = pd.read_csv('Loan Data.csv')"
   ]
  },
  {
   "cell_type": "markdown",
   "metadata": {},
   "source": [
    "### <font color='#2b4750' face='微软雅黑'>9.1 数据清洗</font><a name='9.1'></a>\n",
    "[<font color='black' face='微软雅黑'>回到章首</font>](#9)\n",
    "\n",
    "### <font color='blue' face='微软雅黑'>缺失值</font>"
   ]
  },
  {
   "cell_type": "code",
   "execution_count": 364,
   "metadata": {},
   "outputs": [
    {
     "data": {
      "text/html": [
       "<div>\n",
       "<style scoped>\n",
       "    .dataframe tbody tr th:only-of-type {\n",
       "        vertical-align: middle;\n",
       "    }\n",
       "\n",
       "    .dataframe tbody tr th {\n",
       "        vertical-align: top;\n",
       "    }\n",
       "\n",
       "    .dataframe thead th {\n",
       "        text-align: right;\n",
       "    }\n",
       "</style>\n",
       "<table border=\"1\" class=\"dataframe\">\n",
       "  <thead>\n",
       "    <tr style=\"text-align: right;\">\n",
       "      <th></th>\n",
       "      <th>Date</th>\n",
       "      <th>Adj_Close</th>\n",
       "      <th>Adj_Volume</th>\n",
       "    </tr>\n",
       "  </thead>\n",
       "  <tbody>\n",
       "    <tr>\n",
       "      <th>0</th>\n",
       "      <td>29/01/1993</td>\n",
       "      <td>28.223927</td>\n",
       "      <td>1003200</td>\n",
       "    </tr>\n",
       "    <tr>\n",
       "      <th>1</th>\n",
       "      <td>01/02/1993</td>\n",
       "      <td>28.424666</td>\n",
       "      <td>480500</td>\n",
       "    </tr>\n",
       "    <tr>\n",
       "      <th>2</th>\n",
       "      <td>02/02/1993</td>\n",
       "      <td>NaN</td>\n",
       "      <td>201300</td>\n",
       "    </tr>\n",
       "    <tr>\n",
       "      <th>3</th>\n",
       "      <td>03/02/1993</td>\n",
       "      <td>28.785997</td>\n",
       "      <td>529400</td>\n",
       "    </tr>\n",
       "    <tr>\n",
       "      <th>6345</th>\n",
       "      <td>11/04/2018</td>\n",
       "      <td>263.760000</td>\n",
       "      <td>91082611</td>\n",
       "    </tr>\n",
       "    <tr>\n",
       "      <th>6346</th>\n",
       "      <td>12/04/2018</td>\n",
       "      <td>NaN</td>\n",
       "      <td>68648611</td>\n",
       "    </tr>\n",
       "    <tr>\n",
       "      <th>6347</th>\n",
       "      <td>13/04/2018</td>\n",
       "      <td>2651.500000</td>\n",
       "      <td>85043940</td>\n",
       "    </tr>\n",
       "    <tr>\n",
       "      <th>6348</th>\n",
       "      <td>16/04/2018</td>\n",
       "      <td>267.330000</td>\n",
       "      <td>63354866</td>\n",
       "    </tr>\n",
       "  </tbody>\n",
       "</table>\n",
       "</div>"
      ],
      "text/plain": [
       "            Date    Adj_Close  Adj_Volume\n",
       "0     29/01/1993    28.223927     1003200\n",
       "1     01/02/1993    28.424666      480500\n",
       "2     02/02/1993          NaN      201300\n",
       "3     03/02/1993    28.785997      529400\n",
       "6345  11/04/2018   263.760000    91082611\n",
       "6346  12/04/2018          NaN    68648611\n",
       "6347  13/04/2018  2651.500000    85043940\n",
       "6348  16/04/2018   267.330000    63354866"
      ]
     },
     "execution_count": 364,
     "metadata": {},
     "output_type": "execute_result"
    }
   ],
   "source": [
    "SPY.head(4).append(SPY.tail(4))"
   ]
  },
  {
   "cell_type": "code",
   "execution_count": 365,
   "metadata": {},
   "outputs": [
    {
     "data": {
      "text/html": [
       "<div>\n",
       "<style scoped>\n",
       "    .dataframe tbody tr th:only-of-type {\n",
       "        vertical-align: middle;\n",
       "    }\n",
       "\n",
       "    .dataframe tbody tr th {\n",
       "        vertical-align: top;\n",
       "    }\n",
       "\n",
       "    .dataframe thead th {\n",
       "        text-align: right;\n",
       "    }\n",
       "</style>\n",
       "<table border=\"1\" class=\"dataframe\">\n",
       "  <thead>\n",
       "    <tr style=\"text-align: right;\">\n",
       "      <th></th>\n",
       "      <th>Adj_Close</th>\n",
       "      <th>Adj_Volume</th>\n",
       "    </tr>\n",
       "  </thead>\n",
       "  <tbody>\n",
       "    <tr>\n",
       "      <th>count</th>\n",
       "      <td>6347.000000</td>\n",
       "      <td>6.349000e+03</td>\n",
       "    </tr>\n",
       "    <tr>\n",
       "      <th>mean</th>\n",
       "      <td>108.171940</td>\n",
       "      <td>8.439630e+07</td>\n",
       "    </tr>\n",
       "    <tr>\n",
       "      <th>std</th>\n",
       "      <td>64.541711</td>\n",
       "      <td>1.003193e+08</td>\n",
       "    </tr>\n",
       "    <tr>\n",
       "      <th>min</th>\n",
       "      <td>27.882638</td>\n",
       "      <td>5.200000e+03</td>\n",
       "    </tr>\n",
       "    <tr>\n",
       "      <th>25%</th>\n",
       "      <td>73.212058</td>\n",
       "      <td>6.405600e+06</td>\n",
       "    </tr>\n",
       "    <tr>\n",
       "      <th>50%</th>\n",
       "      <td>97.311651</td>\n",
       "      <td>5.469196e+07</td>\n",
       "    </tr>\n",
       "    <tr>\n",
       "      <th>75%</th>\n",
       "      <td>124.149164</td>\n",
       "      <td>1.250593e+08</td>\n",
       "    </tr>\n",
       "    <tr>\n",
       "      <th>max</th>\n",
       "      <td>2651.500000</td>\n",
       "      <td>8.710263e+08</td>\n",
       "    </tr>\n",
       "  </tbody>\n",
       "</table>\n",
       "</div>"
      ],
      "text/plain": [
       "         Adj_Close    Adj_Volume\n",
       "count  6347.000000  6.349000e+03\n",
       "mean    108.171940  8.439630e+07\n",
       "std      64.541711  1.003193e+08\n",
       "min      27.882638  5.200000e+03\n",
       "25%      73.212058  6.405600e+06\n",
       "50%      97.311651  5.469196e+07\n",
       "75%     124.149164  1.250593e+08\n",
       "max    2651.500000  8.710263e+08"
      ]
     },
     "execution_count": 365,
     "metadata": {},
     "output_type": "execute_result"
    }
   ],
   "source": [
    "SPY.describe()"
   ]
  },
  {
   "cell_type": "markdown",
   "metadata": {},
   "source": [
    "从上表 `count` 可看出 `Adj_Close` 列下的数据比 `Adj_Volume` 少两个。在 `SPY['Adj_close']` 用 `isnull()` 找出所有 NaN 的布尔值并加总，看是不是等于 2。"
   ]
  },
  {
   "cell_type": "code",
   "execution_count": 366,
   "metadata": {},
   "outputs": [
    {
     "data": {
      "text/plain": [
       "2"
      ]
     },
     "execution_count": 366,
     "metadata": {},
     "output_type": "execute_result"
    }
   ],
   "source": [
    "SPY['Adj_Close'].isnull().sum()"
   ]
  },
  {
   "cell_type": "code",
   "execution_count": 367,
   "metadata": {},
   "outputs": [
    {
     "data": {
      "text/plain": [
       "0"
      ]
     },
     "execution_count": 367,
     "metadata": {},
     "output_type": "execute_result"
    }
   ],
   "source": [
    "SPY['Adj_Volume'].isnull().sum()"
   ]
  },
  {
   "cell_type": "markdown",
   "metadata": {},
   "source": [
    "对于缺失值，一般处理方式用两种，删除或填充，用以下对应的方法：\n",
    "\n",
    "- `dropna()`：直接将 NaN 值对应的行或列删除，用 axis 参数来设置 \n",
    "- `fillna()`：填具体的值，或者插值"
   ]
  },
  {
   "cell_type": "code",
   "execution_count": 368,
   "metadata": {},
   "outputs": [
    {
     "data": {
      "text/html": [
       "<div>\n",
       "<style scoped>\n",
       "    .dataframe tbody tr th:only-of-type {\n",
       "        vertical-align: middle;\n",
       "    }\n",
       "\n",
       "    .dataframe tbody tr th {\n",
       "        vertical-align: top;\n",
       "    }\n",
       "\n",
       "    .dataframe thead th {\n",
       "        text-align: right;\n",
       "    }\n",
       "</style>\n",
       "<table border=\"1\" class=\"dataframe\">\n",
       "  <thead>\n",
       "    <tr style=\"text-align: right;\">\n",
       "      <th></th>\n",
       "      <th>Adj_Close</th>\n",
       "      <th>Adj_Volume</th>\n",
       "    </tr>\n",
       "  </thead>\n",
       "  <tbody>\n",
       "    <tr>\n",
       "      <th>count</th>\n",
       "      <td>6347.000000</td>\n",
       "      <td>6.347000e+03</td>\n",
       "    </tr>\n",
       "    <tr>\n",
       "      <th>mean</th>\n",
       "      <td>108.171940</td>\n",
       "      <td>8.441205e+07</td>\n",
       "    </tr>\n",
       "    <tr>\n",
       "      <th>std</th>\n",
       "      <td>64.541711</td>\n",
       "      <td>1.003293e+08</td>\n",
       "    </tr>\n",
       "    <tr>\n",
       "      <th>min</th>\n",
       "      <td>27.882638</td>\n",
       "      <td>5.200000e+03</td>\n",
       "    </tr>\n",
       "    <tr>\n",
       "      <th>25%</th>\n",
       "      <td>73.212058</td>\n",
       "      <td>6.405600e+06</td>\n",
       "    </tr>\n",
       "    <tr>\n",
       "      <th>50%</th>\n",
       "      <td>97.311651</td>\n",
       "      <td>5.469196e+07</td>\n",
       "    </tr>\n",
       "    <tr>\n",
       "      <th>75%</th>\n",
       "      <td>124.149164</td>\n",
       "      <td>1.250963e+08</td>\n",
       "    </tr>\n",
       "    <tr>\n",
       "      <th>max</th>\n",
       "      <td>2651.500000</td>\n",
       "      <td>8.710263e+08</td>\n",
       "    </tr>\n",
       "  </tbody>\n",
       "</table>\n",
       "</div>"
      ],
      "text/plain": [
       "         Adj_Close    Adj_Volume\n",
       "count  6347.000000  6.347000e+03\n",
       "mean    108.171940  8.441205e+07\n",
       "std      64.541711  1.003293e+08\n",
       "min      27.882638  5.200000e+03\n",
       "25%      73.212058  6.405600e+06\n",
       "50%      97.311651  5.469196e+07\n",
       "75%     124.149164  1.250963e+08\n",
       "max    2651.500000  8.710263e+08"
      ]
     },
     "execution_count": 368,
     "metadata": {},
     "output_type": "execute_result"
    }
   ],
   "source": [
    "SPY_dropna = SPY.dropna()\n",
    "SPY_dropna.describe()"
   ]
  },
  {
   "cell_type": "code",
   "execution_count": 369,
   "metadata": {},
   "outputs": [
    {
     "data": {
      "text/html": [
       "<div>\n",
       "<style scoped>\n",
       "    .dataframe tbody tr th:only-of-type {\n",
       "        vertical-align: middle;\n",
       "    }\n",
       "\n",
       "    .dataframe tbody tr th {\n",
       "        vertical-align: top;\n",
       "    }\n",
       "\n",
       "    .dataframe thead th {\n",
       "        text-align: right;\n",
       "    }\n",
       "</style>\n",
       "<table border=\"1\" class=\"dataframe\">\n",
       "  <thead>\n",
       "    <tr style=\"text-align: right;\">\n",
       "      <th></th>\n",
       "      <th>Date</th>\n",
       "      <th>Adj_Close</th>\n",
       "      <th>Adj_Volume</th>\n",
       "    </tr>\n",
       "  </thead>\n",
       "  <tbody>\n",
       "    <tr>\n",
       "      <th>0</th>\n",
       "      <td>29/01/1993</td>\n",
       "      <td>28.223927</td>\n",
       "      <td>1003200</td>\n",
       "    </tr>\n",
       "    <tr>\n",
       "      <th>1</th>\n",
       "      <td>01/02/1993</td>\n",
       "      <td>28.424666</td>\n",
       "      <td>480500</td>\n",
       "    </tr>\n",
       "    <tr>\n",
       "      <th>2</th>\n",
       "      <td>02/02/1993</td>\n",
       "      <td>0.000000</td>\n",
       "      <td>201300</td>\n",
       "    </tr>\n",
       "    <tr>\n",
       "      <th>3</th>\n",
       "      <td>03/02/1993</td>\n",
       "      <td>28.785997</td>\n",
       "      <td>529400</td>\n",
       "    </tr>\n",
       "    <tr>\n",
       "      <th>6345</th>\n",
       "      <td>11/04/2018</td>\n",
       "      <td>263.760000</td>\n",
       "      <td>91082611</td>\n",
       "    </tr>\n",
       "    <tr>\n",
       "      <th>6346</th>\n",
       "      <td>12/04/2018</td>\n",
       "      <td>0.000000</td>\n",
       "      <td>68648611</td>\n",
       "    </tr>\n",
       "    <tr>\n",
       "      <th>6347</th>\n",
       "      <td>13/04/2018</td>\n",
       "      <td>2651.500000</td>\n",
       "      <td>85043940</td>\n",
       "    </tr>\n",
       "    <tr>\n",
       "      <th>6348</th>\n",
       "      <td>16/04/2018</td>\n",
       "      <td>267.330000</td>\n",
       "      <td>63354866</td>\n",
       "    </tr>\n",
       "  </tbody>\n",
       "</table>\n",
       "</div>"
      ],
      "text/plain": [
       "            Date    Adj_Close  Adj_Volume\n",
       "0     29/01/1993    28.223927     1003200\n",
       "1     01/02/1993    28.424666      480500\n",
       "2     02/02/1993     0.000000      201300\n",
       "3     03/02/1993    28.785997      529400\n",
       "6345  11/04/2018   263.760000    91082611\n",
       "6346  12/04/2018     0.000000    68648611\n",
       "6347  13/04/2018  2651.500000    85043940\n",
       "6348  16/04/2018   267.330000    63354866"
      ]
     },
     "execution_count": 369,
     "metadata": {},
     "output_type": "execute_result"
    }
   ],
   "source": [
    "SPY_fill0 = SPY.fillna(0)\n",
    "SPY_fill0.head(4).append(SPY_fill0.tail(4))"
   ]
  },
  {
   "cell_type": "code",
   "execution_count": 370,
   "metadata": {},
   "outputs": [
    {
     "data": {
      "text/html": [
       "<div>\n",
       "<style scoped>\n",
       "    .dataframe tbody tr th:only-of-type {\n",
       "        vertical-align: middle;\n",
       "    }\n",
       "\n",
       "    .dataframe tbody tr th {\n",
       "        vertical-align: top;\n",
       "    }\n",
       "\n",
       "    .dataframe thead th {\n",
       "        text-align: right;\n",
       "    }\n",
       "</style>\n",
       "<table border=\"1\" class=\"dataframe\">\n",
       "  <thead>\n",
       "    <tr style=\"text-align: right;\">\n",
       "      <th></th>\n",
       "      <th>Date</th>\n",
       "      <th>Adj_Close</th>\n",
       "      <th>Adj_Volume</th>\n",
       "    </tr>\n",
       "  </thead>\n",
       "  <tbody>\n",
       "    <tr>\n",
       "      <th>0</th>\n",
       "      <td>29/01/1993</td>\n",
       "      <td>28.223927</td>\n",
       "      <td>1003200</td>\n",
       "    </tr>\n",
       "    <tr>\n",
       "      <th>1</th>\n",
       "      <td>01/02/1993</td>\n",
       "      <td>28.424666</td>\n",
       "      <td>480500</td>\n",
       "    </tr>\n",
       "    <tr>\n",
       "      <th>2</th>\n",
       "      <td>02/02/1993</td>\n",
       "      <td>28.785997</td>\n",
       "      <td>201300</td>\n",
       "    </tr>\n",
       "    <tr>\n",
       "      <th>3</th>\n",
       "      <td>03/02/1993</td>\n",
       "      <td>28.785997</td>\n",
       "      <td>529400</td>\n",
       "    </tr>\n",
       "    <tr>\n",
       "      <th>6345</th>\n",
       "      <td>11/04/2018</td>\n",
       "      <td>263.760000</td>\n",
       "      <td>91082611</td>\n",
       "    </tr>\n",
       "    <tr>\n",
       "      <th>6346</th>\n",
       "      <td>12/04/2018</td>\n",
       "      <td>2651.500000</td>\n",
       "      <td>68648611</td>\n",
       "    </tr>\n",
       "    <tr>\n",
       "      <th>6347</th>\n",
       "      <td>13/04/2018</td>\n",
       "      <td>2651.500000</td>\n",
       "      <td>85043940</td>\n",
       "    </tr>\n",
       "    <tr>\n",
       "      <th>6348</th>\n",
       "      <td>16/04/2018</td>\n",
       "      <td>267.330000</td>\n",
       "      <td>63354866</td>\n",
       "    </tr>\n",
       "  </tbody>\n",
       "</table>\n",
       "</div>"
      ],
      "text/plain": [
       "            Date    Adj_Close  Adj_Volume\n",
       "0     29/01/1993    28.223927     1003200\n",
       "1     01/02/1993    28.424666      480500\n",
       "2     02/02/1993    28.785997      201300\n",
       "3     03/02/1993    28.785997      529400\n",
       "6345  11/04/2018   263.760000    91082611\n",
       "6346  12/04/2018  2651.500000    68648611\n",
       "6347  13/04/2018  2651.500000    85043940\n",
       "6348  16/04/2018   267.330000    63354866"
      ]
     },
     "execution_count": 370,
     "metadata": {},
     "output_type": "execute_result"
    }
   ],
   "source": [
    "SPY_bfill = SPY.fillna(method='bfill')\n",
    "SPY_bfill.head(4).append(SPY_bfill.tail(4))"
   ]
  },
  {
   "cell_type": "code",
   "execution_count": 371,
   "metadata": {},
   "outputs": [
    {
     "data": {
      "text/html": [
       "<div>\n",
       "<style scoped>\n",
       "    .dataframe tbody tr th:only-of-type {\n",
       "        vertical-align: middle;\n",
       "    }\n",
       "\n",
       "    .dataframe tbody tr th {\n",
       "        vertical-align: top;\n",
       "    }\n",
       "\n",
       "    .dataframe thead th {\n",
       "        text-align: right;\n",
       "    }\n",
       "</style>\n",
       "<table border=\"1\" class=\"dataframe\">\n",
       "  <thead>\n",
       "    <tr style=\"text-align: right;\">\n",
       "      <th></th>\n",
       "      <th>Date</th>\n",
       "      <th>Adj_Close</th>\n",
       "      <th>Adj_Volume</th>\n",
       "    </tr>\n",
       "  </thead>\n",
       "  <tbody>\n",
       "    <tr>\n",
       "      <th>0</th>\n",
       "      <td>29/01/1993</td>\n",
       "      <td>28.223927</td>\n",
       "      <td>1003200</td>\n",
       "    </tr>\n",
       "    <tr>\n",
       "      <th>1</th>\n",
       "      <td>01/02/1993</td>\n",
       "      <td>28.424666</td>\n",
       "      <td>480500</td>\n",
       "    </tr>\n",
       "    <tr>\n",
       "      <th>2</th>\n",
       "      <td>02/02/1993</td>\n",
       "      <td>28.424666</td>\n",
       "      <td>201300</td>\n",
       "    </tr>\n",
       "    <tr>\n",
       "      <th>3</th>\n",
       "      <td>03/02/1993</td>\n",
       "      <td>28.785997</td>\n",
       "      <td>529400</td>\n",
       "    </tr>\n",
       "    <tr>\n",
       "      <th>6345</th>\n",
       "      <td>11/04/2018</td>\n",
       "      <td>263.760000</td>\n",
       "      <td>91082611</td>\n",
       "    </tr>\n",
       "    <tr>\n",
       "      <th>6346</th>\n",
       "      <td>12/04/2018</td>\n",
       "      <td>263.760000</td>\n",
       "      <td>68648611</td>\n",
       "    </tr>\n",
       "    <tr>\n",
       "      <th>6347</th>\n",
       "      <td>13/04/2018</td>\n",
       "      <td>2651.500000</td>\n",
       "      <td>85043940</td>\n",
       "    </tr>\n",
       "    <tr>\n",
       "      <th>6348</th>\n",
       "      <td>16/04/2018</td>\n",
       "      <td>267.330000</td>\n",
       "      <td>63354866</td>\n",
       "    </tr>\n",
       "  </tbody>\n",
       "</table>\n",
       "</div>"
      ],
      "text/plain": [
       "            Date    Adj_Close  Adj_Volume\n",
       "0     29/01/1993    28.223927     1003200\n",
       "1     01/02/1993    28.424666      480500\n",
       "2     02/02/1993    28.424666      201300\n",
       "3     03/02/1993    28.785997      529400\n",
       "6345  11/04/2018   263.760000    91082611\n",
       "6346  12/04/2018   263.760000    68648611\n",
       "6347  13/04/2018  2651.500000    85043940\n",
       "6348  16/04/2018   267.330000    63354866"
      ]
     },
     "execution_count": 371,
     "metadata": {},
     "output_type": "execute_result"
    }
   ],
   "source": [
    "SPY_ffill = SPY.fillna(method='ffill')\n",
    "SPY_ffill.head(4).append(SPY_ffill.tail(4))"
   ]
  },
  {
   "cell_type": "markdown",
   "metadata": {},
   "source": [
    "### <font color='blue' face='微软雅黑'>离群值</font>\n",
    "    \n",
    "检查 `SPY.describe()` 的结果，如果最大值和 75 分位数差个数量级，或者最小值和 25 分位数差个数量级，那么数据里极有可能有离群值 (outliers)。"
   ]
  },
  {
   "cell_type": "code",
   "execution_count": 372,
   "metadata": {},
   "outputs": [
    {
     "data": {
      "text/html": [
       "<div>\n",
       "<style scoped>\n",
       "    .dataframe tbody tr th:only-of-type {\n",
       "        vertical-align: middle;\n",
       "    }\n",
       "\n",
       "    .dataframe tbody tr th {\n",
       "        vertical-align: top;\n",
       "    }\n",
       "\n",
       "    .dataframe thead th {\n",
       "        text-align: right;\n",
       "    }\n",
       "</style>\n",
       "<table border=\"1\" class=\"dataframe\">\n",
       "  <thead>\n",
       "    <tr style=\"text-align: right;\">\n",
       "      <th></th>\n",
       "      <th>Adj_Close</th>\n",
       "      <th>Adj_Volume</th>\n",
       "    </tr>\n",
       "  </thead>\n",
       "  <tbody>\n",
       "    <tr>\n",
       "      <th>count</th>\n",
       "      <td>6347.000000</td>\n",
       "      <td>6.349000e+03</td>\n",
       "    </tr>\n",
       "    <tr>\n",
       "      <th>mean</th>\n",
       "      <td>108.171940</td>\n",
       "      <td>8.439630e+07</td>\n",
       "    </tr>\n",
       "    <tr>\n",
       "      <th>std</th>\n",
       "      <td>64.541711</td>\n",
       "      <td>1.003193e+08</td>\n",
       "    </tr>\n",
       "    <tr>\n",
       "      <th>min</th>\n",
       "      <td>27.882638</td>\n",
       "      <td>5.200000e+03</td>\n",
       "    </tr>\n",
       "    <tr>\n",
       "      <th>25%</th>\n",
       "      <td>73.212058</td>\n",
       "      <td>6.405600e+06</td>\n",
       "    </tr>\n",
       "    <tr>\n",
       "      <th>50%</th>\n",
       "      <td>97.311651</td>\n",
       "      <td>5.469196e+07</td>\n",
       "    </tr>\n",
       "    <tr>\n",
       "      <th>75%</th>\n",
       "      <td>124.149164</td>\n",
       "      <td>1.250593e+08</td>\n",
       "    </tr>\n",
       "    <tr>\n",
       "      <th>max</th>\n",
       "      <td>2651.500000</td>\n",
       "      <td>8.710263e+08</td>\n",
       "    </tr>\n",
       "  </tbody>\n",
       "</table>\n",
       "</div>"
      ],
      "text/plain": [
       "         Adj_Close    Adj_Volume\n",
       "count  6347.000000  6.349000e+03\n",
       "mean    108.171940  8.439630e+07\n",
       "std      64.541711  1.003193e+08\n",
       "min      27.882638  5.200000e+03\n",
       "25%      73.212058  6.405600e+06\n",
       "50%      97.311651  5.469196e+07\n",
       "75%     124.149164  1.250593e+08\n",
       "max    2651.500000  8.710263e+08"
      ]
     },
     "execution_count": 372,
     "metadata": {},
     "output_type": "execute_result"
    }
   ],
   "source": [
    "SPY.describe()"
   ]
  },
  {
   "cell_type": "markdown",
   "metadata": {},
   "source": [
    "在本例中，价格的最大值都比 75 分位数上的值大好多，那么至少最大值是一个离群值。\n",
    "\n",
    "两个检测离群值更好的方法使用**箱形图**和**散点图**。"
   ]
  },
  {
   "cell_type": "code",
   "execution_count": 380,
   "metadata": {},
   "outputs": [
    {
     "data": {
      "image/png": "[encoded data removed]",
      "text/plain": [
       "<Figure size 432x288 with 1 Axes>"
      ]
     },
     "metadata": {
      "needs_background": "light"
     },
     "output_type": "display_data"
    }
   ],
   "source": [
    "SPY['Adj_Close'].plot(kind='box');"
   ]
  },
  {
   "cell_type": "code",
   "execution_count": 374,
   "metadata": {},
   "outputs": [
    {
     "data": {
      "image/png": "[encoded data removed]",
      "text/plain": [
       "<Figure size 432x288 with 1 Axes>"
      ]
     },
     "metadata": {
      "needs_background": "light"
     },
     "output_type": "display_data"
    }
   ],
   "source": [
    "SPY['Adj_Volume'].plot(kind='box');"
   ]
  },
  {
   "cell_type": "code",
   "execution_count": 375,
   "metadata": {},
   "outputs": [
    {
     "data": {
      "image/png": "[encoded data removed]",
      "text/plain": [
       "<Figure size 432x288 with 1 Axes>"
      ]
     },
     "metadata": {
      "needs_background": "light"
     },
     "output_type": "display_data"
    }
   ],
   "source": [
    "SPY.plot(kind='scatter', x='Adj_Close', y='Adj_Volume');"
   ]
  },
  {
   "cell_type": "markdown",
   "metadata": {},
   "source": [
    "对于离群值，只要数目占比很小，可以直接删除。"
   ]
  },
  {
   "cell_type": "code",
   "execution_count": 430,
   "metadata": {},
   "outputs": [
    {
     "data": {
      "text/plain": [
       "(0.0, 301.79707288450953)"
      ]
     },
     "execution_count": 430,
     "metadata": {},
     "output_type": "execute_result"
    }
   ],
   "source": [
    "mu = SPY['Adj_Close'].describe().loc['mean']\n",
    "sigma = SPY['Adj_Close'].describe().loc['std']\n",
    "lb = np.maximum(mu - 3*sigma, 0)\n",
    "ub = mu + 3*sigma\n",
    "(lb, ub)"
   ]
  },
  {
   "cell_type": "code",
   "execution_count": 438,
   "metadata": {},
   "outputs": [
    {
     "data": {
      "text/plain": [
       "1"
      ]
     },
     "execution_count": 438,
     "metadata": {},
     "output_type": "execute_result"
    }
   ],
   "source": [
    "bool_idx = ((SPY['Adj_Close'] <= lb) | (SPY['Adj_Close'] >= ub))\n",
    "bool_idx.sum()"
   ]
  },
  {
   "cell_type": "code",
   "execution_count": 442,
   "metadata": {},
   "outputs": [
    {
     "data": {
      "text/plain": [
       "Int64Index([6347], dtype='int64')"
      ]
     },
     "execution_count": 442,
     "metadata": {},
     "output_type": "execute_result"
    }
   ],
   "source": [
    "SPY[bool_idx].index"
   ]
  },
  {
   "cell_type": "code",
   "execution_count": 443,
   "metadata": {},
   "outputs": [
    {
     "data": {
      "text/html": [
       "<div>\n",
       "<style scoped>\n",
       "    .dataframe tbody tr th:only-of-type {\n",
       "        vertical-align: middle;\n",
       "    }\n",
       "\n",
       "    .dataframe tbody tr th {\n",
       "        vertical-align: top;\n",
       "    }\n",
       "\n",
       "    .dataframe thead th {\n",
       "        text-align: right;\n",
       "    }\n",
       "</style>\n",
       "<table border=\"1\" class=\"dataframe\">\n",
       "  <thead>\n",
       "    <tr style=\"text-align: right;\">\n",
       "      <th></th>\n",
       "      <th>Adj_Close</th>\n",
       "      <th>Adj_Volume</th>\n",
       "    </tr>\n",
       "  </thead>\n",
       "  <tbody>\n",
       "    <tr>\n",
       "      <th>count</th>\n",
       "      <td>6346.000000</td>\n",
       "      <td>6.348000e+03</td>\n",
       "    </tr>\n",
       "    <tr>\n",
       "      <th>mean</th>\n",
       "      <td>107.771164</td>\n",
       "      <td>8.439620e+07</td>\n",
       "    </tr>\n",
       "    <tr>\n",
       "      <th>std</th>\n",
       "      <td>56.095110</td>\n",
       "      <td>1.003272e+08</td>\n",
       "    </tr>\n",
       "    <tr>\n",
       "      <th>min</th>\n",
       "      <td>27.882638</td>\n",
       "      <td>5.200000e+03</td>\n",
       "    </tr>\n",
       "    <tr>\n",
       "      <th>25%</th>\n",
       "      <td>73.195260</td>\n",
       "      <td>6.398825e+06</td>\n",
       "    </tr>\n",
       "    <tr>\n",
       "      <th>50%</th>\n",
       "      <td>97.307411</td>\n",
       "      <td>5.459568e+07</td>\n",
       "    </tr>\n",
       "    <tr>\n",
       "      <th>75%</th>\n",
       "      <td>124.144102</td>\n",
       "      <td>1.250778e+08</td>\n",
       "    </tr>\n",
       "    <tr>\n",
       "      <th>max</th>\n",
       "      <td>285.438268</td>\n",
       "      <td>8.710263e+08</td>\n",
       "    </tr>\n",
       "  </tbody>\n",
       "</table>\n",
       "</div>"
      ],
      "text/plain": [
       "         Adj_Close    Adj_Volume\n",
       "count  6346.000000  6.348000e+03\n",
       "mean    107.771164  8.439620e+07\n",
       "std      56.095110  1.003272e+08\n",
       "min      27.882638  5.200000e+03\n",
       "25%      73.195260  6.398825e+06\n",
       "50%      97.307411  5.459568e+07\n",
       "75%     124.144102  1.250778e+08\n",
       "max     285.438268  8.710263e+08"
      ]
     },
     "execution_count": 443,
     "metadata": {},
     "output_type": "execute_result"
    }
   ],
   "source": [
    "SPY.drop( SPY[bool_idx].index, inplace=True )\n",
    "SPY.describe()"
   ]
  },
  {
   "cell_type": "markdown",
   "metadata": {},
   "source": [
    "### <font color='#2b4750' face='微软雅黑'>9.2 数据转换</font><a name='9.2'></a>\n",
    "[<font color='black' face='微软雅黑'>回到章首</font>](#9)\n",
    "\n",
    "### <font color='blue' face='微软雅黑'>字符型变量编码</font>\n",
    "\n",
    "计算机无法识别字符型变量，需要通过编码 (encoding) 转成数值型。拿下面贷款评级 `loan_grade` 来举例。"
   ]
  },
  {
   "cell_type": "code",
   "execution_count": 391,
   "metadata": {},
   "outputs": [
    {
     "data": {
      "text/html": [
       "<div>\n",
       "<style scoped>\n",
       "    .dataframe tbody tr th:only-of-type {\n",
       "        vertical-align: middle;\n",
       "    }\n",
       "\n",
       "    .dataframe tbody tr th {\n",
       "        vertical-align: top;\n",
       "    }\n",
       "\n",
       "    .dataframe thead th {\n",
       "        text-align: right;\n",
       "    }\n",
       "</style>\n",
       "<table border=\"1\" class=\"dataframe\">\n",
       "  <thead>\n",
       "    <tr style=\"text-align: right;\">\n",
       "      <th></th>\n",
       "      <th>person_age</th>\n",
       "      <th>person_income</th>\n",
       "      <th>person_home_ownership</th>\n",
       "      <th>person_emp_length</th>\n",
       "      <th>loan_intent</th>\n",
       "      <th>loan_grade</th>\n",
       "      <th>loan_amnt</th>\n",
       "      <th>loan_int_rate</th>\n",
       "      <th>loan_status</th>\n",
       "      <th>loan_percent_income</th>\n",
       "      <th>cb_person_default_on_file</th>\n",
       "      <th>cb_person_cred_hist_length</th>\n",
       "    </tr>\n",
       "  </thead>\n",
       "  <tbody>\n",
       "    <tr>\n",
       "      <th>0</th>\n",
       "      <td>22</td>\n",
       "      <td>59000</td>\n",
       "      <td>RENT</td>\n",
       "      <td>123.0</td>\n",
       "      <td>PERSONAL</td>\n",
       "      <td>D</td>\n",
       "      <td>35000</td>\n",
       "      <td>16.02</td>\n",
       "      <td>1</td>\n",
       "      <td>0.59</td>\n",
       "      <td>Y</td>\n",
       "      <td>3</td>\n",
       "    </tr>\n",
       "    <tr>\n",
       "      <th>1</th>\n",
       "      <td>21</td>\n",
       "      <td>9600</td>\n",
       "      <td>OWN</td>\n",
       "      <td>5.0</td>\n",
       "      <td>EDUCATION</td>\n",
       "      <td>B</td>\n",
       "      <td>1000</td>\n",
       "      <td>11.14</td>\n",
       "      <td>0</td>\n",
       "      <td>0.10</td>\n",
       "      <td>N</td>\n",
       "      <td>2</td>\n",
       "    </tr>\n",
       "    <tr>\n",
       "      <th>2</th>\n",
       "      <td>25</td>\n",
       "      <td>9600</td>\n",
       "      <td>MORTGAGE</td>\n",
       "      <td>1.0</td>\n",
       "      <td>MEDICAL</td>\n",
       "      <td>C</td>\n",
       "      <td>5500</td>\n",
       "      <td>12.87</td>\n",
       "      <td>1</td>\n",
       "      <td>0.57</td>\n",
       "      <td>N</td>\n",
       "      <td>3</td>\n",
       "    </tr>\n",
       "    <tr>\n",
       "      <th>32579</th>\n",
       "      <td>56</td>\n",
       "      <td>150000</td>\n",
       "      <td>MORTGAGE</td>\n",
       "      <td>5.0</td>\n",
       "      <td>PERSONAL</td>\n",
       "      <td>B</td>\n",
       "      <td>15000</td>\n",
       "      <td>11.48</td>\n",
       "      <td>0</td>\n",
       "      <td>0.10</td>\n",
       "      <td>N</td>\n",
       "      <td>26</td>\n",
       "    </tr>\n",
       "    <tr>\n",
       "      <th>32580</th>\n",
       "      <td>66</td>\n",
       "      <td>42000</td>\n",
       "      <td>RENT</td>\n",
       "      <td>2.0</td>\n",
       "      <td>MEDICAL</td>\n",
       "      <td>B</td>\n",
       "      <td>6475</td>\n",
       "      <td>9.99</td>\n",
       "      <td>0</td>\n",
       "      <td>0.15</td>\n",
       "      <td>N</td>\n",
       "      <td>30</td>\n",
       "    </tr>\n",
       "  </tbody>\n",
       "</table>\n",
       "</div>"
      ],
      "text/plain": [
       "       person_age  person_income person_home_ownership  person_emp_length  \\\n",
       "0              22          59000                  RENT              123.0   \n",
       "1              21           9600                   OWN                5.0   \n",
       "2              25           9600              MORTGAGE                1.0   \n",
       "32579          56         150000              MORTGAGE                5.0   \n",
       "32580          66          42000                  RENT                2.0   \n",
       "\n",
       "      loan_intent loan_grade  loan_amnt  loan_int_rate  loan_status  \\\n",
       "0        PERSONAL          D      35000          16.02            1   \n",
       "1       EDUCATION          B       1000          11.14            0   \n",
       "2         MEDICAL          C       5500          12.87            1   \n",
       "32579    PERSONAL          B      15000          11.48            0   \n",
       "32580     MEDICAL          B       6475           9.99            0   \n",
       "\n",
       "       loan_percent_income cb_person_default_on_file  \\\n",
       "0                     0.59                         Y   \n",
       "1                     0.10                         N   \n",
       "2                     0.57                         N   \n",
       "32579                 0.10                         N   \n",
       "32580                 0.15                         N   \n",
       "\n",
       "       cb_person_cred_hist_length  \n",
       "0                               3  \n",
       "1                               2  \n",
       "2                               3  \n",
       "32579                          26  \n",
       "32580                          30  "
      ]
     },
     "execution_count": 391,
     "metadata": {},
     "output_type": "execute_result"
    }
   ],
   "source": [
    "loan.head(3).append(loan.tail(2))"
   ]
  },
  {
   "cell_type": "code",
   "execution_count": 392,
   "metadata": {},
   "outputs": [
    {
     "data": {
      "text/plain": [
       "array(['D', 'B', 'C', 'A', 'E', 'F', 'G'], dtype=object)"
      ]
     },
     "execution_count": 392,
     "metadata": {},
     "output_type": "execute_result"
    }
   ],
   "source": [
    "loan['loan_grade'].unique()"
   ]
  },
  {
   "cell_type": "code",
   "execution_count": 393,
   "metadata": {},
   "outputs": [
    {
     "data": {
      "text/html": [
       "<div>\n",
       "<style scoped>\n",
       "    .dataframe tbody tr th:only-of-type {\n",
       "        vertical-align: middle;\n",
       "    }\n",
       "\n",
       "    .dataframe tbody tr th {\n",
       "        vertical-align: top;\n",
       "    }\n",
       "\n",
       "    .dataframe thead th {\n",
       "        text-align: right;\n",
       "    }\n",
       "</style>\n",
       "<table border=\"1\" class=\"dataframe\">\n",
       "  <thead>\n",
       "    <tr style=\"text-align: right;\">\n",
       "      <th></th>\n",
       "      <th>loan_grade_A</th>\n",
       "      <th>loan_grade_B</th>\n",
       "      <th>loan_grade_C</th>\n",
       "      <th>loan_grade_D</th>\n",
       "      <th>loan_grade_E</th>\n",
       "      <th>loan_grade_F</th>\n",
       "      <th>loan_grade_G</th>\n",
       "    </tr>\n",
       "  </thead>\n",
       "  <tbody>\n",
       "    <tr>\n",
       "      <th>0</th>\n",
       "      <td>0</td>\n",
       "      <td>0</td>\n",
       "      <td>0</td>\n",
       "      <td>1</td>\n",
       "      <td>0</td>\n",
       "      <td>0</td>\n",
       "      <td>0</td>\n",
       "    </tr>\n",
       "    <tr>\n",
       "      <th>1</th>\n",
       "      <td>0</td>\n",
       "      <td>1</td>\n",
       "      <td>0</td>\n",
       "      <td>0</td>\n",
       "      <td>0</td>\n",
       "      <td>0</td>\n",
       "      <td>0</td>\n",
       "    </tr>\n",
       "    <tr>\n",
       "      <th>2</th>\n",
       "      <td>0</td>\n",
       "      <td>0</td>\n",
       "      <td>1</td>\n",
       "      <td>0</td>\n",
       "      <td>0</td>\n",
       "      <td>0</td>\n",
       "      <td>0</td>\n",
       "    </tr>\n",
       "    <tr>\n",
       "      <th>3</th>\n",
       "      <td>0</td>\n",
       "      <td>0</td>\n",
       "      <td>1</td>\n",
       "      <td>0</td>\n",
       "      <td>0</td>\n",
       "      <td>0</td>\n",
       "      <td>0</td>\n",
       "    </tr>\n",
       "    <tr>\n",
       "      <th>4</th>\n",
       "      <td>0</td>\n",
       "      <td>0</td>\n",
       "      <td>1</td>\n",
       "      <td>0</td>\n",
       "      <td>0</td>\n",
       "      <td>0</td>\n",
       "      <td>0</td>\n",
       "    </tr>\n",
       "    <tr>\n",
       "      <th>...</th>\n",
       "      <td>...</td>\n",
       "      <td>...</td>\n",
       "      <td>...</td>\n",
       "      <td>...</td>\n",
       "      <td>...</td>\n",
       "      <td>...</td>\n",
       "      <td>...</td>\n",
       "    </tr>\n",
       "    <tr>\n",
       "      <th>32576</th>\n",
       "      <td>0</td>\n",
       "      <td>0</td>\n",
       "      <td>1</td>\n",
       "      <td>0</td>\n",
       "      <td>0</td>\n",
       "      <td>0</td>\n",
       "      <td>0</td>\n",
       "    </tr>\n",
       "    <tr>\n",
       "      <th>32577</th>\n",
       "      <td>1</td>\n",
       "      <td>0</td>\n",
       "      <td>0</td>\n",
       "      <td>0</td>\n",
       "      <td>0</td>\n",
       "      <td>0</td>\n",
       "      <td>0</td>\n",
       "    </tr>\n",
       "    <tr>\n",
       "      <th>32578</th>\n",
       "      <td>0</td>\n",
       "      <td>1</td>\n",
       "      <td>0</td>\n",
       "      <td>0</td>\n",
       "      <td>0</td>\n",
       "      <td>0</td>\n",
       "      <td>0</td>\n",
       "    </tr>\n",
       "    <tr>\n",
       "      <th>32579</th>\n",
       "      <td>0</td>\n",
       "      <td>1</td>\n",
       "      <td>0</td>\n",
       "      <td>0</td>\n",
       "      <td>0</td>\n",
       "      <td>0</td>\n",
       "      <td>0</td>\n",
       "    </tr>\n",
       "    <tr>\n",
       "      <th>32580</th>\n",
       "      <td>0</td>\n",
       "      <td>1</td>\n",
       "      <td>0</td>\n",
       "      <td>0</td>\n",
       "      <td>0</td>\n",
       "      <td>0</td>\n",
       "      <td>0</td>\n",
       "    </tr>\n",
       "  </tbody>\n",
       "</table>\n",
       "<p>32581 rows × 7 columns</p>\n",
       "</div>"
      ],
      "text/plain": [
       "       loan_grade_A  loan_grade_B  loan_grade_C  loan_grade_D  loan_grade_E  \\\n",
       "0                 0             0             0             1             0   \n",
       "1                 0             1             0             0             0   \n",
       "2                 0             0             1             0             0   \n",
       "3                 0             0             1             0             0   \n",
       "4                 0             0             1             0             0   \n",
       "...             ...           ...           ...           ...           ...   \n",
       "32576             0             0             1             0             0   \n",
       "32577             1             0             0             0             0   \n",
       "32578             0             1             0             0             0   \n",
       "32579             0             1             0             0             0   \n",
       "32580             0             1             0             0             0   \n",
       "\n",
       "       loan_grade_F  loan_grade_G  \n",
       "0                 0             0  \n",
       "1                 0             0  \n",
       "2                 0             0  \n",
       "3                 0             0  \n",
       "4                 0             0  \n",
       "...             ...           ...  \n",
       "32576             0             0  \n",
       "32577             0             0  \n",
       "32578             0             0  \n",
       "32579             0             0  \n",
       "32580             0             0  \n",
       "\n",
       "[32581 rows x 7 columns]"
      ]
     },
     "execution_count": 393,
     "metadata": {},
     "output_type": "execute_result"
    }
   ],
   "source": [
    "pd.get_dummies( loan['loan_grade'], prefix='loan_grade' )"
   ]
  },
  {
   "cell_type": "code",
   "execution_count": 394,
   "metadata": {},
   "outputs": [
    {
     "data": {
      "text/html": [
       "<div>\n",
       "<style scoped>\n",
       "    .dataframe tbody tr th:only-of-type {\n",
       "        vertical-align: middle;\n",
       "    }\n",
       "\n",
       "    .dataframe tbody tr th {\n",
       "        vertical-align: top;\n",
       "    }\n",
       "\n",
       "    .dataframe thead th {\n",
       "        text-align: right;\n",
       "    }\n",
       "</style>\n",
       "<table border=\"1\" class=\"dataframe\">\n",
       "  <thead>\n",
       "    <tr style=\"text-align: right;\">\n",
       "      <th></th>\n",
       "      <th>loan_grade_B</th>\n",
       "      <th>loan_grade_C</th>\n",
       "      <th>loan_grade_D</th>\n",
       "      <th>loan_grade_E</th>\n",
       "      <th>loan_grade_F</th>\n",
       "      <th>loan_grade_G</th>\n",
       "    </tr>\n",
       "  </thead>\n",
       "  <tbody>\n",
       "    <tr>\n",
       "      <th>0</th>\n",
       "      <td>0</td>\n",
       "      <td>0</td>\n",
       "      <td>1</td>\n",
       "      <td>0</td>\n",
       "      <td>0</td>\n",
       "      <td>0</td>\n",
       "    </tr>\n",
       "    <tr>\n",
       "      <th>1</th>\n",
       "      <td>1</td>\n",
       "      <td>0</td>\n",
       "      <td>0</td>\n",
       "      <td>0</td>\n",
       "      <td>0</td>\n",
       "      <td>0</td>\n",
       "    </tr>\n",
       "    <tr>\n",
       "      <th>2</th>\n",
       "      <td>0</td>\n",
       "      <td>1</td>\n",
       "      <td>0</td>\n",
       "      <td>0</td>\n",
       "      <td>0</td>\n",
       "      <td>0</td>\n",
       "    </tr>\n",
       "    <tr>\n",
       "      <th>3</th>\n",
       "      <td>0</td>\n",
       "      <td>1</td>\n",
       "      <td>0</td>\n",
       "      <td>0</td>\n",
       "      <td>0</td>\n",
       "      <td>0</td>\n",
       "    </tr>\n",
       "    <tr>\n",
       "      <th>4</th>\n",
       "      <td>0</td>\n",
       "      <td>1</td>\n",
       "      <td>0</td>\n",
       "      <td>0</td>\n",
       "      <td>0</td>\n",
       "      <td>0</td>\n",
       "    </tr>\n",
       "    <tr>\n",
       "      <th>...</th>\n",
       "      <td>...</td>\n",
       "      <td>...</td>\n",
       "      <td>...</td>\n",
       "      <td>...</td>\n",
       "      <td>...</td>\n",
       "      <td>...</td>\n",
       "    </tr>\n",
       "    <tr>\n",
       "      <th>32576</th>\n",
       "      <td>0</td>\n",
       "      <td>1</td>\n",
       "      <td>0</td>\n",
       "      <td>0</td>\n",
       "      <td>0</td>\n",
       "      <td>0</td>\n",
       "    </tr>\n",
       "    <tr>\n",
       "      <th>32577</th>\n",
       "      <td>0</td>\n",
       "      <td>0</td>\n",
       "      <td>0</td>\n",
       "      <td>0</td>\n",
       "      <td>0</td>\n",
       "      <td>0</td>\n",
       "    </tr>\n",
       "    <tr>\n",
       "      <th>32578</th>\n",
       "      <td>1</td>\n",
       "      <td>0</td>\n",
       "      <td>0</td>\n",
       "      <td>0</td>\n",
       "      <td>0</td>\n",
       "      <td>0</td>\n",
       "    </tr>\n",
       "    <tr>\n",
       "      <th>32579</th>\n",
       "      <td>1</td>\n",
       "      <td>0</td>\n",
       "      <td>0</td>\n",
       "      <td>0</td>\n",
       "      <td>0</td>\n",
       "      <td>0</td>\n",
       "    </tr>\n",
       "    <tr>\n",
       "      <th>32580</th>\n",
       "      <td>1</td>\n",
       "      <td>0</td>\n",
       "      <td>0</td>\n",
       "      <td>0</td>\n",
       "      <td>0</td>\n",
       "      <td>0</td>\n",
       "    </tr>\n",
       "  </tbody>\n",
       "</table>\n",
       "<p>32581 rows × 6 columns</p>\n",
       "</div>"
      ],
      "text/plain": [
       "       loan_grade_B  loan_grade_C  loan_grade_D  loan_grade_E  loan_grade_F  \\\n",
       "0                 0             0             1             0             0   \n",
       "1                 1             0             0             0             0   \n",
       "2                 0             1             0             0             0   \n",
       "3                 0             1             0             0             0   \n",
       "4                 0             1             0             0             0   \n",
       "...             ...           ...           ...           ...           ...   \n",
       "32576             0             1             0             0             0   \n",
       "32577             0             0             0             0             0   \n",
       "32578             1             0             0             0             0   \n",
       "32579             1             0             0             0             0   \n",
       "32580             1             0             0             0             0   \n",
       "\n",
       "       loan_grade_G  \n",
       "0                 0  \n",
       "1                 0  \n",
       "2                 0  \n",
       "3                 0  \n",
       "4                 0  \n",
       "...             ...  \n",
       "32576             0  \n",
       "32577             0  \n",
       "32578             0  \n",
       "32579             0  \n",
       "32580             0  \n",
       "\n",
       "[32581 rows x 6 columns]"
      ]
     },
     "execution_count": 394,
     "metadata": {},
     "output_type": "execute_result"
    }
   ],
   "source": [
    "pd.get_dummies( loan['loan_grade'], prefix='loan_grade', drop_first=True )"
   ]
  },
  {
   "cell_type": "markdown",
   "metadata": {},
   "source": [
    "### <font color='blue' face='微软雅黑'>数值型变量分组</font>\n",
    "\n",
    "拿工龄 `person_emp_length` 和贷款状态 `loan_status` 来做交叉表。"
   ]
  },
  {
   "cell_type": "code",
   "execution_count": 396,
   "metadata": {},
   "outputs": [
    {
     "data": {
      "text/html": [
       "<style  type=\"text/css\" >\n",
       "</style><table id=\"T_cfdd2ea4_ad9b_11ea_a0de_f48c504b53b5\" ><thead>    <tr>        <th class=\"index_name level0\" >loan_status</th>        <th class=\"col_heading level0 col0\" >0</th>        <th class=\"col_heading level0 col1\" >1</th>    </tr>    <tr>        <th class=\"index_name level0\" >person_emp_length</th>        <th class=\"blank\" ></th>        <th class=\"blank\" ></th>    </tr></thead><tbody>\n",
       "                <tr>\n",
       "                        <th id=\"T_cfdd2ea4_ad9b_11ea_a0de_f48c504b53b5level0_row0\" class=\"row_heading level0 row0\" >0.0</th>\n",
       "                        <td id=\"T_cfdd2ea4_ad9b_11ea_a0de_f48c504b53b5row0_col0\" class=\"data row0 col0\" >9.34%</td>\n",
       "                        <td id=\"T_cfdd2ea4_ad9b_11ea_a0de_f48c504b53b5row0_col1\" class=\"data row0 col1\" >3.62%</td>\n",
       "            </tr>\n",
       "            <tr>\n",
       "                        <th id=\"T_cfdd2ea4_ad9b_11ea_a0de_f48c504b53b5level0_row1\" class=\"row_heading level0 row1\" >1.0</th>\n",
       "                        <td id=\"T_cfdd2ea4_ad9b_11ea_a0de_f48c504b53b5row1_col0\" class=\"data row1 col0\" >6.66%</td>\n",
       "                        <td id=\"T_cfdd2ea4_ad9b_11ea_a0de_f48c504b53b5row1_col1\" class=\"data row1 col1\" >2.54%</td>\n",
       "            </tr>\n",
       "            <tr>\n",
       "                        <th id=\"T_cfdd2ea4_ad9b_11ea_a0de_f48c504b53b5level0_row2\" class=\"row_heading level0 row2\" >2.0</th>\n",
       "                        <td id=\"T_cfdd2ea4_ad9b_11ea_a0de_f48c504b53b5row2_col0\" class=\"data row2 col0\" >9.03%</td>\n",
       "                        <td id=\"T_cfdd2ea4_ad9b_11ea_a0de_f48c504b53b5row2_col1\" class=\"data row2 col1\" >3.11%</td>\n",
       "            </tr>\n",
       "            <tr>\n",
       "                        <th id=\"T_cfdd2ea4_ad9b_11ea_a0de_f48c504b53b5level0_row3\" class=\"row_heading level0 row3\" >3.0</th>\n",
       "                        <td id=\"T_cfdd2ea4_ad9b_11ea_a0de_f48c504b53b5row3_col0\" class=\"data row3 col0\" >8.71%</td>\n",
       "                        <td id=\"T_cfdd2ea4_ad9b_11ea_a0de_f48c504b53b5row3_col1\" class=\"data row3 col1\" >2.20%</td>\n",
       "            </tr>\n",
       "            <tr>\n",
       "                        <th id=\"T_cfdd2ea4_ad9b_11ea_a0de_f48c504b53b5level0_row4\" class=\"row_heading level0 row4\" >4.0</th>\n",
       "                        <td id=\"T_cfdd2ea4_ad9b_11ea_a0de_f48c504b53b5row4_col0\" class=\"data row4 col0\" >7.15%</td>\n",
       "                        <td id=\"T_cfdd2ea4_ad9b_11ea_a0de_f48c504b53b5row4_col1\" class=\"data row4 col1\" >1.93%</td>\n",
       "            </tr>\n",
       "            <tr>\n",
       "                        <th id=\"T_cfdd2ea4_ad9b_11ea_a0de_f48c504b53b5level0_row5\" class=\"row_heading level0 row5\" >5.0</th>\n",
       "                        <td id=\"T_cfdd2ea4_ad9b_11ea_a0de_f48c504b53b5row5_col0\" class=\"data row5 col0\" >7.57%</td>\n",
       "                        <td id=\"T_cfdd2ea4_ad9b_11ea_a0de_f48c504b53b5row5_col1\" class=\"data row5 col1\" >1.73%</td>\n",
       "            </tr>\n",
       "            <tr>\n",
       "                        <th id=\"T_cfdd2ea4_ad9b_11ea_a0de_f48c504b53b5level0_row6\" class=\"row_heading level0 row6\" >6.0</th>\n",
       "                        <td id=\"T_cfdd2ea4_ad9b_11ea_a0de_f48c504b53b5row6_col0\" class=\"data row6 col0\" >6.84%</td>\n",
       "                        <td id=\"T_cfdd2ea4_ad9b_11ea_a0de_f48c504b53b5row6_col1\" class=\"data row6 col1\" >1.58%</td>\n",
       "            </tr>\n",
       "            <tr>\n",
       "                        <th id=\"T_cfdd2ea4_ad9b_11ea_a0de_f48c504b53b5level0_row7\" class=\"row_heading level0 row7\" >7.0</th>\n",
       "                        <td id=\"T_cfdd2ea4_ad9b_11ea_a0de_f48c504b53b5row7_col0\" class=\"data row7 col0\" >5.63%</td>\n",
       "                        <td id=\"T_cfdd2ea4_ad9b_11ea_a0de_f48c504b53b5row7_col1\" class=\"data row7 col1\" >1.30%</td>\n",
       "            </tr>\n",
       "            <tr>\n",
       "                        <th id=\"T_cfdd2ea4_ad9b_11ea_a0de_f48c504b53b5level0_row8\" class=\"row_heading level0 row8\" >8.0</th>\n",
       "                        <td id=\"T_cfdd2ea4_ad9b_11ea_a0de_f48c504b53b5row8_col0\" class=\"data row8 col0\" >4.44%</td>\n",
       "                        <td id=\"T_cfdd2ea4_ad9b_11ea_a0de_f48c504b53b5row8_col1\" class=\"data row8 col1\" >0.89%</td>\n",
       "            </tr>\n",
       "            <tr>\n",
       "                        <th id=\"T_cfdd2ea4_ad9b_11ea_a0de_f48c504b53b5level0_row9\" class=\"row_heading level0 row9\" >9.0</th>\n",
       "                        <td id=\"T_cfdd2ea4_ad9b_11ea_a0de_f48c504b53b5row9_col0\" class=\"data row9 col0\" >3.54%</td>\n",
       "                        <td id=\"T_cfdd2ea4_ad9b_11ea_a0de_f48c504b53b5row9_col1\" class=\"data row9 col1\" >0.77%</td>\n",
       "            </tr>\n",
       "            <tr>\n",
       "                        <th id=\"T_cfdd2ea4_ad9b_11ea_a0de_f48c504b53b5level0_row10\" class=\"row_heading level0 row10\" >10.0</th>\n",
       "                        <td id=\"T_cfdd2ea4_ad9b_11ea_a0de_f48c504b53b5row10_col0\" class=\"data row10 col0\" >1.82%</td>\n",
       "                        <td id=\"T_cfdd2ea4_ad9b_11ea_a0de_f48c504b53b5row10_col1\" class=\"data row10 col1\" >0.38%</td>\n",
       "            </tr>\n",
       "            <tr>\n",
       "                        <th id=\"T_cfdd2ea4_ad9b_11ea_a0de_f48c504b53b5level0_row11\" class=\"row_heading level0 row11\" >11.0</th>\n",
       "                        <td id=\"T_cfdd2ea4_ad9b_11ea_a0de_f48c504b53b5row11_col0\" class=\"data row11 col0\" >1.91%</td>\n",
       "                        <td id=\"T_cfdd2ea4_ad9b_11ea_a0de_f48c504b53b5row11_col1\" class=\"data row11 col1\" >0.43%</td>\n",
       "            </tr>\n",
       "            <tr>\n",
       "                        <th id=\"T_cfdd2ea4_ad9b_11ea_a0de_f48c504b53b5level0_row12\" class=\"row_heading level0 row12\" >12.0</th>\n",
       "                        <td id=\"T_cfdd2ea4_ad9b_11ea_a0de_f48c504b53b5row12_col0\" class=\"data row12 col0\" >1.53%</td>\n",
       "                        <td id=\"T_cfdd2ea4_ad9b_11ea_a0de_f48c504b53b5row12_col1\" class=\"data row12 col1\" >0.28%</td>\n",
       "            </tr>\n",
       "            <tr>\n",
       "                        <th id=\"T_cfdd2ea4_ad9b_11ea_a0de_f48c504b53b5level0_row13\" class=\"row_heading level0 row13\" >13.0</th>\n",
       "                        <td id=\"T_cfdd2ea4_ad9b_11ea_a0de_f48c504b53b5row13_col0\" class=\"data row13 col0\" >1.18%</td>\n",
       "                        <td id=\"T_cfdd2ea4_ad9b_11ea_a0de_f48c504b53b5row13_col1\" class=\"data row13 col1\" >0.16%</td>\n",
       "            </tr>\n",
       "            <tr>\n",
       "                        <th id=\"T_cfdd2ea4_ad9b_11ea_a0de_f48c504b53b5level0_row14\" class=\"row_heading level0 row14\" >14.0</th>\n",
       "                        <td id=\"T_cfdd2ea4_ad9b_11ea_a0de_f48c504b53b5row14_col0\" class=\"data row14 col0\" >0.88%</td>\n",
       "                        <td id=\"T_cfdd2ea4_ad9b_11ea_a0de_f48c504b53b5row14_col1\" class=\"data row14 col1\" >0.18%</td>\n",
       "            </tr>\n",
       "            <tr>\n",
       "                        <th id=\"T_cfdd2ea4_ad9b_11ea_a0de_f48c504b53b5level0_row15\" class=\"row_heading level0 row15\" >15.0</th>\n",
       "                        <td id=\"T_cfdd2ea4_ad9b_11ea_a0de_f48c504b53b5row15_col0\" class=\"data row15 col0\" >0.62%</td>\n",
       "                        <td id=\"T_cfdd2ea4_ad9b_11ea_a0de_f48c504b53b5row15_col1\" class=\"data row15 col1\" >0.14%</td>\n",
       "            </tr>\n",
       "            <tr>\n",
       "                        <th id=\"T_cfdd2ea4_ad9b_11ea_a0de_f48c504b53b5level0_row16\" class=\"row_heading level0 row16\" >16.0</th>\n",
       "                        <td id=\"T_cfdd2ea4_ad9b_11ea_a0de_f48c504b53b5row16_col0\" class=\"data row16 col0\" >0.46%</td>\n",
       "                        <td id=\"T_cfdd2ea4_ad9b_11ea_a0de_f48c504b53b5row16_col1\" class=\"data row16 col1\" >0.06%</td>\n",
       "            </tr>\n",
       "            <tr>\n",
       "                        <th id=\"T_cfdd2ea4_ad9b_11ea_a0de_f48c504b53b5level0_row17\" class=\"row_heading level0 row17\" >17.0</th>\n",
       "                        <td id=\"T_cfdd2ea4_ad9b_11ea_a0de_f48c504b53b5row17_col0\" class=\"data row17 col0\" >0.34%</td>\n",
       "                        <td id=\"T_cfdd2ea4_ad9b_11ea_a0de_f48c504b53b5row17_col1\" class=\"data row17 col1\" >0.07%</td>\n",
       "            </tr>\n",
       "            <tr>\n",
       "                        <th id=\"T_cfdd2ea4_ad9b_11ea_a0de_f48c504b53b5level0_row18\" class=\"row_heading level0 row18\" >18.0</th>\n",
       "                        <td id=\"T_cfdd2ea4_ad9b_11ea_a0de_f48c504b53b5row18_col0\" class=\"data row18 col0\" >0.29%</td>\n",
       "                        <td id=\"T_cfdd2ea4_ad9b_11ea_a0de_f48c504b53b5row18_col1\" class=\"data row18 col1\" >0.03%</td>\n",
       "            </tr>\n",
       "            <tr>\n",
       "                        <th id=\"T_cfdd2ea4_ad9b_11ea_a0de_f48c504b53b5level0_row19\" class=\"row_heading level0 row19\" >19.0</th>\n",
       "                        <td id=\"T_cfdd2ea4_ad9b_11ea_a0de_f48c504b53b5row19_col0\" class=\"data row19 col0\" >0.17%</td>\n",
       "                        <td id=\"T_cfdd2ea4_ad9b_11ea_a0de_f48c504b53b5row19_col1\" class=\"data row19 col1\" >0.03%</td>\n",
       "            </tr>\n",
       "            <tr>\n",
       "                        <th id=\"T_cfdd2ea4_ad9b_11ea_a0de_f48c504b53b5level0_row20\" class=\"row_heading level0 row20\" >20.0</th>\n",
       "                        <td id=\"T_cfdd2ea4_ad9b_11ea_a0de_f48c504b53b5row20_col0\" class=\"data row20 col0\" >0.09%</td>\n",
       "                        <td id=\"T_cfdd2ea4_ad9b_11ea_a0de_f48c504b53b5row20_col1\" class=\"data row20 col1\" >0.04%</td>\n",
       "            </tr>\n",
       "            <tr>\n",
       "                        <th id=\"T_cfdd2ea4_ad9b_11ea_a0de_f48c504b53b5level0_row21\" class=\"row_heading level0 row21\" >21.0</th>\n",
       "                        <td id=\"T_cfdd2ea4_ad9b_11ea_a0de_f48c504b53b5row21_col0\" class=\"data row21 col0\" >0.09%</td>\n",
       "                        <td id=\"T_cfdd2ea4_ad9b_11ea_a0de_f48c504b53b5row21_col1\" class=\"data row21 col1\" >0.03%</td>\n",
       "            </tr>\n",
       "            <tr>\n",
       "                        <th id=\"T_cfdd2ea4_ad9b_11ea_a0de_f48c504b53b5level0_row22\" class=\"row_heading level0 row22\" >22.0</th>\n",
       "                        <td id=\"T_cfdd2ea4_ad9b_11ea_a0de_f48c504b53b5row22_col0\" class=\"data row22 col0\" >0.05%</td>\n",
       "                        <td id=\"T_cfdd2ea4_ad9b_11ea_a0de_f48c504b53b5row22_col1\" class=\"data row22 col1\" >0.01%</td>\n",
       "            </tr>\n",
       "            <tr>\n",
       "                        <th id=\"T_cfdd2ea4_ad9b_11ea_a0de_f48c504b53b5level0_row23\" class=\"row_heading level0 row23\" >23.0</th>\n",
       "                        <td id=\"T_cfdd2ea4_ad9b_11ea_a0de_f48c504b53b5row23_col0\" class=\"data row23 col0\" >0.02%</td>\n",
       "                        <td id=\"T_cfdd2ea4_ad9b_11ea_a0de_f48c504b53b5row23_col1\" class=\"data row23 col1\" >0.01%</td>\n",
       "            </tr>\n",
       "            <tr>\n",
       "                        <th id=\"T_cfdd2ea4_ad9b_11ea_a0de_f48c504b53b5level0_row24\" class=\"row_heading level0 row24\" >24.0</th>\n",
       "                        <td id=\"T_cfdd2ea4_ad9b_11ea_a0de_f48c504b53b5row24_col0\" class=\"data row24 col0\" >0.02%</td>\n",
       "                        <td id=\"T_cfdd2ea4_ad9b_11ea_a0de_f48c504b53b5row24_col1\" class=\"data row24 col1\" >0.01%</td>\n",
       "            </tr>\n",
       "            <tr>\n",
       "                        <th id=\"T_cfdd2ea4_ad9b_11ea_a0de_f48c504b53b5level0_row25\" class=\"row_heading level0 row25\" >25.0</th>\n",
       "                        <td id=\"T_cfdd2ea4_ad9b_11ea_a0de_f48c504b53b5row25_col0\" class=\"data row25 col0\" >0.03%</td>\n",
       "                        <td id=\"T_cfdd2ea4_ad9b_11ea_a0de_f48c504b53b5row25_col1\" class=\"data row25 col1\" >0.00%</td>\n",
       "            </tr>\n",
       "            <tr>\n",
       "                        <th id=\"T_cfdd2ea4_ad9b_11ea_a0de_f48c504b53b5level0_row26\" class=\"row_heading level0 row26\" >26.0</th>\n",
       "                        <td id=\"T_cfdd2ea4_ad9b_11ea_a0de_f48c504b53b5row26_col0\" class=\"data row26 col0\" >0.02%</td>\n",
       "                        <td id=\"T_cfdd2ea4_ad9b_11ea_a0de_f48c504b53b5row26_col1\" class=\"data row26 col1\" >0.00%</td>\n",
       "            </tr>\n",
       "            <tr>\n",
       "                        <th id=\"T_cfdd2ea4_ad9b_11ea_a0de_f48c504b53b5level0_row27\" class=\"row_heading level0 row27\" >27.0</th>\n",
       "                        <td id=\"T_cfdd2ea4_ad9b_11ea_a0de_f48c504b53b5row27_col0\" class=\"data row27 col0\" >0.01%</td>\n",
       "                        <td id=\"T_cfdd2ea4_ad9b_11ea_a0de_f48c504b53b5row27_col1\" class=\"data row27 col1\" >0.00%</td>\n",
       "            </tr>\n",
       "            <tr>\n",
       "                        <th id=\"T_cfdd2ea4_ad9b_11ea_a0de_f48c504b53b5level0_row28\" class=\"row_heading level0 row28\" >28.0</th>\n",
       "                        <td id=\"T_cfdd2ea4_ad9b_11ea_a0de_f48c504b53b5row28_col0\" class=\"data row28 col0\" >0.01%</td>\n",
       "                        <td id=\"T_cfdd2ea4_ad9b_11ea_a0de_f48c504b53b5row28_col1\" class=\"data row28 col1\" >0.00%</td>\n",
       "            </tr>\n",
       "            <tr>\n",
       "                        <th id=\"T_cfdd2ea4_ad9b_11ea_a0de_f48c504b53b5level0_row29\" class=\"row_heading level0 row29\" >29.0</th>\n",
       "                        <td id=\"T_cfdd2ea4_ad9b_11ea_a0de_f48c504b53b5row29_col0\" class=\"data row29 col0\" >0.00%</td>\n",
       "                        <td id=\"T_cfdd2ea4_ad9b_11ea_a0de_f48c504b53b5row29_col1\" class=\"data row29 col1\" >0.00%</td>\n",
       "            </tr>\n",
       "            <tr>\n",
       "                        <th id=\"T_cfdd2ea4_ad9b_11ea_a0de_f48c504b53b5level0_row30\" class=\"row_heading level0 row30\" >30.0</th>\n",
       "                        <td id=\"T_cfdd2ea4_ad9b_11ea_a0de_f48c504b53b5row30_col0\" class=\"data row30 col0\" >0.00%</td>\n",
       "                        <td id=\"T_cfdd2ea4_ad9b_11ea_a0de_f48c504b53b5row30_col1\" class=\"data row30 col1\" >0.00%</td>\n",
       "            </tr>\n",
       "            <tr>\n",
       "                        <th id=\"T_cfdd2ea4_ad9b_11ea_a0de_f48c504b53b5level0_row31\" class=\"row_heading level0 row31\" >31.0</th>\n",
       "                        <td id=\"T_cfdd2ea4_ad9b_11ea_a0de_f48c504b53b5row31_col0\" class=\"data row31 col0\" >0.01%</td>\n",
       "                        <td id=\"T_cfdd2ea4_ad9b_11ea_a0de_f48c504b53b5row31_col1\" class=\"data row31 col1\" >0.00%</td>\n",
       "            </tr>\n",
       "            <tr>\n",
       "                        <th id=\"T_cfdd2ea4_ad9b_11ea_a0de_f48c504b53b5level0_row32\" class=\"row_heading level0 row32\" >34.0</th>\n",
       "                        <td id=\"T_cfdd2ea4_ad9b_11ea_a0de_f48c504b53b5row32_col0\" class=\"data row32 col0\" >0.00%</td>\n",
       "                        <td id=\"T_cfdd2ea4_ad9b_11ea_a0de_f48c504b53b5row32_col1\" class=\"data row32 col1\" >0.00%</td>\n",
       "            </tr>\n",
       "            <tr>\n",
       "                        <th id=\"T_cfdd2ea4_ad9b_11ea_a0de_f48c504b53b5level0_row33\" class=\"row_heading level0 row33\" >38.0</th>\n",
       "                        <td id=\"T_cfdd2ea4_ad9b_11ea_a0de_f48c504b53b5row33_col0\" class=\"data row33 col0\" >0.00%</td>\n",
       "                        <td id=\"T_cfdd2ea4_ad9b_11ea_a0de_f48c504b53b5row33_col1\" class=\"data row33 col1\" >0.00%</td>\n",
       "            </tr>\n",
       "            <tr>\n",
       "                        <th id=\"T_cfdd2ea4_ad9b_11ea_a0de_f48c504b53b5level0_row34\" class=\"row_heading level0 row34\" >41.0</th>\n",
       "                        <td id=\"T_cfdd2ea4_ad9b_11ea_a0de_f48c504b53b5row34_col0\" class=\"data row34 col0\" >0.00%</td>\n",
       "                        <td id=\"T_cfdd2ea4_ad9b_11ea_a0de_f48c504b53b5row34_col1\" class=\"data row34 col1\" >0.00%</td>\n",
       "            </tr>\n",
       "            <tr>\n",
       "                        <th id=\"T_cfdd2ea4_ad9b_11ea_a0de_f48c504b53b5level0_row35\" class=\"row_heading level0 row35\" >123.0</th>\n",
       "                        <td id=\"T_cfdd2ea4_ad9b_11ea_a0de_f48c504b53b5row35_col0\" class=\"data row35 col0\" >0.00%</td>\n",
       "                        <td id=\"T_cfdd2ea4_ad9b_11ea_a0de_f48c504b53b5row35_col1\" class=\"data row35 col1\" >0.00%</td>\n",
       "            </tr>\n",
       "    </tbody></table>"
      ],
      "text/plain": [
       "<pandas.io.formats.style.Styler at 0x26ad0233c18>"
      ]
     },
     "execution_count": 396,
     "metadata": {},
     "output_type": "execute_result"
    }
   ],
   "source": [
    "pd.crosstab( index=loan['person_emp_length'], \n",
    "             columns=loan['loan_status'],\n",
    "             normalize=True ).style.format(\"{:.2%}\")"
   ]
  },
  {
   "cell_type": "markdown",
   "metadata": {},
   "source": [
    "由于工龄是连续数值，如果按每个唯一值来分类的话，产出的信息毫无价值。这时需要做分箱操作，用 `qcut()` 函数将工龄按差不多数目分成 n 份。"
   ]
  },
  {
   "cell_type": "code",
   "execution_count": 397,
   "metadata": {},
   "outputs": [
    {
     "data": {
      "text/plain": [
       "0         (7.0, 123.0]\n",
       "1           (4.0, 7.0]\n",
       "2        (-0.001, 2.0]\n",
       "3           (2.0, 4.0]\n",
       "4         (7.0, 123.0]\n",
       "             ...      \n",
       "32576    (-0.001, 2.0]\n",
       "32577       (2.0, 4.0]\n",
       "32578       (2.0, 4.0]\n",
       "32579       (4.0, 7.0]\n",
       "32580    (-0.001, 2.0]\n",
       "Name: person_emp_length, Length: 32581, dtype: category\n",
       "Categories (4, interval[float64]): [(-0.001, 2.0] < (2.0, 4.0] < (4.0, 7.0] < (7.0, 123.0]]"
      ]
     },
     "execution_count": 397,
     "metadata": {},
     "output_type": "execute_result"
    }
   ],
   "source": [
    "bins = pd.qcut(loan['person_emp_length'], 4)\n",
    "bins"
   ]
  },
  {
   "cell_type": "markdown",
   "metadata": {},
   "source": [
    "注意上面的分割点为 -0.001, 2, 4, 7, 123 就是下面用 `describe()` 函数产出的最小值、25-50-75 分位数和最大值。"
   ]
  },
  {
   "cell_type": "code",
   "execution_count": 399,
   "metadata": {},
   "outputs": [
    {
     "data": {
      "text/plain": [
       "count    31686.000000\n",
       "mean         4.789686\n",
       "std          4.142630\n",
       "min          0.000000\n",
       "25%          2.000000\n",
       "50%          4.000000\n",
       "75%          7.000000\n",
       "max        123.000000\n",
       "Name: person_emp_length, dtype: float64"
      ]
     },
     "execution_count": 399,
     "metadata": {},
     "output_type": "execute_result"
    }
   ],
   "source": [
    "loan['person_emp_length'].describe()"
   ]
  },
  {
   "cell_type": "code",
   "execution_count": 411,
   "metadata": {},
   "outputs": [
    {
     "data": {
      "text/plain": [
       "(-0.001, 2.0]    10869\n",
       "(4.0, 7.0]        7808\n",
       "(7.0, 123.0]      6679\n",
       "(2.0, 4.0]        6330\n",
       "Name: person_emp_length, dtype: int64"
      ]
     },
     "execution_count": 411,
     "metadata": {},
     "output_type": "execute_result"
    }
   ],
   "source": [
    "bins.value_counts()"
   ]
  },
  {
   "cell_type": "code",
   "execution_count": 413,
   "metadata": {},
   "outputs": [
    {
     "data": {
      "text/html": [
       "<div>\n",
       "<style scoped>\n",
       "    .dataframe tbody tr th:only-of-type {\n",
       "        vertical-align: middle;\n",
       "    }\n",
       "\n",
       "    .dataframe tbody tr th {\n",
       "        vertical-align: top;\n",
       "    }\n",
       "\n",
       "    .dataframe thead th {\n",
       "        text-align: right;\n",
       "    }\n",
       "</style>\n",
       "<table border=\"1\" class=\"dataframe\">\n",
       "  <thead>\n",
       "    <tr style=\"text-align: right;\">\n",
       "      <th></th>\n",
       "      <th>person_age</th>\n",
       "      <th>person_income</th>\n",
       "      <th>person_home_ownership</th>\n",
       "      <th>person_emp_length</th>\n",
       "      <th>loan_intent</th>\n",
       "      <th>loan_grade</th>\n",
       "      <th>loan_amnt</th>\n",
       "      <th>loan_int_rate</th>\n",
       "      <th>loan_status</th>\n",
       "      <th>loan_percent_income</th>\n",
       "      <th>cb_person_default_on_file</th>\n",
       "      <th>cb_person_cred_hist_length</th>\n",
       "      <th>person_emp_bin</th>\n",
       "    </tr>\n",
       "  </thead>\n",
       "  <tbody>\n",
       "    <tr>\n",
       "      <th>0</th>\n",
       "      <td>22</td>\n",
       "      <td>59000</td>\n",
       "      <td>RENT</td>\n",
       "      <td>123.0</td>\n",
       "      <td>PERSONAL</td>\n",
       "      <td>D</td>\n",
       "      <td>35000</td>\n",
       "      <td>16.02</td>\n",
       "      <td>1</td>\n",
       "      <td>0.59</td>\n",
       "      <td>Y</td>\n",
       "      <td>3</td>\n",
       "      <td>(7.0, 123.0]</td>\n",
       "    </tr>\n",
       "    <tr>\n",
       "      <th>1</th>\n",
       "      <td>21</td>\n",
       "      <td>9600</td>\n",
       "      <td>OWN</td>\n",
       "      <td>5.0</td>\n",
       "      <td>EDUCATION</td>\n",
       "      <td>B</td>\n",
       "      <td>1000</td>\n",
       "      <td>11.14</td>\n",
       "      <td>0</td>\n",
       "      <td>0.10</td>\n",
       "      <td>N</td>\n",
       "      <td>2</td>\n",
       "      <td>(4.0, 7.0]</td>\n",
       "    </tr>\n",
       "    <tr>\n",
       "      <th>2</th>\n",
       "      <td>25</td>\n",
       "      <td>9600</td>\n",
       "      <td>MORTGAGE</td>\n",
       "      <td>1.0</td>\n",
       "      <td>MEDICAL</td>\n",
       "      <td>C</td>\n",
       "      <td>5500</td>\n",
       "      <td>12.87</td>\n",
       "      <td>1</td>\n",
       "      <td>0.57</td>\n",
       "      <td>N</td>\n",
       "      <td>3</td>\n",
       "      <td>(-0.001, 2.0]</td>\n",
       "    </tr>\n",
       "    <tr>\n",
       "      <th>32579</th>\n",
       "      <td>56</td>\n",
       "      <td>150000</td>\n",
       "      <td>MORTGAGE</td>\n",
       "      <td>5.0</td>\n",
       "      <td>PERSONAL</td>\n",
       "      <td>B</td>\n",
       "      <td>15000</td>\n",
       "      <td>11.48</td>\n",
       "      <td>0</td>\n",
       "      <td>0.10</td>\n",
       "      <td>N</td>\n",
       "      <td>26</td>\n",
       "      <td>(4.0, 7.0]</td>\n",
       "    </tr>\n",
       "    <tr>\n",
       "      <th>32580</th>\n",
       "      <td>66</td>\n",
       "      <td>42000</td>\n",
       "      <td>RENT</td>\n",
       "      <td>2.0</td>\n",
       "      <td>MEDICAL</td>\n",
       "      <td>B</td>\n",
       "      <td>6475</td>\n",
       "      <td>9.99</td>\n",
       "      <td>0</td>\n",
       "      <td>0.15</td>\n",
       "      <td>N</td>\n",
       "      <td>30</td>\n",
       "      <td>(-0.001, 2.0]</td>\n",
       "    </tr>\n",
       "  </tbody>\n",
       "</table>\n",
       "</div>"
      ],
      "text/plain": [
       "       person_age  person_income person_home_ownership  person_emp_length  \\\n",
       "0              22          59000                  RENT              123.0   \n",
       "1              21           9600                   OWN                5.0   \n",
       "2              25           9600              MORTGAGE                1.0   \n",
       "32579          56         150000              MORTGAGE                5.0   \n",
       "32580          66          42000                  RENT                2.0   \n",
       "\n",
       "      loan_intent loan_grade  loan_amnt  loan_int_rate  loan_status  \\\n",
       "0        PERSONAL          D      35000          16.02            1   \n",
       "1       EDUCATION          B       1000          11.14            0   \n",
       "2         MEDICAL          C       5500          12.87            1   \n",
       "32579    PERSONAL          B      15000          11.48            0   \n",
       "32580     MEDICAL          B       6475           9.99            0   \n",
       "\n",
       "       loan_percent_income cb_person_default_on_file  \\\n",
       "0                     0.59                         Y   \n",
       "1                     0.10                         N   \n",
       "2                     0.57                         N   \n",
       "32579                 0.10                         N   \n",
       "32580                 0.15                         N   \n",
       "\n",
       "       cb_person_cred_hist_length person_emp_bin  \n",
       "0                               3   (7.0, 123.0]  \n",
       "1                               2     (4.0, 7.0]  \n",
       "2                               3  (-0.001, 2.0]  \n",
       "32579                          26     (4.0, 7.0]  \n",
       "32580                          30  (-0.001, 2.0]  "
      ]
     },
     "execution_count": 413,
     "metadata": {},
     "output_type": "execute_result"
    }
   ],
   "source": [
    "loan['person_emp_bin'] = bins\n",
    "loan.head(3).append(loan.tail(2))"
   ]
  },
  {
   "cell_type": "markdown",
   "metadata": {},
   "source": [
    "用 `value_counts()` 函数显示 3 个箱包含的数据数，大概是差不多的。接下来按元素，按列和按行产出显示百分比。"
   ]
  },
  {
   "cell_type": "code",
   "execution_count": 416,
   "metadata": {},
   "outputs": [
    {
     "data": {
      "text/html": [
       "<style  type=\"text/css\" >\n",
       "</style><table id=\"T_90bca576_ad9d_11ea_9aad_f48c504b53b5\" ><thead>    <tr>        <th class=\"index_name level0\" >loan_status</th>        <th class=\"col_heading level0 col0\" >0</th>        <th class=\"col_heading level0 col1\" >1</th>    </tr>    <tr>        <th class=\"index_name level0\" >person_emp_bin</th>        <th class=\"blank\" ></th>        <th class=\"blank\" ></th>    </tr></thead><tbody>\n",
       "                <tr>\n",
       "                        <th id=\"T_90bca576_ad9d_11ea_9aad_f48c504b53b5level0_row0\" class=\"row_heading level0 row0\" >(-0.001, 2.0]</th>\n",
       "                        <td id=\"T_90bca576_ad9d_11ea_9aad_f48c504b53b5row0_col0\" class=\"data row0 col0\" >25.02%</td>\n",
       "                        <td id=\"T_90bca576_ad9d_11ea_9aad_f48c504b53b5row0_col1\" class=\"data row0 col1\" >9.28%</td>\n",
       "            </tr>\n",
       "            <tr>\n",
       "                        <th id=\"T_90bca576_ad9d_11ea_9aad_f48c504b53b5level0_row1\" class=\"row_heading level0 row1\" >(2.0, 4.0]</th>\n",
       "                        <td id=\"T_90bca576_ad9d_11ea_9aad_f48c504b53b5row1_col0\" class=\"data row1 col0\" >15.86%</td>\n",
       "                        <td id=\"T_90bca576_ad9d_11ea_9aad_f48c504b53b5row1_col1\" class=\"data row1 col1\" >4.12%</td>\n",
       "            </tr>\n",
       "            <tr>\n",
       "                        <th id=\"T_90bca576_ad9d_11ea_9aad_f48c504b53b5level0_row2\" class=\"row_heading level0 row2\" >(4.0, 7.0]</th>\n",
       "                        <td id=\"T_90bca576_ad9d_11ea_9aad_f48c504b53b5row2_col0\" class=\"data row2 col0\" >20.03%</td>\n",
       "                        <td id=\"T_90bca576_ad9d_11ea_9aad_f48c504b53b5row2_col1\" class=\"data row2 col1\" >4.61%</td>\n",
       "            </tr>\n",
       "            <tr>\n",
       "                        <th id=\"T_90bca576_ad9d_11ea_9aad_f48c504b53b5level0_row3\" class=\"row_heading level0 row3\" >(7.0, 123.0]</th>\n",
       "                        <td id=\"T_90bca576_ad9d_11ea_9aad_f48c504b53b5row3_col0\" class=\"data row3 col0\" >17.54%</td>\n",
       "                        <td id=\"T_90bca576_ad9d_11ea_9aad_f48c504b53b5row3_col1\" class=\"data row3 col1\" >3.53%</td>\n",
       "            </tr>\n",
       "    </tbody></table>"
      ],
      "text/plain": [
       "<pandas.io.formats.style.Styler at 0x26aceff84e0>"
      ]
     },
     "execution_count": 416,
     "metadata": {},
     "output_type": "execute_result"
    }
   ],
   "source": [
    "pd.crosstab( index=loan['person_emp_bin'], \n",
    "             columns=loan['loan_status'],\n",
    "             normalize=True ).style.format(\"{:.2%}\")"
   ]
  },
  {
   "cell_type": "code",
   "execution_count": 417,
   "metadata": {},
   "outputs": [
    {
     "data": {
      "text/html": [
       "<style  type=\"text/css\" >\n",
       "</style><table id=\"T_91625c1c_ad9d_11ea_b9aa_f48c504b53b5\" ><thead>    <tr>        <th class=\"index_name level0\" >loan_status</th>        <th class=\"col_heading level0 col0\" >0</th>        <th class=\"col_heading level0 col1\" >1</th>    </tr>    <tr>        <th class=\"index_name level0\" >person_emp_bin</th>        <th class=\"blank\" ></th>        <th class=\"blank\" ></th>    </tr></thead><tbody>\n",
       "                <tr>\n",
       "                        <th id=\"T_91625c1c_ad9d_11ea_b9aa_f48c504b53b5level0_row0\" class=\"row_heading level0 row0\" >(-0.001, 2.0]</th>\n",
       "                        <td id=\"T_91625c1c_ad9d_11ea_b9aa_f48c504b53b5row0_col0\" class=\"data row0 col0\" >31.89%</td>\n",
       "                        <td id=\"T_91625c1c_ad9d_11ea_b9aa_f48c504b53b5row0_col1\" class=\"data row0 col1\" >43.07%</td>\n",
       "            </tr>\n",
       "            <tr>\n",
       "                        <th id=\"T_91625c1c_ad9d_11ea_b9aa_f48c504b53b5level0_row1\" class=\"row_heading level0 row1\" >(2.0, 4.0]</th>\n",
       "                        <td id=\"T_91625c1c_ad9d_11ea_b9aa_f48c504b53b5row1_col0\" class=\"data row1 col0\" >20.21%</td>\n",
       "                        <td id=\"T_91625c1c_ad9d_11ea_b9aa_f48c504b53b5row1_col1\" class=\"data row1 col1\" >19.13%</td>\n",
       "            </tr>\n",
       "            <tr>\n",
       "                        <th id=\"T_91625c1c_ad9d_11ea_b9aa_f48c504b53b5level0_row2\" class=\"row_heading level0 row2\" >(4.0, 7.0]</th>\n",
       "                        <td id=\"T_91625c1c_ad9d_11ea_b9aa_f48c504b53b5row2_col0\" class=\"data row2 col0\" >25.53%</td>\n",
       "                        <td id=\"T_91625c1c_ad9d_11ea_b9aa_f48c504b53b5row2_col1\" class=\"data row2 col1\" >21.39%</td>\n",
       "            </tr>\n",
       "            <tr>\n",
       "                        <th id=\"T_91625c1c_ad9d_11ea_b9aa_f48c504b53b5level0_row3\" class=\"row_heading level0 row3\" >(7.0, 123.0]</th>\n",
       "                        <td id=\"T_91625c1c_ad9d_11ea_b9aa_f48c504b53b5row3_col0\" class=\"data row3 col0\" >22.36%</td>\n",
       "                        <td id=\"T_91625c1c_ad9d_11ea_b9aa_f48c504b53b5row3_col1\" class=\"data row3 col1\" >16.41%</td>\n",
       "            </tr>\n",
       "    </tbody></table>"
      ],
      "text/plain": [
       "<pandas.io.formats.style.Styler at 0x26acef3bb70>"
      ]
     },
     "execution_count": 417,
     "metadata": {},
     "output_type": "execute_result"
    }
   ],
   "source": [
    "pd.crosstab( index=loan['person_emp_bin'], \n",
    "             columns=loan['loan_status'],\n",
    "             normalize='columns' ).style.format(\"{:.2%}\")"
   ]
  },
  {
   "cell_type": "code",
   "execution_count": 418,
   "metadata": {},
   "outputs": [
    {
     "data": {
      "text/html": [
       "<style  type=\"text/css\" >\n",
       "</style><table id=\"T_922c4dda_ad9d_11ea_8e1e_f48c504b53b5\" ><thead>    <tr>        <th class=\"index_name level0\" >loan_status</th>        <th class=\"col_heading level0 col0\" >0</th>        <th class=\"col_heading level0 col1\" >1</th>    </tr>    <tr>        <th class=\"index_name level0\" >person_emp_bin</th>        <th class=\"blank\" ></th>        <th class=\"blank\" ></th>    </tr></thead><tbody>\n",
       "                <tr>\n",
       "                        <th id=\"T_922c4dda_ad9d_11ea_8e1e_f48c504b53b5level0_row0\" class=\"row_heading level0 row0\" >(-0.001, 2.0]</th>\n",
       "                        <td id=\"T_922c4dda_ad9d_11ea_8e1e_f48c504b53b5row0_col0\" class=\"data row0 col0\" >72.95%</td>\n",
       "                        <td id=\"T_922c4dda_ad9d_11ea_8e1e_f48c504b53b5row0_col1\" class=\"data row0 col1\" >27.05%</td>\n",
       "            </tr>\n",
       "            <tr>\n",
       "                        <th id=\"T_922c4dda_ad9d_11ea_8e1e_f48c504b53b5level0_row1\" class=\"row_heading level0 row1\" >(2.0, 4.0]</th>\n",
       "                        <td id=\"T_922c4dda_ad9d_11ea_8e1e_f48c504b53b5row1_col0\" class=\"data row1 col0\" >79.37%</td>\n",
       "                        <td id=\"T_922c4dda_ad9d_11ea_8e1e_f48c504b53b5row1_col1\" class=\"data row1 col1\" >20.63%</td>\n",
       "            </tr>\n",
       "            <tr>\n",
       "                        <th id=\"T_922c4dda_ad9d_11ea_8e1e_f48c504b53b5level0_row2\" class=\"row_heading level0 row2\" >(4.0, 7.0]</th>\n",
       "                        <td id=\"T_922c4dda_ad9d_11ea_8e1e_f48c504b53b5row2_col0\" class=\"data row2 col0\" >81.30%</td>\n",
       "                        <td id=\"T_922c4dda_ad9d_11ea_8e1e_f48c504b53b5row2_col1\" class=\"data row2 col1\" >18.70%</td>\n",
       "            </tr>\n",
       "            <tr>\n",
       "                        <th id=\"T_922c4dda_ad9d_11ea_8e1e_f48c504b53b5level0_row3\" class=\"row_heading level0 row3\" >(7.0, 123.0]</th>\n",
       "                        <td id=\"T_922c4dda_ad9d_11ea_8e1e_f48c504b53b5row3_col0\" class=\"data row3 col0\" >83.23%</td>\n",
       "                        <td id=\"T_922c4dda_ad9d_11ea_8e1e_f48c504b53b5row3_col1\" class=\"data row3 col1\" >16.77%</td>\n",
       "            </tr>\n",
       "    </tbody></table>"
      ],
      "text/plain": [
       "<pandas.io.formats.style.Styler at 0x26acef3bd30>"
      ]
     },
     "execution_count": 418,
     "metadata": {},
     "output_type": "execute_result"
    }
   ],
   "source": [
    "pd.crosstab( index=loan['person_emp_bin'], \n",
    "             columns=loan['loan_status'],\n",
    "             normalize='index' ).style.format(\"{:.2%}\")"
   ]
  },
  {
   "cell_type": "markdown",
   "metadata": {},
   "source": [
    "深挖一下，`loan` 里面包含 32581 条数据，但是 `loan['person_emp_length'].describe()` 的 `count` 行中看到 31686 条数据，相差的 895 条数据应该都是 NaN 值。用 `isnull()` 加 `sum()` 检验一下。"
   ]
  },
  {
   "cell_type": "code",
   "execution_count": 420,
   "metadata": {},
   "outputs": [
    {
     "data": {
      "text/plain": [
       "895"
      ]
     },
     "execution_count": 420,
     "metadata": {},
     "output_type": "execute_result"
    }
   ],
   "source": [
    "loan['person_emp_bin'].isnull().sum()"
   ]
  },
  {
   "cell_type": "markdown",
   "metadata": {},
   "source": [
    "现在问题来了，这 895 个 NaN 该怎么办呢？全部删掉？用 0 替代？还是把 NaN 也当成一个类别？"
   ]
  },
  {
   "cell_type": "markdown",
   "metadata": {},
   "source": [
    "***\n",
    "## <div style=\"text-align: center\"><font color='green'>Cheatsheet</font> <a name=\"cs\"></a></div>\n",
    "***\n",
    "<img src=\"Pandas Basic.png\" style=\"width:1000;height:1000;\">\n",
    "<img src=\"Pandas Advanced.jpg\" style=\"width:1000;height:1000;\">"
   ]
  }
 ],
 "metadata": {
  "code_is_hide": false,
  "kernelspec": {
   "display_name": "Python 3",
   "language": "python",
   "name": "python3"
  },
  "language_info": {
   "codemirror_mode": {
    "name": "ipython",
    "version": 3
   },
   "file_extension": ".py",
   "mimetype": "text/x-python",
   "name": "python",
   "nbconvert_exporter": "python",
   "pygments_lexer": "ipython3",
   "version": "3.7.6"
  }
 },
 "nbformat": 4,
 "nbformat_minor": 1
}
