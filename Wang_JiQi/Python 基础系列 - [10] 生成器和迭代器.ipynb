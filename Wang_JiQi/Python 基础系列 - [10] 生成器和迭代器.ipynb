{
 "cells": [
  {
   "cell_type": "markdown",
   "metadata": {},
   "source": [
    "# <div style=\"text-align: center\"><font color='#dc2624' face='微软雅黑'>Python 基础系列</font></div>\n",
    "## <div style=\"text-align: center\"><font color='#dc2624' face='微软雅黑'>生成器和迭代器</font></div>\n",
    "\n",
    "## <font color='#dc2624' face='微软雅黑'>目录</font><a name='toc'></a>\n",
    "### 1. [**<font color='#dc2624' face='微软雅黑'>生成器</font>**](#1)\n",
    "1. [<font color='#2b4750' face='微软雅黑'>生成函数</font>](#1.1)\n",
    "2. [<font color='#2b4750' face='微软雅黑'>生成表达式</font>](#1.2)\n",
    "3. [<font color='#2b4750' face='微软雅黑'>生成器特点</font>](#1.3)\n",
    "\n",
    "### 2. [**<font color='#dc2624' face='微软雅黑'>迭代器</font>**](#2)\n",
    "1. [<font color='#2b4750' face='微软雅黑'>可迭代对象</font>](#2.1)\n",
    "2. [<font color='#2b4750' face='微软雅黑'>初探迭代器</font>](#2.2)\n",
    "3. [<font color='#2b4750' face='微软雅黑'>自建迭代器</font>](#2.3)\n",
    "4. [<font color='#2b4750' face='微软雅黑'>内置迭代器</font>](#2.4)\n",
    "\n",
    "### 3. [**<font color='#dc2624' face='微软雅黑'>专用迭代器</font>**](#3)\n",
    "1. [<font color='#2b4750' face='微软雅黑'>无穷迭代器</font>](#3.1)\n",
    "2. [<font color='#2b4750' face='微软雅黑'>有限迭代器</font>](#3.2)\n",
    "3. [<font color='#2b4750' face='微软雅黑'>排列组合迭代器</font>](#3.3)\n",
    "---"
   ]
  },
  {
   "cell_type": "markdown",
   "metadata": {},
   "source": [
    "# <font color='#dc2624' face='微软雅黑'>1. 生成器</font><a name='1'></a>\n",
    "[<font color='black' face='微软雅黑'>回到目录</font>](#toc)\n",
    "### <font color='#2b4750' face='微软雅黑'>1.1 生成函数</font><a name='1.1'></a>\n",
    "[<font color='black' face='微软雅黑'>回到章首</font>](#1)\n",
    "\n",
    "定义一个简单函数 `square`，计算列表里每个数的平方值。"
   ]
  },
  {
   "cell_type": "code",
   "execution_count": 149,
   "metadata": {},
   "outputs": [],
   "source": [
    "def square(lst):\n",
    "    results = []\n",
    "    for n in lst:\n",
    "        results.append(n*n)\n",
    "    return results"
   ]
  },
  {
   "cell_type": "code",
   "execution_count": 148,
   "metadata": {},
   "outputs": [
    {
     "data": {
      "text/plain": [
       "[1, 4, 9, 16, 25]"
      ]
     },
     "execution_count": 148,
     "metadata": {},
     "output_type": "execute_result"
    }
   ],
   "source": [
    "l = square([1, 2, 3, 4, 5])\n",
    "l"
   ]
  },
  {
   "cell_type": "markdown",
   "metadata": {},
   "source": [
    "在 `square` 函数里面做点两个小修改：\n",
    "\n",
    "1. 不要最后的 `return` 语句，也不需要定义列表 `results` \n",
    "2. 使用 `yield` 返回结果"
   ]
  },
  {
   "cell_type": "code",
   "execution_count": 150,
   "metadata": {},
   "outputs": [],
   "source": [
    "def square(lst):\n",
    "     for n in lst:\n",
    "        yield n*n"
   ]
  },
  {
   "cell_type": "markdown",
   "metadata": {},
   "source": [
    "这时 `square` 不再是函数了，由打印的结果可知是一个生成器了。"
   ]
  },
  {
   "cell_type": "code",
   "execution_count": 154,
   "metadata": {},
   "outputs": [
    {
     "data": {
      "text/plain": [
       "<generator object square at 0x0000013D286089A8>"
      ]
     },
     "execution_count": 154,
     "metadata": {},
     "output_type": "execute_result"
    }
   ],
   "source": [
    "g = square([1, 2, 3, 4, 5])\n",
    "g"
   ]
  },
  {
   "cell_type": "markdown",
   "metadata": {},
   "source": [
    "有两种方法可以查看生成器里的元素：\n",
    "\n",
    "1. 用 `list()` 函数**一次性**看\n",
    "2. 用 `next()` 函数**一个个**看"
   ]
  },
  {
   "cell_type": "code",
   "execution_count": 155,
   "metadata": {},
   "outputs": [
    {
     "data": {
      "text/plain": [
       "[1, 4, 9, 16, 25]"
      ]
     },
     "execution_count": 155,
     "metadata": {},
     "output_type": "execute_result"
    }
   ],
   "source": [
    "list(g)"
   ]
  },
  {
   "cell_type": "markdown",
   "metadata": {},
   "source": [
    "生成器中真正有特点的用法是用 `next()` 把不断获得下一个返回值。"
   ]
  },
  {
   "cell_type": "code",
   "execution_count": 157,
   "metadata": {},
   "outputs": [
    {
     "name": "stdout",
     "output_type": "stream",
     "text": [
      "1\n"
     ]
    }
   ],
   "source": [
    "g = square([1, 2, 3, 4, 5])\n",
    "\n",
    "print(next(g))"
   ]
  },
  {
   "cell_type": "code",
   "execution_count": 158,
   "metadata": {},
   "outputs": [
    {
     "name": "stdout",
     "output_type": "stream",
     "text": [
      "4\n",
      "9\n",
      "16\n",
      "25\n"
     ]
    }
   ],
   "source": [
    "print(next(g))\n",
    "print(next(g))\n",
    "print(next(g))\n",
    "print(next(g))"
   ]
  },
  {
   "cell_type": "code",
   "execution_count": 159,
   "metadata": {
    "scrolled": true
   },
   "outputs": [
    {
     "ename": "StopIteration",
     "evalue": "",
     "output_type": "error",
     "traceback": [
      "\u001b[1;31m---------------------------------------------------------------------------\u001b[0m",
      "\u001b[1;31mStopIteration\u001b[0m                             Traceback (most recent call last)",
      "\u001b[1;32m<ipython-input-159-b737a58f1e5a>\u001b[0m in \u001b[0;36m<module>\u001b[1;34m\u001b[0m\n\u001b[1;32m----> 1\u001b[1;33m \u001b[0mprint\u001b[0m\u001b[1;33m(\u001b[0m\u001b[0mnext\u001b[0m\u001b[1;33m(\u001b[0m\u001b[0ml\u001b[0m\u001b[1;33m)\u001b[0m\u001b[1;33m)\u001b[0m\u001b[1;33m\u001b[0m\u001b[1;33m\u001b[0m\u001b[0m\n\u001b[0m",
      "\u001b[1;31mStopIteration\u001b[0m: "
     ]
    }
   ],
   "source": [
    "print(next(g))"
   ]
  },
  {
   "cell_type": "markdown",
   "metadata": {},
   "source": [
    "### 总结：生成器可以用生成函数 (generator function) 来定义，记住要用 `yield` 而不是 `return`。"
   ]
  },
  {
   "cell_type": "markdown",
   "metadata": {},
   "source": [
    "### <font color='#2b4750' face='微软雅黑'>1.2 生成表达式</font><a name='1.2'></a>\n",
    "[<font color='black' face='微软雅黑'>回到章首</font>](#1)\n",
    "\n",
    "将列表解析式的 `[]` 换成 `()` 就能得到生成器。"
   ]
  },
  {
   "cell_type": "code",
   "execution_count": 160,
   "metadata": {},
   "outputs": [
    {
     "data": {
      "text/plain": [
       "[1, 4, 9, 16, 25]"
      ]
     },
     "execution_count": 160,
     "metadata": {},
     "output_type": "execute_result"
    }
   ],
   "source": [
    "l = [ x*x for x in [1,2,3,4,5] ]\n",
    "l"
   ]
  },
  {
   "cell_type": "code",
   "execution_count": 161,
   "metadata": {},
   "outputs": [
    {
     "data": {
      "text/plain": [
       "<generator object <genexpr> at 0x0000013D28608B10>"
      ]
     },
     "execution_count": 161,
     "metadata": {},
     "output_type": "execute_result"
    }
   ],
   "source": [
    "g = ( x*x for x in [1,2,3,4,5] )\n",
    "g"
   ]
  },
  {
   "cell_type": "code",
   "execution_count": 162,
   "metadata": {},
   "outputs": [
    {
     "data": {
      "text/plain": [
       "[1, 4, 9, 16, 25]"
      ]
     },
     "execution_count": 162,
     "metadata": {},
     "output_type": "execute_result"
    }
   ],
   "source": [
    "list(g)"
   ]
  },
  {
   "cell_type": "markdown",
   "metadata": {},
   "source": [
    "### 总结：生成器可以用生成表达式 (generator expression) 来定义，记住和列表解析式很像，将 `[]` 改成 `()` 即可。"
   ]
  },
  {
   "cell_type": "markdown",
   "metadata": {},
   "source": [
    "### <font color='#2b4750' face='微软雅黑'>1.3 生成器特点</font><a name='1.3'></a>\n",
    "[<font color='black' face='微软雅黑'>回到章首</font>](#1)"
   ]
  },
  {
   "cell_type": "markdown",
   "metadata": {},
   "source": [
    "### 生成器很神秘\n",
    "\n",
    "你不知道它里面用多少个元素，因此它没有长度，也不能被索引。"
   ]
  },
  {
   "cell_type": "code",
   "execution_count": 188,
   "metadata": {},
   "outputs": [],
   "source": [
    "g = ( x*x for x in [1,2,3,4,5] )"
   ]
  },
  {
   "cell_type": "code",
   "execution_count": 189,
   "metadata": {},
   "outputs": [
    {
     "ename": "TypeError",
     "evalue": "object of type 'generator' has no len()",
     "output_type": "error",
     "traceback": [
      "\u001b[1;31m---------------------------------------------------------------------------\u001b[0m",
      "\u001b[1;31mTypeError\u001b[0m                                 Traceback (most recent call last)",
      "\u001b[1;32m<ipython-input-189-a85827eadc46>\u001b[0m in \u001b[0;36m<module>\u001b[1;34m\u001b[0m\n\u001b[1;32m----> 1\u001b[1;33m \u001b[0mlen\u001b[0m\u001b[1;33m(\u001b[0m\u001b[0mg\u001b[0m\u001b[1;33m)\u001b[0m\u001b[1;33m\u001b[0m\u001b[1;33m\u001b[0m\u001b[0m\n\u001b[0m",
      "\u001b[1;31mTypeError\u001b[0m: object of type 'generator' has no len()"
     ]
    }
   ],
   "source": [
    "len(g)"
   ]
  },
  {
   "cell_type": "code",
   "execution_count": 190,
   "metadata": {},
   "outputs": [
    {
     "ename": "TypeError",
     "evalue": "'generator' object is not subscriptable",
     "output_type": "error",
     "traceback": [
      "\u001b[1;31m---------------------------------------------------------------------------\u001b[0m",
      "\u001b[1;31mTypeError\u001b[0m                                 Traceback (most recent call last)",
      "\u001b[1;32m<ipython-input-190-73ec0726ff88>\u001b[0m in \u001b[0;36m<module>\u001b[1;34m\u001b[0m\n\u001b[1;32m----> 1\u001b[1;33m \u001b[0mg\u001b[0m\u001b[1;33m[\u001b[0m\u001b[1;36m0\u001b[0m\u001b[1;33m]\u001b[0m\u001b[1;33m\u001b[0m\u001b[1;33m\u001b[0m\u001b[0m\n\u001b[0m",
      "\u001b[1;31mTypeError\u001b[0m: 'generator' object is not subscriptable"
     ]
    }
   ],
   "source": [
    "g[0]"
   ]
  },
  {
   "cell_type": "markdown",
   "metadata": {},
   "source": [
    "### 生成器很懒惰\n",
    "\n",
    "只有在需要是 (用 `next()`) 时才会“吐出”一个值。"
   ]
  },
  {
   "cell_type": "code",
   "execution_count": 191,
   "metadata": {},
   "outputs": [
    {
     "name": "stdout",
     "output_type": "stream",
     "text": [
      "1\n",
      "4\n"
     ]
    }
   ],
   "source": [
    "print(next(g))\n",
    "print(next(g))"
   ]
  },
  {
   "cell_type": "markdown",
   "metadata": {},
   "source": [
    "### 生成器很神奇\n",
    "\n",
    "它“**有记忆**”，但只能被**循环一次**。"
   ]
  },
  {
   "cell_type": "code",
   "execution_count": 192,
   "metadata": {},
   "outputs": [
    {
     "data": {
      "text/plain": [
       "[9, 16, 25]"
      ]
     },
     "execution_count": 192,
     "metadata": {},
     "output_type": "execute_result"
    }
   ],
   "source": [
    "list(g)"
   ]
  },
  {
   "cell_type": "code",
   "execution_count": 193,
   "metadata": {},
   "outputs": [
    {
     "data": {
      "text/plain": [
       "[]"
      ]
     },
     "execution_count": 193,
     "metadata": {},
     "output_type": "execute_result"
    }
   ],
   "source": [
    "list(g)"
   ]
  },
  {
   "cell_type": "markdown",
   "metadata": {},
   "source": [
    "这样我们可以任意切断循环再重新开始。"
   ]
  },
  {
   "cell_type": "code",
   "execution_count": 197,
   "metadata": {},
   "outputs": [
    {
     "name": "stdout",
     "output_type": "stream",
     "text": [
      "1 4 9 16 \n",
      "干点别的事情\n",
      "25 "
     ]
    }
   ],
   "source": [
    "g = ( x*x for x in [1,2,3,4,5] )\n",
    "\n",
    "for i in g:\n",
    "    print(i, end=' ')\n",
    "    if i > 10: break\n",
    "\n",
    "print(\"\\n干点别的事情\")\n",
    "\n",
    "for i in g:\n",
    "    print(i, end=' ')"
   ]
  },
  {
   "cell_type": "markdown",
   "metadata": {},
   "source": [
    "### 生成器很高效\n",
    "\n",
    "**生成器**比**列表**用时更少而且更省存储空间。"
   ]
  },
  {
   "cell_type": "code",
   "execution_count": 169,
   "metadata": {},
   "outputs": [],
   "source": [
    "import time\n",
    "import sys"
   ]
  },
  {
   "cell_type": "code",
   "execution_count": 173,
   "metadata": {},
   "outputs": [
    {
     "name": "stdout",
     "output_type": "stream",
     "text": [
      "Wall time: 1.43 s\n",
      "81528056\n",
      "Wall time: 0 ns\n",
      "120\n"
     ]
    }
   ],
   "source": [
    "%time l = [x+1 for x in range(10000000)]\n",
    "print(sys.getsizeof(l))\n",
    "\n",
    "%time g = (x+1 for x in range(10000000))\n",
    "print(sys.getsizeof(g))"
   ]
  },
  {
   "cell_type": "markdown",
   "metadata": {},
   "source": [
    "### 总结：当你只需要进行一次循环操作，用生成器不要用列表。列表像容器，一口气装着元素；而生成器像处方，一个个生成元素。"
   ]
  },
  {
   "cell_type": "markdown",
   "metadata": {},
   "source": [
    "# <font color='#dc2624' face='微软雅黑'>2. 迭代器</font><a name='2'></a>\n",
    "[<font color='black' face='微软雅黑'>回到目录</font>](#toc)\n",
    "### <font color='#2b4750' face='微软雅黑'>2.1 可迭代对象</font><a name='2.1'></a>\n",
    "[<font color='black' face='微软雅黑'>回到章首</font>](#2)\n",
    "\n",
    "任何只要可以循环的东西就可称之可迭代对象 (iterable)。容器类型数据 (`str`, `tuple`, `list`, `dict`, `set`) 都可以被 `for` 循环，因此它们都是**可迭代对象**。\n",
    "\n",
    "**方法一**：要判断对象 x 是否是可迭代对象，我们可以用 `isinstance(x, Iterable)`。"
   ]
  },
  {
   "cell_type": "code",
   "execution_count": 25,
   "metadata": {},
   "outputs": [],
   "source": [
    "#from collections import Iterable \n",
    "from collections import abc"
   ]
  },
  {
   "cell_type": "code",
   "execution_count": 26,
   "metadata": {},
   "outputs": [
    {
     "name": "stdout",
     "output_type": "stream",
     "text": [
      "True\n",
      "True\n",
      "True\n",
      "True\n",
      "True\n",
      "False\n",
      "False\n",
      "False\n",
      "False\n"
     ]
    }
   ],
   "source": [
    "print(isinstance([1,2,3], abc.Iterable))    # list\n",
    "print(isinstance({'1':23}, abc.Iterable))   # dict\n",
    "print(isinstance((1,2,3), abc.Iterable))    # tuple\n",
    "print(isinstance({1,2,3}, abc.Iterable))    # set\n",
    "print(isinstance('123', abc.Iterable))      # str\n",
    "print(isinstance(123, abc.Iterable))        # int\n",
    "print(isinstance(123.0, abc.Iterable))      # float\n",
    "print(isinstance(False, abc.Iterable))      # bool\n",
    "print(isinstance(None, abc.Iterable))       # NoneType"
   ]
  },
  {
   "cell_type": "markdown",
   "metadata": {},
   "source": [
    "结果正常，`str`, `tuple`, `list`, `dict`, `set` 都是可迭代对象，而 `int`, `float`, `bool`, `NoneType` 不是。\n",
    "\n",
    "\n",
    "**方法二**：可迭代对象有 `__iter__` 魔法方法。"
   ]
  },
  {
   "cell_type": "code",
   "execution_count": 18,
   "metadata": {},
   "outputs": [
    {
     "name": "stdout",
     "output_type": "stream",
     "text": [
      "['__add__', '__class__', '__contains__', '__delattr__', '__delitem__', '__dir__', '__doc__', '__eq__', '__format__', '__ge__', '__getattribute__', '__getitem__', '__gt__', '__hash__', '__iadd__', '__imul__', '__init__', '__init_subclass__', '__iter__', '__le__', '__len__', '__lt__', '__mul__', '__ne__', '__new__', '__reduce__', '__reduce_ex__', '__repr__', '__reversed__', '__rmul__', '__setattr__', '__setitem__', '__sizeof__', '__str__', '__subclasshook__', 'append', 'clear', 'copy', 'count', 'extend', 'index', 'insert', 'pop', 'remove', 'reverse', 'sort']\n"
     ]
    }
   ],
   "source": [
    "print( dir([1,2,3]) )"
   ]
  },
  {
   "cell_type": "markdown",
   "metadata": {},
   "source": [
    "列表 `[1, 2, 3]` 里有 `__iter__` 魔法方法，它是可迭代对象。"
   ]
  },
  {
   "cell_type": "code",
   "execution_count": 19,
   "metadata": {
    "scrolled": true
   },
   "outputs": [
    {
     "name": "stdout",
     "output_type": "stream",
     "text": [
      "['__abs__', '__add__', '__and__', '__bool__', '__ceil__', '__class__', '__delattr__', '__dir__', '__divmod__', '__doc__', '__eq__', '__float__', '__floor__', '__floordiv__', '__format__', '__ge__', '__getattribute__', '__getnewargs__', '__gt__', '__hash__', '__index__', '__init__', '__init_subclass__', '__int__', '__invert__', '__le__', '__lshift__', '__lt__', '__mod__', '__mul__', '__ne__', '__neg__', '__new__', '__or__', '__pos__', '__pow__', '__radd__', '__rand__', '__rdivmod__', '__reduce__', '__reduce_ex__', '__repr__', '__rfloordiv__', '__rlshift__', '__rmod__', '__rmul__', '__ror__', '__round__', '__rpow__', '__rrshift__', '__rshift__', '__rsub__', '__rtruediv__', '__rxor__', '__setattr__', '__sizeof__', '__str__', '__sub__', '__subclasshook__', '__truediv__', '__trunc__', '__xor__', 'bit_length', 'conjugate', 'denominator', 'from_bytes', 'imag', 'numerator', 'real', 'to_bytes']\n"
     ]
    }
   ],
   "source": [
    "print( dir(123) )"
   ]
  },
  {
   "cell_type": "markdown",
   "metadata": {},
   "source": [
    "整数 `123` 里没有 `__iter__` 魔法方法，它不是可迭代对象。"
   ]
  },
  {
   "cell_type": "code",
   "execution_count": 22,
   "metadata": {},
   "outputs": [
    {
     "name": "stdout",
     "output_type": "stream",
     "text": [
      "1\n",
      "2\n",
      "3\n"
     ]
    }
   ],
   "source": [
    "nums = [1, 2, 3]\n",
    "\n",
    "for num in nums:\n",
    "    print(num)"
   ]
  },
  {
   "cell_type": "markdown",
   "metadata": {},
   "source": [
    "### <font color='#2b4750' face='微软雅黑'>2.2 初探迭代器</font><a name='2.2'></a>\n",
    "[<font color='black' face='微软雅黑'>回到章首</font>](#2)\n",
    "\n",
    "虽然列表、字典、元组、集合和字符串都可以被 for 循环，但实际上 for 循环里真正被循环的对象是迭代器 (iterator)。\n",
    "\n",
    "首先用 `isinstance(x, Iterator)` 来判断 `str`, `tuple`, `list`, `dict`, `set` 是不是迭代器。"
   ]
  },
  {
   "cell_type": "code",
   "execution_count": 2,
   "metadata": {},
   "outputs": [],
   "source": [
    "from collections import abc"
   ]
  },
  {
   "cell_type": "code",
   "execution_count": 3,
   "metadata": {},
   "outputs": [
    {
     "name": "stdout",
     "output_type": "stream",
     "text": [
      "False\n",
      "False\n",
      "False\n",
      "False\n",
      "False\n"
     ]
    }
   ],
   "source": [
    "print(isinstance([1,2,3], abc.Iterator))    # list\n",
    "print(isinstance({'1':23}, abc.Iterator))   # dict\n",
    "print(isinstance((1,2,3), abc.Iterator))    # tuple\n",
    "print(isinstance({1,2,3}, abc.Iterator))    # set\n",
    "print(isinstance('123', abc.Iterator))      # str"
   ]
  },
  {
   "cell_type": "markdown",
   "metadata": {},
   "source": [
    "将**可迭代对象**变成**迭代器**的 `__iter__()` 方法，用两种写法：\n",
    "\n",
    "1. `iterable.__iter()__`\n",
    "2. `iter(iterable)`\n",
    "\n",
    " 列表、字典、元组、集合和字符串在被`__iter__()` 方法“包装”之后都是迭代器了。"
   ]
  },
  {
   "cell_type": "code",
   "execution_count": 4,
   "metadata": {},
   "outputs": [
    {
     "name": "stdout",
     "output_type": "stream",
     "text": [
      "True\n",
      "True\n",
      "True\n",
      "True\n",
      "True\n"
     ]
    }
   ],
   "source": [
    "print(isinstance(iter([1,2,3]), abc.Iterator))    # list\n",
    "print(isinstance(iter({'1':23}), abc.Iterator))   # dict\n",
    "print(isinstance(iter((1,2,3)), abc.Iterator))    # tuple\n",
    "print(isinstance(iter({1,2,3}), abc.Iterator))    # set\n",
    "print(isinstance(iter('123'), abc.Iterator))      # str"
   ]
  },
  {
   "cell_type": "markdown",
   "metadata": {},
   "source": [
    "迭代器里面有 `__iter__` 和 `__next__` 两个魔法方法, 而可迭代对象只有`__iter__` 没有 `__next__` 魔法方法，因此迭代器是可迭代对象，但可迭代对象不是迭代器。"
   ]
  },
  {
   "cell_type": "code",
   "execution_count": 8,
   "metadata": {},
   "outputs": [
    {
     "name": "stdout",
     "output_type": "stream",
     "text": [
      "可迭代对象 l 里的方法：\n",
      "\n",
      "['__add__', '__class__', '__contains__', '__delattr__', '__delitem__', '__dir__', '__doc__', '__eq__', '__format__', '__ge__', '__getattribute__', '__getitem__', '__gt__', '__hash__', '__iadd__', '__imul__', '__init__', '__init_subclass__', '__iter__', '__le__', '__len__', '__lt__', '__mul__', '__ne__', '__new__', '__reduce__', '__reduce_ex__', '__repr__', '__reversed__', '__rmul__', '__setattr__', '__setitem__', '__sizeof__', '__str__', '__subclasshook__', 'append', 'clear', 'copy', 'count', 'extend', 'index', 'insert', 'pop', 'remove', 'reverse', 'sort']\n",
      "\n",
      "迭代器 iter(l) 里的方法：\n",
      "\n",
      "['__class__', '__delattr__', '__dir__', '__doc__', '__eq__', '__format__', '__ge__', '__getattribute__', '__gt__', '__hash__', '__init__', '__init_subclass__', '__iter__', '__le__', '__length_hint__', '__lt__', '__ne__', '__new__', '__next__', '__reduce__', '__reduce_ex__', '__repr__', '__setattr__', '__setstate__', '__sizeof__', '__str__', '__subclasshook__']\n"
     ]
    }
   ],
   "source": [
    "l = [1, 2, 3]\n",
    "\n",
    "print('可迭代对象 l 里的方法：\\n')\n",
    "print(dir(l))\n",
    "print('\\n迭代器 iter(l) 里的方法：\\n')\n",
    "print(dir(iter(l)))"
   ]
  },
  {
   "cell_type": "code",
   "execution_count": 28,
   "metadata": {},
   "outputs": [],
   "source": [
    "l = [1, 2, 3]"
   ]
  },
  {
   "cell_type": "code",
   "execution_count": 29,
   "metadata": {},
   "outputs": [
    {
     "name": "stdout",
     "output_type": "stream",
     "text": [
      "1\n",
      "2\n",
      "3\n"
     ]
    }
   ],
   "source": [
    "l_iter = iter(l)\n",
    "\n",
    "print( next(l_iter) )\n",
    "print( next(l_iter) )\n",
    "print( next(l_iter) )"
   ]
  },
  {
   "cell_type": "code",
   "execution_count": 31,
   "metadata": {},
   "outputs": [
    {
     "name": "stdout",
     "output_type": "stream",
     "text": [
      "1\n",
      "2\n",
      "3\n"
     ]
    },
    {
     "ename": "StopIteration",
     "evalue": "",
     "output_type": "error",
     "traceback": [
      "\u001b[1;31m---------------------------------------------------------------------------\u001b[0m",
      "\u001b[1;31mStopIteration\u001b[0m                             Traceback (most recent call last)",
      "\u001b[1;32m<ipython-input-31-316443a48695>\u001b[0m in \u001b[0;36m<module>\u001b[1;34m\u001b[0m\n\u001b[0;32m      4\u001b[0m \u001b[0mprint\u001b[0m\u001b[1;33m(\u001b[0m \u001b[0mnext\u001b[0m\u001b[1;33m(\u001b[0m\u001b[0ml_iter\u001b[0m\u001b[1;33m)\u001b[0m \u001b[1;33m)\u001b[0m\u001b[1;33m\u001b[0m\u001b[1;33m\u001b[0m\u001b[0m\n\u001b[0;32m      5\u001b[0m \u001b[0mprint\u001b[0m\u001b[1;33m(\u001b[0m \u001b[0mnext\u001b[0m\u001b[1;33m(\u001b[0m\u001b[0ml_iter\u001b[0m\u001b[1;33m)\u001b[0m \u001b[1;33m)\u001b[0m\u001b[1;33m\u001b[0m\u001b[1;33m\u001b[0m\u001b[0m\n\u001b[1;32m----> 6\u001b[1;33m \u001b[0mprint\u001b[0m\u001b[1;33m(\u001b[0m \u001b[0mnext\u001b[0m\u001b[1;33m(\u001b[0m\u001b[0ml_iter\u001b[0m\u001b[1;33m)\u001b[0m \u001b[1;33m)\u001b[0m\u001b[1;33m\u001b[0m\u001b[1;33m\u001b[0m\u001b[0m\n\u001b[0m",
      "\u001b[1;31mStopIteration\u001b[0m: "
     ]
    }
   ],
   "source": [
    "l_iter = iter(l)\n",
    "\n",
    "print( next(l_iter) )\n",
    "print( next(l_iter) )\n",
    "print( next(l_iter) )\n",
    "print( next(l_iter) )"
   ]
  },
  {
   "cell_type": "markdown",
   "metadata": {},
   "source": [
    "### 那么在 Python 中如何实现 `for` 循环的呢？"
   ]
  },
  {
   "cell_type": "code",
   "execution_count": 34,
   "metadata": {},
   "outputs": [
    {
     "name": "stdout",
     "output_type": "stream",
     "text": [
      "1\n",
      "2\n",
      "3\n"
     ]
    }
   ],
   "source": [
    "l = [1, 2, 3]\n",
    "l_iter = iter(l)\n",
    "\n",
    "while True:\n",
    "    try:\n",
    "        print(next(l_iter))\n",
    "    except StopIteration:\n",
    "        break"
   ]
  },
  {
   "cell_type": "markdown",
   "metadata": {},
   "source": [
    "上面代码和用 `for` 循环的产出一样。"
   ]
  },
  {
   "cell_type": "code",
   "execution_count": 35,
   "metadata": {},
   "outputs": [
    {
     "name": "stdout",
     "output_type": "stream",
     "text": [
      "1\n",
      "2\n",
      "3\n"
     ]
    }
   ],
   "source": [
    "for item in l:\n",
    "    print(item)"
   ]
  },
  {
   "cell_type": "markdown",
   "metadata": {},
   "source": [
    "### <font color='#2b4750' face='微软雅黑'>2.3 自建迭代器</font><a name='2.3'></a>\n",
    "[<font color='black' face='微软雅黑'>回到章首</font>](#2)\n",
    "\n",
    "### 用类来创建迭代器\n",
    "\n",
    "我们已经知道迭代器里面有 `__iter__()` 和` __next__()` 方法，那么只需在类里自定义这两个方法了。模仿 Python 里的 `range` 来定义迭代器 `MyRange`。 "
   ]
  },
  {
   "cell_type": "code",
   "execution_count": 200,
   "metadata": {},
   "outputs": [],
   "source": [
    "class MyRange:\n",
    "    \n",
    "    def __init__(self, start, end):\n",
    "        self.value = start\n",
    "        self.end = end\n",
    "    \n",
    "    def __iter__(self):\n",
    "        return self\n",
    "    \n",
    "    def __next__(self):\n",
    "        if self.value >= self.end:\n",
    "            raise StopIteration\n",
    "        current = self.value\n",
    "        self.value += 1\n",
    "        return current"
   ]
  },
  {
   "cell_type": "code",
   "execution_count": 201,
   "metadata": {},
   "outputs": [
    {
     "data": {
      "text/plain": [
       "True"
      ]
     },
     "execution_count": 201,
     "metadata": {},
     "output_type": "execute_result"
    }
   ],
   "source": [
    "rgn = MyRange(1, 5)\n",
    "isinstance(rgn, abc.Iterator)"
   ]
  },
  {
   "cell_type": "code",
   "execution_count": 202,
   "metadata": {},
   "outputs": [
    {
     "name": "stdout",
     "output_type": "stream",
     "text": [
      "1\n",
      "2\n",
      "3\n",
      "4\n"
     ]
    }
   ],
   "source": [
    "for i in rgn:\n",
    "    print(i)"
   ]
  },
  {
   "cell_type": "markdown",
   "metadata": {},
   "source": [
    "### 用生成器来创建迭代器"
   ]
  },
  {
   "cell_type": "code",
   "execution_count": 203,
   "metadata": {},
   "outputs": [],
   "source": [
    "def range_generator(start, end):\n",
    "    current = start\n",
    "    while current < end:\n",
    "        yield current\n",
    "        current += 1"
   ]
  },
  {
   "cell_type": "code",
   "execution_count": 204,
   "metadata": {},
   "outputs": [
    {
     "data": {
      "text/plain": [
       "True"
      ]
     },
     "execution_count": 204,
     "metadata": {},
     "output_type": "execute_result"
    }
   ],
   "source": [
    "rgn_g = range_generator(1, 5)\n",
    "isinstance(rgn_g, abc.Iterator)"
   ]
  },
  {
   "cell_type": "code",
   "execution_count": 205,
   "metadata": {},
   "outputs": [
    {
     "name": "stdout",
     "output_type": "stream",
     "text": [
      "1\n",
      "2\n",
      "3\n",
      "4\n"
     ]
    }
   ],
   "source": [
    "for i in rgn_g:\n",
    "    print(i)"
   ]
  },
  {
   "cell_type": "markdown",
   "metadata": {},
   "source": [
    "### <font color='#2b4750' face='微软雅黑'>2.4 内置迭代器</font><a name='2.4'></a>\n",
    "[<font color='black' face='微软雅黑'>回到章首</font>](#2)\n",
    "\n",
    "Python 中有一些内置 (build-in) 的迭代器，如 `enumerate`, `zip`, `map` 和 `reduce`。值得注意的是 `range` 不是迭代器，而是可迭代对象。"
   ]
  },
  {
   "cell_type": "code",
   "execution_count": 23,
   "metadata": {},
   "outputs": [
    {
     "name": "stdout",
     "output_type": "stream",
     "text": [
      "True\n",
      "True\n",
      "True\n",
      "True\n"
     ]
    }
   ],
   "source": [
    "l = [1,2,3]\n",
    "r = [4,5,6]\n",
    "\n",
    "print( isinstance(enumerate(l), abc.Iterator) )\n",
    "print( isinstance(zip(l,r), abc.Iterator) )\n",
    "print( isinstance(map(lambda x:x*x,l), abc.Iterator) )\n",
    "print( isinstance(filter(lambda x:x>1,l), abc.Iterator) )"
   ]
  },
  {
   "cell_type": "code",
   "execution_count": 22,
   "metadata": {},
   "outputs": [
    {
     "name": "stdout",
     "output_type": "stream",
     "text": [
      "False\n",
      "True\n"
     ]
    }
   ],
   "source": [
    "print( isinstance(range(10), abc.Iterator) )\n",
    "print( isinstance(range(10), abc.Iterable) )"
   ]
  },
  {
   "cell_type": "markdown",
   "metadata": {},
   "source": [
    "# <font color='#dc2624' face='微软雅黑'>3. 专用迭代器</font><a name='3'></a>\n",
    "[<font color='black' face='微软雅黑'>回到目录</font>](#toc)\n",
    "\n",
    "Python 的 `itertools` 包里有不少专用的迭代器，它是为高效循环而创建迭代器的函数。使用它们首先引入 `itertools` 包，并用 `dir(itertools)` 来查看旗下所有的迭代器。"
   ]
  },
  {
   "cell_type": "code",
   "execution_count": 9,
   "metadata": {},
   "outputs": [
    {
     "name": "stdout",
     "output_type": "stream",
     "text": [
      "['__doc__', '__loader__', '__name__', '__package__', '__spec__', '_grouper', '_tee', '_tee_dataobject', 'accumulate', 'chain', 'combinations', 'combinations_with_replacement', 'compress', 'count', 'cycle', 'dropwhile', 'filterfalse', 'groupby', 'islice', 'permutations', 'product', 'repeat', 'starmap', 'takewhile', 'tee', 'zip_longest']\n"
     ]
    }
   ],
   "source": [
    "import itertools\n",
    "print(dir(itertools))"
   ]
  },
  {
   "cell_type": "markdown",
   "metadata": {},
   "source": [
    "大概可以把迭代器分为三大类：\n",
    "\n",
    "1. **无穷迭代器**：`count`, `cycle`, `repeat`\n",
    "2. **有限迭代器**： `accumulate`, `compress`, `dropwhile`, `filterfalse`, `islice`, `startmap`, `takewhile`\n",
    "3. **排列组合迭代器**：`permudations`, `combinations`, `product`, `combinations_with_replacement`"
   ]
  },
  {
   "cell_type": "markdown",
   "metadata": {},
   "source": [
    "### <font color='#2b4750' face='微软雅黑'>3.1 无穷迭代器</font><a name='3.1'></a>\n",
    "[<font color='black' face='微软雅黑'>回到章首</font>](#3)\n",
    "\n",
    "### `count` 函数用法\n",
    "    \n",
    "    count( start=0, step=1 )"
   ]
  },
  {
   "cell_type": "code",
   "execution_count": 35,
   "metadata": {},
   "outputs": [],
   "source": [
    "counter = itertools.count()"
   ]
  },
  {
   "cell_type": "code",
   "execution_count": 36,
   "metadata": {},
   "outputs": [
    {
     "name": "stdout",
     "output_type": "stream",
     "text": [
      "0\n",
      "1\n",
      "2\n",
      "3\n"
     ]
    }
   ],
   "source": [
    "print(next(counter))\n",
    "print(next(counter))\n",
    "print(next(counter))\n",
    "print(next(counter))"
   ]
  },
  {
   "cell_type": "markdown",
   "metadata": {},
   "source": [
    "迭代器 `counter()` 可用在读取实时产生的时序数据。"
   ]
  },
  {
   "cell_type": "code",
   "execution_count": 43,
   "metadata": {},
   "outputs": [
    {
     "name": "stdout",
     "output_type": "stream",
     "text": [
      "<zip object at 0x00000179D362FC88>\n"
     ]
    }
   ],
   "source": [
    "data = [170.1, 170.8, 171.4, 170.5]\n",
    "\n",
    "minute_data = zip( itertools.count(), data)\n",
    "print(minute_data)"
   ]
  },
  {
   "cell_type": "code",
   "execution_count": 44,
   "metadata": {},
   "outputs": [
    {
     "name": "stdout",
     "output_type": "stream",
     "text": [
      "[(0, 170.1), (1, 170.8), (2, 171.4), (3, 170.5)]\n"
     ]
    }
   ],
   "source": [
    "print(list(minute_data))"
   ]
  },
  {
   "cell_type": "markdown",
   "metadata": {},
   "source": [
    "在 `counter()` 中还可以设置参数 `start` 和 `step`。"
   ]
  },
  {
   "cell_type": "code",
   "execution_count": 53,
   "metadata": {},
   "outputs": [
    {
     "name": "stdout",
     "output_type": "stream",
     "text": [
      "31\n",
      "32\n",
      "33\n",
      "34\n"
     ]
    }
   ],
   "source": [
    "counter = itertools.count(start=31)\n",
    "\n",
    "print(next(counter))\n",
    "print(next(counter))\n",
    "print(next(counter))\n",
    "print(next(counter))"
   ]
  },
  {
   "cell_type": "code",
   "execution_count": 55,
   "metadata": {},
   "outputs": [
    {
     "name": "stdout",
     "output_type": "stream",
     "text": [
      "31\n",
      "21\n",
      "11\n",
      "1\n",
      "-9\n"
     ]
    }
   ],
   "source": [
    "counter = itertools.count(start=31, step=-10)\n",
    "\n",
    "print(next(counter))\n",
    "print(next(counter))\n",
    "print(next(counter))\n",
    "print(next(counter))\n",
    "print(next(counter))"
   ]
  },
  {
   "cell_type": "markdown",
   "metadata": {},
   "source": [
    "### `cycle` 函数用法\n",
    "    \n",
    "    cycle( iterable )\n",
    "    \n",
    "迭代器 `cycle` 可以将**有穷序列**转换成**无穷序列**。"
   ]
  },
  {
   "cell_type": "code",
   "execution_count": 58,
   "metadata": {},
   "outputs": [
    {
     "name": "stdout",
     "output_type": "stream",
     "text": [
      "Do\n",
      "Re\n",
      "Mi\n",
      "Fa\n",
      "So\n",
      "La\n",
      "Ti\n",
      "Do\n"
     ]
    }
   ],
   "source": [
    "cycle = itertools.cycle(('Do','Re','Mi','Fa','So','La','Ti'))\n",
    "\n",
    "print(next(cycle))\n",
    "print(next(cycle))\n",
    "print(next(cycle))\n",
    "print(next(cycle))\n",
    "print(next(cycle))\n",
    "print(next(cycle))\n",
    "print(next(cycle))\n",
    "print(next(cycle))"
   ]
  },
  {
   "cell_type": "markdown",
   "metadata": {},
   "source": [
    "### `repeat` 函数用法\n",
    "    \n",
    "    repeat( object, times=None )\n",
    "\n",
    "创建一个迭代器，不断重复 `object` 。除非设定参数 `times` ，否则将无限重复。"
   ]
  },
  {
   "cell_type": "code",
   "execution_count": 59,
   "metadata": {},
   "outputs": [
    {
     "name": "stdout",
     "output_type": "stream",
     "text": [
      "1031\n",
      "1031\n",
      "1031\n"
     ]
    },
    {
     "ename": "StopIteration",
     "evalue": "",
     "output_type": "error",
     "traceback": [
      "\u001b[1;31m---------------------------------------------------------------------------\u001b[0m",
      "\u001b[1;31mStopIteration\u001b[0m                             Traceback (most recent call last)",
      "\u001b[1;32m<ipython-input-59-f0dafe7875cf>\u001b[0m in \u001b[0;36m<module>\u001b[1;34m\u001b[0m\n\u001b[0;32m      4\u001b[0m \u001b[0mprint\u001b[0m\u001b[1;33m(\u001b[0m\u001b[0mnext\u001b[0m\u001b[1;33m(\u001b[0m\u001b[0mrepeat\u001b[0m\u001b[1;33m)\u001b[0m\u001b[1;33m)\u001b[0m\u001b[1;33m\u001b[0m\u001b[1;33m\u001b[0m\u001b[0m\n\u001b[0;32m      5\u001b[0m \u001b[0mprint\u001b[0m\u001b[1;33m(\u001b[0m\u001b[0mnext\u001b[0m\u001b[1;33m(\u001b[0m\u001b[0mrepeat\u001b[0m\u001b[1;33m)\u001b[0m\u001b[1;33m)\u001b[0m\u001b[1;33m\u001b[0m\u001b[1;33m\u001b[0m\u001b[0m\n\u001b[1;32m----> 6\u001b[1;33m \u001b[0mprint\u001b[0m\u001b[1;33m(\u001b[0m\u001b[0mnext\u001b[0m\u001b[1;33m(\u001b[0m\u001b[0mrepeat\u001b[0m\u001b[1;33m)\u001b[0m\u001b[1;33m)\u001b[0m\u001b[1;33m\u001b[0m\u001b[1;33m\u001b[0m\u001b[0m\n\u001b[0m",
      "\u001b[1;31mStopIteration\u001b[0m: "
     ]
    }
   ],
   "source": [
    "repeat = itertools.repeat(1031, times=3)\n",
    "\n",
    "print(next(repeat))\n",
    "print(next(repeat))\n",
    "print(next(repeat))\n",
    "print(next(repeat))"
   ]
  },
  {
   "cell_type": "code",
   "execution_count": 61,
   "metadata": {},
   "outputs": [
    {
     "data": {
      "text/plain": [
       "[0, 1, 4, 9, 16]"
      ]
     },
     "execution_count": 61,
     "metadata": {},
     "output_type": "execute_result"
    }
   ],
   "source": [
    "square = map( pow, range(5), itertools.repeat(2) )\n",
    "list(square)"
   ]
  },
  {
   "cell_type": "code",
   "execution_count": 60,
   "metadata": {},
   "outputs": [
    {
     "data": {
      "text/plain": [
       "[1, 2, 4, 8, 16]"
      ]
     },
     "execution_count": 60,
     "metadata": {},
     "output_type": "execute_result"
    }
   ],
   "source": [
    "power_of_two = map( pow, itertools.repeat(2), range(5) )\n",
    "list(power_of_two)"
   ]
  },
  {
   "cell_type": "markdown",
   "metadata": {},
   "source": [
    "### <font color='#2b4750' face='微软雅黑'>3.2 有限迭代器</font><a name='3.2'></a>\n",
    "[<font color='black' face='微软雅黑'>回到章首</font>](#3)\n",
    "\n",
    "### `accumulate` 函数用法\n",
    "    \n",
    "    accumulate( iterable, func=operator.add )\n",
    "\n",
    "创建一个迭代器，返回用运算符函数 (默认是 `operator.add`) 的累积结果值。"
   ]
  },
  {
   "cell_type": "code",
   "execution_count": 122,
   "metadata": {},
   "outputs": [],
   "source": [
    "data = [3, 2, 4, 5, 1]"
   ]
  },
  {
   "cell_type": "code",
   "execution_count": 123,
   "metadata": {},
   "outputs": [
    {
     "data": {
      "text/plain": [
       "[3, 5, 9, 14, 15]"
      ]
     },
     "execution_count": 123,
     "metadata": {},
     "output_type": "execute_result"
    }
   ],
   "source": [
    "list( itertools.accumulate(data) )"
   ]
  },
  {
   "cell_type": "code",
   "execution_count": 124,
   "metadata": {},
   "outputs": [
    {
     "data": {
      "text/plain": [
       "[3, 6, 24, 120, 120]"
      ]
     },
     "execution_count": 124,
     "metadata": {},
     "output_type": "execute_result"
    }
   ],
   "source": [
    "import operator\n",
    "list( itertools.accumulate(data, func=operator.mul) )"
   ]
  },
  {
   "cell_type": "code",
   "execution_count": 125,
   "metadata": {},
   "outputs": [
    {
     "data": {
      "text/plain": [
       "[3, 3, 4, 5, 5]"
      ]
     },
     "execution_count": 125,
     "metadata": {},
     "output_type": "execute_result"
    }
   ],
   "source": [
    "list( itertools.accumulate(data, max) )"
   ]
  },
  {
   "cell_type": "markdown",
   "metadata": {},
   "source": [
    "### `compress` 函数用法\n",
    "    \n",
    "    compress( iterable, selectors )\n",
    "\n",
    "创建一个迭代器，它返回 `iterable` 中经 `selectors` 真值测试为 `True` 的元素。迭代器在两者较短的长度处停止。"
   ]
  },
  {
   "cell_type": "code",
   "execution_count": 127,
   "metadata": {},
   "outputs": [
    {
     "data": {
      "text/plain": [
       "['A', 'C', 'E', 'F']"
      ]
     },
     "execution_count": 127,
     "metadata": {},
     "output_type": "execute_result"
    }
   ],
   "source": [
    "list( itertools.compress('ABCDEF', [1,0,1,0,1,1]) ) "
   ]
  },
  {
   "cell_type": "markdown",
   "metadata": {},
   "source": [
    "### `dropwhile` 函数用法\n",
    "\n",
    "    dropwhile( predicate, iterable )\n",
    "\n",
    "创建一个迭代器，只要 `predicate` 不为 `true`，就一直丢弃元素，之后返回其他所有元素。"
   ]
  },
  {
   "cell_type": "code",
   "execution_count": 139,
   "metadata": {},
   "outputs": [
    {
     "data": {
      "text/plain": [
       "[6, 4, 1]"
      ]
     },
     "execution_count": 139,
     "metadata": {},
     "output_type": "execute_result"
    }
   ],
   "source": [
    "list( itertools.dropwhile(lambda x: x<5, [1,4,6,4,1]) ) "
   ]
  },
  {
   "cell_type": "markdown",
   "metadata": {},
   "source": [
    "### `filterfalse` 函数用法\n",
    "\n",
    "    filterfalse( predicate, iterable )\n",
    "\n",
    "创建一个迭代器，只返回 `iterable` 中 `predicate` 为 `true` 的元素。"
   ]
  },
  {
   "cell_type": "code",
   "execution_count": 129,
   "metadata": {},
   "outputs": [
    {
     "data": {
      "text/plain": [
       "[0, 2, 4, 6, 8]"
      ]
     },
     "execution_count": 129,
     "metadata": {},
     "output_type": "execute_result"
    }
   ],
   "source": [
    "list( itertools.filterfalse(lambda x: x%2, range(10)) )"
   ]
  },
  {
   "cell_type": "markdown",
   "metadata": {},
   "source": [
    "### ``islice`` 函数用法\n",
    "    \n",
    "    islice( iterable, stop)\n",
    "    islice( iterable, start, stop, step )\n",
    "    \n",
    "创建一个迭代器，返回从 `iterable` 里选中的元素。"
   ]
  },
  {
   "cell_type": "code",
   "execution_count": 137,
   "metadata": {},
   "outputs": [],
   "source": [
    "data = [1, 2, 3, 4, 5, 6]"
   ]
  },
  {
   "cell_type": "code",
   "execution_count": 138,
   "metadata": {},
   "outputs": [
    {
     "data": {
      "text/plain": [
       "[1, 2, 3]"
      ]
     },
     "execution_count": 138,
     "metadata": {},
     "output_type": "execute_result"
    }
   ],
   "source": [
    "list( itertools.islice(data, 3) )"
   ]
  },
  {
   "cell_type": "code",
   "execution_count": 134,
   "metadata": {},
   "outputs": [
    {
     "data": {
      "text/plain": [
       "[3, 4]"
      ]
     },
     "execution_count": 134,
     "metadata": {},
     "output_type": "execute_result"
    }
   ],
   "source": [
    "list( itertools.islice(data, 2, 4) )"
   ]
  },
  {
   "cell_type": "code",
   "execution_count": 135,
   "metadata": {},
   "outputs": [
    {
     "data": {
      "text/plain": [
       "[3, 4, 5, 6]"
      ]
     },
     "execution_count": 135,
     "metadata": {},
     "output_type": "execute_result"
    }
   ],
   "source": [
    "list( itertools.islice(data, 2, None) )"
   ]
  },
  {
   "cell_type": "code",
   "execution_count": 136,
   "metadata": {},
   "outputs": [
    {
     "data": {
      "text/plain": [
       "[1, 3, 5]"
      ]
     },
     "execution_count": 136,
     "metadata": {},
     "output_type": "execute_result"
    }
   ],
   "source": [
    "list( itertools.islice(data, 0, None, 2) )"
   ]
  },
  {
   "cell_type": "markdown",
   "metadata": {},
   "source": [
    "### `starmap` 函数用法\n",
    "\n",
    "    starmap( func, iterable )\n",
    "\n",
    "创建一个迭代器，使用从 `iterable` 中获取的参数来计算该函数。`starmap()` 与 `map()` 之间的区别可以类比 `function(*c)` 与 `function(a,b)` 的区别。该函数名字里面的 star 就是用来打散函数参数的 `*`。"
   ]
  },
  {
   "cell_type": "code",
   "execution_count": 142,
   "metadata": {},
   "outputs": [
    {
     "data": {
      "text/plain": [
       "[16, 9, 125]"
      ]
     },
     "execution_count": 142,
     "metadata": {},
     "output_type": "execute_result"
    }
   ],
   "source": [
    "list( itertools.starmap(pow, [(2,4),(3,2),(5,3)]) )"
   ]
  },
  {
   "cell_type": "markdown",
   "metadata": {},
   "source": [
    "### `takewhile` 函数用法\n",
    "\n",
    "    takewhile( predicate, iterable )\n",
    "\n",
    "创建一个迭代器，只要 `predicate` 为 `true`，就返回之前的元素。"
   ]
  },
  {
   "cell_type": "code",
   "execution_count": 140,
   "metadata": {},
   "outputs": [
    {
     "data": {
      "text/plain": [
       "[1, 4]"
      ]
     },
     "execution_count": 140,
     "metadata": {},
     "output_type": "execute_result"
    }
   ],
   "source": [
    "list( itertools.takewhile(lambda x: x<5, [1,4,6,4,1]) ) "
   ]
  },
  {
   "cell_type": "markdown",
   "metadata": {},
   "source": [
    "### `chain` 函数用法\n",
    "\n",
    "    chain(*iterables)\n",
    "\n",
    "设置三种可迭代对象，分别是列表型 `letters`，元组型 `numbers` 和 集合型 `names`。"
   ]
  },
  {
   "cell_type": "code",
   "execution_count": 97,
   "metadata": {},
   "outputs": [],
   "source": [
    "numbers = (1, 2, 3, 4)\n",
    "letters = ['a', 'b', 'c', 'd']\n",
    "names = {'Steven', 'Sherry'}"
   ]
  },
  {
   "cell_type": "markdown",
   "metadata": {},
   "source": [
    "用 `chain()` 将它们串起来成一个迭代器，再逐个遍历它里面的元素。"
   ]
  },
  {
   "cell_type": "code",
   "execution_count": 98,
   "metadata": {},
   "outputs": [
    {
     "name": "stdout",
     "output_type": "stream",
     "text": [
      "a\n",
      "b\n",
      "c\n",
      "d\n",
      "1\n",
      "2\n",
      "3\n",
      "4\n",
      "Steven\n",
      "Sherry\n"
     ]
    }
   ],
   "source": [
    "results = itertools.chain(letters, numbers, names)\n",
    "\n",
    "for items in results:\n",
    "    print(items)"
   ]
  },
  {
   "cell_type": "markdown",
   "metadata": {},
   "source": [
    "### <font color='#2b4750' face='微软雅黑'>3.3 排列组合迭代器</font><a name='3.3'></a>\n",
    "[<font color='black' face='微软雅黑'>回到章首</font>](#3)\n",
    "\n",
    "排列组合迭代器有四种：\n",
    "\n",
    "- `permutations`：无序，无重复元素\n",
    "- `combinations`：有序，无重复元素\n",
    "- `product`：无序，有重复元素，相当于 `permutations_with_replacement`\n",
    "- `combinations_with_replacement`：有序，有重复元素\n",
    "\n",
    "设置元组型 `numbers` 做为可迭代对象供下例使用。"
   ]
  },
  {
   "cell_type": "code",
   "execution_count": 70,
   "metadata": {},
   "outputs": [],
   "source": [
    "numbers = (1, 2, 3, 4)"
   ]
  },
  {
   "cell_type": "markdown",
   "metadata": {},
   "source": [
    "### `permutations` 函数用法\n",
    "    \n",
    "    permutations( iterable, r=None )\n",
    "    \n",
    "如果 r 未指定或为 `None` ，r 默认设置为 `iterable` 的长度，这种情况下，生成所有全长排列。\n",
    "\n",
    "从 `numbers = (1, 2, 3, 4)` 里面 4 个元素取出 4 个来排列 (元素位置不重要)，一共有 4! = 4\\*3\\*2\\*1 = 24 种排列。"
   ]
  },
  {
   "cell_type": "code",
   "execution_count": 92,
   "metadata": {},
   "outputs": [
    {
     "name": "stdout",
     "output_type": "stream",
     "text": [
      "(1, 2, 3, 4)\n",
      "(1, 2, 4, 3)\n",
      "(1, 3, 2, 4)\n",
      "(1, 3, 4, 2)\n",
      "(1, 4, 2, 3)\n",
      "(1, 4, 3, 2)\n",
      "(2, 1, 3, 4)\n",
      "(2, 1, 4, 3)\n",
      "(2, 3, 1, 4)\n",
      "(2, 3, 4, 1)\n",
      "(2, 4, 1, 3)\n",
      "(2, 4, 3, 1)\n",
      "(3, 1, 2, 4)\n",
      "(3, 1, 4, 2)\n",
      "(3, 2, 1, 4)\n",
      "(3, 2, 4, 1)\n",
      "(3, 4, 1, 2)\n",
      "(3, 4, 2, 1)\n",
      "(4, 1, 2, 3)\n",
      "(4, 1, 3, 2)\n",
      "(4, 2, 1, 3)\n",
      "(4, 2, 3, 1)\n",
      "(4, 3, 1, 2)\n",
      "(4, 3, 2, 1)\n"
     ]
    }
   ],
   "source": [
    "results = itertools.permutations(numbers)\n",
    "\n",
    "for items in results:\n",
    "    print(items)"
   ]
  },
  {
   "cell_type": "markdown",
   "metadata": {},
   "source": [
    "从 `numbers = (1, 2, 3, 4)` 里面 4 个元素取出 2 个来排列 (元素位置不重要)，一共有 4\\*3 = 12 种排列。"
   ]
  },
  {
   "cell_type": "code",
   "execution_count": 93,
   "metadata": {},
   "outputs": [
    {
     "name": "stdout",
     "output_type": "stream",
     "text": [
      "(1, 2)\n",
      "(1, 3)\n",
      "(1, 4)\n",
      "(2, 1)\n",
      "(2, 3)\n",
      "(2, 4)\n",
      "(3, 1)\n",
      "(3, 2)\n",
      "(3, 4)\n",
      "(4, 1)\n",
      "(4, 2)\n",
      "(4, 3)\n"
     ]
    }
   ],
   "source": [
    "results = itertools.permutations(numbers, 2)\n",
    "\n",
    "for items in results:\n",
    "    print(items)"
   ]
  },
  {
   "cell_type": "markdown",
   "metadata": {},
   "source": [
    "### `combinations` 函数用法\n",
    "    \n",
    "    combinations( iterable, r=None )\n",
    "\n",
    "返回由输入 `iterable` 中元素组成长度为 r 的子序列。组合按照字典序返回。所以如果输入 `iterable` 是有序的，生成的组合元组也是有序的。即使元素的值相同，不同位置的元素也被认为是不同的。如果元素各自不同，那么每个组合中没有重复元素。\n",
    "\n",
    "从 `numbers = (1, 2, 3, 4)` 里面 4 个元素取出 2 个来组合 (元素位置重要)，一共有 (4\\*3)/2! = 12/2 = 6 种组合。"
   ]
  },
  {
   "cell_type": "code",
   "execution_count": 94,
   "metadata": {},
   "outputs": [
    {
     "name": "stdout",
     "output_type": "stream",
     "text": [
      "(1, 2)\n",
      "(1, 3)\n",
      "(1, 4)\n",
      "(2, 3)\n",
      "(2, 4)\n",
      "(3, 4)\n"
     ]
    }
   ],
   "source": [
    "results = itertools.combinations(numbers, 2)\n",
    "\n",
    "for items in results:\n",
    "    print(items)"
   ]
  },
  {
   "cell_type": "markdown",
   "metadata": {},
   "source": [
    "### `product` 函数用法\n",
    "    \n",
    "    product( iterable, r=None )\n",
    "    \n",
    "穷举出所有从 `numbers = (1, 2, 3, 4)` 里面 4 个元素取出 2 个情况 (不同位置元素可以重复)，一共有 4\\*4 = 16 种情况。"
   ]
  },
  {
   "cell_type": "code",
   "execution_count": 95,
   "metadata": {},
   "outputs": [
    {
     "name": "stdout",
     "output_type": "stream",
     "text": [
      "(1, 1)\n",
      "(1, 2)\n",
      "(1, 3)\n",
      "(1, 4)\n",
      "(2, 1)\n",
      "(2, 2)\n",
      "(2, 3)\n",
      "(2, 4)\n",
      "(3, 1)\n",
      "(3, 2)\n",
      "(3, 3)\n",
      "(3, 4)\n",
      "(4, 1)\n",
      "(4, 2)\n",
      "(4, 3)\n",
      "(4, 4)\n"
     ]
    }
   ],
   "source": [
    "results = itertools.product(numbers, repeat=2)\n",
    "\n",
    "for items in results:\n",
    "    print(items)"
   ]
  },
  {
   "cell_type": "markdown",
   "metadata": {},
   "source": [
    "### `combinations_with_replacement` 函数用法\n",
    "    \n",
    "    combinations_with_replacement( iterable, r )\n",
    "\n",
    "返回由输入 `iterable` 中元素组成的长度为 r 的子序列，允许每个元素可重复出现。组合按照字典序返回。所以如果输入 `iterable` 是有序的，生成的组合元组也是有序的。不同位置的元素是不同的，即使它们的值相同。因此如果输入中的元素都是不同的话，返回的组合中元素也都会不同。\n",
    "\n",
    "从 `product()` 穷举的结果去除一些「位置不同但元素相同」的情况，比如 (1, 2) 和 (2, 1) 只保留一个，一共有 4\\*4 - (4\\*3)/2 = 16 - 6 = 10 种情况。"
   ]
  },
  {
   "cell_type": "code",
   "execution_count": 96,
   "metadata": {},
   "outputs": [
    {
     "name": "stdout",
     "output_type": "stream",
     "text": [
      "(1, 1)\n",
      "(1, 2)\n",
      "(1, 3)\n",
      "(1, 4)\n",
      "(2, 2)\n",
      "(2, 3)\n",
      "(2, 4)\n",
      "(3, 3)\n",
      "(3, 4)\n",
      "(4, 4)\n"
     ]
    }
   ],
   "source": [
    "results = itertools.combinations_with_replacement(numbers, 2)\n",
    "\n",
    "for items in results:\n",
    "    print(items)"
   ]
  },
  {
   "cell_type": "markdown",
   "metadata": {},
   "source": [
    "### 对比四种函数的同异："
   ]
  },
  {
   "cell_type": "code",
   "execution_count": 108,
   "metadata": {},
   "outputs": [],
   "source": [
    "numbers = (1,2,3,4)\n",
    "r = 2\n",
    "\n",
    "def analyzer( iterable, r ):\n",
    "    n = len(numbers)\n",
    "    i = 0\n",
    "    print('\\n穷举：product\\n')\n",
    "    for items in itertools.product(numbers, repeat=r):\n",
    "        i += 1\n",
    "        print(items)\n",
    "    print(f'\\n{n} 选 {r} 的穷举有 {i} 种情况')\n",
    "\n",
    "    i = 0\n",
    "    print('\\n排列：permuation\\n')\n",
    "    for items in itertools.permutations(numbers, r):\n",
    "        i += 1\n",
    "        print(items)\n",
    "    print(f'\\n{n} 选 {r} 的排列有 {i} 种情况')\n",
    "    \n",
    "    i = 0\n",
    "    print('\\n置换组合：combination with replacement\\n')\n",
    "    for items in itertools.combinations_with_replacement(numbers, r):\n",
    "        i += 1\n",
    "        print(items)\n",
    "    print(f'\\n{n} 选 {r} 的置换组合有 {i} 种情况')\n",
    "    \n",
    "    i = 0\n",
    "    print('\\n组合：combination\\n')\n",
    "    for items in itertools.combinations(numbers, r):\n",
    "        i += 1\n",
    "        print(items)\n",
    "    print(f'\\n{n} 选 {r} 的组合有 {i} 种情况')"
   ]
  },
  {
   "cell_type": "code",
   "execution_count": 109,
   "metadata": {},
   "outputs": [
    {
     "name": "stdout",
     "output_type": "stream",
     "text": [
      "\n",
      "穷举：product\n",
      "\n",
      "(1, 1)\n",
      "(1, 2)\n",
      "(1, 3)\n",
      "(1, 4)\n",
      "(2, 1)\n",
      "(2, 2)\n",
      "(2, 3)\n",
      "(2, 4)\n",
      "(3, 1)\n",
      "(3, 2)\n",
      "(3, 3)\n",
      "(3, 4)\n",
      "(4, 1)\n",
      "(4, 2)\n",
      "(4, 3)\n",
      "(4, 4)\n",
      "\n",
      "4 选 2 的穷举有 16 种情况\n",
      "\n",
      "排列：permuation\n",
      "\n",
      "(1, 2)\n",
      "(1, 3)\n",
      "(1, 4)\n",
      "(2, 1)\n",
      "(2, 3)\n",
      "(2, 4)\n",
      "(3, 1)\n",
      "(3, 2)\n",
      "(3, 4)\n",
      "(4, 1)\n",
      "(4, 2)\n",
      "(4, 3)\n",
      "\n",
      "4 选 2 的排列有 12 种情况\n",
      "\n",
      "置换组合：combination with replacement\n",
      "\n",
      "(1, 1)\n",
      "(1, 2)\n",
      "(1, 3)\n",
      "(1, 4)\n",
      "(2, 2)\n",
      "(2, 3)\n",
      "(2, 4)\n",
      "(3, 3)\n",
      "(3, 4)\n",
      "(4, 4)\n",
      "\n",
      "4 选 2 的置换组合有 10 种情况\n",
      "\n",
      "组合：combination\n",
      "\n",
      "(1, 2)\n",
      "(1, 3)\n",
      "(1, 4)\n",
      "(2, 3)\n",
      "(2, 4)\n",
      "(3, 4)\n",
      "\n",
      "4 选 2 的组合有 6 种情况\n"
     ]
    }
   ],
   "source": [
    "analyzer( numbers, r )"
   ]
  },
  {
   "cell_type": "code",
   "execution_count": 110,
   "metadata": {
    "scrolled": true
   },
   "outputs": [
    {
     "name": "stdout",
     "output_type": "stream",
     "text": [
      "\n",
      "穷举：product\n",
      "\n",
      "(1, 1, 1)\n",
      "(1, 1, 2)\n",
      "(1, 1, 3)\n",
      "(1, 1, 4)\n",
      "(1, 2, 1)\n",
      "(1, 2, 2)\n",
      "(1, 2, 3)\n",
      "(1, 2, 4)\n",
      "(1, 3, 1)\n",
      "(1, 3, 2)\n",
      "(1, 3, 3)\n",
      "(1, 3, 4)\n",
      "(1, 4, 1)\n",
      "(1, 4, 2)\n",
      "(1, 4, 3)\n",
      "(1, 4, 4)\n",
      "(2, 1, 1)\n",
      "(2, 1, 2)\n",
      "(2, 1, 3)\n",
      "(2, 1, 4)\n",
      "(2, 2, 1)\n",
      "(2, 2, 2)\n",
      "(2, 2, 3)\n",
      "(2, 2, 4)\n",
      "(2, 3, 1)\n",
      "(2, 3, 2)\n",
      "(2, 3, 3)\n",
      "(2, 3, 4)\n",
      "(2, 4, 1)\n",
      "(2, 4, 2)\n",
      "(2, 4, 3)\n",
      "(2, 4, 4)\n",
      "(3, 1, 1)\n",
      "(3, 1, 2)\n",
      "(3, 1, 3)\n",
      "(3, 1, 4)\n",
      "(3, 2, 1)\n",
      "(3, 2, 2)\n",
      "(3, 2, 3)\n",
      "(3, 2, 4)\n",
      "(3, 3, 1)\n",
      "(3, 3, 2)\n",
      "(3, 3, 3)\n",
      "(3, 3, 4)\n",
      "(3, 4, 1)\n",
      "(3, 4, 2)\n",
      "(3, 4, 3)\n",
      "(3, 4, 4)\n",
      "(4, 1, 1)\n",
      "(4, 1, 2)\n",
      "(4, 1, 3)\n",
      "(4, 1, 4)\n",
      "(4, 2, 1)\n",
      "(4, 2, 2)\n",
      "(4, 2, 3)\n",
      "(4, 2, 4)\n",
      "(4, 3, 1)\n",
      "(4, 3, 2)\n",
      "(4, 3, 3)\n",
      "(4, 3, 4)\n",
      "(4, 4, 1)\n",
      "(4, 4, 2)\n",
      "(4, 4, 3)\n",
      "(4, 4, 4)\n",
      "\n",
      "4 选 3 的穷举有 64 种情况\n",
      "\n",
      "排列：permuation\n",
      "\n",
      "(1, 2, 3)\n",
      "(1, 2, 4)\n",
      "(1, 3, 2)\n",
      "(1, 3, 4)\n",
      "(1, 4, 2)\n",
      "(1, 4, 3)\n",
      "(2, 1, 3)\n",
      "(2, 1, 4)\n",
      "(2, 3, 1)\n",
      "(2, 3, 4)\n",
      "(2, 4, 1)\n",
      "(2, 4, 3)\n",
      "(3, 1, 2)\n",
      "(3, 1, 4)\n",
      "(3, 2, 1)\n",
      "(3, 2, 4)\n",
      "(3, 4, 1)\n",
      "(3, 4, 2)\n",
      "(4, 1, 2)\n",
      "(4, 1, 3)\n",
      "(4, 2, 1)\n",
      "(4, 2, 3)\n",
      "(4, 3, 1)\n",
      "(4, 3, 2)\n",
      "\n",
      "4 选 3 的排列有 24 种情况\n",
      "\n",
      "置换组合：combination with replacement\n",
      "\n",
      "(1, 1, 1)\n",
      "(1, 1, 2)\n",
      "(1, 1, 3)\n",
      "(1, 1, 4)\n",
      "(1, 2, 2)\n",
      "(1, 2, 3)\n",
      "(1, 2, 4)\n",
      "(1, 3, 3)\n",
      "(1, 3, 4)\n",
      "(1, 4, 4)\n",
      "(2, 2, 2)\n",
      "(2, 2, 3)\n",
      "(2, 2, 4)\n",
      "(2, 3, 3)\n",
      "(2, 3, 4)\n",
      "(2, 4, 4)\n",
      "(3, 3, 3)\n",
      "(3, 3, 4)\n",
      "(3, 4, 4)\n",
      "(4, 4, 4)\n",
      "\n",
      "4 选 3 的置换组合有 20 种情况\n",
      "\n",
      "组合：combination\n",
      "\n",
      "(1, 2, 3)\n",
      "(1, 2, 4)\n",
      "(1, 3, 4)\n",
      "(2, 3, 4)\n",
      "\n",
      "4 选 3 的组合有 4 种情况\n"
     ]
    }
   ],
   "source": [
    "analyzer( numbers, 3 )"
   ]
  }
 ],
 "metadata": {
  "kernelspec": {
   "display_name": "Python 3",
   "language": "python",
   "name": "python3"
  },
  "language_info": {
   "codemirror_mode": {
    "name": "ipython",
    "version": 3
   },
   "file_extension": ".py",
   "mimetype": "text/x-python",
   "name": "python",
   "nbconvert_exporter": "python",
   "pygments_lexer": "ipython3",
   "version": "3.7.3"
  }
 },
 "nbformat": 4,
 "nbformat_minor": 2
}
