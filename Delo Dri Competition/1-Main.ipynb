{
 "cells": [
  {
   "cell_type": "markdown",
   "id": "422f0351",
   "metadata": {},
   "source": [
    "# Library"
   ]
  },
  {
   "cell_type": "code",
   "execution_count": 1,
   "id": "fe6ed799-089a-4247-9c50-090635667bdf",
   "metadata": {
    "tags": []
   },
   "outputs": [],
   "source": [
    "import config\n",
    "import functions.functions\n",
    "\n",
    "# Data processing\n",
    "import numpy as np\n",
    "import pandas as pd\n",
    "\n",
    "from tqdm import tqdm\n",
    "from tqdm import trange\n",
    "\n",
    "# Ignoring bothering warnings\n",
    "import warnings\n",
    "warnings.filterwarnings('ignore')\n",
    "\n",
    "# Scikit-Learn\n",
    "from sklearn.preprocessing import StandardScaler\n",
    "\n",
    "from sklearn.linear_model import LinearRegression\n",
    "from sklearn.linear_model import ElasticNet\n",
    "\n",
    "\n",
    "from sklearn.metrics import mean_squared_error\n",
    "\n",
    "from mrmr import mrmr_regression\n"
   ]
  },
  {
   "cell_type": "code",
   "execution_count": 5,
   "id": "19f4f6ed",
   "metadata": {},
   "outputs": [],
   "source": [
    "# result = pd.DataFrame(columns=[\"Data\", \"Standardizer\", \"Group\", \"Model\", \"Train_RMSE\", \"Test_RMSE\", \"num_features\", \"params\"])\n",
    "# result.to_csv(\"models_result.csv\")"
   ]
  },
  {
   "cell_type": "markdown",
   "id": "f9927cd6",
   "metadata": {},
   "source": [
    "# Benchmark - OLS"
   ]
  },
  {
   "cell_type": "code",
   "execution_count": 6,
   "id": "0698893f",
   "metadata": {},
   "outputs": [
    {
     "name": "stderr",
     "output_type": "stream",
     "text": [
      "100%|██████████| 3/3 [01:21<00:00, 27.24s/it]\n"
     ]
    }
   ],
   "source": [
    "variables_list = config.variables_complet\n",
    "data_name = \"Original\"\n",
    "\n",
    "CHR2, CHR8, CHRt = functions.functions.load_csv_3_groups()\n",
    "list = [CHR2, CHR8, CHRt]\n",
    "\n",
    "for data in tqdm(list):    \n",
    "    result = pd.read_csv(\"models_result.csv\", index_col=0)\n",
    "    Group_name = data[\"CHRONIQUE\"].unique()[0]\n",
    "    X, y, X_train, X_test, y_train, y_test = functions.functions.train_test_data(data, variables_list)\n",
    "\n",
    "    result = functions.functions.Linear_Regression(X, y, X_train, y_train, X_test, y_test, result, data_name, Group_name, standardizer=\"S\")\n",
    "    result = functions.functions.Linear_Regression_Elas(X, y, X_train, y_train, X_test, y_test, result, data_name, Group_name, standardizer=\"S\")\n",
    "    # result = functions.functions.Polynomial_Regression_Elas(X, y, X_train, y_train, X_test, y_test, result, data_name, Group_name)\n",
    "    result.to_csv(\"models_result.csv\")\n",
    "    \n",
    "\n"
   ]
  },
  {
   "attachments": {},
   "cell_type": "markdown",
   "id": "56afba0d",
   "metadata": {},
   "source": [
    "# OLS - Features Manuelly Selected"
   ]
  },
  {
   "cell_type": "markdown",
   "id": "70bc1ff4",
   "metadata": {},
   "source": [
    "French Hourly Wage"
   ]
  },
  {
   "cell_type": "code",
   "execution_count": 7,
   "id": "cd4ea385",
   "metadata": {},
   "outputs": [
    {
     "name": "stderr",
     "output_type": "stream",
     "text": [
      "100%|██████████| 3/3 [01:29<00:00, 29.69s/it]\n"
     ]
    }
   ],
   "source": [
    "variables_list = config.complet_hwage\n",
    "data_name = \"Original+hw+CAC40\"\n",
    "\n",
    "CHR2, CHR8, CHRt = functions.functions.load_csv_3_groups()\n",
    "list = [CHR2, CHR8, CHRt]\n",
    "\n",
    "for data in tqdm(list):    \n",
    "    result = pd.read_csv(\"models_result.csv\", index_col=0)\n",
    "    Group_name = data[\"CHRONIQUE\"].unique()[0]\n",
    "    X, y, X_train, X_test, y_train, y_test = functions.functions.train_test_data(data, variables_list)\n",
    "\n",
    "    result = functions.functions.Linear_Regression(X, y, X_train, y_train, X_test, y_test, result, data_name, Group_name, standardizer=\"S\")\n",
    "    result = functions.functions.Linear_Regression_Elas(X, y, X_train, y_train, X_test, y_test, result, data_name, Group_name, standardizer=\"S\")\n",
    "    # result = functions.functions.Polynomial_Regression_Elas(X, y, X_train, y_train, X_test, y_test, result, data_name, Group_name)\n",
    "    result.to_csv(\"models_result.csv\")"
   ]
  },
  {
   "cell_type": "markdown",
   "id": "9009708b",
   "metadata": {},
   "source": [
    "10_50_90 percentile + optional"
   ]
  },
  {
   "cell_type": "code",
   "execution_count": 8,
   "id": "29c06f87",
   "metadata": {},
   "outputs": [
    {
     "name": "stderr",
     "output_type": "stream",
     "text": [
      "100%|██████████| 3/3 [01:15<00:00, 25.05s/it]\n"
     ]
    }
   ],
   "source": [
    "variables_list = config.variables_10_50_90_optional\n",
    "data_name = \"10_50_90_opt\"\n",
    "\n",
    "CHR2, CHR8, CHRt = functions.functions.load_csv_3_groups()\n",
    "list = [CHR2, CHR8, CHRt]\n",
    "\n",
    "for data in tqdm(list):    \n",
    "    result = pd.read_csv(\"models_result.csv\", index_col=0)\n",
    "    Group_name = data[\"CHRONIQUE\"].unique()[0]\n",
    "    X, y, X_train, X_test, y_train, y_test = functions.functions.train_test_data(data, variables_list)\n",
    "\n",
    "    result = functions.functions.Linear_Regression(X, y, X_train, y_train, X_test, y_test, result, data_name, Group_name, standardizer=\"S\")\n",
    "    result = functions.functions.Linear_Regression_Elas(X, y, X_train, y_train, X_test, y_test, result, data_name, Group_name, standardizer=\"S\")\n",
    "    # result = functions.functions.Polynomial_Regression_Elas(X, y, X_train, y_train, X_test, y_test, result, data_name, Group_name)\n",
    "    result.to_csv(\"models_result.csv\")\n",
    "    \n"
   ]
  },
  {
   "cell_type": "markdown",
   "id": "af8a3208",
   "metadata": {},
   "source": [
    "10_50_90 percentile + optional + french hourly wage"
   ]
  },
  {
   "cell_type": "code",
   "execution_count": 9,
   "id": "45265eed",
   "metadata": {},
   "outputs": [
    {
     "name": "stderr",
     "output_type": "stream",
     "text": [
      "100%|██████████| 3/3 [01:18<00:00, 26.15s/it]\n"
     ]
    }
   ],
   "source": [
    "variables_list = config.variables_10_50_90_optional_hwage\n",
    "data_name = \"10_50_90_opt+hw+CAC40\"\n",
    "\n",
    "CHR2, CHR8, CHRt = functions.functions.load_csv_3_groups()\n",
    "list = [CHR2, CHR8, CHRt]\n",
    "\n",
    "for data in tqdm(list):    \n",
    "    result = pd.read_csv(\"models_result.csv\", index_col=0)\n",
    "    Group_name = data[\"CHRONIQUE\"].unique()[0]\n",
    "    X, y, X_train, X_test, y_train, y_test = functions.functions.train_test_data(data, variables_list)\n",
    "\n",
    "    result = functions.functions.Linear_Regression(X, y, X_train, y_train, X_test, y_test, result, data_name, Group_name, standardizer=\"S\")\n",
    "    result = functions.functions.Linear_Regression_Elas(X, y, X_train, y_train, X_test, y_test, result, data_name, Group_name, standardizer=\"S\")\n",
    "    # result = functions.functions.Polynomial_Regression_Elas(X, y, X_train, y_train, X_test, y_test, result, data_name, Group_name)\n",
    "    result.to_csv(\"models_result.csv\")"
   ]
  },
  {
   "cell_type": "markdown",
   "id": "c950493c",
   "metadata": {},
   "source": [
    "10_50_90 percentile"
   ]
  },
  {
   "cell_type": "code",
   "execution_count": 10,
   "id": "c3092a46",
   "metadata": {},
   "outputs": [
    {
     "name": "stderr",
     "output_type": "stream",
     "text": [
      "100%|██████████| 3/3 [01:05<00:00, 21.77s/it]\n"
     ]
    }
   ],
   "source": [
    "variables_list = config.variables_10_50_90\n",
    "data_name = \"10_50_90\"\n",
    "\n",
    "CHR2, CHR8, CHRt = functions.functions.load_csv_3_groups()\n",
    "list = [CHR2, CHR8, CHRt]\n",
    "\n",
    "for data in tqdm(list):    \n",
    "    result = pd.read_csv(\"models_result.csv\", index_col=0)\n",
    "    Group_name = data[\"CHRONIQUE\"].unique()[0]\n",
    "    X, y, X_train, X_test, y_train, y_test = functions.functions.train_test_data(data, variables_list)\n",
    "\n",
    "    result = functions.functions.Linear_Regression(X, y, X_train, y_train, X_test, y_test, result, data_name, Group_name, standardizer=\"S\")\n",
    "    result = functions.functions.Linear_Regression_Elas(X, y, X_train, y_train, X_test, y_test, result, data_name, Group_name, standardizer=\"S\")\n",
    "    # result = functions.functions.Polynomial_Regression_Elas(X, y, X_train, y_train, X_test, y_test, result, data_name, Group_name)\n",
    "    result.to_csv(\"models_result.csv\")\n",
    "    \n"
   ]
  },
  {
   "cell_type": "markdown",
   "id": "ddc77df7",
   "metadata": {},
   "source": [
    "10_50_90 percentile + french hourly wage"
   ]
  },
  {
   "cell_type": "code",
   "execution_count": 11,
   "id": "8e2a9121",
   "metadata": {},
   "outputs": [
    {
     "name": "stderr",
     "output_type": "stream",
     "text": [
      "100%|██████████| 3/3 [01:04<00:00, 21.39s/it]\n"
     ]
    }
   ],
   "source": [
    "variables_list = config.variables_10_50_90_hwage\n",
    "data_name = \"10_50_90+hw+CAC40\"\n",
    "\n",
    "CHR2, CHR8, CHRt = functions.functions.load_csv_3_groups()\n",
    "list = [CHR2, CHR8, CHRt]\n",
    "\n",
    "for data in tqdm(list):    \n",
    "    result = pd.read_csv(\"models_result.csv\", index_col=0)\n",
    "    Group_name = data[\"CHRONIQUE\"].unique()[0]\n",
    "    X, y, X_train, X_test, y_train, y_test = functions.functions.train_test_data(data, variables_list)\n",
    "\n",
    "    result = functions.functions.Linear_Regression(X, y, X_train, y_train, X_test, y_test, result, data_name, Group_name, standardizer=\"S\")\n",
    "    result = functions.functions.Linear_Regression_Elas(X, y, X_train, y_train, X_test, y_test, result, data_name, Group_name, standardizer=\"S\")\n",
    "    # result = functions.functions.Polynomial_Regression_Elas(X, y, X_train, y_train, X_test, y_test, result, data_name, Group_name)\n",
    "    result.to_csv(\"models_result.csv\")"
   ]
  },
  {
   "cell_type": "markdown",
   "id": "12ac1e03",
   "metadata": {},
   "source": [
    "# PCA"
   ]
  },
  {
   "cell_type": "markdown",
   "id": "b9592b3c",
   "metadata": {},
   "source": [
    "normal data"
   ]
  },
  {
   "cell_type": "code",
   "execution_count": 12,
   "id": "43aa3e43",
   "metadata": {},
   "outputs": [
    {
     "name": "stderr",
     "output_type": "stream",
     "text": [
      "100%|██████████| 3/3 [00:59<00:00, 19.87s/it]\n",
      "100%|██████████| 3/3 [01:06<00:00, 22.13s/it]\n"
     ]
    }
   ],
   "source": [
    "# normal data\n",
    "for number_pca in [3, 4]:\n",
    "    CHR2, CHR8, CHRt = functions.functions.load_csv_3_groups()\n",
    "    list = [CHR2, CHR8, CHRt]\n",
    "\n",
    "    variables_list = config.variables_complet\n",
    "    data_name = \"PCA_\"+str(number_pca)+\"_complet\"\n",
    "\n",
    "    for data in tqdm(list):\n",
    "        result = pd.read_csv(\"models_result.csv\", index_col=0)\n",
    "        Group_name = data[\"CHRONIQUE\"].unique()[0]\n",
    "        X, y, X_train, X_test, y_train, y_test = functions.functions.pca_pipeline(data, variables_list, \n",
    "                        PCA_n_components=number_pca, groupby_columns=config.variables_pca_complet, complement_data_columns = config.pca_complement_data)\n",
    "        \n",
    "        result = functions.functions.Linear_Regression(X, y, X_train, y_train, X_test, y_test, result, data_name, Group_name, standardizer=\"S\")\n",
    "        result = functions.functions.Linear_Regression_Elas(X, y, X_train, y_train, X_test, y_test, result, data_name, Group_name, standardizer=\"S\")\n",
    "        # result = functions.functions.Polynomial_Regression_Elas(X, y, X_train, y_train, X_test, y_test, result, data_name, Group_name)\n",
    "        result.to_csv(\"models_result.csv\")"
   ]
  },
  {
   "cell_type": "markdown",
   "id": "aed114aa",
   "metadata": {},
   "source": [
    "with hwage data"
   ]
  },
  {
   "cell_type": "code",
   "execution_count": 13,
   "id": "0cb98a2f",
   "metadata": {},
   "outputs": [
    {
     "name": "stderr",
     "output_type": "stream",
     "text": [
      "100%|██████████| 3/3 [01:05<00:00, 21.68s/it]\n",
      "100%|██████████| 3/3 [01:07<00:00, 22.55s/it]\n"
     ]
    }
   ],
   "source": [
    "# with hwage data\n",
    "for number_pca in [3, 4]:\n",
    "    CHR2, CHR8, CHRt = functions.functions.load_csv_3_groups()\n",
    "    list = [CHR2, CHR8, CHRt]\n",
    "\n",
    "    variables_list = config.complet_hwage\n",
    "    data_name = \"PCA_\"+str(number_pca)+\"_complet+hw+CAC40\"\n",
    "\n",
    "    for data in tqdm(list):\n",
    "        result = pd.read_csv(\"models_result.csv\", index_col=0)\n",
    "        Group_name = data[\"CHRONIQUE\"].unique()[0]\n",
    "        X, y, X_train, X_test, y_train, y_test = functions.functions.pca_pipeline(data, variables_list, \n",
    "                            PCA_n_components=number_pca, groupby_columns=config.variables_pca_complet, complement_data_columns= config.pca_complement_data_hw)\n",
    "        \n",
    "        result = functions.functions.Linear_Regression(X, y, X_train, y_train, X_test, y_test, result, data_name, Group_name, standardizer=\"S\")\n",
    "        result = functions.functions.Linear_Regression_Elas(X, y, X_train, y_train, X_test, y_test, result, data_name, Group_name, standardizer=\"S\")\n",
    "        # result = functions.functions.Polynomial_Regression_Elas(X, y, X_train, y_train, X_test, y_test, result, data_name, Group_name)\n",
    "        result.to_csv(\"models_result.csv\")"
   ]
  },
  {
   "cell_type": "markdown",
   "id": "cf0a2d83",
   "metadata": {},
   "source": [
    "# mRMR"
   ]
  },
  {
   "cell_type": "code",
   "execution_count": 2,
   "id": "864953b3",
   "metadata": {},
   "outputs": [],
   "source": [
    "# for data_type in tqdm([\"normal\", \"Poly\", \"DeTemp\", \"Poly+DeTemp\"]):\n",
    "def mRMR_pipeline(data_type, K_start, K_end, K_interval):\n",
    "    CHR2, CHR8, CHRt = functions.functions.load_csv_3_groups(data_type=data_type)\n",
    "    list = [CHR2, CHR8, CHRt]\n",
    "    for mrmr_K in tqdm(range(K_start, K_end+1, K_interval), total=len(range(K_start, K_end+1, K_interval))):\n",
    "        data_name = functions.functions.mRMR_data_name(mrmr_K, data_type)\n",
    "        for data in list:\n",
    "            Group_name = data[\"CHRONIQUE\"].unique()[0]\n",
    "\n",
    "            # Featurs selection part with mRMR\n",
    "            X = data[data.drop(columns=[\"CHRONIQUE\", config.label]).columns.values.tolist()]\n",
    "            y = data[config.label]\n",
    "            features_mRMR = mrmr_regression(X=X, y=y, K=mrmr_K)\n",
    "\n",
    "            # Data split for training\n",
    "            X, y, X_train, X_test, y_train, y_test = functions.functions.train_test_data(data, features_mRMR)\n",
    "            \n",
    "            result = pd.read_csv(\"models_result.csv\", index_col=0)\n",
    "\n",
    "            result = functions.functions.Linear_Regression(X, y, X_train, y_train, X_test, y_test, result, data_name, Group_name, \n",
    "                                                            standardizer=\"S\", features_mRMR=features_mRMR)\n",
    "            result = functions.functions.Linear_Regression_Elas(X, y, X_train, y_train, X_test, y_test, result, data_name, Group_name, \n",
    "                                                            standardizer=\"S\", features_mRMR=features_mRMR)\n",
    "            # result = functions.functions.Polynomial_Regression_Elas(X, y, X_train, y_train, X_test, y_test, result, data_name, Group_name, \n",
    "                                                            # standardizer=\"S\", features_mRMR=features_mRMR)\n",
    "            \n",
    "            result.to_csv(\"models_result.csv\")"
   ]
  },
  {
   "cell_type": "code",
   "execution_count": null,
   "id": "b84ef50c",
   "metadata": {},
   "outputs": [],
   "source": [
    "mRMR_pipeline(\"normal\", 1, 30, 1) # around 20 minuites Sabir"
   ]
  },
  {
   "cell_type": "code",
   "execution_count": null,
   "id": "5611cd0a",
   "metadata": {},
   "outputs": [],
   "source": [
    "mRMR_pipeline(\"Poly\", 1, 30, 1) # around 45 minuites Hongbo"
   ]
  },
  {
   "cell_type": "code",
   "execution_count": null,
   "id": "73416ff8",
   "metadata": {},
   "outputs": [],
   "source": [
    "mRMR_pipeline(\"DeTemp\", 1, 30, 1) # around 45 minuites Sarha"
   ]
  },
  {
   "cell_type": "code",
   "execution_count": null,
   "id": "b5efabed",
   "metadata": {},
   "outputs": [],
   "source": [
    "mRMR_pipeline(\"Poly+DeTemp\", 26, 30, 1) # around 60 minuites"
   ]
  },
  {
   "attachments": {},
   "cell_type": "markdown",
   "id": "8ef239bd",
   "metadata": {},
   "source": [
    "# Ensemble Models"
   ]
  },
  {
   "cell_type": "code",
   "execution_count": 5,
   "id": "cde9df76",
   "metadata": {},
   "outputs": [],
   "source": [
    "# for data_type in tqdm([\"normal\", \"Poly\", \"DeTemp\", \"Poly+DeTemp\"]):\n",
    "def mRMR_ensemble_pipeline(data_type, K_start, K_end, K_interval):\n",
    "    CHR2, CHR8, CHRt = functions.functions.load_csv_3_groups(data_type=data_type)\n",
    "    list = [CHR2, CHR8, CHRt]\n",
    "    for mrmr_K in tqdm(range(K_start, K_end+1, K_interval), total=len(range(K_start, K_end+1, K_interval))):\n",
    "        data_name = functions.functions.mRMR_data_name(mrmr_K, data_type)\n",
    "        for data in list:\n",
    "            Group_name = data[\"CHRONIQUE\"].unique()[0]\n",
    "\n",
    "            # Featurs selection part with mRMR\n",
    "            X = data[data.drop(columns=[\"CHRONIQUE\", config.label]).columns.values.tolist()]\n",
    "            y = data[config.label]\n",
    "            features_mRMR = mrmr_regression(X=X, y=y, K=mrmr_K)\n",
    "\n",
    "            # Data split for training\n",
    "            X, y, X_train, X_test, y_train, y_test = functions.functions.train_test_data(data, features_mRMR)\n",
    "            \n",
    "            result = pd.read_csv(\"models_result.csv\", index_col=0)\n",
    "\n",
    "            result = functions.functions.Random_Forest_Regresssion(X, y, X_train, y_train, X_test, y_test, result, data_name, Group_name, mrmr_K, features_mRMR=features_mRMR)\n",
    "            # result = functions.functions.XGBoost_Regression(X, y, X_train, y_train, X_test, y_test, result, data_name, Group_name, features_mRMR=features_mRMR)\n",
    "            \n",
    "            result.to_csv(\"models_result.csv\")"
   ]
  },
  {
   "cell_type": "code",
   "execution_count": null,
   "id": "0ffea26d",
   "metadata": {},
   "outputs": [],
   "source": [
    "mRMR_ensemble_pipeline(\"normal\", 10, 70, 10) # Sabir"
   ]
  },
  {
   "cell_type": "code",
   "execution_count": null,
   "id": "e97498ae",
   "metadata": {},
   "outputs": [],
   "source": [
    "mRMR_ensemble_pipeline(\"Poly\", 10, 100, 10)  # Hongbo"
   ]
  },
  {
   "cell_type": "code",
   "execution_count": null,
   "id": "778ea391",
   "metadata": {},
   "outputs": [],
   "source": [
    "mRMR_ensemble_pipeline(\"DeTemp\", 10, 100, 10)  # Sabir"
   ]
  },
  {
   "cell_type": "code",
   "execution_count": null,
   "id": "0b0fea91",
   "metadata": {},
   "outputs": [],
   "source": [
    "mRMR_ensemble_pipeline(\"Poly+DeTemp\", 10, 100, 10) # Sarha"
   ]
  }
 ],
 "metadata": {
  "kernelspec": {
   "display_name": "Python 3.9.7 ('base')",
   "language": "python",
   "name": "python3"
  },
  "language_info": {
   "codemirror_mode": {
    "name": "ipython",
    "version": 3
   },
   "file_extension": ".py",
   "mimetype": "text/x-python",
   "name": "python",
   "nbconvert_exporter": "python",
   "pygments_lexer": "ipython3",
   "version": "3.9.7 (default, Sep 16 2021, 16:59:28) [MSC v.1916 64 bit (AMD64)]"
  },
  "vscode": {
   "interpreter": {
    "hash": "b09ec625f77bf4fd762565a912b97636504ad6ec901eb2d0f4cf5a7de23e1ee5"
   }
  },
  "widgets": {
   "application/vnd.jupyter.widget-state+json": {
    "state": {},
    "version_major": 2,
    "version_minor": 0
   }
  }
 },
 "nbformat": 4,
 "nbformat_minor": 5
}
